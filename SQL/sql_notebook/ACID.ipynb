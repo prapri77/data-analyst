{
 "cells": [
  {
   "cell_type": "code",
   "execution_count": null,
   "id": "a5b270d0-40ea-42ee-a1fa-80a664b44115",
   "metadata": {},
   "outputs": [],
   "source": [
    "\n",
    "ACID \n",
    "\n",
    "1. Atomicity #ALL PASS OR ALL FAIL IF ONE FAILS\n",
    "\n",
    "Atomicity means that a transaction is treated as a single, indivisible unit.\n",
    "Either all the operations in the transaction are completed successfully, or none of them are. There's no in-between state.\n",
    "1. savings 199 debit   2. credit to netflix 199 \n",
    "pass \t\t\t\t\tfail\n",
    "\n",
    "199 return \n",
    "\n",
    "\n",
    "2.Consistency #it should be consistency\n",
    "Consistency ensures that a transaction brings the database from one valid state to another, following all the defined rules (like constraints, triggers, etc.).\n",
    "\n",
    "Before the transaction:\n",
    "\n",
    "trade account : $500\n",
    "murtual funds: $300\n",
    "Total: $800\n",
    "Transaction: Transfer $100 from trade account to murtual funds .\n",
    "\n",
    "After the transaction:\n",
    "\n",
    "trade account : $400\n",
    "murtual funds: $400\n",
    "Total: $800\n",
    "\n",
    "\n",
    "trade account : $500\n",
    "murtual funds: $400\n",
    "Total: $900\n",
    "\n",
    " \n",
    "3. Isolation #many can send money to one person at same time without error\n",
    "Isolation means that transactions running concurrently do not interfere with each other. Each transaction should be executed as if it is the only one in the system.\n",
    "\n",
    "Person A is transferring $100.\n",
    "Person B is transferring $200.\n",
    "\n",
    "4. Durability  #if database crash also transaction should be done\n",
    "\n",
    "Durability guarantees that once a transaction has been committed, it will remain so, even in the event of a system failure like a power outage or crash.\n",
    "\n",
    "Even if the database crashes immediately after, when it comes back online, the transfer is still reflected in your account balances.\n"
   ]
  }
 ],
 "metadata": {
  "kernelspec": {
   "display_name": "Python 3 (ipykernel)",
   "language": "python",
   "name": "python3"
  },
  "language_info": {
   "codemirror_mode": {
    "name": "ipython",
    "version": 3
   },
   "file_extension": ".py",
   "mimetype": "text/x-python",
   "name": "python",
   "nbconvert_exporter": "python",
   "pygments_lexer": "ipython3",
   "version": "3.13.3"
  }
 },
 "nbformat": 4,
 "nbformat_minor": 5
}
