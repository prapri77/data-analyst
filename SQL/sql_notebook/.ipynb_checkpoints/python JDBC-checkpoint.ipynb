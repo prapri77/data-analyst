{
 "cells": [
  {
   "cell_type": "code",
   "execution_count": null,
   "id": "5465041e-55ef-4b4f-b4fe-ec675df34478",
   "metadata": {},
   "outputs": [],
   "source": [
    "Step 1\n",
    "\n",
    "pip install mysql-connector-python\n",
    "\n",
    "\n",
    "\n",
    "Step 2 \n",
    "Code\n",
    "\n",
    "import mysql.connector\n",
    "from mysql.connector import Error\n",
    "\n",
    "try:\n",
    "    # Establish the connection\n",
    "    connection = mysql.connector.connect(\n",
    "        host='localhost',            # e.g., 'localhost' or the IP address of your MySQL server\n",
    "        database='your_database',    # the name of the database you created\n",
    "        user='your_username',        # your MySQL username\n",
    "        password='your_password'     # your MySQL password\n",
    "    )\n",
    "\n",
    "    if connection.is_connected():\n",
    "        print(\"Connected to MySQL database\")\n",
    "\n",
    "        # Create a cursor object using the connection\n",
    "        cursor = connection.cursor()\n",
    "\n",
    "        # Define your query (for example, selecting all rows from a table)\n",
    "        query = \"SELECT * FROM your_table\"\n",
    "\n",
    "        # Execute the query\n",
    "        cursor.execute(query)\n",
    "\n",
    "        # Fetch all rows from the executed query\n",
    "        rows = cursor.fetchall()\n",
    "\n",
    "        # Process the rows\n",
    "        for row in rows:\n",
    "            print(row)\n",
    "\n",
    "except Error as e:\n",
    "    print(\"Error while connecting to MySQL\", e)\n",
    "\n",
    "finally:\n",
    "    # Close the cursor and connection\n",
    "    if connection.is_connected():\n",
    "        cursor.close()\n",
    "        connection.close()\n",
    "        print(\"MySQL connection is closed\")\n",
    "\n",
    "MY PYTHON AND MYSQL CONNECTOR PATH IS \n",
    "\n",
    "C:\\Users\\Prashant\\AppData\\Local\\Programs\\Python\\Python313\\Lib\\site-packages #go to this path with python file\n",
    "\n",
    "then terminal do python mysql_examples.py to run  the database \n",
    "\n"
   ]
  },
  {
   "cell_type": "code",
   "execution_count": null,
   "id": "b6158c3f-f409-496c-a74f-b11d8d8d3b77",
   "metadata": {},
   "outputs": [],
   "source": []
  }
 ],
 "metadata": {
  "kernelspec": {
   "display_name": "Python 3 (ipykernel)",
   "language": "python",
   "name": "python3"
  },
  "language_info": {
   "codemirror_mode": {
    "name": "ipython",
    "version": 3
   },
   "file_extension": ".py",
   "mimetype": "text/x-python",
   "name": "python",
   "nbconvert_exporter": "python",
   "pygments_lexer": "ipython3",
   "version": "3.13.3"
  }
 },
 "nbformat": 4,
 "nbformat_minor": 5
}
