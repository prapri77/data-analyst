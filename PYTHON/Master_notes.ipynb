{
 "cells": [
  {
   "cell_type": "markdown",
   "id": "af637660-373d-4c39-ad22-95fdecd3b335",
   "metadata": {},
   "source": [
    " # Python :\n",
    "     => developed on 1989 and released 1991 the author name is guido von rossum\n",
    "     => highlevel programming language(a programming language can do lot of work in few lines of code)\n",
    "     => easy syntax language\n",
    "     => dynamically typed programming launguage\n",
    "     => interpretted programming language(line by line execution when the runtime)\n",
    "     => platform independent\n",
    "     => object oriented and functional programming language\n",
    "     => open source & large community support it is having\n",
    "     => embedded programming language()"
   ]
  },
  {
   "cell_type": "markdown",
   "id": "2d34485f-28c9-48f5-8a4e-c807914da142",
   "metadata": {},
   "source": [
    "# What Are Comments\n",
    "    comments are lines of code that are ignored by the interpretter(python console)\n",
    "    => explain code: by putting notes we make our code more readable\n",
    "    => provide the information about the purpose of a function, class, or module\n",
    "    => debug code: temproarily disable parts which causes the  isolate issues and resolve it\n",
    "\n",
    "    => Single line comments-- using the # we create single line comment(your interpretter won't execute the code or the lines which comes after #)\n",
    "    => Documentation String: \"\"\" \"\"\"  used for longer explanations or documentation "
   ]
  },
  {
   "cell_type": "code",
   "execution_count": 1,
   "id": "6da5e926-7753-4d81-98f5-f0dd013ad1a5",
   "metadata": {},
   "outputs": [
    {
     "name": "stdout",
     "output_type": "stream",
     "text": [
      "hello world\n",
      "10\n"
     ]
    }
   ],
   "source": [
    "# print -- used to display results on the output console mainly used for debugging\n",
    "\n",
    "print(\"hello world\")\n",
    "print(4+6)"
   ]
  },
  {
   "cell_type": "code",
   "execution_count": 2,
   "id": "5cd8db29-bb2c-4dbd-9081-4757ec4d5a23",
   "metadata": {},
   "outputs": [
    {
     "name": "stdout",
     "output_type": "stream",
     "text": [
      "hello world 'dr' \n"
     ]
    }
   ],
   "source": [
    "print(\"hello world 'dr' \" )"
   ]
  },
  {
   "cell_type": "code",
   "execution_count": 3,
   "id": "a8240238-5b08-4514-bd3b-c805765414b5",
   "metadata": {},
   "outputs": [
    {
     "name": "stdout",
     "output_type": "stream",
     "text": [
      "4+7\n"
     ]
    }
   ],
   "source": [
    "\"print('hello world')\"\n",
    "print(\"4+7\")"
   ]
  },
  {
   "cell_type": "code",
   "execution_count": 3,
   "id": "2617b06b-bf86-4c79-aaee-c89f7f909a0c",
   "metadata": {},
   "outputs": [],
   "source": [
    "# print(\"hello world\")"
   ]
  },
  {
   "cell_type": "code",
   "execution_count": 4,
   "id": "30662d88-a7f1-44ad-a912-0fa1a30a8a42",
   "metadata": {},
   "outputs": [
    {
     "data": {
      "text/plain": [
       "'\\nprint(\"hello world\")\\nthis is a \\nmultiline comment\\nalso known as\\ndocumentation\\n'"
      ]
     },
     "execution_count": 4,
     "metadata": {},
     "output_type": "execute_result"
    }
   ],
   "source": [
    "\"\"\"\n",
    "print(\"hello world\")\n",
    "this is a \n",
    "multiline comment\n",
    "also known as\n",
    "documentation\n",
    "\"\"\""
   ]
  },
  {
   "cell_type": "markdown",
   "id": "350df674-002e-4730-bd16-d94b700543ef",
   "metadata": {},
   "source": [
    "# Variables \n",
    "    used to store values they act like a container or a pointer for storing or pointing the data which can be called and handled through out the program"
   ]
  },
  {
   "cell_type": "code",
   "execution_count": 5,
   "id": "ad05c730-151a-4f0f-8a40-39954a62dead",
   "metadata": {},
   "outputs": [
    {
     "data": {
      "text/plain": [
       "8"
      ]
     },
     "execution_count": 5,
     "metadata": {},
     "output_type": "execute_result"
    }
   ],
   "source": [
    "a = 8  # = -- used to assign a value to the variable\n",
    "a"
   ]
  },
  {
   "cell_type": "markdown",
   "id": "e29d3639-0e42-45b4-8860-5bb700fc59e9",
   "metadata": {},
   "source": [
    "# Rules to Define a Variable\n",
    "\n",
    "1. a varible can start with lower or upper case or underscores\n",
    "2. a variable should not start with an integer\n",
    "3. a variable should not contain any special chr\n",
    "4. Keywords(reserved words) should not be used as variable--(because keywords already have meant to do  some tasks we cannot override and assign a new value to them)\n",
    "5. Variables are case sensitive"
   ]
  },
  {
   "cell_type": "code",
   "execution_count": 6,
   "id": "0b77fb23-cb1c-4906-8d00-c0c918797289",
   "metadata": {},
   "outputs": [
    {
     "data": {
      "text/plain": [
       "90"
      ]
     },
     "execution_count": 6,
     "metadata": {},
     "output_type": "execute_result"
    }
   ],
   "source": [
    "apple = 90\n",
    "apple"
   ]
  },
  {
   "cell_type": "code",
   "execution_count": 7,
   "id": "c23c6b3c-9004-4342-b4b7-a9595693a38b",
   "metadata": {},
   "outputs": [
    {
     "ename": "SyntaxError",
     "evalue": "invalid decimal literal (1268242232.py, line 1)",
     "output_type": "error",
     "traceback": [
      "\u001b[1;36m  Cell \u001b[1;32mIn[7], line 1\u001b[1;36m\u001b[0m\n\u001b[1;33m    1apple = 45  # we cannot assign a value to a value\u001b[0m\n\u001b[1;37m    ^\u001b[0m\n\u001b[1;31mSyntaxError\u001b[0m\u001b[1;31m:\u001b[0m invalid decimal literal\n"
     ]
    }
   ],
   "source": [
    "1apple = 45  # we cannot assign a value to a value"
   ]
  },
  {
   "cell_type": "code",
   "execution_count": 8,
   "id": "b0565f69-fd23-4db5-9f8c-88d59363a976",
   "metadata": {},
   "outputs": [
    {
     "data": {
      "text/plain": [
       "90"
      ]
     },
     "execution_count": 8,
     "metadata": {},
     "output_type": "execute_result"
    }
   ],
   "source": [
    "app2le = 90\n",
    "app2le"
   ]
  },
  {
   "cell_type": "code",
   "execution_count": 9,
   "id": "69818cca-c810-4b9c-b3b9-3066268a7940",
   "metadata": {},
   "outputs": [
    {
     "data": {
      "text/plain": [
       "8"
      ]
     },
     "execution_count": 9,
     "metadata": {},
     "output_type": "execute_result"
    }
   ],
   "source": [
    "8"
   ]
  },
  {
   "cell_type": "code",
   "execution_count": 10,
   "id": "5de4ce6f-2b63-48aa-b71a-b2285da814b2",
   "metadata": {},
   "outputs": [
    {
     "data": {
      "text/plain": [
       "45"
      ]
     },
     "execution_count": 10,
     "metadata": {},
     "output_type": "execute_result"
    }
   ],
   "source": [
    "#but a variable can contain a number\n",
    "apple1 = 45\n",
    "apple1"
   ]
  },
  {
   "cell_type": "code",
   "execution_count": 11,
   "id": "4339e8b7-b647-4657-8a38-f5aaa1ddc7cf",
   "metadata": {},
   "outputs": [
    {
     "name": "stderr",
     "output_type": "stream",
     "text": [
      "'apple' is not recognized as an internal or external command,\n",
      "operable program or batch file.\n"
     ]
    }
   ],
   "source": [
    "!apple = 9"
   ]
  },
  {
   "cell_type": "code",
   "execution_count": 12,
   "id": "966b228f-00ef-4d85-bb8c-1d5ccd1f9807",
   "metadata": {},
   "outputs": [
    {
     "ename": "SyntaxError",
     "evalue": "invalid syntax (2789973044.py, line 1)",
     "output_type": "error",
     "traceback": [
      "\u001b[1;36m  Cell \u001b[1;32mIn[12], line 1\u001b[1;36m\u001b[0m\n\u001b[1;33m    apple$ = 8\u001b[0m\n\u001b[1;37m         ^\u001b[0m\n\u001b[1;31mSyntaxError\u001b[0m\u001b[1;31m:\u001b[0m invalid syntax\n"
     ]
    }
   ],
   "source": [
    "apple$ = 8"
   ]
  },
  {
   "cell_type": "code",
   "execution_count": 13,
   "id": "d9700645-4726-4c45-9a6f-7c176204b98d",
   "metadata": {},
   "outputs": [
    {
     "ename": "SyntaxError",
     "evalue": "cannot assign to expression here. Maybe you meant '==' instead of '='? (3061897784.py, line 1)",
     "output_type": "error",
     "traceback": [
      "\u001b[1;36m  Cell \u001b[1;32mIn[13], line 1\u001b[1;36m\u001b[0m\n\u001b[1;33m    appl@le = 5\u001b[0m\n\u001b[1;37m    ^\u001b[0m\n\u001b[1;31mSyntaxError\u001b[0m\u001b[1;31m:\u001b[0m cannot assign to expression here. Maybe you meant '==' instead of '='?\n"
     ]
    }
   ],
   "source": [
    "appl@le = 5"
   ]
  },
  {
   "cell_type": "code",
   "execution_count": 14,
   "id": "dc95bbd5-1fdc-4972-bbf6-582af75c553e",
   "metadata": {},
   "outputs": [
    {
     "ename": "SyntaxError",
     "evalue": "invalid syntax (4067504639.py, line 1)",
     "output_type": "error",
     "traceback": [
      "\u001b[1;36m  Cell \u001b[1;32mIn[14], line 1\u001b[1;36m\u001b[0m\n\u001b[1;33m    and = 90\u001b[0m\n\u001b[1;37m    ^\u001b[0m\n\u001b[1;31mSyntaxError\u001b[0m\u001b[1;31m:\u001b[0m invalid syntax\n"
     ]
    }
   ],
   "source": [
    "and = 90"
   ]
  },
  {
   "cell_type": "code",
   "execution_count": 15,
   "id": "4f5a0ab3-802c-4019-8db7-008f5028d93f",
   "metadata": {},
   "outputs": [
    {
     "ename": "SyntaxError",
     "evalue": "invalid syntax (852527186.py, line 1)",
     "output_type": "error",
     "traceback": [
      "\u001b[1;36m  Cell \u001b[1;32mIn[15], line 1\u001b[1;36m\u001b[0m\n\u001b[1;33m    for = 70\u001b[0m\n\u001b[1;37m        ^\u001b[0m\n\u001b[1;31mSyntaxError\u001b[0m\u001b[1;31m:\u001b[0m invalid syntax\n"
     ]
    }
   ],
   "source": [
    "for = 70"
   ]
  },
  {
   "cell_type": "code",
   "execution_count": 16,
   "id": "9ee36994-26f1-422f-a494-6d903331dbf9",
   "metadata": {},
   "outputs": [
    {
     "ename": "NameError",
     "evalue": "name 'orange' is not defined",
     "output_type": "error",
     "traceback": [
      "\u001b[1;31m---------------------------------------------------------------------------\u001b[0m",
      "\u001b[1;31mNameError\u001b[0m                                 Traceback (most recent call last)",
      "Cell \u001b[1;32mIn[16], line 2\u001b[0m\n\u001b[0;32m      1\u001b[0m Orange \u001b[38;5;241m=\u001b[39m \u001b[38;5;241m67\u001b[39m\n\u001b[1;32m----> 2\u001b[0m \u001b[43morange\u001b[49m\n",
      "\u001b[1;31mNameError\u001b[0m: name 'orange' is not defined"
     ]
    }
   ],
   "source": [
    "Orange = 67\n",
    "orange"
   ]
  },
  {
   "cell_type": "code",
   "execution_count": 17,
   "id": "9801a62f-2cae-4c56-b81b-564ae23b9753",
   "metadata": {},
   "outputs": [
    {
     "data": {
      "text/plain": [
       "67"
      ]
     },
     "execution_count": 17,
     "metadata": {},
     "output_type": "execute_result"
    }
   ],
   "source": [
    "Orange"
   ]
  },
  {
   "cell_type": "code",
   "execution_count": 18,
   "id": "8fce31da-fd4d-4524-ba9f-9398013a9d79",
   "metadata": {},
   "outputs": [
    {
     "data": {
      "text/plain": [
       "70"
      ]
     },
     "execution_count": 18,
     "metadata": {},
     "output_type": "execute_result"
    }
   ],
   "source": [
    "# snake case\n",
    "#apple juice = 70  # wrong syntax\n",
    "apple_juice = 70\n",
    "apple_juice"
   ]
  },
  {
   "cell_type": "code",
   "execution_count": 20,
   "id": "378a33a5-cf70-4c99-abea-e58970c2fcf3",
   "metadata": {},
   "outputs": [
    {
     "data": {
      "text/plain": [
       "90"
      ]
     },
     "execution_count": 20,
     "metadata": {},
     "output_type": "execute_result"
    }
   ],
   "source": [
    "# Python 101\n",
    "\n",
    "__cherry = 90  # intimating another python programmer to consider this var as private var\n",
    "__cherry"
   ]
  },
  {
   "cell_type": "code",
   "execution_count": 22,
   "id": "042fee6a-7464-4a53-b845-b0379c7bb04c",
   "metadata": {},
   "outputs": [
    {
     "data": {
      "text/plain": [
       "90"
      ]
     },
     "execution_count": 22,
     "metadata": {},
     "output_type": "execute_result"
    }
   ],
   "source": [
    "APPLE = 90  # intimating another python programmer to consider this var as constant\n",
    "APPLE"
   ]
  },
  {
   "cell_type": "code",
   "execution_count": 74,
   "id": "a8e53a01-931f-4d14-a5ad-891567ca4104",
   "metadata": {},
   "outputs": [
    {
     "name": "stdout",
     "output_type": "stream",
     "text": [
      "56\n"
     ]
    }
   ],
   "source": [
    "a = 90\n",
    "\n",
    "a = 56\n",
    "print(a)"
   ]
  },
  {
   "cell_type": "markdown",
   "id": "b7045758-36ba-49be-a20a-a4f8f605684f",
   "metadata": {},
   "source": [
    "# data types\n",
    "    => Integer -- Integer, Binary, Octal, Hexa decimal\n",
    "    => String -- \"\", '', \"\"\" \"\"\"\n",
    "    => Boolean -- True, False\n",
    "    => Float -- a number with decimal\n",
    "    => None -- to express null \n",
    "    => Complex -- a real along imaginary"
   ]
  },
  {
   "cell_type": "code",
   "execution_count": 5,
   "id": "7e2ab676-ffe1-4a16-9c66-01209fc2ba1a",
   "metadata": {},
   "outputs": [
    {
     "data": {
      "text/plain": [
       "8"
      ]
     },
     "execution_count": 5,
     "metadata": {},
     "output_type": "execute_result"
    }
   ],
   "source": [
    "#Integer family\n",
    "# number\n",
    "a = 8\n",
    "a"
   ]
  },
  {
   "cell_type": "code",
   "execution_count": 6,
   "id": "dcb6d27a-66e5-429c-81bc-f8b05af927b2",
   "metadata": {},
   "outputs": [
    {
     "data": {
      "text/plain": [
       "5"
      ]
     },
     "execution_count": 6,
     "metadata": {},
     "output_type": "execute_result"
    }
   ],
   "source": [
    "# to create binary version of a integer we use \"0b\" or \"0B\"\n",
    "b = 0b101\n",
    "b"
   ]
  },
  {
   "cell_type": "code",
   "execution_count": 7,
   "id": "6955730d-c871-4bc3-bfcd-c7eb463aa472",
   "metadata": {},
   "outputs": [
    {
     "data": {
      "text/plain": [
       "3594"
      ]
     },
     "execution_count": 7,
     "metadata": {},
     "output_type": "execute_result"
    }
   ],
   "source": [
    "#to create octal version of a integer we use \"0o\" or \"0O\"\n",
    "\n",
    "c = 0o7012\n",
    "c"
   ]
  },
  {
   "cell_type": "code",
   "execution_count": 8,
   "id": "e16e80cf-f971-4d1c-bac9-22989cc65dca",
   "metadata": {},
   "outputs": [
    {
     "data": {
      "text/plain": [
       "105199"
      ]
     },
     "execution_count": 8,
     "metadata": {},
     "output_type": "execute_result"
    }
   ],
   "source": [
    "#to create hexa decimal version of a integer we use \"0x\" or \"0X\"\n",
    "d = 0x19aef\n",
    "d"
   ]
  },
  {
   "cell_type": "code",
   "execution_count": 10,
   "id": "4824bd30-a48f-4094-b65d-806baa824e7d",
   "metadata": {},
   "outputs": [
    {
     "data": {
      "text/plain": [
       "'8'"
      ]
     },
     "execution_count": 10,
     "metadata": {},
     "output_type": "execute_result"
    }
   ],
   "source": [
    "# string -- anything we put under quotes is a string\n",
    "\n",
    "str1 = \"8\"\n",
    "str1"
   ]
  },
  {
   "cell_type": "code",
   "execution_count": 11,
   "id": "56c005c3-d0f2-4c40-9759-ee362f81e9b9",
   "metadata": {},
   "outputs": [
    {
     "data": {
      "text/plain": [
       "'hello world'"
      ]
     },
     "execution_count": 11,
     "metadata": {},
     "output_type": "execute_result"
    }
   ],
   "source": [
    "\"hello world\"\n"
   ]
  },
  {
   "cell_type": "code",
   "execution_count": 13,
   "id": "3efccef8-2b30-4eda-89bd-f4b635a1a22d",
   "metadata": {},
   "outputs": [
    {
     "data": {
      "text/plain": [
       "'hello world'"
      ]
     },
     "execution_count": 13,
     "metadata": {},
     "output_type": "execute_result"
    }
   ],
   "source": [
    "str2 = 'hello world'\n",
    "str2"
   ]
  },
  {
   "cell_type": "code",
   "execution_count": 14,
   "id": "b2dfe628-dd7c-4837-9ecc-f3808f0e1e94",
   "metadata": {},
   "outputs": [
    {
     "data": {
      "text/plain": [
       "'8hello world'"
      ]
     },
     "execution_count": 14,
     "metadata": {},
     "output_type": "execute_result"
    }
   ],
   "source": [
    "str1+str2"
   ]
  },
  {
   "cell_type": "code",
   "execution_count": 15,
   "id": "65a0d7c1-a8b6-476d-a892-8781366439d6",
   "metadata": {},
   "outputs": [
    {
     "ename": "TypeError",
     "evalue": "unsupported operand type(s) for +: 'int' and 'str'",
     "output_type": "error",
     "traceback": [
      "\u001b[1;31m---------------------------------------------------------------------------\u001b[0m",
      "\u001b[1;31mTypeError\u001b[0m                                 Traceback (most recent call last)",
      "Cell \u001b[1;32mIn[15], line 1\u001b[0m\n\u001b[1;32m----> 1\u001b[0m \u001b[38;5;241;43m8\u001b[39;49m\u001b[38;5;241;43m+\u001b[39;49m\u001b[38;5;124;43m\"\u001b[39;49m\u001b[38;5;124;43mhello world\u001b[39;49m\u001b[38;5;124;43m\"\u001b[39;49m\n",
      "\u001b[1;31mTypeError\u001b[0m: unsupported operand type(s) for +: 'int' and 'str'"
     ]
    }
   ],
   "source": [
    "8+\"hello world\""
   ]
  },
  {
   "cell_type": "code",
   "execution_count": 16,
   "id": "9db92de7-bacd-4e14-8090-36793fb24ea6",
   "metadata": {},
   "outputs": [
    {
     "data": {
      "text/plain": [
       "\"hello mr. 'Robert' welcome\""
      ]
     },
     "execution_count": 16,
     "metadata": {},
     "output_type": "execute_result"
    }
   ],
   "source": [
    "str3 = \"hello mr. 'Robert' welcome\"\n",
    "str3"
   ]
  },
  {
   "cell_type": "code",
   "execution_count": 17,
   "id": "9e430e58-96a8-4aba-b87d-c376db244405",
   "metadata": {},
   "outputs": [
    {
     "name": "stdout",
     "output_type": "stream",
     "text": [
      "\n",
      "this is a\n",
      " multi line string\n",
      " in python convention\n"
     ]
    }
   ],
   "source": [
    "str4 = \"\"\"\n",
    "this is a\n",
    " multi line string\n",
    " in python convention\"\"\"\n",
    "print(str4)"
   ]
  },
  {
   "cell_type": "code",
   "execution_count": 18,
   "id": "24031ad2-7697-4987-82e6-3c04e20c6d05",
   "metadata": {},
   "outputs": [
    {
     "name": "stdout",
     "output_type": "stream",
     "text": [
      "\n",
      "    if we create \n",
      "    multiline string and if\n",
      "    we assign it into\n",
      "    a var we call it as \n",
      "    multi line string\n",
      "    if we didn't assigned into var\n",
      "    its known as documentation string\n",
      "    \n"
     ]
    }
   ],
   "source": [
    "a = \"\"\"\n",
    "    if we create \n",
    "    multiline string and if\n",
    "    we assign it into\n",
    "    a var we call it as \n",
    "    multi line string\n",
    "    if we didn't assigned into var\n",
    "    its known as documentation string\n",
    "    \"\"\"\n",
    "print(a)"
   ]
  },
  {
   "cell_type": "code",
   "execution_count": 19,
   "id": "1bceb94d-ec49-4be2-ac9a-47c1ed1fe3dd",
   "metadata": {},
   "outputs": [
    {
     "data": {
      "text/plain": [
       "True"
      ]
     },
     "execution_count": 19,
     "metadata": {},
     "output_type": "execute_result"
    }
   ],
   "source": [
    "b1 = True  # when we compare any value with True it will check if the value type is true or not\n",
    "b1"
   ]
  },
  {
   "cell_type": "code",
   "execution_count": 20,
   "id": "a3bbf726-a77e-47b9-b100-eb0b9f11ca65",
   "metadata": {},
   "outputs": [
    {
     "data": {
      "text/plain": [
       "False"
      ]
     },
     "execution_count": 20,
     "metadata": {},
     "output_type": "execute_result"
    }
   ],
   "source": [
    "b2 = False  #false values in python -- 0,None, False,'', \"\", \"\"\" \"\"\",{},[],()\n",
    "b2"
   ]
  },
  {
   "cell_type": "code",
   "execution_count": 21,
   "id": "b11a39b1-21e9-4d3c-a89b-d392f5c75d55",
   "metadata": {},
   "outputs": [
    {
     "data": {
      "text/plain": [
       "8.92345"
      ]
     },
     "execution_count": 21,
     "metadata": {},
     "output_type": "execute_result"
    }
   ],
   "source": [
    "f1 = 8.92345\n",
    "f1"
   ]
  },
  {
   "cell_type": "code",
   "execution_count": 22,
   "id": "b937c0d0-5fff-4544-b795-3846dbe1bda6",
   "metadata": {},
   "outputs": [
    {
     "data": {
      "text/plain": [
       "8.92"
      ]
     },
     "execution_count": 22,
     "metadata": {},
     "output_type": "execute_result"
    }
   ],
   "source": [
    "round(f1,2)"
   ]
  },
  {
   "cell_type": "code",
   "execution_count": 23,
   "id": "1f33535b-235c-459b-82de-bdb143a0bf3e",
   "metadata": {},
   "outputs": [
    {
     "data": {
      "text/plain": [
       "0"
      ]
     },
     "execution_count": 23,
     "metadata": {},
     "output_type": "execute_result"
    }
   ],
   "source": [
    "0"
   ]
  },
  {
   "cell_type": "code",
   "execution_count": 24,
   "id": "fae157f8-2fcf-4d27-9ab3-dca922c65e41",
   "metadata": {},
   "outputs": [],
   "source": [
    "None  # complete emptiness"
   ]
  },
  {
   "cell_type": "code",
   "execution_count": 25,
   "id": "b22e968b-dea5-47a6-8244-5a9099c01a5b",
   "metadata": {},
   "outputs": [
    {
     "data": {
      "text/plain": [
       "4.0"
      ]
     },
     "execution_count": 25,
     "metadata": {},
     "output_type": "execute_result"
    }
   ],
   "source": [
    "c1 = 4 +5j  # to create imag part we use \"j\"\n",
    "c1.real"
   ]
  },
  {
   "cell_type": "code",
   "execution_count": 26,
   "id": "c0a9840c-d872-4e42-a2e5-2db3f418b2e6",
   "metadata": {},
   "outputs": [
    {
     "data": {
      "text/plain": [
       "5.0"
      ]
     },
     "execution_count": 26,
     "metadata": {},
     "output_type": "execute_result"
    }
   ],
   "source": [
    "c1.imag"
   ]
  },
  {
   "cell_type": "code",
   "execution_count": 27,
   "id": "8ca23834-ef9a-4f26-b42d-e006b8de464d",
   "metadata": {},
   "outputs": [
    {
     "data": {
      "text/plain": [
       "(4+5j)"
      ]
     },
     "execution_count": 27,
     "metadata": {},
     "output_type": "execute_result"
    }
   ],
   "source": [
    "c1"
   ]
  },
  {
   "cell_type": "code",
   "execution_count": 29,
   "id": "d420757e-9599-49cc-a634-fd3df760812d",
   "metadata": {},
   "outputs": [
    {
     "data": {
      "text/plain": [
       "int"
      ]
     },
     "execution_count": 29,
     "metadata": {},
     "output_type": "execute_result"
    }
   ],
   "source": [
    "# type -- returns the type of object\n",
    "type(4)"
   ]
  },
  {
   "cell_type": "code",
   "execution_count": 30,
   "id": "2383feb9-08be-402a-a38d-c31f74062220",
   "metadata": {},
   "outputs": [
    {
     "data": {
      "text/plain": [
       "int"
      ]
     },
     "execution_count": 30,
     "metadata": {},
     "output_type": "execute_result"
    }
   ],
   "source": [
    "type(0b010)"
   ]
  },
  {
   "cell_type": "code",
   "execution_count": 31,
   "id": "f8e20954-9f5f-4b39-8a3f-d7c4172a36b4",
   "metadata": {},
   "outputs": [
    {
     "data": {
      "text/plain": [
       "int"
      ]
     },
     "execution_count": 31,
     "metadata": {},
     "output_type": "execute_result"
    }
   ],
   "source": [
    "type(0o3461)"
   ]
  },
  {
   "cell_type": "code",
   "execution_count": 32,
   "id": "9ff33eb2-a441-4693-8768-ab9f781b8495",
   "metadata": {},
   "outputs": [
    {
     "data": {
      "text/plain": [
       "int"
      ]
     },
     "execution_count": 32,
     "metadata": {},
     "output_type": "execute_result"
    }
   ],
   "source": [
    "type(0xaf92)"
   ]
  },
  {
   "cell_type": "code",
   "execution_count": 33,
   "id": "bef6f953-1dd9-42a9-8a56-b1bab30ace26",
   "metadata": {},
   "outputs": [
    {
     "data": {
      "text/plain": [
       "str"
      ]
     },
     "execution_count": 33,
     "metadata": {},
     "output_type": "execute_result"
    }
   ],
   "source": [
    "type(\"67\")"
   ]
  },
  {
   "cell_type": "code",
   "execution_count": 34,
   "id": "82dd0432-2b5f-487a-b8f3-abd3945533f3",
   "metadata": {},
   "outputs": [
    {
     "data": {
      "text/plain": [
       "str"
      ]
     },
     "execution_count": 34,
     "metadata": {},
     "output_type": "execute_result"
    }
   ],
   "source": [
    "type(\"python\")"
   ]
  },
  {
   "cell_type": "code",
   "execution_count": 35,
   "id": "c14026ca-bdc7-4e4b-a7f2-070d05fe8f3f",
   "metadata": {},
   "outputs": [
    {
     "name": "stdout",
     "output_type": "stream",
     "text": [
      "10\n"
     ]
    }
   ],
   "source": [
    "print(6+4)"
   ]
  },
  {
   "cell_type": "code",
   "execution_count": 36,
   "id": "b83aaff5-b0f2-4ab3-80e4-b7ba95214718",
   "metadata": {},
   "outputs": [
    {
     "data": {
      "text/plain": [
       "'print(6+4)'"
      ]
     },
     "execution_count": 36,
     "metadata": {},
     "output_type": "execute_result"
    }
   ],
   "source": [
    "\"print(6+4)\""
   ]
  },
  {
   "cell_type": "code",
   "execution_count": 37,
   "id": "34ef89ee-9262-4968-8337-90d0d6d4082e",
   "metadata": {},
   "outputs": [
    {
     "data": {
      "text/plain": [
       "bool"
      ]
     },
     "execution_count": 37,
     "metadata": {},
     "output_type": "execute_result"
    }
   ],
   "source": [
    "type(True)"
   ]
  },
  {
   "cell_type": "code",
   "execution_count": 38,
   "id": "f7fed37c-dce8-4c0f-beeb-c12a1e167dd4",
   "metadata": {},
   "outputs": [
    {
     "data": {
      "text/plain": [
       "bool"
      ]
     },
     "execution_count": 38,
     "metadata": {},
     "output_type": "execute_result"
    }
   ],
   "source": [
    "type(False)"
   ]
  },
  {
   "cell_type": "code",
   "execution_count": 39,
   "id": "7d583bf9-46cd-457a-b3d8-d62a1083f7fc",
   "metadata": {},
   "outputs": [
    {
     "data": {
      "text/plain": [
       "float"
      ]
     },
     "execution_count": 39,
     "metadata": {},
     "output_type": "execute_result"
    }
   ],
   "source": [
    "type(8.92355)"
   ]
  },
  {
   "cell_type": "code",
   "execution_count": 40,
   "id": "2e634036-ac41-4561-9e92-117231cc7b33",
   "metadata": {},
   "outputs": [
    {
     "data": {
      "text/plain": [
       "NoneType"
      ]
     },
     "execution_count": 40,
     "metadata": {},
     "output_type": "execute_result"
    }
   ],
   "source": [
    "type(None)"
   ]
  },
  {
   "cell_type": "code",
   "execution_count": 41,
   "id": "3fb9109a-9e15-48a7-9fb4-e549af63f30e",
   "metadata": {},
   "outputs": [
    {
     "data": {
      "text/plain": [
       "complex"
      ]
     },
     "execution_count": 41,
     "metadata": {},
     "output_type": "execute_result"
    }
   ],
   "source": [
    "type(9+9j)"
   ]
  },
  {
   "cell_type": "code",
   "execution_count": 42,
   "id": "c2e1a5f4-af33-492e-ae76-2f1abf79f319",
   "metadata": {},
   "outputs": [
    {
     "data": {
      "text/plain": [
       "int"
      ]
     },
     "execution_count": 42,
     "metadata": {},
     "output_type": "execute_result"
    }
   ],
   "source": [
    "a = 89\n",
    "type(a)"
   ]
  },
  {
   "cell_type": "code",
   "execution_count": 43,
   "id": "240502bf-5166-48f2-8d12-4ab5d67a4400",
   "metadata": {},
   "outputs": [
    {
     "data": {
      "text/plain": [
       "'0b1001'"
      ]
     },
     "execution_count": 43,
     "metadata": {},
     "output_type": "execute_result"
    }
   ],
   "source": [
    "\"\"\"\n",
    "# Type conversion -- Type casting -- converting one type object into another type\n",
    "# actions or methods -- that changes the original var object or value we call that mutable method else \n",
    "# when we perform any method on a var that did not change the original var value or object we call them as immutable methods\n",
    "\n",
    "\"\"\"\n",
    "a = 9 # a integer will have all the other versions of datatype\n",
    "\n",
    "bin(a)  #binary version nine it will return but it is a immutable\n"
   ]
  },
  {
   "cell_type": "code",
   "execution_count": 44,
   "id": "06798664-bf01-4b9c-9f5c-632f0546bec7",
   "metadata": {},
   "outputs": [
    {
     "data": {
      "text/plain": [
       "9"
      ]
     },
     "execution_count": 44,
     "metadata": {},
     "output_type": "execute_result"
    }
   ],
   "source": [
    "a"
   ]
  },
  {
   "cell_type": "code",
   "execution_count": 45,
   "id": "991cfe5a-47c0-4413-a0c2-aa7891cdd366",
   "metadata": {},
   "outputs": [
    {
     "data": {
      "text/plain": [
       "'0o11'"
      ]
     },
     "execution_count": 45,
     "metadata": {},
     "output_type": "execute_result"
    }
   ],
   "source": [
    "oct(a)"
   ]
  },
  {
   "cell_type": "code",
   "execution_count": 46,
   "id": "cf57b39d-20b5-4482-b41c-c34985cbe8ca",
   "metadata": {},
   "outputs": [
    {
     "data": {
      "text/plain": [
       "'0x9'"
      ]
     },
     "execution_count": 46,
     "metadata": {},
     "output_type": "execute_result"
    }
   ],
   "source": [
    "hex(a)"
   ]
  },
  {
   "cell_type": "code",
   "execution_count": 47,
   "id": "aff361fa-f73e-44fb-a396-3040101459d0",
   "metadata": {},
   "outputs": [
    {
     "data": {
      "text/plain": [
       "'9'"
      ]
     },
     "execution_count": 47,
     "metadata": {},
     "output_type": "execute_result"
    }
   ],
   "source": [
    "str(a)"
   ]
  },
  {
   "cell_type": "code",
   "execution_count": 48,
   "id": "be84fcbd-3f12-4bc3-9c1e-ec020cd00b62",
   "metadata": {},
   "outputs": [
    {
     "data": {
      "text/plain": [
       "True"
      ]
     },
     "execution_count": 48,
     "metadata": {},
     "output_type": "execute_result"
    }
   ],
   "source": [
    "bool(a)"
   ]
  },
  {
   "cell_type": "code",
   "execution_count": 49,
   "id": "6f7430dc-0af6-4b82-9040-1948e187a650",
   "metadata": {},
   "outputs": [
    {
     "data": {
      "text/plain": [
       "False"
      ]
     },
     "execution_count": 49,
     "metadata": {},
     "output_type": "execute_result"
    }
   ],
   "source": [
    "bool([])"
   ]
  },
  {
   "cell_type": "code",
   "execution_count": 50,
   "id": "cf9455f7-15c4-4545-bb7e-6c366a38df7c",
   "metadata": {},
   "outputs": [
    {
     "data": {
      "text/plain": [
       "False"
      ]
     },
     "execution_count": 50,
     "metadata": {},
     "output_type": "execute_result"
    }
   ],
   "source": [
    "bool(0)"
   ]
  },
  {
   "cell_type": "code",
   "execution_count": 51,
   "id": "94b0f545-0aea-4953-81f9-c41f7b8dd669",
   "metadata": {},
   "outputs": [
    {
     "data": {
      "text/plain": [
       "9.0"
      ]
     },
     "execution_count": 51,
     "metadata": {},
     "output_type": "execute_result"
    }
   ],
   "source": [
    "float(a)"
   ]
  },
  {
   "cell_type": "code",
   "execution_count": 52,
   "id": "9b3affbb-85f3-454f-8317-9e52b11c43ad",
   "metadata": {},
   "outputs": [
    {
     "data": {
      "text/plain": [
       "(9+0j)"
      ]
     },
     "execution_count": 52,
     "metadata": {},
     "output_type": "execute_result"
    }
   ],
   "source": [
    "complex(a)"
   ]
  },
  {
   "cell_type": "code",
   "execution_count": 53,
   "id": "7a52c219-5d59-4658-866b-e7d3bfb266bb",
   "metadata": {},
   "outputs": [
    {
     "data": {
      "text/plain": [
       "9"
      ]
     },
     "execution_count": 53,
     "metadata": {},
     "output_type": "execute_result"
    }
   ],
   "source": [
    "b = 9.2345\n",
    "int(b)"
   ]
  },
  {
   "cell_type": "code",
   "execution_count": 43,
   "id": "6eadfd55-7637-40e2-9be6-aa99fdbee383",
   "metadata": {},
   "outputs": [
    {
     "ename": "TypeError",
     "evalue": "'str' object cannot be interpreted as an integer",
     "output_type": "error",
     "traceback": [
      "\u001b[1;31m---------------------------------------------------------------------------\u001b[0m",
      "\u001b[1;31mTypeError\u001b[0m                                 Traceback (most recent call last)",
      "Cell \u001b[1;32mIn[43], line 2\u001b[0m\n\u001b[0;32m      1\u001b[0m a \u001b[38;5;241m=\u001b[39m \u001b[38;5;124m\"\u001b[39m\u001b[38;5;124mpython\u001b[39m\u001b[38;5;124m\"\u001b[39m\n\u001b[1;32m----> 2\u001b[0m \u001b[38;5;28;43mbin\u001b[39;49m\u001b[43m(\u001b[49m\u001b[43ma\u001b[49m\u001b[43m)\u001b[49m\n",
      "\u001b[1;31mTypeError\u001b[0m: 'str' object cannot be interpreted as an integer"
     ]
    }
   ],
   "source": [
    "a = \"python\"\n",
    "bin(a) #oct, hex, int, float, complex -- these keys only works on the numerical datas"
   ]
  },
  {
   "cell_type": "code",
   "execution_count": 44,
   "id": "a245e93e-6373-47e1-bf84-00e488152253",
   "metadata": {},
   "outputs": [
    {
     "data": {
      "text/plain": [
       "True"
      ]
     },
     "execution_count": 44,
     "metadata": {},
     "output_type": "execute_result"
    }
   ],
   "source": [
    "bool(a)"
   ]
  },
  {
   "cell_type": "code",
   "execution_count": 45,
   "id": "59a0578e-424a-4a67-8d77-e1353a94de53",
   "metadata": {},
   "outputs": [
    {
     "ename": "TypeError",
     "evalue": "'float' object cannot be interpreted as an integer",
     "output_type": "error",
     "traceback": [
      "\u001b[1;31m---------------------------------------------------------------------------\u001b[0m",
      "\u001b[1;31mTypeError\u001b[0m                                 Traceback (most recent call last)",
      "Cell \u001b[1;32mIn[45], line 2\u001b[0m\n\u001b[0;32m      1\u001b[0m a \u001b[38;5;241m=\u001b[39m \u001b[38;5;241m9.45\u001b[39m\n\u001b[1;32m----> 2\u001b[0m \u001b[38;5;28;43mbin\u001b[39;49m\u001b[43m(\u001b[49m\u001b[43ma\u001b[49m\u001b[43m)\u001b[49m\n",
      "\u001b[1;31mTypeError\u001b[0m: 'float' object cannot be interpreted as an integer"
     ]
    }
   ],
   "source": [
    "a = 9.45\n",
    "bin(a) #oct, hex --- a integer mean values only supports"
   ]
  },
  {
   "cell_type": "code",
   "execution_count": 46,
   "id": "3ee4f057-b6c3-4ea3-8a4d-d2d0a7a800eb",
   "metadata": {},
   "outputs": [
    {
     "data": {
      "text/plain": [
       "(9.45+0j)"
      ]
     },
     "execution_count": 46,
     "metadata": {},
     "output_type": "execute_result"
    }
   ],
   "source": [
    "complex(a)"
   ]
  },
  {
   "cell_type": "code",
   "execution_count": 47,
   "id": "328b6021-209e-40c1-baf5-7d0325270a38",
   "metadata": {},
   "outputs": [
    {
     "data": {
      "text/plain": [
       "True"
      ]
     },
     "execution_count": 47,
     "metadata": {},
     "output_type": "execute_result"
    }
   ],
   "source": [
    "bool(a)"
   ]
  },
  {
   "cell_type": "code",
   "execution_count": null,
   "id": "a85a69ea-92b4-4f68-b14f-660bff6410b1",
   "metadata": {},
   "outputs": [],
   "source": [
    "# True, 4+5j -- bin, oct, hex,int, str, bool, float, complex"
   ]
  },
  {
   "cell_type": "code",
   "execution_count": 81,
   "id": "e4edaea8-efab-48e8-a802-23941a2fb80f",
   "metadata": {},
   "outputs": [
    {
     "data": {
      "text/plain": [
       "99"
      ]
     },
     "execution_count": 81,
     "metadata": {},
     "output_type": "execute_result"
    }
   ],
   "source": [
    "a = \"99\"\n",
    "int(a)"
   ]
  },
  {
   "cell_type": "code",
   "execution_count": 82,
   "id": "7067d409-6bab-4797-aae2-97162e8b1574",
   "metadata": {},
   "outputs": [
    {
     "ename": "TypeError",
     "evalue": "'str' object cannot be interpreted as an integer",
     "output_type": "error",
     "traceback": [
      "\u001b[1;31m---------------------------------------------------------------------------\u001b[0m",
      "\u001b[1;31mTypeError\u001b[0m                                 Traceback (most recent call last)",
      "Cell \u001b[1;32mIn[82], line 1\u001b[0m\n\u001b[1;32m----> 1\u001b[0m \u001b[38;5;28;43mbin\u001b[39;49m\u001b[43m(\u001b[49m\u001b[43ma\u001b[49m\u001b[43m)\u001b[49m\n",
      "\u001b[1;31mTypeError\u001b[0m: 'str' object cannot be interpreted as an integer"
     ]
    }
   ],
   "source": [
    "bin(a)"
   ]
  },
  {
   "cell_type": "markdown",
   "id": "2f96f6ad-656d-438b-bc4f-e8062d015562",
   "metadata": {},
   "source": [
    "# indexing slicing\n",
    "    we can perform indexing(single data access based on the position) and slicing(start:stop) position based access on only sequences\n",
    "    => indexing will work on the ordered sequences because unordered sequences does not have the position\n",
    "\n",
    "    => Positive Indexing -- starts from \"0\" , start - end(left to right)\n",
    "    => Negative Indexing -- starts from \"-1\" , end - start(right to left)"
   ]
  },
  {
   "cell_type": "code",
   "execution_count": 1,
   "id": "78943c1d-3099-45bc-abf4-c9ed92dca21c",
   "metadata": {},
   "outputs": [
    {
     "data": {
      "text/plain": [
       "'r'"
      ]
     },
     "execution_count": 1,
     "metadata": {},
     "output_type": "execute_result"
    }
   ],
   "source": [
    "a = \"HelloWorld\"\n",
    "a[7]  # pos base data access "
   ]
  },
  {
   "cell_type": "code",
   "execution_count": 2,
   "id": "4345bbf4-9d75-44b9-b8e1-7056c777249c",
   "metadata": {},
   "outputs": [
    {
     "ename": "IndexError",
     "evalue": "string index out of range",
     "output_type": "error",
     "traceback": [
      "\u001b[1;31m---------------------------------------------------------------------------\u001b[0m",
      "\u001b[1;31mIndexError\u001b[0m                                Traceback (most recent call last)",
      "Cell \u001b[1;32mIn[2], line 1\u001b[0m\n\u001b[1;32m----> 1\u001b[0m \u001b[43ma\u001b[49m\u001b[43m[\u001b[49m\u001b[38;5;241;43m1000\u001b[39;49m\u001b[43m]\u001b[49m\n",
      "\u001b[1;31mIndexError\u001b[0m: string index out of range"
     ]
    }
   ],
   "source": [
    "a[1000]"
   ]
  },
  {
   "cell_type": "code",
   "execution_count": 41,
   "id": "4589185b-5252-4ff8-b52b-20d5e0553db0",
   "metadata": {},
   "outputs": [
    {
     "data": {
      "text/plain": [
       "'W'"
      ]
     },
     "execution_count": 41,
     "metadata": {},
     "output_type": "execute_result"
    }
   ],
   "source": [
    "a[-5]"
   ]
  },
  {
   "cell_type": "code",
   "execution_count": 8,
   "id": "b1b2f152-9780-4d09-9e7f-96e922a67b95",
   "metadata": {},
   "outputs": [
    {
     "ename": "IndexError",
     "evalue": "string index out of range",
     "output_type": "error",
     "traceback": [
      "\u001b[1;31m---------------------------------------------------------------------------\u001b[0m",
      "\u001b[1;31mIndexError\u001b[0m                                Traceback (most recent call last)",
      "Cell \u001b[1;32mIn[8], line 1\u001b[0m\n\u001b[1;32m----> 1\u001b[0m \u001b[43ma\u001b[49m\u001b[43m[\u001b[49m\u001b[38;5;241;43m-\u001b[39;49m\u001b[38;5;241;43m1000\u001b[39;49m\u001b[43m]\u001b[49m\n",
      "\u001b[1;31mIndexError\u001b[0m: string index out of range"
     ]
    }
   ],
   "source": [
    "a[-1000]"
   ]
  },
  {
   "cell_type": "code",
   "execution_count": 58,
   "id": "5c826558-2831-4a13-b1f2-d3f447b85cfd",
   "metadata": {},
   "outputs": [
    {
     "data": {
      "text/plain": [
       "3"
      ]
     },
     "execution_count": 58,
     "metadata": {},
     "output_type": "execute_result"
    }
   ],
   "source": [
    "a = \"Python\"\n",
    "a.index(\"h\")"
   ]
  },
  {
   "cell_type": "code",
   "execution_count": 3,
   "id": "a3329d4a-1459-4613-85f0-fac0f4535300",
   "metadata": {},
   "outputs": [
    {
     "name": "stdout",
     "output_type": "stream",
     "text": [
      "2\n",
      "hello world\n"
     ]
    }
   ],
   "source": [
    "a = \"HelloWorld\"  # if there is duplicates . it will return first occurance pos\n",
    "print(a.index(\"l\"))\n",
    "print(\"hello world\")"
   ]
  },
  {
   "cell_type": "code",
   "execution_count": 4,
   "id": "3cc630e3-1562-405c-bef8-6670dc56a721",
   "metadata": {},
   "outputs": [],
   "source": [
    "# seqobj.index(\"data\") -- if the data exists it will return the pos of the data from the seq else it will raise error if the data not found"
   ]
  },
  {
   "cell_type": "code",
   "execution_count": 5,
   "id": "29903f92-fbc8-492a-84f9-dfd79f49848e",
   "metadata": {},
   "outputs": [
    {
     "ename": "ValueError",
     "evalue": "substring not found",
     "output_type": "error",
     "traceback": [
      "\u001b[1;31m---------------------------------------------------------------------------\u001b[0m",
      "\u001b[1;31mValueError\u001b[0m                                Traceback (most recent call last)",
      "Cell \u001b[1;32mIn[5], line 2\u001b[0m\n\u001b[0;32m      1\u001b[0m a \u001b[38;5;241m=\u001b[39m \u001b[38;5;124m\"\u001b[39m\u001b[38;5;124mHelloWorld\u001b[39m\u001b[38;5;124m\"\u001b[39m\n\u001b[1;32m----> 2\u001b[0m \u001b[43ma\u001b[49m\u001b[38;5;241;43m.\u001b[39;49m\u001b[43mindex\u001b[49m\u001b[43m(\u001b[49m\u001b[38;5;124;43m\"\u001b[39;49m\u001b[38;5;124;43mz\u001b[39;49m\u001b[38;5;124;43m\"\u001b[39;49m\u001b[43m)\u001b[49m\n\u001b[0;32m      3\u001b[0m \u001b[38;5;28mprint\u001b[39m(\u001b[38;5;124m\"\u001b[39m\u001b[38;5;124mhello world\u001b[39m\u001b[38;5;124m\"\u001b[39m)\n",
      "\u001b[1;31mValueError\u001b[0m: substring not found"
     ]
    }
   ],
   "source": [
    "a = \"HelloWorld\"\n",
    "a.index(\"z\")\n",
    "print(\"hello world\")"
   ]
  },
  {
   "cell_type": "code",
   "execution_count": 6,
   "id": "bee17440-a308-40e4-821c-e25a7e691641",
   "metadata": {},
   "outputs": [
    {
     "name": "stdout",
     "output_type": "stream",
     "text": [
      "hello world\n"
     ]
    },
    {
     "ename": "ValueError",
     "evalue": "substring not found",
     "output_type": "error",
     "traceback": [
      "\u001b[1;31m---------------------------------------------------------------------------\u001b[0m",
      "\u001b[1;31mValueError\u001b[0m                                Traceback (most recent call last)",
      "Cell \u001b[1;32mIn[6], line 3\u001b[0m\n\u001b[0;32m      1\u001b[0m \u001b[38;5;28mprint\u001b[39m(\u001b[38;5;124m\"\u001b[39m\u001b[38;5;124mhello world\u001b[39m\u001b[38;5;124m\"\u001b[39m)  \u001b[38;5;66;03m# interpretted programming language\u001b[39;00m\n\u001b[0;32m      2\u001b[0m a \u001b[38;5;241m=\u001b[39m \u001b[38;5;124m\"\u001b[39m\u001b[38;5;124mHelloWorld\u001b[39m\u001b[38;5;124m\"\u001b[39m\n\u001b[1;32m----> 3\u001b[0m \u001b[43ma\u001b[49m\u001b[38;5;241;43m.\u001b[39;49m\u001b[43mindex\u001b[49m\u001b[43m(\u001b[49m\u001b[38;5;124;43m\"\u001b[39;49m\u001b[38;5;124;43mz\u001b[39;49m\u001b[38;5;124;43m\"\u001b[39;49m\u001b[43m)\u001b[49m\n",
      "\u001b[1;31mValueError\u001b[0m: substring not found"
     ]
    }
   ],
   "source": [
    "print(\"hello world\")  # interpretted programming language\n",
    "a = \"HelloWorld\"\n",
    "a.index(\"z\")\n",
    "\n"
   ]
  },
  {
   "cell_type": "code",
   "execution_count": 10,
   "id": "eacfff4c-0cd0-467d-aad9-ce5ed52e80e9",
   "metadata": {},
   "outputs": [
    {
     "name": "stdout",
     "output_type": "stream",
     "text": [
      "5\n",
      "hello world\n"
     ]
    }
   ],
   "source": [
    "a = \"HelloWorld\"\n",
    "print(a.find(\"W\"))\n",
    "\n",
    "print(\"hello world\")"
   ]
  },
  {
   "cell_type": "code",
   "execution_count": 11,
   "id": "165365e4-b5c3-4a8b-97b8-1bd0dbdb02cd",
   "metadata": {},
   "outputs": [
    {
     "name": "stdout",
     "output_type": "stream",
     "text": [
      "-1\n",
      "hello world\n"
     ]
    }
   ],
   "source": [
    "a = \"HelloWorld\"\n",
    "print(a.find(\"z\"))\n",
    "print(\"hello world\")"
   ]
  },
  {
   "cell_type": "code",
   "execution_count": 64,
   "id": "64e8235e-cf56-40da-a7ad-4212f2d501eb",
   "metadata": {},
   "outputs": [
    {
     "data": {
      "text/plain": [
       "8"
      ]
     },
     "execution_count": 64,
     "metadata": {},
     "output_type": "execute_result"
    }
   ],
   "source": [
    "a = \"HelloWorld\" # returns the index from the last\n",
    "\n",
    "a.rindex(\"l\")"
   ]
  },
  {
   "cell_type": "code",
   "execution_count": 65,
   "id": "df0e4bb2-c3f5-43cc-8574-a612b069d525",
   "metadata": {},
   "outputs": [
    {
     "data": {
      "text/plain": [
       "'el'"
      ]
     },
     "execution_count": 65,
     "metadata": {},
     "output_type": "execute_result"
    }
   ],
   "source": [
    "a = \"HelloWorld\"\n",
    "# slicing is used to fetch the part of a sequence by giving the start: stop pos-1\n",
    "\n",
    "a[1:3]"
   ]
  },
  {
   "cell_type": "code",
   "execution_count": 66,
   "id": "cd30b052-df37-4075-8981-e1dd3483fff2",
   "metadata": {},
   "outputs": [
    {
     "data": {
      "text/plain": [
       "'Worl'"
      ]
     },
     "execution_count": 66,
     "metadata": {},
     "output_type": "execute_result"
    }
   ],
   "source": [
    "a = \"HelloWorld\"\n",
    "a[-5:-1] # seqobj[start:stop]"
   ]
  },
  {
   "cell_type": "code",
   "execution_count": 67,
   "id": "8f2b3d1a-2198-48ec-9f13-87e7b4defed3",
   "metadata": {},
   "outputs": [
    {
     "data": {
      "text/plain": [
       "'World'"
      ]
     },
     "execution_count": 67,
     "metadata": {},
     "output_type": "execute_result"
    }
   ],
   "source": [
    "a = \"HelloWorld\"\n",
    "a[5:] #if we did not provide the ending it will till the end of the sequence"
   ]
  },
  {
   "cell_type": "code",
   "execution_count": 68,
   "id": "f0e46146-16b5-4113-8e52-43a57ea10027",
   "metadata": {},
   "outputs": [
    {
     "data": {
      "text/plain": [
       "'Hello'"
      ]
     },
     "execution_count": 68,
     "metadata": {},
     "output_type": "execute_result"
    }
   ],
   "source": [
    "a = \"HelloWorld\"\n",
    "a[:5] # if we did not give the start by default it will start from 0"
   ]
  },
  {
   "cell_type": "code",
   "execution_count": 69,
   "id": "7d567161-de9c-45bf-bf83-e835bbb6b47c",
   "metadata": {},
   "outputs": [
    {
     "data": {
      "text/plain": [
       "'HloW'"
      ]
     },
     "execution_count": 69,
     "metadata": {},
     "output_type": "execute_result"
    }
   ],
   "source": [
    "a = \"Hello World\"  #0,1,2,3,4,5,6,7 -- 0,2,4,6 (these pos datas only it will return)\n",
    "a[0:8:2]  #seq[start:stop:step]\n"
   ]
  },
  {
   "cell_type": "code",
   "execution_count": 71,
   "id": "6923b668-dea6-4f46-9bf2-cce3eb034e1a",
   "metadata": {},
   "outputs": [
    {
     "data": {
      "text/plain": [
       "'HloWrd'"
      ]
     },
     "execution_count": 71,
     "metadata": {},
     "output_type": "execute_result"
    }
   ],
   "source": [
    "a = \"Hello World\"\n",
    "a[::2]"
   ]
  },
  {
   "cell_type": "code",
   "execution_count": 72,
   "id": "3cf0c614-2c73-4f24-afce-9f55793d5673",
   "metadata": {},
   "outputs": [
    {
     "name": "stdout",
     "output_type": "stream",
     "text": [
      "Hello World\n",
      "Hello World\n"
     ]
    }
   ],
   "source": [
    "a = \"Hello World\" \n",
    "a[::]\n",
    "\n",
    "print(a)\n",
    "print(a[::])\n"
   ]
  },
  {
   "cell_type": "code",
   "execution_count": 73,
   "id": "ef8c93c3-9fd6-4e34-be75-2bf598805714",
   "metadata": {},
   "outputs": [
    {
     "data": {
      "text/plain": [
       "'dlroW olleH'"
      ]
     },
     "execution_count": 73,
     "metadata": {},
     "output_type": "execute_result"
    }
   ],
   "source": [
    "a = \"Hello World\"\n",
    "a[::-1]  # returning the reversed(miror) vesrion of the sequence"
   ]
  },
  {
   "cell_type": "code",
   "execution_count": 74,
   "id": "b2582956-9b7d-4071-b027-72d3a8463f9d",
   "metadata": {},
   "outputs": [
    {
     "data": {
      "text/plain": [
       "'drWolH'"
      ]
     },
     "execution_count": 74,
     "metadata": {},
     "output_type": "execute_result"
    }
   ],
   "source": [
    "a[::-2]"
   ]
  },
  {
   "cell_type": "markdown",
   "id": "e37e9235-8f3c-4175-9507-4291f7d11108",
   "metadata": {},
   "source": [
    "# input\n",
    "    will take the input from the user as string"
   ]
  },
  {
   "cell_type": "code",
   "execution_count": 76,
   "id": "c7230e1b-b426-4382-b764-c4bc66f0bc92",
   "metadata": {},
   "outputs": [
    {
     "name": "stdin",
     "output_type": "stream",
     "text": [
      "enter a value 8\n"
     ]
    },
    {
     "data": {
      "text/plain": [
       "str"
      ]
     },
     "execution_count": 76,
     "metadata": {},
     "output_type": "execute_result"
    }
   ],
   "source": [
    "a = input(\"enter a value\")\n",
    "type(a)"
   ]
  },
  {
   "cell_type": "code",
   "execution_count": 77,
   "id": "6a611371-4d93-4835-b537-7dce420fefb1",
   "metadata": {},
   "outputs": [
    {
     "ename": "TypeError",
     "evalue": "can only concatenate str (not \"int\") to str",
     "output_type": "error",
     "traceback": [
      "\u001b[1;31m---------------------------------------------------------------------------\u001b[0m",
      "\u001b[1;31mTypeError\u001b[0m                                 Traceback (most recent call last)",
      "Cell \u001b[1;32mIn[77], line 1\u001b[0m\n\u001b[1;32m----> 1\u001b[0m \u001b[43ma\u001b[49m\u001b[38;5;241;43m+\u001b[39;49m\u001b[38;5;241;43m23\u001b[39;49m\n",
      "\u001b[1;31mTypeError\u001b[0m: can only concatenate str (not \"int\") to str"
     ]
    }
   ],
   "source": [
    "a+23"
   ]
  },
  {
   "cell_type": "code",
   "execution_count": 79,
   "id": "951f702e-b88d-4861-9b6b-7e0389e52ca9",
   "metadata": {},
   "outputs": [
    {
     "name": "stdin",
     "output_type": "stream",
     "text": [
      "enter val 1 hello\n"
     ]
    },
    {
     "ename": "ValueError",
     "evalue": "invalid literal for int() with base 10: 'hello'",
     "output_type": "error",
     "traceback": [
      "\u001b[1;31m---------------------------------------------------------------------------\u001b[0m",
      "\u001b[1;31mValueError\u001b[0m                                Traceback (most recent call last)",
      "Cell \u001b[1;32mIn[79], line 2\u001b[0m\n\u001b[0;32m      1\u001b[0m \u001b[38;5;66;03m#using the type conversion\u001b[39;00m\n\u001b[1;32m----> 2\u001b[0m val1 \u001b[38;5;241m=\u001b[39m \u001b[38;5;28;43mint\u001b[39;49m\u001b[43m(\u001b[49m\u001b[38;5;28;43minput\u001b[39;49m\u001b[43m(\u001b[49m\u001b[38;5;124;43m\"\u001b[39;49m\u001b[38;5;124;43menter val 1\u001b[39;49m\u001b[38;5;124;43m\"\u001b[39;49m\u001b[43m)\u001b[49m\u001b[43m)\u001b[49m\n\u001b[0;32m      3\u001b[0m val2 \u001b[38;5;241m=\u001b[39m \u001b[38;5;28mint\u001b[39m(\u001b[38;5;28minput\u001b[39m(\u001b[38;5;124m\"\u001b[39m\u001b[38;5;124menter val 2\u001b[39m\u001b[38;5;124m\"\u001b[39m))\n\u001b[0;32m      4\u001b[0m val1\u001b[38;5;241m+\u001b[39mval2\n",
      "\u001b[1;31mValueError\u001b[0m: invalid literal for int() with base 10: 'hello'"
     ]
    }
   ],
   "source": [
    "#using the type conversion\n",
    "val1 = int(input(\"enter val 1\"))\n",
    "val2 = int(input(\"enter val 2\"))\n",
    "val1+val2"
   ]
  },
  {
   "cell_type": "code",
   "execution_count": 80,
   "id": "1cacb707-0845-450e-afef-ea71c3fa3784",
   "metadata": {},
   "outputs": [
    {
     "name": "stdin",
     "output_type": "stream",
     "text": [
      "enter val 1 4.5\n"
     ]
    },
    {
     "ename": "ValueError",
     "evalue": "invalid literal for int() with base 10: '4.5'",
     "output_type": "error",
     "traceback": [
      "\u001b[1;31m---------------------------------------------------------------------------\u001b[0m",
      "\u001b[1;31mValueError\u001b[0m                                Traceback (most recent call last)",
      "Cell \u001b[1;32mIn[80], line 1\u001b[0m\n\u001b[1;32m----> 1\u001b[0m val1 \u001b[38;5;241m=\u001b[39m \u001b[38;5;28;43mint\u001b[39;49m\u001b[43m(\u001b[49m\u001b[38;5;28;43minput\u001b[39;49m\u001b[43m(\u001b[49m\u001b[38;5;124;43m\"\u001b[39;49m\u001b[38;5;124;43menter val 1\u001b[39;49m\u001b[38;5;124;43m\"\u001b[39;49m\u001b[43m)\u001b[49m\u001b[43m)\u001b[49m\n\u001b[0;32m      2\u001b[0m val2 \u001b[38;5;241m=\u001b[39m \u001b[38;5;28mint\u001b[39m(\u001b[38;5;28minput\u001b[39m(\u001b[38;5;124m\"\u001b[39m\u001b[38;5;124menter val 2\u001b[39m\u001b[38;5;124m\"\u001b[39m))\n\u001b[0;32m      3\u001b[0m val1\u001b[38;5;241m+\u001b[39mval2\n",
      "\u001b[1;31mValueError\u001b[0m: invalid literal for int() with base 10: '4.5'"
     ]
    }
   ],
   "source": [
    "val1 = int(input(\"enter val 1\"))\n",
    "val2 = int(input(\"enter val 2\"))\n",
    "val1+val2"
   ]
  },
  {
   "cell_type": "code",
   "execution_count": 81,
   "id": "c1623e47-5b58-4bc7-9aa8-2f4f256a557d",
   "metadata": {},
   "outputs": [
    {
     "data": {
      "text/plain": [
       "'print(4+2+8)'"
      ]
     },
     "execution_count": 81,
     "metadata": {},
     "output_type": "execute_result"
    }
   ],
   "source": [
    "\"print(4+2+8)\""
   ]
  },
  {
   "cell_type": "code",
   "execution_count": 82,
   "id": "d7a7e8d4-e818-4f1f-907d-88482ed05c5f",
   "metadata": {},
   "outputs": [
    {
     "name": "stdout",
     "output_type": "stream",
     "text": [
      "14\n"
     ]
    }
   ],
   "source": [
    "eval(\"print(4+2+8)\")  # converts the string into an python expression\n"
   ]
  },
  {
   "cell_type": "code",
   "execution_count": 85,
   "id": "13204da9-2c0c-4fe5-b35a-79dc3ff51be5",
   "metadata": {},
   "outputs": [
    {
     "name": "stdin",
     "output_type": "stream",
     "text": [
      "enter val 1 True\n",
      "enter val 2 8\n"
     ]
    },
    {
     "data": {
      "text/plain": [
       "9"
      ]
     },
     "execution_count": 85,
     "metadata": {},
     "output_type": "execute_result"
    }
   ],
   "source": [
    "val1 = eval(input(\"enter val 1\"))\n",
    "val2 = eval(input(\"enter val 2\"))\n",
    "val1+val2"
   ]
  },
  {
   "cell_type": "markdown",
   "id": "0d2988e1-3032-49c3-8a46-f5f985df3f0d",
   "metadata": {},
   "source": [
    "# string formatting\n",
    "    while defining a string in some places at the moment the values if we don't know we can use some place holders later part we can replace them with actual string"
   ]
  },
  {
   "cell_type": "code",
   "execution_count": 86,
   "id": "dee77af0-75bb-4130-a64a-f14ff871007f",
   "metadata": {},
   "outputs": [
    {
     "name": "stdin",
     "output_type": "stream",
     "text": [
      "enter the fruit juice you want  apple\n",
      "how many ice cubes you want 5\n",
      "how much you want 6\n"
     ]
    },
    {
     "name": "stdout",
     "output_type": "stream",
     "text": [
      "the choosed juice is apple with number of ice cubes are 5 qty is 6.000000 \n"
     ]
    }
   ],
   "source": [
    "fruit_juice = input(\"enter the fruit juice you want \")\n",
    "ice = eval(input(\"how many ice cubes you want\"))\n",
    "qty = eval(input(\"how much you want\"))\n",
    "\n",
    "print(\"the choosed juice is %s with number of ice cubes are %d qty is %f \"%(fruit_juice,ice,qty)) # data type conscious "
   ]
  },
  {
   "cell_type": "code",
   "execution_count": 101,
   "id": "037c7902-b838-4b68-abbb-dab3ca6bf62f",
   "metadata": {},
   "outputs": [
    {
     "name": "stdin",
     "output_type": "stream",
     "text": [
      "enter the fruit juice you want  apple\n",
      "how many ice cubes you want \"hello\"\n",
      "how much you want \"world\"\n"
     ]
    },
    {
     "ename": "TypeError",
     "evalue": "%d format: a real number is required, not str",
     "output_type": "error",
     "traceback": [
      "\u001b[1;31m---------------------------------------------------------------------------\u001b[0m",
      "\u001b[1;31mTypeError\u001b[0m                                 Traceback (most recent call last)",
      "Cell \u001b[1;32mIn[101], line 5\u001b[0m\n\u001b[0;32m      2\u001b[0m ice \u001b[38;5;241m=\u001b[39m \u001b[38;5;28meval\u001b[39m(\u001b[38;5;28minput\u001b[39m(\u001b[38;5;124m\"\u001b[39m\u001b[38;5;124mhow many ice cubes you want\u001b[39m\u001b[38;5;124m\"\u001b[39m))\n\u001b[0;32m      3\u001b[0m qty \u001b[38;5;241m=\u001b[39m \u001b[38;5;28meval\u001b[39m(\u001b[38;5;28minput\u001b[39m(\u001b[38;5;124m\"\u001b[39m\u001b[38;5;124mhow much you want\u001b[39m\u001b[38;5;124m\"\u001b[39m))\n\u001b[1;32m----> 5\u001b[0m \u001b[38;5;28mprint\u001b[39m(\u001b[38;5;124;43m\"\u001b[39;49m\u001b[38;5;124;43mthe choosed juice is \u001b[39;49m\u001b[38;5;132;43;01m%s\u001b[39;49;00m\u001b[38;5;124;43m with number of ice cubes are \u001b[39;49m\u001b[38;5;132;43;01m%d\u001b[39;49;00m\u001b[38;5;124;43m qty is \u001b[39;49m\u001b[38;5;132;43;01m%f\u001b[39;49;00m\u001b[38;5;124;43m \u001b[39;49m\u001b[38;5;124;43m\"\u001b[39;49m\u001b[38;5;241;43m%\u001b[39;49m\u001b[43m(\u001b[49m\u001b[43mfruit_juice\u001b[49m\u001b[43m,\u001b[49m\u001b[43mice\u001b[49m\u001b[43m,\u001b[49m\u001b[43mqty\u001b[49m\u001b[43m)\u001b[49m) \u001b[38;5;66;03m# data type conscious \u001b[39;00m\n",
      "\u001b[1;31mTypeError\u001b[0m: %d format: a real number is required, not str"
     ]
    }
   ],
   "source": [
    "fruit_juice = input(\"enter the fruit juice you want \")\n",
    "ice = eval(input(\"how many ice cubes you want\"))\n",
    "qty = eval(input(\"how much you want\"))\n",
    "\n",
    "print(\"the choosed juice is %s with number of ice cubes are %d qty is %f \"%(fruit_juice,ice,qty)) # data type conscious "
   ]
  },
  {
   "cell_type": "code",
   "execution_count": 89,
   "id": "c69bf371-193c-4348-a492-d040abb34e56",
   "metadata": {},
   "outputs": [
    {
     "name": "stdin",
     "output_type": "stream",
     "text": [
      "enter the fruit juice you want  6\n",
      "how many ice cubes you want 3\n",
      "how much you want \"hello\"\n"
     ]
    },
    {
     "name": "stdout",
     "output_type": "stream",
     "text": [
      "the choosed juice is 6 with number of ice cubes are 3 qty is hello \n"
     ]
    }
   ],
   "source": [
    "fruit_juice = input(\"enter the fruit juice you want \")\n",
    "ice = eval(input(\"how many ice cubes you want\"))\n",
    "qty = eval(input(\"how much you want\"))\n",
    "\n",
    "print(\"the choosed juice is {} with number of ice cubes are {} qty is {} \".format(fruit_juice,ice,qty))"
   ]
  },
  {
   "cell_type": "code",
   "execution_count": 90,
   "id": "b22e2756-71c3-49da-905c-428df3b5f767",
   "metadata": {},
   "outputs": [
    {
     "name": "stdin",
     "output_type": "stream",
     "text": [
      "enter the fruit juice you want  apple\n",
      "how many ice cubes you want 45\n",
      "how much you want enter in ml 23\n"
     ]
    },
    {
     "name": "stdout",
     "output_type": "stream",
     "text": [
      "the choosed juice is apple with number of ice cubes are 90 qty is 0.023 \n"
     ]
    }
   ],
   "source": [
    "fruit_juice = input(\"enter the fruit juice you want \")\n",
    "ice = eval(input(\"how many ice cubes you want\"))\n",
    "qty = eval(input(\"how much you want enter in ml\"))\n",
    "\n",
    "print(f\"the choosed juice is {fruit_juice} with number of ice cubes are {ice*2} qty is {qty/1000} \")"
   ]
  },
  {
   "cell_type": "markdown",
   "id": "a05e610c-deb5-4c09-9c2f-dc546be64bf8",
   "metadata": {},
   "source": [
    "# Operators:\n",
    "    => Arithmetic --7\n",
    "    => Assignment-- 7 \n",
    "    => comparison -- 6\n",
    "    => logical -- 3\n",
    "    => identical --2\n",
    "    => membership --2\n",
    "    => bitwise -- 6\n",
    "        total around 7 families of operators and 33 operators"
   ]
  },
  {
   "cell_type": "code",
   "execution_count": 108,
   "id": "56370445-4881-4127-ba68-31d6022a87ae",
   "metadata": {},
   "outputs": [
    {
     "data": {
      "text/plain": [
       "9"
      ]
     },
     "execution_count": 108,
     "metadata": {},
     "output_type": "execute_result"
    }
   ],
   "source": [
    "# arithmetic operators -- immutable operators-- a operator that does not change operand var origin value is called immutable operator\n",
    "a = 5\n",
    "b = 4\n",
    "a+b\n"
   ]
  },
  {
   "cell_type": "code",
   "execution_count": 109,
   "id": "917bd92a-6705-4d87-862a-a4de6c2f7044",
   "metadata": {},
   "outputs": [
    {
     "data": {
      "text/plain": [
       "5"
      ]
     },
     "execution_count": 109,
     "metadata": {},
     "output_type": "execute_result"
    }
   ],
   "source": [
    "a"
   ]
  },
  {
   "cell_type": "code",
   "execution_count": 110,
   "id": "3963f0ce-dfe7-404a-ac3e-a0379231a1e8",
   "metadata": {},
   "outputs": [
    {
     "data": {
      "text/plain": [
       "4"
      ]
     },
     "execution_count": 110,
     "metadata": {},
     "output_type": "execute_result"
    }
   ],
   "source": [
    "b"
   ]
  },
  {
   "cell_type": "code",
   "execution_count": 111,
   "id": "5a53bc08-a578-45c7-af6a-44431f0254f1",
   "metadata": {},
   "outputs": [
    {
     "data": {
      "text/plain": [
       "9"
      ]
     },
     "execution_count": 111,
     "metadata": {},
     "output_type": "execute_result"
    }
   ],
   "source": [
    "# arithmetic operators -- immutable operators-- a operator that does not change operand var origin value is called immutable operator\n",
    "a = 5\n",
    "b = 4\n",
    "c = a+b\n",
    "c"
   ]
  },
  {
   "cell_type": "code",
   "execution_count": 112,
   "id": "18956abe-b96f-4d84-8521-08b3f190d60b",
   "metadata": {},
   "outputs": [
    {
     "data": {
      "text/plain": [
       "'helloworld'"
      ]
     },
     "execution_count": 112,
     "metadata": {},
     "output_type": "execute_result"
    }
   ],
   "source": [
    "a = \"hello\"\n",
    "b = \"world\"\n",
    "a+b"
   ]
  },
  {
   "cell_type": "code",
   "execution_count": 113,
   "id": "1e86e0ea-1310-4b1d-a814-da110e45cb32",
   "metadata": {},
   "outputs": [
    {
     "data": {
      "text/plain": [
       "1"
      ]
     },
     "execution_count": 113,
     "metadata": {},
     "output_type": "execute_result"
    }
   ],
   "source": [
    "a = 5\n",
    "b = 4\n",
    "a - b"
   ]
  },
  {
   "cell_type": "code",
   "execution_count": 114,
   "id": "73736c65-0811-4485-895a-e4cd40ea7c79",
   "metadata": {},
   "outputs": [
    {
     "data": {
      "text/plain": [
       "20"
      ]
     },
     "execution_count": 114,
     "metadata": {},
     "output_type": "execute_result"
    }
   ],
   "source": [
    "a * b"
   ]
  },
  {
   "cell_type": "code",
   "execution_count": 115,
   "id": "5ea5077e-7b50-4953-ae94-3303164c16c7",
   "metadata": {},
   "outputs": [
    {
     "data": {
      "text/plain": [
       "1.25"
      ]
     },
     "execution_count": 115,
     "metadata": {},
     "output_type": "execute_result"
    }
   ],
   "source": [
    "a / b"
   ]
  },
  {
   "cell_type": "code",
   "execution_count": 37,
   "id": "66f30f39-1004-4677-b29a-524ee0f87274",
   "metadata": {},
   "outputs": [
    {
     "data": {
      "text/plain": [
       "1"
      ]
     },
     "execution_count": 37,
     "metadata": {},
     "output_type": "execute_result"
    }
   ],
   "source": [
    "a%b"
   ]
  },
  {
   "cell_type": "code",
   "execution_count": 116,
   "id": "06aee58a-2048-4409-9bfe-0ae00e5d1cda",
   "metadata": {},
   "outputs": [
    {
     "data": {
      "text/plain": [
       "25"
      ]
     },
     "execution_count": 116,
     "metadata": {},
     "output_type": "execute_result"
    }
   ],
   "source": [
    "a ** 2"
   ]
  },
  {
   "cell_type": "code",
   "execution_count": 117,
   "id": "4fde5dcd-0b9a-417e-b126-9edf050197ce",
   "metadata": {},
   "outputs": [
    {
     "data": {
      "text/plain": [
       "1"
      ]
     },
     "execution_count": 117,
     "metadata": {},
     "output_type": "execute_result"
    }
   ],
   "source": [
    "a // b"
   ]
  },
  {
   "cell_type": "code",
   "execution_count": 118,
   "id": "ae5c0258-3ce7-4ea1-a5ae-e914dfebc18f",
   "metadata": {},
   "outputs": [
    {
     "data": {
      "text/plain": [
       "5"
      ]
     },
     "execution_count": 118,
     "metadata": {},
     "output_type": "execute_result"
    }
   ],
   "source": [
    "a"
   ]
  },
  {
   "cell_type": "code",
   "execution_count": 119,
   "id": "a095e6b8-3cc6-4821-aa31-d595a98a4d14",
   "metadata": {},
   "outputs": [
    {
     "data": {
      "text/plain": [
       "4"
      ]
     },
     "execution_count": 119,
     "metadata": {},
     "output_type": "execute_result"
    }
   ],
   "source": [
    "b"
   ]
  },
  {
   "cell_type": "code",
   "execution_count": 121,
   "id": "284f42db-c79a-433f-9969-31882fc3c7e6",
   "metadata": {},
   "outputs": [
    {
     "data": {
      "text/plain": [
       "6"
      ]
     },
     "execution_count": 121,
     "metadata": {},
     "output_type": "execute_result"
    }
   ],
   "source": [
    "# assignment operators -- mutable operators -- that modifies the operand's(variable) origin value\n",
    "a = 4\n",
    "\n",
    "a += 2  # a = a+2\n",
    "a"
   ]
  },
  {
   "cell_type": "code",
   "execution_count": 122,
   "id": "3623e5f4-97cc-49c6-b297-a6e01ef462d5",
   "metadata": {},
   "outputs": [
    {
     "data": {
      "text/plain": [
       "3"
      ]
     },
     "execution_count": 122,
     "metadata": {},
     "output_type": "execute_result"
    }
   ],
   "source": [
    "a -= 3\n",
    "a"
   ]
  },
  {
   "cell_type": "code",
   "execution_count": 123,
   "id": "2e1a704d-abde-4b0f-b6a0-0d8d99f23000",
   "metadata": {},
   "outputs": [
    {
     "data": {
      "text/plain": [
       "12"
      ]
     },
     "execution_count": 123,
     "metadata": {},
     "output_type": "execute_result"
    }
   ],
   "source": [
    "a *= 4\n",
    "a"
   ]
  },
  {
   "cell_type": "code",
   "execution_count": 124,
   "id": "183427a0-f253-446f-be54-cf51cb497d1f",
   "metadata": {},
   "outputs": [
    {
     "data": {
      "text/plain": [
       "6.0"
      ]
     },
     "execution_count": 124,
     "metadata": {},
     "output_type": "execute_result"
    }
   ],
   "source": [
    "a /= 2\n",
    "a"
   ]
  },
  {
   "cell_type": "code",
   "execution_count": 125,
   "id": "21e73176-b1fb-45be-bf87-c71f81f6d5d4",
   "metadata": {},
   "outputs": [
    {
     "data": {
      "text/plain": [
       "36.0"
      ]
     },
     "execution_count": 125,
     "metadata": {},
     "output_type": "execute_result"
    }
   ],
   "source": [
    "a **= 2\n",
    "a"
   ]
  },
  {
   "cell_type": "code",
   "execution_count": 126,
   "id": "625397c4-0d92-49e0-9956-cebacbb942b9",
   "metadata": {},
   "outputs": [
    {
     "data": {
      "text/plain": [
       "7.0"
      ]
     },
     "execution_count": 126,
     "metadata": {},
     "output_type": "execute_result"
    }
   ],
   "source": [
    "a //= 5\n",
    "a"
   ]
  },
  {
   "cell_type": "code",
   "execution_count": 127,
   "id": "86a88f47-1bc1-4020-b5ad-a126e1db5595",
   "metadata": {},
   "outputs": [
    {
     "data": {
      "text/plain": [
       "3.0"
      ]
     },
     "execution_count": 127,
     "metadata": {},
     "output_type": "execute_result"
    }
   ],
   "source": [
    "a %= 4\n",
    "a"
   ]
  },
  {
   "cell_type": "code",
   "execution_count": 128,
   "id": "517769dc-5891-415e-85b1-0ab9191c1aca",
   "metadata": {},
   "outputs": [
    {
     "data": {
      "text/plain": [
       "True"
      ]
     },
     "execution_count": 128,
     "metadata": {},
     "output_type": "execute_result"
    }
   ],
   "source": [
    "# comparison operators  -- always returns boolean results -- immutable operators also known as relational operators\n",
    "\n",
    "a = 4\n",
    "b = 2\n",
    "\n",
    "a > b"
   ]
  },
  {
   "cell_type": "code",
   "execution_count": 129,
   "id": "6a530b3e-615f-468e-b47d-528effd45e05",
   "metadata": {},
   "outputs": [
    {
     "data": {
      "text/plain": [
       "False"
      ]
     },
     "execution_count": 129,
     "metadata": {},
     "output_type": "execute_result"
    }
   ],
   "source": [
    "a < b"
   ]
  },
  {
   "cell_type": "code",
   "execution_count": 130,
   "id": "2007b85a-f362-4e5a-b144-67eddfaf74c0",
   "metadata": {},
   "outputs": [
    {
     "data": {
      "text/plain": [
       "True"
      ]
     },
     "execution_count": 130,
     "metadata": {},
     "output_type": "execute_result"
    }
   ],
   "source": [
    "a >= b"
   ]
  },
  {
   "cell_type": "code",
   "execution_count": 131,
   "id": "11066ce9-ddf0-471c-9dad-b0d09b7d8f72",
   "metadata": {},
   "outputs": [
    {
     "data": {
      "text/plain": [
       "False"
      ]
     },
     "execution_count": 131,
     "metadata": {},
     "output_type": "execute_result"
    }
   ],
   "source": [
    "a <= b"
   ]
  },
  {
   "cell_type": "code",
   "execution_count": 132,
   "id": "1a774b12-18e0-44e0-a884-c37d5bc5f09b",
   "metadata": {},
   "outputs": [
    {
     "data": {
      "text/plain": [
       "False"
      ]
     },
     "execution_count": 132,
     "metadata": {},
     "output_type": "execute_result"
    }
   ],
   "source": [
    "a == b # value wise if both values are equal we get True"
   ]
  },
  {
   "cell_type": "code",
   "execution_count": 133,
   "id": "6068ddca-be57-4ae0-a9ab-abe4c22347d8",
   "metadata": {},
   "outputs": [
    {
     "data": {
      "text/plain": [
       "True"
      ]
     },
     "execution_count": 133,
     "metadata": {},
     "output_type": "execute_result"
    }
   ],
   "source": [
    "a != b # value wise if both values are not equal we get True"
   ]
  },
  {
   "cell_type": "code",
   "execution_count": 134,
   "id": "fde7763f-cc20-4243-b652-3fe086b201f7",
   "metadata": {},
   "outputs": [
    {
     "data": {
      "text/plain": [
       "4"
      ]
     },
     "execution_count": 134,
     "metadata": {},
     "output_type": "execute_result"
    }
   ],
   "source": [
    "a"
   ]
  },
  {
   "cell_type": "code",
   "execution_count": 135,
   "id": "33bed260-1bb1-4349-bb0a-00db62b3f965",
   "metadata": {},
   "outputs": [
    {
     "data": {
      "text/plain": [
       "2"
      ]
     },
     "execution_count": 135,
     "metadata": {},
     "output_type": "execute_result"
    }
   ],
   "source": [
    "b"
   ]
  },
  {
   "cell_type": "code",
   "execution_count": 136,
   "id": "a54f0370-a46b-42a1-9f58-dd1a94e2e1de",
   "metadata": {},
   "outputs": [
    {
     "data": {
      "text/plain": [
       "False"
      ]
     },
     "execution_count": 136,
     "metadata": {},
     "output_type": "execute_result"
    }
   ],
   "source": [
    "a = \"hello\"  # when you compare two seq it will compare first elements of the seq's\n",
    "b = \"world\"\n",
    "a > b "
   ]
  },
  {
   "cell_type": "code",
   "execution_count": 137,
   "id": "d4ec071c-557a-4a14-8da4-7fdfc8941030",
   "metadata": {},
   "outputs": [
    {
     "data": {
      "text/plain": [
       "104"
      ]
     },
     "execution_count": 137,
     "metadata": {},
     "output_type": "execute_result"
    }
   ],
   "source": [
    "ord(\"h\")  # ascii value of h"
   ]
  },
  {
   "cell_type": "code",
   "execution_count": 138,
   "id": "fb3fa239-429a-44fe-ad4d-ef2da71601eb",
   "metadata": {},
   "outputs": [
    {
     "data": {
      "text/plain": [
       "119"
      ]
     },
     "execution_count": 138,
     "metadata": {},
     "output_type": "execute_result"
    }
   ],
   "source": [
    "ord(\"w\")"
   ]
  },
  {
   "cell_type": "code",
   "execution_count": null,
   "id": "7ca57477-f50f-4836-9b85-43af40de421c",
   "metadata": {},
   "outputs": [],
   "source": []
  },
  {
   "cell_type": "code",
   "execution_count": 139,
   "id": "a0496af9-5def-41d3-89a0-902a3eb54fb4",
   "metadata": {},
   "outputs": [
    {
     "data": {
      "text/plain": [
       "4.5"
      ]
     },
     "execution_count": 139,
     "metadata": {},
     "output_type": "execute_result"
    }
   ],
   "source": [
    "# logical operators -- every args we put on and gate is true it will retrun last true value - it won't boolean result\n",
    "\n",
    "3 and \"hello\" and 4.5\n"
   ]
  },
  {
   "cell_type": "code",
   "execution_count": null,
   "id": "9cdf9ae8-1036-485c-96db-f18a29488ceb",
   "metadata": {},
   "outputs": [],
   "source": []
  },
  {
   "cell_type": "code",
   "execution_count": 2,
   "id": "87690303-d6d5-4862-8bd6-2d5e330b7ed9",
   "metadata": {},
   "outputs": [
    {
     "data": {
      "text/plain": [
       "[]"
      ]
     },
     "execution_count": 2,
     "metadata": {},
     "output_type": "execute_result"
    }
   ],
   "source": [
    "3 and [] and True and None  # if any values are false it will return first false value"
   ]
  },
  {
   "cell_type": "code",
   "execution_count": 5,
   "id": "76fcb21f-25db-4974-a2e7-78959722b48e",
   "metadata": {},
   "outputs": [
    {
     "data": {
      "text/plain": [
       "0"
      ]
     },
     "execution_count": 5,
     "metadata": {},
     "output_type": "execute_result"
    }
   ],
   "source": [
    "# short circuiting -- based one args operator returns the result we call it as short cicuiting\n",
    "0 and 4 and 89 and True"
   ]
  },
  {
   "cell_type": "code",
   "execution_count": 140,
   "id": "dba3c4d8-cba7-4ddb-86de-fdad89f66ee0",
   "metadata": {},
   "outputs": [
    {
     "data": {
      "text/plain": [
       "0"
      ]
     },
     "execution_count": 140,
     "metadata": {},
     "output_type": "execute_result"
    }
   ],
   "source": [
    "# or -  if every args we pass on \"or\" is false we get last false value\n",
    "[] or \"\" or 0"
   ]
  },
  {
   "cell_type": "code",
   "execution_count": 141,
   "id": "d35667c8-8f85-4848-b27b-cd355db4c09b",
   "metadata": {},
   "outputs": [
    {
     "data": {
      "text/plain": [
       "3"
      ]
     },
     "execution_count": 141,
     "metadata": {},
     "output_type": "execute_result"
    }
   ],
   "source": [
    "[] or 3 or 0 or 99 # if any args true it will return first true value"
   ]
  },
  {
   "cell_type": "code",
   "execution_count": 142,
   "id": "a598f12c-8816-49df-aa51-9784ec01ec2b",
   "metadata": {},
   "outputs": [
    {
     "data": {
      "text/plain": [
       "4"
      ]
     },
     "execution_count": 142,
     "metadata": {},
     "output_type": "execute_result"
    }
   ],
   "source": [
    "4 or None or 0 or \"\""
   ]
  },
  {
   "cell_type": "code",
   "execution_count": 31,
   "id": "5387b67e-0521-4551-8170-7d5dedb51838",
   "metadata": {},
   "outputs": [
    {
     "data": {
      "text/plain": [
       "False"
      ]
     },
     "execution_count": 31,
     "metadata": {},
     "output_type": "execute_result"
    }
   ],
   "source": [
    "not 3  # will return the opposite result of the given args boolean version"
   ]
  },
  {
   "cell_type": "code",
   "execution_count": 7,
   "id": "1080275c-ae39-4628-84a8-2a9d8381cf21",
   "metadata": {},
   "outputs": [
    {
     "data": {
      "text/plain": [
       "True"
      ]
     },
     "execution_count": 7,
     "metadata": {},
     "output_type": "execute_result"
    }
   ],
   "source": [
    "not \"\""
   ]
  },
  {
   "cell_type": "code",
   "execution_count": 44,
   "id": "5aec0115-d474-4637-9d74-3acb7e4af481",
   "metadata": {},
   "outputs": [
    {
     "name": "stdout",
     "output_type": "stream",
     "text": [
      "140737381065736\n",
      "140737381065736\n",
      "True\n",
      "True\n"
     ]
    }
   ],
   "source": [
    "# to check the memory of an var(obj) we use id\n",
    "\n",
    "a = 8\n",
    "b = 8\n",
    "print(id(a))\n",
    "print(id(b))\n",
    "print(a == b)\n",
    "print(a is b)  # memory wise if they equal is op will return true"
   ]
  },
  {
   "cell_type": "code",
   "execution_count": 48,
   "id": "8eb3e910-8eff-4f90-858c-1864f367fb90",
   "metadata": {},
   "outputs": [
    {
     "name": "stdout",
     "output_type": "stream",
     "text": [
      "1864825622976\n",
      "1864825502336\n",
      "True\n"
     ]
    }
   ],
   "source": [
    "# identical operators, is, is not\n",
    "\n",
    "a = [3, 4]  # list is mutable ds  \n",
    "b = [3, 4]\n",
    "  # only compares the value\n",
    "\n",
    "\"\"\"\n",
    "unlike the data types each data structures eventually will always have unique addres\n",
    "even though if the contains same values also\n",
    "\"\"\"\n",
    "print(id(a))\n",
    "print(id(b))\n",
    "print(a == b)"
   ]
  },
  {
   "cell_type": "code",
   "execution_count": 49,
   "id": "10fd0e9e-50de-4408-9b19-f967ac467bcc",
   "metadata": {},
   "outputs": [
    {
     "data": {
      "text/plain": [
       "False"
      ]
     },
     "execution_count": 49,
     "metadata": {},
     "output_type": "execute_result"
    }
   ],
   "source": [
    "a is b  # only compares the memory"
   ]
  },
  {
   "cell_type": "code",
   "execution_count": 50,
   "id": "7e1f75c3-29cc-46ed-89cd-c5d69a665f5c",
   "metadata": {},
   "outputs": [
    {
     "data": {
      "text/plain": [
       "True"
      ]
     },
     "execution_count": 50,
     "metadata": {},
     "output_type": "execute_result"
    }
   ],
   "source": [
    "a is not b"
   ]
  },
  {
   "cell_type": "code",
   "execution_count": 51,
   "id": "a9558f75-4e38-496b-91e0-ca49bbe95b70",
   "metadata": {},
   "outputs": [
    {
     "name": "stdout",
     "output_type": "stream",
     "text": [
      "1864825367168\n",
      "1864816454464\n",
      "False\n",
      "True\n"
     ]
    }
   ],
   "source": [
    "t1 = (5,3,9) # immutable\n",
    "t2 = (5,3,9)\n",
    "\n",
    "print(id(t1))\n",
    "print(id(t2))\n",
    "print(t1 is t2)\n",
    "print(t1 == t2)"
   ]
  },
  {
   "cell_type": "code",
   "execution_count": null,
   "id": "05fdb3b9-7b85-47dc-ac02-31602873555c",
   "metadata": {},
   "outputs": [],
   "source": [
    "# when we store a dtype in python it will store in only one memory no matter how many var name we give\n",
    "# they point the same address but data structre even though if they have same value they will get stored in\n",
    "# different addresses"
   ]
  },
  {
   "cell_type": "code",
   "execution_count": 52,
   "id": "de63b05d-a024-4d1c-bcdb-811a02cc4334",
   "metadata": {},
   "outputs": [
    {
     "data": {
      "text/plain": [
       "True"
      ]
     },
     "execution_count": 52,
     "metadata": {},
     "output_type": "execute_result"
    }
   ],
   "source": [
    "# membership operators -- this can be only performeble on a seq\n",
    "a = \"Python\"\n",
    "\"t\" in a\n"
   ]
  },
  {
   "cell_type": "code",
   "execution_count": 53,
   "id": "56edc40b-912b-4d68-9fbd-71424ce7d227",
   "metadata": {},
   "outputs": [
    {
     "data": {
      "text/plain": [
       "False"
      ]
     },
     "execution_count": 53,
     "metadata": {},
     "output_type": "execute_result"
    }
   ],
   "source": [
    "\"z\" in a"
   ]
  },
  {
   "cell_type": "code",
   "execution_count": 54,
   "id": "31e8a20d-3200-472a-9f93-b4f3ccb18911",
   "metadata": {},
   "outputs": [
    {
     "data": {
      "text/plain": [
       "False"
      ]
     },
     "execution_count": 54,
     "metadata": {},
     "output_type": "execute_result"
    }
   ],
   "source": [
    "\"y\" not in a"
   ]
  },
  {
   "cell_type": "code",
   "execution_count": 55,
   "id": "72189fb9-4cd2-4bd3-ae11-5efbfcf774dc",
   "metadata": {},
   "outputs": [
    {
     "data": {
      "text/plain": [
       "True"
      ]
     },
     "execution_count": 55,
     "metadata": {},
     "output_type": "execute_result"
    }
   ],
   "source": [
    "a = (6,2,1)\n",
    "6 in a"
   ]
  },
  {
   "cell_type": "code",
   "execution_count": 56,
   "id": "73f52220-646e-45a4-b9a3-4e22b9dabc36",
   "metadata": {},
   "outputs": [
    {
     "name": "stdout",
     "output_type": "stream",
     "text": [
      "0b101\n",
      "0b110\n"
     ]
    }
   ],
   "source": [
    "# bitwise operators -- perform operations on bit level(binary version)\n",
    "\n",
    "print(bin(5))  #00000101\n",
    "print(bin(6))"
   ]
  },
  {
   "cell_type": "code",
   "execution_count": 57,
   "id": "5fbb4733-b8e5-4ed7-895e-648038f142b4",
   "metadata": {},
   "outputs": [
    {
     "name": "stdout",
     "output_type": "stream",
     "text": [
      "4\n",
      "4\n"
     ]
    }
   ],
   "source": [
    "print(5 & 6)\n",
    "\"\"\"\n",
    "101 -- 5\n",
    "110 -- 6\n",
    "------\n",
    "100\n",
    "---\n",
    "\"\"\"\n",
    "print(int(0b100))"
   ]
  },
  {
   "cell_type": "code",
   "execution_count": 58,
   "id": "993321ee-2b82-4e4d-832c-2bbb94f9469a",
   "metadata": {},
   "outputs": [
    {
     "name": "stdout",
     "output_type": "stream",
     "text": [
      "7\n",
      "7\n"
     ]
    }
   ],
   "source": [
    "print(5 | 6)\n",
    "\"\"\"\n",
    "101 -- 5\n",
    "110 -- 6\n",
    "------\n",
    "111\n",
    "---\n",
    "\"\"\"\n",
    "print(int(0b111))"
   ]
  },
  {
   "cell_type": "code",
   "execution_count": 59,
   "id": "2d33797f-5ddd-4870-a983-ff7d48dfb45c",
   "metadata": {},
   "outputs": [
    {
     "name": "stdout",
     "output_type": "stream",
     "text": [
      "3\n",
      "3\n"
     ]
    }
   ],
   "source": [
    "print(5 ^ 6)\n",
    "\"\"\"\n",
    "# if every value same. output will be false \n",
    "101 -- 5\n",
    "110 -- 6\n",
    "------\n",
    "011\n",
    "---\n",
    "\"\"\"\n",
    "print(int(0b11))"
   ]
  },
  {
   "cell_type": "code",
   "execution_count": 60,
   "id": "d1f3704a-2f96-4c2d-a313-19e4d8ba6a9a",
   "metadata": {},
   "outputs": [
    {
     "data": {
      "text/plain": [
       "-6"
      ]
     },
     "execution_count": 60,
     "metadata": {},
     "output_type": "execute_result"
    }
   ],
   "source": [
    "# bitwise not -- (-n-1)\n",
    "~5"
   ]
  },
  {
   "cell_type": "code",
   "execution_count": 61,
   "id": "c51d66e5-6306-44bf-a386-f5028a13d0dd",
   "metadata": {},
   "outputs": [
    {
     "data": {
      "text/plain": [
       "4"
      ]
     },
     "execution_count": 61,
     "metadata": {},
     "output_type": "execute_result"
    }
   ],
   "source": [
    "~-5"
   ]
  },
  {
   "cell_type": "code",
   "execution_count": 62,
   "id": "15a31d23-8422-4909-8fdc-62cff7077c39",
   "metadata": {},
   "outputs": [
    {
     "name": "stdout",
     "output_type": "stream",
     "text": [
      "2\n",
      "2\n"
     ]
    }
   ],
   "source": [
    "# right shift -- removes last specified bits\n",
    "print(9 >> 2)\n",
    "\"\"\"\n",
    "1001\n",
    "\n",
    "10\n",
    "\"\"\"\n",
    "print(int(0b10))\n"
   ]
  },
  {
   "cell_type": "code",
   "execution_count": 63,
   "id": "261bceb7-af95-44f9-bea8-0e2ac22843da",
   "metadata": {},
   "outputs": [
    {
     "name": "stdout",
     "output_type": "stream",
     "text": [
      "32\n",
      "32\n"
     ]
    }
   ],
   "source": [
    "# left shift -- add 0 bits in the end\n",
    "print(4 << 3)\n",
    "\"\"\"\n",
    "100\n",
    "\n",
    "100000\n",
    "\"\"\"\n",
    "print(int(0b100000))"
   ]
  },
  {
   "cell_type": "markdown",
   "id": "b4b6b86c-3be3-4d7b-a426-520e8e46f8f3",
   "metadata": {},
   "source": [
    "# data structures -- \n",
    "    used to store n number of elements in a variable\n",
    "    => List -- Mutable(Modifyable), Ordered(pos base ops),  allow duplicates, hetrogeneous)\n",
    "    => Tuple-- IMMutable(cannot Modifyable), Ordered(pos base ops),  allow duplicates, hetrogeneous)\n",
    "    => Dictionary-- Mutable(Modifyable), unOrdered(pos base ops), not allow duplicates, hetrogeneous)\n",
    "    => Set-- Mutable(Modifyable), unOrdered(pos base ops),  not allow duplicates, hetrogeneous)\n",
    "    => Range-- IMMutable(Modifyable), Ordered(pos base ops),  allow duplicates, homogeneous)\n",
    "    "
   ]
  },
  {
   "cell_type": "code",
   "execution_count": 1,
   "id": "3ce63dd5-73d8-4d4a-a60c-4e34ff1d4c3a",
   "metadata": {},
   "outputs": [
    {
     "data": {
      "text/plain": [
       "[3, 2.3, True, 'Hello', 3]"
      ]
     },
     "execution_count": 1,
     "metadata": {},
     "output_type": "execute_result"
    }
   ],
   "source": [
    "#List -- Mutable(Modifyable), Ordered(pos base ops),  allow duplicates, hetrogeneous)\n",
    "\n",
    "# to create a list we use []\n",
    "\n",
    "l1 = [3, 2.3, True, \"Hello\", 3]\n",
    "l1"
   ]
  },
  {
   "cell_type": "code",
   "execution_count": 2,
   "id": "abd68193-518f-4bd0-9397-55b96d1b0f40",
   "metadata": {},
   "outputs": [
    {
     "data": {
      "text/plain": [
       "True"
      ]
     },
     "execution_count": 2,
     "metadata": {},
     "output_type": "execute_result"
    }
   ],
   "source": [
    "l1[2]"
   ]
  },
  {
   "cell_type": "code",
   "execution_count": 3,
   "id": "30068264-84c8-48d6-975b-c6d70a1bdf39",
   "metadata": {},
   "outputs": [
    {
     "data": {
      "text/plain": [
       "[2.3, True]"
      ]
     },
     "execution_count": 3,
     "metadata": {},
     "output_type": "execute_result"
    }
   ],
   "source": [
    "l1[1: 3]"
   ]
  },
  {
   "cell_type": "code",
   "execution_count": 4,
   "id": "f65522e6-1796-4255-abce-927aa5061189",
   "metadata": {},
   "outputs": [
    {
     "data": {
      "text/plain": [
       "[5, 2, 'hello', 12, 89]"
      ]
     },
     "execution_count": 4,
     "metadata": {},
     "output_type": "execute_result"
    }
   ],
   "source": [
    "# pos based update\n",
    "l1 = [5,2,9,12,89]\n",
    "l1[2] = \"hello\"\n",
    "l1"
   ]
  },
  {
   "cell_type": "code",
   "execution_count": 5,
   "id": "7622d6b0-6037-4d89-8278-9825753ad095",
   "metadata": {},
   "outputs": [
    {
     "data": {
      "text/plain": [
       "[4, 2, 9, 3]"
      ]
     },
     "execution_count": 5,
     "metadata": {},
     "output_type": "execute_result"
    }
   ],
   "source": [
    "# adding data into a list\n",
    "l1 = [4,2,9] #if a data structure allows to modify and if it never changes memory pos --mutable ds\n",
    "l1.append(3)  # adding the data into the end of the list\n",
    "l1"
   ]
  },
  {
   "cell_type": "code",
   "execution_count": 6,
   "id": "52d9cdf0-7801-4280-bc94-23c6a132d663",
   "metadata": {},
   "outputs": [
    {
     "data": {
      "text/plain": [
       "[3, 2, 7, 'Python', 9, 12]"
      ]
     },
     "execution_count": 6,
     "metadata": {},
     "output_type": "execute_result"
    }
   ],
   "source": [
    "l1 = [3,2,7,9,12]\n",
    "l1.insert(3, \"Python\")  # insert will add the data in specified pos\n",
    "l1"
   ]
  },
  {
   "cell_type": "code",
   "execution_count": 7,
   "id": "c7a88dd2-6cd5-4c5d-b0bf-fa0246cfc4d7",
   "metadata": {},
   "outputs": [
    {
     "name": "stdout",
     "output_type": "stream",
     "text": [
      "[4, 2, 8]\n"
     ]
    },
    {
     "data": {
      "text/plain": [
       "[4, 2, 8, 5, 2]"
      ]
     },
     "execution_count": 7,
     "metadata": {},
     "output_type": "execute_result"
    }
   ],
   "source": [
    "l1 = [4,2,8]  # will modify original l1 list\n",
    "\n",
    "print(l1)\n",
    "l1 += [5,2]  # duplicates will be allowed\n",
    "l1"
   ]
  },
  {
   "cell_type": "code",
   "execution_count": 8,
   "id": "a16f48e1-1ac2-41e6-9da1-51247c5fcba9",
   "metadata": {},
   "outputs": [
    {
     "data": {
      "text/plain": [
       "[4, 2, 5, 2]"
      ]
     },
     "execution_count": 8,
     "metadata": {},
     "output_type": "execute_result"
    }
   ],
   "source": [
    "l1 = [4,2]\n",
    "\n",
    "l2 = [5,2]\n",
    "\n",
    "l1.extend(l2) # extend, +=, are mutable methods and they allows duplicates\n",
    "l1"
   ]
  },
  {
   "cell_type": "code",
   "execution_count": 9,
   "id": "6d75f41d-6fe0-4bbd-aa4f-0d636d486905",
   "metadata": {},
   "outputs": [
    {
     "name": "stdout",
     "output_type": "stream",
     "text": [
      "[4, 2, 5, 2]\n",
      "[4, 2]\n",
      "[5, 2]\n"
     ]
    }
   ],
   "source": [
    "l1 = [4,2]\n",
    "\n",
    "l2 = [5,2]\n",
    "print(l1+l2)\n",
    "print(l1)\n",
    "print(l2)"
   ]
  },
  {
   "cell_type": "code",
   "execution_count": 10,
   "id": "90c80352-d5b1-4190-a18d-7f2389959d27",
   "metadata": {},
   "outputs": [
    {
     "name": "stdout",
     "output_type": "stream",
     "text": [
      "[4, 2, 5, 2]\n",
      "[4, 2]\n",
      "[5, 2]\n"
     ]
    }
   ],
   "source": [
    "l1 = [4,2]\n",
    "\n",
    "l2 = [5,2]\n",
    "l3=l1+l2\n",
    "print(l3)\n",
    "print(l1)\n",
    "print(l2)"
   ]
  },
  {
   "cell_type": "code",
   "execution_count": 11,
   "id": "ce531f34-474c-4189-b186-da2129084b84",
   "metadata": {},
   "outputs": [],
   "source": [
    "l1 = [4,1,7]\n",
    "del l1  # removing the whole list"
   ]
  },
  {
   "cell_type": "code",
   "execution_count": 12,
   "id": "d9256fce-5c65-4169-bfea-a9ca3bc4a7c3",
   "metadata": {},
   "outputs": [
    {
     "ename": "NameError",
     "evalue": "name 'l1' is not defined",
     "output_type": "error",
     "traceback": [
      "\u001b[1;31m---------------------------------------------------------------------------\u001b[0m",
      "\u001b[1;31mNameError\u001b[0m                                 Traceback (most recent call last)",
      "Cell \u001b[1;32mIn[12], line 1\u001b[0m\n\u001b[1;32m----> 1\u001b[0m \u001b[43ml1\u001b[49m\n",
      "\u001b[1;31mNameError\u001b[0m: name 'l1' is not defined"
     ]
    }
   ],
   "source": [
    "l1"
   ]
  },
  {
   "cell_type": "code",
   "execution_count": 14,
   "id": "4d57135c-d27e-415d-abba-9e0b6345d555",
   "metadata": {},
   "outputs": [
    {
     "name": "stdout",
     "output_type": "stream",
     "text": [
      "[3, 'hi', 2, 4]\n"
     ]
    }
   ],
   "source": [
    "# deleting datas from a list\n",
    "\n",
    "l1 = [3,\"hi\", 9.34,2,4]\n",
    "del l1[2]  # will delete data but not return the deleted data\n",
    "print(l1)"
   ]
  },
  {
   "cell_type": "code",
   "execution_count": 15,
   "id": "84fbb946-465c-436c-a31e-815e02332fa0",
   "metadata": {},
   "outputs": [
    {
     "ename": "SyntaxError",
     "evalue": "invalid syntax (3970796722.py, line 2)",
     "output_type": "error",
     "traceback": [
      "\u001b[1;36m  Cell \u001b[1;32mIn[15], line 2\u001b[1;36m\u001b[0m\n\u001b[1;33m    deleted_data = del l1[2]  # will delete data but not return the deleted data\u001b[0m\n\u001b[1;37m                   ^\u001b[0m\n\u001b[1;31mSyntaxError\u001b[0m\u001b[1;31m:\u001b[0m invalid syntax\n"
     ]
    }
   ],
   "source": [
    "l1 = [3,\"hi\", 9.34,2,4]\n",
    "deleted_data = del l1[2]  # will delete data but not return the deleted data\n",
    "print(l1)"
   ]
  },
  {
   "cell_type": "code",
   "execution_count": 18,
   "id": "b2396584-e84b-41b0-b8af-fc904122357d",
   "metadata": {},
   "outputs": [
    {
     "data": {
      "text/plain": [
       "9.34"
      ]
     },
     "execution_count": 18,
     "metadata": {},
     "output_type": "execute_result"
    }
   ],
   "source": [
    "l1 = [3,\"hi\", 9.34,2,4]\n",
    "poped_data=l1.pop(2)  # will delete data but  return the deleted data\n",
    "poped_data"
   ]
  },
  {
   "cell_type": "code",
   "execution_count": 19,
   "id": "e7afe24a-0f3a-4daa-8b61-af0b97a30216",
   "metadata": {},
   "outputs": [
    {
     "name": "stdout",
     "output_type": "stream",
     "text": [
      "[3, 'hi', 2, 4]\n"
     ]
    }
   ],
   "source": [
    "print(l1)"
   ]
  },
  {
   "cell_type": "code",
   "execution_count": 20,
   "id": "fc5f4386-8041-4d71-aaa4-f1d978575bce",
   "metadata": {},
   "outputs": [
    {
     "data": {
      "text/plain": [
       "4"
      ]
     },
     "execution_count": 20,
     "metadata": {},
     "output_type": "execute_result"
    }
   ],
   "source": [
    "l1 = [3,\"hi\", 9.34,2, 4]\n",
    "l1.pop() # will remove last pos data"
   ]
  },
  {
   "cell_type": "code",
   "execution_count": 21,
   "id": "74b01f8b-44cd-48ce-9352-e0e63e08a19f",
   "metadata": {},
   "outputs": [
    {
     "data": {
      "text/plain": [
       "[3, 'hi', 9.34, 2]"
      ]
     },
     "execution_count": 21,
     "metadata": {},
     "output_type": "execute_result"
    }
   ],
   "source": [
    "l1"
   ]
  },
  {
   "cell_type": "code",
   "execution_count": 23,
   "id": "22f32c83-d6e2-44ba-b5ae-a0e7060327ca",
   "metadata": {},
   "outputs": [
    {
     "data": {
      "text/plain": [
       "['hi', 9.34, 2, 4, 3, 4]"
      ]
     },
     "execution_count": 23,
     "metadata": {},
     "output_type": "execute_result"
    }
   ],
   "source": [
    "l1 = [3,\"hi\", 9.34,2, 4, 3,4]\n",
    "\n",
    "l1.remove(3)  # will remove data 3 first occurance\n",
    "l1"
   ]
  },
  {
   "cell_type": "code",
   "execution_count": 24,
   "id": "7c431c64-b7d8-4636-9501-e6ab9240fd3b",
   "metadata": {},
   "outputs": [
    {
     "data": {
      "text/plain": [
       "[]"
      ]
     },
     "execution_count": 24,
     "metadata": {},
     "output_type": "execute_result"
    }
   ],
   "source": [
    "l1 = [3,\"hi\", 9.34,2, 4, 3,4]\n",
    "l1.clear()  # remove all the elements from a list and return an empty list\n",
    "l1"
   ]
  },
  {
   "cell_type": "code",
   "execution_count": 25,
   "id": "fc02f7d5-e9ba-4a17-8496-bf76a9a0e1fb",
   "metadata": {},
   "outputs": [
    {
     "data": {
      "text/plain": [
       "[3, 4, 5, 7, 8, 12]"
      ]
     },
     "execution_count": 25,
     "metadata": {},
     "output_type": "execute_result"
    }
   ],
   "source": [
    "# ordering -- asc, desc\n",
    "\n",
    "l1 = [4,12,7,8,3,5]\n",
    "l1.sort()  # will do ascending order and modify original list mutable method\n",
    "l1"
   ]
  },
  {
   "cell_type": "code",
   "execution_count": 26,
   "id": "5d5da722-9fb2-472c-bfe5-6961b65f7ce4",
   "metadata": {},
   "outputs": [
    {
     "name": "stdout",
     "output_type": "stream",
     "text": [
      "[4, 12, 7, 8, 3, 5]\n",
      "[3, 4, 5, 7, 8, 12]\n"
     ]
    }
   ],
   "source": [
    "l1 = [4,12,7,8,3,5]\n",
    "l2 = sorted(l1)  # will do ascending order and will not modify original list\n",
    "print(l1)\n",
    "print(l2)"
   ]
  },
  {
   "cell_type": "code",
   "execution_count": 29,
   "id": "e365f2ba-0d4b-47dd-ae7e-9350d56053c7",
   "metadata": {},
   "outputs": [
    {
     "data": {
      "text/plain": [
       "[12, 8, 7, 5, 4, 3]"
      ]
     },
     "execution_count": 29,
     "metadata": {},
     "output_type": "execute_result"
    }
   ],
   "source": [
    "l1 = [4,12,7,8,3,5]\n",
    "l1.sort(reverse = True)  # will do descending order and modify original list\n",
    "l1"
   ]
  },
  {
   "cell_type": "code",
   "execution_count": 30,
   "id": "7e7903bd-121f-4071-897d-d5f54fc472ea",
   "metadata": {},
   "outputs": [
    {
     "name": "stdout",
     "output_type": "stream",
     "text": [
      "[4, 12, 7, 8, 3, 5]\n",
      "[12, 8, 7, 5, 4, 3]\n"
     ]
    }
   ],
   "source": [
    "l1 = [4,12,7,8,3,5]\n",
    "l2 = sorted(l1, reverse = True)  # will do descending order and will not modify original list\n",
    "print(l1)\n",
    "print(l2)"
   ]
  },
  {
   "cell_type": "code",
   "execution_count": 31,
   "id": "9dc48752-4802-4f00-8f8d-b549854dab6d",
   "metadata": {},
   "outputs": [
    {
     "data": {
      "text/plain": [
       "['apple', 'cherry', 'lemon', 'mango']"
      ]
     },
     "execution_count": 31,
     "metadata": {},
     "output_type": "execute_result"
    }
   ],
   "source": [
    "l1 = [\"lemon\", \"cherry\", \"mango\", \"apple\"]\n",
    "l1.sort()\n",
    "l1"
   ]
  },
  {
   "cell_type": "code",
   "execution_count": 32,
   "id": "f1b74e31-989d-48ec-82ee-2964b7902a40",
   "metadata": {},
   "outputs": [
    {
     "data": {
      "text/plain": [
       "['mango', 'lemon', 'cherry', 'apple']"
      ]
     },
     "execution_count": 32,
     "metadata": {},
     "output_type": "execute_result"
    }
   ],
   "source": [
    "l1 = [\"lemon\", \"cherry\", \"mango\", \"apple\"]\n",
    "l1.sort(reverse = True)\n",
    "l1"
   ]
  },
  {
   "cell_type": "code",
   "execution_count": 33,
   "id": "b532b162-6fac-416a-9963-8e96762b9c23",
   "metadata": {},
   "outputs": [
    {
     "data": {
      "text/plain": [
       "'lemoncherrymangoapple'"
      ]
     },
     "execution_count": 33,
     "metadata": {},
     "output_type": "execute_result"
    }
   ],
   "source": [
    "# merging all the strings from a list\n",
    "l1 = [\"lemon\", \"cherry\", \"mango\", \"apple\"]\n",
    "\"\".join(l1)\n"
   ]
  },
  {
   "cell_type": "code",
   "execution_count": 34,
   "id": "34b1f222-f123-4b79-ac89-bfeeb24874b3",
   "metadata": {},
   "outputs": [
    {
     "ename": "TypeError",
     "evalue": "sequence item 0: expected str instance, int found",
     "output_type": "error",
     "traceback": [
      "\u001b[1;31m---------------------------------------------------------------------------\u001b[0m",
      "\u001b[1;31mTypeError\u001b[0m                                 Traceback (most recent call last)",
      "Cell \u001b[1;32mIn[34], line 2\u001b[0m\n\u001b[0;32m      1\u001b[0m l1 \u001b[38;5;241m=\u001b[39m [\u001b[38;5;241m4\u001b[39m, \u001b[38;5;241m12\u001b[39m, \u001b[38;5;241m7\u001b[39m, \u001b[38;5;241m8\u001b[39m, \u001b[38;5;241m3\u001b[39m, \u001b[38;5;241m5\u001b[39m]\n\u001b[1;32m----> 2\u001b[0m \u001b[38;5;124;43m\"\u001b[39;49m\u001b[38;5;124;43m\"\u001b[39;49m\u001b[38;5;241;43m.\u001b[39;49m\u001b[43mjoin\u001b[49m\u001b[43m(\u001b[49m\u001b[43ml1\u001b[49m\u001b[43m)\u001b[49m\n",
      "\u001b[1;31mTypeError\u001b[0m: sequence item 0: expected str instance, int found"
     ]
    }
   ],
   "source": [
    "l1 = [4, 12, 7, 8, 3, 5]\n",
    "\"\".join(l1)"
   ]
  },
  {
   "cell_type": "code",
   "execution_count": 35,
   "id": "f3520d49-a7f7-43c4-bae9-142dfdd69d9a",
   "metadata": {},
   "outputs": [
    {
     "name": "stdout",
     "output_type": "stream",
     "text": [
      "[5, 3, 8, 7, 12, 4]\n"
     ]
    },
    {
     "data": {
      "text/plain": [
       "[4, 12, 7, 8, 3, 5]"
      ]
     },
     "execution_count": 35,
     "metadata": {},
     "output_type": "execute_result"
    }
   ],
   "source": [
    "l1 = [4, 12, 7, 8, 3, 5]\n",
    "print(l1[::-1])  # immutable\n",
    "l1"
   ]
  },
  {
   "cell_type": "code",
   "execution_count": 36,
   "id": "2a4354a1-876c-448d-8137-356007e86967",
   "metadata": {},
   "outputs": [
    {
     "data": {
      "text/plain": [
       "[5, 3, 8, 7, 12, 4]"
      ]
     },
     "execution_count": 36,
     "metadata": {},
     "output_type": "execute_result"
    }
   ],
   "source": [
    "l1 = [4, 12, 7, 8, 3, 5]\n",
    "l1.reverse() # mutable\n",
    "l1"
   ]
  },
  {
   "cell_type": "code",
   "execution_count": 37,
   "id": "08c7022e-f7e2-4c23-828c-394c36801507",
   "metadata": {},
   "outputs": [
    {
     "name": "stdout",
     "output_type": "stream",
     "text": [
      "[4, 12, 7, 8, 3, 5]\n",
      "[5, 3, 8, 7, 12, 4]\n"
     ]
    }
   ],
   "source": [
    "l1 = [4, 12, 7, 8, 3, 5]\n",
    "l2 = list(reversed(l1))  # to convert any other seq into list we can use \"list()\"\n",
    "print(l1)\n",
    "print(l2)\n"
   ]
  },
  {
   "cell_type": "code",
   "execution_count": 38,
   "id": "68a593e4-9e00-404b-8fea-38ab421a27b3",
   "metadata": {},
   "outputs": [
    {
     "name": "stdout",
     "output_type": "stream",
     "text": [
      "False\n",
      "True\n",
      "False\n",
      "True\n",
      "False\n",
      "True\n"
     ]
    }
   ],
   "source": [
    "l1 = [3,4,5]\n",
    "l2 = [5,6]\n",
    "\n",
    "print(l1> l2)\n",
    "print(l1< l2)\n",
    "print(l1== l2)\n",
    "print(l1!= l2)\n",
    "print(l1>= l2)\n",
    "print(l1 <=l2)\n",
    "\n",
    "# try logical, identical, membership"
   ]
  },
  {
   "cell_type": "code",
   "execution_count": 39,
   "id": "972b3d0f-33c6-4686-b634-d4f362f1567b",
   "metadata": {},
   "outputs": [
    {
     "ename": "TypeError",
     "evalue": "unsupported operand type(s) for -: 'list' and 'list'",
     "output_type": "error",
     "traceback": [
      "\u001b[1;31m---------------------------------------------------------------------------\u001b[0m",
      "\u001b[1;31mTypeError\u001b[0m                                 Traceback (most recent call last)",
      "Cell \u001b[1;32mIn[39], line 3\u001b[0m\n\u001b[0;32m      1\u001b[0m l1 \u001b[38;5;241m=\u001b[39m [\u001b[38;5;241m3\u001b[39m,\u001b[38;5;241m4\u001b[39m,\u001b[38;5;241m5\u001b[39m]\n\u001b[0;32m      2\u001b[0m l2 \u001b[38;5;241m=\u001b[39m [\u001b[38;5;241m5\u001b[39m,\u001b[38;5;241m6\u001b[39m]\n\u001b[1;32m----> 3\u001b[0m \u001b[43ml1\u001b[49m\u001b[38;5;241;43m-\u001b[39;49m\u001b[43ml2\u001b[49m\n",
      "\u001b[1;31mTypeError\u001b[0m: unsupported operand type(s) for -: 'list' and 'list'"
     ]
    }
   ],
   "source": [
    "l1 = [3,4,5]\n",
    "l2 = [5,6]\n",
    "l1-l2"
   ]
  },
  {
   "cell_type": "code",
   "execution_count": 40,
   "id": "3b082e2b-ec0d-4995-b301-519d2c9a5d77",
   "metadata": {},
   "outputs": [
    {
     "ename": "TypeError",
     "evalue": "can't multiply sequence by non-int of type 'list'",
     "output_type": "error",
     "traceback": [
      "\u001b[1;31m---------------------------------------------------------------------------\u001b[0m",
      "\u001b[1;31mTypeError\u001b[0m                                 Traceback (most recent call last)",
      "Cell \u001b[1;32mIn[40], line 3\u001b[0m\n\u001b[0;32m      1\u001b[0m l1 \u001b[38;5;241m=\u001b[39m [\u001b[38;5;241m3\u001b[39m,\u001b[38;5;241m4\u001b[39m,\u001b[38;5;241m5\u001b[39m]\n\u001b[0;32m      2\u001b[0m l2 \u001b[38;5;241m=\u001b[39m [\u001b[38;5;241m5\u001b[39m,\u001b[38;5;241m6\u001b[39m]\n\u001b[1;32m----> 3\u001b[0m \u001b[43ml1\u001b[49m\u001b[38;5;241;43m*\u001b[39;49m\u001b[43ml2\u001b[49m\n",
      "\u001b[1;31mTypeError\u001b[0m: can't multiply sequence by non-int of type 'list'"
     ]
    }
   ],
   "source": [
    "l1 = [3,4,5]\n",
    "l2 = [5,6]\n",
    "l1*l2"
   ]
  },
  {
   "cell_type": "code",
   "execution_count": 41,
   "id": "51b90108-99d9-4a76-877a-a51d46b5e3f1",
   "metadata": {},
   "outputs": [
    {
     "data": {
      "text/plain": [
       "[3, 4, 5, 3, 4, 5]"
      ]
     },
     "execution_count": 41,
     "metadata": {},
     "output_type": "execute_result"
    }
   ],
   "source": [
    "l1 = [3,4,5]\n",
    "l1 * 2 # repetition operator"
   ]
  },
  {
   "cell_type": "code",
   "execution_count": 42,
   "id": "bc6e805f-a25b-4ffe-8b35-454f471b91ce",
   "metadata": {},
   "outputs": [],
   "source": [
    "# +,*, comparison, identical, membership, logical -- supports with list"
   ]
  },
  {
   "cell_type": "code",
   "execution_count": 43,
   "id": "0a6cdfbc-5e39-4b33-8c7b-680d678d0aa4",
   "metadata": {},
   "outputs": [
    {
     "data": {
      "text/plain": [
       "['h', 'e', 'l', 'l', 'o', ' ', 'w', 'o', 'r', 'l', 'd']"
      ]
     },
     "execution_count": 43,
     "metadata": {},
     "output_type": "execute_result"
    }
   ],
   "source": [
    "# type conversion -- to convert any other data structure to list \"list()\"\n",
    "str1 = \"hello world\"\n",
    "list(str1)"
   ]
  },
  {
   "cell_type": "code",
   "execution_count": 44,
   "id": "b83fa924-aadc-4272-841d-b64dad5f821f",
   "metadata": {},
   "outputs": [
    {
     "name": "stdout",
     "output_type": "stream",
     "text": [
      "['hello world']\n"
     ]
    }
   ],
   "source": [
    "str1 = \"hello world\"\n",
    "print([str1])"
   ]
  },
  {
   "cell_type": "code",
   "execution_count": 45,
   "id": "44fe184c-bd27-457d-a938-c16cc6552843",
   "metadata": {},
   "outputs": [
    {
     "name": "stdout",
     "output_type": "stream",
     "text": [
      "45\n",
      "12\n",
      "67\n",
      "28\n"
     ]
    }
   ],
   "source": [
    "# list of variables = list of values -- unpacking\n",
    "\n",
    "[apple, orange, cherry, kiwi] = [45,67,28,12]\n",
    "\n",
    "\n",
    "print(apple)\n",
    "print(kiwi)\n",
    "print(orange)\n",
    "print(cherry)\n"
   ]
  },
  {
   "cell_type": "code",
   "execution_count": 46,
   "id": "fe31a809-8c29-4c76-82c7-d8798cd2ddd8",
   "metadata": {},
   "outputs": [
    {
     "ename": "ValueError",
     "evalue": "not enough values to unpack (expected 4, got 3)",
     "output_type": "error",
     "traceback": [
      "\u001b[1;31m---------------------------------------------------------------------------\u001b[0m",
      "\u001b[1;31mValueError\u001b[0m                                Traceback (most recent call last)",
      "Cell \u001b[1;32mIn[46], line 1\u001b[0m\n\u001b[1;32m----> 1\u001b[0m [apple, orange, cherry, kiwi] \u001b[38;5;241m=\u001b[39m [\u001b[38;5;241m45\u001b[39m,\u001b[38;5;241m67\u001b[39m,\u001b[38;5;241m28\u001b[39m]  \u001b[38;5;66;03m#more var less value won't work\u001b[39;00m\n",
      "\u001b[1;31mValueError\u001b[0m: not enough values to unpack (expected 4, got 3)"
     ]
    }
   ],
   "source": [
    "[apple, orange, cherry, kiwi] = [45,67,28]  #more var less value won't work"
   ]
  },
  {
   "cell_type": "code",
   "execution_count": 47,
   "id": "e518daa7-a7f9-45eb-a5eb-c9fbf46f846b",
   "metadata": {},
   "outputs": [
    {
     "ename": "ValueError",
     "evalue": "too many values to unpack (expected 4)",
     "output_type": "error",
     "traceback": [
      "\u001b[1;31m---------------------------------------------------------------------------\u001b[0m",
      "\u001b[1;31mValueError\u001b[0m                                Traceback (most recent call last)",
      "Cell \u001b[1;32mIn[47], line 1\u001b[0m\n\u001b[1;32m----> 1\u001b[0m [apple, orange, cherry, kiwi] \u001b[38;5;241m=\u001b[39m [\u001b[38;5;241m45\u001b[39m,\u001b[38;5;241m67\u001b[39m,\u001b[38;5;241m28\u001b[39m,\u001b[38;5;241m12\u001b[39m,\u001b[38;5;241m67\u001b[39m,\u001b[38;5;241m12\u001b[39m]\n",
      "\u001b[1;31mValueError\u001b[0m: too many values to unpack (expected 4)"
     ]
    }
   ],
   "source": [
    "[apple, orange, cherry, kiwi] = [45,67,28,12,67,12]"
   ]
  },
  {
   "cell_type": "code",
   "execution_count": 48,
   "id": "4b35d949-0df1-4825-a7fd-e37533d4c349",
   "metadata": {},
   "outputs": [
    {
     "name": "stdout",
     "output_type": "stream",
     "text": [
      "45\n",
      "67\n",
      "[28, 12, 67]\n",
      "90\n"
     ]
    }
   ],
   "source": [
    "[apple, orange, *cherry, kiwi] = [45,67,28,12,67,90] # remaining value we store in the cherry using \"*\"\n",
    "print(apple)\n",
    "print(orange)\n",
    "print(cherry)\n",
    "print(kiwi)\n"
   ]
  },
  {
   "cell_type": "code",
   "execution_count": 49,
   "id": "03f3c21d-3d19-4ba8-9018-3ae211e86d3b",
   "metadata": {},
   "outputs": [
    {
     "name": "stdout",
     "output_type": "stream",
     "text": [
      "[45, 67, 28]\n",
      "12\n",
      "67\n",
      "12\n"
     ]
    }
   ],
   "source": [
    "[*apple, orange, cherry, kiwi] = [45,67,28,12,67,12] # remaining value we store in the cherry using \"*\"\n",
    "print(apple)\n",
    "print(orange)\n",
    "print(cherry)\n",
    "print(kiwi)"
   ]
  },
  {
   "cell_type": "code",
   "execution_count": 50,
   "id": "9d528ffa-4b12-4efe-9bf2-35afea8d5c1b",
   "metadata": {},
   "outputs": [
    {
     "name": "stdout",
     "output_type": "stream",
     "text": [
      "67\n"
     ]
    }
   ],
   "source": [
    "print(cherry)"
   ]
  },
  {
   "cell_type": "code",
   "execution_count": 51,
   "id": "46c23b78-6ad4-4f51-8172-c26cf8240fec",
   "metadata": {},
   "outputs": [
    {
     "name": "stdout",
     "output_type": "stream",
     "text": [
      "45\n",
      "67.335\n",
      "False\n",
      "Python\n"
     ]
    }
   ],
   "source": [
    "[apple, orange, cherry, kiwi] = [45,67.335,False,\"Python\"]\n",
    "print(apple)\n",
    "print(orange)\n",
    "print(cherry)\n",
    "print(kiwi)"
   ]
  },
  {
   "cell_type": "code",
   "execution_count": 52,
   "id": "82493f82-a824-4297-a9b6-588663b92d71",
   "metadata": {},
   "outputs": [
    {
     "name": "stdout",
     "output_type": "stream",
     "text": [
      "3058289836288\n",
      "3058289836288\n",
      "[45, 12, 90]\n",
      "[45, 12, 90]\n"
     ]
    }
   ],
   "source": [
    "# copying and renaming\n",
    "\n",
    "#renaming\n",
    "l1 = [45,12,90,34]\n",
    "l2 = l1 # just giving another name for l1 list not creating a duplicate\n",
    "print(id(l1))\n",
    "print(id(l2))\n",
    "l2.pop()\n",
    "print(l1)\n",
    "print(l2)"
   ]
  },
  {
   "cell_type": "code",
   "execution_count": 54,
   "id": "0e2a2498-209a-45d6-a357-cdbaa72481a7",
   "metadata": {},
   "outputs": [
    {
     "name": "stdout",
     "output_type": "stream",
     "text": [
      "3058289836288\n",
      "3058289777856\n",
      "[45, 12, 90, 34]\n",
      "[45, 12, 90]\n"
     ]
    }
   ],
   "source": [
    "l1 = [45,12,90,34]\n",
    "l2 = l1.copy() # just  creating a duplicate\n",
    "print(id(l1))\n",
    "print(id(l2))\n",
    "l2.pop()\n",
    "print(l1)\n",
    "print(l2)"
   ]
  },
  {
   "cell_type": "code",
   "execution_count": 55,
   "id": "84b73ad1-5f0e-48a4-ad4f-ca63758d9a75",
   "metadata": {},
   "outputs": [
    {
     "name": "stdout",
     "output_type": "stream",
     "text": [
      "12\n",
      "90\n",
      "5\n",
      "193\n"
     ]
    }
   ],
   "source": [
    "#common methods among all the data structures\n",
    "l1 = [45,12,90,34,12]\n",
    "#immutable methods\n",
    "print(min(l1)) # keep your ds as homogeneous to get proper result\n",
    "print(max(l1)) # keep your ds as homogeneous to get proper result\n",
    "print(len(l1))\n",
    "print(sum(l1)) # keep your ds as homogeneous to get proper result\n"
   ]
  },
  {
   "cell_type": "code",
   "execution_count": 56,
   "id": "0388c051-86cc-4ef0-90d7-89edf4157b39",
   "metadata": {},
   "outputs": [
    {
     "ename": "TypeError",
     "evalue": "unsupported operand type(s) for +: 'int' and 'str'",
     "output_type": "error",
     "traceback": [
      "\u001b[1;31m---------------------------------------------------------------------------\u001b[0m",
      "\u001b[1;31mTypeError\u001b[0m                                 Traceback (most recent call last)",
      "Cell \u001b[1;32mIn[56], line 2\u001b[0m\n\u001b[0;32m      1\u001b[0m l2 \u001b[38;5;241m=\u001b[39m [\u001b[38;5;124m\"\u001b[39m\u001b[38;5;124mapple\u001b[39m\u001b[38;5;124m\"\u001b[39m, \u001b[38;5;124m\"\u001b[39m\u001b[38;5;124morange\u001b[39m\u001b[38;5;124m\"\u001b[39m, \u001b[38;5;124m\"\u001b[39m\u001b[38;5;124mlemon\u001b[39m\u001b[38;5;124m\"\u001b[39m]\n\u001b[1;32m----> 2\u001b[0m \u001b[38;5;28;43msum\u001b[39;49m\u001b[43m(\u001b[49m\u001b[43ml2\u001b[49m\u001b[43m)\u001b[49m\n",
      "\u001b[1;31mTypeError\u001b[0m: unsupported operand type(s) for +: 'int' and 'str'"
     ]
    }
   ],
   "source": [
    "l2 = [\"apple\", \"orange\", \"lemon\"]\n",
    "sum(l2)"
   ]
  },
  {
   "cell_type": "code",
   "execution_count": 57,
   "id": "74330978-13b9-4904-aade-c2112c62ff06",
   "metadata": {},
   "outputs": [
    {
     "ename": "TypeError",
     "evalue": "'<' not supported between instances of 'str' and 'bool'",
     "output_type": "error",
     "traceback": [
      "\u001b[1;31m---------------------------------------------------------------------------\u001b[0m",
      "\u001b[1;31mTypeError\u001b[0m                                 Traceback (most recent call last)",
      "Cell \u001b[1;32mIn[57], line 2\u001b[0m\n\u001b[0;32m      1\u001b[0m l1 \u001b[38;5;241m=\u001b[39m [\u001b[38;5;241m4\u001b[39m,\u001b[38;5;241m2\u001b[39m,\u001b[38;5;241m9.4\u001b[39m, \u001b[38;5;28;01mTrue\u001b[39;00m, \u001b[38;5;124m\"\u001b[39m\u001b[38;5;124mhello\u001b[39m\u001b[38;5;124m\"\u001b[39m]\n\u001b[1;32m----> 2\u001b[0m \u001b[38;5;28;43mmin\u001b[39;49m\u001b[43m(\u001b[49m\u001b[43ml1\u001b[49m\u001b[43m)\u001b[49m\n",
      "\u001b[1;31mTypeError\u001b[0m: '<' not supported between instances of 'str' and 'bool'"
     ]
    }
   ],
   "source": [
    "l1 = [4,2,9.4, True, \"hello\"]\n",
    "min(l1)"
   ]
  },
  {
   "cell_type": "code",
   "execution_count": 58,
   "id": "3f21a490-391e-459f-b272-4fcd8d796b05",
   "metadata": {},
   "outputs": [
    {
     "name": "stdout",
     "output_type": "stream",
     "text": [
      "<class 'list'>\n"
     ]
    },
    {
     "data": {
      "text/plain": [
       "3"
      ]
     },
     "execution_count": 58,
     "metadata": {},
     "output_type": "execute_result"
    }
   ],
   "source": [
    "l1 = [1,2,3,1,2,3,4,5,6,3,2]\n",
    "print(type(l1))\n",
    "l1.count(2)"
   ]
  },
  {
   "cell_type": "code",
   "execution_count": null,
   "id": "f72314d0-18a5-4ed0-bbf1-1cd5cc0cc452",
   "metadata": {},
   "outputs": [],
   "source": [
    "# tuple -- immutable, ordered, hetrogeneous, duplicated -- they are faster then list"
   ]
  },
  {
   "cell_type": "code",
   "execution_count": null,
   "id": "d5174d2a-8bf3-4c3d-8de5-67f5c9c2dc41",
   "metadata": {},
   "outputs": [],
   "source": [
    "#mutable -- append, insert, extend, +=,del [], del , pop(pos), pop(),clear(), remove,.sort(),.reverse()\n",
    "#immutable -- indexing, slicing, min, max, len, sum, .count, +, *,logical,member,identic, compar, .copy"
   ]
  },
  {
   "cell_type": "markdown",
   "id": "cf2ea656-b793-454c-a0fd-ea5651635456",
   "metadata": {},
   "source": [
    "# mutable datastructure --\n",
    "    when we perform any method or actions on a data structure if it does not changes its memory address we call it as mutable datastructure\n",
    "\n",
    "# immutable datastructure --\n",
    "    when we perform any method or actions on a data structure if it does  changes its memory address we call it as immutable datastructure"
   ]
  },
  {
   "cell_type": "code",
   "execution_count": 59,
   "id": "11283417-bb9a-4f4a-ba74-889120eb3fa2",
   "metadata": {},
   "outputs": [
    {
     "name": "stdout",
     "output_type": "stream",
     "text": [
      "<class 'tuple'>\n"
     ]
    },
    {
     "data": {
      "text/plain": [
       "(23, 45, 89)"
      ]
     },
     "execution_count": 59,
     "metadata": {},
     "output_type": "execute_result"
    }
   ],
   "source": [
    "# assignment \n",
    "# tuple -- immutable, ordered, hetrogeneous, duplicates allowed, we can create tuple using ()\n",
    "t1 = 23,45,89\n",
    "print(type(t1))\n",
    "\n",
    "t1"
   ]
  },
  {
   "cell_type": "code",
   "execution_count": 60,
   "id": "dc957e02-e970-4336-836b-f5a2edfdf9f7",
   "metadata": {},
   "outputs": [
    {
     "name": "stdout",
     "output_type": "stream",
     "text": [
      "<class 'int'>\n"
     ]
    },
    {
     "data": {
      "text/plain": [
       "45"
      ]
     },
     "execution_count": 60,
     "metadata": {},
     "output_type": "execute_result"
    }
   ],
   "source": [
    "t2 = (45)\n",
    "print(type(t2))\n",
    "t2"
   ]
  },
  {
   "cell_type": "code",
   "execution_count": 61,
   "id": "b5da2782-abc3-4fcb-810c-67834b4d5bc9",
   "metadata": {},
   "outputs": [
    {
     "name": "stdout",
     "output_type": "stream",
     "text": [
      "<class 'tuple'>\n"
     ]
    }
   ],
   "source": [
    "t2 = (45, ) # to create tuple with one value\n",
    "print(type(t2))"
   ]
  },
  {
   "cell_type": "code",
   "execution_count": 62,
   "id": "445aa59c-a4ac-4682-9ba8-0ba6a92763c7",
   "metadata": {},
   "outputs": [
    {
     "ename": "AttributeError",
     "evalue": "'tuple' object has no attribute 'append'",
     "output_type": "error",
     "traceback": [
      "\u001b[1;31m---------------------------------------------------------------------------\u001b[0m",
      "\u001b[1;31mAttributeError\u001b[0m                            Traceback (most recent call last)",
      "Cell \u001b[1;32mIn[62], line 2\u001b[0m\n\u001b[0;32m      1\u001b[0m t1 \u001b[38;5;241m=\u001b[39m (\u001b[38;5;241m4\u001b[39m,\u001b[38;5;241m2\u001b[39m,\u001b[38;5;241m7\u001b[39m,\u001b[38;5;241m8\u001b[39m,\u001b[38;5;241m4\u001b[39m,\u001b[38;5;241m5\u001b[39m,\u001b[38;5;241m2\u001b[39m) \u001b[38;5;66;03m# immutable\u001b[39;00m\n\u001b[1;32m----> 2\u001b[0m \u001b[43mt1\u001b[49m\u001b[38;5;241;43m.\u001b[39;49m\u001b[43mappend\u001b[49m(\u001b[38;5;241m5\u001b[39m)\n",
      "\u001b[1;31mAttributeError\u001b[0m: 'tuple' object has no attribute 'append'"
     ]
    }
   ],
   "source": [
    "t1 = (4,2,7,8,4,5,2) # immutable\n",
    "t1.append(5)"
   ]
  },
  {
   "cell_type": "code",
   "execution_count": 63,
   "id": "99d2c49e-287f-4f5f-8a76-3cc5baffc033",
   "metadata": {},
   "outputs": [
    {
     "name": "stdout",
     "output_type": "stream",
     "text": [
      "8\n"
     ]
    },
    {
     "data": {
      "text/plain": [
       "(4, 2, 7, 8, 4, 5, 2)"
      ]
     },
     "execution_count": 63,
     "metadata": {},
     "output_type": "execute_result"
    }
   ],
   "source": [
    "t1 = (4,2,7,8,4,5,2)  # allows duplicates\n",
    "print(max(t1))\n",
    "t1"
   ]
  },
  {
   "cell_type": "code",
   "execution_count": 64,
   "id": "4de4d29c-6696-458d-9735-15c74231b098",
   "metadata": {},
   "outputs": [
    {
     "data": {
      "text/plain": [
       "7"
      ]
     },
     "execution_count": 64,
     "metadata": {},
     "output_type": "execute_result"
    }
   ],
   "source": [
    "# ordered datastructure\n",
    "t1 = (4,2,7,8)\n",
    "t1[2]"
   ]
  },
  {
   "cell_type": "code",
   "execution_count": 65,
   "id": "42e60d25-c2a6-4ee6-b933-51ca7b8808c9",
   "metadata": {},
   "outputs": [
    {
     "data": {
      "text/plain": [
       "(4, 2.3, 'hello', False)"
      ]
     },
     "execution_count": 65,
     "metadata": {},
     "output_type": "execute_result"
    }
   ],
   "source": [
    "t1 = (4,2.3,\"hello\",False)  # hetrogeneous datastructure\n",
    "t1"
   ]
  },
  {
   "cell_type": "code",
   "execution_count": 66,
   "id": "932045c0-8719-4eb9-aba3-9e0c2c1b2e10",
   "metadata": {},
   "outputs": [],
   "source": [
    "# explore this operations on tuple\n",
    "\n",
    "#mutable -- append, insert, extend, +=,del [], del , pop(pos), pop(),clear(), remove,.sort(),.reverse()\n",
    "#immutable -- indexing, slicing, min, max, len, sum, .count, +, *,logical,member,identic, compar, .copy"
   ]
  },
  {
   "cell_type": "markdown",
   "id": "51f788ed-6fc2-4e81-8f3b-5f485a17fb66",
   "metadata": {},
   "source": [
    "# Dictionary\n",
    "    -- mutable, unordered,no duplicates(keys) , hetrogeneous\n",
    "    a mapping data structure key:value\n",
    "    to create a dictionary we use {}\n",
    "\n",
    "    all the dictionary conditions works on keys itself"
   ]
  },
  {
   "cell_type": "code",
   "execution_count": 70,
   "id": "0adcea35-a892-4601-99f2-c67ab67c2e9b",
   "metadata": {},
   "outputs": [
    {
     "data": {
      "text/plain": [
       "{'apple': False, 4: 'python', (3, 4): [1, 2, 4]}"
      ]
     },
     "execution_count": 70,
     "metadata": {},
     "output_type": "execute_result"
    }
   ],
   "source": [
    "d1 = {\"apple\":False, 4:\"python\", (3,4):[1,2,4]} # we cannot use list as key\n",
    "d1"
   ]
  },
  {
   "cell_type": "code",
   "execution_count": 71,
   "id": "26f3c5aa-ee06-4f8e-ae22-6a274638fa18",
   "metadata": {},
   "outputs": [
    {
     "ename": "KeyError",
     "evalue": "2",
     "output_type": "error",
     "traceback": [
      "\u001b[1;31m---------------------------------------------------------------------------\u001b[0m",
      "\u001b[1;31mKeyError\u001b[0m                                  Traceback (most recent call last)",
      "Cell \u001b[1;32mIn[71], line 1\u001b[0m\n\u001b[1;32m----> 1\u001b[0m \u001b[43md1\u001b[49m\u001b[43m[\u001b[49m\u001b[38;5;241;43m2\u001b[39;49m\u001b[43m]\u001b[49m \u001b[38;5;66;03m# unordered ds dictionary will not have position(indexing)\u001b[39;00m\n",
      "\u001b[1;31mKeyError\u001b[0m: 2"
     ]
    }
   ],
   "source": [
    "d1[2] # unordered ds dictionary will not have position(indexing)"
   ]
  },
  {
   "cell_type": "code",
   "execution_count": 72,
   "id": "8c6fb45e-146e-4f78-be21-e73ad8ebc955",
   "metadata": {},
   "outputs": [
    {
     "data": {
      "text/plain": [
       "'python'"
      ]
     },
     "execution_count": 72,
     "metadata": {},
     "output_type": "execute_result"
    }
   ],
   "source": [
    "d1[4] # accessing the data based on keys with in [\"key\"]"
   ]
  },
  {
   "cell_type": "code",
   "execution_count": 73,
   "id": "e64875e4-f611-4774-8344-c20f745dcee3",
   "metadata": {},
   "outputs": [
    {
     "data": {
      "text/plain": [
       "False"
      ]
     },
     "execution_count": 73,
     "metadata": {},
     "output_type": "execute_result"
    }
   ],
   "source": [
    "d1[\"apple\"]"
   ]
  },
  {
   "cell_type": "code",
   "execution_count": 74,
   "id": "bcfa7563-3a3a-421a-bf76-00baed1f6525",
   "metadata": {},
   "outputs": [
    {
     "ename": "AttributeError",
     "evalue": "'dict' object has no attribute 'append'",
     "output_type": "error",
     "traceback": [
      "\u001b[1;31m---------------------------------------------------------------------------\u001b[0m",
      "\u001b[1;31mAttributeError\u001b[0m                            Traceback (most recent call last)",
      "Cell \u001b[1;32mIn[74], line 2\u001b[0m\n\u001b[0;32m      1\u001b[0m d1 \u001b[38;5;241m=\u001b[39m {\u001b[38;5;124m\"\u001b[39m\u001b[38;5;124ma\u001b[39m\u001b[38;5;124m\"\u001b[39m:\u001b[38;5;241m2\u001b[39m, \u001b[38;5;124m\"\u001b[39m\u001b[38;5;124mb\u001b[39m\u001b[38;5;124m\"\u001b[39m:\u001b[38;5;241m3\u001b[39m}\n\u001b[1;32m----> 2\u001b[0m \u001b[43md1\u001b[49m\u001b[38;5;241;43m.\u001b[39;49m\u001b[43mappend\u001b[49m(\u001b[38;5;241m3\u001b[39m) \u001b[38;5;66;03m# try check insert, extend, +,.sort, .reverse, indexing, slicing will not support\u001b[39;00m\n\u001b[0;32m      3\u001b[0m \u001b[38;5;124;03m\"\"\"\u001b[39;00m\n\u001b[0;32m      4\u001b[0m \u001b[38;5;124;03mdictionary does not have pos, dictionary will not allow duplicate -- append needs pos as well as append will allow the duplicates\u001b[39;00m\n\u001b[0;32m      5\u001b[0m \u001b[38;5;124;03m\"\"\"\u001b[39;00m\n",
      "\u001b[1;31mAttributeError\u001b[0m: 'dict' object has no attribute 'append'"
     ]
    }
   ],
   "source": [
    "d1 = {\"a\":2, \"b\":3}\n",
    "d1.append(3) # try check insert, extend, +,.sort, .reverse, indexing, slicing will not support\n",
    "\"\"\"\n",
    "dictionary does not have pos, dictionary will not allow duplicate -- append needs pos as well as append will allow the duplicates\n",
    "\"\"\""
   ]
  },
  {
   "cell_type": "code",
   "execution_count": 75,
   "id": "dceab7fb-e546-4e79-9184-99cdbf62afaf",
   "metadata": {},
   "outputs": [
    {
     "data": {
      "text/plain": [
       "{'apple': 111, 'oragne': 12, 'kiwi': 90}"
      ]
     },
     "execution_count": 75,
     "metadata": {},
     "output_type": "execute_result"
    }
   ],
   "source": [
    "# proof that dictionary will not allow duplicates keys and it is mutable\n",
    "\n",
    "d1 = {\"apple\":34, \"oragne\":12, \"kiwi\":90, \"apple\":111 }\n",
    "d1"
   ]
  },
  {
   "cell_type": "code",
   "execution_count": 76,
   "id": "0485a52e-6eb2-4926-a964-8cf09f68a97d",
   "metadata": {},
   "outputs": [
    {
     "data": {
      "text/plain": [
       "{'apple': 111, 'oragne': 12, 'kiwi': 90, 'lemon': 55}"
      ]
     },
     "execution_count": 76,
     "metadata": {},
     "output_type": "execute_result"
    }
   ],
   "source": [
    "# to add or update a data into a dictionary\n",
    "d1[\"lemon\"] = 55\n",
    "d1"
   ]
  },
  {
   "cell_type": "code",
   "execution_count": 77,
   "id": "bcb387c2-f13e-4112-a7ec-2ced8239fb4c",
   "metadata": {},
   "outputs": [
    {
     "name": "stdout",
     "output_type": "stream",
     "text": [
      "{'apple': 34, 'oragne': 12, 'kiwi': 90}\n"
     ]
    },
    {
     "data": {
      "text/plain": [
       "{'apple': 68, 'oragne': 12, 'kiwi': 90}"
      ]
     },
     "execution_count": 77,
     "metadata": {},
     "output_type": "execute_result"
    }
   ],
   "source": [
    "# proof that dict won't allow the duplicates and update\n",
    "\n",
    "d1 = {\"apple\":34, \"oragne\":12, \"kiwi\":90 }\n",
    "print(d1)\n",
    "d1[\"apple\"] = 68\n",
    "d1"
   ]
  },
  {
   "cell_type": "code",
   "execution_count": 79,
   "id": "7621b2fe-0cc7-459c-86bb-bca3ba4506ef",
   "metadata": {},
   "outputs": [
    {
     "data": {
      "text/plain": [
       "{'apple': 54, 'oragne': 12, 'kiwi': 90, 'banana': 19, 'cherry': 15}"
      ]
     },
     "execution_count": 79,
     "metadata": {},
     "output_type": "execute_result"
    }
   ],
   "source": [
    "# +, extend() -- these methods allow the duplicate so that they cannot performed on a dictionary\n",
    "d1 = {\"apple\":34, \"oragne\":12, \"kiwi\":90 }\n",
    "d2 = {\"banana\":19, \"cherry\":15, \"apple\":54}\n",
    "d1.update(d2) # will remove the duplicates and merge the unique values in d1\n",
    "d1"
   ]
  },
  {
   "cell_type": "code",
   "execution_count": 80,
   "id": "8087503c-198f-437a-bbfe-085815730b39",
   "metadata": {},
   "outputs": [
    {
     "ename": "TypeError",
     "evalue": "pop expected at least 1 argument, got 0",
     "output_type": "error",
     "traceback": [
      "\u001b[1;31m---------------------------------------------------------------------------\u001b[0m",
      "\u001b[1;31mTypeError\u001b[0m                                 Traceback (most recent call last)",
      "Cell \u001b[1;32mIn[80], line 3\u001b[0m\n\u001b[0;32m      1\u001b[0m \u001b[38;5;66;03m# when we use pop() on a dictionary we should pass the key to deleted the item from dictionary\u001b[39;00m\n\u001b[0;32m      2\u001b[0m d1 \u001b[38;5;241m=\u001b[39m {\u001b[38;5;124m\"\u001b[39m\u001b[38;5;124mapple\u001b[39m\u001b[38;5;124m\"\u001b[39m:\u001b[38;5;241m34\u001b[39m, \u001b[38;5;124m\"\u001b[39m\u001b[38;5;124moragne\u001b[39m\u001b[38;5;124m\"\u001b[39m:\u001b[38;5;241m12\u001b[39m, \u001b[38;5;124m\"\u001b[39m\u001b[38;5;124mkiwi\u001b[39m\u001b[38;5;124m\"\u001b[39m:\u001b[38;5;241m90\u001b[39m }\n\u001b[1;32m----> 3\u001b[0m \u001b[43md1\u001b[49m\u001b[38;5;241;43m.\u001b[39;49m\u001b[43mpop\u001b[49m\u001b[43m(\u001b[49m\u001b[43m)\u001b[49m\n",
      "\u001b[1;31mTypeError\u001b[0m: pop expected at least 1 argument, got 0"
     ]
    }
   ],
   "source": [
    "# when we use pop() on a dictionary we should pass the key to deleted the item from dictionary\n",
    "d1 = {\"apple\":34, \"oragne\":12, \"kiwi\":90 }\n",
    "d1.pop()"
   ]
  },
  {
   "cell_type": "code",
   "execution_count": 7,
   "id": "695a6b5b-dc6d-4ad4-9d37-994c1e711e44",
   "metadata": {},
   "outputs": [
    {
     "data": {
      "text/plain": [
       "90"
      ]
     },
     "execution_count": 7,
     "metadata": {},
     "output_type": "execute_result"
    }
   ],
   "source": [
    "d1.pop(\"kiwi\")  # will remove the data and return\n"
   ]
  },
  {
   "cell_type": "code",
   "execution_count": 8,
   "id": "a9e1c295-894c-48cb-9baf-86ee480916f6",
   "metadata": {},
   "outputs": [
    {
     "data": {
      "text/plain": [
       "{'apple': 34, 'oragne': 12}"
      ]
     },
     "execution_count": 8,
     "metadata": {},
     "output_type": "execute_result"
    }
   ],
   "source": [
    "d1"
   ]
  },
  {
   "cell_type": "code",
   "execution_count": 81,
   "id": "5357963e-1476-44d3-a699-ae492ddf90ab",
   "metadata": {},
   "outputs": [
    {
     "data": {
      "text/plain": [
       "('kiwi', 90)"
      ]
     },
     "execution_count": 81,
     "metadata": {},
     "output_type": "execute_result"
    }
   ],
   "source": [
    "# to delete the last item from a dictionary use \"popitem()\"\n",
    "d1 = {\"apple\":34, \"oragne\":12, \"kiwi\":90 }\n",
    "d1.popitem()"
   ]
  },
  {
   "cell_type": "code",
   "execution_count": 82,
   "id": "98be39ce-7dba-408b-a8fe-641a9cf4d710",
   "metadata": {},
   "outputs": [
    {
     "data": {
      "text/plain": [
       "{'apple': 34, 'oragne': 12}"
      ]
     },
     "execution_count": 82,
     "metadata": {},
     "output_type": "execute_result"
    }
   ],
   "source": [
    "d1"
   ]
  },
  {
   "cell_type": "code",
   "execution_count": 83,
   "id": "d4cb2bf5-4a35-4a03-90b9-3c0a5662d9df",
   "metadata": {},
   "outputs": [],
   "source": [
    "d1 = {\"apple\":34, \"oragne\":12, \"kiwi\":90 }\n",
    "del d1[\"kiwi\"]  # deleting the entire dictionary"
   ]
  },
  {
   "cell_type": "code",
   "execution_count": 84,
   "id": "206ba793-85ff-42bd-8729-377d9c083fac",
   "metadata": {},
   "outputs": [
    {
     "data": {
      "text/plain": [
       "{'apple': 34, 'oragne': 12}"
      ]
     },
     "execution_count": 84,
     "metadata": {},
     "output_type": "execute_result"
    }
   ],
   "source": [
    "d1"
   ]
  },
  {
   "cell_type": "code",
   "execution_count": 85,
   "id": "672db07a-551a-4f70-b4d7-c4da10b4376d",
   "metadata": {},
   "outputs": [],
   "source": [
    "del d1"
   ]
  },
  {
   "cell_type": "code",
   "execution_count": 86,
   "id": "b0a01a0b-53d6-4902-b563-b9afdef41778",
   "metadata": {},
   "outputs": [
    {
     "ename": "NameError",
     "evalue": "name 'd1' is not defined",
     "output_type": "error",
     "traceback": [
      "\u001b[1;31m---------------------------------------------------------------------------\u001b[0m",
      "\u001b[1;31mNameError\u001b[0m                                 Traceback (most recent call last)",
      "Cell \u001b[1;32mIn[86], line 1\u001b[0m\n\u001b[1;32m----> 1\u001b[0m \u001b[43md1\u001b[49m\n",
      "\u001b[1;31mNameError\u001b[0m: name 'd1' is not defined"
     ]
    }
   ],
   "source": [
    "d1"
   ]
  },
  {
   "cell_type": "code",
   "execution_count": 87,
   "id": "c01e9c4e-6f53-46d0-b590-eef553e01b28",
   "metadata": {},
   "outputs": [
    {
     "ename": "AttributeError",
     "evalue": "'dict' object has no attribute 'remove'",
     "output_type": "error",
     "traceback": [
      "\u001b[1;31m---------------------------------------------------------------------------\u001b[0m",
      "\u001b[1;31mAttributeError\u001b[0m                            Traceback (most recent call last)",
      "Cell \u001b[1;32mIn[87], line 2\u001b[0m\n\u001b[0;32m      1\u001b[0m d1 \u001b[38;5;241m=\u001b[39m {\u001b[38;5;124m\"\u001b[39m\u001b[38;5;124mapple\u001b[39m\u001b[38;5;124m\"\u001b[39m:\u001b[38;5;241m34\u001b[39m, \u001b[38;5;124m\"\u001b[39m\u001b[38;5;124morange\u001b[39m\u001b[38;5;124m\"\u001b[39m:\u001b[38;5;241m12\u001b[39m, \u001b[38;5;124m\"\u001b[39m\u001b[38;5;124mkiwi\u001b[39m\u001b[38;5;124m\"\u001b[39m:\u001b[38;5;241m90\u001b[39m }\n\u001b[1;32m----> 2\u001b[0m \u001b[43md1\u001b[49m\u001b[38;5;241;43m.\u001b[39;49m\u001b[43mremove\u001b[49m(\u001b[38;5;124m\"\u001b[39m\u001b[38;5;124mapple\u001b[39m\u001b[38;5;124m\"\u001b[39m)\n",
      "\u001b[1;31mAttributeError\u001b[0m: 'dict' object has no attribute 'remove'"
     ]
    }
   ],
   "source": [
    "d1 = {\"apple\":34, \"orange\":12, \"kiwi\":90 }\n",
    "d1.remove(\"apple\")"
   ]
  },
  {
   "cell_type": "code",
   "execution_count": 88,
   "id": "df3bffaf-30c3-433d-9843-6d24c4bdd5fa",
   "metadata": {},
   "outputs": [],
   "source": [
    "d1 = {\"apple\":34, \"orange\":12, \"kiwi\":90 }\n",
    "d1.clear()  # remove all the datas from the dictionary and returns the empty dictionary"
   ]
  },
  {
   "cell_type": "code",
   "execution_count": 89,
   "id": "00901390-62ea-4a14-b9c7-8d79025fe7cd",
   "metadata": {},
   "outputs": [
    {
     "data": {
      "text/plain": [
       "{}"
      ]
     },
     "execution_count": 89,
     "metadata": {},
     "output_type": "execute_result"
    }
   ],
   "source": [
    "d1"
   ]
  },
  {
   "cell_type": "code",
   "execution_count": 90,
   "id": "41536843-0ad4-4a54-9145-f83763a19736",
   "metadata": {},
   "outputs": [
    {
     "data": {
      "text/plain": [
       "12"
      ]
     },
     "execution_count": 90,
     "metadata": {},
     "output_type": "execute_result"
    }
   ],
   "source": [
    "# retriving the datas from a dictionary\n",
    "\n",
    "d1 = {\"apple\":34, \"orange\":12, \"kiwi\":90 }\n",
    "d1[\"orange\"]  "
   ]
  },
  {
   "cell_type": "code",
   "execution_count": 91,
   "id": "54ebf324-4801-49fa-978c-88b25ed0709e",
   "metadata": {},
   "outputs": [
    {
     "ename": "KeyError",
     "evalue": "'banana'",
     "output_type": "error",
     "traceback": [
      "\u001b[1;31m---------------------------------------------------------------------------\u001b[0m",
      "\u001b[1;31mKeyError\u001b[0m                                  Traceback (most recent call last)",
      "Cell \u001b[1;32mIn[91], line 1\u001b[0m\n\u001b[1;32m----> 1\u001b[0m \u001b[43md1\u001b[49m\u001b[43m[\u001b[49m\u001b[38;5;124;43m\"\u001b[39;49m\u001b[38;5;124;43mbanana\u001b[39;49m\u001b[38;5;124;43m\"\u001b[39;49m\u001b[43m]\u001b[49m  \u001b[38;5;66;03m# if we call the key which is not there in the dictionary [] -- will raise keyerror\u001b[39;00m\n\u001b[0;32m      2\u001b[0m \u001b[38;5;28mprint\u001b[39m(\u001b[38;5;124m\"\u001b[39m\u001b[38;5;124mafter trying to retrive a data from dictionary\u001b[39m\u001b[38;5;124m\"\u001b[39m)\n",
      "\u001b[1;31mKeyError\u001b[0m: 'banana'"
     ]
    }
   ],
   "source": [
    "d1[\"banana\"]  # if we call the key which is not there in the dictionary [] -- will raise keyerror\n",
    "print(\"after trying to retrive a data from dictionary\")"
   ]
  },
  {
   "cell_type": "code",
   "execution_count": 92,
   "id": "f0c8f7c7-fa79-40d4-afbe-f82334bb576e",
   "metadata": {},
   "outputs": [
    {
     "data": {
      "text/plain": [
       "12"
      ]
     },
     "execution_count": 92,
     "metadata": {},
     "output_type": "execute_result"
    }
   ],
   "source": [
    "d1 = {\"apple\":34, \"orange\":12, \"kiwi\":90 }\n",
    "d1.get(\"orange\") "
   ]
  },
  {
   "cell_type": "code",
   "execution_count": 93,
   "id": "866d7f48-ef31-476f-938f-882bf6480ad8",
   "metadata": {},
   "outputs": [
    {
     "name": "stdout",
     "output_type": "stream",
     "text": [
      "after trying to retrive a data from dictionary\n"
     ]
    }
   ],
   "source": [
    "d1.get(\"banana\")  # if the data dosen't exist .get() it will return None\n",
    "print(\"after trying to retrive a data from dictionary\")"
   ]
  },
  {
   "cell_type": "code",
   "execution_count": 94,
   "id": "5c09784a-85ad-4959-b379-f9d93fd339e8",
   "metadata": {},
   "outputs": [
    {
     "data": {
      "text/plain": [
       "'not found'"
      ]
     },
     "execution_count": 94,
     "metadata": {},
     "output_type": "execute_result"
    }
   ],
   "source": [
    "d1 = {\"apple\":34, \"orange\":12, \"kiwi\":90 }\n",
    "d1.get(\"banana\", \"not found\")  # giving the default value if the key what we are seeking is not exist it will default value\n"
   ]
  },
  {
   "cell_type": "code",
   "execution_count": 95,
   "id": "9cafcf4c-fdb6-4f56-9e04-60137cc12ef2",
   "metadata": {},
   "outputs": [
    {
     "data": {
      "text/plain": [
       "34"
      ]
     },
     "execution_count": 95,
     "metadata": {},
     "output_type": "execute_result"
    }
   ],
   "source": [
    "d1 = {\"apple\":34, \"orange\":12, \"kiwi\":90 }\n",
    "d1.get(\"apple\", \"not found\") "
   ]
  },
  {
   "cell_type": "code",
   "execution_count": 96,
   "id": "9565e76d-6bad-48c7-a83e-910e024e005b",
   "metadata": {},
   "outputs": [
    {
     "data": {
      "text/plain": [
       "dict_keys(['apple', 'orange', 'kiwi'])"
      ]
     },
     "execution_count": 96,
     "metadata": {},
     "output_type": "execute_result"
    }
   ],
   "source": [
    "d1 = {\"apple\":34, \"orange\":12, \"kiwi\":90 }\n",
    "d1.keys()"
   ]
  },
  {
   "cell_type": "code",
   "execution_count": 97,
   "id": "a7c46641-ceca-48d4-8a57-fc4895775bcc",
   "metadata": {},
   "outputs": [
    {
     "data": {
      "text/plain": [
       "dict_values([34, 12, 90])"
      ]
     },
     "execution_count": 97,
     "metadata": {},
     "output_type": "execute_result"
    }
   ],
   "source": [
    "d1.values()"
   ]
  },
  {
   "cell_type": "code",
   "execution_count": 98,
   "id": "021b1ce2-1d55-4d44-a7d2-205eb42287d8",
   "metadata": {},
   "outputs": [
    {
     "data": {
      "text/plain": [
       "dict_items([('apple', 34), ('orange', 12), ('kiwi', 90)])"
      ]
     },
     "execution_count": 98,
     "metadata": {},
     "output_type": "execute_result"
    }
   ],
   "source": [
    "d1.items()"
   ]
  },
  {
   "cell_type": "code",
   "execution_count": 99,
   "id": "d7f87183-7b6b-43f7-91a9-fb61d9902362",
   "metadata": {},
   "outputs": [
    {
     "ename": "TypeError",
     "evalue": "cannot convert dictionary update sequence element #0 to a sequence",
     "output_type": "error",
     "traceback": [
      "\u001b[1;31m---------------------------------------------------------------------------\u001b[0m",
      "\u001b[1;31mTypeError\u001b[0m                                 Traceback (most recent call last)",
      "Cell \u001b[1;32mIn[99], line 2\u001b[0m\n\u001b[0;32m      1\u001b[0m l1 \u001b[38;5;241m=\u001b[39m [\u001b[38;5;241m34\u001b[39m,\u001b[38;5;241m12\u001b[39m,\u001b[38;5;124m\"\u001b[39m\u001b[38;5;124mhello\u001b[39m\u001b[38;5;124m\"\u001b[39m, \u001b[38;5;28;01mTrue\u001b[39;00m]\n\u001b[1;32m----> 2\u001b[0m \u001b[38;5;28;43mdict\u001b[39;49m\u001b[43m(\u001b[49m\u001b[43ml1\u001b[49m\u001b[43m)\u001b[49m\n",
      "\u001b[1;31mTypeError\u001b[0m: cannot convert dictionary update sequence element #0 to a sequence"
     ]
    }
   ],
   "source": [
    "\n",
    "l1 = [34,12,\"hello\", True]\n",
    "dict(l1)"
   ]
  },
  {
   "cell_type": "code",
   "execution_count": 100,
   "id": "894516e6-42d9-49f0-a80f-9754a7f6433e",
   "metadata": {},
   "outputs": [
    {
     "data": {
      "text/plain": [
       "['apple', 'orange', 'kiwi']"
      ]
     },
     "execution_count": 100,
     "metadata": {},
     "output_type": "execute_result"
    }
   ],
   "source": [
    "# type conversion\n",
    "\n",
    "d1 = {\"apple\":34, \"orange\":12, \"kiwi\":90 }\n",
    "list(d1)"
   ]
  },
  {
   "cell_type": "code",
   "execution_count": 101,
   "id": "8a72c8ee-efb0-403c-84cd-d5c63d761095",
   "metadata": {},
   "outputs": [
    {
     "data": {
      "text/plain": [
       "('apple', 'orange', 'kiwi')"
      ]
     },
     "execution_count": 101,
     "metadata": {},
     "output_type": "execute_result"
    }
   ],
   "source": [
    "tuple(d1)"
   ]
  },
  {
   "cell_type": "code",
   "execution_count": 102,
   "id": "e4a367ee-0b52-4b16-b381-283456c7202d",
   "metadata": {},
   "outputs": [
    {
     "data": {
      "text/plain": [
       "{34: 66, 12: 66, 'hello': 66, True: 66}"
      ]
     },
     "execution_count": 102,
     "metadata": {},
     "output_type": "execute_result"
    }
   ],
   "source": [
    "l1 = [34,12,\"hello\", True]\n",
    "d2 = dict.fromkeys(l1, 66) # take keys from the l1 list\n",
    "d2"
   ]
  },
  {
   "cell_type": "code",
   "execution_count": 103,
   "id": "be1ae29e-285e-44fe-a30f-0ed615330b69",
   "metadata": {},
   "outputs": [
    {
     "data": {
      "text/plain": [
       "{'apple': 'juice', 'orange': 'juice', 'lemon': 'juice'}"
      ]
     },
     "execution_count": 103,
     "metadata": {},
     "output_type": "execute_result"
    }
   ],
   "source": [
    "# if the datastructure which we try to convert as a dictionary what if that is having a duplicate value\n",
    "l2 = (\"apple\", \"orange\", \"lemon\", \"apple\")\n",
    "d3 = dict.fromkeys(l2, \"juice\")\n",
    "d3"
   ]
  },
  {
   "cell_type": "code",
   "execution_count": 104,
   "id": "839713c5-f215-4de1-a6a2-3ab9fc174274",
   "metadata": {},
   "outputs": [
    {
     "name": "stdout",
     "output_type": "stream",
     "text": [
      "{'apple': 34, 'orange': 12, 'kiwi': 90, 'lemon': 450}\n",
      "{'banana': 44, 'lemon': 32, 'mango': 9}\n",
      "{'mosabi': 34, 'grapes': 12, 'jackfruit': 5, 'lemon': 450}\n"
     ]
    }
   ],
   "source": [
    "d1 = {\"apple\":34, \"orange\":12, \"kiwi\":90 }\n",
    "d2 = {\"banana\":44, \"lemon\":32, \"mango\":9 }\n",
    "d3 = {\"mosabi\":34, \"grapes\":12, \"jackfruit\":5 }\n",
    "\n",
    "d1.setdefault(\"lemon\",450)  # it will check the dictionary a specific key(in this case lemon) is exists or not if it is not it will\n",
    "                            #add that key with value if the exists it will not change anything\n",
    "d2.setdefault(\"lemon\",450)\n",
    "d3.setdefault(\"lemon\",450)\n",
    "print(d1)\n",
    "print(d2)\n",
    "print(d3)"
   ]
  },
  {
   "cell_type": "code",
   "execution_count": 105,
   "id": "5b30edee-b5f7-449c-b18b-273bccc662f4",
   "metadata": {},
   "outputs": [
    {
     "data": {
      "text/plain": [
       "'mosabi'"
      ]
     },
     "execution_count": 105,
     "metadata": {},
     "output_type": "execute_result"
    }
   ],
   "source": [
    "d3 = {\"mosabi\":34, \"grapes\":1200, \"jackfruit\":500 } # m>g>j -- when we perform max on a dictionary that dictionary should have all the\n",
    "                                                    # values as homogeneous then which key is bigger it will return that key\n",
    "max(d3)"
   ]
  },
  {
   "cell_type": "code",
   "execution_count": 106,
   "id": "edea2c54-239c-4397-aaab-dd0babccb4e5",
   "metadata": {},
   "outputs": [
    {
     "data": {
      "text/plain": [
       "'grapes'"
      ]
     },
     "execution_count": 106,
     "metadata": {},
     "output_type": "execute_result"
    }
   ],
   "source": [
    "min(d3)"
   ]
  },
  {
   "cell_type": "code",
   "execution_count": 107,
   "id": "1302e4c0-180e-4b82-ad58-cae15ba84868",
   "metadata": {},
   "outputs": [
    {
     "data": {
      "text/plain": [
       "3"
      ]
     },
     "execution_count": 107,
     "metadata": {},
     "output_type": "execute_result"
    }
   ],
   "source": [
    "len(d3)"
   ]
  },
  {
   "cell_type": "code",
   "execution_count": 108,
   "id": "d4eec2da-ddd3-4b75-aee3-a965c6ee3b71",
   "metadata": {},
   "outputs": [
    {
     "ename": "TypeError",
     "evalue": "unsupported operand type(s) for +: 'int' and 'str'",
     "output_type": "error",
     "traceback": [
      "\u001b[1;31m---------------------------------------------------------------------------\u001b[0m",
      "\u001b[1;31mTypeError\u001b[0m                                 Traceback (most recent call last)",
      "Cell \u001b[1;32mIn[108], line 2\u001b[0m\n\u001b[0;32m      1\u001b[0m d3 \u001b[38;5;241m=\u001b[39m {\u001b[38;5;124m\"\u001b[39m\u001b[38;5;124mmosabi\u001b[39m\u001b[38;5;124m\"\u001b[39m:\u001b[38;5;241m34\u001b[39m, \u001b[38;5;124m\"\u001b[39m\u001b[38;5;124mgrapes\u001b[39m\u001b[38;5;124m\"\u001b[39m:\u001b[38;5;241m1200\u001b[39m, \u001b[38;5;124m\"\u001b[39m\u001b[38;5;124mjackfruit\u001b[39m\u001b[38;5;124m\"\u001b[39m:\u001b[38;5;241m500\u001b[39m }\n\u001b[1;32m----> 2\u001b[0m \u001b[38;5;28;43msum\u001b[39;49m\u001b[43m(\u001b[49m\u001b[43md3\u001b[49m\u001b[43m)\u001b[49m\n",
      "\u001b[1;31mTypeError\u001b[0m: unsupported operand type(s) for +: 'int' and 'str'"
     ]
    }
   ],
   "source": [
    "d3 = {\"mosabi\":34, \"grapes\":1200, \"jackfruit\":500 }\n",
    "sum(d3)"
   ]
  },
  {
   "cell_type": "code",
   "execution_count": 109,
   "id": "249eef39-870a-4976-99cf-4ce25c4c5a28",
   "metadata": {},
   "outputs": [
    {
     "ename": "TypeError",
     "evalue": "unsupported operand type(s) for +: 'int' and 'str'",
     "output_type": "error",
     "traceback": [
      "\u001b[1;31m---------------------------------------------------------------------------\u001b[0m",
      "\u001b[1;31mTypeError\u001b[0m                                 Traceback (most recent call last)",
      "Cell \u001b[1;32mIn[109], line 2\u001b[0m\n\u001b[0;32m      1\u001b[0m l2 \u001b[38;5;241m=\u001b[39m [\u001b[38;5;124m\"\u001b[39m\u001b[38;5;124mapple\u001b[39m\u001b[38;5;124m\"\u001b[39m, \u001b[38;5;124m\"\u001b[39m\u001b[38;5;124morange\u001b[39m\u001b[38;5;124m\"\u001b[39m, \u001b[38;5;124m\"\u001b[39m\u001b[38;5;124mlemon\u001b[39m\u001b[38;5;124m\"\u001b[39m, \u001b[38;5;124m\"\u001b[39m\u001b[38;5;124mapple\u001b[39m\u001b[38;5;124m\"\u001b[39m]\n\u001b[1;32m----> 2\u001b[0m \u001b[38;5;28;43msum\u001b[39;49m\u001b[43m(\u001b[49m\u001b[43ml2\u001b[49m\u001b[43m)\u001b[49m\n",
      "\u001b[1;31mTypeError\u001b[0m: unsupported operand type(s) for +: 'int' and 'str'"
     ]
    }
   ],
   "source": [
    "l2 = [\"apple\", \"orange\", \"lemon\", \"apple\"]\n",
    "sum(l2)"
   ]
  },
  {
   "cell_type": "code",
   "execution_count": 110,
   "id": "6664c1ea-b5ae-4f73-8408-c8833b9cd95b",
   "metadata": {},
   "outputs": [],
   "source": [
    "d3 = {3:\"mosambi\",50:\"grapes\", 4:\"jackfruit\"}"
   ]
  },
  {
   "cell_type": "code",
   "execution_count": 111,
   "id": "46a7ef96-186e-462a-ab83-f98dab4494d4",
   "metadata": {},
   "outputs": [
    {
     "data": {
      "text/plain": [
       "{3: 'mosambi', 50: 'grapes', 4: 'jackfruit'}"
      ]
     },
     "execution_count": 111,
     "metadata": {},
     "output_type": "execute_result"
    }
   ],
   "source": [
    "d3"
   ]
  },
  {
   "cell_type": "code",
   "execution_count": 112,
   "id": "a3ca48a4-1834-4a82-92e7-96fd714be2fe",
   "metadata": {},
   "outputs": [
    {
     "data": {
      "text/plain": [
       "57"
      ]
     },
     "execution_count": 112,
     "metadata": {},
     "output_type": "execute_result"
    }
   ],
   "source": [
    "sum(d3)"
   ]
  },
  {
   "cell_type": "code",
   "execution_count": null,
   "id": "484bcc6a-0a45-443d-9d21-a0a199f034e7",
   "metadata": {},
   "outputs": [],
   "source": []
  },
  {
   "cell_type": "code",
   "execution_count": 113,
   "id": "86e7ed1d-e902-46df-b2b1-5a975698c0da",
   "metadata": {},
   "outputs": [
    {
     "data": {
      "text/plain": [
       "{3, 4.5, False, 'Helloworld'}"
      ]
     },
     "execution_count": 113,
     "metadata": {},
     "output_type": "execute_result"
    }
   ],
   "source": [
    "# SET -- mutable, unordered, no duplicates, hetrogeneous-- to create a set we use {}\n",
    "s1 = {3, 4.5, False, \"Helloworld\",3}\n",
    "s1"
   ]
  },
  {
   "cell_type": "code",
   "execution_count": 114,
   "id": "8dcf074e-50a6-4ff8-8f66-3f14a0e52e28",
   "metadata": {},
   "outputs": [
    {
     "ename": "TypeError",
     "evalue": "'set' object is not subscriptable",
     "output_type": "error",
     "traceback": [
      "\u001b[1;31m---------------------------------------------------------------------------\u001b[0m",
      "\u001b[1;31mTypeError\u001b[0m                                 Traceback (most recent call last)",
      "Cell \u001b[1;32mIn[114], line 1\u001b[0m\n\u001b[1;32m----> 1\u001b[0m \u001b[43ms1\u001b[49m\u001b[43m[\u001b[49m\u001b[38;5;241;43m2\u001b[39;49m\u001b[43m]\u001b[49m\n",
      "\u001b[1;31mTypeError\u001b[0m: 'set' object is not subscriptable"
     ]
    }
   ],
   "source": [
    "s1[2]"
   ]
  },
  {
   "cell_type": "code",
   "execution_count": 115,
   "id": "be702195-7685-47f0-a01b-2ac71000407e",
   "metadata": {},
   "outputs": [
    {
     "data": {
      "text/plain": [
       "{3, 34, 4.5, False, 'Helloworld'}"
      ]
     },
     "execution_count": 115,
     "metadata": {},
     "output_type": "execute_result"
    }
   ],
   "source": [
    "# adding the data in a set\n",
    "s1 = {3, 4.5, False, \"Helloworld\",3}\n",
    "s1.add(34) # .add() key will add the data into an random position of the set\n",
    "s1\n"
   ]
  },
  {
   "cell_type": "code",
   "execution_count": 116,
   "id": "e77c35f3-3ab6-4d68-946b-a02aad73abb9",
   "metadata": {},
   "outputs": [
    {
     "data": {
      "text/plain": [
       "{1, 2, 3, 4, 5, 6}"
      ]
     },
     "execution_count": 116,
     "metadata": {},
     "output_type": "execute_result"
    }
   ],
   "source": [
    "#update \n",
    "s1 = {1,2,3,4}\n",
    "s2 = {4,5,6}\n",
    "s1.update(s2)  #mutable\n",
    "s1"
   ]
  },
  {
   "cell_type": "code",
   "execution_count": 117,
   "id": "206f3295-3b57-4d39-8398-043232cf876e",
   "metadata": {},
   "outputs": [
    {
     "data": {
      "text/plain": [
       "2"
      ]
     },
     "execution_count": 117,
     "metadata": {},
     "output_type": "execute_result"
    }
   ],
   "source": [
    "# deleting\n",
    "s1 = {3,7,11,2,3,4}\n",
    "s1.pop()  # it will remove the random element in the set s1\n"
   ]
  },
  {
   "cell_type": "code",
   "execution_count": 118,
   "id": "b666cf3d-7725-4948-a634-d3733ff38950",
   "metadata": {},
   "outputs": [],
   "source": [
    "del s1  # delete the entire set"
   ]
  },
  {
   "cell_type": "code",
   "execution_count": 119,
   "id": "19661b11-3a31-4b14-92c8-d5cb9a6e9ef0",
   "metadata": {},
   "outputs": [
    {
     "ename": "NameError",
     "evalue": "name 's1' is not defined",
     "output_type": "error",
     "traceback": [
      "\u001b[1;31m---------------------------------------------------------------------------\u001b[0m",
      "\u001b[1;31mNameError\u001b[0m                                 Traceback (most recent call last)",
      "Cell \u001b[1;32mIn[119], line 1\u001b[0m\n\u001b[1;32m----> 1\u001b[0m \u001b[43ms1\u001b[49m\n",
      "\u001b[1;31mNameError\u001b[0m: name 's1' is not defined"
     ]
    }
   ],
   "source": [
    "s1"
   ]
  },
  {
   "cell_type": "code",
   "execution_count": 120,
   "id": "c91bb47a-afa7-4ccc-9c1d-c77f435c63eb",
   "metadata": {},
   "outputs": [
    {
     "ename": "TypeError",
     "evalue": "'set' object doesn't support item deletion",
     "output_type": "error",
     "traceback": [
      "\u001b[1;31m---------------------------------------------------------------------------\u001b[0m",
      "\u001b[1;31mTypeError\u001b[0m                                 Traceback (most recent call last)",
      "Cell \u001b[1;32mIn[120], line 2\u001b[0m\n\u001b[0;32m      1\u001b[0m s1 \u001b[38;5;241m=\u001b[39m {\u001b[38;5;241m3\u001b[39m,\u001b[38;5;241m7\u001b[39m,\u001b[38;5;241m11\u001b[39m,\u001b[38;5;241m2\u001b[39m,\u001b[38;5;241m3\u001b[39m,\u001b[38;5;241m4\u001b[39m}\n\u001b[1;32m----> 2\u001b[0m \u001b[38;5;28;01mdel\u001b[39;00m \u001b[43ms1\u001b[49m\u001b[43m[\u001b[49m\u001b[38;5;241;43m2\u001b[39;49m\u001b[43m]\u001b[49m\n",
      "\u001b[1;31mTypeError\u001b[0m: 'set' object doesn't support item deletion"
     ]
    }
   ],
   "source": [
    "s1 = {3,7,11,2,3,4}\n",
    "del s1[2]"
   ]
  },
  {
   "cell_type": "code",
   "execution_count": 121,
   "id": "3321a800-ef3e-484b-a375-c243c25a232a",
   "metadata": {},
   "outputs": [
    {
     "data": {
      "text/plain": [
       "{2, 3, 4, 7, True, 'hello'}"
      ]
     },
     "execution_count": 121,
     "metadata": {},
     "output_type": "execute_result"
    }
   ],
   "source": [
    "s1 = {3,7,11,2,3,4, True, \"hello\", 1}\n",
    "s1.remove(11)\n",
    "s1"
   ]
  },
  {
   "cell_type": "code",
   "execution_count": 122,
   "id": "8e6a7a1c-d0eb-4f49-b15f-aaa4c604d08a",
   "metadata": {},
   "outputs": [
    {
     "ename": "KeyError",
     "evalue": "99",
     "output_type": "error",
     "traceback": [
      "\u001b[1;31m---------------------------------------------------------------------------\u001b[0m",
      "\u001b[1;31mKeyError\u001b[0m                                  Traceback (most recent call last)",
      "Cell \u001b[1;32mIn[122], line 2\u001b[0m\n\u001b[0;32m      1\u001b[0m s1 \u001b[38;5;241m=\u001b[39m {\u001b[38;5;241m3\u001b[39m,\u001b[38;5;241m7\u001b[39m,\u001b[38;5;241m11\u001b[39m,\u001b[38;5;241m2\u001b[39m,\u001b[38;5;241m3\u001b[39m,\u001b[38;5;241m4\u001b[39m}\n\u001b[1;32m----> 2\u001b[0m \u001b[43ms1\u001b[49m\u001b[38;5;241;43m.\u001b[39;49m\u001b[43mremove\u001b[49m\u001b[43m(\u001b[49m\u001b[38;5;241;43m99\u001b[39;49m\u001b[43m)\u001b[49m  \u001b[38;5;66;03m#if the data dosen't exist it will raise key error\u001b[39;00m\n\u001b[0;32m      3\u001b[0m s1\n",
      "\u001b[1;31mKeyError\u001b[0m: 99"
     ]
    }
   ],
   "source": [
    "s1 = {3,7,11,2,3,4}\n",
    "s1.remove(99)  #if the data dosen't exist it will raise key error\n",
    "s1"
   ]
  },
  {
   "cell_type": "code",
   "execution_count": 123,
   "id": "9212c38a-aab8-40e5-a474-42d5508d22b4",
   "metadata": {},
   "outputs": [
    {
     "data": {
      "text/plain": [
       "{2, 3, 4, 7}"
      ]
     },
     "execution_count": 123,
     "metadata": {},
     "output_type": "execute_result"
    }
   ],
   "source": [
    "s1 = {3,7,11,2,3,4}\n",
    "s1.discard(11)  #if the data dosen't exist it will raise key error\n",
    "s1"
   ]
  },
  {
   "cell_type": "code",
   "execution_count": 124,
   "id": "0496b0ca-9d55-47f4-8e61-f31070583f0f",
   "metadata": {},
   "outputs": [
    {
     "data": {
      "text/plain": [
       "{2, 3, 4, 7, 11}"
      ]
     },
     "execution_count": 124,
     "metadata": {},
     "output_type": "execute_result"
    }
   ],
   "source": [
    "s1 = {3,7,11,2,3,4}\n",
    "s1.discard(99)  #if the data dosen't exist it will raise key error\n",
    "s1"
   ]
  },
  {
   "cell_type": "code",
   "execution_count": 125,
   "id": "d9e90a07-976c-4903-a65b-353e19ffd491",
   "metadata": {},
   "outputs": [
    {
     "data": {
      "text/plain": [
       "set()"
      ]
     },
     "execution_count": 125,
     "metadata": {},
     "output_type": "execute_result"
    }
   ],
   "source": [
    "s1 = {3,7,11,2,3,4}\n",
    "s1.clear()\n",
    "s1"
   ]
  },
  {
   "cell_type": "code",
   "execution_count": 126,
   "id": "f182e5d5-45d2-4cf5-bd38-f7a183fae1a2",
   "metadata": {},
   "outputs": [
    {
     "data": {
      "text/plain": [
       "{1, 2, 3, 4, 6, 7, 8, 9}"
      ]
     },
     "execution_count": 126,
     "metadata": {},
     "output_type": "execute_result"
    }
   ],
   "source": [
    "# unique operations on the set\n",
    "s1 = {1,3,7,9,4}\n",
    "s2 = {2,4,6,8,9}\n",
    "\n",
    "s1.union(s2) # will return all the unique elements from the both sets duplicates ignored immutable"
   ]
  },
  {
   "cell_type": "code",
   "execution_count": 127,
   "id": "e8a9e10b-18ae-4e13-bbaa-831f9cded541",
   "metadata": {},
   "outputs": [
    {
     "data": {
      "text/plain": [
       "{1, 3, 4, 7, 9}"
      ]
     },
     "execution_count": 127,
     "metadata": {},
     "output_type": "execute_result"
    }
   ],
   "source": [
    "s1"
   ]
  },
  {
   "cell_type": "code",
   "execution_count": 128,
   "id": "723a4199-6832-4ac3-9d5e-1e9e4e2d5964",
   "metadata": {},
   "outputs": [
    {
     "data": {
      "text/plain": [
       "{2, 4, 6, 8, 9}"
      ]
     },
     "execution_count": 128,
     "metadata": {},
     "output_type": "execute_result"
    }
   ],
   "source": [
    "s2"
   ]
  },
  {
   "cell_type": "code",
   "execution_count": 129,
   "id": "97b1bd92-8e47-4809-825d-25f052791dea",
   "metadata": {},
   "outputs": [
    {
     "data": {
      "text/plain": [
       "{4, 9}"
      ]
     },
     "execution_count": 129,
     "metadata": {},
     "output_type": "execute_result"
    }
   ],
   "source": [
    "s1 = {1,3,7,9,4}\n",
    "s2 = {2,4,6,8,9}\n",
    "\n",
    "s1.intersection(s2)  # the common elements from the both sets"
   ]
  },
  {
   "cell_type": "code",
   "execution_count": 130,
   "id": "6360f4ac-18db-46ad-b266-d61839f6a284",
   "metadata": {},
   "outputs": [
    {
     "data": {
      "text/plain": [
       "{1, 3, 7}"
      ]
     },
     "execution_count": 130,
     "metadata": {},
     "output_type": "execute_result"
    }
   ],
   "source": [
    "s1.difference(s2)  # uncommon elements from s1 while comparing with s2"
   ]
  },
  {
   "cell_type": "code",
   "execution_count": 131,
   "id": "51a59c10-5fcc-4b78-9613-9e409adcde67",
   "metadata": {},
   "outputs": [
    {
     "data": {
      "text/plain": [
       "{1, 2, 3, 6, 7, 8}"
      ]
     },
     "execution_count": 131,
     "metadata": {},
     "output_type": "execute_result"
    }
   ],
   "source": [
    "s1.symmetric_difference(s2)  # uncommon elements from the both sets"
   ]
  },
  {
   "cell_type": "code",
   "execution_count": 132,
   "id": "5d80ec7d-e72e-4a31-a22e-9b5fb43c54b2",
   "metadata": {},
   "outputs": [
    {
     "data": {
      "text/plain": [
       "True"
      ]
     },
     "execution_count": 132,
     "metadata": {},
     "output_type": "execute_result"
    }
   ],
   "source": [
    "s1 = {1,2,3}\n",
    "s2 = {1,2}\n",
    "s1.issuperset(s2)"
   ]
  },
  {
   "cell_type": "code",
   "execution_count": 133,
   "id": "178052cb-2d73-4bc9-a12c-f208615c76cb",
   "metadata": {},
   "outputs": [
    {
     "data": {
      "text/plain": [
       "True"
      ]
     },
     "execution_count": 133,
     "metadata": {},
     "output_type": "execute_result"
    }
   ],
   "source": [
    "s2.issubset(s1)"
   ]
  },
  {
   "cell_type": "code",
   "execution_count": 134,
   "id": "a0aa9052-944f-4177-9928-dee9d0737807",
   "metadata": {},
   "outputs": [
    {
     "data": {
      "text/plain": [
       "True"
      ]
     },
     "execution_count": 134,
     "metadata": {},
     "output_type": "execute_result"
    }
   ],
   "source": [
    "s1 = {1,2,3}\n",
    "s2 = {4,5}\n",
    "s1.isdisjoint(s2)  # if two sets have no elements in common it will return true"
   ]
  },
  {
   "cell_type": "code",
   "execution_count": 135,
   "id": "c52c4e0e-40ce-4dde-b4e4-02fb58079b33",
   "metadata": {},
   "outputs": [],
   "source": [
    "s1 = {1, 2, 3, 6, 7, 8}  # to convert a set into immutable use frozenset\n",
    "s2 = frozenset(s1)\n"
   ]
  },
  {
   "cell_type": "code",
   "execution_count": 136,
   "id": "41d10833-f864-4dc5-9836-f638b1890951",
   "metadata": {},
   "outputs": [
    {
     "ename": "AttributeError",
     "evalue": "'frozenset' object has no attribute 'pop'",
     "output_type": "error",
     "traceback": [
      "\u001b[1;31m---------------------------------------------------------------------------\u001b[0m",
      "\u001b[1;31mAttributeError\u001b[0m                            Traceback (most recent call last)",
      "Cell \u001b[1;32mIn[136], line 1\u001b[0m\n\u001b[1;32m----> 1\u001b[0m \u001b[43ms2\u001b[49m\u001b[38;5;241;43m.\u001b[39;49m\u001b[43mpop\u001b[49m()\n",
      "\u001b[1;31mAttributeError\u001b[0m: 'frozenset' object has no attribute 'pop'"
     ]
    }
   ],
   "source": [
    "s2.pop()"
   ]
  },
  {
   "cell_type": "code",
   "execution_count": 137,
   "id": "5b7eb8c4-a499-4ad4-bd16-1c6ae4273b22",
   "metadata": {},
   "outputs": [
    {
     "data": {
      "text/plain": [
       "{1, 2, 3, 4, 5, 6, 7, 8}"
      ]
     },
     "execution_count": 137,
     "metadata": {},
     "output_type": "execute_result"
    }
   ],
   "source": [
    "# type conversion for set\n",
    "# when you try to convert a list into a set it will remove the duplicates of the list and then it will convert that as as set\n",
    "\n",
    "l1 = [6,2,3,4,5,2,3,3,4,5,6,7,8,4,3,4,5,4,6,2,1,2,4,6]\n",
    "s1 = set(l1)\n",
    "s1\n"
   ]
  },
  {
   "cell_type": "code",
   "execution_count": 138,
   "id": "139bd55c-7add-405a-a24f-274221488571",
   "metadata": {},
   "outputs": [
    {
     "data": {
      "text/plain": [
       "[0, 1, 2, 3, 4, 5, 6, 7, 8, 9]"
      ]
     },
     "execution_count": 138,
     "metadata": {},
     "output_type": "execute_result"
    }
   ],
   "source": [
    "# Range -- immutable, Homogeneous(integers), ordered,no duplicates\n",
    "# range will not directly will give the elements to visualize the elements we should use other data structures\n",
    "list(range(10))"
   ]
  },
  {
   "cell_type": "code",
   "execution_count": 139,
   "id": "ec48dda5-2bd5-4eff-b56b-e4f38e6b38d6",
   "metadata": {},
   "outputs": [
    {
     "data": {
      "text/plain": [
       "range(0, 10)"
      ]
     },
     "execution_count": 139,
     "metadata": {},
     "output_type": "execute_result"
    }
   ],
   "source": [
    "# Range -- immutable, Homogeneous(integers), ordered,no duplicates\n",
    "range(0,10)"
   ]
  },
  {
   "cell_type": "code",
   "execution_count": 140,
   "id": "1d51d5e0-fc37-403a-b298-8825caa82963",
   "metadata": {},
   "outputs": [
    {
     "data": {
      "text/plain": [
       "[0, 1, 2, 3, 4, 5, 6, 7, 8, 9]"
      ]
     },
     "execution_count": 140,
     "metadata": {},
     "output_type": "execute_result"
    }
   ],
   "source": [
    "list(range(10))  # if we pass only one element range will take that as a stop-1"
   ]
  },
  {
   "cell_type": "code",
   "execution_count": 141,
   "id": "3c42c483-b57e-4de5-a40a-434909163f38",
   "metadata": {},
   "outputs": [
    {
     "data": {
      "text/plain": [
       "(10, 11, 12, 13, 14, 15, 16, 17, 18, 19)"
      ]
     },
     "execution_count": 141,
     "metadata": {},
     "output_type": "execute_result"
    }
   ],
   "source": [
    "tuple(range(10,20))  # if we pass two element range will take that as a start:stop-1"
   ]
  },
  {
   "cell_type": "code",
   "execution_count": 142,
   "id": "16c72f33-4a3f-4c9a-9cd3-977045bd8c5b",
   "metadata": {},
   "outputs": [
    {
     "data": {
      "text/plain": [
       "{10, 13, 16, 19, 22, 25, 28}"
      ]
     },
     "execution_count": 142,
     "metadata": {},
     "output_type": "execute_result"
    }
   ],
   "source": [
    "set(range(10,30,3))  # if we pass 3 element range will take that as a start:stop-1:step"
   ]
  },
  {
   "cell_type": "code",
   "execution_count": 143,
   "id": "ffb0339d-03b8-4c60-b3e4-de4417b3daed",
   "metadata": {},
   "outputs": [
    {
     "data": {
      "text/plain": [
       "3"
      ]
     },
     "execution_count": 143,
     "metadata": {},
     "output_type": "execute_result"
    }
   ],
   "source": [
    "# min,max,len,.count, sum, indexing, slicing\n",
    "r1 = range(3,30,4)\n",
    "r1.start"
   ]
  },
  {
   "cell_type": "code",
   "execution_count": 144,
   "id": "4af5433d-bb60-436a-a6d0-5877327350e9",
   "metadata": {},
   "outputs": [
    {
     "data": {
      "text/plain": [
       "30"
      ]
     },
     "execution_count": 144,
     "metadata": {},
     "output_type": "execute_result"
    }
   ],
   "source": [
    "r1.stop"
   ]
  },
  {
   "cell_type": "code",
   "execution_count": 145,
   "id": "1bc8e24e-c698-492f-8bc5-87b479527f68",
   "metadata": {},
   "outputs": [
    {
     "data": {
      "text/plain": [
       "4"
      ]
     },
     "execution_count": 145,
     "metadata": {},
     "output_type": "execute_result"
    }
   ],
   "source": [
    "r1.step"
   ]
  },
  {
   "cell_type": "code",
   "execution_count": 146,
   "id": "ab838d3c-5399-4cfc-a9b7-67939227d77e",
   "metadata": {},
   "outputs": [
    {
     "data": {
      "text/plain": [
       "[3, 7, 11, 15, 19, 23, 27]"
      ]
     },
     "execution_count": 146,
     "metadata": {},
     "output_type": "execute_result"
    }
   ],
   "source": [
    "list(r1)"
   ]
  },
  {
   "cell_type": "code",
   "execution_count": 147,
   "id": "0330f491-2ebd-4ba1-a1d7-482091213725",
   "metadata": {},
   "outputs": [
    {
     "data": {
      "text/plain": [
       "[]"
      ]
     },
     "execution_count": 147,
     "metadata": {},
     "output_type": "execute_result"
    }
   ],
   "source": [
    "list(range(-10))"
   ]
  },
  {
   "cell_type": "code",
   "execution_count": 148,
   "id": "a56684e1-42ab-47f2-a3a3-c4673531f62a",
   "metadata": {},
   "outputs": [
    {
     "data": {
      "text/plain": [
       "[-10, -9, -8, -7, -6, -5, -4, -3, -2, -1]"
      ]
     },
     "execution_count": 148,
     "metadata": {},
     "output_type": "execute_result"
    }
   ],
   "source": [
    "list(range(-10,0))"
   ]
  },
  {
   "cell_type": "code",
   "execution_count": 149,
   "id": "e610ee17-a24f-4a58-8d15-c89b00baba73",
   "metadata": {},
   "outputs": [
    {
     "name": "stdout",
     "output_type": "stream",
     "text": [
      "222\n"
     ]
    }
   ],
   "source": [
    "# if we define two variable with same name in a single variable the old var will replaced by new one\n",
    "a = 5\n",
    "a = 222\n",
    "print(a)"
   ]
  },
  {
   "cell_type": "code",
   "execution_count": 152,
   "id": "dc5b9f3d-3115-4b13-9a4e-dff388c687ea",
   "metadata": {},
   "outputs": [
    {
     "name": "stdout",
     "output_type": "stream",
     "text": [
      "5\n"
     ]
    }
   ],
   "source": [
    "a = 5\n",
    "\n",
    "if False:\n",
    "    \n",
    "    a= 666\n",
    "    print(a)\n",
    "\n",
    "print(a)"
   ]
  },
  {
   "cell_type": "code",
   "execution_count": 153,
   "id": "35945ac7-e5b7-4b7c-8649-29ea127ce3a1",
   "metadata": {},
   "outputs": [
    {
     "name": "stdout",
     "output_type": "stream",
     "text": [
      "666\n"
     ]
    }
   ],
   "source": [
    "a = 5\n",
    "\n",
    "if True:\n",
    "    # if will override the var value\n",
    "    a= 666\n",
    "    #print(a)\n",
    "\n",
    "print(a)"
   ]
  },
  {
   "cell_type": "code",
   "execution_count": 154,
   "id": "92723a07-aebf-499f-9e40-6667dfedefc3",
   "metadata": {},
   "outputs": [
    {
     "name": "stdout",
     "output_type": "stream",
     "text": [
      "34\n"
     ]
    }
   ],
   "source": [
    "#LEGB -- local, enclose, global, builtin\n",
    "\n",
    "v = 34 # global\n",
    "\n",
    "def fun1():\n",
    "    #v = 56  #enclose\n",
    "\n",
    "    def fun2():\n",
    "        #v=99 #local\n",
    "        print(v)\n",
    "\n",
    "    return fun2\n",
    "\n",
    "obj = fun1()\n",
    "obj()\n",
    "\n",
    "\n",
    "    "
   ]
  },
  {
   "cell_type": "markdown",
   "id": "b25240da-bc8a-43eb-bb95-2778ae59f60d",
   "metadata": {},
   "source": [
    "# conditional statements\n",
    "     based on the conditions we decide change the flow of the programs\n",
    "\n",
    "     Namespaces -- used to monitor the unique var names . different different namespaces will allow you to define same var names.\n",
    "     each namespaces has its own attributes. LEGB --(local,enclose, global, built in), when we try to call a variable first interpretter will look into local namespace, then enclosed namespace, global namespace, builtin"
   ]
  },
  {
   "cell_type": "code",
   "execution_count": 155,
   "id": "f031f101-3ccb-4aec-b0e5-7cf67a29bb08",
   "metadata": {},
   "outputs": [
    {
     "name": "stdout",
     "output_type": "stream",
     "text": [
      "global namespace flow\n",
      "if namespace(a different namespace)\n",
      "main flow\n"
     ]
    }
   ],
   "source": [
    "# condtional statments -- if, else, elif\n",
    "\n",
    "print(\"global namespace flow\")\n",
    "\n",
    "\n",
    "a=5\n",
    "if a>1: # this if block of code only will execute when the given condition is true\n",
    "\n",
    "    \"\"\"\n",
    "    to creata a namespace(block of code) we follow 4 spaces indentation\n",
    "    \"\"\"\n",
    "    print(\"if namespace(a different namespace)\")\n",
    "    \n",
    "\n",
    "\n",
    "print(\"main flow\")"
   ]
  },
  {
   "cell_type": "code",
   "execution_count": 156,
   "id": "a55fa14c-dfb7-40db-882f-eb70b9c8a36b",
   "metadata": {},
   "outputs": [
    {
     "name": "stdout",
     "output_type": "stream",
     "text": [
      "global namespace\n",
      "main flow\n"
     ]
    }
   ],
   "source": [
    "print(\"global namespace\")\n",
    "\n",
    "\n",
    "a=5\n",
    "if a>10: # this if block of code only will execute when the given condition is true\n",
    "    print(\"if namespace(a different namespace)\")\n",
    "    print(\"if flow(block)\")\n",
    "\n",
    "\n",
    "print(\"main flow\")"
   ]
  },
  {
   "cell_type": "code",
   "execution_count": 158,
   "id": "1658b6fe-0675-4947-a92f-8f3edee468f9",
   "metadata": {},
   "outputs": [
    {
     "name": "stdout",
     "output_type": "stream",
     "text": [
      "global namespace\n",
      "else flow\n",
      "main flow\n"
     ]
    }
   ],
   "source": [
    "# else -- when the condition fails else block will execute\n",
    "\n",
    "print(\"global namespace\")\n",
    "\n",
    "\n",
    "a=5\n",
    "if a>10: # this if block of code only will execute when the given condition is true\n",
    "    \n",
    "    print(\"if namespace(a different namespace)\")\n",
    "    print(\"if flow(block)\")\n",
    "\n",
    "else:\n",
    "    \n",
    "    print(\"else flow\")\n",
    "\n",
    "\n",
    "print(\"main flow\")"
   ]
  },
  {
   "cell_type": "code",
   "execution_count": 159,
   "id": "c981126b-e23f-4cc0-9819-e2ef01f78124",
   "metadata": {},
   "outputs": [
    {
     "name": "stdout",
     "output_type": "stream",
     "text": [
      "if  block executes\n"
     ]
    }
   ],
   "source": [
    "if 5:\n",
    "    print(\"if  block executes\")"
   ]
  },
  {
   "cell_type": "code",
   "execution_count": 160,
   "id": "90dd3350-3df1-4c3c-a683-3090d738e8f3",
   "metadata": {},
   "outputs": [
    {
     "name": "stdout",
     "output_type": "stream",
     "text": [
      "condition is true\n"
     ]
    }
   ],
   "source": [
    "a = 8\n",
    "b = 5\n",
    "c = 2\n",
    "\n",
    "if a>b and b>c and a>c:\n",
    "    print(\"condition is true\")"
   ]
  },
  {
   "cell_type": "code",
   "execution_count": 161,
   "id": "4f64d782-21a1-478a-9878-c3423ca94e79",
   "metadata": {},
   "outputs": [
    {
     "name": "stdout",
     "output_type": "stream",
     "text": [
      "5 is a  boolean True value\n"
     ]
    }
   ],
   "source": [
    "# example identical operators\n",
    "\n",
    "if bool(5) is True:\n",
    "    print(\"5 is a  boolean True value\")"
   ]
  },
  {
   "cell_type": "code",
   "execution_count": 162,
   "id": "2f01e013-f60f-4194-8eda-2b4264588a4c",
   "metadata": {},
   "outputs": [
    {
     "name": "stdout",
     "output_type": "stream",
     "text": [
      "a is there in seq\n"
     ]
    }
   ],
   "source": [
    "a = \"hello\"\n",
    "if \"h\" in a:\n",
    "    print(\"a is there in seq\")"
   ]
  },
  {
   "cell_type": "code",
   "execution_count": 164,
   "id": "275a950e-94c1-4ee3-91c3-eb5c72478234",
   "metadata": {},
   "outputs": [
    {
     "name": "stdout",
     "output_type": "stream",
     "text": [
      "food's are available ['pizza', 'french fries', 'sandwhich', 'burger']\n"
     ]
    },
    {
     "name": "stdin",
     "output_type": "stream",
     "text": [
      "please enter the food from the above pizza\n"
     ]
    },
    {
     "name": "stdout",
     "output_type": "stream",
     "text": [
      "how much size of the pizza you want order\n"
     ]
    }
   ],
   "source": [
    "food = [\"pizza\", \"french fries\", \"sandwhich\", \"burger\"]\n",
    "print(\"food's are available\", food)\n",
    "user_input = input(\"please enter the food from the above\")\n",
    "\n",
    "if user_input == food[0]:\n",
    "    print(\"how much size of the pizza you want order\")\n",
    "    \n",
    "elif user_input == food[1]:\n",
    "    print(\"how much qty of the french fries you want order\")\n",
    "    \n",
    "elif user_input == food[2]:\n",
    "    print(\"how many of the sandwhich you want order\")\n",
    "    \n",
    "elif user_input == food[3]:\n",
    "    print(\"how many of the burger you want order\")\n",
    "    \n",
    "else:\n",
    "    print(\"this food is out of stock\")"
   ]
  },
  {
   "cell_type": "code",
   "execution_count": 165,
   "id": "8a5e3efd-0d9c-4904-880c-371589eb7ba6",
   "metadata": {},
   "outputs": [
    {
     "name": "stdout",
     "output_type": "stream",
     "text": [
      "bigger\n"
     ]
    }
   ],
   "source": [
    "a = 8  # when we use multiple conditions(elif) when the first condition matches there itself it will stop\n",
    "\n",
    "if a>1:\n",
    "    print(\"bigger\")\n",
    "elif a>2:\n",
    "    print(\"bigger then 2\")\n",
    "elif a>3:\n",
    "    print(\"bigger then 3\")"
   ]
  },
  {
   "cell_type": "code",
   "execution_count": 166,
   "id": "ae2e7c7d-3921-48b5-aedb-625a055894ea",
   "metadata": {},
   "outputs": [
    {
     "name": "stdout",
     "output_type": "stream",
     "text": [
      "first condition satisfied\n",
      "second condition proved\n"
     ]
    }
   ],
   "source": [
    "\n",
    "a = 57\n",
    "\n",
    "if type(a) == int:\n",
    "    print(\"first condition satisfied\")\n",
    "    if a>20:\n",
    "        print(\"second condition proved\")\n"
   ]
  },
  {
   "cell_type": "code",
   "execution_count": 168,
   "id": "5df6ae7e-81f2-4b03-a3fe-56329a6e33cd",
   "metadata": {},
   "outputs": [
    {
     "name": "stdin",
     "output_type": "stream",
     "text": [
      "are you indian indian\n",
      "enter age 34\n"
     ]
    },
    {
     "name": "stdout",
     "output_type": "stream",
     "text": [
      "you are eligible to vote\n"
     ]
    }
   ],
   "source": [
    "citizenship = input(\"are you indian\")\n",
    "\n",
    "if citizenship == \"indian\":\n",
    "    age = int(input(\"enter age\"))\n",
    "    if age >= 18:\n",
    "        print(\"you are eligible to vote\")"
   ]
  },
  {
   "cell_type": "code",
   "execution_count": 61,
   "id": "8902cf3a-f3d6-447b-8878-140a881742a8",
   "metadata": {},
   "outputs": [
    {
     "name": "stdout",
     "output_type": "stream",
     "text": [
      "food's are available ['pizza', 'french fries', 'sandwhich', 'burger']\n"
     ]
    },
    {
     "name": "stdin",
     "output_type": "stream",
     "text": [
      "please enter the food from the above pizza\n"
     ]
    },
    {
     "name": "stdout",
     "output_type": "stream",
     "text": [
      "how much size of the pizza you want order\n",
      "available sizes 10, 21, 28\n"
     ]
    },
    {
     "name": "stdin",
     "output_type": "stream",
     "text": [
      "enter the size  10\n"
     ]
    },
    {
     "name": "stdout",
     "output_type": "stream",
     "text": [
      "the size you have choosen is 10 bigger\n"
     ]
    }
   ],
   "source": [
    "\"\"\"\n",
    "a condition with in other another condition is nested if \n",
    "\"\"\"\n",
    "\n",
    "\n",
    "food = [\"pizza\", \"french fries\", \"sandwhich\", \"burger\"]\n",
    "print(\"food's are available\", food)\n",
    "user_input = input(\"please enter the food from the above\")\n",
    "\n",
    "if user_input == food[0]:\n",
    "    print(\"how much size of the pizza you want order\")\n",
    "    print(\"available sizes 10, 21, 28\")\n",
    "    size = int(input(\"enter the size \"))\n",
    "    if size in [10,21,28]:\n",
    "        print(f\"the size you have choosen is {size} bigger\")\n",
    "    else:\n",
    "        print(\"this size of pizza not available\")\n",
    "elif user_input == food[1]:\n",
    "    print(\"how much qty of the french fries you want order\")\n",
    "    print(\"available for 100, 200, 300\")\n",
    "    size = int(input(\"enter the count \"))\n",
    "    if size in [100,200,300]:\n",
    "        print(f\"the count you have choosen is {size}\")\n",
    "    else:\n",
    "        print(\"this size of french fries not available\")\n",
    "    \n",
    "elif user_input == food[2]:\n",
    "    print(\"how many of the sandwhich you want order\")\n",
    "    print(\"available for 1, 2, 3\")\n",
    "    size = int(input(\"enter the count \"))\n",
    "    if size in [1,2,3]:\n",
    "        print(f\"the count you have choosen is {size}\")\n",
    "    else:\n",
    "        print(\"this count of sandwhich not available\")\n",
    "    \n",
    "elif user_input == food[3]:\n",
    "    print(\"how many of the burger you want order\")\n",
    "    print(\"available for 1, 2, 3\")\n",
    "    size = int(input(\"enter the count \"))\n",
    "    if size in [1,2,3]:\n",
    "        print(f\"the count you have choosen is {size}\")\n",
    "    else:\n",
    "        print(\"this count of burger not available\")    \n",
    "    \n",
    "else:\n",
    "    print(\"this food is out of stock\")"
   ]
  },
  {
   "cell_type": "code",
   "execution_count": 169,
   "id": "26851267-f714-4a27-9892-c01afd8a77bf",
   "metadata": {},
   "outputs": [
    {
     "name": "stdout",
     "output_type": "stream",
     "text": [
      "condition is true\n"
     ]
    }
   ],
   "source": [
    "# short hand if \n",
    "if 4>2: print(\"condition is true\")"
   ]
  },
  {
   "cell_type": "code",
   "execution_count": 170,
   "id": "18fe6072-41ca-4e74-a9f1-fd272a9b9187",
   "metadata": {},
   "outputs": [
    {
     "name": "stdout",
     "output_type": "stream",
     "text": [
      "condition True\n",
      "logical or implemented\n"
     ]
    }
   ],
   "source": [
    "a = 8\n",
    "b = 5\n",
    "c = 2\n",
    "if a>b or b>a or c>d: print(\"condition True\"), print(\"logical or implemented\")"
   ]
  },
  {
   "cell_type": "code",
   "execution_count": 2,
   "id": "c8b913b7-d4d7-4e46-bcd0-a50ed2984844",
   "metadata": {},
   "outputs": [
    {
     "data": {
      "text/plain": [
       "3"
      ]
     },
     "execution_count": 2,
     "metadata": {},
     "output_type": "execute_result"
    }
   ],
   "source": [
    "# ternery operators -- operators usually will be located in betwee two operands here also we put if else in between two operands i.e we call it ternery operators\n",
    "\n",
    "a = 5\n",
    "b = 3\n",
    "c = 2\n",
    "\n",
    "a if 0 else b"
   ]
  },
  {
   "cell_type": "code",
   "execution_count": 3,
   "id": "74fdabf1-90ea-4d48-a899-944dda95a3c1",
   "metadata": {},
   "outputs": [
    {
     "data": {
      "text/plain": [
       "5"
      ]
     },
     "execution_count": 3,
     "metadata": {},
     "output_type": "execute_result"
    }
   ],
   "source": [
    "a = 5\n",
    "b = 3\n",
    "c = 2\n",
    "\n",
    "a if a>c else b"
   ]
  },
  {
   "cell_type": "code",
   "execution_count": 4,
   "id": "552f1023-1087-4ce1-9683-71f1f4bf6e20",
   "metadata": {},
   "outputs": [
    {
     "name": "stdout",
     "output_type": "stream",
     "text": [
      "b is smaller\n"
     ]
    }
   ],
   "source": [
    "\n",
    "#nested ternery operators\n",
    "\n",
    "a = 5\n",
    "b = 1\n",
    "c = 2\n",
    "print(\"a is smaller\") if a<b else print(\"b is smaller\") if b<c else print(\"c is smaller\")"
   ]
  },
  {
   "cell_type": "code",
   "execution_count": 68,
   "id": "5ecffd62-7a1e-4517-92d7-afa84f06f116",
   "metadata": {},
   "outputs": [
    {
     "name": "stdout",
     "output_type": "stream",
     "text": [
      "condition validated\n"
     ]
    }
   ],
   "source": [
    "# assert is an condition checker unlike if. assert will raise an exception if the condition is wrong\n",
    "a = 4\n",
    "assert a*a == 16,  AssertionError(\"value is wrong\")\n",
    "print(\"condition validated\")"
   ]
  },
  {
   "cell_type": "code",
   "execution_count": 69,
   "id": "649f8ad1-9983-4200-99c0-4282fb46db8d",
   "metadata": {},
   "outputs": [
    {
     "name": "stdout",
     "output_type": "stream",
     "text": [
      "condition validated\n"
     ]
    }
   ],
   "source": [
    "a = 4\n",
    "assert a*a == 16,  \"oops is wrong\"\n",
    "print(\"condition validated\")"
   ]
  },
  {
   "cell_type": "code",
   "execution_count": 70,
   "id": "f1618df7-481a-4643-83b0-f2813fa74cbe",
   "metadata": {},
   "outputs": [
    {
     "ename": "AssertionError",
     "evalue": "value is wrong",
     "output_type": "error",
     "traceback": [
      "\u001b[1;31m---------------------------------------------------------------------------\u001b[0m",
      "\u001b[1;31mAssertionError\u001b[0m                            Traceback (most recent call last)",
      "Cell \u001b[1;32mIn[70], line 2\u001b[0m\n\u001b[0;32m      1\u001b[0m a \u001b[38;5;241m=\u001b[39m \u001b[38;5;241m3\u001b[39m\n\u001b[1;32m----> 2\u001b[0m \u001b[38;5;28;01massert\u001b[39;00m a\u001b[38;5;241m*\u001b[39ma \u001b[38;5;241m==\u001b[39m \u001b[38;5;241m16\u001b[39m,  \u001b[38;5;167;01mAssertionError\u001b[39;00m(\u001b[38;5;124m\"\u001b[39m\u001b[38;5;124mvalue is wrong\u001b[39m\u001b[38;5;124m\"\u001b[39m)\n\u001b[0;32m      3\u001b[0m \u001b[38;5;28mprint\u001b[39m(\u001b[38;5;124m\"\u001b[39m\u001b[38;5;124mcondition validated\u001b[39m\u001b[38;5;124m\"\u001b[39m)\n",
      "\u001b[1;31mAssertionError\u001b[0m: value is wrong"
     ]
    }
   ],
   "source": [
    "a = 3\n",
    "assert a*a == 16,  AssertionError(\"value is wrong\")\n",
    "print(\"condition validated\")"
   ]
  },
  {
   "cell_type": "code",
   "execution_count": 71,
   "id": "a239a424-8a4d-4ac8-bd55-c54e6f582dc9",
   "metadata": {},
   "outputs": [
    {
     "ename": "AssertionError",
     "evalue": "value is wrong",
     "output_type": "error",
     "traceback": [
      "\u001b[1;31m---------------------------------------------------------------------------\u001b[0m",
      "\u001b[1;31mAssertionError\u001b[0m                            Traceback (most recent call last)",
      "Cell \u001b[1;32mIn[71], line 2\u001b[0m\n\u001b[0;32m      1\u001b[0m a \u001b[38;5;241m=\u001b[39m \u001b[38;5;241m3\u001b[39m\n\u001b[1;32m----> 2\u001b[0m \u001b[38;5;28;01massert\u001b[39;00m a\u001b[38;5;241m*\u001b[39ma \u001b[38;5;241m==\u001b[39m \u001b[38;5;241m16\u001b[39m, \u001b[38;5;124m\"\u001b[39m\u001b[38;5;124mvalue is wrong\u001b[39m\u001b[38;5;124m\"\u001b[39m\n\u001b[0;32m      3\u001b[0m \u001b[38;5;28mprint\u001b[39m(\u001b[38;5;124m\"\u001b[39m\u001b[38;5;124mcondition validated\u001b[39m\u001b[38;5;124m\"\u001b[39m)\n",
      "\u001b[1;31mAssertionError\u001b[0m: value is wrong"
     ]
    }
   ],
   "source": [
    "a = 3\n",
    "assert a*a == 16, \"value is wrong\"\n",
    "print(\"condition validated\")"
   ]
  },
  {
   "cell_type": "code",
   "execution_count": 72,
   "id": "f72352fa-6f67-4b46-be33-8048fa230ada",
   "metadata": {},
   "outputs": [
    {
     "name": "stdout",
     "output_type": "stream",
     "text": [
      "internal server error\n"
     ]
    }
   ],
   "source": [
    "def error_status(n):\n",
    "    match n:\n",
    "        case 200:\n",
    "            print(\"request ok\")\n",
    "        case 400:\n",
    "            print(\"bad request\")\n",
    "        case 500:\n",
    "            print(\"internal server error\")\n",
    "\n",
    "error_status(500)\n",
    "    "
   ]
  },
  {
   "cell_type": "code",
   "execution_count": 73,
   "id": "c4daaf21-e5f8-4269-a419-6ad667d425fb",
   "metadata": {},
   "outputs": [
    {
     "name": "stdout",
     "output_type": "stream",
     "text": [
      "bad request\n"
     ]
    }
   ],
   "source": [
    "# without function\n",
    "n = 400\n",
    "match n:\n",
    "    case 200:\n",
    "        print(\"request ok\")\n",
    "    case 400:\n",
    "        print(\"bad request\")\n",
    "    case 500:\n",
    "        print(\"internal server error\")"
   ]
  },
  {
   "cell_type": "code",
   "execution_count": 74,
   "id": "d4529303-b6e1-4321-bd79-b2a35f9a91ef",
   "metadata": {},
   "outputs": [
    {
     "name": "stdout",
     "output_type": "stream",
     "text": [
      "no data\n"
     ]
    }
   ],
   "source": [
    "# without function\n",
    "n = 600\n",
    "match n:\n",
    "    case 200:\n",
    "        print(\"request ok\")\n",
    "    case 400:\n",
    "        print(\"bad request\")\n",
    "    case 500:\n",
    "        print(\"internal server error\")\n",
    "    case default:\n",
    "        print(\"no data\")"
   ]
  },
  {
   "cell_type": "code",
   "execution_count": 75,
   "id": "e953cc4a-e54f-4b4b-a9f6-a194074a7201",
   "metadata": {},
   "outputs": [
    {
     "name": "stdout",
     "output_type": "stream",
     "text": [
      "condition matches\n",
      "510\n"
     ]
    }
   ],
   "source": [
    "# without function\n",
    "\n",
    "\"\"\"\n",
    "match case always compares the values\n",
    "\"\"\"\n",
    "n = 500\n",
    "match n>300:\n",
    "    \n",
    "    case 200:\n",
    "        print(\"request ok\")\n",
    "    case 400:\n",
    "        print(\"bad request\")\n",
    "    case 500:\n",
    "        print(\"internal server error\")\n",
    "    case True:\n",
    "        print(\"condition matches\")\n",
    "        print(n+10)\n",
    "    case False:\n",
    "        print(\"condition not matching\")\n",
    "    case default:\n",
    "        print(\"no data\")\n",
    "# else:\n",
    "#     print(\"not founded data\")"
   ]
  },
  {
   "cell_type": "code",
   "execution_count": 170,
   "id": "5baf8bc1-2b45-414e-bddb-c00b43536be8",
   "metadata": {},
   "outputs": [
    {
     "data": {
      "text/plain": [
       "'user'"
      ]
     },
     "execution_count": 170,
     "metadata": {},
     "output_type": "execute_result"
    }
   ],
   "source": [
    "# dynamically assign a valid data to a variable\n",
    "\n",
    "d_name = None\n",
    "o_name = \"user\"\n",
    "name = d_name or o_name\n",
    "name"
   ]
  },
  {
   "cell_type": "code",
   "execution_count": 171,
   "id": "36cf9eab-a997-41eb-9dae-dfb1517511ae",
   "metadata": {},
   "outputs": [
    {
     "name": "stdout",
     "output_type": "stream",
     "text": [
      "Default case executed\n"
     ]
    }
   ],
   "source": [
    "def case_1():\n",
    "    return \"Case 1 executed\"\n",
    "\n",
    "def case_2():\n",
    "    return \"Case 2 executed\"\n",
    "\n",
    "def default_case():\n",
    "    return \"Default case executed\"\n",
    "\n",
    "\n",
    "switch = {\n",
    "    1: case_1,\n",
    "    2: case_2,\n",
    "}\n",
    "result = switch.get(5, default_case)()\n",
    "print(result)  # Output: Case 1 executed"
   ]
  },
  {
   "cell_type": "markdown",
   "id": "efd7ad15-c874-4069-8b7c-5a247300ff2c",
   "metadata": {},
   "source": [
    "# conditional loop(while) -- as long as the condition is true the while loop will run"
   ]
  },
  {
   "cell_type": "code",
   "execution_count": 76,
   "id": "94bcd5fb-f891-4149-b5ac-f673ed276155",
   "metadata": {},
   "outputs": [
    {
     "name": "stdout",
     "output_type": "stream",
     "text": [
      "0\n",
      "1\n",
      "2\n",
      "3\n",
      "4\n",
      "5\n",
      "6\n",
      "7\n",
      "8\n",
      "9\n",
      "10\n",
      "11\n",
      "12\n",
      "13\n",
      "14\n",
      "end of the while loop\n"
     ]
    }
   ],
   "source": [
    "n = 0\n",
    "\n",
    "while n<15:  # if the condition is always true the while will becomen a infinite loop\n",
    "    print(n)\n",
    "    n +=1  # by doing the incrementation we make the condition fail at some pos\n",
    "else:\n",
    "    print(\"end of the while loop\")"
   ]
  },
  {
   "cell_type": "code",
   "execution_count": 77,
   "id": "12ef3bc1-d0ad-4c1b-8c70-bb28b8d9cca0",
   "metadata": {},
   "outputs": [
    {
     "name": "stdout",
     "output_type": "stream",
     "text": [
      "0\n",
      "1\n",
      "2\n",
      "3\n",
      "4\n",
      "5\n",
      "6\n",
      "7\n",
      "8\n"
     ]
    }
   ],
   "source": [
    "i = 0\n",
    "while i<15:\n",
    "    print(i)\n",
    "    if i == 8:\n",
    "        break   # when the break executes it will stop the loop\n",
    "    i +=1\n",
    "else:\n",
    "    print(\"end of the loop\")"
   ]
  },
  {
   "cell_type": "code",
   "execution_count": 78,
   "id": "158b7683-bf88-491c-aaab-c42b50c8e044",
   "metadata": {},
   "outputs": [
    {
     "name": "stdout",
     "output_type": "stream",
     "text": [
      "2\n",
      "2 is a even number\n",
      "4\n",
      "4 is a even number\n",
      "6\n",
      "6 is a even number\n",
      "8\n",
      "8 is a even number\n",
      "10\n",
      "10 is a even number\n",
      "12\n",
      "12 is a even number\n",
      "14\n",
      "14 is a even number\n",
      "end of the loop\n"
     ]
    }
   ],
   "source": [
    "i = 0\n",
    "while i<15:\n",
    "  \n",
    "    i +=1\n",
    "    if i%2 != 0:\n",
    "        continue   # when the continue executes it will skip the following lines \n",
    "        #push the current loop into the next loop without executeing following lines of code\n",
    "    print(i)\n",
    "    print(i, \"is a even number\")\n",
    "  \n",
    "else:\n",
    "    print(\"end of the loop\")"
   ]
  },
  {
   "cell_type": "code",
   "execution_count": 79,
   "id": "109f107b-fa99-4b6b-8fcf-0d41610c5329",
   "metadata": {},
   "outputs": [
    {
     "name": "stdout",
     "output_type": "stream",
     "text": [
      "5 and 3 are positive values\n",
      "5 and 2 are positive values\n"
     ]
    }
   ],
   "source": [
    "x = 5\n",
    "y = 3\n",
    "\n",
    "while x>3 and y>1:  # multiple condition with while loop\n",
    "    print(f\"{x} and {y} are positive values\")\n",
    "    y -=1"
   ]
  },
  {
   "cell_type": "code",
   "execution_count": 81,
   "id": "d35b913f-fb46-4ef0-9cdf-b1a4bba67241",
   "metadata": {},
   "outputs": [
    {
     "name": "stdout",
     "output_type": "stream",
     "text": [
      "[1, 3, 5]\n",
      "_________________\n",
      "[2, 4, 6]\n",
      "_________________\n",
      "[8, 10, 12]\n",
      "_________________\n"
     ]
    }
   ],
   "source": [
    "two_dim = [\n",
    "    [1,3,5],\n",
    "    [2,4,6],\n",
    "    [8,10,12]\n",
    "]\n",
    "\n",
    "\n",
    "i = 0\n",
    "while i<len(two_dim):\n",
    "    row = two_dim[i]\n",
    "    print(row)\n",
    "\n",
    "    \n",
    " \n",
    "    \n",
    "    i +=1\n",
    "    print(\"_________________\")\n",
    "    "
   ]
  },
  {
   "cell_type": "code",
   "execution_count": 83,
   "id": "fc49430e-2f16-44ab-9ac9-b39492ed7478",
   "metadata": {},
   "outputs": [
    {
     "name": "stdout",
     "output_type": "stream",
     "text": [
      "[1, 3, 5]\n",
      "1\n",
      "3\n",
      "5\n",
      "[2, 4, 6, 7]\n",
      "2\n",
      "4\n",
      "6\n",
      "7\n",
      "[8, 10, 12]\n",
      "8\n",
      "10\n",
      "12\n"
     ]
    }
   ],
   "source": [
    "# two_dim = [\n",
    "#     [1,3,5],\n",
    "#     [2,4,6],\n",
    "#     [8,10,12]\n",
    "# ]\n",
    "two_dim = [ [1,3,5], [2,4,6,7], [8,10,12] ]\n",
    "\n",
    "i = 0\n",
    "while i<len(two_dim):\n",
    "    row = two_dim[i]\n",
    "    print(row)\n",
    "\n",
    "    \n",
    "    j = 0\n",
    "    while j<len(row):\n",
    "        print(row[j])\n",
    "        j +=1\n",
    "    \n",
    "    \n",
    "    i +=1\n",
    "    "
   ]
  },
  {
   "cell_type": "markdown",
   "id": "180044be-bef6-4c6f-8d97-e504d81182c4",
   "metadata": {},
   "source": [
    "# For Loop :\n",
    "    Iteration Loop -- a loop that iterates over a sequence each element of the sequence the for loop executes the body of it"
   ]
  },
  {
   "cell_type": "code",
   "execution_count": 86,
   "id": "5d54b492-cb0c-444d-9fd9-d5546c24633f",
   "metadata": {},
   "outputs": [
    {
     "name": "stdout",
     "output_type": "stream",
     "text": [
      "91\n",
      "178\n",
      "44.5\n",
      "\n",
      "9.8\n",
      "15.6\n",
      "3.9\n",
      "\n",
      "end of the for loop\n"
     ]
    }
   ],
   "source": [
    "l1 = [34,12,89,7.8]\n",
    "\n",
    "for i in l1[2:]:\n",
    "    print(i+2)\n",
    "    print(i*2)\n",
    "    print(i/2)\n",
    "    print()\n",
    "else:\n",
    "    print(\"end of the for loop\")\n",
    "\n",
    "# the i value will have the last element of the sequence we can access outside also\n",
    "\n",
    "#print(i)"
   ]
  },
  {
   "cell_type": "code",
   "execution_count": 87,
   "id": "2faf6fdf-a728-424d-a06e-a71f7e87cd79",
   "metadata": {},
   "outputs": [
    {
     "name": "stdout",
     "output_type": "stream",
     "text": [
      "0\n",
      "1\n",
      "2\n",
      "3\n",
      "4\n",
      "5\n",
      "6\n",
      "7\n",
      "8\n"
     ]
    }
   ],
   "source": [
    "for i in range(15):\n",
    "    print(i)\n",
    "    if i == 8:\n",
    "        break"
   ]
  },
  {
   "cell_type": "code",
   "execution_count": 88,
   "id": "59942e51-cfa9-44bd-9ba3-fac181939454",
   "metadata": {},
   "outputs": [
    {
     "name": "stdout",
     "output_type": "stream",
     "text": [
      "1\n",
      "3\n",
      "5\n",
      "7\n",
      "9\n",
      "11\n",
      "13\n"
     ]
    }
   ],
   "source": [
    "for i in range(15):\n",
    "    \n",
    "    if i%2 ==0:\n",
    "        continue\n",
    "    print(i)"
   ]
  },
  {
   "cell_type": "code",
   "execution_count": 91,
   "id": "53794db5-1cba-4e71-989e-b8162fa50ed9",
   "metadata": {},
   "outputs": [
    {
     "name": "stdout",
     "output_type": "stream",
     "text": [
      "1\n",
      "3\n",
      "5\n",
      "[1, 3, 5]\n",
      "\n",
      "2\n",
      "4\n",
      "6\n",
      "[2, 4, 6]\n",
      "\n",
      "8\n",
      "10\n",
      "12\n",
      "[8, 10, 12]\n",
      "\n"
     ]
    }
   ],
   "source": [
    "two_dim = [\n",
    "    [1,3,5],\n",
    "    [2,4,6],\n",
    "    [8,10,12]\n",
    "]\n",
    "\n",
    "\n",
    "for i in two_dim:\n",
    "    row = i\n",
    "\n",
    "    for j in row:\n",
    "        print(j)\n",
    "\n",
    "    print(row)\n",
    "    print()"
   ]
  },
  {
   "cell_type": "code",
   "execution_count": 92,
   "id": "05448f4b-101d-4b11-8f07-9144c65992b2",
   "metadata": {},
   "outputs": [
    {
     "name": "stdout",
     "output_type": "stream",
     "text": [
      "outer for loop initiaing inner for loop\n",
      "the banana color is red\n",
      "the cherry color is red\n",
      "the apple color is red\n",
      "\n",
      "outer for loop initiaing inner for loop\n",
      "the banana color is green\n",
      "the cherry color is green\n",
      "the apple color is green\n",
      "\n"
     ]
    }
   ],
   "source": [
    "colors = [\"red\", \"green\"]\n",
    "\n",
    "fruits = [\"banana\", \"cherry\", \"apple\"]\n",
    "\n",
    "for color in colors:\n",
    "    print(\"outer for loop initiaing inner for loop\")\n",
    "    \n",
    "    for fruit in fruits:\n",
    "        #print(\"inner for loop runs\")\n",
    "        print(f\"the {fruit} color is {color}\")\n",
    "\n",
    "    print()"
   ]
  },
  {
   "cell_type": "code",
   "execution_count": 93,
   "id": "4f9b51de-65da-4f24-b138-23b15a70416a",
   "metadata": {},
   "outputs": [
    {
     "data": {
      "text/plain": [
       "[(0, 4), (1, 2), (2, 8), (3, 6)]"
      ]
     },
     "execution_count": 93,
     "metadata": {},
     "output_type": "execute_result"
    }
   ],
   "source": [
    "# enumerate -- return the sequence elements along with their positions in a tuple\n",
    "\n",
    "l1 = [4,2,8,6]\n",
    "l2 = list(enumerate(l1))\n",
    "l2"
   ]
  },
  {
   "cell_type": "code",
   "execution_count": 181,
   "id": "8dd838b1-75e9-453b-a350-b2af98874f4c",
   "metadata": {},
   "outputs": [
    {
     "data": {
      "text/plain": [
       "{(0, 1), (1, 4), (2, 7), (3, 8), (4, 9)}"
      ]
     },
     "execution_count": 181,
     "metadata": {},
     "output_type": "execute_result"
    }
   ],
   "source": [
    "s1 = {4,1,7,8,9}\n",
    "s2 = set(enumerate(s1))  # it will work on the unordred seq\n",
    "s2"
   ]
  },
  {
   "cell_type": "code",
   "execution_count": 182,
   "id": "9c42de5c-889e-4be4-8e1f-3931ed67d4ff",
   "metadata": {},
   "outputs": [
    {
     "data": {
      "text/plain": [
       "0"
      ]
     },
     "execution_count": 182,
     "metadata": {},
     "output_type": "execute_result"
    }
   ],
   "source": [
    "i,j = (0,4)\n",
    "i"
   ]
  },
  {
   "cell_type": "code",
   "execution_count": 181,
   "id": "4b89133b-1c5f-4490-9e9e-1db50e841f66",
   "metadata": {},
   "outputs": [
    {
     "name": "stdout",
     "output_type": "stream",
     "text": [
      "(0, 4)\n",
      "(1, 2)\n",
      "(2, 8)\n",
      "(3, 6)\n"
     ]
    }
   ],
   "source": [
    "l1 = [4,2,8,6]\n",
    "for i in enumerate(l1):\n",
    "    print(i)"
   ]
  },
  {
   "cell_type": "code",
   "execution_count": 6,
   "id": "b8b114b7-9142-4e22-89a6-7703d29d9c05",
   "metadata": {},
   "outputs": [
    {
     "name": "stdout",
     "output_type": "stream",
     "text": [
      "index position 0 for the element 4\n",
      "index position 1 for the element 2\n",
      "index position 2 for the element 8\n",
      "index position 3 for the element 6\n"
     ]
    }
   ],
   "source": [
    "l1 = [4,2,8,6]\n",
    "for i,j in enumerate(l1):\n",
    "    \"\"\"\n",
    "    index or find will give wrong informations when the duplicates occurs    \n",
    "    enumerate will return proper indexes even for the duplicates\n",
    "    \"\"\"\n",
    "    \n",
    "    print(f\"index position {i} for the element {j}\")"
   ]
  },
  {
   "cell_type": "code",
   "execution_count": 183,
   "id": "03d3d529-1603-4d8e-8d6b-64aeb69a297d",
   "metadata": {},
   "outputs": [
    {
     "name": "stdout",
     "output_type": "stream",
     "text": [
      "sugar\n",
      "30\n",
      "\n",
      "coffepowder\n",
      "60\n",
      "\n",
      "ghee\n",
      "500\n",
      "\n",
      "milk\n",
      "25\n",
      "\n"
     ]
    }
   ],
   "source": [
    "products = [\"sugar\", \"coffepowder\", \"ghee\", \"milk\"]\n",
    "prices = [30,60,500,25, 34,12]\n",
    "\n",
    "for product, price in zip(products, prices):\n",
    "    print(product)\n",
    "    print(price)\n",
    "    print()"
   ]
  },
  {
   "cell_type": "code",
   "execution_count": 185,
   "id": "193eb11b-5be1-4abb-b964-fa76461cb763",
   "metadata": {},
   "outputs": [
    {
     "data": {
      "text/plain": [
       "[0, 1, 4, 9, 16, 25, 36, 49, 64, 81]"
      ]
     },
     "execution_count": 185,
     "metadata": {},
     "output_type": "execute_result"
    }
   ],
   "source": [
    "# comprehensions -- create datasturucters in easy manner using for, if\n",
    "# list comprehension\n",
    "l1 = [x*x for x in range(10)]\n",
    "l1"
   ]
  },
  {
   "cell_type": "code",
   "execution_count": 8,
   "id": "3e4ad285-f8f9-482a-a1f1-865b1fc225ba",
   "metadata": {},
   "outputs": [
    {
     "data": {
      "text/plain": [
       "[2, 6, 10, 14, 18, 22, 26, 30, 34, 38]"
      ]
     },
     "execution_count": 8,
     "metadata": {},
     "output_type": "execute_result"
    }
   ],
   "source": [
    "l1 = [x*2 for x in range(20) if x%2 !=0]\n",
    "l1"
   ]
  },
  {
   "cell_type": "code",
   "execution_count": 9,
   "id": "6c182098-a813-422e-afd6-1565eee81443",
   "metadata": {},
   "outputs": [
    {
     "data": {
      "text/plain": [
       "{0: 0, 1: 1, 2: 8, 3: 27, 4: 64, 5: 125, 6: 216, 7: 343}"
      ]
     },
     "execution_count": 9,
     "metadata": {},
     "output_type": "execute_result"
    }
   ],
   "source": [
    "#dictionary comprehension\n",
    "d1 = {x:x**3 for x in range(8)}\n",
    "d1"
   ]
  },
  {
   "cell_type": "code",
   "execution_count": 10,
   "id": "d396a7c1-95e7-498f-9b1c-dac046785f1f",
   "metadata": {},
   "outputs": [
    {
     "data": {
      "text/plain": [
       "{0: 0, 2: 8, 4: 64, 6: 216, 8: 512, 10: 1000, 12: 1728, 14: 2744}"
      ]
     },
     "execution_count": 10,
     "metadata": {},
     "output_type": "execute_result"
    }
   ],
   "source": [
    "d1 = {x:x**3 for x in range(15) if x%2 ==0}\n",
    "d1"
   ]
  },
  {
   "cell_type": "markdown",
   "id": "2bb4d75a-6660-4098-bfaf-72c803065e42",
   "metadata": {},
   "source": [
    "# functions\n",
    "    => are reusable codes\n",
    "    => a function needs to be called to execute the function block code\n",
    "    => a simple logic of the code\n",
    "    => a function uses a return statment \n",
    "    => def name():\n",
    "        \"logic of the code\"\n",
    "\n",
    "    inbuild -- print, min, max, sum, len\n",
    "    user defined -- created by the programmer for own use\n",
    "    module functions -- coming from libraries"
   ]
  },
  {
   "cell_type": "code",
   "execution_count": 1,
   "id": "4e87942b-4fd4-4474-b170-4c3c364d7cea",
   "metadata": {},
   "outputs": [
    {
     "data": {
      "text/plain": [
       "3"
      ]
     },
     "execution_count": 1,
     "metadata": {},
     "output_type": "execute_result"
    }
   ],
   "source": [
    "min([3,4,5,7])  # inbuild function which returns minimum value"
   ]
  },
  {
   "cell_type": "code",
   "execution_count": 5,
   "id": "9731e7e8-3a03-4455-a5db-52884511f77d",
   "metadata": {},
   "outputs": [],
   "source": [
    "obj = max([3,4,5,7]) #inbuild function which returns maximum value\n"
   ]
  },
  {
   "cell_type": "code",
   "execution_count": 6,
   "id": "7d4196d5-6571-4510-9df5-e9f6d9274492",
   "metadata": {},
   "outputs": [
    {
     "data": {
      "text/plain": [
       "7"
      ]
     },
     "execution_count": 6,
     "metadata": {},
     "output_type": "execute_result"
    }
   ],
   "source": [
    "obj"
   ]
  },
  {
   "cell_type": "code",
   "execution_count": 3,
   "id": "fe8c0807-c5b8-4230-9ac0-bb3083c78930",
   "metadata": {},
   "outputs": [
    {
     "name": "stdout",
     "output_type": "stream",
     "text": [
      "9\n"
     ]
    }
   ],
   "source": [
    "ans = print(6+3)  # print() inbuild function will not return anything"
   ]
  },
  {
   "cell_type": "code",
   "execution_count": 7,
   "id": "847dcde0-1b53-4424-9cc8-79873c274ff0",
   "metadata": {},
   "outputs": [],
   "source": [
    "ans"
   ]
  },
  {
   "cell_type": "code",
   "execution_count": 1,
   "id": "7cab75ff-c298-4855-815b-837146c2c414",
   "metadata": {},
   "outputs": [],
   "source": [
    "def hello():  # empty functions\n",
    "    pass\n",
    "hello()"
   ]
  },
  {
   "cell_type": "code",
   "execution_count": 2,
   "id": "1377b58f-d48d-451d-b95e-20e06a8b15dd",
   "metadata": {},
   "outputs": [
    {
     "name": "stdout",
     "output_type": "stream",
     "text": [
      "None\n"
     ]
    }
   ],
   "source": [
    "ans = hello()\n",
    "print(ans)"
   ]
  },
  {
   "cell_type": "code",
   "execution_count": 3,
   "id": "83e0c538-b157-4778-9377-7d570d0e2804",
   "metadata": {},
   "outputs": [
    {
     "ename": "IndentationError",
     "evalue": "expected an indented block after function definition on line 1 (782024636.py, line 3)",
     "output_type": "error",
     "traceback": [
      "\u001b[1;36m  Cell \u001b[1;32mIn[3], line 3\u001b[1;36m\u001b[0m\n\u001b[1;33m    hello()\u001b[0m\n\u001b[1;37m    ^\u001b[0m\n\u001b[1;31mIndentationError\u001b[0m\u001b[1;31m:\u001b[0m expected an indented block after function definition on line 1\n"
     ]
    }
   ],
   "source": [
    "def hello():  # empty functions\n",
    "    \n",
    "hello()"
   ]
  },
  {
   "cell_type": "code",
   "execution_count": 4,
   "id": "b2fbe16b-1d33-4a92-9148-4d918c7b988c",
   "metadata": {},
   "outputs": [
    {
     "data": {
      "text/plain": [
       "'hello'"
      ]
     },
     "execution_count": 4,
     "metadata": {},
     "output_type": "execute_result"
    }
   ],
   "source": [
    "def fun():\n",
    "    return \"hello\"\n",
    "\n",
    "\n",
    "fun()"
   ]
  },
  {
   "cell_type": "code",
   "execution_count": 13,
   "id": "5aa51122-660c-40cc-aa0f-cd512e573901",
   "metadata": {},
   "outputs": [],
   "source": [
    "def fun():\n",
    "    return \"hello\"\n",
    "    \n",
    "obj = fun() # a function obj will have the returned value"
   ]
  },
  {
   "cell_type": "code",
   "execution_count": 16,
   "id": "5d1efd5d-d251-4b57-b8b2-51577415b663",
   "metadata": {},
   "outputs": [
    {
     "data": {
      "text/plain": [
       "'hello'"
      ]
     },
     "execution_count": 16,
     "metadata": {},
     "output_type": "execute_result"
    }
   ],
   "source": [
    "obj"
   ]
  },
  {
   "cell_type": "code",
   "execution_count": 15,
   "id": "2932d428-4387-4559-994e-8efef132f8eb",
   "metadata": {},
   "outputs": [
    {
     "data": {
      "text/plain": [
       "'l'"
      ]
     },
     "execution_count": 15,
     "metadata": {},
     "output_type": "execute_result"
    }
   ],
   "source": [
    "obj[3]"
   ]
  },
  {
   "cell_type": "code",
   "execution_count": 5,
   "id": "5c242eae-da0d-496c-b29f-656aba2e7aa7",
   "metadata": {},
   "outputs": [
    {
     "name": "stdout",
     "output_type": "stream",
     "text": [
      "19\n",
      "24\n"
     ]
    }
   ],
   "source": [
    "def fun():\n",
    "    a = 7+6\n",
    "    b = 4+2\n",
    "    c = a+b\n",
    "    return c\n",
    "obj = fun()\n",
    "print(obj)\n",
    "print(obj+5)"
   ]
  },
  {
   "cell_type": "code",
   "execution_count": 6,
   "id": "49b21f6a-f786-4162-985f-f11749638f80",
   "metadata": {},
   "outputs": [
    {
     "name": "stdout",
     "output_type": "stream",
     "text": [
      "19\n",
      "None\n"
     ]
    }
   ],
   "source": [
    "def fun():\n",
    "    a = 7+6\n",
    "    b = 4+2\n",
    "    c = a+b\n",
    "    print(c)\n",
    "    #print(5+9+4)\n",
    "obj = fun()\n",
    "print(obj)"
   ]
  },
  {
   "cell_type": "code",
   "execution_count": 7,
   "id": "132b46a6-8079-4c37-bd82-01577a6ca0e0",
   "metadata": {},
   "outputs": [],
   "source": [
    "def fun():\n",
    "    return \"hello\"  # return statement will be the end of the function\n",
    "    # a function can return all data types, all data structures, another fun, class, return is the end of the function\n",
    "    return 8+9\n",
    "obj = fun()"
   ]
  },
  {
   "cell_type": "code",
   "execution_count": 22,
   "id": "57f76977-c9a9-4bc5-a0db-f2da73c26204",
   "metadata": {},
   "outputs": [
    {
     "data": {
      "text/plain": [
       "1"
      ]
     },
     "execution_count": 22,
     "metadata": {},
     "output_type": "execute_result"
    }
   ],
   "source": [
    "obj = min(4,2,7,98,12,1)\n",
    "obj"
   ]
  },
  {
   "cell_type": "code",
   "execution_count": 23,
   "id": "186109f0-3cc7-4fb1-aae8-d8b17724675a",
   "metadata": {},
   "outputs": [
    {
     "data": {
      "text/plain": [
       "1"
      ]
     },
     "execution_count": 23,
     "metadata": {},
     "output_type": "execute_result"
    }
   ],
   "source": [
    "obj"
   ]
  },
  {
   "cell_type": "code",
   "execution_count": 8,
   "id": "463e5f82-3043-469e-a6d6-628fe851e530",
   "metadata": {},
   "outputs": [
    {
     "name": "stdin",
     "output_type": "stream",
     "text": [
      "enter the number1 5\n",
      "enter the number2 4\n"
     ]
    },
    {
     "name": "stdout",
     "output_type": "stream",
     "text": [
      "5\n",
      "4\n"
     ]
    },
    {
     "data": {
      "text/plain": [
       "(1, 20, 1.25)"
      ]
     },
     "execution_count": 8,
     "metadata": {},
     "output_type": "execute_result"
    }
   ],
   "source": [
    "a = 4\n",
    "\n",
    "def calculator(a,b):  # parameters\n",
    "    print(a)\n",
    "    print(b)\n",
    "    return a-b, a*b, a/b\n",
    "\n",
    "val1 = eval(input(\"enter the number1\"))\n",
    "val2 = eval(input(\"enter the number2\"))\n",
    "\n",
    "calculator(val1, val2)  # arguments"
   ]
  },
  {
   "cell_type": "code",
   "execution_count": 26,
   "id": "aa49a7bf-2396-4954-af7a-563b38beace2",
   "metadata": {},
   "outputs": [
    {
     "name": "stdout",
     "output_type": "stream",
     "text": [
      "8\n",
      "4\n",
      "2\n"
     ]
    }
   ],
   "source": [
    "# when we want to assign values for a parameter we use keyword argument functions\n",
    "\n",
    "\n",
    "def maths(a,b,c):\n",
    "    print(a)\n",
    "    print(b)\n",
    "    print(c)\n",
    "    return a+b+c, a-b-c, a*b*c\n",
    "\n",
    "obj = maths(c = 2,b = 4, a = 8)  # keyword arguments"
   ]
  },
  {
   "cell_type": "code",
   "execution_count": 27,
   "id": "dabfeb3b-342b-4cce-8168-3256504a643a",
   "metadata": {},
   "outputs": [
    {
     "data": {
      "text/plain": [
       "(14, 2, 64)"
      ]
     },
     "execution_count": 27,
     "metadata": {},
     "output_type": "execute_result"
    }
   ],
   "source": [
    "obj"
   ]
  },
  {
   "cell_type": "code",
   "execution_count": 10,
   "id": "e64531b7-56d9-4c98-b849-5e9ce0a99c0d",
   "metadata": {},
   "outputs": [
    {
     "ename": "TypeError",
     "evalue": "fun() missing 1 required positional argument: 'b'",
     "output_type": "error",
     "traceback": [
      "\u001b[1;31m---------------------------------------------------------------------------\u001b[0m",
      "\u001b[1;31mTypeError\u001b[0m                                 Traceback (most recent call last)",
      "Cell \u001b[1;32mIn[10], line 7\u001b[0m\n\u001b[0;32m      2\u001b[0m \u001b[38;5;250m    \u001b[39m\u001b[38;5;124;03m\"\"\"\u001b[39;00m\n\u001b[0;32m      3\u001b[0m \u001b[38;5;124;03m    the parameters and the arguments should always match in the normal function\u001b[39;00m\n\u001b[0;32m      4\u001b[0m \u001b[38;5;124;03m    \"\"\"\u001b[39;00m\n\u001b[0;32m      5\u001b[0m     \u001b[38;5;28;01mreturn\u001b[39;00m a\u001b[38;5;241m+\u001b[39mb\n\u001b[1;32m----> 7\u001b[0m obj \u001b[38;5;241m=\u001b[39m \u001b[43mfun\u001b[49m\u001b[43m(\u001b[49m\u001b[38;5;241;43m4\u001b[39;49m\u001b[43m)\u001b[49m\n\u001b[0;32m      8\u001b[0m \u001b[38;5;66;03m#obj = fun(4,3,4)\u001b[39;00m\n\u001b[0;32m      9\u001b[0m obj \u001b[38;5;241m=\u001b[39m fun(\u001b[38;5;241m4\u001b[39m,\u001b[38;5;241m2\u001b[39m)\n",
      "\u001b[1;31mTypeError\u001b[0m: fun() missing 1 required positional argument: 'b'"
     ]
    }
   ],
   "source": [
    "def fun(a,b):\n",
    "    \"\"\"\n",
    "    the parameters and the arguments should always match in the normal function\n",
    "    \"\"\"\n",
    "    return a+b\n",
    "\n",
    "obj = fun(4)\n",
    "#obj = fun(4,3,4)\n",
    "obj = fun(4,2)\n",
    "obj"
   ]
  },
  {
   "cell_type": "code",
   "execution_count": 12,
   "id": "20191934-10ec-49ce-9d0e-620af6149a74",
   "metadata": {},
   "outputs": [
    {
     "data": {
      "text/plain": [
       "(tuple, 4, 2, 5, (2, 3, 4, 5))"
      ]
     },
     "execution_count": 12,
     "metadata": {},
     "output_type": "execute_result"
    }
   ],
   "source": [
    "# Arbitrary Argument functions\n",
    "def fun(*a):\n",
    "    \"\"\"\n",
    "    when we get unknown or n number arguments we can store it\n",
    "    in a single parameter called  arbitrary arguments\n",
    "    it will store the arguments in a tuple\n",
    "    \"\"\"\n",
    "    return type(a), len(a), min(a), max(a), a # we can call another function with in function\n",
    "\n",
    "obj = fun(2,3,4,5)\n",
    "obj\n",
    "    "
   ]
  },
  {
   "cell_type": "code",
   "execution_count": 14,
   "id": "983bccb8-9779-43f1-b5cb-9206ab61bd7c",
   "metadata": {},
   "outputs": [
    {
     "data": {
      "text/plain": [
       "(dict,\n",
       " 5,\n",
       " dict_keys(['a', 'b', 'c', 'd', 'e']),\n",
       " dict_values([2, 3, 4, 5, 6]),\n",
       " {'a': 2, 'b': 3, 'c': 4, 'd': 5, 'e': 6})"
      ]
     },
     "execution_count": 14,
     "metadata": {},
     "output_type": "execute_result"
    }
   ],
   "source": [
    "def fun(**para):  # arbitrary keyword arguments functions\n",
    "    \"\"\"\n",
    "    when we get unknown or n number key-value pair arguments. we can store it\n",
    "    in a single parameter is called  arbitrary keyword arguments function\n",
    "    it will store the arguments into a dictionary\n",
    "    \"\"\"\n",
    "    return type(para), len(para), para.keys(), para.values(), para\n",
    "\n",
    "obj = fun(a=2,b=3,c=4,d=5,e=6)\n",
    "obj\n",
    "    "
   ]
  },
  {
   "cell_type": "code",
   "execution_count": 15,
   "id": "91288b0c-14f4-4cac-8675-4f7b9dda17a4",
   "metadata": {},
   "outputs": [
    {
     "data": {
      "text/plain": [
       "'times up whistle'"
      ]
     },
     "execution_count": 15,
     "metadata": {},
     "output_type": "execute_result"
    }
   ],
   "source": [
    "def dpf(alaram = \"cuckoo\"):\n",
    "    \"\"\"\n",
    "    a function that has its own parameter value if we pass our own value\n",
    "    while calling the function the default parameter value will be replace \n",
    "    by passed value else it will return default value\"\"\"\n",
    "    \n",
    "    return f\"times up {alaram}\"\n",
    "\n",
    "dpf(\"whistle\")"
   ]
  },
  {
   "cell_type": "code",
   "execution_count": 16,
   "id": "13345a1b-7278-4669-a939-9e912dfc2928",
   "metadata": {},
   "outputs": [
    {
     "data": {
      "text/plain": [
       "'times up cuckoo'"
      ]
     },
     "execution_count": 16,
     "metadata": {},
     "output_type": "execute_result"
    }
   ],
   "source": [
    "dpf()"
   ]
  },
  {
   "cell_type": "code",
   "execution_count": 17,
   "id": "b7f811b4-c253-4105-9d62-56ff3e33236b",
   "metadata": {},
   "outputs": [
    {
     "data": {
      "text/plain": [
       "120"
      ]
     },
     "execution_count": 17,
     "metadata": {},
     "output_type": "execute_result"
    }
   ],
   "source": [
    "# a function which calls with in itself is a recursive function\n",
    "# factorial means -- n*n-1 ..... 1\n",
    "\n",
    "def fact(n):\n",
    "    if n == 1:\n",
    "        return 1\n",
    "\n",
    "    else:\n",
    "        return n* fact(n-1)  #5*4*3*2*1\n",
    "\n",
    "fact(5)"
   ]
  },
  {
   "cell_type": "code",
   "execution_count": 40,
   "id": "4a849800-31d6-4cb4-a4e0-1dc9b6662ec2",
   "metadata": {},
   "outputs": [
    {
     "name": "stdout",
     "output_type": "stream",
     "text": [
      "8\n"
     ]
    },
    {
     "ename": "NameError",
     "evalue": "name 'x' is not defined",
     "output_type": "error",
     "traceback": [
      "\u001b[1;31m---------------------------------------------------------------------------\u001b[0m",
      "\u001b[1;31mNameError\u001b[0m                                 Traceback (most recent call last)",
      "Cell \u001b[1;32mIn[40], line 8\u001b[0m\n\u001b[0;32m      3\u001b[0m     \u001b[38;5;28;01mreturn\u001b[39;00m x\n\u001b[0;32m      6\u001b[0m \u001b[38;5;28mprint\u001b[39m(lf())\n\u001b[1;32m----> 8\u001b[0m \u001b[38;5;28mprint\u001b[39m(\u001b[43mx\u001b[49m)\n",
      "\u001b[1;31mNameError\u001b[0m: name 'x' is not defined"
     ]
    }
   ],
   "source": [
    "def lf():\n",
    "    x = 8  # local variable -- only accessible with in that function block(namespace)\n",
    "    return x\n",
    "\n",
    "\n",
    "print(lf())\n",
    "\n",
    "print(x)"
   ]
  },
  {
   "cell_type": "code",
   "execution_count": 45,
   "id": "3edf12be-6255-4af2-a3c7-5945348e3747",
   "metadata": {},
   "outputs": [
    {
     "ename": "NameError",
     "evalue": "name 'apple' is not defined",
     "output_type": "error",
     "traceback": [
      "\u001b[1;31m---------------------------------------------------------------------------\u001b[0m",
      "\u001b[1;31mNameError\u001b[0m                                 Traceback (most recent call last)",
      "Cell \u001b[1;32mIn[45], line 4\u001b[0m\n\u001b[0;32m      1\u001b[0m \u001b[38;5;28;01mdef\u001b[39;00m \u001b[38;5;21mhello\u001b[39m():\n\u001b[0;32m      2\u001b[0m     apple \u001b[38;5;241m=\u001b[39m \u001b[38;5;241m78\u001b[39m\n\u001b[1;32m----> 4\u001b[0m \u001b[38;5;28mprint\u001b[39m(\u001b[43mapple\u001b[49m)\n",
      "\u001b[1;31mNameError\u001b[0m: name 'apple' is not defined"
     ]
    }
   ],
   "source": [
    "def hello():\n",
    "    apple = 78\n",
    "\n",
    "print(apple)"
   ]
  },
  {
   "cell_type": "code",
   "execution_count": 46,
   "id": "f771696a-2044-44a5-99df-708892cac4ac",
   "metadata": {},
   "outputs": [
    {
     "name": "stdout",
     "output_type": "stream",
     "text": [
      "78\n"
     ]
    }
   ],
   "source": [
    "apple = 78\n",
    "def hello():\n",
    "   return None\n",
    "\n",
    "print(apple)"
   ]
  },
  {
   "cell_type": "code",
   "execution_count": 43,
   "id": "9711ba48-ebc0-4d12-a516-253827fbe2c7",
   "metadata": {},
   "outputs": [
    {
     "name": "stdout",
     "output_type": "stream",
     "text": [
      "8\n"
     ]
    },
    {
     "data": {
      "text/plain": [
       "8"
      ]
     },
     "execution_count": 43,
     "metadata": {},
     "output_type": "execute_result"
    }
   ],
   "source": [
    "x = 8  # global variable\n",
    "\n",
    "def gn():\n",
    "    return x\n",
    "\n",
    "print(x)\n",
    "gn()"
   ]
  },
  {
   "cell_type": "code",
   "execution_count": 47,
   "id": "ce8d25f1-36b8-468a-bcd6-83952073c130",
   "metadata": {},
   "outputs": [
    {
     "name": "stdout",
     "output_type": "stream",
     "text": [
      "90\n"
     ]
    },
    {
     "data": {
      "text/plain": [
       "45"
      ]
     },
     "execution_count": 47,
     "metadata": {},
     "output_type": "execute_result"
    }
   ],
   "source": [
    "# namespaces will allow the assign diff values to the same var name in different namespaces\n",
    "\n",
    "x = 90\n",
    "\n",
    "def lnf():\n",
    "    x = 45\n",
    "    return x\n",
    "\n",
    "print(x)\n",
    "lnf()\n"
   ]
  },
  {
   "cell_type": "code",
   "execution_count": 19,
   "id": "9d2caad5-aa5a-409f-b72f-d384027c9e61",
   "metadata": {},
   "outputs": [
    {
     "name": "stdout",
     "output_type": "stream",
     "text": [
      "global\n"
     ]
    },
    {
     "data": {
      "text/plain": [
       "'local'"
      ]
     },
     "execution_count": 19,
     "metadata": {},
     "output_type": "execute_result"
    }
   ],
   "source": [
    "x = \"global\"\n",
    "\n",
    "def lnf():\n",
    "    x = \"local\"\n",
    "    return x\n",
    "\n",
    "print(x)\n",
    "lnf()"
   ]
  },
  {
   "cell_type": "code",
   "execution_count": 48,
   "id": "197527f9-6a7a-43d6-a2be-24873fb75e0a",
   "metadata": {},
   "outputs": [
    {
     "name": "stdout",
     "output_type": "stream",
     "text": [
      "55\n",
      "55\n"
     ]
    }
   ],
   "source": [
    "# global -- key to convert a local variable into a global variable\n",
    "\n",
    "def lnf():\n",
    "    global x\n",
    "    x = 55\n",
    "    return x\n",
    "print(lnf())\n",
    "print(x)"
   ]
  },
  {
   "cell_type": "code",
   "execution_count": 21,
   "id": "9679a6f9-a4ea-4d50-9b5a-103e447aae28",
   "metadata": {},
   "outputs": [
    {
     "name": "stdout",
     "output_type": "stream",
     "text": [
      "\n",
      "    a function that has its own parameter value if we pass our own value\n",
      "    while calling the function the default parameter value will be replace \n",
      "    by passed value else it will return default value\n"
     ]
    }
   ],
   "source": [
    "def dpf(alaram = \"cuckoo\"):\n",
    "    \"\"\"\n",
    "    a function that has its own parameter value if we pass our own value\n",
    "    while calling the function the default parameter value will be replace \n",
    "    by passed value else it will return default value\"\"\"\n",
    "    # single line comment\n",
    "    \n",
    "    return f\"times up {alaram}\"\n",
    "\n",
    "print(dpf.__doc__)"
   ]
  },
  {
   "cell_type": "code",
   "execution_count": 49,
   "id": "f429f4ee-ed7b-416e-8dce-8f03c17afabd",
   "metadata": {},
   "outputs": [
    {
     "name": "stdout",
     "output_type": "stream",
     "text": [
      "Help on function dpf in module __main__:\n",
      "\n",
      "dpf(alaram='cuckoo')\n",
      "    a function that has its own parameter value if we pass our own value\n",
      "    while calling the function the default parameter value will be replace \n",
      "    by passed value else it will return default value\n",
      "\n"
     ]
    }
   ],
   "source": [
    "help(dpf)"
   ]
  },
  {
   "cell_type": "code",
   "execution_count": 50,
   "id": "06885d3d-4968-4020-b2d4-fad1207f0d14",
   "metadata": {},
   "outputs": [],
   "source": [
    "def outer():\n",
    "\n",
    "    \"\"\"\n",
    "    when the inner function returned into the namespace of outer function\n",
    "    the outer function object literally become inner function itself\n",
    "    then we can easily call it\n",
    "    \"\"\"\n",
    "    \n",
    "    def inner():\n",
    "        return \"this message is coming from the inner function\"\n",
    "    \n",
    "    \n",
    "    \n",
    "    return inner\n",
    "\n",
    "obj = outer()"
   ]
  },
  {
   "cell_type": "code",
   "execution_count": 51,
   "id": "9dbf3f9c-953c-4943-9251-6a8404343068",
   "metadata": {},
   "outputs": [
    {
     "data": {
      "text/plain": [
       "'this message is coming from the inner function'"
      ]
     },
     "execution_count": 51,
     "metadata": {},
     "output_type": "execute_result"
    }
   ],
   "source": [
    "obj()"
   ]
  },
  {
   "cell_type": "code",
   "execution_count": 53,
   "id": "b5a13949-4894-4c35-bd9c-1eef294339b4",
   "metadata": {},
   "outputs": [
    {
     "data": {
      "text/plain": [
       "10"
      ]
     },
     "execution_count": 53,
     "metadata": {},
     "output_type": "execute_result"
    }
   ],
   "source": [
    "def outer(m):\n",
    "    def inner(n):\n",
    "        return m*n\n",
    "    \n",
    "    \n",
    "    return inner\n",
    "\n",
    "obj = outer(5)\n",
    "obj(2)"
   ]
  },
  {
   "cell_type": "markdown",
   "id": "520913b9-d634-4d9b-aea0-ff16456d4625",
   "metadata": {},
   "source": [
    "### Decorator\n",
    "    a normal python function which takes another python function as a argument by doing that we can change, extend, modify the behaviour of that function eventually we can write some code around it and return it as a new function"
   ]
  },
  {
   "cell_type": "code",
   "execution_count": 55,
   "id": "45ecb708-6c4b-4c78-b5ad-6ae10b4b3855",
   "metadata": {},
   "outputs": [
    {
     "name": "stdout",
     "output_type": "stream",
     "text": [
      "welcome to python $$$$$$$$$$$$$\n",
      "hello there!!\n",
      "********* GOOD BYE *************\n"
     ]
    }
   ],
   "source": [
    "\n",
    "def extra_decorations(fun):\n",
    "    def wrapper():\n",
    "        print(\"welcome to python $$$$$$$$$$$$$\")\n",
    "        print(fun())\n",
    "        print(\"********* GOOD BYE *************\")\n",
    "        \n",
    "    return wrapper\n",
    "\n",
    "\n",
    "@extra_decorations\n",
    "def fun():\n",
    "    return \"hello there!!\"\n",
    "\n",
    "fun()"
   ]
  },
  {
   "cell_type": "code",
   "execution_count": 56,
   "id": "d1c48887-5dd5-46ac-a5fa-86ba8a13874b",
   "metadata": {},
   "outputs": [
    {
     "ename": "ZeroDivisionError",
     "evalue": "division by zero",
     "output_type": "error",
     "traceback": [
      "\u001b[1;31m---------------------------------------------------------------------------\u001b[0m",
      "\u001b[1;31mZeroDivisionError\u001b[0m                         Traceback (most recent call last)",
      "Cell \u001b[1;32mIn[56], line 1\u001b[0m\n\u001b[1;32m----> 1\u001b[0m \u001b[38;5;28mprint\u001b[39m(\u001b[38;5;241;43m4\u001b[39;49m\u001b[38;5;241;43m/\u001b[39;49m\u001b[38;5;241;43m0\u001b[39;49m)\n",
      "\u001b[1;31mZeroDivisionError\u001b[0m: division by zero"
     ]
    }
   ],
   "source": [
    "print(4/0)"
   ]
  },
  {
   "cell_type": "code",
   "execution_count": 59,
   "id": "6449db2d-01b7-4f4b-9644-f2ef29bb7f26",
   "metadata": {},
   "outputs": [
    {
     "name": "stdout",
     "output_type": "stream",
     "text": [
      "since you have passed denominator as 0 we consider that as 1\n",
      "6.0\n",
      "calculation finished\n"
     ]
    }
   ],
   "source": [
    "def zero_handler(n):\n",
    "    def wrapper(a,b):\n",
    "        if b == 0:\n",
    "            print(\"since you have passed denominator as 0 we consider that as 1\")\n",
    "            b = 1\n",
    "            print(n(a,b))\n",
    "            print(\"calculation finished\")\n",
    "        else:\n",
    "            print(\"calculation in progress\")\n",
    "            print(n(a,b))\n",
    "            print(\"calculation finished\")\n",
    "    return wrapper\n",
    "\n",
    "\n",
    "\n",
    "@zero_handler\n",
    "def divide(a,b):\n",
    "    return a/b\n",
    "\n",
    "divide(6,0)"
   ]
  },
  {
   "cell_type": "markdown",
   "id": "36b526be-5ce0-4c69-80d8-0c98411c3eaf",
   "metadata": {},
   "source": [
    "# lambda - anonyomous, will take n number args but it will return only one expression\n",
    "    obj = lambda para: expression\n",
    "\n",
    "    when we simply want to apply some formula(conditions or logics) in a single line temproarily"
   ]
  },
  {
   "cell_type": "code",
   "execution_count": 60,
   "id": "ec60dd3e-1ea2-4194-b17a-de1745a7acc7",
   "metadata": {},
   "outputs": [
    {
     "name": "stdout",
     "output_type": "stream",
     "text": [
      "6 2\n"
     ]
    }
   ],
   "source": [
    "math = lambda x,y: print(x+y, x-y)\n",
    "math(4,2)"
   ]
  },
  {
   "cell_type": "code",
   "execution_count": 61,
   "id": "df94a363-e5ea-4fc1-81af-fb79821e1969",
   "metadata": {},
   "outputs": [
    {
     "ename": "SyntaxError",
     "evalue": "invalid syntax (3737829548.py, line 1)",
     "output_type": "error",
     "traceback": [
      "\u001b[1;36m  Cell \u001b[1;32mIn[61], line 1\u001b[1;36m\u001b[0m\n\u001b[1;33m    a = lambda : return 45\u001b[0m\n\u001b[1;37m                 ^\u001b[0m\n\u001b[1;31mSyntaxError\u001b[0m\u001b[1;31m:\u001b[0m invalid syntax\n"
     ]
    }
   ],
   "source": [
    "a = lambda : return 45\n",
    "a"
   ]
  },
  {
   "cell_type": "code",
   "execution_count": 65,
   "id": "3b677532-37a0-413f-bf4b-ccf11b6cb99b",
   "metadata": {},
   "outputs": [
    {
     "data": {
      "text/plain": [
       "45"
      ]
     },
     "execution_count": 65,
     "metadata": {},
     "output_type": "execute_result"
    }
   ],
   "source": [
    "#a = lambda :  45,23\n",
    "a = lambda :  45\n",
    "a()"
   ]
  },
  {
   "cell_type": "code",
   "execution_count": 66,
   "id": "e58bbbbc-a618-4bea-a33f-a8d72b5237a6",
   "metadata": {},
   "outputs": [
    {
     "data": {
      "text/plain": [
       "['apple', 'bananas', 'kiwi', 'orange']"
      ]
     },
     "execution_count": 66,
     "metadata": {},
     "output_type": "execute_result"
    }
   ],
   "source": [
    "l1 = [\"kiwi\", \"apple\", \"orange\", \"bananas\"]\n",
    "l1.sort()\n",
    "l1"
   ]
  },
  {
   "cell_type": "code",
   "execution_count": 16,
   "id": "e553709b-3e1e-4949-a71e-854e2967bbc3",
   "metadata": {},
   "outputs": [
    {
     "data": {
      "text/plain": [
       "['orange', 'bananas', 'red apple', 'kiwi fruit']"
      ]
     },
     "execution_count": 16,
     "metadata": {},
     "output_type": "execute_result"
    }
   ],
   "source": [
    "l1 = [\"kiwi fruit\", \"red apple\", \"orange\", \"bananas\"]\n",
    "l1.sort(key = lambda x: len(x))  #length based ascending order\n",
    "l1"
   ]
  },
  {
   "cell_type": "code",
   "execution_count": 67,
   "id": "5c90ae00-d096-4265-93ef-bcb4f4b68759",
   "metadata": {},
   "outputs": [
    {
     "data": {
      "text/plain": [
       "['apple', 'orange', 'bananas']"
      ]
     },
     "execution_count": 67,
     "metadata": {},
     "output_type": "execute_result"
    }
   ],
   "source": [
    "l1 = [\"kiwi\", \"apple\", \"orange\", \"bananas\", \"cherry\"]\n",
    "# filter is a inbuild key that takes formula and seq it will apply the formula on the every element of the seq\n",
    "re = list(filter(lambda x: \"a\" in x, l1))\n",
    "re"
   ]
  },
  {
   "cell_type": "code",
   "execution_count": 68,
   "id": "5e1be4d2-af72-4368-98f0-bfd0fc1c6495",
   "metadata": {},
   "outputs": [
    {
     "data": {
      "text/plain": [
       "[3, 6, 12, 15]"
      ]
     },
     "execution_count": 68,
     "metadata": {},
     "output_type": "execute_result"
    }
   ],
   "source": [
    "l2 = [2,3,4,5,6,7,12,13,14,15,16]\n",
    "\n",
    "re = list(filter(lambda x: x%3 ==0,l2))\n",
    "re"
   ]
  },
  {
   "cell_type": "code",
   "execution_count": 69,
   "id": "24267cb0-3963-4190-a345-5554ab7e642d",
   "metadata": {},
   "outputs": [
    {
     "data": {
      "text/plain": [
       "['kiwi juices',\n",
       " 'apple juices',\n",
       " 'orange juices',\n",
       " 'bananas juices',\n",
       " 'cherry juices']"
      ]
     },
     "execution_count": 69,
     "metadata": {},
     "output_type": "execute_result"
    }
   ],
   "source": [
    "l1 = [\"kiwi\", \"apple\", \"orange\", \"bananas\", \"cherry\"]\n",
    "# map -- take the formula and apply the each element on the seq\n",
    "re = list(map(lambda x: x+\" juices\", l1))\n",
    "re"
   ]
  },
  {
   "cell_type": "code",
   "execution_count": 70,
   "id": "023d0cf8-5198-40f2-a941-ea14a1afcfa8",
   "metadata": {},
   "outputs": [
    {
     "data": {
      "text/plain": [
       "[4, 6, 8, 10, 12, 14, 24, 26, 28, 30, 32]"
      ]
     },
     "execution_count": 70,
     "metadata": {},
     "output_type": "execute_result"
    }
   ],
   "source": [
    "l2 = [2,3,4,5,6,7,12,13,14,15,16]\n",
    "\n",
    "re = list(map(lambda x: x*2,l2))\n",
    "re"
   ]
  },
  {
   "cell_type": "code",
   "execution_count": null,
   "id": "9653d7a7-dc28-48d9-aed2-265a72240156",
   "metadata": {},
   "outputs": [],
   "source": []
  },
  {
   "cell_type": "code",
   "execution_count": 13,
   "id": "811e1784-e9e9-41e2-85d9-d2d3f7c31a7c",
   "metadata": {},
   "outputs": [
    {
     "data": {
      "text/plain": [
       "14"
      ]
     },
     "execution_count": 13,
     "metadata": {},
     "output_type": "execute_result"
    }
   ],
   "source": [
    "from functools import reduce\n",
    "\n",
    "l1 = [34,2,5,4,9]\n",
    "# we can use reduce to convert a sequence into an single element based on some formula\n",
    "re = reduce(lambda x,y:x-y, l1)\n",
    "re"
   ]
  },
  {
   "cell_type": "code",
   "execution_count": 46,
   "id": "dcde14f5-739c-4468-9568-3ea971be0c6f",
   "metadata": {},
   "outputs": [
    {
     "name": "stdout",
     "output_type": "stream",
     "text": [
      "C:\\User_Desk\\Teaching_contents\\batch_notes\\dummy\n"
     ]
    }
   ],
   "source": [
    "%cd dummy"
   ]
  },
  {
   "cell_type": "code",
   "execution_count": 47,
   "id": "411bd878-0401-4e64-81d0-c1bf75fcf3e0",
   "metadata": {},
   "outputs": [
    {
     "data": {
      "text/plain": [
       "'C:\\\\User_Desk\\\\Teaching_contents\\\\batch_notes\\\\dummy'"
      ]
     },
     "execution_count": 47,
     "metadata": {},
     "output_type": "execute_result"
    }
   ],
   "source": [
    "import os\n",
    "os.getcwd()"
   ]
  },
  {
   "cell_type": "code",
   "execution_count": 48,
   "id": "7e3af9a2-a37a-47c0-8e82-3faa174f226d",
   "metadata": {},
   "outputs": [
    {
     "name": "stdout",
     "output_type": "stream",
     "text": [
      "C:\\User_Desk\\Teaching_contents\\batch_notes\n"
     ]
    }
   ],
   "source": [
    "%cd .."
   ]
  },
  {
   "cell_type": "code",
   "execution_count": 1,
   "id": "d1604f73-9008-40d8-a1da-2d9352329cd8",
   "metadata": {},
   "outputs": [
    {
     "name": "stdout",
     "output_type": "stream",
     "text": [
      "True\n"
     ]
    }
   ],
   "source": [
    "import os\n",
    "\n",
    "print(os.path.exists(\"file_1.txt\")) # check the file existence"
   ]
  },
  {
   "cell_type": "code",
   "execution_count": 2,
   "id": "f8e8719e-0bed-4147-ab85-b1d85f487b13",
   "metadata": {},
   "outputs": [],
   "source": [
    "os.remove(\"file.txt\")  # remove the file from the directory"
   ]
  },
  {
   "cell_type": "code",
   "execution_count": 3,
   "id": "326dabad-bb7c-461e-ad2f-44fecbe34346",
   "metadata": {},
   "outputs": [],
   "source": [
    "os.rename(\"file_2.txt\", \"renamed.txt\") # will rename file\n"
   ]
  },
  {
   "cell_type": "code",
   "execution_count": 4,
   "id": "f974ef1e-2994-4fb0-b553-b9f3c3622da3",
   "metadata": {},
   "outputs": [],
   "source": [
    "os.mkdir(\"sample\")  # creating the directory"
   ]
  },
  {
   "cell_type": "code",
   "execution_count": 5,
   "id": "0ae6780c-1b87-42de-b430-2e6acb18c13f",
   "metadata": {},
   "outputs": [],
   "source": [
    "os.rmdir(\"sample\")  # remove the directory if the directory empty"
   ]
  },
  {
   "cell_type": "code",
   "execution_count": 6,
   "id": "cdcdce84-5a85-4c44-a249-6e0c68fc43e2",
   "metadata": {},
   "outputs": [],
   "source": [
    "os.makedirs(\"sample/images\")  # directory within directory"
   ]
  },
  {
   "cell_type": "code",
   "execution_count": 7,
   "id": "7f0d53b0-0c36-44b9-b9ab-f2ba99b5b67f",
   "metadata": {},
   "outputs": [],
   "source": [
    "os.removedirs(\"sample/images\") # removing the directories with directory"
   ]
  },
  {
   "cell_type": "code",
   "execution_count": 8,
   "id": "44c0445d-4c8b-4dd2-a5a3-0f47904a21a3",
   "metadata": {},
   "outputs": [
    {
     "data": {
      "text/plain": [
       "['.ipynb_checkpoints',\n",
       " '2.0.1',\n",
       " '3matplotlib.ipynb',\n",
       " 'array.npy',\n",
       " 'array.txt',\n",
       " 'basic of numpy.ipynb',\n",
       " 'category.csv',\n",
       " 'copy_kailash.png',\n",
       " 'csvjson.json',\n",
       " 'data_1.txt',\n",
       " 'dummy',\n",
       " 'emp.csv',\n",
       " 'employee.csv',\n",
       " 'employee.json',\n",
       " 'file_1.json',\n",
       " 'file_1.txt',\n",
       " 'file_example_XLS_50.xlsx',\n",
       " 'kailash.jpg',\n",
       " 'maskcity.csv',\n",
       " 'Master_notes.ipynb',\n",
       " 'myenv',\n",
       " 'numpy (1).ipynb',\n",
       " 'output.csv',\n",
       " 'output_1.csv',\n",
       " 'pandas (1).ipynb',\n",
       " 'python syllabus.pdf',\n",
       " 'renamed.txt',\n",
       " 'sample.csv',\n",
       " 'sample.json',\n",
       " 'sample.py',\n",
       " 'stores.csv',\n",
       " 'stores.xlsx',\n",
       " 'Untitled.ipynb',\n",
       " 'Untitled1.ipynb',\n",
       " 'usage_of_python.jpeg',\n",
       " 'Weekend_07_Dec.ipynb',\n",
       " 'what python can do.jpeg',\n",
       " '__pycache__']"
      ]
     },
     "execution_count": 8,
     "metadata": {},
     "output_type": "execute_result"
    }
   ],
   "source": [
    "os.listdir(\".\")  # returing current directory file list"
   ]
  },
  {
   "cell_type": "markdown",
   "id": "a04ff783-91cd-42e8-9b43-ca23598c34a1",
   "metadata": {},
   "source": [
    "# file handling --\"open\" used to open a file in specific mode\n",
    "    obj = open(\"file.ext\", \"r\")"
   ]
  },
  {
   "cell_type": "code",
   "execution_count": 9,
   "id": "9b825b81-9782-4db5-9fe7-c0c7ec28de17",
   "metadata": {},
   "outputs": [
    {
     "name": "stdout",
     "output_type": "stream",
     "text": [
      "this is a new file with write mode contentthis data inserted by append mode\n",
      "a new line again inserted\n",
      "python programming language\n",
      "Artificial Intelligence\n",
      "Neural Networks, CNN, RNN\n"
     ]
    }
   ],
   "source": [
    "fileobj = open(\"file_1.txt\", \"r\")  # 'r' -- immutable mode we can extract the content from the file but cannot\n",
    "# delete or insert new data to the file\n",
    "print(fileobj.read())\n",
    "fileobj.close()"
   ]
  },
  {
   "cell_type": "code",
   "execution_count": 10,
   "id": "4b980655-0708-402a-9282-15ecdeac1b78",
   "metadata": {},
   "outputs": [
    {
     "data": {
      "text/plain": [
       "'this is a new file with write mode contentthis data inserted by append mode\\n'"
      ]
     },
     "execution_count": 10,
     "metadata": {},
     "output_type": "execute_result"
    }
   ],
   "source": [
    "obj = open(\"file_1.txt\", \"r\")\n",
    "obj.readline()"
   ]
  },
  {
   "cell_type": "code",
   "execution_count": 11,
   "id": "1c97a94e-e4cf-4d2a-892e-34c9af28dd4e",
   "metadata": {},
   "outputs": [
    {
     "data": {
      "text/plain": [
       "'a new line again inserted\\n'"
      ]
     },
     "execution_count": 11,
     "metadata": {},
     "output_type": "execute_result"
    }
   ],
   "source": [
    "obj.readline()"
   ]
  },
  {
   "cell_type": "code",
   "execution_count": 12,
   "id": "e424bfa2-1f29-40c0-8eb0-bc840ae73b8d",
   "metadata": {},
   "outputs": [
    {
     "data": {
      "text/plain": [
       "'python programming language\\n'"
      ]
     },
     "execution_count": 12,
     "metadata": {},
     "output_type": "execute_result"
    }
   ],
   "source": [
    "obj.readline()"
   ]
  },
  {
   "cell_type": "code",
   "execution_count": 61,
   "id": "41b7653c-3c94-4286-aa3b-9249317a8fdf",
   "metadata": {},
   "outputs": [
    {
     "data": {
      "text/plain": [
       "'Artificial Intelligence\\n'"
      ]
     },
     "execution_count": 61,
     "metadata": {},
     "output_type": "execute_result"
    }
   ],
   "source": [
    "obj.readline()"
   ]
  },
  {
   "cell_type": "code",
   "execution_count": 62,
   "id": "c4d43c7b-cc4d-4b2a-933a-344c029a59ea",
   "metadata": {},
   "outputs": [
    {
     "data": {
      "text/plain": [
       "'Neural Networks, CNN, RNN'"
      ]
     },
     "execution_count": 62,
     "metadata": {},
     "output_type": "execute_result"
    }
   ],
   "source": [
    "obj.readline()"
   ]
  },
  {
   "cell_type": "code",
   "execution_count": 13,
   "id": "b29db551-320c-4857-b7e8-2fe496bb4b04",
   "metadata": {},
   "outputs": [
    {
     "name": "stdout",
     "output_type": "stream",
     "text": [
      "this is a new file with write mode contentthis data inserted by append mode\n",
      "a new line again inserted\n",
      "python programming language\n",
      "Artificial Intelligence\n",
      "Neural Networks, CNN, RNN\n"
     ]
    },
    {
     "ename": "ValueError",
     "evalue": "I/O operation on closed file.",
     "output_type": "error",
     "traceback": [
      "\u001b[1;31m---------------------------------------------------------------------------\u001b[0m",
      "\u001b[1;31mValueError\u001b[0m                                Traceback (most recent call last)",
      "Cell \u001b[1;32mIn[13], line 8\u001b[0m\n\u001b[0;32m      3\u001b[0m \u001b[38;5;28;01mwith\u001b[39;00m \u001b[38;5;28mopen\u001b[39m(\u001b[38;5;124m\"\u001b[39m\u001b[38;5;124mfile_1.txt\u001b[39m\u001b[38;5;124m\"\u001b[39m, \u001b[38;5;124m\"\u001b[39m\u001b[38;5;124mr\u001b[39m\u001b[38;5;124m\"\u001b[39m) \u001b[38;5;28;01mas\u001b[39;00m f:\n\u001b[0;32m      4\u001b[0m \n\u001b[0;32m      5\u001b[0m     \u001b[38;5;66;03m# opening the with in the specific namespace\u001b[39;00m\n\u001b[0;32m      6\u001b[0m     \u001b[38;5;28mprint\u001b[39m(f\u001b[38;5;241m.\u001b[39mread())\n\u001b[1;32m----> 8\u001b[0m \u001b[43mf\u001b[49m\u001b[38;5;241;43m.\u001b[39;49m\u001b[43mread\u001b[49m\u001b[43m(\u001b[49m\u001b[43m)\u001b[49m\n",
      "\u001b[1;31mValueError\u001b[0m: I/O operation on closed file."
     ]
    }
   ],
   "source": [
    "# if we want to open a file in a specific namespace\n",
    "\n",
    "with open(\"file_1.txt\", \"r\") as f:\n",
    "\n",
    "    # opening the with in the specific namespace\n",
    "    print(f.read())\n",
    "\n",
    "f.read()"
   ]
  },
  {
   "cell_type": "code",
   "execution_count": 2,
   "id": "3878b097-16fa-48bd-8cc6-8856706afce7",
   "metadata": {},
   "outputs": [
    {
     "name": "stdout",
     "output_type": "stream",
     "text": [
      "['this is a new file with write mode contentthis data inserted by append mode\\n', 'a new line again inserted\\n', 'python programming language\\n', 'Artificial Intelligence\\n', 'Neural Networks, CNN, RNN']\n"
     ]
    }
   ],
   "source": [
    "with open(\"file_1.txt\", \"r\") as f:\n",
    "    data = list(f.readlines())  # it will return each line as seperate string\n",
    "    print(data)\n",
    "\n"
   ]
  },
  {
   "cell_type": "code",
   "execution_count": 15,
   "id": "633d48c7-7085-4fa6-957c-5e3967559e8e",
   "metadata": {},
   "outputs": [],
   "source": [
    "# w -- if a file already exists. remove existing content from the file and enter the new data\n",
    "# if the doesn't exist it will create a new file and add the datas\n",
    "with open(\"file.txt\", \"w\") as f:\n",
    "    f.write(\"this is the new content created with open mode \\n\")\n",
    "    f.write(\"second line with python \\n\")\n",
    "    f.write(\"Third line of data \\n\")"
   ]
  },
  {
   "cell_type": "code",
   "execution_count": 3,
   "id": "8cc9c18e-02f6-40fa-922d-45d44ec095a7",
   "metadata": {},
   "outputs": [],
   "source": [
    "with open(\"file.txt\", \"w\") as f:\n",
    "    f.writelines([\"python programming\\n\", \"file handling with writemode\\n\", \"testing the writelines\\n\"])"
   ]
  },
  {
   "cell_type": "code",
   "execution_count": 4,
   "id": "44e976fd-b0cb-4484-a213-fcaf9534bab5",
   "metadata": {},
   "outputs": [
    {
     "name": "stdout",
     "output_type": "stream",
     "text": [
      "python programming\n",
      "\n",
      "file handling with writemode\n",
      "\n",
      "testing the writelines\n",
      "\n",
      "count of the lines 3\n"
     ]
    }
   ],
   "source": [
    "\n",
    "count = 0\n",
    "for line in open(\"file.txt\", \"r\"):\n",
    "    print(line)\n",
    "    count +=1\n",
    "\n",
    "print(\"count of the lines\", count)"
   ]
  },
  {
   "cell_type": "code",
   "execution_count": 6,
   "id": "728e2f3f-d8b0-4498-9557-77e1073257df",
   "metadata": {},
   "outputs": [],
   "source": [
    "# append will add the data in the existing file without removing existing content.\n",
    "with open(\"file.txt\", \"a\") as f:\n",
    "    f.write(\"\\n this is the fourth line\")"
   ]
  },
  {
   "cell_type": "code",
   "execution_count": 8,
   "id": "f1978d08-cb3d-4805-bb17-f22f543785a7",
   "metadata": {},
   "outputs": [
    {
     "name": "stdout",
     "output_type": "stream",
     "text": [
      "          python programming\n",
      "\n",
      "      file handling with writemode\n",
      "\n",
      "testing the writelines\n",
      "\n",
      "\n",
      "\n",
      "      this is the fourth line\n",
      "\n",
      " this is the fourth line\n"
     ]
    }
   ],
   "source": [
    "# striping the file spaces \n",
    "for line in open(\"file.txt\"):\n",
    "    print(line)"
   ]
  },
  {
   "cell_type": "code",
   "execution_count": 9,
   "id": "6ef7f121-c774-4ace-84dc-43d41c86be8a",
   "metadata": {},
   "outputs": [
    {
     "name": "stdout",
     "output_type": "stream",
     "text": [
      "python programming\n",
      "file handling with writemode\n",
      "testing the writelines\n",
      "\n",
      "this is the fourth line\n",
      "this is the fourth line\n"
     ]
    }
   ],
   "source": [
    "# striping the file spaces \n",
    "for line in open(\"file.txt\"):\n",
    "    print(line.strip())"
   ]
  },
  {
   "cell_type": "code",
   "execution_count": 37,
   "id": "25a40c87-b5ad-49f3-b91f-ff52a774bece",
   "metadata": {},
   "outputs": [
    {
     "ename": "FileExistsError",
     "evalue": "[Errno 17] File exists: 'file_1.txt'",
     "output_type": "error",
     "traceback": [
      "\u001b[1;31m---------------------------------------------------------------------------\u001b[0m",
      "\u001b[1;31mFileExistsError\u001b[0m                           Traceback (most recent call last)",
      "Cell \u001b[1;32mIn[37], line 3\u001b[0m\n\u001b[0;32m      1\u001b[0m \u001b[38;5;66;03m# when we open a file with x mode if the file already existe it will raise error else it will create empty file\u001b[39;00m\n\u001b[1;32m----> 3\u001b[0m obj \u001b[38;5;241m=\u001b[39m \u001b[38;5;28;43mopen\u001b[39;49m\u001b[43m(\u001b[49m\u001b[38;5;124;43m\"\u001b[39;49m\u001b[38;5;124;43mfile_1.txt\u001b[39;49m\u001b[38;5;124;43m\"\u001b[39;49m\u001b[43m,\u001b[49m\u001b[43m \u001b[49m\u001b[38;5;124;43m\"\u001b[39;49m\u001b[38;5;124;43mx\u001b[39;49m\u001b[38;5;124;43m\"\u001b[39;49m\u001b[43m)\u001b[49m\n",
      "File \u001b[1;32m~\\AppData\\Local\\Programs\\Python\\Python311\\Lib\\site-packages\\IPython\\core\\interactiveshell.py:284\u001b[0m, in \u001b[0;36m_modified_open\u001b[1;34m(file, *args, **kwargs)\u001b[0m\n\u001b[0;32m    277\u001b[0m \u001b[38;5;28;01mif\u001b[39;00m file \u001b[38;5;129;01min\u001b[39;00m {\u001b[38;5;241m0\u001b[39m, \u001b[38;5;241m1\u001b[39m, \u001b[38;5;241m2\u001b[39m}:\n\u001b[0;32m    278\u001b[0m     \u001b[38;5;28;01mraise\u001b[39;00m \u001b[38;5;167;01mValueError\u001b[39;00m(\n\u001b[0;32m    279\u001b[0m         \u001b[38;5;124mf\u001b[39m\u001b[38;5;124m\"\u001b[39m\u001b[38;5;124mIPython won\u001b[39m\u001b[38;5;124m'\u001b[39m\u001b[38;5;124mt let you open fd=\u001b[39m\u001b[38;5;132;01m{\u001b[39;00mfile\u001b[38;5;132;01m}\u001b[39;00m\u001b[38;5;124m by default \u001b[39m\u001b[38;5;124m\"\u001b[39m\n\u001b[0;32m    280\u001b[0m         \u001b[38;5;124m\"\u001b[39m\u001b[38;5;124mas it is likely to crash IPython. If you know what you are doing, \u001b[39m\u001b[38;5;124m\"\u001b[39m\n\u001b[0;32m    281\u001b[0m         \u001b[38;5;124m\"\u001b[39m\u001b[38;5;124myou can use builtins\u001b[39m\u001b[38;5;124m'\u001b[39m\u001b[38;5;124m open.\u001b[39m\u001b[38;5;124m\"\u001b[39m\n\u001b[0;32m    282\u001b[0m     )\n\u001b[1;32m--> 284\u001b[0m \u001b[38;5;28;01mreturn\u001b[39;00m \u001b[43mio_open\u001b[49m\u001b[43m(\u001b[49m\u001b[43mfile\u001b[49m\u001b[43m,\u001b[49m\u001b[43m \u001b[49m\u001b[38;5;241;43m*\u001b[39;49m\u001b[43margs\u001b[49m\u001b[43m,\u001b[49m\u001b[43m \u001b[49m\u001b[38;5;241;43m*\u001b[39;49m\u001b[38;5;241;43m*\u001b[39;49m\u001b[43mkwargs\u001b[49m\u001b[43m)\u001b[49m\n",
      "\u001b[1;31mFileExistsError\u001b[0m: [Errno 17] File exists: 'file_1.txt'"
     ]
    }
   ],
   "source": [
    "# when we open a file with x mode if the file already existe it will raise error else it will create empty file\n",
    "\n",
    "obj = open(\"file_1.txt\", \"x\")"
   ]
  },
  {
   "cell_type": "code",
   "execution_count": 10,
   "id": "73072276-9b7c-4026-970f-44f3cbb1dea8",
   "metadata": {},
   "outputs": [
    {
     "name": "stdout",
     "output_type": "stream",
     "text": [
      "b'\\xff\\xd8\\xff\\xe0\\x00\\x10JFIF\\x00\\x01\\x01\\x00\\x00\\x01\\x00\\x01\\x00\\x00\\xff\\xdb\\x00\\x84\\x00\\x08\\x06\\x06\\x07\\x06\\x05\\x08\\x07\\x07\\x07\\t\\t\\x08\\n\\x0c\\x14\\r\\x0c\\x0b\\x0b\\x0c\\x19\\x12\\x13\\x0f\\x14\\x1d\\x1a\\x1f\\x1e\\x1d\\x1a\\x1c\\x1c $.\\' \",#\\x1c\\x1c(7),01444\\x1f\\'9=82<.342\\x01\\t\\t\\t\\x0c\\x0b\\x0c\\x18\\r\\r\\x18'\n"
     ]
    }
   ],
   "source": [
    "# binary files -.jpeg,.png, .mp4,.mp3\n",
    "\n",
    "with open(\"kailash.jpg\", \"rb\") as f:\n",
    "    #data = f.read(400) # specifying the count of binary data here\n",
    "    #print(data[:200])  # specifyin the count on binary data which we want to see\n",
    "    data = f.read()\n",
    "    print(data[:100])"
   ]
  },
  {
   "cell_type": "code",
   "execution_count": 11,
   "id": "8049ba20-eb27-4413-aba6-20f8c84054e7",
   "metadata": {},
   "outputs": [],
   "source": [
    "with open(\"kailash.jpg\", \"rb\") as f:\n",
    "    data = f.read()\n",
    "    with open(\"copy_kailash.png\", \"wb\") as d:\n",
    "        d.write(data)"
   ]
  },
  {
   "cell_type": "code",
   "execution_count": 23,
   "id": "b7cded1e-07fb-4619-9a2a-6580db76e25a",
   "metadata": {},
   "outputs": [],
   "source": [
    "with open(\"copy_kailash.png\", \"ab\") as file1:\n",
    "    file1.write(b'\\xff\\xd8\\xff\\xe0\\x00\\x10JFIF\\x00\\x01\\x01\\x00\\x00\\x01\\x00\\x01\\x00\\x00\\xff\\xdb\\x00\\x84\\x00\\x08\\x06\\x06\\x07\\x06\\x05\\x08\\x07\\x07\\x07\\t\\t\\x08\\n\\x0c\\x14\\r\\x0c\\x0b\\x0b\\x0c\\x19\\x12\\x13\\x0f\\x14\\x1d\\x1a\\x1f\\x1e\\x1d\\x1a\\x1c\\x1c $.\\' \",#\\x1c\\x1c(7),01444\\x1f\\'9=82<.342\\x01\\t\\t\\t\\x0c\\x0b\\x0c\\x18\\r\\r\\x18')"
   ]
  },
  {
   "cell_type": "code",
   "execution_count": 12,
   "id": "c7c15a73-7ae7-47b8-8fb6-e62ac601c854",
   "metadata": {},
   "outputs": [
    {
     "name": "stdout",
     "output_type": "stream",
     "text": [
      "name,salary,exp,city,age,Gender\n",
      "john,3000,4,losvegas,30,Male\n",
      "doe,4000,5, dc,25,Female\n",
      "robert,8000,6, paris,27,Male\n",
      "chris,9000,7,newyork,24,Female\n",
      ",3000,,losvegas,35,Male\n",
      "john,3000,4,losvegas,33,Female\n",
      "evans,,4,losvegas,31,Male\n",
      "tom,3000,4,,37,Female\n",
      "\n"
     ]
    }
   ],
   "source": [
    "# csv \n",
    "\n",
    "with open(\"employee.csv\", \"r\") as f:\n",
    "    print(f.read())"
   ]
  },
  {
   "cell_type": "code",
   "execution_count": 13,
   "id": "ed0a63f7-1554-4436-8d46-984011f4f20d",
   "metadata": {},
   "outputs": [
    {
     "name": "stdout",
     "output_type": "stream",
     "text": [
      "['name', 'salary', 'exp', 'city', 'age', 'Gender']\n",
      "['john', '3000', '4', 'losvegas', '30', 'Male']\n",
      "['doe', '4000', '5', ' dc', '25', 'Female']\n",
      "['robert', '8000', '6', ' paris', '27', 'Male']\n",
      "['chris', '9000', '7', 'newyork', '24', 'Female']\n",
      "['', '3000', '', 'losvegas', '35', 'Male']\n",
      "['john', '3000', '4', 'losvegas', '33', 'Female']\n",
      "['evans', '', '4', 'losvegas', '31', 'Male']\n",
      "['tom', '3000', '4', '', '37', 'Female']\n"
     ]
    }
   ],
   "source": [
    "import csv  # a library that will convert text data into csv data into list of rows\n",
    "\n",
    "with open(\"employee.csv\", \"r\") as f:\n",
    "    records = csv.reader(f)\n",
    "    for record in records:\n",
    "        print(record)"
   ]
  },
  {
   "cell_type": "code",
   "execution_count": 15,
   "id": "36cad2c1-7e23-4580-94fc-4cbee8ffbc2b",
   "metadata": {},
   "outputs": [
    {
     "name": "stdout",
     "output_type": "stream",
     "text": [
      "{'name': 'john', 'salary': '3000', 'exp': '4', 'city': 'losvegas', 'age': '30', 'Gender': 'Male'}\n",
      "{'name': 'doe', 'salary': '4000', 'exp': '5', 'city': ' dc', 'age': '25', 'Gender': 'Female'}\n",
      "{'name': 'robert', 'salary': '8000', 'exp': '6', 'city': ' paris', 'age': '27', 'Gender': 'Male'}\n",
      "{'name': 'chris', 'salary': '9000', 'exp': '7', 'city': 'newyork', 'age': '24', 'Gender': 'Female'}\n",
      "{'name': '', 'salary': '3000', 'exp': '', 'city': 'losvegas', 'age': '35', 'Gender': 'Male'}\n",
      "{'name': 'john', 'salary': '3000', 'exp': '4', 'city': 'losvegas', 'age': '33', 'Gender': 'Female'}\n",
      "{'name': 'evans', 'salary': '', 'exp': '4', 'city': 'losvegas', 'age': '31', 'Gender': 'Male'}\n",
      "{'name': 'tom', 'salary': '3000', 'exp': '4', 'city': '', 'age': '37', 'Gender': 'Female'}\n"
     ]
    }
   ],
   "source": [
    "import csv  # a library that will convert text csv data into list of rows\n",
    "\n",
    "with open(\"employee.csv\", \"r\") as f:\n",
    "    records = csv.DictReader(f)\n",
    "    for record in records:\n",
    "        print(record)"
   ]
  },
  {
   "cell_type": "code",
   "execution_count": 16,
   "id": "02842c0c-d2c2-4974-9cee-b8dd72798258",
   "metadata": {},
   "outputs": [
    {
     "name": "stdout",
     "output_type": "stream",
     "text": [
      "['name', 'salary', 'exp', 'city', 'age', 'Gender']\n",
      "['john', '3000', '4', 'losvegas', '30', 'Male']\n",
      "['doe', '4000', '5', ' dc', '25', 'Female']\n",
      "['robert', '8000', '6', ' paris', '27', 'Male']\n",
      "['chris', '9000', '7', 'newyork', '24', 'Female']\n",
      "['', '3000', '', 'losvegas', '35', 'Male']\n",
      "['john', '3000', '4', 'losvegas', '33', 'Female']\n",
      "['evans', '', '4', 'losvegas', '31', 'Male']\n",
      "['tom', '3000', '4', '', '37', 'Female']\n"
     ]
    }
   ],
   "source": [
    "with open(\"employee.csv\", \"r\") as f:\n",
    "    records = csv.reader(f)\n",
    "    for record in records:\n",
    "        print(record)\n",
    "\n",
    "        with open(\"sample.csv\", \"a\") as d:\n",
    "            writer = csv.writer(d)\n",
    "            writer.writerow(record)"
   ]
  },
  {
   "cell_type": "code",
   "execution_count": 17,
   "id": "b46011aa-a352-4035-afbe-13fe1fb90630",
   "metadata": {},
   "outputs": [],
   "source": [
    "# write mode base csv creationg\n",
    "\n",
    "with open(\"sample.csv\", \"w\") as f:\n",
    "    writer = csv.writer(f)\n",
    "\n",
    "    writer.writerow([\"EmpName\", \"salary\", \"street\"])\n",
    "    writer.writerow([\"user1\", \"200000\", \"manhattan\"])\n",
    "    writer.writerow([\"user2\", \"300000\", \"baker\"])\n",
    "    "
   ]
  },
  {
   "cell_type": "code",
   "execution_count": 18,
   "id": "47559000-9df7-4507-9442-5a15ccaf615a",
   "metadata": {},
   "outputs": [],
   "source": [
    "with open(\"sample.csv\", \"w\") as f:\n",
    "    fields = [\"std_id\", \"std_name\", \"std_course\"]\n",
    "    writer = csv.DictWriter(f, fieldnames =fields )\n",
    "\n",
    "    writer.writerow({\"std_id\":2,\"std_name\":\"user3\", \"std_course\":\"python\" })\n",
    "    writer.writerow({\"std_id\":4,\"std_name\":\"user4\", \"std_course\":\"fullstack\" })\n",
    "    writer.writerow({\"std_id\":5,\"std_name\":\"user5\", \"std_course\":\"AI\" })"
   ]
  },
  {
   "cell_type": "code",
   "execution_count": 19,
   "id": "4ca437e7-10df-48e6-8382-daca9879fb6e",
   "metadata": {},
   "outputs": [
    {
     "name": "stdout",
     "output_type": "stream",
     "text": [
      "<class 'str'>\n"
     ]
    },
    {
     "data": {
      "text/plain": [
       "'{\"name\":{\"0\":\"john\",\"1\":\"doe\",\"2\":\"robert\",\"3\":\"chris\",\"4\":null,\"5\":\"john\",\"6\":\"evans\",\"7\":\"tom\"},\"salary\":{\"0\":3000.0,\"1\":4000.0,\"2\":8000.0,\"3\":9000.0,\"4\":3000.0,\"5\":3000.0,\"6\":null,\"7\":3000.0},\"exp\":{\"0\":4.0,\"1\":5.0,\"2\":6.0,\"3\":7.0,\"4\":null,\"5\":4.0,\"6\":4.0,\"7\":4.0},\"city\":{\"0\":\"losvegas\",\"1\":\" dc\",\"2\":\" paris\",\"3\":\"newyork\",\"4\":\"losvegas\",\"5\":\"losvegas\",\"6\":\"losvegas\",\"7\":null},\"age\":{\"0\":30,\"1\":25,\"2\":27,\"3\":24,\"4\":35,\"5\":33,\"6\":31,\"7\":37},\"Gender\":{\"0\":\"Male\",\"1\":\"Female\",\"2\":\"Male\",\"3\":\"Female\",\"4\":\"Male\",\"5\":\"Female\",\"6\":\"Male\",\"7\":\"Female\"}}'"
      ]
     },
     "execution_count": 19,
     "metadata": {},
     "output_type": "execute_result"
    }
   ],
   "source": [
    "data = open(\"employee.json\", \"r\")\n",
    "record = data.read()\n",
    "print(type(record))\n",
    "record\n",
    "\n"
   ]
  },
  {
   "cell_type": "code",
   "execution_count": 21,
   "id": "e3499fac-f76b-41f1-9aff-a739551ebf56",
   "metadata": {},
   "outputs": [
    {
     "data": {
      "text/plain": [
       "{'name': {'0': 'john',\n",
       "  '1': 'doe',\n",
       "  '2': 'robert',\n",
       "  '3': 'chris',\n",
       "  '4': None,\n",
       "  '5': 'john',\n",
       "  '6': 'evans',\n",
       "  '7': 'tom'},\n",
       " 'salary': {'0': 3000.0,\n",
       "  '1': 4000.0,\n",
       "  '2': 8000.0,\n",
       "  '3': 9000.0,\n",
       "  '4': 3000.0,\n",
       "  '5': 3000.0,\n",
       "  '6': None,\n",
       "  '7': 3000.0},\n",
       " 'exp': {'0': 4.0,\n",
       "  '1': 5.0,\n",
       "  '2': 6.0,\n",
       "  '3': 7.0,\n",
       "  '4': None,\n",
       "  '5': 4.0,\n",
       "  '6': 4.0,\n",
       "  '7': 4.0},\n",
       " 'city': {'0': 'losvegas',\n",
       "  '1': ' dc',\n",
       "  '2': ' paris',\n",
       "  '3': 'newyork',\n",
       "  '4': 'losvegas',\n",
       "  '5': 'losvegas',\n",
       "  '6': 'losvegas',\n",
       "  '7': None},\n",
       " 'age': {'0': 30,\n",
       "  '1': 25,\n",
       "  '2': 27,\n",
       "  '3': 24,\n",
       "  '4': 35,\n",
       "  '5': 33,\n",
       "  '6': 31,\n",
       "  '7': 37},\n",
       " 'Gender': {'0': 'Male',\n",
       "  '1': 'Female',\n",
       "  '2': 'Male',\n",
       "  '3': 'Female',\n",
       "  '4': 'Male',\n",
       "  '5': 'Female',\n",
       "  '6': 'Male',\n",
       "  '7': 'Female'}}"
      ]
     },
     "execution_count": 21,
     "metadata": {},
     "output_type": "execute_result"
    }
   ],
   "source": [
    "import json\n",
    "data = open(\"employee.json\", \"r\")\n",
    "json_record = json.load(data)\n",
    "json_record"
   ]
  },
  {
   "cell_type": "code",
   "execution_count": 22,
   "id": "261ce64a-978d-4189-8956-ebbaa3737a04",
   "metadata": {},
   "outputs": [
    {
     "data": {
      "text/plain": [
       "dict"
      ]
     },
     "execution_count": 22,
     "metadata": {},
     "output_type": "execute_result"
    }
   ],
   "source": [
    "type(json_record)"
   ]
  },
  {
   "cell_type": "code",
   "execution_count": 23,
   "id": "d9899968-d544-4001-8986-6ef4da82dd95",
   "metadata": {},
   "outputs": [
    {
     "data": {
      "text/plain": [
       "str"
      ]
     },
     "execution_count": 23,
     "metadata": {},
     "output_type": "execute_result"
    }
   ],
   "source": [
    "# how to convert a string into an json\n",
    "str1 = '{\"name\":\"user\", \"city\":\"florida\", \"nation\":\"canada\"}'\n",
    "type(str1)"
   ]
  },
  {
   "cell_type": "code",
   "execution_count": 24,
   "id": "d843273c-2f53-46e3-9117-8f271e825295",
   "metadata": {},
   "outputs": [
    {
     "data": {
      "text/plain": [
       "{'name': 'user', 'city': 'florida', 'nation': 'canada'}"
      ]
     },
     "execution_count": 24,
     "metadata": {},
     "output_type": "execute_result"
    }
   ],
   "source": [
    "import json\n",
    "data  = json.loads(str1)\n",
    "data"
   ]
  },
  {
   "cell_type": "code",
   "execution_count": 25,
   "id": "e24bde0d-2db5-4f15-9855-49e334f105de",
   "metadata": {},
   "outputs": [
    {
     "data": {
      "text/plain": [
       "dict"
      ]
     },
     "execution_count": 25,
     "metadata": {},
     "output_type": "execute_result"
    }
   ],
   "source": [
    "type(data)"
   ]
  },
  {
   "cell_type": "code",
   "execution_count": 27,
   "id": "595e6eef-81ac-48f9-b17b-ecb392125290",
   "metadata": {},
   "outputs": [],
   "source": [
    "import json\n",
    "\n",
    "insert_data = {'name': 'user', 'city': 'florida', 'nation': 'canada'}\n",
    "\n",
    "with open(\"sample.json\", \"w\") as f:\n",
    "    json.dump(insert_data, f)"
   ]
  },
  {
   "cell_type": "code",
   "execution_count": 28,
   "id": "c5f92eec-6884-4672-9714-a7d09ae4d012",
   "metadata": {},
   "outputs": [
    {
     "ename": "ZeroDivisionError",
     "evalue": "division by zero",
     "output_type": "error",
     "traceback": [
      "\u001b[1;31m---------------------------------------------------------------------------\u001b[0m",
      "\u001b[1;31mZeroDivisionError\u001b[0m                         Traceback (most recent call last)",
      "Cell \u001b[1;32mIn[28], line 1\u001b[0m\n\u001b[1;32m----> 1\u001b[0m \u001b[38;5;241;43m4\u001b[39;49m\u001b[38;5;241;43m/\u001b[39;49m\u001b[38;5;241;43m0\u001b[39;49m\n",
      "\u001b[1;31mZeroDivisionError\u001b[0m: division by zero"
     ]
    }
   ],
   "source": [
    "4/0"
   ]
  },
  {
   "cell_type": "code",
   "execution_count": 29,
   "id": "566e6cf4-9f56-4386-9e08-155781ed40a0",
   "metadata": {},
   "outputs": [
    {
     "ename": "TypeError",
     "evalue": "unsupported operand type(s) for /: 'str' and 'int'",
     "output_type": "error",
     "traceback": [
      "\u001b[1;31m---------------------------------------------------------------------------\u001b[0m",
      "\u001b[1;31mTypeError\u001b[0m                                 Traceback (most recent call last)",
      "Cell \u001b[1;32mIn[29], line 1\u001b[0m\n\u001b[1;32m----> 1\u001b[0m \u001b[38;5;124;43m\"\u001b[39;49m\u001b[38;5;124;43mhello\u001b[39;49m\u001b[38;5;124;43m\"\u001b[39;49m\u001b[38;5;241;43m/\u001b[39;49m\u001b[38;5;241;43m23\u001b[39;49m\n\u001b[0;32m      2\u001b[0m \u001b[38;5;28mprint\u001b[39m(\u001b[38;5;124m\"\u001b[39m\u001b[38;5;124mhello\u001b[39m\u001b[38;5;124m\"\u001b[39m)\n\u001b[0;32m      3\u001b[0m \u001b[38;5;28mprint\u001b[39m(\u001b[38;5;124m\"\u001b[39m\u001b[38;5;124mworld\u001b[39m\u001b[38;5;124m\"\u001b[39m)\n",
      "\u001b[1;31mTypeError\u001b[0m: unsupported operand type(s) for /: 'str' and 'int'"
     ]
    }
   ],
   "source": [
    "\"hello\"/23\n",
    "print(\"hello\")\n",
    "print(\"world\")"
   ]
  },
  {
   "cell_type": "code",
   "execution_count": 34,
   "id": "d5f6613f-43f8-49de-a67b-2c686c4edd9f",
   "metadata": {},
   "outputs": [
    {
     "name": "stdin",
     "output_type": "stream",
     "text": [
      "enter the first value  4\n",
      "enter the second value \"de\"\n"
     ]
    },
    {
     "name": "stdout",
     "output_type": "stream",
     "text": [
      "something went wrong\n",
      "hello\n",
      "world\n"
     ]
    }
   ],
   "source": [
    "try: \n",
    "    \"\"\"\n",
    "    a try block where we can put our suspicious code if the code runs withou raising an error we\n",
    "    will be able see the result if the code raises any error the except block will execute\n",
    "    \"\"\"\n",
    "    a = eval(input(\"enter the first value \"))\n",
    "    b = eval(input(\"enter the second value\"))\n",
    "\n",
    "    print(a/b)\n",
    "\n",
    "except:\n",
    "    \n",
    "    print(\"something went wrong\")\n",
    "\n",
    "\n",
    "print(\"hello\")\n",
    "print(\"world\")"
   ]
  },
  {
   "cell_type": "code",
   "execution_count": 37,
   "id": "ceff9069-572c-493e-8b1a-38bdaafa4747",
   "metadata": {},
   "outputs": [
    {
     "name": "stdin",
     "output_type": "stream",
     "text": [
      "enter the first value  8\n",
      "enter the second value \"hello\"\n"
     ]
    },
    {
     "name": "stdout",
     "output_type": "stream",
     "text": [
      "when we try to perform actions inbetween two different types of the data we will get type error\n"
     ]
    }
   ],
   "source": [
    "# multiple exceptions\n",
    "\n",
    "try: \n",
    "    \n",
    "    a = eval(input(\"enter the first value \"))\n",
    "    b = eval(input(\"enter the second value\"))\n",
    "\n",
    "    print(a/b)\n",
    "\n",
    "except TypeError:\n",
    "    print(\"when we try to perform actions inbetween two different types of the data we will get type error\")\n",
    "except ZeroDivisionError:\n",
    "    print(\"if we use the denominator as 0 we will get Zero Division Error\")\n",
    "except:\n",
    "    print(\"something went wrong\")\n",
    "    "
   ]
  },
  {
   "cell_type": "code",
   "execution_count": 39,
   "id": "a1663205-be1b-41bf-a039-8d1c2ee5d295",
   "metadata": {},
   "outputs": [
    {
     "name": "stdin",
     "output_type": "stream",
     "text": [
      "enter the first value  8\n",
      "enter the second value \"hello\"\n"
     ]
    },
    {
     "name": "stdout",
     "output_type": "stream",
     "text": [
      "your try block is facing : unsupported operand type(s) for /: 'int' and 'str'\n"
     ]
    }
   ],
   "source": [
    "try: \n",
    "    \"\"\"\n",
    "    a try block where we can put our suspicious code if the code runs withou raising an error we\n",
    "    will be able see the result if the code raises any error the except block will execute\n",
    "    \"\"\"\n",
    "    a = eval(input(\"enter the first value \"))\n",
    "    b = eval(input(\"enter the second value\"))\n",
    "\n",
    "    print(a/b)\n",
    "\n",
    "except Exception as e:\n",
    "    print(f\"your try block is facing : {e}\")"
   ]
  },
  {
   "cell_type": "code",
   "execution_count": 41,
   "id": "cc7801e0-bc96-4609-96bd-8e15150322f4",
   "metadata": {},
   "outputs": [
    {
     "name": "stdin",
     "output_type": "stream",
     "text": [
      "enter the first value  8\n",
      "enter the second value 0\n"
     ]
    },
    {
     "name": "stdout",
     "output_type": "stream",
     "text": [
      "if we use the denominator as 0 we will get Zero Division Error\n",
      "end of the error handling\n"
     ]
    }
   ],
   "source": [
    "# multiple exceptions\n",
    "\n",
    "try: \n",
    "    \n",
    "    a = eval(input(\"enter the first value \"))\n",
    "    b = eval(input(\"enter the second value\"))\n",
    "\n",
    "    print(a/b)\n",
    "\n",
    "except TypeError:\n",
    "    print(\"when we try to perform actions inbetween two different types of the data we will get type error\")\n",
    "except ZeroDivisionError:\n",
    "    print(\"if we use the denominator as 0 we will get Zero Division Error\")\n",
    "else:\n",
    "    \"\"\"\n",
    "    a else block in a try except will execute when the try block runs without any error\n",
    "    \"\"\"\n",
    "    print(\"try ran successfully\")\n",
    "finally:\n",
    "    \"\"\"\n",
    "    regardless of try, except-- finally block always execute\n",
    "    \"\"\"\n",
    "    print(\"end of the error handling\")"
   ]
  },
  {
   "cell_type": "code",
   "execution_count": 43,
   "id": "db4e4e96-b71c-415e-9cc7-775ac68a703e",
   "metadata": {},
   "outputs": [
    {
     "name": "stdin",
     "output_type": "stream",
     "text": [
      "> 77\n"
     ]
    },
    {
     "name": "stdout",
     "output_type": "stream",
     "text": [
      "the guessed value is bigger than ans\n"
     ]
    }
   ],
   "source": [
    "try:\n",
    "    \"\"\"\n",
    "    according our wish or condition we can raise our own exceptions\n",
    "    \"\"\"\n",
    "    a = eval(input(\">\"))\n",
    "    if a>10:\n",
    "        raise RuntimeError\n",
    "    elif a<10:\n",
    "        raise ValueError\n",
    "        \n",
    "\n",
    "    print(\"you guessed the right answer\")\n",
    "except RuntimeError:\n",
    "    print(\"the guessed value is bigger than ans\")\n",
    "\n",
    "except ValueError:\n",
    "    print(\"the guessed value is smaller than ans\")"
   ]
  },
  {
   "cell_type": "code",
   "execution_count": 46,
   "id": "1afd9176-fd25-40ce-b308-c40598dada74",
   "metadata": {},
   "outputs": [
    {
     "name": "stdin",
     "output_type": "stream",
     "text": [
      "> 10\n"
     ]
    },
    {
     "name": "stdout",
     "output_type": "stream",
     "text": [
      "you guessed the right answer\n"
     ]
    }
   ],
   "source": [
    "# create own exceptions\n",
    "\n",
    "class ValueBigError(Exception):\n",
    "    pass\n",
    "\n",
    "class ValueSmallError(Exception):\n",
    "    pass\n",
    "\n",
    "\n",
    "\n",
    "try:\n",
    "    \"\"\"\n",
    "    according our wish or condition we can raise our own exceptions\n",
    "    \"\"\"\n",
    "    a = eval(input(\">\"))\n",
    "    if a>10:\n",
    "        raise ValueBigError\n",
    "    elif a<10:\n",
    "        raise ValueSmallError\n",
    "\n",
    "    print(\"you guessed the right answer\")\n",
    "except ValueBigError:\n",
    "    print(\"the guessed value is bigger than ans\")\n",
    "\n",
    "except ValueSmallError:\n",
    "    print(\"the guessed value is smaller than ans\")"
   ]
  },
  {
   "cell_type": "code",
   "execution_count": 2,
   "id": "703c2db3-0bcf-44e2-ab7d-a36f74cc76b8",
   "metadata": {},
   "outputs": [
    {
     "name": "stdin",
     "output_type": "stream",
     "text": [
      "> -99\n"
     ]
    },
    {
     "name": "stdout",
     "output_type": "stream",
     "text": [
      "ValueSmall exception happens when you guess Smaller value then ans\n"
     ]
    }
   ],
   "source": [
    "# create own exceptions\n",
    "\n",
    "class ValueBig(Exception):\n",
    "    def __init__(self):\n",
    "        self.message = \"ValueBig exception happens when you guess bigger value then ans\"\n",
    "\n",
    "class ValueSmall(Exception):\n",
    "    def __init__(self):\n",
    "        self.message = \"ValueSmall exception happens when you guess Smaller value then ans\"\n",
    "\n",
    "\n",
    "\n",
    "try:\n",
    "    \"\"\"\n",
    "    according our wish or condition we can raise our own exceptions\n",
    "    \"\"\"\n",
    "    a = eval(input(\">\"))\n",
    "    if a>10:\n",
    "        raise ValueBig\n",
    "    elif a<10:\n",
    "        raise ValueSmall\n",
    "\n",
    "    print(\"you guessed the right answer\")\n",
    "except ValueBig as e:\n",
    "    print(e.message)\n",
    "\n",
    "except ValueSmall as e:\n",
    "    print(e.message)"
   ]
  },
  {
   "cell_type": "code",
   "execution_count": 54,
   "id": "6a56ab33-3d8c-4a94-a662-f3a513699f6f",
   "metadata": {},
   "outputs": [
    {
     "name": "stdin",
     "output_type": "stream",
     "text": [
      "> 56\n"
     ]
    },
    {
     "name": "stdout",
     "output_type": "stream",
     "text": [
      "ValueBig exception happens when you guess bigger value then ans\n"
     ]
    }
   ],
   "source": [
    "# create own exceptions\n",
    "\n",
    "class ValueBig(Exception):\n",
    "    def __str__(self):\n",
    "        return \"ValueBig exception happens when you guess bigger value then ans\"\n",
    "\n",
    "class ValueSmall(Exception):\n",
    "    def __str__(self):\n",
    "        return \"ValueSmall exception happens when you guess Smaller value then ans\"\n",
    "\n",
    "\n",
    "\n",
    "try:\n",
    "    \"\"\"\n",
    "    according our wish or condition we can raise our own exceptions\n",
    "    \"\"\"\n",
    "    a = eval(input(\">\"))\n",
    "    if a>10:\n",
    "        raise ValueBig\n",
    "    elif a<10:\n",
    "        raise ValueSmall\n",
    "\n",
    "    print(\"you guessed the right answer\")\n",
    "except ValueBig as e:\n",
    "    print(e)\n",
    "\n",
    "except ValueSmall as e:\n",
    "    print(e)"
   ]
  },
  {
   "cell_type": "markdown",
   "id": "4d5dceea-d0dd-4ed3-9456-4f6acde91eab",
   "metadata": {},
   "source": [
    "# OOPS \n",
    "    object orientedd programming system -- using the object we can bundle n number functionalities as well as logics, blocks of code under single object\n",
    "    => class -- it is a blueprint of objects with in a class we can write methods, variable, constructors, instance attributes inner classes\n",
    "    => object -- a literal property accessor in other words instance of a class we can use the objects  to call all the methods, variables, attributes we can create n number of object for a class\n",
    "\n",
    "    => inheritence deriving all of the properties, var, methods from a class to another class inheritence\n",
    "    => polymorphism using some common methods or var we can use the shortcut to optimize the in other words one problem many form of solutions\n",
    "    => encapsulation -- gathering n number of codes logics, block functionalities under a object\n",
    "    is called encapsulations\n",
    "    => showing the necessary part to the end user and hiding the logis and codes is called abstraction\\"
   ]
  },
  {
   "cell_type": "code",
   "execution_count": 2,
   "id": "1349ebcc-3601-46ed-93ad-bea060406ccf",
   "metadata": {},
   "outputs": [
    {
     "name": "stdout",
     "output_type": "stream",
     "text": [
      "this is the first oops concept message\n"
     ]
    }
   ],
   "source": [
    "class Test1:\n",
    "    print(\"this is the first oops concept message\")\n",
    "\n"
   ]
  },
  {
   "cell_type": "code",
   "execution_count": 32,
   "id": "c93a7009-e26b-4783-be1d-f23cb75ee96a",
   "metadata": {},
   "outputs": [
    {
     "name": "stdout",
     "output_type": "stream",
     "text": [
      "this is the first oops concept message\n"
     ]
    },
    {
     "data": {
      "text/plain": [
       "90"
      ]
     },
     "execution_count": 32,
     "metadata": {},
     "output_type": "execute_result"
    }
   ],
   "source": [
    "class Test1:\n",
    "    x = 90\n",
    "    y = 67\n",
    "    print(\"this is the first oops concept message\")\n",
    "\n",
    "obj = Test1()\n",
    "obj.x"
   ]
  },
  {
   "cell_type": "code",
   "execution_count": 6,
   "id": "53df4c2f-d45d-44ce-bf0a-df07f7d6caad",
   "metadata": {},
   "outputs": [
    {
     "data": {
      "text/plain": [
       "67"
      ]
     },
     "execution_count": 6,
     "metadata": {},
     "output_type": "execute_result"
    }
   ],
   "source": [
    "obj.y"
   ]
  },
  {
   "cell_type": "code",
   "execution_count": 33,
   "id": "46a84aab-3855-4122-b2b7-4d35df67fcf8",
   "metadata": {},
   "outputs": [
    {
     "name": "stdout",
     "output_type": "stream",
     "text": [
      "6\n"
     ]
    }
   ],
   "source": [
    "class Test1:\n",
    "    def add(self, x,y):\n",
    "        print(x+y)\n",
    "\n",
    "obj = Test1()\n",
    "obj.add(4,2)\n"
   ]
  },
  {
   "cell_type": "code",
   "execution_count": 34,
   "id": "18ab1265-e0ef-40dd-8a94-4b6467c5cd43",
   "metadata": {},
   "outputs": [
    {
     "ename": "AttributeError",
     "evalue": "'Test1' object has no attribute 'x'",
     "output_type": "error",
     "traceback": [
      "\u001b[1;31m---------------------------------------------------------------------------\u001b[0m",
      "\u001b[1;31mAttributeError\u001b[0m                            Traceback (most recent call last)",
      "Cell \u001b[1;32mIn[34], line 1\u001b[0m\n\u001b[1;32m----> 1\u001b[0m \u001b[38;5;28mprint\u001b[39m(\u001b[43mobj\u001b[49m\u001b[38;5;241;43m.\u001b[39;49m\u001b[43mx\u001b[49m)\n",
      "\u001b[1;31mAttributeError\u001b[0m: 'Test1' object has no attribute 'x'"
     ]
    }
   ],
   "source": [
    "print(obj.x)"
   ]
  },
  {
   "cell_type": "code",
   "execution_count": 38,
   "id": "9f9d0705-d0f9-46eb-b94f-14adfe1c3bca",
   "metadata": {},
   "outputs": [
    {
     "name": "stdout",
     "output_type": "stream",
     "text": [
      "6\n"
     ]
    }
   ],
   "source": [
    "class Test1:\n",
    "    \"\"\"\n",
    "    every constructor or a mehod we define within a class will take the first parameter as a instance\n",
    "    \"\"\"\n",
    "    \n",
    "    def add(self, x,y):\n",
    "        \"\"\"\n",
    "        any function we define within a class we call it as a method\n",
    "        \"\"\"\n",
    "        self.v1 = x\n",
    "        self.v2 = y\n",
    "        print(x+y)\n",
    "\n",
    "obj = Test1()\n",
    "obj.add(4,2)"
   ]
  },
  {
   "cell_type": "code",
   "execution_count": 39,
   "id": "9eb2a7e2-b68d-4fbd-a7d1-fce9e12bae24",
   "metadata": {},
   "outputs": [
    {
     "data": {
      "text/plain": [
       "4"
      ]
     },
     "execution_count": 39,
     "metadata": {},
     "output_type": "execute_result"
    }
   ],
   "source": [
    "obj.v1"
   ]
  },
  {
   "cell_type": "code",
   "execution_count": 37,
   "id": "4bfe5a5b-3742-4276-bd39-c28cd6330def",
   "metadata": {},
   "outputs": [
    {
     "data": {
      "text/plain": [
       "2"
      ]
     },
     "execution_count": 37,
     "metadata": {},
     "output_type": "execute_result"
    }
   ],
   "source": [
    "obj.v2"
   ]
  },
  {
   "cell_type": "code",
   "execution_count": 41,
   "id": "817596c2-f3e9-4fb6-b72f-c27da81f06fb",
   "metadata": {},
   "outputs": [
    {
     "name": "stdout",
     "output_type": "stream",
     "text": [
      "84\n"
     ]
    }
   ],
   "source": [
    "class Test1:\n",
    "    d1 = 78\n",
    "    def add(self, x,y):\n",
    "        print(x+y+self.d1)\n",
    "        #print(x+y+d1)\n",
    "\n",
    "obj = Test1()\n",
    "obj.add(4,2)"
   ]
  },
  {
   "cell_type": "code",
   "execution_count": 42,
   "id": "0b185d71-7f27-42ab-aa04-2c2d72bf4c7a",
   "metadata": {},
   "outputs": [],
   "source": [
    "class Test1:\n",
    "    \n",
    "    def values(self, x,y):\n",
    "        self.v1 = x\n",
    "        self.v2 = y\n",
    "        \n",
    "\n",
    "    def add(self):\n",
    "        print(self.v1+self.v2)\n",
    "\n",
    "    def sub(self):\n",
    "        print(self.v1-self.v2)\n",
    "\n",
    "    \n",
    "\n",
    "obj = Test1()\n",
    "obj.values(4,2)"
   ]
  },
  {
   "cell_type": "code",
   "execution_count": 43,
   "id": "5b03dc90-0203-4513-863f-5e08b21c65a6",
   "metadata": {},
   "outputs": [
    {
     "name": "stdout",
     "output_type": "stream",
     "text": [
      "6\n"
     ]
    }
   ],
   "source": [
    "obj.add()"
   ]
  },
  {
   "cell_type": "code",
   "execution_count": 44,
   "id": "b67da2b8-2ae9-479d-a085-09b8cc757688",
   "metadata": {},
   "outputs": [
    {
     "name": "stdout",
     "output_type": "stream",
     "text": [
      "2\n"
     ]
    }
   ],
   "source": [
    "obj.sub()"
   ]
  },
  {
   "cell_type": "code",
   "execution_count": 45,
   "id": "c869224b-04d0-4c86-ade8-0d0842c79cbb",
   "metadata": {},
   "outputs": [
    {
     "data": {
      "text/plain": [
       "4"
      ]
     },
     "execution_count": 45,
     "metadata": {},
     "output_type": "execute_result"
    }
   ],
   "source": [
    "obj.v1"
   ]
  },
  {
   "cell_type": "code",
   "execution_count": 46,
   "id": "0d559161-d2bd-426f-b46f-2732117953ba",
   "metadata": {},
   "outputs": [
    {
     "data": {
      "text/plain": [
       "2"
      ]
     },
     "execution_count": 46,
     "metadata": {},
     "output_type": "execute_result"
    }
   ],
   "source": [
    "obj.v2"
   ]
  },
  {
   "cell_type": "code",
   "execution_count": 47,
   "id": "0fb256db-4a07-48d7-a6b3-998a2b7b73f1",
   "metadata": {},
   "outputs": [
    {
     "data": {
      "text/plain": [
       "6"
      ]
     },
     "execution_count": 47,
     "metadata": {},
     "output_type": "execute_result"
    }
   ],
   "source": [
    "class Test1:\n",
    "    def __init__(self,p1,p2):\n",
    "        \"\"\"\n",
    "        initializer constructor will execute when we call or create an object for class so we can pass the \n",
    "        arguments for the class initializer will take those arguments\n",
    "        __init__ will never use return statement\n",
    "        explicitly also we can call a constructor\n",
    "        \"\"\"\n",
    "        \n",
    "        self.v1 = p1\n",
    "        self.v2 = p2\n",
    "\n",
    "    \n",
    "    def add(self):\n",
    "        return self.v1+self.v2\n",
    "\n",
    "obj = Test1(4,2)\n",
    "obj.add()"
   ]
  },
  {
   "cell_type": "code",
   "execution_count": 48,
   "id": "779a527b-d502-40df-9642-b1a6828c239c",
   "metadata": {},
   "outputs": [
    {
     "name": "stdout",
     "output_type": "stream",
     "text": [
      "10 6\n"
     ]
    }
   ],
   "source": [
    "class Test1:\n",
    "    d1 = 78\n",
    "    \n",
    "    def __init__(self, x,y):\n",
    "        self.v1 = x\n",
    "        self.v2 = y\n",
    "        \n",
    "\n",
    "    def add(self): # a method takes instance as first parameter -- instance method\n",
    "        return self.v1+self.v2\n",
    "\n",
    "    def sub(self):\n",
    "        return self.v1-self.v2\n",
    "\n",
    "    def calc(self):\n",
    "        print(self.add(), self.sub())\n",
    "        \n",
    "obj = Test1(8,2)\n",
    "obj.calc()"
   ]
  },
  {
   "cell_type": "code",
   "execution_count": 49,
   "id": "4618ff57-1eff-4d3c-86fb-3a6aa14f6205",
   "metadata": {},
   "outputs": [
    {
     "data": {
      "text/plain": [
       "'hello world'"
      ]
     },
     "execution_count": 49,
     "metadata": {},
     "output_type": "execute_result"
    }
   ],
   "source": [
    "class Test1:\n",
    "    a = 56\n",
    "    def __init__(self, x,y):\n",
    "        self.v1 = x\n",
    "        self.v2 = y\n",
    "        \n",
    "\n",
    "    def add(self):\n",
    "        return self.v1+self.v2\n",
    "\n",
    "    @staticmethod\n",
    "    def hello():\n",
    "        \"\"\"\n",
    "        a method which does not have any relations in between class level or instance properties\n",
    "        a stand alone method with in a class\n",
    "        \"\"\"\n",
    "        \n",
    "        return \"hello world\"\n",
    "\n",
    "    @classmethod\n",
    "    def world(cls):\n",
    "        \"\"\"\n",
    "        a method which allow us to access only the class level properties or multpile instances \n",
    "        not with the specific instance level\n",
    "        properties we cannot even call the instance method too\n",
    "        \"\"\"\n",
    "        print(cls.a)\n",
    "        print(cls.hello())\n",
    "        #print(cls.add())\n",
    "        #print(cls.v1)\n",
    "        \n",
    "        \n",
    "\n",
    "obj = Test1(4,2)\n",
    "obj.hello()\n"
   ]
  },
  {
   "cell_type": "code",
   "execution_count": 50,
   "id": "7d241913-debd-4162-9d58-36c6e6f89eea",
   "metadata": {},
   "outputs": [
    {
     "name": "stdout",
     "output_type": "stream",
     "text": [
      "56\n",
      "hello world\n"
     ]
    }
   ],
   "source": [
    "obj.world()"
   ]
  },
  {
   "cell_type": "code",
   "execution_count": 63,
   "id": "16af7ea9-2083-44c5-b786-56879f54d6ed",
   "metadata": {},
   "outputs": [
    {
     "data": {
      "text/plain": [
       "6"
      ]
     },
     "execution_count": 63,
     "metadata": {},
     "output_type": "execute_result"
    }
   ],
   "source": [
    "obj.add()"
   ]
  },
  {
   "cell_type": "code",
   "execution_count": 53,
   "id": "c0548d16-abaa-4216-b1d2-7a5e359726cc",
   "metadata": {},
   "outputs": [
    {
     "name": "stdout",
     "output_type": "stream",
     "text": [
      "this is outer class methods with passed data  34\n"
     ]
    }
   ],
   "source": [
    "class Test1:\n",
    "    def __init__(self, p1):\n",
    "        self.v1 = p1\n",
    "\n",
    "    def display(self):\n",
    "        print(\"this is outer class methods with passed data \", self.v1)\n",
    "\n",
    "    class Test2:\n",
    "        def __init__(self, p2):\n",
    "            self.v2 = p2\n",
    "\n",
    "        def show(self):\n",
    "            print(\"this is inner class methods with passed data \", self.v2)\n",
    "\n",
    "\n",
    "obj = Test1(34)\n",
    "obj.display()\n",
    "\n",
    "        "
   ]
  },
  {
   "cell_type": "code",
   "execution_count": 54,
   "id": "f2db3c1a-527e-4d48-ba02-75963cd3849b",
   "metadata": {},
   "outputs": [
    {
     "name": "stdout",
     "output_type": "stream",
     "text": [
      "this is inner class methods with passed data  44\n"
     ]
    }
   ],
   "source": [
    "obj.Test2(44).show()"
   ]
  },
  {
   "cell_type": "code",
   "execution_count": 55,
   "id": "faff8a22-851c-4a83-be68-6bdca982a624",
   "metadata": {},
   "outputs": [
    {
     "name": "stdout",
     "output_type": "stream",
     "text": [
      "this is inner class methods with passed data  23\n"
     ]
    }
   ],
   "source": [
    "innerobj = obj.Test2(23)\n",
    "innerobj.show()"
   ]
  },
  {
   "cell_type": "code",
   "execution_count": 56,
   "id": "ca7234a5-3f32-41e3-8c4a-0daf1888509c",
   "metadata": {},
   "outputs": [
    {
     "name": "stdout",
     "output_type": "stream",
     "text": [
      "this is outer class methods with passed data  34\n"
     ]
    }
   ],
   "source": [
    "class Test1:\n",
    "    def __init__(self, p1):\n",
    "        self.v1 = p1\n",
    "        self.Inner = self.Test2(89)\n",
    "\n",
    "    def display(self):\n",
    "        print(\"this is outer class methods with passed data \", self.v1)\n",
    "\n",
    "    class Test2:\n",
    "        def __init__(self, p2):\n",
    "            self.v2 = p2\n",
    "\n",
    "        def show(self):\n",
    "            print(\"this is inner class methods with passed data \", self.v2)\n",
    "\n",
    "\n",
    "obj = Test1(34)\n",
    "obj.display()\n",
    "\n",
    "        "
   ]
  },
  {
   "cell_type": "code",
   "execution_count": 57,
   "id": "28e371f6-3d07-4f0d-a0cc-87c224a3cccc",
   "metadata": {},
   "outputs": [
    {
     "name": "stdout",
     "output_type": "stream",
     "text": [
      "this is inner class methods with passed data  89\n"
     ]
    }
   ],
   "source": [
    "obj.Inner.show()"
   ]
  },
  {
   "cell_type": "code",
   "execution_count": 58,
   "id": "ec92bac3-fb6f-4f45-a77c-776e16a8e74c",
   "metadata": {},
   "outputs": [
    {
     "name": "stdout",
     "output_type": "stream",
     "text": [
      "(6, 2, 8, 2.0)\n",
      "4\n",
      "2\n",
      "(12, 4, 32, 2.0)\n"
     ]
    }
   ],
   "source": [
    "# object modifications\n",
    "\n",
    "\n",
    "class Test1:\n",
    "    def __init__(self, p1, p2):\n",
    "        self.x = p1\n",
    "        self.y = p2\n",
    "        #return 9\n",
    "\n",
    "    def calc(self):\n",
    "        return self.x+self.y,self.x-self.y,self.x*self.y,self.x/self.y\n",
    "\n",
    "obj = Test1(4,2)\n",
    "print(obj.calc())\n",
    "\n",
    "print(obj.x)\n",
    "print(obj.y)\n",
    "\n",
    "#modifying the object values\n",
    "obj.x = 8\n",
    "obj.y = 4\n",
    "print(obj.calc())\n"
   ]
  },
  {
   "cell_type": "code",
   "execution_count": 59,
   "id": "42ae1da4-88d4-4915-8560-ec649c81f8ca",
   "metadata": {},
   "outputs": [
    {
     "name": "stdout",
     "output_type": "stream",
     "text": [
      "robert\n",
      "5000\n",
      "the full name of the employee is  robertdowney\n",
      "the total salary with hike is 8000\n",
      "robertdowney\n",
      "8000\n"
     ]
    }
   ],
   "source": [
    "# instance modifications\n",
    "\n",
    "class Test2:\n",
    "    def __init__(self,name, salary):\n",
    "        self.name = name\n",
    "        self.salary = salary\n",
    "\n",
    "    def fullname(self, lastname):\n",
    "        self.name = self.name+lastname\n",
    "        \n",
    "        return f\"the full name of the employee is  {self.name}\"\n",
    "\n",
    "    def salaryhike(self, hike):\n",
    "        self.salary = self.salary+hike\n",
    "        return f\"the total salary with hike is {self.salary}\"\n",
    "\n",
    "obj = Test2(\"robert\", 5000)\n",
    "print(obj.name)\n",
    "print(obj.salary)\n",
    "print(obj.fullname(\"downey\"))\n",
    "print(obj.salaryhike(3000))\n",
    "print(obj.name)\n",
    "print(obj.salary)\n"
   ]
  },
  {
   "cell_type": "code",
   "execution_count": 60,
   "id": "5b21b57e-7529-4604-9b28-0f09bac22580",
   "metadata": {},
   "outputs": [
    {
     "data": {
      "text/plain": [
       "'hello world'"
      ]
     },
     "execution_count": 60,
     "metadata": {},
     "output_type": "execute_result"
    }
   ],
   "source": [
    "# single inheritence -- a class derives the data from only one class\n",
    "\n",
    "class A:\n",
    "    x = 90\n",
    "    def hello(self):\n",
    "        return \"hello world\"\n",
    "\n",
    "\n",
    "class B(A):\n",
    "    pass\n",
    "\n",
    "obj = B()\n",
    "obj.hello()\n"
   ]
  },
  {
   "cell_type": "code",
   "execution_count": 61,
   "id": "6d4442c8-51fa-4a1d-8abc-2953936b5b76",
   "metadata": {},
   "outputs": [
    {
     "data": {
      "text/plain": [
       "90"
      ]
     },
     "execution_count": 61,
     "metadata": {},
     "output_type": "execute_result"
    }
   ],
   "source": [
    "obj.x"
   ]
  },
  {
   "cell_type": "code",
   "execution_count": 62,
   "id": "0de74e59-00b9-4d92-93e2-6792a0395678",
   "metadata": {},
   "outputs": [
    {
     "name": "stdout",
     "output_type": "stream",
     "text": [
      "hello world\n",
      "90\n"
     ]
    },
    {
     "data": {
      "text/plain": [
       "'this is sub class message'"
      ]
     },
     "execution_count": 62,
     "metadata": {},
     "output_type": "execute_result"
    }
   ],
   "source": [
    "class A:\n",
    "    x = 90\n",
    "    def hello(self):\n",
    "        return \"hello world\"\n",
    "\n",
    "\n",
    "class B(A):\n",
    "    def details(self):\n",
    "        print(super().hello())\n",
    "        print(super().x)\n",
    "        return \"this is sub class message\"\n",
    "    \n",
    "obj = B()\n",
    "obj.details()"
   ]
  },
  {
   "cell_type": "code",
   "execution_count": 63,
   "id": "405e1377-bfa3-4fee-9986-b79a37b19e6d",
   "metadata": {},
   "outputs": [
    {
     "name": "stdout",
     "output_type": "stream",
     "text": [
      "hello world\n",
      "90\n"
     ]
    }
   ],
   "source": [
    "class A:\n",
    "    x = 90\n",
    "    def hello(self):\n",
    "        return \"hello world\"\n",
    "\n",
    "\n",
    "class B(A):\n",
    "    def details(self):\n",
    "        print(A.hello(self))\n",
    "        print(A.x)\n",
    "\n",
    "obj = B()\n",
    "obj.details()"
   ]
  },
  {
   "cell_type": "code",
   "execution_count": 64,
   "id": "8cb910a9-d39e-4a26-94b9-172a2fb550d3",
   "metadata": {},
   "outputs": [
    {
     "name": "stdout",
     "output_type": "stream",
     "text": [
      "90\n"
     ]
    },
    {
     "data": {
      "text/plain": [
       "'This is class A'"
      ]
     },
     "execution_count": 64,
     "metadata": {},
     "output_type": "execute_result"
    }
   ],
   "source": [
    "#multiple inheritence -- one subclass inheriting more than one superclass\n",
    "class A:\n",
    "    x = 90\n",
    "    def hello(self):\n",
    "        return \"This is class A\"\n",
    "\n",
    "\n",
    "class B:\n",
    "    def details(self):\n",
    "       return \"this class B\"\n",
    "\n",
    "\n",
    "class C(A,B):\n",
    "    pass\n",
    "\n",
    "obj = C()\n",
    "print(obj.x)\n",
    "obj.hello()"
   ]
  },
  {
   "cell_type": "code",
   "execution_count": 65,
   "id": "466f730d-3495-4636-a74a-21f13097a37a",
   "metadata": {},
   "outputs": [
    {
     "data": {
      "text/plain": [
       "'this class B'"
      ]
     },
     "execution_count": 65,
     "metadata": {},
     "output_type": "execute_result"
    }
   ],
   "source": [
    "obj.details()"
   ]
  },
  {
   "cell_type": "code",
   "execution_count": 66,
   "id": "efb3515e-7f6a-47f4-a7c4-2a264d244781",
   "metadata": {},
   "outputs": [
    {
     "name": "stdout",
     "output_type": "stream",
     "text": [
      "90\n",
      "this class B\n",
      "this subclass C\n",
      "This is class A\n"
     ]
    }
   ],
   "source": [
    "# multilevel inheritence -- inheriting a Sub class with another class\n",
    "\n",
    "class A:\n",
    "    x = 90\n",
    "    def hello(self):\n",
    "        return \"This is class A\"\n",
    "\n",
    "\n",
    "class B:\n",
    "    def details(self):\n",
    "       return \"this class B\"\n",
    "\n",
    "\n",
    "class C(A,B):\n",
    "    def show(self):\n",
    "        return \"this subclass C\"\n",
    "\n",
    "\n",
    "class D(C):\n",
    "    pass\n",
    "\n",
    "obj = D()\n",
    "\n",
    "print(obj.x)\n",
    "print(obj.details())\n",
    "print(obj.show())\n",
    "print(obj.hello())"
   ]
  },
  {
   "cell_type": "code",
   "execution_count": 6,
   "id": "4e4ed2ad-bcce-46ab-9022-f305a12283ba",
   "metadata": {},
   "outputs": [
    {
     "name": "stdout",
     "output_type": "stream",
     "text": [
      "This is class A\n",
      "90\n",
      "this class B\n",
      "this subclass C\n"
     ]
    }
   ],
   "source": [
    "# multilevel inheritence -- inheriting a Sub class with another class\n",
    "\n",
    "class A:\n",
    "    x = 90\n",
    "    def hello(self):\n",
    "        return \"This is class A\"\n",
    "\n",
    "\n",
    "class B:\n",
    "    def details(self):\n",
    "       return \"this class B\"\n",
    "\n",
    "\n",
    "class C(A,B):\n",
    "    def show(self):\n",
    "        return \"this subclass C\"\n",
    "\n",
    "\n",
    "class D(C):\n",
    "    def call(self):\n",
    "        print(super().hello())\n",
    "        print(super().x)\n",
    "        print(super().details())\n",
    "        print(super().show())\n",
    "\n",
    "obj = D()\n",
    "\n",
    "obj.call()"
   ]
  },
  {
   "cell_type": "code",
   "execution_count": 8,
   "id": "44f28721-b9b9-43a3-b367-bd10c61b8380",
   "metadata": {},
   "outputs": [
    {
     "name": "stdout",
     "output_type": "stream",
     "text": [
      "hello world\n",
      "B sub class\n",
      "hello world\n",
      "C sub class\n"
     ]
    }
   ],
   "source": [
    "#Hybrid inheritences -- one superclass inherited by more than on subclasses\n",
    "\n",
    "class A:\n",
    "    \n",
    "    def display(self):\n",
    "        return \"hello world\"\n",
    "\n",
    "class B(A):\n",
    "    def show(self):\n",
    "        print(super().display())\n",
    "        return \"B sub class\"\n",
    "\n",
    "\n",
    "class C(A):\n",
    "    def call(self):\n",
    "        print(super().display())\n",
    "        return \"C sub class\" \n",
    "\n",
    "\n",
    "objB = B()\n",
    "print(objB.show())\n",
    "\n",
    "\n",
    "objC = C()\n",
    "print(objC.call())\n"
   ]
  },
  {
   "cell_type": "code",
   "execution_count": 161,
   "id": "7867cf37-f4d2-48f5-ba0f-4bbffe1e0154",
   "metadata": {},
   "outputs": [
    {
     "name": "stdout",
     "output_type": "stream",
     "text": [
      "[99, 45]\n"
     ]
    }
   ],
   "source": [
    "a = 9\n",
    "a = 45\n",
    "a = [99, 45]\n",
    "\n",
    "print(a)"
   ]
  },
  {
   "cell_type": "code",
   "execution_count": 163,
   "id": "06e11b70-f299-4a2b-9bf0-b98a2b4b0472",
   "metadata": {},
   "outputs": [
    {
     "name": "stdout",
     "output_type": "stream",
     "text": [
      "48\n"
     ]
    }
   ],
   "source": [
    "\n",
    "# overriding\n",
    "def product(a,b):\n",
    "    return a*b\n",
    "\n",
    "def product(a,b,c):\n",
    "    return a*b*c\n",
    "\n",
    "\n",
    "def product(a,b,c,d):\n",
    "    return a*b*c*d\n",
    "\n",
    "\n",
    "print(product(4,2,6,1))\n",
    "# print(product(3,2,7))\n",
    "# print(product(4,2,3,1))"
   ]
  },
  {
   "cell_type": "code",
   "execution_count": 17,
   "id": "5afea6f0-b0cf-4ef0-b20a-ae9510b74f56",
   "metadata": {},
   "outputs": [
    {
     "ename": "TypeError",
     "evalue": "product() missing 2 required positional arguments: 'c' and 'd'",
     "output_type": "error",
     "traceback": [
      "\u001b[1;31m---------------------------------------------------------------------------\u001b[0m",
      "\u001b[1;31mTypeError\u001b[0m                                 Traceback (most recent call last)",
      "Cell \u001b[1;32mIn[17], line 1\u001b[0m\n\u001b[1;32m----> 1\u001b[0m \u001b[43mproduct\u001b[49m\u001b[43m(\u001b[49m\u001b[38;5;241;43m3\u001b[39;49m\u001b[43m,\u001b[49m\u001b[38;5;241;43m4\u001b[39;49m\u001b[43m)\u001b[49m\n",
      "\u001b[1;31mTypeError\u001b[0m: product() missing 2 required positional arguments: 'c' and 'd'"
     ]
    }
   ],
   "source": [
    "product(3,4)"
   ]
  },
  {
   "cell_type": "code",
   "execution_count": 18,
   "id": "785b0d9c-bb90-4522-80d1-1e4fb054aae9",
   "metadata": {},
   "outputs": [
    {
     "name": "stdout",
     "output_type": "stream",
     "text": [
      "a function with four args\n",
      "10\n",
      "a function with three args\n",
      "-1\n",
      "a function with two args\n",
      "8\n"
     ]
    }
   ],
   "source": [
    "from multipledispatch import dispatch\n",
    "\n",
    "\n",
    "# over loading\n",
    "@dispatch(int, int)\n",
    "def product(a,b):\n",
    "    print(\"a function with two args\")\n",
    "    return a*b\n",
    "\n",
    "\n",
    "@dispatch(int, int, int)\n",
    "def product(a,b,c):\n",
    "    print(\"a function with three args\")\n",
    "    return a-b-c\n",
    "\n",
    "@dispatch(int, int, int, int)\n",
    "def product(a,b,c,d):\n",
    "    print(\"a function with four args\")\n",
    "    return a+b+c+d\n",
    "\n",
    "\n",
    "print(product(4,2,3,1))\n",
    "print(product(4,2,3))\n",
    "print(product(4,2))"
   ]
  },
  {
   "cell_type": "code",
   "execution_count": 164,
   "id": "650cc491-7b8b-4f32-bb8e-444fbd34e2f5",
   "metadata": {},
   "outputs": [
    {
     "data": {
      "text/plain": [
       "'this is child class message'"
      ]
     },
     "execution_count": 164,
     "metadata": {},
     "output_type": "execute_result"
    }
   ],
   "source": [
    "# method overriding\n",
    "\n",
    "class A:\n",
    "    def show(self):\n",
    "        return \"this is a Class message\"\n",
    "\n",
    "\n",
    "class B(A):\n",
    "    def show(self):\n",
    "        \"\"\"\n",
    "        if the super class and the sub class having\n",
    "        the same instance method name always child class instance method only will\n",
    "        work. This will allow us to add more functionalities\n",
    "        \"\"\"\n",
    "        \n",
    "        return \"this is child class message\"\n",
    "\n",
    "\n",
    "obj = B()\n",
    "obj.show()\n"
   ]
  },
  {
   "cell_type": "code",
   "execution_count": 165,
   "id": "2c531945-96b9-4986-8b8e-ccb1347b4df5",
   "metadata": {},
   "outputs": [
    {
     "name": "stdout",
     "output_type": "stream",
     "text": [
      "this is a Class message\n"
     ]
    },
    {
     "data": {
      "text/plain": [
       "'this is child class message'"
      ]
     },
     "execution_count": 165,
     "metadata": {},
     "output_type": "execute_result"
    }
   ],
   "source": [
    "# overloading in the inheritence level\n",
    "\n",
    "class A:\n",
    "    def show(self):\n",
    "        return \"this is a Class message\"\n",
    "\n",
    "\n",
    "class B(A):\n",
    "    def show(self):\n",
    "        print(super().show())\n",
    "        return \"this is child class message\"\n",
    "\n",
    "\n",
    "obj = B()\n",
    "obj.show()"
   ]
  },
  {
   "cell_type": "code",
   "execution_count": 166,
   "id": "121dcb51-8092-4982-911f-12af08ca5ded",
   "metadata": {},
   "outputs": [
    {
     "name": "stdout",
     "output_type": "stream",
     "text": [
      "4\n",
      "8\n"
     ]
    },
    {
     "ename": "TypeError",
     "evalue": "unsupported operand type(s) for +: 'Test1' and 'Test1'",
     "output_type": "error",
     "traceback": [
      "\u001b[1;31m---------------------------------------------------------------------------\u001b[0m",
      "\u001b[1;31mTypeError\u001b[0m                                 Traceback (most recent call last)",
      "Cell \u001b[1;32mIn[166], line 11\u001b[0m\n\u001b[0;32m      8\u001b[0m \u001b[38;5;28mprint\u001b[39m(obj1\u001b[38;5;241m.\u001b[39mx)\n\u001b[0;32m      9\u001b[0m \u001b[38;5;28mprint\u001b[39m(obj2\u001b[38;5;241m.\u001b[39mx)\n\u001b[1;32m---> 11\u001b[0m \u001b[43mobj1\u001b[49m\u001b[38;5;241;43m+\u001b[39;49m\u001b[43mobj2\u001b[49m \u001b[38;5;66;03m# we cannot  perform arithmetci ope in between two class obj\u001b[39;00m\n",
      "\u001b[1;31mTypeError\u001b[0m: unsupported operand type(s) for +: 'Test1' and 'Test1'"
     ]
    }
   ],
   "source": [
    "\n",
    "class Test1:\n",
    "    def __init__(self,x):\n",
    "        self.x = x\n",
    "\n",
    "\n",
    "obj1 = Test1(4)\n",
    "obj2 = Test1(8)\n",
    "print(obj1.x)\n",
    "print(obj2.x)\n",
    "\n",
    "obj1+obj2 # we cannot  perform arithmetci ope in between two class obj"
   ]
  },
  {
   "cell_type": "code",
   "execution_count": 167,
   "id": "a436564f-20ef-4c71-a70c-6126c9ea992c",
   "metadata": {},
   "outputs": [
    {
     "name": "stdout",
     "output_type": "stream",
     "text": [
      "12\n",
      "-4\n"
     ]
    }
   ],
   "source": [
    "#operator overloading\n",
    "\n",
    "class Test1:\n",
    "    def __init__(self,x):\n",
    "        self.x = x\n",
    "\n",
    "    def __add__(self, other):\n",
    "        return self.x+other.x\n",
    "\n",
    "    def __sub__(self, other):\n",
    "        return self.x-other.x\n",
    "        \n",
    "obj1 = Test1(4)\n",
    "obj2 = Test1(8)\n",
    "\n",
    "print(obj1+obj2)# when we perform + operator inbetween two objects it will trigger the __add__ constructor\n",
    "print(obj1-obj2)"
   ]
  },
  {
   "cell_type": "code",
   "execution_count": 6,
   "id": "bba85bc2-8c10-4877-a6fc-4cf3a8e9968b",
   "metadata": {},
   "outputs": [
    {
     "data": {
      "text/plain": [
       "(-4, 0.5)"
      ]
     },
     "execution_count": 6,
     "metadata": {},
     "output_type": "execute_result"
    }
   ],
   "source": [
    "# operator overriding\n",
    "class Test1:\n",
    "    def __init__(self,x):\n",
    "        self.x = x\n",
    "\n",
    "    def __add__(self, other):\n",
    "        return self.x - other.x, self.x/other.x\n",
    "\n",
    "obj1 = Test1(4)\n",
    "obj2 = Test1(8)\n",
    "\n",
    "obj1+obj2"
   ]
  },
  {
   "cell_type": "code",
   "execution_count": 169,
   "id": "6e941c07-c36f-427c-ab10-44f6ba433df0",
   "metadata": {},
   "outputs": [
    {
     "data": {
      "text/plain": [
       "12"
      ]
     },
     "execution_count": 169,
     "metadata": {},
     "output_type": "execute_result"
    }
   ],
   "source": [
    "class Test1:\n",
    "    def add(self, a,b):\n",
    "        return a+b\n",
    "    def add(self, a,b,c):\n",
    "        return a+b+c\n",
    "    def add(self, a,b,c,d):\n",
    "        return a+b+c+d\n",
    "\n",
    "obj = Test1()\n",
    "obj.add(2,4, 4,2)"
   ]
  },
  {
   "cell_type": "code",
   "execution_count": 170,
   "id": "8043fad1-bd53-4307-b665-55e2a5d097c5",
   "metadata": {},
   "outputs": [
    {
     "name": "stdout",
     "output_type": "stream",
     "text": [
      "11\n",
      "6\n",
      "2\n"
     ]
    }
   ],
   "source": [
    "# with in a class method overloading\n",
    "class Test1:\n",
    "    def add(self, a=None,b=None, c=None):\n",
    "        if a!=None and b != None and c != None:\n",
    "            return a+b+c\n",
    "        elif a!=None and b!=None:\n",
    "            return a+b\n",
    "        else:\n",
    "            return a\n",
    "    \n",
    "\n",
    "obj = Test1()\n",
    "print(obj.add(2,4,5))\n",
    "print(obj.add(2,4))\n",
    "print(obj.add(2))"
   ]
  },
  {
   "cell_type": "code",
   "execution_count": 14,
   "id": "8f5dcebd-9c3d-4558-a690-3c50e9904db1",
   "metadata": {},
   "outputs": [
    {
     "name": "stdout",
     "output_type": "stream",
     "text": [
      "duck has 2 legs\n",
      "Tiger has 4 legs\n",
      "fish has no legs\n",
      "spider has 8 legs\n"
     ]
    }
   ],
   "source": [
    "# duck typing\n",
    "\n",
    "\n",
    "class Duck:\n",
    "    def legs(self):\n",
    "        print(\"duck has 2 legs\")\n",
    "\n",
    "\n",
    "class Tiger:\n",
    "    def legs(self):\n",
    "        print(\"Tiger has 4 legs\")\n",
    "\n",
    "\n",
    "\n",
    "class Fish:\n",
    "    def legs(self):\n",
    "        print(\"fish has no legs\")\n",
    "\n",
    "\n",
    "\n",
    "class spider:\n",
    "    def legs(self):\n",
    "        print(\"spider has 8 legs\")\n",
    "\n",
    "\n",
    "for obj in [Duck(), Tiger(), Fish(), spider()]:\n",
    "    obj.legs()"
   ]
  },
  {
   "cell_type": "code",
   "execution_count": 171,
   "id": "8715a982-1b2c-4008-a013-510c703a6408",
   "metadata": {},
   "outputs": [
    {
     "data": {
      "text/plain": [
       "False"
      ]
     },
     "execution_count": 171,
     "metadata": {},
     "output_type": "execute_result"
    }
   ],
   "source": [
    "# function any and all \n",
    "\n",
    "#all -- if we want to check every element in a seq  shoud be true\n",
    "\n",
    "l1 = [12,23,45,6,0,'']\n",
    "all(l1)"
   ]
  },
  {
   "cell_type": "code",
   "execution_count": 172,
   "id": "90a7ae93-aba3-4fd7-b4e7-f0b5384631f4",
   "metadata": {},
   "outputs": [
    {
     "data": {
      "text/plain": [
       "True"
      ]
     },
     "execution_count": 172,
     "metadata": {},
     "output_type": "execute_result"
    }
   ],
   "source": [
    "# function any and all \n",
    "\n",
    "#all -- if we want to check every element in a seq  shoud be true\n",
    "\n",
    "l1 = [12,23,45,6]\n",
    "all(l1)"
   ]
  },
  {
   "cell_type": "code",
   "execution_count": 173,
   "id": "52bc6f0c-35cd-4e80-98cc-1ddbf96dbdc9",
   "metadata": {},
   "outputs": [
    {
     "name": "stdout",
     "output_type": "stream",
     "text": [
      "[0, None, (), '']\n",
      "4\n",
      "8\n",
      "9\n",
      "10\n"
     ]
    }
   ],
   "source": [
    "# function any and all \n",
    "\n",
    "#all -- if we want to check every element in a seq  shoud be true\n",
    "\n",
    "l1 = [12,23,45,6,0,2,5,9,None,(),\"\" ]\n",
    "false_values = [i for i in l1 if bool(i) == False]\n",
    "print(false_values)\n",
    "\n",
    "for val in false_values:\n",
    "    print(l1.index(val))\n",
    "#all(l1)"
   ]
  },
  {
   "cell_type": "code",
   "execution_count": 174,
   "id": "ecdf3990-432d-470c-862b-399021860826",
   "metadata": {},
   "outputs": [
    {
     "data": {
      "text/plain": [
       "False"
      ]
     },
     "execution_count": 174,
     "metadata": {},
     "output_type": "execute_result"
    }
   ],
   "source": [
    "#any -- if we want to check at least anyone value true we can consider that as a true value\n",
    "l1 = [0, None, []]\n",
    "\n",
    "any(l1)"
   ]
  },
  {
   "cell_type": "code",
   "execution_count": 175,
   "id": "da28c45e-3919-43e4-8c48-50435488e1eb",
   "metadata": {},
   "outputs": [
    {
     "data": {
      "text/plain": [
       "True"
      ]
     },
     "execution_count": 175,
     "metadata": {},
     "output_type": "execute_result"
    }
   ],
   "source": [
    "#any -- if we want to check at least anyone value true we can consider that as a true value\n",
    "l1 = [0, None, [3]]\n",
    "\n",
    "any(l1)"
   ]
  },
  {
   "cell_type": "markdown",
   "id": "ba3f1af8-6ec2-4b6f-afd3-6dd653088dfd",
   "metadata": {},
   "source": [
    "# iterators\n",
    "    an object that allows you to traverse through all the element of the sequence\n",
    "    one element at a time without needing know the underlying memory or data type"
   ]
  },
  {
   "cell_type": "code",
   "execution_count": 1,
   "id": "0f966be8-7259-4fba-99e8-75735e973b1f",
   "metadata": {},
   "outputs": [
    {
     "data": {
      "text/plain": [
       "3"
      ]
     },
     "execution_count": 1,
     "metadata": {},
     "output_type": "execute_result"
    }
   ],
   "source": [
    "# iter -- will convert a sequence into an iterable object\n",
    "# the loops they will create a explicit variable and store every value of the sequence anc consume memory\n",
    "\n",
    "l1 = [3,2,6,4]\n",
    "obj = iter(l1)\n",
    "next(obj)"
   ]
  },
  {
   "cell_type": "code",
   "execution_count": 2,
   "id": "a9d2b52b-6ea4-4823-a7d9-1e64f381caa5",
   "metadata": {},
   "outputs": [
    {
     "data": {
      "text/plain": [
       "2"
      ]
     },
     "execution_count": 2,
     "metadata": {},
     "output_type": "execute_result"
    }
   ],
   "source": [
    "next(obj)"
   ]
  },
  {
   "cell_type": "code",
   "execution_count": 3,
   "id": "ca9d3892-c7f5-49d4-b869-3e7b2babb6db",
   "metadata": {},
   "outputs": [
    {
     "data": {
      "text/plain": [
       "6"
      ]
     },
     "execution_count": 3,
     "metadata": {},
     "output_type": "execute_result"
    }
   ],
   "source": [
    "next(obj)"
   ]
  },
  {
   "cell_type": "code",
   "execution_count": 4,
   "id": "2d478481-324e-48ce-8edf-712242dcf858",
   "metadata": {},
   "outputs": [
    {
     "data": {
      "text/plain": [
       "4"
      ]
     },
     "execution_count": 4,
     "metadata": {},
     "output_type": "execute_result"
    }
   ],
   "source": [
    "next(obj)"
   ]
  },
  {
   "cell_type": "code",
   "execution_count": 5,
   "id": "94c525b1-3eb8-4dd4-8ae4-a546b94bdb9c",
   "metadata": {},
   "outputs": [
    {
     "ename": "StopIteration",
     "evalue": "",
     "output_type": "error",
     "traceback": [
      "\u001b[1;31m---------------------------------------------------------------------------\u001b[0m",
      "\u001b[1;31mStopIteration\u001b[0m                             Traceback (most recent call last)",
      "Cell \u001b[1;32mIn[5], line 1\u001b[0m\n\u001b[1;32m----> 1\u001b[0m \u001b[38;5;28;43mnext\u001b[39;49m\u001b[43m(\u001b[49m\u001b[43mobj\u001b[49m\u001b[43m)\u001b[49m\n",
      "\u001b[1;31mStopIteration\u001b[0m: "
     ]
    }
   ],
   "source": [
    "next(obj)"
   ]
  },
  {
   "cell_type": "code",
   "execution_count": 6,
   "id": "c9a9d15d-0bfb-465b-bc3c-08064b206b17",
   "metadata": {},
   "outputs": [
    {
     "data": {
      "text/plain": [
       "'h'"
      ]
     },
     "execution_count": 6,
     "metadata": {},
     "output_type": "execute_result"
    }
   ],
   "source": [
    "l1 = \"hello\"\n",
    "obj = iter(l1)\n",
    "next(obj)"
   ]
  },
  {
   "cell_type": "markdown",
   "id": "e5389453-0851-41cd-91c9-e2b3eced8e55",
   "metadata": {},
   "source": [
    "# Generaors:\n",
    "     a type of iterables that allow us to generate values one at a time as we iterate through them, instead of string them all in\n",
    "     memory at once.\n",
    "     they are usefule for handling alrge datasets or streams of data efficiently\n",
    "     values are produced only when they needed"
   ]
  },
  {
   "cell_type": "code",
   "execution_count": 7,
   "id": "02848a2a-5b59-40d6-9826-803d9c7fbaee",
   "metadata": {},
   "outputs": [
    {
     "ename": "TypeError",
     "evalue": "'int' object is not iterable",
     "output_type": "error",
     "traceback": [
      "\u001b[1;31m---------------------------------------------------------------------------\u001b[0m",
      "\u001b[1;31mTypeError\u001b[0m                                 Traceback (most recent call last)",
      "Cell \u001b[1;32mIn[7], line 6\u001b[0m\n\u001b[0;32m      3\u001b[0m \u001b[38;5;28;01mdef\u001b[39;00m \u001b[38;5;21mfun\u001b[39m():\n\u001b[0;32m      4\u001b[0m     \u001b[38;5;28;01mreturn\u001b[39;00m \u001b[38;5;241m3\u001b[39m\n\u001b[1;32m----> 6\u001b[0m \u001b[38;5;28;01mfor\u001b[39;00m i \u001b[38;5;129;01min\u001b[39;00m fun():\n\u001b[0;32m      7\u001b[0m     \u001b[38;5;28mprint\u001b[39m(i)\n",
      "\u001b[1;31mTypeError\u001b[0m: 'int' object is not iterable"
     ]
    }
   ],
   "source": [
    "# generators are concised way of create iterator memory efficient way\n",
    "\n",
    "def fun():\n",
    "    return 3\n",
    "\n",
    "for i in fun():\n",
    "    print(i)"
   ]
  },
  {
   "cell_type": "code",
   "execution_count": 8,
   "id": "0c9134ea-e33f-4cc2-b872-1250c65cfff7",
   "metadata": {},
   "outputs": [
    {
     "name": "stdout",
     "output_type": "stream",
     "text": [
      "3\n",
      "5\n",
      "9\n"
     ]
    }
   ],
   "source": [
    "def fun():\n",
    "    yield 3\n",
    "    yield 5\n",
    "    yield 9\n",
    "\n",
    "for i in fun():\n",
    "    print(i)"
   ]
  },
  {
   "cell_type": "markdown",
   "id": "d62638b2-cf69-4ba8-9105-268cf8a2a948",
   "metadata": {},
   "source": [
    "# Difference between Generator and Functions\n",
    "\n",
    "    Functions:\n",
    "        use return to return a single value\n",
    "        start the execution from the beginning each time\n",
    "        suitable for computations requiring the entire function\n",
    "        execution and all the values at once\n",
    "\n",
    "    generators:\n",
    "        use yield to produce values\n",
    "        maintain state between calls\n",
    "        Suitable for streaming large datasets"
   ]
  },
  {
   "cell_type": "code",
   "execution_count": 9,
   "id": "4a7954c5-fe36-4beb-a0a3-a4e5cac5df54",
   "metadata": {},
   "outputs": [
    {
     "name": "stdout",
     "output_type": "stream",
     "text": [
      "1\n",
      "2\n",
      "3\n"
     ]
    }
   ],
   "source": [
    "def my_generator():\n",
    "    \"\"\"\n",
    "    the yield keyword pauses the function, save its current state\n",
    "    when the function is getting called again, it resumes executions from where it\n",
    "    left off\n",
    "    \"\"\"\n",
    "    \n",
    "    yield 1\n",
    "    yield 2\n",
    "    yield 3\n",
    "\n",
    "obj = my_generator()\n",
    "\n",
    "print(next(obj))\n",
    "print(next(obj))\n",
    "print(next(obj))"
   ]
  },
  {
   "cell_type": "code",
   "execution_count": 9,
   "id": "013f90e0-cdb9-4370-a997-be6570f5dc14",
   "metadata": {},
   "outputs": [
    {
     "data": {
      "text/plain": [
       "0"
      ]
     },
     "execution_count": 9,
     "metadata": {},
     "output_type": "execute_result"
    }
   ],
   "source": [
    "gen1 = (x*2 for x in range(5))\n",
    "\n",
    "next(gen1)"
   ]
  },
  {
   "cell_type": "code",
   "execution_count": 10,
   "id": "9f2146e8-31cd-40f5-9f1c-92a466406eb5",
   "metadata": {},
   "outputs": [
    {
     "data": {
      "text/plain": [
       "2"
      ]
     },
     "execution_count": 10,
     "metadata": {},
     "output_type": "execute_result"
    }
   ],
   "source": [
    "next(gen1)\n"
   ]
  },
  {
   "cell_type": "code",
   "execution_count": 11,
   "id": "dd120068-3b02-492b-a773-c99525db7515",
   "metadata": {},
   "outputs": [
    {
     "data": {
      "text/plain": [
       "4"
      ]
     },
     "execution_count": 11,
     "metadata": {},
     "output_type": "execute_result"
    }
   ],
   "source": [
    "next(gen1)"
   ]
  },
  {
   "cell_type": "code",
   "execution_count": 12,
   "id": "3580c8f4-7dfc-45b7-a09e-adf069072677",
   "metadata": {},
   "outputs": [
    {
     "data": {
      "text/plain": [
       "6"
      ]
     },
     "execution_count": 12,
     "metadata": {},
     "output_type": "execute_result"
    }
   ],
   "source": [
    "next(gen1)"
   ]
  },
  {
   "cell_type": "code",
   "execution_count": 13,
   "id": "185e8651-367a-460c-a190-2aa48b8be590",
   "metadata": {},
   "outputs": [
    {
     "name": "stdout",
     "output_type": "stream",
     "text": [
      "0\n",
      "1\n",
      "1\n",
      "2\n",
      "3\n",
      "5\n",
      "8\n",
      "13\n",
      "21\n",
      "34\n",
      "55\n",
      "89\n",
      "144\n",
      "233\n",
      "377\n",
      "610\n",
      "987\n",
      "1597\n"
     ]
    }
   ],
   "source": [
    "\n",
    "def fib(n):\n",
    "    a,b = 0,1\n",
    "    while a<n:\n",
    "        yield a\n",
    "        a,b = b,a+b\n",
    "\n",
    "\n",
    "for i in fib(2000):\n",
    "    print(i)"
   ]
  },
  {
   "cell_type": "code",
   "execution_count": 15,
   "id": "5f1be4d8-b74e-4853-ac06-42939512a0fa",
   "metadata": {},
   "outputs": [
    {
     "data": {
      "text/plain": [
       "4"
      ]
     },
     "execution_count": 15,
     "metadata": {},
     "output_type": "execute_result"
    }
   ],
   "source": [
    "from collections import *\n",
    "\n",
    "\"\"\"\n",
    "named tuple -- its like a regular tuple but provides named fields to access the data of the tuple\n",
    "for better readability\n",
    "\"\"\"\n",
    "\n",
    "\n",
    "# namedtuple allow to access tuple records using keys\n",
    "std = namedtuple(\"std\", [\"name\", \"id\", \"city\"])  # defining the keys for the tuple\n",
    "s1 = std(\"user1\", 4, \"bengaluru\")\n",
    "\n",
    "s1[1]"
   ]
  },
  {
   "cell_type": "code",
   "execution_count": 16,
   "id": "0f84fd87-2e88-4c39-9022-5c9d4b1fa8ec",
   "metadata": {},
   "outputs": [
    {
     "data": {
      "text/plain": [
       "'bengaluru'"
      ]
     },
     "execution_count": 16,
     "metadata": {},
     "output_type": "execute_result"
    }
   ],
   "source": [
    "s1.city"
   ]
  },
  {
   "cell_type": "code",
   "execution_count": 1,
   "id": "e20aa72b-9a8e-4abb-b096-8c50c07dcd06",
   "metadata": {},
   "outputs": [
    {
     "data": {
      "text/plain": [
       "['ChainMap',\n",
       " 'Counter',\n",
       " 'OrderedDict',\n",
       " 'UserDict',\n",
       " 'UserList',\n",
       " 'UserString',\n",
       " '_Link',\n",
       " '_OrderedDictItemsView',\n",
       " '_OrderedDictKeysView',\n",
       " '_OrderedDictValuesView',\n",
       " '__all__',\n",
       " '__builtins__',\n",
       " '__cached__',\n",
       " '__doc__',\n",
       " '__file__',\n",
       " '__loader__',\n",
       " '__name__',\n",
       " '__package__',\n",
       " '__path__',\n",
       " '__spec__',\n",
       " '_chain',\n",
       " '_collections_abc',\n",
       " '_count_elements',\n",
       " '_eq',\n",
       " '_iskeyword',\n",
       " '_itemgetter',\n",
       " '_proxy',\n",
       " '_recursive_repr',\n",
       " '_repeat',\n",
       " '_starmap',\n",
       " '_sys',\n",
       " '_tuplegetter',\n",
       " 'abc',\n",
       " 'defaultdict',\n",
       " 'deque',\n",
       " 'namedtuple']"
      ]
     },
     "execution_count": 1,
     "metadata": {},
     "output_type": "execute_result"
    }
   ],
   "source": [
    "import collections\n",
    "dir(collections)"
   ]
  },
  {
   "cell_type": "code",
   "execution_count": 17,
   "id": "090f6691-db11-4e8a-aa08-063afd8fd010",
   "metadata": {},
   "outputs": [
    {
     "name": "stdout",
     "output_type": "stream",
     "text": [
      "OrderedDict([('a', 'apple'), ('b', 'banana'), ('c', 'cherry')])\n",
      "OrderedDict([('b', 'banana'), ('c', 'cherry')])\n"
     ]
    }
   ],
   "source": [
    "#OrderedDict -- a dictionary that remembers the incoming outgoing actions\n",
    "# preserves the insetion order\n",
    "d1 = OrderedDict({\"a\":\"apple\", \"b\":\"banana\", \"c\":\"cherry\"})\n",
    "\n",
    "print(d1)\n",
    "d1.pop(\"a\")\n",
    "print(d1)"
   ]
  },
  {
   "cell_type": "code",
   "execution_count": 18,
   "id": "58cfe882-eacf-4c9d-8f4d-85c18cfab57c",
   "metadata": {},
   "outputs": [
    {
     "data": {
      "text/plain": [
       "OrderedDict([('b', 'banana'), ('c', 'cherry'), ('a', 'jackfruit')])"
      ]
     },
     "execution_count": 18,
     "metadata": {},
     "output_type": "execute_result"
    }
   ],
   "source": [
    "d1[\"a\"] = \"jackfruit\"\n",
    "d1"
   ]
  },
  {
   "cell_type": "code",
   "execution_count": 19,
   "id": "d6bd22ba-b2ff-4c34-8de4-fa7213c8a7fc",
   "metadata": {},
   "outputs": [
    {
     "data": {
      "text/plain": [
       "defaultdict(<function __main__.<lambda>()>, {'a': 90, 'b': 30, 'c': 12})"
      ]
     },
     "execution_count": 19,
     "metadata": {},
     "output_type": "execute_result"
    }
   ],
   "source": [
    "#defaultdict -- a dictionary that never throws an error but returns default value\n",
    "\n",
    "dd = defaultdict(lambda : 50)\n",
    "dd[\"a\"] = 90\n",
    "dd[\"b\"] = 30\n",
    "dd[\"c\"] = 12\n",
    "\n",
    "dd\n"
   ]
  },
  {
   "cell_type": "code",
   "execution_count": 20,
   "id": "e95df801-a9ea-46dd-98d3-a15b09ee64c8",
   "metadata": {},
   "outputs": [
    {
     "data": {
      "text/plain": [
       "50"
      ]
     },
     "execution_count": 20,
     "metadata": {},
     "output_type": "execute_result"
    }
   ],
   "source": [
    "dd[\"m\"]"
   ]
  },
  {
   "cell_type": "code",
   "execution_count": 21,
   "id": "9cb5f62f-4ff2-4d7a-a6f1-a3957368da2e",
   "metadata": {},
   "outputs": [
    {
     "data": {
      "text/plain": [
       "90"
      ]
     },
     "execution_count": 21,
     "metadata": {},
     "output_type": "execute_result"
    }
   ],
   "source": [
    "dd[\"a\"]"
   ]
  },
  {
   "cell_type": "code",
   "execution_count": 23,
   "id": "772e4bf8-5abb-44c2-bfe6-0f3be6d95ab3",
   "metadata": {},
   "outputs": [
    {
     "ename": "TypeError",
     "evalue": "unsupported operand type(s) for +: 'dict' and 'dict'",
     "output_type": "error",
     "traceback": [
      "\u001b[1;31m---------------------------------------------------------------------------\u001b[0m",
      "\u001b[1;31mTypeError\u001b[0m                                 Traceback (most recent call last)",
      "Cell \u001b[1;32mIn[23], line 3\u001b[0m\n\u001b[0;32m      1\u001b[0m d1 \u001b[38;5;241m=\u001b[39m {\u001b[38;5;124m\"\u001b[39m\u001b[38;5;124ma\u001b[39m\u001b[38;5;124m\"\u001b[39m:\u001b[38;5;124m\"\u001b[39m\u001b[38;5;124mapple\u001b[39m\u001b[38;5;124m\"\u001b[39m, \u001b[38;5;124m\"\u001b[39m\u001b[38;5;124mb\u001b[39m\u001b[38;5;124m\"\u001b[39m:\u001b[38;5;124m\"\u001b[39m\u001b[38;5;124mbanana\u001b[39m\u001b[38;5;124m\"\u001b[39m, \u001b[38;5;124m\"\u001b[39m\u001b[38;5;124mc\u001b[39m\u001b[38;5;124m\"\u001b[39m:\u001b[38;5;124m\"\u001b[39m\u001b[38;5;124mcherry\u001b[39m\u001b[38;5;124m\"\u001b[39m}\n\u001b[0;32m      2\u001b[0m d2 \u001b[38;5;241m=\u001b[39m {\u001b[38;5;124m\"\u001b[39m\u001b[38;5;124me\u001b[39m\u001b[38;5;124m\"\u001b[39m:\u001b[38;5;124m\"\u001b[39m\u001b[38;5;124melephant\u001b[39m\u001b[38;5;124m\"\u001b[39m, \u001b[38;5;124m\"\u001b[39m\u001b[38;5;124mf\u001b[39m\u001b[38;5;124m\"\u001b[39m:\u001b[38;5;124m\"\u001b[39m\u001b[38;5;124mfruit\u001b[39m\u001b[38;5;124m\"\u001b[39m}\n\u001b[1;32m----> 3\u001b[0m \u001b[43md1\u001b[49m\u001b[38;5;241;43m+\u001b[39;49m\u001b[43md2\u001b[49m\n",
      "\u001b[1;31mTypeError\u001b[0m: unsupported operand type(s) for +: 'dict' and 'dict'"
     ]
    }
   ],
   "source": [
    "d1 = {\"a\":\"apple\", \"b\":\"banana\", \"c\":\"cherry\"}\n",
    "d2 = {\"e\":\"elephant\", \"f\":\"fruit\"}\n",
    "d1+d2\n"
   ]
  },
  {
   "cell_type": "code",
   "execution_count": 25,
   "id": "f85404ea-bad9-4add-ab58-7e554a9f3265",
   "metadata": {},
   "outputs": [
    {
     "data": {
      "text/plain": [
       "{'a': 'apple', 'b': 'banana', 'c': 'cherry', 'e': 'elephant', 'f': 'fruit'}"
      ]
     },
     "execution_count": 25,
     "metadata": {},
     "output_type": "execute_result"
    }
   ],
   "source": [
    "d1|d2"
   ]
  },
  {
   "cell_type": "code",
   "execution_count": 26,
   "id": "b1dd90d8-3753-43d9-b20f-1af873d52f3f",
   "metadata": {},
   "outputs": [
    {
     "data": {
      "text/plain": [
       "ChainMap({'a': 'apple', 'b': 'banana', 'c': 'cherry'}, {'e': 'elephant', 'f': 'fruit'})"
      ]
     },
     "execution_count": 26,
     "metadata": {},
     "output_type": "execute_result"
    }
   ],
   "source": [
    "# allow us to groups multiple dictionaries into a single logical view\n",
    "ChainMap(d1,d2)  # will bring more than one dictionary in a tuple"
   ]
  },
  {
   "cell_type": "code",
   "execution_count": 27,
   "id": "6ea55fd4-a1dc-4a20-a672-689c981dd737",
   "metadata": {},
   "outputs": [
    {
     "data": {
      "text/plain": [
       "3"
      ]
     },
     "execution_count": 27,
     "metadata": {},
     "output_type": "execute_result"
    }
   ],
   "source": [
    "#deque -- it will add or remove the data from start also\n",
    "\n",
    "l1 = deque([3,2,6,4])\n",
    "l1.popleft()"
   ]
  },
  {
   "cell_type": "code",
   "execution_count": 28,
   "id": "adf17f4e-000e-4399-a6e8-b9d1472339e8",
   "metadata": {},
   "outputs": [],
   "source": [
    "l1.appendleft(8)"
   ]
  },
  {
   "cell_type": "code",
   "execution_count": 29,
   "id": "ac4f5343-4be5-43ac-9e31-faa542ee1216",
   "metadata": {},
   "outputs": [
    {
     "data": {
      "text/plain": [
       "deque([8, 2, 6, 4])"
      ]
     },
     "execution_count": 29,
     "metadata": {},
     "output_type": "execute_result"
    }
   ],
   "source": [
    "l1"
   ]
  },
  {
   "cell_type": "code",
   "execution_count": 1,
   "id": "1ca80529-0a5f-4c64-bc0a-5c66babfe648",
   "metadata": {},
   "outputs": [
    {
     "data": {
      "text/plain": [
       "Counter({1: 3, 2: 3, 3: 3, 4: 2, 5: 2})"
      ]
     },
     "execution_count": 1,
     "metadata": {},
     "output_type": "execute_result"
    }
   ],
   "source": [
    "# Counter  -- it will return each element occurance count\n",
    "import collections\n",
    "\n",
    "l1 = [1,2,3,4,5,1,2,3,4,5,1,2,3]\n",
    "collections.Counter(l1)"
   ]
  },
  {
   "cell_type": "code",
   "execution_count": 3,
   "id": "d8f49cf4-6193-4b58-9d66-d18881973de2",
   "metadata": {},
   "outputs": [
    {
     "data": {
      "text/plain": [
       "KeysView({'apple': 34, 'banana': 23, 'cherry': 90})"
      ]
     },
     "execution_count": 3,
     "metadata": {},
     "output_type": "execute_result"
    }
   ],
   "source": [
    "# to customize the a dictionary according  to our wish we use \"UserDict\"\n",
    "\n",
    "from collections import *\n",
    "\n",
    "class CustomDict(UserDict):\n",
    "    def popitem(self):\n",
    "        \"\"\"\n",
    "        disabling the popitem from our customized dictionary\n",
    "        \"\"\"\n",
    "        raise RuntimeError(\"you are not authorized to remove any data from my dictionary\")\n",
    "\n",
    "    def add_values(self):\n",
    "        \"\"\"\n",
    "        introducing a new key into the dictionary\n",
    "        \"\"\"\n",
    "        result = []\n",
    "        for key in self:\n",
    "            result.append(self[key])\n",
    "\n",
    "        return sum(result)\n",
    "\n",
    "\n",
    "cd_1 = CustomDict({\"apple\":34, \"banana\":23, \"cherry\":90})\n",
    "\n",
    "#cd_1.popitem()\n",
    "\n",
    "cd_1.keys()"
   ]
  },
  {
   "cell_type": "code",
   "execution_count": 4,
   "id": "617b5883-644b-4b6f-a355-16eb64692b36",
   "metadata": {},
   "outputs": [
    {
     "data": {
      "text/plain": [
       "147"
      ]
     },
     "execution_count": 4,
     "metadata": {},
     "output_type": "execute_result"
    }
   ],
   "source": [
    "cd_1.add_values()"
   ]
  },
  {
   "cell_type": "code",
   "execution_count": 6,
   "id": "a4884c0b-1700-45f3-9a8e-e246863e89d0",
   "metadata": {},
   "outputs": [
    {
     "name": "stdout",
     "output_type": "stream",
     "text": [
      "adding new elements are prohibited in my list\n"
     ]
    }
   ],
   "source": [
    "class CustomList(UserList):\n",
    "    def append(self, a = None):\n",
    "        \"\"\"\n",
    "        disabling the append method\n",
    "        \"\"\"\n",
    "        print(\"adding new elements are prohibited in my list\")\n",
    "\n",
    "    def multitwo(self):\n",
    "        \"\"\"\n",
    "        introducting a method that will multiply all the elements in the list\n",
    "        \"\"\"\n",
    "        result = []\n",
    "        for i in self:\n",
    "            result.append(i*2)\n",
    "        return result\n",
    "\n",
    "\n",
    "obj = CustomList([5,2,7,9,1,45])\n",
    "\n",
    "obj.append(90)\n",
    "        "
   ]
  },
  {
   "cell_type": "code",
   "execution_count": 7,
   "id": "e4d9db3d-0cb5-4437-9ff1-5c05a5f8fb91",
   "metadata": {},
   "outputs": [
    {
     "data": {
      "text/plain": [
       "CustomList([5, 2, 7, 9, 1, 45])"
      ]
     },
     "execution_count": 7,
     "metadata": {},
     "output_type": "execute_result"
    }
   ],
   "source": [
    "obj"
   ]
  },
  {
   "cell_type": "code",
   "execution_count": 8,
   "id": "f650904c-5163-4304-b132-bc1f7262c9c5",
   "metadata": {},
   "outputs": [
    {
     "data": {
      "text/plain": [
       "[10, 4, 14, 18, 2, 90]"
      ]
     },
     "execution_count": 8,
     "metadata": {},
     "output_type": "execute_result"
    }
   ],
   "source": [
    "obj.multitwo()"
   ]
  },
  {
   "cell_type": "code",
   "execution_count": 1,
   "id": "0b709261-41e6-4135-aff3-902da6d64a70",
   "metadata": {},
   "outputs": [],
   "source": [
    "# in python if we want to create basic ui we have a inbuild library called tkinter\n",
    "\n",
    "import tkinter as tk\n",
    "\n",
    "window = tk.Tk()  # a basic layout\n",
    "\n",
    "window.title(\"basic python UI\")\n",
    "\n",
    "window.mainloop()"
   ]
  },
  {
   "cell_type": "code",
   "execution_count": 2,
   "id": "182482b6-0f40-4be6-bdb8-e0ee160eb87e",
   "metadata": {},
   "outputs": [],
   "source": [
    "import tkinter as tk\n",
    "\n",
    "window = tk.Tk()  # a basic layout\n",
    "\n",
    "window.title(\"basic python UI\")\n",
    "\n",
    "Label = tk.Label(window, text = \"Hello this is Python Tkinter GUI\", font = (\"Arial\", 12))\n",
    "Label.pack()\n",
    "\n",
    "window.mainloop()"
   ]
  },
  {
   "cell_type": "code",
   "execution_count": 3,
   "id": "37dbb0d9-ab2f-43e3-9c5a-23eb8467796a",
   "metadata": {},
   "outputs": [],
   "source": [
    "import tkinter as tk\n",
    "\n",
    "window = tk.Tk()  # a basic layout\n",
    "\n",
    "window.title(\"basic python UI\")\n",
    "window.geometry(\"500x500\") # setting the default size of the GUI\n",
    "\n",
    "Label = tk.Label(window, text = \"Hello this is Evening python batch\", font = (\"Arial\", 12))\n",
    "Label.pack()\n",
    "\n",
    "window.mainloop()"
   ]
  },
  {
   "cell_type": "code",
   "execution_count": 4,
   "id": "6b041bff-911a-4c96-8fae-b0ec67883801",
   "metadata": {},
   "outputs": [],
   "source": [
    "import tkinter as tk\n",
    "\n",
    "window = tk.Tk()  # a basic layout\n",
    "\n",
    "window.title(\"basic python UI\")\n",
    "window.geometry(\"500x500\") # setting the default size of the GUI\n",
    "\n",
    "Label = tk.Label(window, text = \"Hello this is Evening python batch\", font = (\"Arial\", 12))\n",
    "Label.pack()\n",
    "\n",
    "def fun():\n",
    "    Label.config(text = \"you clicked the button\")\n",
    "\n",
    "\n",
    "button = tk.Button(window, text = \"click here\", command = fun)\n",
    "button.pack(pady = 10)\n",
    "\n",
    "\n",
    "window.mainloop()"
   ]
  },
  {
   "cell_type": "code",
   "execution_count": 5,
   "id": "526c53f0-34b1-4180-b5c4-6424c9051595",
   "metadata": {},
   "outputs": [],
   "source": [
    "import tkinter as tk\n",
    "\n",
    "window = tk.Tk()  # a basic layout\n",
    "\n",
    "window.title(\"basic python UI\")\n",
    "window.geometry(\"500x500\") # setting the default size of the GUI\n",
    "\n",
    "Label = tk.Label(window, text = \"Hello this is Evening python batch\", font = (\"Arial\", 12))\n",
    "Label.pack()\n",
    "\n",
    "def fun():\n",
    "    Label.config(text = f\"Hello Mr. {entry.get()}\")\n",
    "\n",
    "entry = tk.Entry(window, width = 20)\n",
    "entry.pack()\n",
    "\n",
    "button = tk.Button(window, text = \"click\", command = fun)\n",
    "button.pack()\n",
    "\n",
    "window.mainloop()"
   ]
  },
  {
   "cell_type": "code",
   "execution_count": 6,
   "id": "7caf2726-596d-405d-9121-06cc18ce3dab",
   "metadata": {},
   "outputs": [],
   "source": [
    "import tkinter as tk\n",
    "\n",
    "window = tk.Tk()  # initializing a basic window\n",
    "\n",
    "window.title(\"Basic Title\")\n",
    "\n",
    "window.geometry(\"600x600\")\n",
    "\n",
    "label = tk.Label(window, text = \"This is my TK GUI message\", font = (\"Times New Roman\", 20))\n",
    "label.pack(pady = 10)\n",
    "\n",
    "def fun():\n",
    "    label.config(text = f'Hello MRs {feedback.get(\"1.0\", \"end- 1c\")}')  # get(start, end)\n",
    "\n",
    "\n",
    "feedback = tk.Text(window, height = 10, width = 20)   # bigger texts \n",
    "feedback.pack(pady = 6)\n",
    "\n",
    "# insert(\"1.o\") enter the text into the specified index\n",
    "feedback.insert(\"1.0\", \"Hello, Tkinter is a basic GUI development library \")\n",
    "\n",
    "\n",
    "button = tk.Button(window, text = \"Submit\", command = fun)\n",
    "button.pack(pady = 30)\n",
    "\n",
    "\n",
    "\n",
    "window.mainloop()"
   ]
  },
  {
   "cell_type": "code",
   "execution_count": 6,
   "id": "d18938c5-686b-460b-93c0-b467491a4dca",
   "metadata": {},
   "outputs": [],
   "source": [
    "import tkinter as tk\n",
    "from tkinter import ttk\n",
    "\n",
    "\n",
    "window = tk.Tk()\n",
    "window.title(\"Spin box\")\n",
    "window.geometry(\"400x400\")\n",
    "\n",
    "label = tk.Label(window, text = \"This is my TK GUI message\", font = (\"Times New Roman\", 20))\n",
    "label.pack(pady = 10)\n",
    "\n",
    "spin =  ttk.Spinbox(window, from_=0, to= 15, wrap = True)\n",
    "spin.pack()\n",
    "\n",
    "window.mainloop()"
   ]
  },
  {
   "cell_type": "code",
   "execution_count": 7,
   "id": "877ee9cb-3b78-485a-819d-56b630125be1",
   "metadata": {},
   "outputs": [],
   "source": [
    "import tkinter as tk\n",
    "from tkinter import messagebox\n",
    "\n",
    "\n",
    "window = tk.Tk()\n",
    "window.title(\"show box\")\n",
    "window.geometry(\"400x400\")\n",
    "\n",
    "\n",
    "label = tk.Label(window, text = \"This is my TK GUI message\", font = (\"Times New Roman\", 20))\n",
    "label.pack(pady = 10)\n",
    "\n",
    "def hello():\n",
    "    messagebox.showinfo(\"success\")\n",
    "\n",
    "\n",
    "button  = tk.Button(window, text = \"click\", command = hello)\n",
    "button.pack()    \n",
    "\n",
    "window.mainloop()"
   ]
  },
  {
   "cell_type": "code",
   "execution_count": 8,
   "id": "e1087d9b-8940-426e-8970-50979ba46cb7",
   "metadata": {},
   "outputs": [],
   "source": [
    "import tkinter as tk\n",
    "\n",
    "\n",
    "window = tk.Tk()  # creating the main window\n",
    "window.title(\"This is my first GUI\")\n",
    "window.geometry(\"500x500\")\n",
    "\n",
    "# drawing the designs \n",
    "grap = tk.Canvas(window, width = 400, height = 250, bg = \"grey\")\n",
    "grap.pack(pady=10)\n",
    "grap.create_rectangle(170,240,250,175, fill = \"red\")\n",
    "window.mainloop()"
   ]
  },
  {
   "cell_type": "code",
   "execution_count": 9,
   "id": "89333c4d-0605-4fe2-932c-c92781a78513",
   "metadata": {},
   "outputs": [],
   "source": [
    "import tkinter as tk\n",
    "from tkinter.ttk import Combobox\n",
    "\n",
    "window = tk.Tk()  # creating the main window\n",
    "window.title(\"This is my first GUI\")\n",
    "window.geometry(\"500x500\")\n",
    "\n",
    "# creating a dropdown box\n",
    "combo = Combobox(window, values = [\"apple\", \"orange\", \"banana\", \"kiwi\"])\n",
    "combo.set(\"choose the fruit\")\n",
    "combo.pack(pady = 20)\n",
    "window.mainloop()"
   ]
  },
  {
   "cell_type": "code",
   "execution_count": 1,
   "id": "1bc57555-710c-469a-9e3a-9e9da8cf370a",
   "metadata": {},
   "outputs": [],
   "source": [
    "import tkinter as tk\n",
    "\n",
    "\n",
    "window = tk.Tk()  # creating the main window\n",
    "window.title(\"This is my first GUI\")\n",
    "window.geometry(\"500x500\")\n",
    "\n",
    "# displaying  messages in the window body\n",
    "label = tk.Label(window, text = \"python based GUI development\",font = (\"Verdana\", 20))\n",
    "label.pack(pady = 20)\n",
    "\n",
    "def check_status():\n",
    "    if var.get():  # returns the current state of the box\n",
    "        label.config(text = \"Check box has been marked!!\")\n",
    "    else:\n",
    "        label.config(text = \"you have to agree the terms and conditions!!\")\n",
    "\n",
    "\n",
    "var = tk.BooleanVar()  # track the state of  the checkbutton\n",
    "checkbox = tk.Checkbutton(window, text = \"MarkHere\", variable = var, command = check_status)\n",
    "checkbox.pack(pady = 10)\n",
    "\n",
    "label = tk.Label(window, text = \"check box need to be checked\", font = (\"Arial\", 13))\n",
    "label.pack(pady = 10)\n",
    "window.mainloop()\n",
    "\n"
   ]
  },
  {
   "cell_type": "code",
   "execution_count": 2,
   "id": "b05fa2e3-535a-4826-868a-495bc407b672",
   "metadata": {},
   "outputs": [],
   "source": [
    "import tkinter as tk\n",
    "\n",
    "\n",
    "window = tk.Tk()  # creating the main window\n",
    "window.title(\"This is my first GUI\")\n",
    "window.geometry(\"500x500\")\n",
    "\n",
    "#display the selected option\n",
    "def selected():\n",
    "    label.config(text = f\" Selected option is {var.get()}\")\n",
    "\n",
    "\n",
    "var = tk.StringVar(value = \"Option not Chosen\")\n",
    "\n",
    "#creating Radion buttons\n",
    "r1 = tk.Radiobutton(window, text = \"Python with Django\", variable= var, value = \"Python with Django\", command=selected)\n",
    "r2 = tk.Radiobutton(window, text = \"Python with DataScience\", variable= var, value = \"Python with DataScience\", command=selected)\n",
    "r3 = tk.Radiobutton(window, text = \"Python with AI\", variable= var, value = \"Python with AI\", command=selected)\n",
    "r1.pack(pady=10)\n",
    "r2.pack(pady = 10)\n",
    "r3.pack(pady=10)\n",
    "\n",
    "label = tk.Label(window, text = \"Selected Option\")\n",
    "label.pack(pady = 10)\n",
    "window.mainloop()"
   ]
  },
  {
   "cell_type": "code",
   "execution_count": 3,
   "id": "a90debdf-fab1-4a85-a218-8877672d3e75",
   "metadata": {},
   "outputs": [
    {
     "name": "stdout",
     "output_type": "stream",
     "text": [
      "you have clicked Edit\n",
      "you have clicked file\n"
     ]
    }
   ],
   "source": [
    "import tkinter as tk\n",
    "\n",
    "\n",
    "window = tk.Tk()  # creating the main window\n",
    "window.title(\"This is my first GUI\")\n",
    "window.geometry(\"500x500\")\n",
    "\n",
    "menu = tk.Menu(window)\n",
    "\n",
    "menu.add_command(label = \"File\", command = lambda :print(\"you have clicked file\"))\n",
    "menu.add_command(label = \"Edit\", command = lambda :print(\"you have clicked Edit\"))\n",
    "\n",
    "window.config(menu = menu)\n",
    "\n",
    "window.mainloop()"
   ]
  },
  {
   "cell_type": "code",
   "execution_count": 4,
   "id": "cb19602c-94c9-4037-9a01-804c9e88b0f5",
   "metadata": {},
   "outputs": [
    {
     "name": "stdout",
     "output_type": "stream",
     "text": [
      "File opening in progress\n",
      "content copying in progress\n"
     ]
    }
   ],
   "source": [
    "import tkinter as tk\n",
    "\n",
    "\n",
    "window = tk.Tk()  # creating the main window\n",
    "window.title(\"This is my first GUI\")\n",
    "window.geometry(\"500x500\")\n",
    "\n",
    "menu_bar = tk.Menu(window)\n",
    "\n",
    "file_menu = tk.Menu(menu_bar, tearoff = 0)\n",
    "file_menu.add_command(label = \"NewFile\", command = lambda : print(\"New File opening in progress\"))\n",
    "file_menu.add_command(label = \"Save\", command = lambda : print(\"File saving in progress\"))\n",
    "file_menu.add_command(label = \"open\", command = lambda : print(\"File opening in progress\"))\n",
    "\n",
    "menu_bar.add_cascade(label =\"File\", menu = file_menu)\n",
    "\n",
    "edit_menu = tk.Menu(menu_bar, tearoff = 0)\n",
    "edit_menu.add_command(label = \"Copy\", command = lambda : print(\"content copying in progress\"))\n",
    "edit_menu.add_command(label = \"Paste\", command = lambda : print(\"content copying in progress\"))\n",
    "edit_menu.add_command(label = \"delete\", command = lambda : print(\"content copying in progress\"))\n",
    "\n",
    "menu_bar.add_cascade(label =\"Edit\", menu = edit_menu)\n",
    "\n",
    "\n",
    "window.config(menu = menu_bar)\n",
    "\n",
    "window.mainloop()"
   ]
  },
  {
   "cell_type": "code",
   "execution_count": 24,
   "id": "4a1a858e-9511-4614-95d5-b795d11007b5",
   "metadata": {},
   "outputs": [
    {
     "name": "stdout",
     "output_type": "stream",
     "text": [
      "Requirement already satisfied: mysql-connector-python in c:\\users\\pugal\\appdata\\local\\programs\\python\\python311\\lib\\site-packages (8.3.0)\n",
      "Note: you may need to restart the kernel to use updated packages.\n"
     ]
    },
    {
     "name": "stderr",
     "output_type": "stream",
     "text": [
      "WARNING: Error parsing dependencies of textract: .* suffix can only be used with `==` or `!=` operators\n",
      "    extract-msg (<=0.29.*)\n",
      "                 ~~~~~~~^\n",
      "\n",
      "[notice] A new release of pip is available: 24.3.1 -> 25.0.1\n",
      "[notice] To update, run: python.exe -m pip install --upgrade pip\n"
     ]
    }
   ],
   "source": [
    "pip install mysql-connector-python"
   ]
  },
  {
   "cell_type": "code",
   "execution_count": 1,
   "id": "b34d86a6-db2f-451a-a21a-418708009aae",
   "metadata": {},
   "outputs": [],
   "source": [
    "from mysql import connector\n",
    "\n",
    "connection = connector.connect(user = \"root\", password = \"12345\", host = \"localhost\", db = \"emp\")"
   ]
  },
  {
   "cell_type": "code",
   "execution_count": 1,
   "id": "9fa37a84-9f92-4b6a-a0be-dbb1a0806129",
   "metadata": {},
   "outputs": [
    {
     "name": "stdout",
     "output_type": "stream",
     "text": [
      "('address',)\n",
      "('customers',)\n",
      "('departments',)\n",
      "('empcopy',)\n",
      "('employ',)\n",
      "('employee_view',)\n",
      "('employees',)\n",
      "('high_salary',)\n",
      "('high_salary_emp',)\n",
      "('locations',)\n",
      "('mobile',)\n",
      "('movies',)\n",
      "('orders',)\n",
      "('persons',)\n",
      "('products',)\n",
      "('sales',)\n",
      "('student',)\n",
      "('workers',)\n"
     ]
    }
   ],
   "source": [
    "from mysql import connector\n",
    "\n",
    "connection = connector.connect(user = \"root\", password = \"12345\", host = \"localhost\", db = \"emp\")\n",
    "\n",
    "cursor = connection.cursor()  # which executes the mysql queries and stores the result\n",
    "cursor.execute(\"show tables\")\n",
    "tables = cursor.fetchall()\n",
    "\n",
    "for table in tables:\n",
    "    print(table)"
   ]
  },
  {
   "cell_type": "code",
   "execution_count": 4,
   "id": "18355832-4207-4861-97fe-4046c328b76b",
   "metadata": {},
   "outputs": [
    {
     "name": "stdout",
     "output_type": "stream",
     "text": [
      "('front end', 'IT', 'washingto dc', 35000.0, 'sanfrancisco, us', None)\n",
      "('backend end', 'IT', 'bleeker street dc', 40000.0, 'los vegas, us', None)\n",
      "('AI', 'IT', 'manhatton dc', 50000.0, 'los angeles, us', None)\n",
      "('ML developer', 'IT', 'san francisco', 11000.0, 'str1 manhattan', None)\n",
      "('data analyst', 'IT', 'los angeles', 70000.0, 'str1 manhattan', None)\n",
      "('AI engineer', 'IT', 'san francisco', 90000.0, 'baker st', None)\n",
      "('dev ops', 'IT', 'alaska', 25000.0, 'chris st,11223', None)\n",
      "('cloud engineer', 'IT', 'florida', 35000.0, 'evans st,11223', None)\n",
      "('ceo', 'admin', 'newyork', 300000.0, 'manhattan st', None)\n",
      "('AI engineer', 'IT', 'Embrun', 11000.0, 'Boston Canada', None)\n",
      "('IOT engineer', 'IT', 'united states', 20000.0, 'new jersy', None)\n",
      "('data maintainer', 'IT', 'paris england', 9000.0, 'embrun canada', None)\n",
      "('computer vision engineer', 'IT', 'united states', 19000.0, 'texas', None)\n",
      "('data arcitect', 'IT', 'florida', 7000.0, 'embrun canada', None)\n",
      "('image processor', 'IT', 'england', 9200.0, 'london', None)\n",
      "('reactjs developer', 'IT', 'russia', 4000.0, 'beijing', None)\n",
      "('query support', 'IT', 'north boston', 18000.0, 'german', None)\n",
      "('angularjs developer', 'IT', 'moscow', 92000.0, 'moscow', None)\n",
      "('ds algo', 'IT', 'hyderabad', 20000.0, 'ranivista hbd', None)\n",
      "('electronics', 'IT', 'kenya', 1000.0, 'mumbai', None)\n",
      "('c sharp developer', 'IT', 'russia', 5000.0, 'calicut', None)\n",
      "('data preprocessig', 'IT', 'india', 2000.0, 'bengaluru', None)\n",
      "('data creating', 'IT', 'india', 3000.0, 'hyderabad', None)\n",
      "('content creater', 'IT', 'cuiping', 300.0, 'hello', None)\n",
      "('mentor', 'IT', 'losvegas', 400.0, 'united states', None)\n",
      "('racer', 'IT', 'san francisco', 14000.0, 'watson', None)\n",
      "('firewalldeveloper', 'IT', 'switzerland', 4000.0, 'venice', None)\n",
      "('racer', 'IT', 'caribean', 15000.0, 'sparrow', None)\n",
      "('c ++ developer', 'IT', 'moscow', 55000.0, 'ville', None)\n",
      "('c ++ developer', 'IT', 'moscow', 55000.0, 'ville', None)\n",
      "('guide', 'IT', 'qin dynasty', 55000.0, 'china wall', None)\n",
      "('plummer', 'IT', 'caribean bay', 15000.0, 'xyz street', None)\n",
      "('translator', 'IT', 'france', 55000.0, 'paris tower', None)\n",
      "('space scientist', 'IT', 'new jersey', 65000.0, 'los angeles tower', None)\n",
      "('astrounat', 'IT', 'mars bay', 150000.0, 'xyz street', None)\n",
      "('receptionist', 'IT', 'venus bay', 14000.0, 'abz street', None)\n",
      "('receptionist', 'IT', 'venus bay', 14000.0, 'abz street', None)\n",
      "('docker expert', 'IT', 'paris', 65000.0, 'WTC angeles tower', None)\n",
      "('type writing', 'IT', 'lamburgh', 5000.0, 'magic st', None)\n",
      "('director', 'IT', 'hollywood', 39000.0, 'oscar street', 600)\n",
      "('pilot', 'IT', 'Airport city', 60000.0, 'aeroplane str', 600)\n",
      "('firwall developer', 'devops', 'newyork', 50000.0, 'baker st newjersey', None)\n",
      "('python tutor', 'edu', 'france', 20000.0, 'paris,eiffel tower', 600)\n",
      "('gardner', 'Agri cultural', 'umbrella', 4000.0, 'drawing street', None)\n",
      "('lawn maintenance', 'Decoration', 'alaska', 39000.0, 'slaugter street', None)\n",
      "('data engineer', 'data processes', 'sony', 5000.0, 'info street', 900)\n",
      "('musician', 'music', 'sony', 5000.0, 'info street', 900)\n",
      "('photographer', 'art', 'san franscisco', 9000.0, 'art street', 1200)\n",
      "('docker expert', 'cloud computing', 'ontorio', 65000.0, 'WTC angeles tower, paris', 370)\n",
      "('driver', 'car', 'toronto', 65000.0, 'WTC angeles tower, canada', 370)\n"
     ]
    }
   ],
   "source": [
    "from mysql import connector\n",
    "\n",
    "connection = connector.connect(user = \"root\", password = \"12345\", host = \"localhost\", db = \"emp\")\n",
    "\n",
    "cursor = connection.cursor()\n",
    "cursor.execute(\"select * from empcopy\")\n",
    "records = cursor.fetchall()\n",
    "\n",
    "for record in records:\n",
    "    print(record)"
   ]
  },
  {
   "cell_type": "code",
   "execution_count": 3,
   "id": "afc0c2a3-ef32-414f-92b8-32c299858607",
   "metadata": {},
   "outputs": [],
   "source": [
    "from mysql import connector\n",
    "\n",
    "connection = connector.connect(user = \"root\", password = \"12345\", host = \"localhost\", db = \"emp\")\n",
    "\n",
    "cursor = connection.cursor()\n",
    "cursor.execute(\"insert into empcopy values('driver','car','toronto',65000, 'WTC angeles tower, canada', 370)\")\n",
    "\n",
    "connection.commit()\n"
   ]
  },
  {
   "cell_type": "code",
   "execution_count": 5,
   "id": "495150c0-9ec9-440b-ad77-85d4cbcfa3cf",
   "metadata": {},
   "outputs": [],
   "source": [
    "import tkinter as tk\n",
    "from tkinter import messagebox\n",
    "import mysql.connector\n",
    "\n",
    "# Database connection\n",
    "def connect_db():\n",
    "    try:\n",
    "        conn = mysql.connector.connect(\n",
    "            host=\"localhost\",\n",
    "            user=\"root\",\n",
    "            password=\"12345\",\n",
    "            database=\"emp\"\n",
    "        )\n",
    "        return conn\n",
    "    except mysql.connector.Error as e:\n",
    "        messagebox.showerror(\"Database Error\", f\"Error connecting to database:\\n{e}\")\n",
    "        return None\n",
    "\n",
    "# Insert job into database\n",
    "def insert_job():\n",
    "    job = entry_job.get()\n",
    "    sal = entry_sal.get()\n",
    "    city = entry_city.get()\n",
    "    address = entry_address.get()\n",
    "    incentive = entry_incentive.get()\n",
    "    \n",
    "    if job and sal and city and address and incentive:\n",
    "        conn = connect_db()\n",
    "        if conn:\n",
    "            cursor = conn.cursor()\n",
    "            cursor.execute(\"INSERT INTO empcopy (job, sal, city, address, incentive) VALUES (%s, %s, %s, %s, %s)\", \n",
    "                           (job, sal, city, address, incentive))\n",
    "            conn.commit()\n",
    "            cursor.close()\n",
    "            conn.close()\n",
    "            messagebox.showinfo(\"Success\", \"Job added successfully!\")\n",
    "            clear_entries()\n",
    "            fetch_jobs()\n",
    "    else:\n",
    "        messagebox.showwarning(\"Input Error\", \"Please enter all fields!\")\n",
    "\n",
    "# Fetch and display jobs\n",
    "def fetch_jobs():\n",
    "    conn = connect_db()\n",
    "    if conn:\n",
    "        cursor = conn.cursor()\n",
    "        cursor.execute(\"SELECT * FROM empcopy\")\n",
    "        rows = cursor.fetchall()\n",
    "        cursor.close()\n",
    "        conn.close()\n",
    "\n",
    "        listbox_jobs.delete(0, tk.END)  # Clear existing entries\n",
    "        for row in rows:\n",
    "            listbox_jobs.insert(tk.END, f\"Job: {row[0]} | Salary: {row[1]} | City: {row[2]} | Address: {row[3]} | Incentive: {row[4]}\")\n",
    "\n",
    "# Clear input fields\n",
    "def clear_entries():\n",
    "    entry_job.delete(0, tk.END)\n",
    "    entry_sal.delete(0, tk.END)\n",
    "    entry_city.delete(0, tk.END)\n",
    "    entry_address.delete(0, tk.END)\n",
    "    entry_incentive.delete(0, tk.END)\n",
    "\n",
    "# Tkinter UI\n",
    "root = tk.Tk()\n",
    "root.title(\"MySQL Tkinter Job Management\")\n",
    "root.geometry(\"450x500\")\n",
    "\n",
    "tk.Label(root, text=\"Job:\").pack()\n",
    "entry_job = tk.Entry(root)\n",
    "entry_job.pack()\n",
    "\n",
    "tk.Label(root, text=\"Salary:\").pack()\n",
    "entry_sal = tk.Entry(root)\n",
    "entry_sal.pack()\n",
    "\n",
    "tk.Label(root, text=\"City:\").pack()\n",
    "entry_city = tk.Entry(root)\n",
    "entry_city.pack()\n",
    "\n",
    "tk.Label(root, text=\"Address:\").pack()\n",
    "entry_address = tk.Entry(root)\n",
    "entry_address.pack()\n",
    "\n",
    "tk.Label(root, text=\"Incentive:\").pack()\n",
    "entry_incentive = tk.Entry(root)\n",
    "entry_incentive.pack()\n",
    "\n",
    "tk.Button(root, text=\"Add Job\", command=insert_job).pack(pady=5)\n",
    "\n",
    "tk.Label(root, text=\"Job List:\").pack()\n",
    "listbox_jobs = tk.Listbox(root, width=70, height=10)\n",
    "listbox_jobs.pack()\n",
    "\n",
    "tk.Button(root, text=\"Refresh List\", command=fetch_jobs).pack(pady=5)\n",
    "\n",
    "# Initial fetch\n",
    "fetch_jobs()\n",
    "\n",
    "root.mainloop()\n"
   ]
  },
  {
   "cell_type": "code",
   "execution_count": null,
   "id": "d33bce06-b665-4915-84d5-c46d7bea1c77",
   "metadata": {},
   "outputs": [
    {
     "name": "stdout",
     "output_type": "stream",
     "text": [
      "socket created\n",
      "looking for connection\n",
      "connection established ('127.0.0.1', 53845)\n",
      "test message that client sent to the server   :   responding this is client\n"
     ]
    }
   ],
   "source": [
    "#nettwork programming--all about using python language to handle computer networking requirements:\n",
    "#socket --it will provide endpoint of a two way commuincation link between  two programs runnig on the network\n",
    "#server:\n",
    "\n",
    "import socket\n",
    "#creating a socket\n",
    "s = socket.socket()#the connection will ipv4 or ipv6\n",
    "print('socket created')\n",
    "#to connect with a port we have to use bind operation  with the socket as a local host\n",
    "s.bind(('localhost',9998))\n",
    "#controlling how many number requests allowed for a server\n",
    "s.listen(2)\n",
    "print('looking for connection')\n",
    "while True:\n",
    "    c, addr = s.accept()\n",
    "    name = c.recv(1024).decode()#from the client request we receive the message and decode\n",
    "    print('connection established',addr)\n",
    "    #computer can understand byte language that kind of data only we can pass through a port\n",
    "    c.send(bytes('Testing the python server to the client ','utf-8'))\n",
    "    print('test message that client sent to the server   :  ', name)\n",
    "    c.close()\n"
   ]
  },
  {
   "cell_type": "code",
   "execution_count": 1,
   "id": "f6665235-765a-4821-a0d6-1187fcea3683",
   "metadata": {},
   "outputs": [
    {
     "ename": "ConnectionRefusedError",
     "evalue": "[WinError 10061] No connection could be made because the target machine actively refused it",
     "output_type": "error",
     "traceback": [
      "\u001b[1;31m---------------------------------------------------------------------------\u001b[0m",
      "\u001b[1;31mConnectionRefusedError\u001b[0m                    Traceback (most recent call last)",
      "Cell \u001b[1;32mIn[1], line 11\u001b[0m\n\u001b[0;32m      7\u001b[0m \u001b[38;5;66;03m#binding the server address\u001b[39;00m\n\u001b[0;32m      9\u001b[0m s_address \u001b[38;5;241m=\u001b[39m (\u001b[38;5;124m\"\u001b[39m\u001b[38;5;124mlocalhost\u001b[39m\u001b[38;5;124m\"\u001b[39m, \u001b[38;5;241m9998\u001b[39m)\n\u001b[1;32m---> 11\u001b[0m \u001b[43mclient_socket\u001b[49m\u001b[38;5;241;43m.\u001b[39;49m\u001b[43mconnect\u001b[49m\u001b[43m(\u001b[49m\u001b[43ms_address\u001b[49m\u001b[43m)\u001b[49m\n\u001b[0;32m     13\u001b[0m \u001b[38;5;28;01mtry\u001b[39;00m:\n\u001b[0;32m     14\u001b[0m     \u001b[38;5;66;03m#send data\u001b[39;00m\n\u001b[0;32m     15\u001b[0m     client_socket\u001b[38;5;241m.\u001b[39msendall(\u001b[38;5;124mb\u001b[39m\u001b[38;5;124m\"\u001b[39m\u001b[38;5;124mjupyter python client\u001b[39m\u001b[38;5;124m\"\u001b[39m)\n",
      "\u001b[1;31mConnectionRefusedError\u001b[0m: [WinError 10061] No connection could be made because the target machine actively refused it"
     ]
    }
   ],
   "source": [
    "#client \n",
    "\n",
    "import socket\n",
    "\n",
    "client_socket = socket.socket()\n",
    "\n",
    "#binding the server address\n",
    "\n",
    "s_address = (\"localhost\", 9998)\n",
    "\n",
    "client_socket.connect(s_address)\n",
    "\n",
    "try:\n",
    "    #send data\n",
    "    client_socket.sendall(b\"jupyter python client\")\n",
    "\n",
    "    #receive data from the server\n",
    "    response = client_socket.recv(1024)\n",
    "    print(\"server says \", response.decode())\n",
    "finally:\n",
    "    client_socket.close()"
   ]
  },
  {
   "cell_type": "code",
   "execution_count": 1,
   "id": "d836c22b-93de-41ff-88a8-f95dd7120704",
   "metadata": {},
   "outputs": [
    {
     "data": {
      "text/plain": [
       "datetime.datetime(2025, 6, 16, 19, 8, 37, 600044)"
      ]
     },
     "execution_count": 1,
     "metadata": {},
     "output_type": "execute_result"
    }
   ],
   "source": [
    "from datetime import datetime\n",
    "\n",
    "now =  datetime.now() # retriving the time instance \n",
    "now"
   ]
  },
  {
   "cell_type": "code",
   "execution_count": 2,
   "id": "c76cccbb-19c6-420e-8299-457f5467cd4b",
   "metadata": {},
   "outputs": [
    {
     "name": "stdout",
     "output_type": "stream",
     "text": [
      "year 2025\n",
      "month 6\n",
      "day 16\n",
      "hour 19\n",
      "seconds 37\n",
      "minutes 8\n"
     ]
    }
   ],
   "source": [
    "print(\"year\", now.year)\n",
    "print(\"month\", now.month)\n",
    "print(\"day\", now.day)\n",
    "print(\"hour\", now.hour)\n",
    "print(\"seconds\", now.second)\n",
    "print(\"minutes\", now.minute)\n"
   ]
  },
  {
   "cell_type": "code",
   "execution_count": 3,
   "id": "a7cfb726-45d6-490f-94ed-2fb27f48be7f",
   "metadata": {},
   "outputs": [
    {
     "data": {
      "text/plain": [
       "datetime.date(2025, 6, 16)"
      ]
     },
     "execution_count": 3,
     "metadata": {},
     "output_type": "execute_result"
    }
   ],
   "source": [
    "now.date() # to fetch date only"
   ]
  },
  {
   "cell_type": "code",
   "execution_count": 4,
   "id": "6735a76e-2adc-4f38-b471-9eca10867640",
   "metadata": {},
   "outputs": [
    {
     "data": {
      "text/plain": [
       "datetime.time(19, 8, 37, 600044)"
      ]
     },
     "execution_count": 4,
     "metadata": {},
     "output_type": "execute_result"
    }
   ],
   "source": [
    "now.time() # to fetch time only"
   ]
  },
  {
   "cell_type": "code",
   "execution_count": 5,
   "id": "03083de5-e8ac-4e61-9177-61a278168e0d",
   "metadata": {},
   "outputs": [
    {
     "data": {
      "text/plain": [
       "'year 2025 : month 06 : day 16 -- hour 19 : minute 10 : second 24'"
      ]
     },
     "execution_count": 5,
     "metadata": {},
     "output_type": "execute_result"
    }
   ],
   "source": [
    "now = datetime.now()\n",
    "# formatting the time\n",
    "ft = now.strftime(\"year %Y : month %m : day %d -- hour %H : minute %M : second %S\")\n",
    "ft"
   ]
  },
  {
   "cell_type": "code",
   "execution_count": 6,
   "id": "e5a23387-413c-4c50-976e-349902bc8303",
   "metadata": {},
   "outputs": [
    {
     "data": {
      "text/plain": [
       "388"
      ]
     },
     "execution_count": 6,
     "metadata": {},
     "output_type": "execute_result"
    }
   ],
   "source": [
    "from datetime import datetime, date\n",
    "\n",
    "date1 = date(2024,10,23)\n",
    "\n",
    "date2 = date(2025,11,15) # subtracting one time from another time\n",
    "dayscount = date2-date1\n",
    "dayscount.days\n"
   ]
  },
  {
   "cell_type": "code",
   "execution_count": 7,
   "id": "3017a37a-a89e-470b-9ca7-579ebc9f39a4",
   "metadata": {},
   "outputs": [
    {
     "data": {
      "text/plain": [
       "datetime.datetime(2025, 9, 14, 19, 12, 38, 826524)"
      ]
     },
     "execution_count": 7,
     "metadata": {},
     "output_type": "execute_result"
    }
   ],
   "source": [
    "from datetime import datetime, timedelta\n",
    "\n",
    "days = timedelta(days = 90)\n",
    "\n",
    "date2 = datetime.today() # subtracting one time from another time\n",
    "date2+days\n"
   ]
  },
  {
   "cell_type": "code",
   "execution_count": 8,
   "id": "3711a493-c59e-46bc-83c1-ad55d95c6c5b",
   "metadata": {},
   "outputs": [
    {
     "data": {
      "text/plain": [
       "2025"
      ]
     },
     "execution_count": 8,
     "metadata": {},
     "output_type": "execute_result"
    }
   ],
   "source": [
    "date2.year"
   ]
  },
  {
   "cell_type": "code",
   "execution_count": 9,
   "id": "e8f9988e-b682-4967-939e-bb9002f4348c",
   "metadata": {},
   "outputs": [
    {
     "data": {
      "text/plain": [
       "'Monday'"
      ]
     },
     "execution_count": 9,
     "metadata": {},
     "output_type": "execute_result"
    }
   ],
   "source": [
    "now = datetime.now()\n",
    "now.strftime(\"%A\")"
   ]
  },
  {
   "cell_type": "code",
   "execution_count": 10,
   "id": "6a5ded47-29c5-417f-b30b-701fd12e13a3",
   "metadata": {},
   "outputs": [
    {
     "data": {
      "text/plain": [
       "'June'"
      ]
     },
     "execution_count": 10,
     "metadata": {},
     "output_type": "execute_result"
    }
   ],
   "source": [
    "now = datetime.now()\n",
    "now.strftime(\"%B\")"
   ]
  },
  {
   "cell_type": "code",
   "execution_count": 11,
   "id": "efdf2246-771f-4240-8948-2b4f45f1da59",
   "metadata": {},
   "outputs": [
    {
     "data": {
      "text/plain": [
       "'Mon'"
      ]
     },
     "execution_count": 11,
     "metadata": {},
     "output_type": "execute_result"
    }
   ],
   "source": [
    "now = datetime.now()\n",
    "now.strftime(\"%a\")"
   ]
  },
  {
   "cell_type": "code",
   "execution_count": 12,
   "id": "16f250ad-a835-48ba-b8d3-796e07118111",
   "metadata": {},
   "outputs": [
    {
     "data": {
      "text/plain": [
       "'Jun'"
      ]
     },
     "execution_count": 12,
     "metadata": {},
     "output_type": "execute_result"
    }
   ],
   "source": [
    "now = datetime.now()\n",
    "now.strftime(\"%b\")"
   ]
  },
  {
   "cell_type": "code",
   "execution_count": 13,
   "id": "fad0c84b-54f7-4667-b6c1-98b1b3ae57d7",
   "metadata": {},
   "outputs": [
    {
     "name": "stdout",
     "output_type": "stream",
     "text": [
      "Friday\n",
      "January\n",
      "Jan\n",
      "Fri\n"
     ]
    }
   ],
   "source": [
    "random_day = datetime(2024,1,19)\n",
    "print(random_day.strftime(\"%A\"))\n",
    "print(random_day.strftime(\"%B\"))\n",
    "print(random_day.strftime(\"%b\"))\n",
    "print(random_day.strftime(\"%a\"))"
   ]
  },
  {
   "cell_type": "code",
   "execution_count": 14,
   "id": "1ac42793-0ffa-4f65-9516-850c3f5aa261",
   "metadata": {},
   "outputs": [
    {
     "data": {
      "text/plain": [
       "time.struct_time(tm_year=2025, tm_mon=6, tm_mday=16, tm_hour=19, tm_min=16, tm_sec=42, tm_wday=0, tm_yday=167, tm_isdst=0)"
      ]
     },
     "execution_count": 14,
     "metadata": {},
     "output_type": "execute_result"
    }
   ],
   "source": [
    "import time\n",
    "lt = time.localtime()\n",
    "lt"
   ]
  },
  {
   "cell_type": "code",
   "execution_count": 15,
   "id": "a12b31b8-c28f-4b76-9060-5d2cdb2a16bb",
   "metadata": {},
   "outputs": [
    {
     "data": {
      "text/plain": [
       "'year 2025 month 6 day 16  hour 19'"
      ]
     },
     "execution_count": 15,
     "metadata": {},
     "output_type": "execute_result"
    }
   ],
   "source": [
    "f\"year {lt.tm_year} month {lt.tm_mon} day {lt.tm_mday}  hour {lt.tm_hour}\""
   ]
  },
  {
   "cell_type": "code",
   "execution_count": 16,
   "id": "87f6b2f9-1862-4aef-a907-a6eb11a0c35f",
   "metadata": {},
   "outputs": [
    {
     "data": {
      "text/plain": [
       "1750081678.7562108"
      ]
     },
     "execution_count": 16,
     "metadata": {},
     "output_type": "execute_result"
    }
   ],
   "source": [
    "t1 = time.time()  # epoch time\n",
    "t1"
   ]
  },
  {
   "cell_type": "code",
   "execution_count": 17,
   "id": "a1868129-4ed3-4d23-9929-7513afd635ff",
   "metadata": {},
   "outputs": [
    {
     "data": {
      "text/plain": [
       "'Mon Jun 16 19:17:58 2025'"
      ]
     },
     "execution_count": 17,
     "metadata": {},
     "output_type": "execute_result"
    }
   ],
   "source": [
    "time.ctime(t1)"
   ]
  },
  {
   "cell_type": "code",
   "execution_count": 18,
   "id": "b8f14833-2b6d-4145-8880-7c13fb75a8c2",
   "metadata": {},
   "outputs": [
    {
     "name": "stdout",
     "output_type": "stream",
     "text": [
      "a message before sleep\n",
      "a message after 5 seconds\n"
     ]
    }
   ],
   "source": [
    "# sleep from time library will freeze the program for certain amount of time\n",
    "\n",
    "print(\"a message before sleep\")\n",
    "time.sleep(5)\n",
    "print(\"a message after 5 seconds\")"
   ]
  },
  {
   "cell_type": "code",
   "execution_count": 19,
   "id": "7a91c942-1dda-4116-91bc-1fab3442944f",
   "metadata": {},
   "outputs": [
    {
     "name": "stdout",
     "output_type": "stream",
     "text": [
      "19 : 20 :38\n",
      "19 : 20 :39\n",
      "19 : 20 :40\n",
      "19 : 20 :41\n",
      "19 : 20 :42\n",
      "19 : 20 :43\n",
      "19 : 20 :44\n",
      "19 : 20 :45\n",
      "19 : 20 :46\n"
     ]
    },
    {
     "ename": "KeyboardInterrupt",
     "evalue": "",
     "output_type": "error",
     "traceback": [
      "\u001b[1;31m---------------------------------------------------------------------------\u001b[0m",
      "\u001b[1;31mKeyboardInterrupt\u001b[0m                         Traceback (most recent call last)",
      "Cell \u001b[1;32mIn[19], line 9\u001b[0m\n\u001b[0;32m      7\u001b[0m instance \u001b[38;5;241m=\u001b[39m time\u001b[38;5;241m.\u001b[39mstrftime(\u001b[38;5;124m\"\u001b[39m\u001b[38;5;124m%\u001b[39m\u001b[38;5;124mH : \u001b[39m\u001b[38;5;124m%\u001b[39m\u001b[38;5;124mM :\u001b[39m\u001b[38;5;124m%\u001b[39m\u001b[38;5;124mS\u001b[39m\u001b[38;5;124m\"\u001b[39m, lt)\n\u001b[0;32m      8\u001b[0m \u001b[38;5;28mprint\u001b[39m(instance)\n\u001b[1;32m----> 9\u001b[0m time\u001b[38;5;241m.\u001b[39msleep(\u001b[38;5;241m1\u001b[39m)\n",
      "\u001b[1;31mKeyboardInterrupt\u001b[0m: "
     ]
    }
   ],
   "source": [
    "# digital clock using the time library\n",
    "\n",
    "import time\n",
    "\n",
    "while True:\n",
    "    lt = time.localtime()\n",
    "    instance = time.strftime(\"%H : %M :%S\", lt)\n",
    "    print(instance)\n",
    "    time.sleep(1)"
   ]
  },
  {
   "cell_type": "code",
   "execution_count": 20,
   "id": "8ef66cb4-5e0d-40e3-97d0-2bbbe33cfa62",
   "metadata": {},
   "outputs": [
    {
     "name": "stdout",
     "output_type": "stream",
     "text": [
      "total consumed time :  3.7911055088043213\n"
     ]
    }
   ],
   "source": [
    "# calculating the execution time of a program\n",
    "\n",
    "# capture the starting time of the program\n",
    "st = time.time()\n",
    "\n",
    "for i in range(100000000):\n",
    "    pass\n",
    "\n",
    "\n",
    "et = time.time() # capturing the ending time of the program\n",
    "\n",
    "print(\"total consumed time : \", et-st)"
   ]
  },
  {
   "cell_type": "code",
   "execution_count": 21,
   "id": "4337c5c6-1561-4f53-bf07-0314153a20a6",
   "metadata": {},
   "outputs": [
    {
     "name": "stdout",
     "output_type": "stream",
     "text": [
      "total consumed time :  3.21875\n"
     ]
    }
   ],
   "source": [
    "# capture the starting time of the program\n",
    "st = time.process_time()\n",
    "\n",
    "for i in range(100000000):\n",
    "    pass\n",
    "\n",
    "\n",
    "et = time.process_time() # capturing the ending time of the program\n",
    "\n",
    "print(\"total consumed time : \", et-st)"
   ]
  },
  {
   "cell_type": "code",
   "execution_count": 22,
   "id": "a0f5c92c-f4ec-4d22-acc2-2cfccf582c09",
   "metadata": {},
   "outputs": [
    {
     "data": {
      "text/plain": [
       "time.struct_time(tm_year=2025, tm_mon=6, tm_mday=16, tm_hour=13, tm_min=53, tm_sec=22, tm_wday=0, tm_yday=167, tm_isdst=0)"
      ]
     },
     "execution_count": 22,
     "metadata": {},
     "output_type": "execute_result"
    }
   ],
   "source": [
    "time.gmtime()"
   ]
  },
  {
   "cell_type": "code",
   "execution_count": 23,
   "id": "0877ecee-e280-4570-8d87-22528d1c010b",
   "metadata": {},
   "outputs": [
    {
     "name": "stdout",
     "output_type": "stream",
     "text": [
      "utc time 13 53 23\n"
     ]
    }
   ],
   "source": [
    "utc = time.gmtime()\n",
    "print(f\"utc time {time.strftime('%H %M %S', utc)}\")"
   ]
  },
  {
   "cell_type": "code",
   "execution_count": 24,
   "id": "78b09bd8-edc7-4bd1-8c3d-185b4e7eaf90",
   "metadata": {},
   "outputs": [
    {
     "name": "stdout",
     "output_type": "stream",
     "text": [
      "hello  0\n",
      "hello  1\n",
      "hello  2\n",
      "hello  3\n",
      "hello  4\n",
      "hello  5\n",
      "hello  6\n",
      "hello  7\n",
      "hello  8\n",
      "hello  9\n",
      "python says greetings  0\n",
      "python says greetings  1\n",
      "python says greetings  2\n",
      "python says greetings  3\n",
      "python says greetings  4\n",
      "python says greetings  5\n",
      "python says greetings  6\n",
      "python says greetings  7\n",
      "python says greetings  8\n",
      "python says greetings  9\n"
     ]
    }
   ],
   "source": [
    "# in python we have GIL global interpretter lock this will allow pythong interpretter\n",
    "# execute one task(Thread) at a time\n",
    "import time\n",
    "\n",
    "def hello():\n",
    "    for i in range(10):\n",
    "        print(\"hello \" , i)\n",
    "        time.sleep(1)\n",
    "\n",
    "\n",
    "def welcome():\n",
    "    for i in range(10):\n",
    "        print(\"python says greetings \" , i)\n",
    "        time.sleep(1)\n",
    "\n",
    "hello()\n",
    "welcome()"
   ]
  },
  {
   "cell_type": "code",
   "execution_count": 27,
   "id": "dd7bf312-50bc-48e9-8ed6-f67dddb9ec49",
   "metadata": {},
   "outputs": [
    {
     "name": "stdout",
     "output_type": "stream",
     "text": [
      "first thread  0\n",
      "second thread   0\n",
      "first thread  1\n",
      "second thread   1\n",
      "first thread  2\n",
      "second thread   2\n",
      "first thread  3\n",
      "second thread   3\n",
      "first thread second thread   4\n",
      " 4\n",
      "second thread  first thread  5\n",
      " 5\n",
      "first thread  6\n",
      "second thread   6\n",
      "first thread  7\n",
      "second thread   7\n",
      "first thread second thread   8\n",
      " 8\n",
      "first thread second thread   9\n",
      " 9\n"
     ]
    }
   ],
   "source": [
    "# Threading  will help us to execute more than one thread at a time\n",
    "import threading\n",
    "import time\n",
    "\n",
    "\n",
    "def hello():\n",
    "    for i in range(10):\n",
    "        print(\"first thread \" , i)\n",
    "        time.sleep(1)\n",
    "\n",
    "\n",
    "def welcome():\n",
    "    for i in range(10):\n",
    "        print(\"second thread  \" , i)\n",
    "        time.sleep(1)\n",
    "\n",
    "# hello()\n",
    "# welcome()\n",
    "\n",
    "# creatign the threads and start them at same time only\n",
    "t1 = threading.Thread(target = hello)\n",
    "t2 = threading.Thread(target = welcome)\n",
    "t1.start()\n",
    "t2.start()"
   ]
  },
  {
   "cell_type": "code",
   "execution_count": 29,
   "id": "cde1532a-827f-4d5f-96cc-dddd6bacb0c4",
   "metadata": {},
   "outputs": [
    {
     "name": "stdout",
     "output_type": "stream",
     "text": [
      "hello  0\n",
      "good evening  0\n",
      "hello  1\n",
      "good evening  1\n",
      "hello good evening  2\n",
      " 2\n",
      "good evening  3\n",
      "hello  3\n",
      "hello good evening  4\n",
      " 4\n",
      "good evening  5\n",
      "hello  5\n",
      "good evening hello  6\n",
      " 6\n",
      "good evening hello  7\n",
      " 7\n",
      "good evening hello  8\n",
      " 8\n",
      "hello  9\n",
      "good evening  9\n",
      "total consumet time  10.013272762298584\n"
     ]
    }
   ],
   "source": [
    "import threading\n",
    "import time\n",
    "\n",
    "st = time.time()\n",
    "\n",
    "def hello():\n",
    "    for i in range(10):\n",
    "        print(\"hello \" , i)\n",
    "        time.sleep(1)\n",
    "\n",
    "\n",
    "def welcome():\n",
    "    for i in range(10):\n",
    "        print(\"good evening \" , i)\n",
    "        time.sleep(1)\n",
    "\n",
    "# hello()\n",
    "# welcome()\n",
    "\n",
    "# creatign the threads and start them at same time only\n",
    "t1 = threading.Thread(target = hello)\n",
    "t2 = threading.Thread(target = welcome)\n",
    "\n",
    "\n",
    "t1.start()\n",
    "t2.start()\n",
    "t1.join()\n",
    "t2.join()\n",
    "# we use thread.join() which allows the threads to complete their task then procedd with remaining flow\n",
    "et =time.time()\n",
    "\n",
    "print(\"total consumet time \", et-st)\n"
   ]
  },
  {
   "cell_type": "code",
   "execution_count": 32,
   "id": "f6227cd8-ad9c-4215-b989-292cca980e39",
   "metadata": {},
   "outputs": [
    {
     "data": {
      "text/plain": [
       "['the']"
      ]
     },
     "execution_count": 32,
     "metadata": {},
     "output_type": "execute_result"
    }
   ],
   "source": [
    "import re\n",
    "\"\"\"\n",
    "regulare expression will help us to find the patterns, words, boundaries, starts with,\n",
    "endswith, numbers, special characters, a word that starts with a character, what\n",
    "are the boundaries of specific word...etcetra\"\"\"\n",
    "\n",
    "txt1 = \"the cat and the rat fighting for the hat on the top of a mat and the cat little fat\"\n",
    "\n",
    "# to check a string starts with use ^\n",
    "result  =  re.findall(\"^the\", txt1)\n",
    "result"
   ]
  },
  {
   "cell_type": "code",
   "execution_count": 33,
   "id": "28effbe3-3ea3-470d-b283-000ff9116067",
   "metadata": {},
   "outputs": [
    {
     "data": {
      "text/plain": [
       "['fat']"
      ]
     },
     "execution_count": 33,
     "metadata": {},
     "output_type": "execute_result"
    }
   ],
   "source": [
    "txt1 = \"the cat and the rate fighting for the hat on the top of a mat and the cat little fat\"\n",
    "\n",
    "# to check a string ends with use $\n",
    "result  =  re.findall(\"fat$\", txt1)\n",
    "result"
   ]
  },
  {
   "cell_type": "code",
   "execution_count": 34,
   "id": "d4162060-4a5c-407f-bcc5-0fc0e78a0cd1",
   "metadata": {},
   "outputs": [
    {
     "data": {
      "text/plain": [
       "['at', 'at', 'at', 'at', 'at', 'at']"
      ]
     },
     "execution_count": 34,
     "metadata": {},
     "output_type": "execute_result"
    }
   ],
   "source": [
    "txt1 = \"the cat and the rat fighting for the hat on the top of a mat and the cat little fat\"\n",
    "\n",
    "# to find out the patterns from a string\n",
    "result  =  re.findall(\"atx*\", txt1)\n",
    "result"
   ]
  },
  {
   "cell_type": "code",
   "execution_count": 35,
   "id": "8036c4e0-2fd3-40bf-89eb-7d7ac47d8662",
   "metadata": {},
   "outputs": [
    {
     "data": {
      "text/plain": [
       "['for the hat on the top of a mat and the cat little fat']"
      ]
     },
     "execution_count": 35,
     "metadata": {},
     "output_type": "execute_result"
    }
   ],
   "source": [
    "txt1 = \"the cat and the rat fighting for the hat on the top of a mat and the cat little fat\"\n",
    "\n",
    "# to find out the words after for\n",
    "result  =  re.findall(\"for.*\", txt1)\n",
    "result"
   ]
  },
  {
   "cell_type": "code",
   "execution_count": 36,
   "id": "d65b3014-b53f-418d-86ff-864ab7bedcf1",
   "metadata": {},
   "outputs": [
    {
     "data": {
      "text/plain": [
       "['all', 'all', 'all']"
      ]
     },
     "execution_count": 36,
     "metadata": {},
     "output_type": "execute_result"
    }
   ],
   "source": [
    "txt2 = \"The Rain Falls @ Spain starts 4 and continued till Next day that made big and small fallls\"\n",
    "\n",
    "result = re.findall(\"al{2}\",txt2)\n",
    "result"
   ]
  },
  {
   "cell_type": "code",
   "execution_count": 38,
   "id": "e9996287-b97b-4c46-8b38-56044897420d",
   "metadata": {},
   "outputs": [
    {
     "data": {
      "text/plain": [
       "['n',\n",
       " 's',\n",
       " 'p',\n",
       " 'n',\n",
       " 's',\n",
       " 'r',\n",
       " 's',\n",
       " 'n',\n",
       " 'o',\n",
       " 'n',\n",
       " 'n',\n",
       " 'm',\n",
       " 'n',\n",
       " 's',\n",
       " 'm',\n",
       " 's']"
      ]
     },
     "execution_count": 38,
     "metadata": {},
     "output_type": "execute_result"
    }
   ],
   "source": [
    "txt2 = \"The Rain Falls @ Spain starts 4 and continued till Next day that made big and small fallls\"\n",
    "\n",
    "result = re.findall(\"[m-s]\",txt2)\n",
    "result"
   ]
  },
  {
   "cell_type": "code",
   "execution_count": 39,
   "id": "23520975-5238-4dab-b33e-387db3ac3a0d",
   "metadata": {},
   "outputs": [
    {
     "data": {
      "text/plain": [
       "['@', '@', '#', '&', '$']"
      ]
     },
     "execution_count": 39,
     "metadata": {},
     "output_type": "execute_result"
    }
   ],
   "source": [
    "txt2 = \"The Rain Falls @ Spain starts @4 # clock & __ continued $till Next day* that made (big) and small fallls\"\n",
    "\n",
    "result = re.findall(\"[@,#,$,&]\",txt2)\n",
    "result"
   ]
  },
  {
   "cell_type": "code",
   "execution_count": 40,
   "id": "c4d11f8e-b461-4e72-aca8-4806dfab3561",
   "metadata": {},
   "outputs": [
    {
     "data": {
      "text/plain": [
       "['4',\n",
       " '4',\n",
       " '5',\n",
       " '7',\n",
       " '2',\n",
       " '3',\n",
       " '5',\n",
       " '6',\n",
       " '3',\n",
       " '4',\n",
       " '5',\n",
       " '3',\n",
       " '4',\n",
       " '4',\n",
       " '5',\n",
       " '4']"
      ]
     },
     "execution_count": 40,
     "metadata": {},
     "output_type": "execute_result"
    }
   ],
   "source": [
    "txt2 = \"The Rain Falls @ Spain starts 4.45 and continued till 7.23.563453445 Next day @ 4 that made big and small fallls\"\n",
    "\n",
    "result = re.findall(\"[0-9]\",txt2)\n",
    "result"
   ]
  },
  {
   "cell_type": "code",
   "execution_count": 41,
   "id": "b2c183cf-c65f-4ef7-8bce-f6b56a7401b5",
   "metadata": {},
   "outputs": [
    {
     "data": {
      "text/plain": [
       "['Rain', 'till', 'big']"
      ]
     },
     "execution_count": 41,
     "metadata": {},
     "output_type": "execute_result"
    }
   ],
   "source": [
    "txt2 = \"The Rain Falls @ Spain starts 4 and continued till Next day that made big and small fallls\"\n",
    "\n",
    "result = re.findall(\"till|Rain|big|cat|Tiger\",txt2)\n",
    "result"
   ]
  },
  {
   "cell_type": "code",
   "execution_count": 42,
   "id": "505fe885-fa15-4774-b9a4-33f37aeb1ec9",
   "metadata": {},
   "outputs": [
    {
     "data": {
      "text/plain": [
       "['and', 'and', 'and']"
      ]
     },
     "execution_count": 42,
     "metadata": {},
     "output_type": "execute_result"
    }
   ],
   "source": [
    "txt2 = \"The Rain Falls @ Spain starts 4 and continued till Next day and that made big and small fallls\"\n",
    "\n",
    "result = re.findall(\"and\",txt2)\n",
    "result"
   ]
  },
  {
   "cell_type": "code",
   "execution_count": 43,
   "id": "40aeffb1-0a24-466a-8450-05fd229b8e10",
   "metadata": {},
   "outputs": [
    {
     "data": {
      "text/plain": [
       "2"
      ]
     },
     "execution_count": 43,
     "metadata": {},
     "output_type": "execute_result"
    }
   ],
   "source": [
    "txt2 = \"The Rain Falls @ Spain starts 100 and continued till Next day and that 100 made big and small fallls\"\n",
    "\n",
    "result = re.findall(\"100\",txt2)\n",
    "len(result)"
   ]
  },
  {
   "cell_type": "code",
   "execution_count": 44,
   "id": "0bb75745-a859-4a3b-b582-03d0130fa763",
   "metadata": {},
   "outputs": [
    {
     "data": {
      "text/plain": [
       "['4.55', '9.56']"
      ]
     },
     "execution_count": 44,
     "metadata": {},
     "output_type": "execute_result"
    }
   ],
   "source": [
    "txt2 = \"The Rain Falls @ Spain starts 4.55 and continued till Next day and that made big 9.56 and 78 small fallls\"\n",
    "\n",
    "result = re.findall(\"[0-9].[0-9][0-9]\",txt2)\n",
    "result"
   ]
  },
  {
   "cell_type": "code",
   "execution_count": 45,
   "id": "648184e0-851c-4a75-a3a0-3796163ea869",
   "metadata": {},
   "outputs": [
    {
     "data": {
      "text/plain": [
       "['falling']"
      ]
     },
     "execution_count": 45,
     "metadata": {},
     "output_type": "execute_result"
    }
   ],
   "source": [
    "import re\n",
    "\n",
    "txt = \"The Rain falling when we traveling by train at 55:30 it drain our warmness to -17 celsiums\"\n",
    "\n",
    "numbers = re.findall(r\"\\bf\\w*\", txt)\n",
    "numbers"
   ]
  },
  {
   "cell_type": "code",
   "execution_count": 46,
   "id": "9200e94f-16c3-4b59-8590-02001f85f2ca",
   "metadata": {},
   "outputs": [
    {
     "name": "stdout",
     "output_type": "stream",
     "text": [
      "['tommorow', 'to', 'today']\n"
     ]
    }
   ],
   "source": [
    "#extracting all the terms that begins with \"t\"\n",
    "import re\n",
    "\n",
    "txt = \"My flight is 04.300 am tommorow, I have to make purchases before today 11.00 o'clock, and it will cost me 9432\"\n",
    "\n",
    "\n",
    "print(re.findall(r\"\\bt\\w+\", txt))"
   ]
  },
  {
   "cell_type": "code",
   "execution_count": 47,
   "id": "edf59b67-6bdf-4e1a-9bdb-a4dcada2f6a2",
   "metadata": {},
   "outputs": [
    {
     "name": "stdout",
     "output_type": "stream",
     "text": [
      "<re.Match object; span=(17, 22), match='Spain'>\n"
     ]
    },
    {
     "data": {
      "text/plain": [
       "(17, 22)"
      ]
     },
     "execution_count": 47,
     "metadata": {},
     "output_type": "execute_result"
    }
   ],
   "source": [
    "txt2 = \"The Rain Falls @ Spain starts 4 and continued till Next day and that made big and small fallls\"\n",
    "\n",
    "result = re.search(\"Spain\",txt2)\n",
    "print(result)\n",
    "result.span()"
   ]
  },
  {
   "cell_type": "code",
   "execution_count": 48,
   "id": "4c963b31-f29e-4e86-a0a5-beac169a250e",
   "metadata": {},
   "outputs": [
    {
     "name": "stdout",
     "output_type": "stream",
     "text": [
      "<re.Match object; span=(17, 22), match='Spain'>\n"
     ]
    },
    {
     "data": {
      "text/plain": [
       "(17, 22)"
      ]
     },
     "execution_count": 48,
     "metadata": {},
     "output_type": "execute_result"
    }
   ],
   "source": [
    "txt2 = \"The Rain Falls @ Spain starts 4 and continued till Next day and that Spain made big and small fallls\"\n",
    "\n",
    "result = re.search(\"Spain\",txt2)\n",
    "print(result)\n",
    "result.span()"
   ]
  },
  {
   "cell_type": "code",
   "execution_count": 49,
   "id": "af395806-1b55-4de0-9911-eb244da31c34",
   "metadata": {},
   "outputs": [
    {
     "data": {
      "text/plain": [
       "'The Cet end Rets ere not Live togethers end the ere not friends'"
      ]
     },
     "execution_count": 49,
     "metadata": {},
     "output_type": "execute_result"
    }
   ],
   "source": [
    "txt = \"The Cat and Rats are not Live togethers and the are not friends\"\n",
    "result = re.sub(\"a\", \"e\", txt)\n",
    "result"
   ]
  },
  {
   "cell_type": "code",
   "execution_count": 50,
   "id": "b2377fde-241d-40a3-b916-916e73058868",
   "metadata": {},
   "outputs": [
    {
     "data": {
      "text/plain": [
       "'herro worrd'"
      ]
     },
     "execution_count": 50,
     "metadata": {},
     "output_type": "execute_result"
    }
   ],
   "source": [
    "a = \"hello world\"\n",
    "b = a.replace(\"l\", \"r\")\n",
    "b"
   ]
  },
  {
   "cell_type": "code",
   "execution_count": 51,
   "id": "ca9a1941-0c25-44aa-84f2-04626d73293f",
   "metadata": {},
   "outputs": [
    {
     "data": {
      "text/plain": [
       "'The_Cat_and_Rats_are_not_Live_togethers_and_the_are_not_friends'"
      ]
     },
     "execution_count": 51,
     "metadata": {},
     "output_type": "execute_result"
    }
   ],
   "source": [
    "import re\n",
    "txt = \"The Cat and Rats are not Live togethers and the are not friends\"\n",
    "result = re.sub(\"\\s\", \"_\", txt)\n",
    "result"
   ]
  },
  {
   "cell_type": "code",
   "execution_count": 52,
   "id": "bcb74a71-4297-41a8-8ec9-5cc222ae719a",
   "metadata": {},
   "outputs": [
    {
     "data": {
      "text/plain": [
       "['The',\n",
       " 'Cat',\n",
       " 'and',\n",
       " 'Rats',\n",
       " 'are',\n",
       " 'not',\n",
       " 'Live',\n",
       " 'togethers',\n",
       " 'and',\n",
       " 'the',\n",
       " 'are',\n",
       " 'not',\n",
       " 'friends']"
      ]
     },
     "execution_count": 52,
     "metadata": {},
     "output_type": "execute_result"
    }
   ],
   "source": [
    "import re\n",
    "txt = \"The Cat and Rats are not Live togethers and the are not friends\"\n",
    "\n",
    "result = re.split(\"\\s\", txt)\n",
    "#result = re.split(\" \", txt)\n",
    "result"
   ]
  },
  {
   "cell_type": "code",
   "execution_count": 52,
   "id": "d88d360a-3c16-4e97-9195-2aabce4c46a4",
   "metadata": {},
   "outputs": [
    {
     "data": {
      "text/plain": [
       "['hello', 'world']"
      ]
     },
     "execution_count": 52,
     "metadata": {},
     "output_type": "execute_result"
    }
   ],
   "source": [
    "a = \"hello world\"\n",
    "b = a.split()\n",
    "b"
   ]
  },
  {
   "cell_type": "code",
   "execution_count": 53,
   "id": "249107df-59a5-44f6-8630-af851ce1298b",
   "metadata": {},
   "outputs": [
    {
     "data": {
      "text/plain": [
       "['The Ca',\n",
       " ' and Ra',\n",
       " 's are no',\n",
       " ' Live ',\n",
       " 'oge',\n",
       " 'hers and ',\n",
       " 'he are no',\n",
       " ' friends']"
      ]
     },
     "execution_count": 53,
     "metadata": {},
     "output_type": "execute_result"
    }
   ],
   "source": [
    "import re\n",
    "txt = \"The Cat and Rats are not Live togethers and the are not friends\"\n",
    "\n",
    "result = re.split(\"t\", txt)\n",
    "result"
   ]
  },
  {
   "cell_type": "code",
   "execution_count": 54,
   "id": "5e49e22c-f948-4529-b39d-f0486ea33e20",
   "metadata": {},
   "outputs": [
    {
     "name": "stdout",
     "output_type": "stream",
     "text": [
      "Extracted Dates: ['06-01-2025', '2024/12/15', '15-12-2024']\n"
     ]
    }
   ],
   "source": [
    "import re\n",
    "\n",
    "# Sample text containing dates\n",
    "text = \"Today's date is 06-01-2025 and the project started on 2024/12/15. Another date is 15-12-2024.\"\n",
    "\n",
    "# Regular expression pattern to match dates in formats like DD-MM-YYYY, YYYY/MM/DD, or MM/DD/YYYY\n",
    "pattern = r'\\b(?:\\d{2}[/-]\\d{2}[/-]\\d{4}|\\d{4}[/-]\\d{2}[/-]\\d{2})\\b'\n",
    "\n",
    "# Find all matches\n",
    "dates = re.findall(pattern, text)\n",
    "\n",
    "# Print the results\n",
    "print(\"Extracted Dates:\", dates)\n"
   ]
  },
  {
   "cell_type": "code",
   "execution_count": 55,
   "id": "6653e08f-a8ee-4049-913c-8de2e1696ab2",
   "metadata": {},
   "outputs": [
    {
     "name": "stdout",
     "output_type": "stream",
     "text": [
      "Extracted Emails: ['support@example.com', 'sales@example.co.in', 'john.doe123@domain.org']\n"
     ]
    }
   ],
   "source": [
    "import re\n",
    "\n",
    "# Sample text containing emails\n",
    "text = \"Contact us at support@example.com or sales@example.co.in for more details. You can also reach john.doe123@domain.org.\"\n",
    "\n",
    "# Regular expression pattern to match emails\n",
    "pattern = r'[a-zA-Z0-9._%+-]+@[a-zA-Z0-9.-]+\\.[a-zA-Z]{2,}'\n",
    "\n",
    "# Find all matches\n",
    "emails = re.findall(pattern, text)\n",
    "\n",
    "# Print the results\n",
    "print(\"Extracted Emails:\", emails)\n"
   ]
  },
  {
   "cell_type": "code",
   "execution_count": 56,
   "id": "c84ad0ce-6af7-4848-b04c-0ae47067fc6e",
   "metadata": {},
   "outputs": [
    {
     "name": "stdout",
     "output_type": "stream",
     "text": [
      "Extracted URLs: ['https://www.example.com', 'http://example.org.', 'www.test-site.net']\n"
     ]
    }
   ],
   "source": [
    "import re\n",
    "\n",
    "# Sample text containing URLs\n",
    "text = \"Visit our website at https://www.example.com or http://example.org. Also, check out www.test-site.net and sub.example.co.in/path?query=1.\"\n",
    "\n",
    "# Regular expression pattern to match URLs\n",
    "pattern = r'(https?://[^\\s]+|www\\.[^\\s]+)'\n",
    "\n",
    "# Find all matches\n",
    "urls = re.findall(pattern, text)\n",
    "\n",
    "# Print the results\n",
    "print(\"Extracted URLs:\", urls)\n"
   ]
  },
  {
   "cell_type": "code",
   "execution_count": 49,
   "id": "f4b7a0b9-dd0d-450a-9260-eab94123f158",
   "metadata": {},
   "outputs": [
    {
     "data": {
      "text/plain": [
       "['A',\n",
       " 'ASCII',\n",
       " 'DEBUG',\n",
       " 'DOTALL',\n",
       " 'I',\n",
       " 'IGNORECASE',\n",
       " 'L',\n",
       " 'LOCALE',\n",
       " 'M',\n",
       " 'MULTILINE',\n",
       " 'Match',\n",
       " 'NOFLAG',\n",
       " 'Pattern',\n",
       " 'RegexFlag',\n",
       " 'S',\n",
       " 'Scanner',\n",
       " 'T',\n",
       " 'TEMPLATE',\n",
       " 'U',\n",
       " 'UNICODE',\n",
       " 'VERBOSE',\n",
       " 'X',\n",
       " '_MAXCACHE',\n",
       " '__all__',\n",
       " '__builtins__',\n",
       " '__cached__',\n",
       " '__doc__',\n",
       " '__file__',\n",
       " '__loader__',\n",
       " '__name__',\n",
       " '__package__',\n",
       " '__path__',\n",
       " '__spec__',\n",
       " '__version__',\n",
       " '_cache',\n",
       " '_casefix',\n",
       " '_compile',\n",
       " '_compile_repl',\n",
       " '_compiler',\n",
       " '_constants',\n",
       " '_expand',\n",
       " '_parser',\n",
       " '_pickle',\n",
       " '_special_chars_map',\n",
       " '_subx',\n",
       " 'compile',\n",
       " 'copyreg',\n",
       " 'enum',\n",
       " 'error',\n",
       " 'escape',\n",
       " 'findall',\n",
       " 'finditer',\n",
       " 'fullmatch',\n",
       " 'functools',\n",
       " 'match',\n",
       " 'purge',\n",
       " 'search',\n",
       " 'split',\n",
       " 'sub',\n",
       " 'subn',\n",
       " 'template']"
      ]
     },
     "execution_count": 49,
     "metadata": {},
     "output_type": "execute_result"
    }
   ],
   "source": [
    "dir(re)"
   ]
  },
  {
   "cell_type": "markdown",
   "id": "a3030047-cd91-4b29-9ddb-273f7a963bd2",
   "metadata": {},
   "source": [
    "# Numpy -- Numerical Python\n",
    " a famous library which adopted by python, keras, tensorflow, scikit lear.. etc ml and backend frameworks of python\n",
    "     numpys are  allows all the operations which we can  perform on a list  apart from that we can perform mathematical operations, it will allow us to create 1D, 2D, 3D,.... arrays as well as  we can create random numbers arrays as well we can generate datas in between boundaries based, we can perform central tendencies  based on rows and cols on a matrix, we can extract the datas based on conditions , we can reshape 1 dimensional arrays to two dimensional vice versa till 3D,  we can do boolean masking. matrix multiplication, dot product\n",
    "\n",
    "     numpys are faster than a list because unlike lists numpy are follows the continuous memory methods as well ilists are while iterating they take every elements on a list and works on the dtype memry allocation scattered memroy storag that makes a list is 50 times slower then numpy array because numpy array follows continuous memory format and it will easily retrives the data faster then a list"
   ]
  },
  {
   "cell_type": "code",
   "execution_count": 34,
   "id": "10e85d62-84f5-4137-bc30-1a0974fe931b",
   "metadata": {},
   "outputs": [
    {
     "name": "stdout",
     "output_type": "stream",
     "text": [
      "Requirement already satisfied: numpy in c:\\users\\pugal\\appdata\\local\\programs\\python\\python311\\lib\\site-packages (1.24.3)\n",
      "Note: you may need to restart the kernel to use updated packages.\n"
     ]
    },
    {
     "name": "stderr",
     "output_type": "stream",
     "text": [
      "WARNING: Error parsing dependencies of textract: .* suffix can only be used with `==` or `!=` operators\n",
      "    extract-msg (<=0.29.*)\n",
      "                 ~~~~~~~^\n"
     ]
    }
   ],
   "source": [
    "pip install numpy"
   ]
  },
  {
   "cell_type": "code",
   "execution_count": 1,
   "id": "7cc33752-d264-40a9-807a-40e247182b1b",
   "metadata": {},
   "outputs": [
    {
     "data": {
      "text/plain": [
       "'2.3.0'"
      ]
     },
     "execution_count": 1,
     "metadata": {},
     "output_type": "execute_result"
    }
   ],
   "source": [
    "import numpy as np\n",
    "np.__version__"
   ]
  },
  {
   "cell_type": "code",
   "execution_count": 2,
   "id": "c1923119-80bb-40a8-a27c-4f7ef9f2ee7f",
   "metadata": {},
   "outputs": [
    {
     "name": "stdout",
     "output_type": "stream",
     "text": [
      "\n",
      "NumPy\n",
      "=====\n",
      "\n",
      "Provides\n",
      "  1. An array object of arbitrary homogeneous items\n",
      "  2. Fast mathematical operations over arrays\n",
      "  3. Linear Algebra, Fourier Transforms, Random Number Generation\n",
      "\n",
      "How to use the documentation\n",
      "----------------------------\n",
      "Documentation is available in two forms: docstrings provided\n",
      "with the code, and a loose standing reference guide, available from\n",
      "`the NumPy homepage <https://numpy.org>`_.\n",
      "\n",
      "We recommend exploring the docstrings using\n",
      "`IPython <https://ipython.org>`_, an advanced Python shell with\n",
      "TAB-completion and introspection capabilities.  See below for further\n",
      "instructions.\n",
      "\n",
      "The docstring examples assume that `numpy` has been imported as ``np``::\n",
      "\n",
      "  >>> import numpy as np\n",
      "\n",
      "Code snippets are indicated by three greater-than signs::\n",
      "\n",
      "  >>> x = 42\n",
      "  >>> x = x + 1\n",
      "\n",
      "Use the built-in ``help`` function to view a function's docstring::\n",
      "\n",
      "  >>> help(np.sort)\n",
      "  ... # doctest: +SKIP\n",
      "\n",
      "For some objects, ``np.info(obj)`` may provide additional help.  This is\n",
      "particularly true if you see the line \"Help on ufunc object:\" at the top\n",
      "of the help() page.  Ufuncs are implemented in C, not Python, for speed.\n",
      "The native Python help() does not know how to view their help, but our\n",
      "np.info() function does.\n",
      "\n",
      "Available subpackages\n",
      "---------------------\n",
      "lib\n",
      "    Basic functions used by several sub-packages.\n",
      "random\n",
      "    Core Random Tools\n",
      "linalg\n",
      "    Core Linear Algebra Tools\n",
      "fft\n",
      "    Core FFT routines\n",
      "polynomial\n",
      "    Polynomial tools\n",
      "testing\n",
      "    NumPy testing tools\n",
      "distutils\n",
      "    Enhancements to distutils with support for\n",
      "    Fortran compilers support and more (for Python <= 3.11)\n",
      "\n",
      "Utilities\n",
      "---------\n",
      "test\n",
      "    Run numpy unittests\n",
      "show_config\n",
      "    Show numpy build configuration\n",
      "__version__\n",
      "    NumPy version string\n",
      "\n",
      "Viewing documentation using IPython\n",
      "-----------------------------------\n",
      "\n",
      "Start IPython and import `numpy` usually under the alias ``np``: `import\n",
      "numpy as np`.  Then, directly past or use the ``%cpaste`` magic to paste\n",
      "examples into the shell.  To see which functions are available in `numpy`,\n",
      "type ``np.<TAB>`` (where ``<TAB>`` refers to the TAB key), or use\n",
      "``np.*cos*?<ENTER>`` (where ``<ENTER>`` refers to the ENTER key) to narrow\n",
      "down the list.  To view the docstring for a function, use\n",
      "``np.cos?<ENTER>`` (to view the docstring) and ``np.cos??<ENTER>`` (to view\n",
      "the source code).\n",
      "\n",
      "Copies vs. in-place operation\n",
      "-----------------------------\n",
      "Most of the functions in `numpy` return a copy of the array argument\n",
      "(e.g., `np.sort`).  In-place versions of these functions are often\n",
      "available as array methods, i.e. ``x = np.array([1,2,3]); x.sort()``.\n",
      "Exceptions to this rule are documented.\n",
      "\n",
      "\n"
     ]
    }
   ],
   "source": [
    "print(np.__doc__)"
   ]
  },
  {
   "cell_type": "code",
   "execution_count": 3,
   "id": "e676cf51-6a96-46db-972c-f39e048d2bbd",
   "metadata": {},
   "outputs": [
    {
     "data": {
      "text/plain": [
       "array([3, 2, 6, 7])"
      ]
     },
     "execution_count": 3,
     "metadata": {},
     "output_type": "execute_result"
    }
   ],
   "source": [
    "import numpy as np\n",
    "arr1 = np.array([3,2,6,7]) # a one dimensional array is a normal array without nested\n",
    "arr1"
   ]
  },
  {
   "cell_type": "code",
   "execution_count": 4,
   "id": "f7de5c58-be5a-411f-b3c1-633ed70c03f6",
   "metadata": {},
   "outputs": [
    {
     "data": {
      "text/plain": [
       "array(['4', '2', '7', 'Hello', 'False'], dtype='<U21')"
      ]
     },
     "execution_count": 4,
     "metadata": {},
     "output_type": "execute_result"
    }
   ],
   "source": [
    "# what if it is a hetrogeneous -- numpy array try convert all the elements as same dtype\n",
    "arr1 = np.array([4,2,7, \"Hello\", False])\n",
    "arr1"
   ]
  },
  {
   "cell_type": "code",
   "execution_count": 5,
   "id": "476b1fc8-23ac-4e10-86e1-000fd596e020",
   "metadata": {},
   "outputs": [
    {
     "data": {
      "text/plain": [
       "array([[4, 2, 3],\n",
       "       [5, 1, 8]])"
      ]
     },
     "execution_count": 5,
     "metadata": {},
     "output_type": "execute_result"
    }
   ],
   "source": [
    "# creating a two dimensional array\n",
    "\n",
    "arr2 = np.array([[4,2,3],[5,1,8]])\n",
    "arr2"
   ]
  },
  {
   "cell_type": "code",
   "execution_count": 6,
   "id": "3e89ded1-7b96-4244-842b-a373a639a204",
   "metadata": {},
   "outputs": [
    {
     "data": {
      "text/plain": [
       "1"
      ]
     },
     "execution_count": 6,
     "metadata": {},
     "output_type": "execute_result"
    }
   ],
   "source": [
    "arr1.ndim"
   ]
  },
  {
   "cell_type": "code",
   "execution_count": 8,
   "id": "ffdfa683-a8ba-4a22-a2db-4d5afcb07ba2",
   "metadata": {},
   "outputs": [
    {
     "data": {
      "text/plain": [
       "2"
      ]
     },
     "execution_count": 8,
     "metadata": {},
     "output_type": "execute_result"
    }
   ],
   "source": [
    "arr2.ndim"
   ]
  },
  {
   "cell_type": "code",
   "execution_count": 9,
   "id": "14975970-6345-4a05-ae13-89b6bb07b2d9",
   "metadata": {},
   "outputs": [
    {
     "data": {
      "text/plain": [
       "(2, 3)"
      ]
     },
     "execution_count": 9,
     "metadata": {},
     "output_type": "execute_result"
    }
   ],
   "source": [
    "arr2.shape"
   ]
  },
  {
   "cell_type": "code",
   "execution_count": 10,
   "id": "2902866b-2af7-41b4-ae9d-6b92ef2237ce",
   "metadata": {},
   "outputs": [
    {
     "data": {
      "text/plain": [
       "dtype('int64')"
      ]
     },
     "execution_count": 10,
     "metadata": {},
     "output_type": "execute_result"
    }
   ],
   "source": [
    "arr2.dtype"
   ]
  },
  {
   "cell_type": "code",
   "execution_count": 13,
   "id": "da2187eb-f550-4cbd-85bc-4346cc688a56",
   "metadata": {},
   "outputs": [
    {
     "data": {
      "text/plain": [
       "array([[4, 2, 3],\n",
       "       [5, 1, 8]])"
      ]
     },
     "execution_count": 13,
     "metadata": {},
     "output_type": "execute_result"
    }
   ],
   "source": [
    "arr2 = np.array([[4,2,3],[5,1,8]])\n",
    "arr2"
   ]
  },
  {
   "cell_type": "code",
   "execution_count": 14,
   "id": "71a6c5c5-75cb-474f-8714-0dcf623eb414",
   "metadata": {},
   "outputs": [
    {
     "data": {
      "text/plain": [
       "np.int64(1)"
      ]
     },
     "execution_count": 14,
     "metadata": {},
     "output_type": "execute_result"
    }
   ],
   "source": [
    "# how we can retrive the data from a2 Dimensional array\n",
    "arr2[1,1]\n"
   ]
  },
  {
   "cell_type": "code",
   "execution_count": 15,
   "id": "fc36c3db-3d2a-4b2f-b983-a97c9d7802fe",
   "metadata": {},
   "outputs": [
    {
     "data": {
      "text/plain": [
       "np.int64(8)"
      ]
     },
     "execution_count": 15,
     "metadata": {},
     "output_type": "execute_result"
    }
   ],
   "source": [
    "arr2[1,2]"
   ]
  },
  {
   "cell_type": "code",
   "execution_count": 16,
   "id": "6db53dc9-225e-4238-bb71-98c98472f115",
   "metadata": {},
   "outputs": [
    {
     "ename": "IndexError",
     "evalue": "index 4444 is out of bounds for axis 0 with size 2",
     "output_type": "error",
     "traceback": [
      "\u001b[1;31m---------------------------------------------------------------------------\u001b[0m",
      "\u001b[1;31mIndexError\u001b[0m                                Traceback (most recent call last)",
      "Cell \u001b[1;32mIn[16], line 1\u001b[0m\n\u001b[1;32m----> 1\u001b[0m \u001b[43marr2\u001b[49m\u001b[43m[\u001b[49m\u001b[38;5;241;43m4444\u001b[39;49m\u001b[43m,\u001b[49m\u001b[38;5;241;43m2222\u001b[39;49m\u001b[43m]\u001b[49m\n",
      "\u001b[1;31mIndexError\u001b[0m: index 4444 is out of bounds for axis 0 with size 2"
     ]
    }
   ],
   "source": [
    "arr2[4444,2222]"
   ]
  },
  {
   "cell_type": "code",
   "execution_count": 17,
   "id": "2e54af00-1c6a-40e7-8e0b-a126ebb78e40",
   "metadata": {},
   "outputs": [
    {
     "name": "stdout",
     "output_type": "stream",
     "text": [
      "[[4 2 3]\n",
      " [5 1 8]]\n"
     ]
    },
    {
     "data": {
      "text/plain": [
       "array([3, 8])"
      ]
     },
     "execution_count": 17,
     "metadata": {},
     "output_type": "execute_result"
    }
   ],
   "source": [
    "arr2 = np.array([[4,2,3],[5,1,8]])\n",
    "print(arr2)\n",
    "arr2[:,2] # all the row datas from the second column\n"
   ]
  },
  {
   "cell_type": "code",
   "execution_count": 18,
   "id": "8f954d1e-22b4-475b-b568-4bb3526dc94e",
   "metadata": {},
   "outputs": [
    {
     "data": {
      "text/plain": [
       "array([5, 1, 8])"
      ]
     },
     "execution_count": 18,
     "metadata": {},
     "output_type": "execute_result"
    }
   ],
   "source": [
    "arr2[1,:] # retriving all the columns datas corresponding to row 1"
   ]
  },
  {
   "cell_type": "code",
   "execution_count": 19,
   "id": "c3ae0063-7b50-4c87-9eef-d0812bff60dd",
   "metadata": {},
   "outputs": [
    {
     "data": {
      "text/plain": [
       "array([5, 1])"
      ]
     },
     "execution_count": 19,
     "metadata": {},
     "output_type": "execute_result"
    }
   ],
   "source": [
    "arr2[1,:2]"
   ]
  },
  {
   "cell_type": "code",
   "execution_count": 20,
   "id": "e5971865-6650-4f54-b551-a5a12f247746",
   "metadata": {},
   "outputs": [
    {
     "data": {
      "text/plain": [
       "array([2, 1])"
      ]
     },
     "execution_count": 20,
     "metadata": {},
     "output_type": "execute_result"
    }
   ],
   "source": [
    "arr2[:,1]"
   ]
  },
  {
   "cell_type": "code",
   "execution_count": 21,
   "id": "d384ff2f-5987-42ca-82b0-e2b968b134ca",
   "metadata": {},
   "outputs": [
    {
     "data": {
      "text/plain": [
       "array([0., 0., 0.])"
      ]
     },
     "execution_count": 21,
     "metadata": {},
     "output_type": "execute_result"
    }
   ],
   "source": [
    "import numpy as np\n",
    "\n",
    "arr1 = np.zeros(3) # generating a 1 dimensional array filled with zeros 3 times\n",
    "arr1"
   ]
  },
  {
   "cell_type": "code",
   "execution_count": 22,
   "id": "04a3ddef-0f09-403c-99bb-c570749928a1",
   "metadata": {},
   "outputs": [
    {
     "data": {
      "text/plain": [
       "array([[0., 0., 0.],\n",
       "       [0., 0., 0.],\n",
       "       [0., 0., 0.]])"
      ]
     },
     "execution_count": 22,
     "metadata": {},
     "output_type": "execute_result"
    }
   ],
   "source": [
    "arr2 = np.zeros((3,3))\n",
    "arr2"
   ]
  },
  {
   "cell_type": "code",
   "execution_count": 24,
   "id": "6af112fa-04c0-470a-aaea-0e8af1a18e91",
   "metadata": {},
   "outputs": [
    {
     "data": {
      "text/plain": [
       "array([[[0., 0., 0.],\n",
       "        [0., 0., 0.]],\n",
       "\n",
       "       [[0., 0., 0.],\n",
       "        [0., 0., 0.]]])"
      ]
     },
     "execution_count": 24,
     "metadata": {},
     "output_type": "execute_result"
    }
   ],
   "source": [
    "# 3D dimensional array -- a array that contains n number of 2 Dimensional array\n",
    "\n",
    "arr3 = np.zeros((2, 2,3))\n",
    "arr3"
   ]
  },
  {
   "cell_type": "code",
   "execution_count": 25,
   "id": "f24d01ec-0e7f-4315-af36-88f5d8bf9f8f",
   "metadata": {},
   "outputs": [
    {
     "name": "stdout",
     "output_type": "stream",
     "text": [
      "[[[0. 0. 0.]\n",
      "  [0. 0. 0.]]\n",
      "\n",
      " [[0. 0. 0.]\n",
      "  [0. 0. 0.]]]\n",
      "3\n"
     ]
    }
   ],
   "source": [
    "print(arr3)\n",
    "print(arr3.ndim)"
   ]
  },
  {
   "cell_type": "code",
   "execution_count": 26,
   "id": "ca38065d-35b0-4f4a-9c9a-2f5f5933b10d",
   "metadata": {},
   "outputs": [
    {
     "name": "stdout",
     "output_type": "stream",
     "text": [
      "[[[[0. 0.]\n",
      "   [0. 0.]]\n",
      "\n",
      "  [[0. 0.]\n",
      "   [0. 0.]]]\n",
      "\n",
      "\n",
      " [[[0. 0.]\n",
      "   [0. 0.]]\n",
      "\n",
      "  [[0. 0.]\n",
      "   [0. 0.]]]]\n",
      "4\n"
     ]
    }
   ],
   "source": [
    "arr4 = np.zeros((2,2,2,2))\n",
    "print(arr4)\n",
    "print(arr4.ndim)"
   ]
  },
  {
   "cell_type": "code",
   "execution_count": 30,
   "id": "c05f3bad-02b0-42f1-84c6-2fa55898dee7",
   "metadata": {},
   "outputs": [
    {
     "data": {
      "text/plain": [
       "array([[1., 1., 1., 1.],\n",
       "       [1., 1., 1., 1.],\n",
       "       [1., 1., 1., 1.]])"
      ]
     },
     "execution_count": 30,
     "metadata": {},
     "output_type": "execute_result"
    }
   ],
   "source": [
    "import numpy as np\n",
    "\n",
    "arr1 = np.ones((3,4))\n",
    "arr1"
   ]
  },
  {
   "cell_type": "code",
   "execution_count": 27,
   "id": "c74b25f1-4f92-4209-9131-8a7eed01b933",
   "metadata": {},
   "outputs": [
    {
     "data": {
      "text/plain": [
       "array([[7, 7],\n",
       "       [7, 7]])"
      ]
     },
     "execution_count": 27,
     "metadata": {},
     "output_type": "execute_result"
    }
   ],
   "source": [
    "arr2 = np.full((2,2),7)\n",
    "arr2"
   ]
  },
  {
   "cell_type": "code",
   "execution_count": 28,
   "id": "3d66cc91-9215-4a12-9a43-07e41078d9f7",
   "metadata": {},
   "outputs": [
    {
     "data": {
      "text/plain": [
       "array([[5, 5],\n",
       "       [5, 5]])"
      ]
     },
     "execution_count": 28,
     "metadata": {},
     "output_type": "execute_result"
    }
   ],
   "source": [
    "arr3 = np.full_like(arr2,5)\n",
    "arr3"
   ]
  },
  {
   "cell_type": "code",
   "execution_count": 29,
   "id": "0bac77c9-5bdf-49c9-a13a-358398e4386f",
   "metadata": {},
   "outputs": [
    {
     "name": "stdout",
     "output_type": "stream",
     "text": [
      "(2, 2, 2)\n",
      "3\n",
      "6\n",
      "[6 9]\n",
      "[[3 4]\n",
      " [8 9]]\n",
      "[4 9]\n"
     ]
    }
   ],
   "source": [
    "# 3d indexing\n",
    "import numpy as np\n",
    "\n",
    "arr1 =np.array( [\n",
    "    [\n",
    "        [1,2],\n",
    "        [3,4]\n",
    "    ],\n",
    "    [\n",
    "        [5,6],\n",
    "        [8,9]\n",
    "    ]\n",
    "])\n",
    "\n",
    "print(arr1.shape)\n",
    "print(arr1.ndim)\n",
    "print(arr1[1,0,1]) #6\n",
    "print(arr1[1,:,1]) #6,9\n",
    "print(arr1[:,1,:])\n",
    "print(arr1[:,1,1]) #4,9\n",
    "\n",
    "\n"
   ]
  },
  {
   "cell_type": "code",
   "execution_count": 30,
   "id": "ad71fcd3-edd8-465f-b04c-60b1fdfaf298",
   "metadata": {},
   "outputs": [
    {
     "data": {
      "text/plain": [
       "array([[0.88098844, 0.67201091, 0.83728163],\n",
       "       [0.02519456, 0.23561362, 0.75768832]])"
      ]
     },
     "execution_count": 30,
     "metadata": {},
     "output_type": "execute_result"
    }
   ],
   "source": [
    "# genrating the random datas using the numpy \n",
    "\n",
    "#random.rand -- will generate float datas within the boundary of 0 and 1\n",
    "\n",
    "arr1 = np.random.rand(2,3)\n",
    "arr1"
   ]
  },
  {
   "cell_type": "code",
   "execution_count": 31,
   "id": "12940ce6-777c-44f3-a1c9-8250e2b5b1aa",
   "metadata": {},
   "outputs": [
    {
     "data": {
      "text/plain": [
       "array([[ 5, 20, 10],\n",
       "       [22, 15, 14],\n",
       "       [ 8,  7,  8]], dtype=int32)"
      ]
     },
     "execution_count": 31,
     "metadata": {},
     "output_type": "execute_result"
    }
   ],
   "source": [
    "# to generat the random integers we can use random.randint\n",
    "\n",
    "arr2 = np.random.randint(5,25, size = (3,3))\n",
    "arr2"
   ]
  },
  {
   "cell_type": "code",
   "execution_count": 33,
   "id": "e646d14b-754f-41d4-932e-f04ea834aece",
   "metadata": {},
   "outputs": [
    {
     "data": {
      "text/plain": [
       "array([[ 5, 20, 10],\n",
       "       [22, 15, 14],\n",
       "       [ 8,  7,  8]], dtype=int32)"
      ]
     },
     "execution_count": 33,
     "metadata": {},
     "output_type": "execute_result"
    }
   ],
   "source": [
    "# how to modify the arrays data\n",
    "arr2"
   ]
  },
  {
   "cell_type": "code",
   "execution_count": 34,
   "id": "59021894-7fea-4ffc-982a-6c1378b1446d",
   "metadata": {},
   "outputs": [
    {
     "data": {
      "text/plain": [
       "array([[ 5, 20, 10],\n",
       "       [22, 15, 67],\n",
       "       [ 8,  7,  8]], dtype=int32)"
      ]
     },
     "execution_count": 34,
     "metadata": {},
     "output_type": "execute_result"
    }
   ],
   "source": [
    "arr2[1,2] = 67\n",
    "arr2"
   ]
  },
  {
   "cell_type": "code",
   "execution_count": 35,
   "id": "32f92a6a-798c-4a0b-9083-229ba6985489",
   "metadata": {},
   "outputs": [
    {
     "data": {
      "text/plain": [
       "array([[ 5, 20, 10],\n",
       "       [22, 15, 67],\n",
       "       [88, 99, 77]], dtype=int32)"
      ]
     },
     "execution_count": 35,
     "metadata": {},
     "output_type": "execute_result"
    }
   ],
   "source": [
    "arr2[2,:] = [88,99,77]\n",
    "arr2"
   ]
  },
  {
   "cell_type": "code",
   "execution_count": 36,
   "id": "224cf7cc-7516-4082-85c3-9886ce823420",
   "metadata": {},
   "outputs": [
    {
     "data": {
      "text/plain": [
       "array([[ 5, 20,  0],\n",
       "       [22, 15,  0],\n",
       "       [88, 99,  0]], dtype=int32)"
      ]
     },
     "execution_count": 36,
     "metadata": {},
     "output_type": "execute_result"
    }
   ],
   "source": [
    "arr2[:,2] = 0\n",
    "arr2"
   ]
  },
  {
   "cell_type": "code",
   "execution_count": 38,
   "id": "190e9190-6d84-4dd4-a17f-ba16b28c176e",
   "metadata": {},
   "outputs": [
    {
     "data": {
      "text/plain": [
       "array([[[13, 18,  7],\n",
       "        [12, 22, 10],\n",
       "        [ 8,  6, 10]],\n",
       "\n",
       "       [[15, 22, 13],\n",
       "        [ 5, 12, 13],\n",
       "        [ 8, 22, 21]]], dtype=int32)"
      ]
     },
     "execution_count": 38,
     "metadata": {},
     "output_type": "execute_result"
    }
   ],
   "source": [
    "arr2 = np.random.randint(5,25, size = (2,3,3))\n",
    "arr2"
   ]
  },
  {
   "cell_type": "code",
   "execution_count": 39,
   "id": "9e8f98d4-53a1-42c9-9862-a4c01bf63d3b",
   "metadata": {},
   "outputs": [
    {
     "data": {
      "text/plain": [
       "array([[[13, 18,  7],\n",
       "        [12, 22, 10],\n",
       "        [ 8,  6, 10]],\n",
       "\n",
       "       [[15, 22, 13],\n",
       "        [33, 44, 55],\n",
       "        [ 8, 22, 21]]], dtype=int32)"
      ]
     },
     "execution_count": 39,
     "metadata": {},
     "output_type": "execute_result"
    }
   ],
   "source": [
    "arr2[1,1,:] = [33,44,55]\n",
    "arr2"
   ]
  },
  {
   "cell_type": "code",
   "execution_count": 40,
   "id": "b8b00f98-b030-44fa-856c-8ecf80d50d32",
   "metadata": {},
   "outputs": [
    {
     "data": {
      "text/plain": [
       "array([[[[ 6,  9, 15],\n",
       "         [ 9,  6, 16],\n",
       "         [ 9, 24, 18]],\n",
       "\n",
       "        [[15,  6, 17],\n",
       "         [18, 14,  8],\n",
       "         [ 8, 10, 21]]],\n",
       "\n",
       "\n",
       "       [[[11, 19,  5],\n",
       "         [17, 16, 12],\n",
       "         [14, 24, 11]],\n",
       "\n",
       "        [[19,  7, 10],\n",
       "         [ 9, 14, 21],\n",
       "         [11,  7,  5]]]], dtype=int32)"
      ]
     },
     "execution_count": 40,
     "metadata": {},
     "output_type": "execute_result"
    }
   ],
   "source": [
    "arr2 = np.random.randint(5,25, size = (2,2,3,3))\n",
    "arr2"
   ]
  },
  {
   "cell_type": "code",
   "execution_count": 41,
   "id": "1fcf590d-885e-4364-bb35-e0c9fe1ef289",
   "metadata": {},
   "outputs": [
    {
     "ename": "ValueError",
     "evalue": "all the input array dimensions except for the concatenation axis must match exactly, but along dimension 1, the array at index 0 has size 4 and the array at index 1 has size 3",
     "output_type": "error",
     "traceback": [
      "\u001b[1;31m---------------------------------------------------------------------------\u001b[0m",
      "\u001b[1;31mValueError\u001b[0m                                Traceback (most recent call last)",
      "Cell \u001b[1;32mIn[41], line 14\u001b[0m\n\u001b[0;32m      8\u001b[0m arr2 \u001b[38;5;241m=\u001b[39m [[ \u001b[38;5;241m7\u001b[39m, \u001b[38;5;241m18\u001b[39m,  \u001b[38;5;241m5\u001b[39m],\n\u001b[0;32m      9\u001b[0m         [\u001b[38;5;241m33\u001b[39m, \u001b[38;5;241m44\u001b[39m, \u001b[38;5;241m55\u001b[39m],\n\u001b[0;32m     10\u001b[0m         [\u001b[38;5;241m14\u001b[39m,  \u001b[38;5;241m9\u001b[39m,  \u001b[38;5;241m9\u001b[39m]]\n\u001b[0;32m     12\u001b[0m \u001b[38;5;66;03m# if we want to merger two 2D arrays in a single 2d array we use vstack from np\u001b[39;00m\n\u001b[1;32m---> 14\u001b[0m arr3 \u001b[38;5;241m=\u001b[39m \u001b[43mnp\u001b[49m\u001b[38;5;241;43m.\u001b[39;49m\u001b[43mvstack\u001b[49m\u001b[43m(\u001b[49m\u001b[43m[\u001b[49m\u001b[43marr1\u001b[49m\u001b[43m,\u001b[49m\u001b[43marr2\u001b[49m\u001b[43m]\u001b[49m\u001b[43m)\u001b[49m\n\u001b[0;32m     15\u001b[0m arr3\n",
      "File \u001b[1;32m~\\AppData\\Local\\Programs\\Python\\Python311\\Lib\\site-packages\\numpy\\_core\\shape_base.py:292\u001b[0m, in \u001b[0;36mvstack\u001b[1;34m(tup, dtype, casting)\u001b[0m\n\u001b[0;32m    290\u001b[0m \u001b[38;5;28;01mif\u001b[39;00m \u001b[38;5;129;01mnot\u001b[39;00m \u001b[38;5;28misinstance\u001b[39m(arrs, \u001b[38;5;28mtuple\u001b[39m):\n\u001b[0;32m    291\u001b[0m     arrs \u001b[38;5;241m=\u001b[39m (arrs,)\n\u001b[1;32m--> 292\u001b[0m \u001b[38;5;28;01mreturn\u001b[39;00m \u001b[43m_nx\u001b[49m\u001b[38;5;241;43m.\u001b[39;49m\u001b[43mconcatenate\u001b[49m\u001b[43m(\u001b[49m\u001b[43marrs\u001b[49m\u001b[43m,\u001b[49m\u001b[43m \u001b[49m\u001b[38;5;241;43m0\u001b[39;49m\u001b[43m,\u001b[49m\u001b[43m \u001b[49m\u001b[43mdtype\u001b[49m\u001b[38;5;241;43m=\u001b[39;49m\u001b[43mdtype\u001b[49m\u001b[43m,\u001b[49m\u001b[43m \u001b[49m\u001b[43mcasting\u001b[49m\u001b[38;5;241;43m=\u001b[39;49m\u001b[43mcasting\u001b[49m\u001b[43m)\u001b[49m\n",
      "\u001b[1;31mValueError\u001b[0m: all the input array dimensions except for the concatenation axis must match exactly, but along dimension 1, the array at index 0 has size 4 and the array at index 1 has size 3"
     ]
    }
   ],
   "source": [
    "# merging the arrays \n",
    "\n",
    "arr1 = [[14, 20,  9, 4],\n",
    "        [ 5, 21, 12, 23],\n",
    "        [20, 20,  6, 12]]\n",
    "\n",
    "\n",
    "arr2 = [[ 7, 18,  5],\n",
    "        [33, 44, 55],\n",
    "        [14,  9,  9]]\n",
    "\n",
    "# if we want to merger two 2D arrays in a single 2d array we use vstack from np\n",
    "\n",
    "arr3 = np.vstack([arr1,arr2])\n",
    "arr3"
   ]
  },
  {
   "cell_type": "code",
   "execution_count": 42,
   "id": "4b5f0086-5af2-4128-ae0a-0eb17a090d4c",
   "metadata": {},
   "outputs": [
    {
     "data": {
      "text/plain": [
       "array([[14, 20,  9],\n",
       "       [ 5, 21, 12],\n",
       "       [20, 20,  6],\n",
       "       [11, 22, 33],\n",
       "       [ 7, 18,  5],\n",
       "       [33, 44, 55],\n",
       "       [14,  9,  9]])"
      ]
     },
     "execution_count": 42,
     "metadata": {},
     "output_type": "execute_result"
    }
   ],
   "source": [
    "# merging the arrays \n",
    "\n",
    "arr1 = [[14, 20,  9],\n",
    "        [ 5, 21, 12],\n",
    "        [20, 20,  6],\n",
    "        [11, 22, 33]\n",
    "       ]\n",
    "\n",
    "\n",
    "arr2 = [[ 7, 18,  5],\n",
    "        [33, 44, 55],\n",
    "        [14,  9,  9]]\n",
    "\n",
    "# if we want to merger two 2D arrays in a single 2d array we use vstack from np\n",
    "\n",
    "arr3 = np.vstack([arr1,arr2])\n",
    "arr3"
   ]
  },
  {
   "cell_type": "code",
   "execution_count": 43,
   "id": "9cd5736d-eee1-4684-81a0-bd87f5036d04",
   "metadata": {},
   "outputs": [
    {
     "data": {
      "text/plain": [
       "array([[14, 20,  9],\n",
       "       [ 5, 21, 12],\n",
       "       [20, 20,  6],\n",
       "       [ 7, 18,  5],\n",
       "       [33, 44, 55],\n",
       "       [14,  9,  9]])"
      ]
     },
     "execution_count": 43,
     "metadata": {},
     "output_type": "execute_result"
    }
   ],
   "source": [
    "# merging the arrays \n",
    "\n",
    "arr1 = [[14, 20,  9],\n",
    "        [ 5, 21, 12],\n",
    "        [20, 20,  6]]\n",
    "\n",
    "\n",
    "arr2 = [[ 7, 18,  5],\n",
    "        [33, 44, 55],\n",
    "        [14,  9,  9]]\n",
    "\n",
    "# if we want to merger two 2D arrays in a single 2d array we use vstack from np\n",
    "\n",
    "arr3 = np.vstack([arr1,arr2])\n",
    "arr3"
   ]
  },
  {
   "cell_type": "code",
   "execution_count": 44,
   "id": "54295f09-aca5-4fba-a4dc-d1fb43c2d52f",
   "metadata": {},
   "outputs": [
    {
     "data": {
      "text/plain": [
       "array([[[14, 20,  9],\n",
       "        [ 5, 21, 12],\n",
       "        [20, 20,  6]],\n",
       "\n",
       "       [[ 7, 18,  5],\n",
       "        [33, 44, 55],\n",
       "        [14,  9,  9]]])"
      ]
     },
     "execution_count": 44,
     "metadata": {},
     "output_type": "execute_result"
    }
   ],
   "source": [
    "arr3 = np.vstack([[arr1],[arr2]])\n",
    "arr3"
   ]
  },
  {
   "cell_type": "code",
   "execution_count": 46,
   "id": "2e44059f-f0bd-477a-8960-ddb1745f5602",
   "metadata": {},
   "outputs": [
    {
     "data": {
      "text/plain": [
       "array([[14, 20,  9,  7, 18,  5],\n",
       "       [ 5, 21, 12, 33, 44, 55],\n",
       "       [20, 20,  6, 14,  9,  9]])"
      ]
     },
     "execution_count": 46,
     "metadata": {},
     "output_type": "execute_result"
    }
   ],
   "source": [
    "# to horizontally we can merge only 2D not 3d\n",
    "arr3 = np.hstack([arr1,arr2])\n",
    "arr3"
   ]
  },
  {
   "cell_type": "code",
   "execution_count": 47,
   "id": "0a065ff5-aad1-4a7b-a89e-20cf40c7499f",
   "metadata": {},
   "outputs": [
    {
     "data": {
      "text/plain": [
       "array([[14, 20,  9],\n",
       "       [ 7, 18,  5],\n",
       "       [ 5, 21, 12],\n",
       "       [33, 44, 55],\n",
       "       [20, 20,  6],\n",
       "       [14,  9,  9]])"
      ]
     },
     "execution_count": 47,
     "metadata": {},
     "output_type": "execute_result"
    }
   ],
   "source": [
    "arr4 = arr3.reshape(6,3)\n",
    "arr4"
   ]
  },
  {
   "cell_type": "code",
   "execution_count": 49,
   "id": "5615c5c5-344d-4da0-b0c5-bfc41bc99f90",
   "metadata": {},
   "outputs": [
    {
     "data": {
      "text/plain": [
       "array([[[14, 20,  9],\n",
       "        [ 7, 18,  5],\n",
       "        [ 5, 21, 12]],\n",
       "\n",
       "       [[33, 44, 55],\n",
       "        [20, 20,  6],\n",
       "        [14,  9,  9]]])"
      ]
     },
     "execution_count": 49,
     "metadata": {},
     "output_type": "execute_result"
    }
   ],
   "source": [
    "arr5 = arr4.reshape(2,3,3)\n",
    "arr5"
   ]
  },
  {
   "cell_type": "code",
   "execution_count": 51,
   "id": "ce3fca03-39f0-420e-b7b2-4073a2d4f880",
   "metadata": {},
   "outputs": [
    {
     "data": {
      "text/plain": [
       "array([[[14, 20,  9],\n",
       "        [ 7, 18,  5]],\n",
       "\n",
       "       [[ 5, 21, 12],\n",
       "        [33, 44, 55]],\n",
       "\n",
       "       [[20, 20,  6],\n",
       "        [14,  9,  9]]])"
      ]
     },
     "execution_count": 51,
     "metadata": {},
     "output_type": "execute_result"
    }
   ],
   "source": [
    "arr5 = arr4.reshape(3,2,3)\n",
    "arr5"
   ]
  },
  {
   "cell_type": "code",
   "execution_count": 52,
   "id": "d5ab6613-716f-4011-a754-ac10081b2e5e",
   "metadata": {},
   "outputs": [
    {
     "data": {
      "text/plain": [
       "array([[14, 20,  9],\n",
       "       [ 7, 18,  5],\n",
       "       [ 5, 21, 12],\n",
       "       [33, 44, 55],\n",
       "       [20, 20,  6],\n",
       "       [14,  9,  9]])"
      ]
     },
     "execution_count": 52,
     "metadata": {},
     "output_type": "execute_result"
    }
   ],
   "source": [
    "# converting 3d to 2d\n",
    "arr7 = arr5.reshape(6,3)\n",
    "arr7"
   ]
  },
  {
   "cell_type": "code",
   "execution_count": 53,
   "id": "b729b8c7-98be-4773-9d57-6002d1f35223",
   "metadata": {},
   "outputs": [
    {
     "data": {
      "text/plain": [
       "array([14, 20,  9,  7, 18,  5,  5, 21, 12, 33, 44, 55, 20, 20,  6, 14,  9,\n",
       "        9])"
      ]
     },
     "execution_count": 53,
     "metadata": {},
     "output_type": "execute_result"
    }
   ],
   "source": [
    "# converting 2d to 1d -- flatting\n",
    "arr7.reshape(-1)"
   ]
  },
  {
   "cell_type": "code",
   "execution_count": 54,
   "id": "34211680-5360-49ec-ab4c-41970e822d65",
   "metadata": {},
   "outputs": [
    {
     "data": {
      "text/plain": [
       "array([[14, 20,  9],\n",
       "       [ 7, 18,  5]])"
      ]
     },
     "execution_count": 54,
     "metadata": {},
     "output_type": "execute_result"
    }
   ],
   "source": [
    "arr6 = arr5[0]\n",
    "arr6"
   ]
  },
  {
   "cell_type": "code",
   "execution_count": 55,
   "id": "6bcab235-b4f5-4908-a5ba-346542b72e6d",
   "metadata": {},
   "outputs": [
    {
     "data": {
      "text/plain": [
       "array([[14, 20],\n",
       "       [ 9,  7],\n",
       "       [18,  5]])"
      ]
     },
     "execution_count": 55,
     "metadata": {},
     "output_type": "execute_result"
    }
   ],
   "source": [
    "arr6.reshape(3,2)"
   ]
  },
  {
   "cell_type": "code",
   "execution_count": 56,
   "id": "7bbab665-bfa9-42a5-8b34-14c537e9ed94",
   "metadata": {},
   "outputs": [
    {
     "data": {
      "text/plain": [
       "array([14, 20,  9,  7, 18,  5])"
      ]
     },
     "execution_count": 56,
     "metadata": {},
     "output_type": "execute_result"
    }
   ],
   "source": [
    "arr6 = arr6.reshape(-1) # conveting a array into one dimensional\n",
    "arr6"
   ]
  },
  {
   "cell_type": "code",
   "execution_count": 57,
   "id": "9e949032-d6ff-4e61-8a6f-313176b27cc0",
   "metadata": {},
   "outputs": [
    {
     "data": {
      "text/plain": [
       "array([[14,  5, 16],\n",
       "       [10, 17,  5]], dtype=int32)"
      ]
     },
     "execution_count": 57,
     "metadata": {},
     "output_type": "execute_result"
    }
   ],
   "source": [
    "# statistics\n",
    "import numpy as np\n",
    "arr1 = np.random.randint(3,18,size = (2,3))\n",
    "arr1"
   ]
  },
  {
   "cell_type": "code",
   "execution_count": 58,
   "id": "218756c2-6a60-45ce-9209-dd7ff0c7db86",
   "metadata": {},
   "outputs": [
    {
     "name": "stdout",
     "output_type": "stream",
     "text": [
      "5\n",
      "5\n"
     ]
    }
   ],
   "source": [
    "print(arr1.min())\n",
    "print(np.min(arr1))"
   ]
  },
  {
   "cell_type": "code",
   "execution_count": 59,
   "id": "2a8cf857-8ebc-46fa-bdef-c73cbe668423",
   "metadata": {},
   "outputs": [
    {
     "name": "stdout",
     "output_type": "stream",
     "text": [
      "17\n",
      "17\n"
     ]
    }
   ],
   "source": [
    "print(arr1.max())\n",
    "print(np.max(arr1))"
   ]
  },
  {
   "cell_type": "code",
   "execution_count": 60,
   "id": "cf41081e-94c0-4b47-ac9b-1a013db4686e",
   "metadata": {},
   "outputs": [
    {
     "name": "stdout",
     "output_type": "stream",
     "text": [
      "67\n",
      "67\n"
     ]
    }
   ],
   "source": [
    "print(arr1.sum())\n",
    "print(np.sum(arr1))"
   ]
  },
  {
   "cell_type": "code",
   "execution_count": 61,
   "id": "f7b21012-6562-49ef-a38a-2ccb644078b7",
   "metadata": {},
   "outputs": [
    {
     "name": "stdout",
     "output_type": "stream",
     "text": [
      "[[14  7 13]\n",
      " [12 12  7]]\n",
      "\n",
      "[12  7  7]\n",
      "\n",
      "[7 7]\n"
     ]
    }
   ],
   "source": [
    "arr1 = np.random.randint(3,18,size = (2,3))\n",
    "print(arr1)\n",
    "print()\n",
    "print(arr1.min(axis = 0))  # column based minimum value\n",
    "print()\n",
    "print(np.min(arr1,axis = 1))"
   ]
  },
  {
   "cell_type": "code",
   "execution_count": 62,
   "id": "f2966530-ad81-4239-ac23-ec43bf2159a3",
   "metadata": {},
   "outputs": [
    {
     "name": "stdout",
     "output_type": "stream",
     "text": [
      "[[ 3 10 14]\n",
      " [11 15  8]]\n",
      "\n",
      "[3 8]\n",
      "\n",
      "[3 8]\n"
     ]
    }
   ],
   "source": [
    "arr1 = np.random.randint(3,18,size = (2,3))\n",
    "print(arr1)\n",
    "print()\n",
    "print(arr1.min(axis = 1))  # row based minimum value\n",
    "print()\n",
    "print(np.min(arr1,axis = 1))"
   ]
  },
  {
   "cell_type": "code",
   "execution_count": 63,
   "id": "e2e026b8-d2d9-4d19-ab6f-8f4a8ea29303",
   "metadata": {},
   "outputs": [
    {
     "name": "stdout",
     "output_type": "stream",
     "text": [
      "[[ 5 13 10]\n",
      " [12 12  4]]\n",
      "\n",
      "[12 13 10]\n",
      "\n",
      "[12 13 10]\n"
     ]
    }
   ],
   "source": [
    "arr1 = np.random.randint(3,18,size = (2,3))\n",
    "print(arr1)\n",
    "print()\n",
    "print(arr1.max(axis = 0))  # column based minimum value\n",
    "print()\n",
    "print(np.max(arr1,axis = 0))"
   ]
  },
  {
   "cell_type": "code",
   "execution_count": 64,
   "id": "a0b76a75-686a-4052-a4af-e1237283adcb",
   "metadata": {},
   "outputs": [
    {
     "name": "stdout",
     "output_type": "stream",
     "text": [
      "[[11  8 15]\n",
      " [15  8  4]]\n",
      "\n",
      "[15 15]\n",
      "\n",
      "[15 15]\n"
     ]
    }
   ],
   "source": [
    "arr1 = np.random.randint(3,18,size = (2,3))\n",
    "print(arr1)\n",
    "print()\n",
    "print(arr1.max(axis = 1))  # column based minimum value\n",
    "print()\n",
    "print(np.max(arr1,axis = 1))"
   ]
  },
  {
   "cell_type": "code",
   "execution_count": 65,
   "id": "25347d05-ff7d-4941-aa50-8c14aee5fc09",
   "metadata": {},
   "outputs": [
    {
     "name": "stdout",
     "output_type": "stream",
     "text": [
      "[[14 17  4]\n",
      " [13  6 16]]\n",
      "\n",
      "[27 23 20]\n",
      "\n",
      "[27 23 20]\n"
     ]
    }
   ],
   "source": [
    "arr1 = np.random.randint(3,18,size = (2,3))\n",
    "print(arr1)\n",
    "print()\n",
    "print(arr1.sum(axis = 0))  # column based minimum value\n",
    "print()\n",
    "print(np.sum(arr1,axis = 0))"
   ]
  },
  {
   "cell_type": "code",
   "execution_count": 66,
   "id": "de016ade-8bb2-4d3d-9b17-212b9dfea64f",
   "metadata": {},
   "outputs": [
    {
     "name": "stdout",
     "output_type": "stream",
     "text": [
      "[[ 7  9 16]\n",
      " [ 9 16  4]]\n",
      "\n",
      "[32 29]\n",
      "\n",
      "[32 29]\n"
     ]
    }
   ],
   "source": [
    "arr1 = np.random.randint(3,18,size = (2,3))\n",
    "print(arr1)\n",
    "print()\n",
    "print(arr1.sum(axis = 1))  # column based minimum value\n",
    "print()\n",
    "print(np.sum(arr1,axis = 1))"
   ]
  },
  {
   "cell_type": "code",
   "execution_count": 69,
   "id": "26f63e55-41ac-4fb8-851a-4b92c5c53870",
   "metadata": {},
   "outputs": [
    {
     "data": {
      "text/plain": [
       "array([[34., 23.,  6.,  7., 12., 89.],\n",
       "       [90., 34., 56., 13., 45., 76.],\n",
       "       [ 2.,  4.,  9., 98., 43., 63.]])"
      ]
     },
     "execution_count": 69,
     "metadata": {},
     "output_type": "execute_result"
    }
   ],
   "source": [
    "# genrating the data from a text file\n",
    "# when we generate a data from a file it will generate all of them as float values\n",
    "import numpy as np\n",
    "arr1 = np.genfromtxt(\"data_1.txt\", delimiter = \",\")\n",
    "arr1\n",
    "\n"
   ]
  },
  {
   "cell_type": "code",
   "execution_count": 70,
   "id": "3174fd93-ba83-40f0-a496-1d86c2c7a9b1",
   "metadata": {},
   "outputs": [
    {
     "data": {
      "text/plain": [
       "array([[34, 23,  6,  7, 12, 89],\n",
       "       [90, 34, 56, 13, 45, 76],\n",
       "       [ 2,  4,  9, 98, 43, 63]])"
      ]
     },
     "execution_count": 70,
     "metadata": {},
     "output_type": "execute_result"
    }
   ],
   "source": [
    "arr2 = arr1.astype(int)\n",
    "arr2"
   ]
  },
  {
   "cell_type": "code",
   "execution_count": 71,
   "id": "c2adc86f-b96a-43b4-86e2-a667a5611915",
   "metadata": {},
   "outputs": [
    {
     "data": {
      "text/plain": [
       "array([[ True, False, False, False, False,  True],\n",
       "       [ True,  True,  True, False,  True,  True],\n",
       "       [False, False, False,  True,  True,  True]])"
      ]
     },
     "execution_count": 71,
     "metadata": {},
     "output_type": "execute_result"
    }
   ],
   "source": [
    "# boolean masking based on the condition what we gave it will true a array of true, false\n",
    "arr3 = arr2>30\n",
    "arr3"
   ]
  },
  {
   "cell_type": "code",
   "execution_count": 72,
   "id": "031f537f-3199-4299-b681-a8d89af317f8",
   "metadata": {},
   "outputs": [
    {
     "data": {
      "text/plain": [
       "array([34, 89, 90, 34, 56, 45, 76, 98, 43, 63])"
      ]
     },
     "execution_count": 72,
     "metadata": {},
     "output_type": "execute_result"
    }
   ],
   "source": [
    "arr2[arr3]"
   ]
  },
  {
   "cell_type": "code",
   "execution_count": 73,
   "id": "83d2901b-1379-45d0-9c4b-b540341af2ec",
   "metadata": {},
   "outputs": [
    {
     "data": {
      "text/plain": [
       "array([89, 90, 56, 45, 76, 98, 43, 63])"
      ]
     },
     "execution_count": 73,
     "metadata": {},
     "output_type": "execute_result"
    }
   ],
   "source": [
    "arr2[arr2>40]"
   ]
  },
  {
   "cell_type": "code",
   "execution_count": 74,
   "id": "e3e04eaf-39c9-47d9-8faa-54ce71414381",
   "metadata": {},
   "outputs": [
    {
     "data": {
      "text/plain": [
       "array([ 5,  8, 11, 14, 17])"
      ]
     },
     "execution_count": 74,
     "metadata": {},
     "output_type": "execute_result"
    }
   ],
   "source": [
    "# arange, linspace, dot, matmul\n",
    "\n",
    "import numpy as np\n",
    "\n",
    "arr1 = np.arange(5,20,3) ## syntax --arrange(start,stop, step)\n",
    "arr1"
   ]
  },
  {
   "cell_type": "code",
   "execution_count": 75,
   "id": "119ca83f-52b3-439b-8401-48c6aec54fb7",
   "metadata": {},
   "outputs": [
    {
     "data": {
      "text/plain": [
       "array([ 2. ,  4.5,  7. ,  9.5, 12. ])"
      ]
     },
     "execution_count": 75,
     "metadata": {},
     "output_type": "execute_result"
    }
   ],
   "source": [
    "arr2 = np.linspace(2,12,5) # syntax --linspace(start,stop, count)\n",
    "arr2"
   ]
  },
  {
   "cell_type": "code",
   "execution_count": 79,
   "id": "8843933b-4fc6-4b1f-86d9-8ad4dfe21599",
   "metadata": {},
   "outputs": [
    {
     "name": "stdout",
     "output_type": "stream",
     "text": [
      "[[1 2 3]\n",
      " [4 5 6]]\n",
      "[[1 3]\n",
      " [2 4]\n",
      " [5 6]]\n"
     ]
    }
   ],
   "source": [
    "arr1 = np.array(\n",
    "    [\n",
    "        [1,2,3],\n",
    "        [4,5,6]\n",
    "    ]\n",
    ")\n",
    "\n",
    "arr2 = np.array(\n",
    "    [\n",
    "        [1,3],\n",
    "        [2,4],\n",
    "        [5,6]\n",
    "    ]\n",
    ")\n",
    "\n",
    "print(arr1)\n",
    "print(arr2)"
   ]
  },
  {
   "cell_type": "code",
   "execution_count": 80,
   "id": "0cb7ba3b-ccb0-4dbe-af8b-8401ebb4e569",
   "metadata": {},
   "outputs": [
    {
     "data": {
      "text/plain": [
       "array([[20, 29],\n",
       "       [44, 68]])"
      ]
     },
     "execution_count": 80,
     "metadata": {},
     "output_type": "execute_result"
    }
   ],
   "source": [
    "np.matmul(arr1,arr2)"
   ]
  },
  {
   "cell_type": "code",
   "execution_count": 81,
   "id": "e876f3df-6f5a-4a5f-b956-0bc807b49a3f",
   "metadata": {},
   "outputs": [
    {
     "data": {
      "text/plain": [
       "np.int64(78)"
      ]
     },
     "execution_count": 81,
     "metadata": {},
     "output_type": "execute_result"
    }
   ],
   "source": [
    "arr1 = np.array([4,2,8])\n",
    "arr2 = np.array([3,5,7])\n",
    "np.dot(arr1,arr2)"
   ]
  },
  {
   "cell_type": "code",
   "execution_count": 82,
   "id": "0ab34c13-5690-4b52-b3bd-01bfa945f6fa",
   "metadata": {},
   "outputs": [
    {
     "data": {
      "text/plain": [
       "array([1, 2, 3, 4])"
      ]
     },
     "execution_count": 82,
     "metadata": {},
     "output_type": "execute_result"
    }
   ],
   "source": [
    "import numpy as np\n",
    "\n",
    "# From a tuple\n",
    "arr2 = np.array((1, 2, 3, 4))\n",
    "arr2"
   ]
  },
  {
   "cell_type": "code",
   "execution_count": 83,
   "id": "6b8eaaa4-4eac-4b69-9965-ceacafdea2a1",
   "metadata": {},
   "outputs": [
    {
     "data": {
      "text/plain": [
       "array([0, 1, 2, 3, 4, 5, 6, 7, 8, 9])"
      ]
     },
     "execution_count": 83,
     "metadata": {},
     "output_type": "execute_result"
    }
   ],
   "source": [
    "# Create an array with values from 0 to 9\n",
    "arr_range = np.arange(10)\n",
    "arr_range"
   ]
  },
  {
   "cell_type": "code",
   "execution_count": 84,
   "id": "6afe9638-bca9-4f8b-ad2b-acad8309c082",
   "metadata": {},
   "outputs": [
    {
     "data": {
      "text/plain": [
       "array([1, 3, 5, 7, 9])"
      ]
     },
     "execution_count": 84,
     "metadata": {},
     "output_type": "execute_result"
    }
   ],
   "source": [
    "# Create an array with values from 1 to 9 with step 2\n",
    "arr_range_step = np.arange(1, 10, 2)\n",
    "arr_range_step "
   ]
  },
  {
   "cell_type": "code",
   "execution_count": 85,
   "id": "467001e1-b9b5-4bcb-8891-d4cc95b143db",
   "metadata": {},
   "outputs": [
    {
     "data": {
      "text/plain": [
       "array([[1., 0., 0., 0.],\n",
       "       [0., 1., 0., 0.],\n",
       "       [0., 0., 1., 0.],\n",
       "       [0., 0., 0., 1.]])"
      ]
     },
     "execution_count": 85,
     "metadata": {},
     "output_type": "execute_result"
    }
   ],
   "source": [
    "# 2D identity matrix\n",
    "arr_identity = np.eye(4)\n",
    "arr_identity"
   ]
  },
  {
   "cell_type": "code",
   "execution_count": 87,
   "id": "9d9f4d4c-3e24-4115-ac1a-66bf7c6050b2",
   "metadata": {},
   "outputs": [
    {
     "name": "stdout",
     "output_type": "stream",
     "text": [
      "[[ 5  7 10]\n",
      " [13 14 14]\n",
      " [14 14 15]]\n",
      "8\n",
      "0\n"
     ]
    }
   ],
   "source": [
    "arr = np.random.randint(5,17,(3,3))\n",
    "\n",
    "print(arr)\n",
    "arr_argmax = arr.argmax()  # Index of max value\n",
    "arr_argmin = arr.argmin()  # Index of min value\n",
    "print(arr_argmax) # 0 index having the maximum value from the matrix\n",
    "print(arr_argmin) # 1 index having the minimum value from the matrix"
   ]
  },
  {
   "cell_type": "code",
   "execution_count": 2,
   "id": "05a870f6-3c96-4e55-9904-554cb65931be",
   "metadata": {},
   "outputs": [
    {
     "name": "stdout",
     "output_type": "stream",
     "text": [
      "[[15 12  6]\n",
      " [ 9 14  6]\n",
      " [15 12  5]]\n",
      "[0 1 0]\n",
      "[1 0 2]\n"
     ]
    }
   ],
   "source": [
    "import numpy as np\n",
    "arr = np.random.randint(5,17,(3,3))\n",
    "\n",
    "print(arr)\n",
    "arr_argmax = arr.argmax(axis = 0)  # Index of max value\n",
    "arr_argmin = arr.argmin(axis = 0)  # Index of min value\n",
    "print(arr_argmax) # 0 index having the maximum value from the matrix\n",
    "print(arr_argmin) # 1 index having the minimum value from the matrix"
   ]
  },
  {
   "cell_type": "code",
   "execution_count": 3,
   "id": "6ec5bf7d-78e0-4168-8a6c-4a22cc477d1e",
   "metadata": {},
   "outputs": [
    {
     "name": "stdout",
     "output_type": "stream",
     "text": [
      "[[12 12 16]\n",
      " [14 15  8]\n",
      " [ 5 15  5]]\n",
      "[2 1 1]\n",
      "[0 2 0]\n"
     ]
    }
   ],
   "source": [
    "arr = np.random.randint(5,17,(3,3))\n",
    "\n",
    "print(arr)\n",
    "arr_argmax = arr.argmax(axis = 1)  # Index of max value\n",
    "arr_argmin = arr.argmin(axis = 1)  # Index of min value\n",
    "print(arr_argmax) # 0 index having the maximum value from the matrix\n",
    "print(arr_argmin) # 1 index having the minimum value from the matrix"
   ]
  },
  {
   "cell_type": "code",
   "execution_count": 4,
   "id": "a531a6e0-be39-4b0c-a3a4-b1bb0f8eb3da",
   "metadata": {},
   "outputs": [
    {
     "data": {
      "text/plain": [
       "array([[13, 14,  5],\n",
       "       [ 6,  9, 15],\n",
       "       [10, 11, 16],\n",
       "       [12, 10, 11],\n",
       "       [ 5,  7,  9],\n",
       "       [ 9,  9,  7]], dtype=int32)"
      ]
     },
     "execution_count": 4,
     "metadata": {},
     "output_type": "execute_result"
    }
   ],
   "source": [
    "\n",
    "arr1 = np.random.randint(5,17,(3,3))\n",
    "arr2 = np.random.randint(5,17,(3,3))\n",
    "\n",
    "# Concatenate along a specific axis\n",
    "concatenated = np.concatenate((arr1, arr2), axis=0)\n",
    "concatenated"
   ]
  },
  {
   "cell_type": "code",
   "execution_count": 5,
   "id": "45136c44-a34d-4e3b-bee1-96f4c556e352",
   "metadata": {},
   "outputs": [
    {
     "data": {
      "text/plain": [
       "array([[16, 13, 14,  7, 13,  5],\n",
       "       [14,  7,  9, 12, 11,  9],\n",
       "       [ 7,  7,  8,  7,  7, 12]], dtype=int32)"
      ]
     },
     "execution_count": 5,
     "metadata": {},
     "output_type": "execute_result"
    }
   ],
   "source": [
    "\n",
    "arr1 = np.random.randint(5,17,(3,3))\n",
    "arr2 = np.random.randint(5,17,(3,3))\n",
    "\n",
    "# Concatenate along a specific axis\n",
    "concatenated = np.concatenate((arr1, arr2), axis=1)\n",
    "concatenated"
   ]
  },
  {
   "cell_type": "code",
   "execution_count": 6,
   "id": "0c7336e7-c50e-473c-a7fe-da33ea664a35",
   "metadata": {},
   "outputs": [
    {
     "name": "stdout",
     "output_type": "stream",
     "text": [
      "[ 7  8  9 10]\n",
      "[3 4 5 6]\n",
      "[10 12 14 16]\n",
      "[2.5 3.  3.5 4. ]\n"
     ]
    }
   ],
   "source": [
    "arr = np.array([5,6,7,8])\n",
    "print(arr+2)\n",
    "print(arr-2)\n",
    "print(arr*2)\n",
    "print(arr/2)\n",
    "\n",
    "\n",
    "\n"
   ]
  },
  {
   "cell_type": "code",
   "execution_count": 7,
   "id": "5474933c-a95c-48cf-84b1-88bc5077618e",
   "metadata": {},
   "outputs": [
    {
     "name": "stdout",
     "output_type": "stream",
     "text": [
      "[ 8 10 12 10]\n",
      "[2 2 2 6]\n",
      "[15 24 35 16]\n",
      "[1.66666667 1.5        1.4        4.        ]\n"
     ]
    }
   ],
   "source": [
    "arr1 = np.array([5,6,7,8])\n",
    "arr2 = np.array([3,4,5,2])\n",
    "print(arr1+arr2)\n",
    "print(arr1-arr2)\n",
    "print(arr1*arr2)\n",
    "print(arr1/arr2)\n"
   ]
  },
  {
   "cell_type": "code",
   "execution_count": 8,
   "id": "74a89636-f282-41dd-8bcc-3a829fb39395",
   "metadata": {},
   "outputs": [
    {
     "name": "stdout",
     "output_type": "stream",
     "text": [
      "[ True False False  True]\n",
      "[False  True  True False]\n",
      "[False False False False]\n",
      "[ True  True  True  True]\n"
     ]
    }
   ],
   "source": [
    "arr1 = np.array([5,6,7,8])\n",
    "arr2 = np.array([3,14,15,2])\n",
    "print(arr1>arr2)\n",
    "print(arr1<arr2)\n",
    "print(arr1==arr2)\n",
    "print(arr1!=arr2)\n"
   ]
  },
  {
   "cell_type": "code",
   "execution_count": 9,
   "id": "c94d5671-dd84-42d8-b3f0-6cafdb1217e9",
   "metadata": {},
   "outputs": [
    {
     "name": "stdout",
     "output_type": "stream",
     "text": [
      "False\n",
      "True\n"
     ]
    }
   ],
   "source": [
    "import numpy as np\n",
    "arr1 = np.array([3,2])\n",
    "arr2 = np.array([3,2, 14,15])\n",
    "#print(arr1 in arr2)\n",
    "#print(arr1 not in arr2)\n",
    "print(arr1 is arr2)\n",
    "print(arr1 is not arr2)\n"
   ]
  },
  {
   "cell_type": "code",
   "execution_count": 10,
   "id": "22a85e84-5480-4c9e-8223-3b88f4144b50",
   "metadata": {},
   "outputs": [
    {
     "name": "stdout",
     "output_type": "stream",
     "text": [
      "<class 'list'>\n"
     ]
    },
    {
     "data": {
      "text/plain": [
       "array([ 6,  8, 10, 12])"
      ]
     },
     "execution_count": 10,
     "metadata": {},
     "output_type": "execute_result"
    }
   ],
   "source": [
    "arr = [5,6,7,8]  # its a list not an numpy array\n",
    "print(type(arr))\n",
    "arr_broadcast = arr + np.array([1, 2, 3, 4])  # Add array to each element of arr\n",
    "arr_broadcast"
   ]
  },
  {
   "cell_type": "code",
   "execution_count": 11,
   "id": "a245bbd6-d349-430b-8bd3-f0ff57d39412",
   "metadata": {},
   "outputs": [
    {
     "name": "stdout",
     "output_type": "stream",
     "text": [
      "<class 'list'>\n"
     ]
    },
    {
     "data": {
      "text/plain": [
       "array([4, 4, 4, 4])"
      ]
     },
     "execution_count": 11,
     "metadata": {},
     "output_type": "execute_result"
    }
   ],
   "source": [
    "arr = [5,6,7,8]  # its a list not an numpy array\n",
    "print(type(arr))\n",
    "arr_broadcast = arr - np.array([1, 2, 3, 4])  # Add array to each element of arr\n",
    "arr_broadcast"
   ]
  },
  {
   "cell_type": "code",
   "execution_count": 12,
   "id": "6aab19f4-6bb2-4ce8-b1ad-54a6ed313c06",
   "metadata": {},
   "outputs": [
    {
     "name": "stdout",
     "output_type": "stream",
     "text": [
      "[[5 5 5]\n",
      " [2 5 4]\n",
      " [2 5 2]]\n",
      "[[5 2 2]\n",
      " [5 5 5]\n",
      " [5 4 2]]\n"
     ]
    },
    {
     "data": {
      "text/plain": [
       "array([[75, 55, 45],\n",
       "       [55, 45, 37],\n",
       "       [45, 37, 33]], dtype=int32)"
      ]
     },
     "execution_count": 12,
     "metadata": {},
     "output_type": "execute_result"
    }
   ],
   "source": [
    "\n",
    "arr_2d = np.random.randint(2,6,(3,3))\n",
    "print(arr_2d)\n",
    "print(arr_2d.T)\n",
    "matrix_product = np.matmul(arr_2d, arr_2d.T)\n",
    "matrix_product"
   ]
  },
  {
   "cell_type": "code",
   "execution_count": 13,
   "id": "a3e7af79-a708-4539-b7f8-efda39767d2d",
   "metadata": {},
   "outputs": [
    {
     "data": {
      "text/plain": [
       "array([5, 5, 5, 2, 5, 4, 2, 5, 2], dtype=int32)"
      ]
     },
     "execution_count": 13,
     "metadata": {},
     "output_type": "execute_result"
    }
   ],
   "source": [
    "arr_flat = arr_2d.flatten()\n",
    "arr_flat"
   ]
  },
  {
   "cell_type": "code",
   "execution_count": 14,
   "id": "163676c6-24d8-4082-a06e-c80424804cfe",
   "metadata": {},
   "outputs": [
    {
     "name": "stdout",
     "output_type": "stream",
     "text": [
      "[[[ 5 11 10]\n",
      "  [ 3 13 15]\n",
      "  [12  7  5]]\n",
      "\n",
      " [[ 4 12  8]\n",
      "  [13  5 11]\n",
      "  [ 8  9  3]]]\n"
     ]
    },
    {
     "data": {
      "text/plain": [
       "array([ 5, 11, 10,  3, 13, 15, 12,  7,  5,  4, 12,  8, 13,  5, 11,  8,  9,\n",
       "        3], dtype=int32)"
      ]
     },
     "execution_count": 14,
     "metadata": {},
     "output_type": "execute_result"
    }
   ],
   "source": [
    "arr3d = np.random.randint(3,16,(2,3,3))\n",
    "print(arr3d)\n",
    "arr_flat = arr3d.flatten()\n",
    "arr_flat"
   ]
  },
  {
   "cell_type": "code",
   "execution_count": 15,
   "id": "06ea6bc0-3816-48b7-b203-2fc08347726a",
   "metadata": {},
   "outputs": [
    {
     "data": {
      "text/plain": [
       "array([ 5, 11, 10,  3, 13, 15, 12,  7,  5,  4, 12,  8, 13,  5, 11,  8,  9,\n",
       "        3], dtype=int32)"
      ]
     },
     "execution_count": 15,
     "metadata": {},
     "output_type": "execute_result"
    }
   ],
   "source": [
    "arr4 = arr3d.reshape(-1)\n",
    "arr4"
   ]
  },
  {
   "cell_type": "code",
   "execution_count": 16,
   "id": "69a46950-1d24-4462-b5ec-2988351311f0",
   "metadata": {},
   "outputs": [
    {
     "name": "stdout",
     "output_type": "stream",
     "text": [
      "[[5 5 5]\n",
      " [2 5 4]\n",
      " [2 5 2]]\n"
     ]
    },
    {
     "data": {
      "text/plain": [
       "array([[5, 2, 2],\n",
       "       [5, 5, 5],\n",
       "       [5, 4, 2]], dtype=int32)"
      ]
     },
     "execution_count": 16,
     "metadata": {},
     "output_type": "execute_result"
    }
   ],
   "source": [
    "print(arr_2d)\n",
    "arr_transpose = arr_2d.T\n",
    "\n",
    "arr_transpose"
   ]
  },
  {
   "cell_type": "code",
   "execution_count": 17,
   "id": "73cabce8-9684-4113-94d2-a6278242c14e",
   "metadata": {},
   "outputs": [
    {
     "name": "stdout",
     "output_type": "stream",
     "text": [
      "[[4 2 2 4]\n",
      " [6 6 6 3]\n",
      " [6 6 2 5]\n",
      " [3 6 5 6]]\n",
      "[[[4 2 2 4]\n",
      "  [6 6 6 3]\n",
      "  [6 6 2 5]\n",
      "  [3 6 5 6]]]\n",
      "[[4 2 2 4]\n",
      " [6 6 6 3]\n",
      " [6 6 2 5]\n",
      " [3 6 5 6]]\n"
     ]
    }
   ],
   "source": [
    "arr = np.random.randint(2,7,(4,4))\n",
    "print(arr)\n",
    "arr_add_dim = np.expand_dims(arr, axis=0)  # Add new axis at position 0\n",
    "#print(arr)\n",
    "arr_remove_dim = np.squeeze(arr_add_dim)  # Remove single-dimensional entries from the shape\n",
    "print(arr_add_dim)\n",
    "print(arr_remove_dim)"
   ]
  },
  {
   "cell_type": "code",
   "execution_count": 18,
   "id": "81dfd05f-2e8b-41e9-b796-3a5271eca324",
   "metadata": {},
   "outputs": [
    {
     "data": {
      "text/plain": [
       "array([34, 67, 87, 45])"
      ]
     },
     "execution_count": 18,
     "metadata": {},
     "output_type": "execute_result"
    }
   ],
   "source": [
    "arr = np.array((34,12,67,13,9,87,45))\n",
    "arr_bool = arr[arr > 15]  # Get elements greater than 2\n",
    "arr_bool"
   ]
  },
  {
   "cell_type": "code",
   "execution_count": 19,
   "id": "b95a7edd-491a-4e17-ad34-871f157219ca",
   "metadata": {},
   "outputs": [
    {
     "name": "stdout",
     "output_type": "stream",
     "text": [
      "[ 6 11 13 14 13 16 12  9]\n"
     ]
    },
    {
     "data": {
      "text/plain": [
       "array([11, 14, 12], dtype=int32)"
      ]
     },
     "execution_count": 19,
     "metadata": {},
     "output_type": "execute_result"
    }
   ],
   "source": [
    "import numpy as np\n",
    "arr = np.random.randint(5,17,(8))\n",
    "print(arr)\n",
    "arr_fancy = arr[[1, 3, 6]]  # Get elements at index 1, 3, and 4\n",
    "arr_fancy"
   ]
  },
  {
   "cell_type": "code",
   "execution_count": 20,
   "id": "c4c158b9-6142-4a07-be7e-58d32e92ddaf",
   "metadata": {},
   "outputs": [
    {
     "name": "stdout",
     "output_type": "stream",
     "text": [
      "11.75\n",
      "8.4375\n",
      "2.9047375096555625\n"
     ]
    }
   ],
   "source": [
    "print(np.mean(arr))\n",
    "arr_variance = np.var(arr) #how far each data point in a seq is from the mean\n",
    "\n",
    "arr_std_dev = np.std(arr)\n",
    "print(arr_variance)\n",
    "print(arr_std_dev)"
   ]
  },
  {
   "cell_type": "code",
   "execution_count": 21,
   "id": "5ff850fb-7039-4943-90ff-286cc49c2632",
   "metadata": {},
   "outputs": [
    {
     "name": "stdout",
     "output_type": "stream",
     "text": [
      "[ 8 11  6  5 15 15 13 15]\n",
      "12.0\n",
      "7.5\n",
      "15.0\n"
     ]
    }
   ],
   "source": [
    "import numpy as np\n",
    "arr = np.random.randint(5,17,(8))\n",
    "print(arr)\n",
    "arr_50th_percentile = np.percentile(arr, 50)  # Median\n",
    "arr_25th_percentile = np.percentile(arr, 25)  # Median\n",
    "arr_75th_percentile = np.percentile(arr, 75)  # Median\n",
    "print(arr_50th_percentile)\n",
    "print(arr_25th_percentile)\n",
    "print(arr_75th_percentile)"
   ]
  },
  {
   "cell_type": "code",
   "execution_count": 22,
   "id": "27c9996b-db17-4b3f-9616-ff941e8eac7c",
   "metadata": {},
   "outputs": [
    {
     "name": "stdout",
     "output_type": "stream",
     "text": [
      "[[15 14]\n",
      " [11 12]]\n",
      "[26.  1.]\n",
      "[[ 0.78631834 -0.70710678]\n",
      " [ 0.61782155  0.70710678]]\n"
     ]
    }
   ],
   "source": [
    "#Linear Algebra\n",
    "\n",
    "arr2 = np.random.randint(3,20,(2,2))\n",
    "print(arr2)\n",
    "eigvals, eigvecs = np.linalg.eig(arr2)\n",
    "\"\"\"\n",
    "eigen vector -- a vector that, when multiplied by a matrix which does not change its direction\n",
    "eigne value -- a scalar that represents how much the eigenvector  is scaled when multiplied matrix\n",
    "\"\"\"\n",
    "\n",
    "print(eigvals)\n",
    "print(eigvecs)"
   ]
  },
  {
   "cell_type": "markdown",
   "id": "5b85df23-5a88-4cdd-80de-b5f2983086f9",
   "metadata": {},
   "source": [
    "### Random samples from a normal distribution: (Gaussian distribution)\n",
    "\n",
    "arr_random_normal = np.random.randn(5, 5) \n",
    "arr_random_normal"
   ]
  },
  {
   "cell_type": "code",
   "execution_count": 24,
   "id": "5ba9e73f-88a0-4e6a-af09-8c11135a1f20",
   "metadata": {},
   "outputs": [
    {
     "data": {
      "text/plain": [
       "array([2, 1])"
      ]
     },
     "execution_count": 24,
     "metadata": {},
     "output_type": "execute_result"
    }
   ],
   "source": [
    "#Random choices from a list:\n",
    "arr_random_choice = np.random.choice([1, 2, 3, 4, 5], size=2)\n",
    "arr_random_choice"
   ]
  },
  {
   "cell_type": "code",
   "execution_count": 25,
   "id": "14d3afd1-5ea7-48a0-8846-c2f2a3a60bee",
   "metadata": {},
   "outputs": [
    {
     "data": {
      "text/plain": [
       "array([5, 1, 4, 2])"
      ]
     },
     "execution_count": 25,
     "metadata": {},
     "output_type": "execute_result"
    }
   ],
   "source": [
    "#Random choices from a list: without duplicates\n",
    "arr_random_choice = np.random.choice([1, 2, 3, 4, 5], size=4, replace = False)\n",
    "arr_random_choice"
   ]
  },
  {
   "cell_type": "code",
   "execution_count": 27,
   "id": "f659cbfd-1c6f-4323-acef-54e45df5ecce",
   "metadata": {},
   "outputs": [
    {
     "name": "stdout",
     "output_type": "stream",
     "text": [
      "[[27 11 28]\n",
      " [ 9 13 13]\n",
      " [ 5  7 10]]\n"
     ]
    },
    {
     "data": {
      "text/plain": [
       "array([[27, 11, 28],\n",
       "       [ 9, 13, 13],\n",
       "       [ 5,  7, 10]], dtype=int32)"
      ]
     },
     "execution_count": 27,
     "metadata": {},
     "output_type": "execute_result"
    }
   ],
   "source": [
    "#File Handling with pandas\n",
    "arr = np.random.randint(3,30,(3,3))\n",
    "print(arr)\n",
    "np.save('array.npy', arr)  # Save array to .npy file\n",
    "arr_loaded = np.load('array.npy')  # Load array from .npy file\n",
    "arr_loaded"
   ]
  },
  {
   "cell_type": "code",
   "execution_count": 28,
   "id": "303f9b9a-4c9c-4086-8f4e-eb915cb309ee",
   "metadata": {},
   "outputs": [
    {
     "data": {
      "text/plain": [
       "array([[27., 11., 28.],\n",
       "       [ 9., 13., 13.],\n",
       "       [ 5.,  7., 10.]])"
      ]
     },
     "execution_count": 28,
     "metadata": {},
     "output_type": "execute_result"
    }
   ],
   "source": [
    "np.savetxt('array.txt', arr)\n",
    "arr_loaded_text = np.loadtxt('array.txt')\n",
    "arr_loaded_text"
   ]
  },
  {
   "cell_type": "code",
   "execution_count": 29,
   "id": "dbd6e2a9-fec5-405a-bd1e-63cec4f5a366",
   "metadata": {},
   "outputs": [
    {
     "name": "stdout",
     "output_type": "stream",
     "text": [
      "[nan nan nan]\n",
      "[ True  True  True]\n"
     ]
    },
    {
     "data": {
      "text/plain": [
       "array([False, False, False])"
      ]
     },
     "execution_count": 29,
     "metadata": {},
     "output_type": "execute_result"
    }
   ],
   "source": [
    "#Handling Missing Data\n",
    "# Checking for NaN or Inf values\n",
    "import numpy as np\n",
    "arr = np.genfromtxt(\"array.txt\", delimiter = \",\")\n",
    "print(arr)\n",
    "#arr = np.array([0,2,3,6,0,45])\n",
    "print(np.isnan(arr))  # Returns boolean array where NaN\n",
    "np.isinf(arr)  # Returns boolean array where Inf\n"
   ]
  },
  {
   "cell_type": "code",
   "execution_count": 30,
   "id": "803666e9-cb39-48d9-9b18-c9ec3877358f",
   "metadata": {},
   "outputs": [
    {
     "name": "stdout",
     "output_type": "stream",
     "text": [
      "[ 1  3  6 12 34 45 67]\n",
      "[67 45 34 12  6  3  1]\n"
     ]
    }
   ],
   "source": [
    "#Sorting arrays:\n",
    "\n",
    "import numpy as np\n",
    "arr = np.array([6,3,45,12,34,67,1])\n",
    "\n",
    "arr_sorted = np.sort(arr)  # Sort along the default axis (ascending order)\n",
    "arr_sorted_desc = np.sort(arr_sorted)[::-1]  # Sort in descending order\n",
    "\n",
    "\n",
    "print(arr_sorted)\n",
    "print(arr_sorted_desc)"
   ]
  },
  {
   "cell_type": "code",
   "execution_count": 31,
   "id": "f1da53f7-254c-4f29-bd81-2f80e1cfdb92",
   "metadata": {},
   "outputs": [
    {
     "name": "stdout",
     "output_type": "stream",
     "text": [
      "[[15 22 18]\n",
      " [25 18 17]\n",
      " [34 17 13]]\n",
      "\n",
      "[[15 17 13]\n",
      " [25 18 17]\n",
      " [34 22 18]]\n",
      "\n",
      "[[15 18 22]\n",
      " [17 18 25]\n",
      " [13 17 34]]\n"
     ]
    }
   ],
   "source": [
    "arr2 = np.random.randint(4,40,(3,3))\n",
    "print(arr2)\n",
    "# Sorting along a specific axis\n",
    "arr_axis_sorted_col = np.sort(arr2, axis=0)  # Sort along rows\n",
    "arr_axis_sorted_row = np.sort(arr2, axis=1)  # Sort along rows\n",
    "print()\n",
    "print(arr_axis_sorted_col)\n",
    "print()\n",
    "print(arr_axis_sorted_row)\n"
   ]
  },
  {
   "cell_type": "code",
   "execution_count": 32,
   "id": "10661a79-4d6a-426b-b3c5-4236ec87d8c6",
   "metadata": {},
   "outputs": [
    {
     "name": "stdout",
     "output_type": "stream",
     "text": [
      "[[ 9 11 16]\n",
      " [24 34 26]\n",
      " [12 14  4]]\n"
     ]
    },
    {
     "data": {
      "text/plain": [
       "array([[0, 1, 2],\n",
       "       [0, 2, 1],\n",
       "       [2, 0, 1]])"
      ]
     },
     "execution_count": 32,
     "metadata": {},
     "output_type": "execute_result"
    }
   ],
   "source": [
    "#Argsort (indices of sorted values):\n",
    "arr2 = np.random.randint(4,40,(3,3))\n",
    "print(arr2)\n",
    "arr_indices = np.argsort(arr2)  # Indices that would sort the array\n",
    "arr_indices"
   ]
  },
  {
   "cell_type": "code",
   "execution_count": 33,
   "id": "2a1c522e-0d21-46a8-b10d-709c4d8087ce",
   "metadata": {},
   "outputs": [
    {
     "name": "stdout",
     "output_type": "stream",
     "text": [
      "[[9 9 7]\n",
      " [5 8 4]\n",
      " [8 8 7]]\n",
      "[[9 9 7]\n",
      " [5 8 4]\n",
      " [8 8 7]]\n"
     ]
    },
    {
     "data": {
      "text/plain": [
       "(array([0, 0, 0, 1, 2, 2, 2]), array([0, 1, 2, 1, 0, 1, 2]))"
      ]
     },
     "execution_count": 33,
     "metadata": {},
     "output_type": "execute_result"
    }
   ],
   "source": [
    "#Searching for specific elements:\n",
    "arr = np.random.randint(2,10,(3,3))\n",
    "print(arr)\n",
    "\"\"\"\n",
    "(r,c)\n",
    "\n",
    "[\n",
    "    0,0  0,1 0,2\n",
    "    1,0, 1,1 1,2\n",
    "    2,0  2,1 2,2 \n",
    "\n",
    "]\n",
    "\n",
    "\n",
    "\"\"\"\n",
    "print(arr)\n",
    "idx = np.where(arr > 5)  # Indices where condition is True\n",
    "idx"
   ]
  },
  {
   "cell_type": "code",
   "execution_count": 34,
   "id": "13d31be5-1c1c-4675-908e-e7e8660f4092",
   "metadata": {},
   "outputs": [
    {
     "name": "stdout",
     "output_type": "stream",
     "text": [
      "[[5 2 7]\n",
      " [2 4 2]\n",
      " [5 2 5]]\n"
     ]
    },
    {
     "data": {
      "text/plain": [
       "array([2, 4, 5, 7], dtype=int32)"
      ]
     },
     "execution_count": 34,
     "metadata": {},
     "output_type": "execute_result"
    }
   ],
   "source": [
    "#Find unique elements\n",
    "import numpy as np\n",
    "arr = np.random.randint(2,8,(3,3))\n",
    "print(arr)\n",
    "unique_elements = np.unique(arr)\n",
    "unique_elements"
   ]
  },
  {
   "cell_type": "code",
   "execution_count": 35,
   "id": "070123a9-4a0c-4c20-9188-0014be0a32c8",
   "metadata": {},
   "outputs": [
    {
     "name": "stdout",
     "output_type": "stream",
     "text": [
      "[[[3 2 3]\n",
      "  [4 4 4]\n",
      "  [2 6 3]]\n",
      "\n",
      " [[2 2 7]\n",
      "  [6 2 5]\n",
      "  [3 4 7]]\n",
      "\n",
      " [[3 3 2]\n",
      "  [6 4 4]\n",
      "  [4 4 7]]]\n"
     ]
    },
    {
     "data": {
      "text/plain": [
       "array([2, 3, 4, 5, 6, 7], dtype=int32)"
      ]
     },
     "execution_count": 35,
     "metadata": {},
     "output_type": "execute_result"
    }
   ],
   "source": [
    "#Find unique elements\n",
    "import numpy as np\n",
    "arr = np.random.randint(2,8,(3,3,3))\n",
    "print(arr)\n",
    "unique_elements = np.unique(arr)\n",
    "unique_elements"
   ]
  },
  {
   "cell_type": "code",
   "execution_count": 36,
   "id": "e561a810-a8c3-4a02-826d-bfd4393877b9",
   "metadata": {},
   "outputs": [
    {
     "name": "stdout",
     "output_type": "stream",
     "text": [
      "[[15 15 20]\n",
      " [10 17 11]\n",
      " [29 20 12]\n",
      " [13 10 29]]\n",
      "\n",
      "[[ True  True False]\n",
      " [ True False  True]\n",
      " [False False  True]\n",
      " [ True  True False]]\n",
      "\n",
      "[[ True  True  True]\n",
      " [ True  True  True]\n",
      " [ True  True  True]\n",
      " [ True  True  True]]\n",
      "\n",
      "[[ True  True  True]\n",
      " [ True  True  True]\n",
      " [False  True  True]\n",
      " [ True  True False]]\n"
     ]
    }
   ],
   "source": [
    "arr = np.random.randint(3,30,(4,3))\n",
    "print(arr)\n",
    "print()\n",
    "logical_and = np.logical_and(arr > 2, arr < 16)\n",
    "logical_or = np.logical_or(arr > 2, arr < 6)\n",
    "logical_not = np.logical_not(arr > 25)\n",
    "print(logical_and)\n",
    "print()\n",
    "print(logical_or)\n",
    "print()\n",
    "print(logical_not)"
   ]
  },
  {
   "cell_type": "code",
   "execution_count": 37,
   "id": "a4de7b8d-4ac7-4af7-8352-99c6d37bfd8d",
   "metadata": {},
   "outputs": [
    {
     "name": "stdout",
     "output_type": "stream",
     "text": [
      "[[ 6 15 28]\n",
      " [15 12  7]\n",
      " [27  8  5]]\n",
      "[[ 6 15 28]\n",
      " [15 12  7]\n",
      " [27  8  5]]\n"
     ]
    },
    {
     "data": {
      "text/plain": [
       "False"
      ]
     },
     "execution_count": 37,
     "metadata": {},
     "output_type": "execute_result"
    }
   ],
   "source": [
    "arr1 = np.random.randint(5,30,(3,3))\n",
    "arr2 = np.random.randint(5,30,(3,3))\n",
    "print(arr1)\n",
    "print(arr1)\n",
    "is_equal = np.array_equal(arr1, arr2)\n",
    "is_equal"
   ]
  },
  {
   "cell_type": "code",
   "execution_count": 38,
   "id": "1c20a32b-fa53-4222-9d8a-dc89270c7faf",
   "metadata": {},
   "outputs": [
    {
     "name": "stdout",
     "output_type": "stream",
     "text": [
      "[14 10 25]\n",
      "[14 10 25]\n"
     ]
    },
    {
     "data": {
      "text/plain": [
       "True"
      ]
     },
     "execution_count": 38,
     "metadata": {},
     "output_type": "execute_result"
    }
   ],
   "source": [
    "arr1 = np.random.randint(5,30,(3))\n",
    "arr2 = arr1\n",
    "print(arr1)\n",
    "print(arr1)\n",
    "is_equal = np.array_equal(arr1, arr2)\n",
    "is_equal"
   ]
  },
  {
   "cell_type": "code",
   "execution_count": 39,
   "id": "135d129a-7ebf-47e2-863a-99e9aabed194",
   "metadata": {},
   "outputs": [
    {
     "name": "stdout",
     "output_type": "stream",
     "text": [
      "[28  5 21]\n",
      "[28  5 21]\n",
      "True\n",
      "[ True  True  True]\n",
      "False\n",
      "1927150732944 1927034821136\n"
     ]
    }
   ],
   "source": [
    "arr1 = np.random.randint(5,30,(3))\n",
    "#arr2 = np.random.randint(5,30,(3))\n",
    "arr2 = arr1.copy()\n",
    "print(arr1)\n",
    "print(arr2)\n",
    "is_equal = np.array_equal(arr1, arr2)\n",
    "print(is_equal)\n",
    "print(arr1 == arr2)\n",
    "print(arr1 is arr2)\n",
    "print(id(arr1), id(arr2))\n"
   ]
  },
  {
   "cell_type": "code",
   "execution_count": 40,
   "id": "fa3f1697-2ed1-4b11-83bb-18b88095d49e",
   "metadata": {},
   "outputs": [
    {
     "name": "stdout",
     "output_type": "stream",
     "text": [
      "[28  5 21]\n",
      "[28  5 21]\n",
      "1927034821136\n",
      "1927034821136\n",
      "True\n"
     ]
    },
    {
     "data": {
      "text/plain": [
       "True"
      ]
     },
     "execution_count": 40,
     "metadata": {},
     "output_type": "execute_result"
    }
   ],
   "source": [
    "arr1 = np.random.randint(5,30,(3))\n",
    "#arr2 = np.random.randint(5,30,(3))\n",
    "arr1 = arr2\n",
    "print(arr1)\n",
    "print(arr2)\n",
    "print(id(arr1))\n",
    "print(id(arr2))\n",
    "\n",
    "print(arr1 is arr2)\n",
    "is_equal"
   ]
  },
  {
   "cell_type": "code",
   "execution_count": 41,
   "id": "fa117e2f-22d6-49bd-8df6-6c87254d0e9e",
   "metadata": {},
   "outputs": [
    {
     "data": {
      "text/plain": [
       "array([[2, 3, 4],\n",
       "       [3, 4, 5],\n",
       "       [4, 5, 6]])"
      ]
     },
     "execution_count": 41,
     "metadata": {},
     "output_type": "execute_result"
    }
   ],
   "source": [
    "# addition in between 1D and 2D\n",
    "arr1 = np.array([[1], [2], [3]])\n",
    "arr2 = np.array([1, 2, 3])\n",
    "result = arr1 + arr2\n",
    "result"
   ]
  },
  {
   "cell_type": "code",
   "execution_count": 42,
   "id": "288c19d5-1089-45c5-9f66-c47c4fbbafb9",
   "metadata": {},
   "outputs": [
    {
     "name": "stdout",
     "output_type": "stream",
     "text": [
      "[6 3 1 5 6 3]\n"
     ]
    },
    {
     "data": {
      "text/plain": [
       "array([0, 3, 1, 5, 0, 3], dtype=int32)"
      ]
     },
     "execution_count": 42,
     "metadata": {},
     "output_type": "execute_result"
    }
   ],
   "source": [
    "arr = np.random.randint(1,7,(6))\n",
    "print(arr)\n",
    "arr[arr > 5] = 0  # Replace all values greater than 5 with 0\n",
    "arr"
   ]
  },
  {
   "cell_type": "code",
   "execution_count": 43,
   "id": "65b0aa25-9347-4e54-b9bc-30147ed5e6aa",
   "metadata": {},
   "outputs": [
    {
     "name": "stdout",
     "output_type": "stream",
     "text": [
      "[16 20  7  9  7 13]\n"
     ]
    },
    {
     "data": {
      "text/plain": [
       "array([ 0,  0,  7,  9,  7, 13], dtype=int32)"
      ]
     },
     "execution_count": 43,
     "metadata": {},
     "output_type": "execute_result"
    }
   ],
   "source": [
    "arr = np.random.randint(1,30,(6))\n",
    "print(arr)\n",
    "arr = np.where(arr > 15, 0, arr)  # Replace values > 5 with 0\n",
    "arr"
   ]
  },
  {
   "cell_type": "code",
   "execution_count": null,
   "id": "618425df-f6b9-4b5b-b61e-70662efb6fd2",
   "metadata": {},
   "outputs": [],
   "source": []
  },
  {
   "cell_type": "code",
   "execution_count": null,
   "id": "14b33559-7f9d-464c-9c3f-4b978a046336",
   "metadata": {},
   "outputs": [],
   "source": []
  },
  {
   "cell_type": "code",
   "execution_count": null,
   "id": "068b9529-e9d7-49a9-87da-59e48a7f0c99",
   "metadata": {},
   "outputs": [],
   "source": []
  },
  {
   "cell_type": "markdown",
   "id": "630f513a-0245-48e7-9b72-e969b681480c",
   "metadata": {},
   "source": [
    "# Pandas - paneled datas\n",
    "    pandas are very famous python library for handling the datas\n",
    "    => reading the different types of files and get the data into python data frame\n",
    "    => creating the different types of files from python data frame such as (csv, excel, json, parquet, ...etc)\n",
    "    => creating series, dataframes to handle the file datas\n",
    "    => handling the noisy datas such as null datas, duplicates data's, wrong format datas\n",
    "    => comparison, creating new columns, getting info about the data, modify the existing data, central tendency finding, row based filter, column based filter, joining one csv dataframe to another csv dataframes (inner, left, right, outer)\n",
    "    "
   ]
  },
  {
   "cell_type": "code",
   "execution_count": 49,
   "id": "d515103e-cf28-414a-bb25-eb8cb835cb56",
   "metadata": {},
   "outputs": [
    {
     "name": "stdout",
     "output_type": "stream",
     "text": [
      "^C\n"
     ]
    }
   ],
   "source": [
    "!pip install pandas"
   ]
  },
  {
   "cell_type": "code",
   "execution_count": 50,
   "id": "33c51369-3191-46ba-b297-8e36d20511a4",
   "metadata": {},
   "outputs": [
    {
     "name": "stdout",
     "output_type": "stream",
     "text": [
      "2.3.0\n"
     ]
    }
   ],
   "source": [
    "import pandas as pd\n",
    "print(pd.__version__)"
   ]
  },
  {
   "cell_type": "code",
   "execution_count": 51,
   "id": "62c20064-6bbc-4f9a-b8cd-0504dbf84ee4",
   "metadata": {
    "scrolled": true
   },
   "outputs": [
    {
     "name": "stdout",
     "output_type": "stream",
     "text": [
      "\n",
      "pandas - a powerful data analysis and manipulation library for Python\n",
      "=====================================================================\n",
      "\n",
      "**pandas** is a Python package providing fast, flexible, and expressive data\n",
      "structures designed to make working with \"relational\" or \"labeled\" data both\n",
      "easy and intuitive. It aims to be the fundamental high-level building block for\n",
      "doing practical, **real world** data analysis in Python. Additionally, it has\n",
      "the broader goal of becoming **the most powerful and flexible open source data\n",
      "analysis / manipulation tool available in any language**. It is already well on\n",
      "its way toward this goal.\n",
      "\n",
      "Main Features\n",
      "-------------\n",
      "Here are just a few of the things that pandas does well:\n",
      "\n",
      "  - Easy handling of missing data in floating point as well as non-floating\n",
      "    point data.\n",
      "  - Size mutability: columns can be inserted and deleted from DataFrame and\n",
      "    higher dimensional objects\n",
      "  - Automatic and explicit data alignment: objects can be explicitly aligned\n",
      "    to a set of labels, or the user can simply ignore the labels and let\n",
      "    `Series`, `DataFrame`, etc. automatically align the data for you in\n",
      "    computations.\n",
      "  - Powerful, flexible group by functionality to perform split-apply-combine\n",
      "    operations on data sets, for both aggregating and transforming data.\n",
      "  - Make it easy to convert ragged, differently-indexed data in other Python\n",
      "    and NumPy data structures into DataFrame objects.\n",
      "  - Intelligent label-based slicing, fancy indexing, and subsetting of large\n",
      "    data sets.\n",
      "  - Intuitive merging and joining data sets.\n",
      "  - Flexible reshaping and pivoting of data sets.\n",
      "  - Hierarchical labeling of axes (possible to have multiple labels per tick).\n",
      "  - Robust IO tools for loading data from flat files (CSV and delimited),\n",
      "    Excel files, databases, and saving/loading data from the ultrafast HDF5\n",
      "    format.\n",
      "  - Time series-specific functionality: date range generation and frequency\n",
      "    conversion, moving window statistics, date shifting and lagging.\n",
      "\n"
     ]
    }
   ],
   "source": [
    "import pandas as pd\n",
    "print(pd.__doc__)\n"
   ]
  },
  {
   "cell_type": "code",
   "execution_count": 54,
   "id": "fb9e8e28-29c4-4b49-bac8-c2899afbf401",
   "metadata": {},
   "outputs": [
    {
     "data": {
      "text/plain": [
       "0    5\n",
       "1    2\n",
       "2    9\n",
       "3    3\n",
       "4    1\n",
       "dtype: int64"
      ]
     },
     "execution_count": 54,
     "metadata": {},
     "output_type": "execute_result"
    }
   ],
   "source": [
    "# pandas series are one dimensional arrays which have only one column with index position as row names\n",
    "import pandas as pd\n",
    "\n",
    "l1 = [5,2,9,3,1]\n",
    "\n",
    "s1 = pd.Series(l1)# the index column of a series will 0, 1,\n",
    "s1"
   ]
  },
  {
   "cell_type": "code",
   "execution_count": 55,
   "id": "a27c4b04-357e-4c07-af18-fdb49f32bbc9",
   "metadata": {},
   "outputs": [
    {
     "data": {
      "text/plain": [
       "(5,)"
      ]
     },
     "execution_count": 55,
     "metadata": {},
     "output_type": "execute_result"
    }
   ],
   "source": [
    "s1.shape"
   ]
  },
  {
   "cell_type": "code",
   "execution_count": 56,
   "id": "35d18814-712b-4349-bc1e-880c14b0397a",
   "metadata": {},
   "outputs": [
    {
     "data": {
      "text/plain": [
       "np.int64(1)"
      ]
     },
     "execution_count": 56,
     "metadata": {},
     "output_type": "execute_result"
    }
   ],
   "source": [
    "s1.min()"
   ]
  },
  {
   "cell_type": "code",
   "execution_count": 57,
   "id": "a352e31c-0816-444f-a37a-fc6edd6a0527",
   "metadata": {},
   "outputs": [
    {
     "data": {
      "text/plain": [
       "np.int64(20)"
      ]
     },
     "execution_count": 57,
     "metadata": {},
     "output_type": "execute_result"
    }
   ],
   "source": [
    "s1.sum()"
   ]
  },
  {
   "cell_type": "code",
   "execution_count": 58,
   "id": "12e84743-9eb8-45f4-8d0c-326d4189ce66",
   "metadata": {},
   "outputs": [
    {
     "data": {
      "text/plain": [
       "np.int64(9)"
      ]
     },
     "execution_count": 58,
     "metadata": {},
     "output_type": "execute_result"
    }
   ],
   "source": [
    "s1[2]"
   ]
  },
  {
   "cell_type": "code",
   "execution_count": 59,
   "id": "2b7227ac-0a84-461c-90a3-a7f63e558623",
   "metadata": {},
   "outputs": [
    {
     "name": "stdout",
     "output_type": "stream",
     "text": [
      "[[11  9 11]\n",
      " [ 6  8 10]\n",
      " [10  8 12]\n",
      " [ 3 12  8]]\n"
     ]
    },
    {
     "ename": "ValueError",
     "evalue": "Data must be 1-dimensional, got ndarray of shape (4, 3) instead",
     "output_type": "error",
     "traceback": [
      "\u001b[1;31m---------------------------------------------------------------------------\u001b[0m",
      "\u001b[1;31mValueError\u001b[0m                                Traceback (most recent call last)",
      "Cell \u001b[1;32mIn[59], line 10\u001b[0m\n\u001b[0;32m      7\u001b[0m arr \u001b[38;5;241m=\u001b[39m np\u001b[38;5;241m.\u001b[39mrandom\u001b[38;5;241m.\u001b[39mrandint(\u001b[38;5;241m3\u001b[39m,\u001b[38;5;241m15\u001b[39m,(\u001b[38;5;241m4\u001b[39m,\u001b[38;5;241m3\u001b[39m))\n\u001b[0;32m      8\u001b[0m \u001b[38;5;28mprint\u001b[39m(arr)\n\u001b[1;32m---> 10\u001b[0m s1 \u001b[38;5;241m=\u001b[39m \u001b[43mpd\u001b[49m\u001b[38;5;241;43m.\u001b[39;49m\u001b[43mSeries\u001b[49m\u001b[43m(\u001b[49m\u001b[43marr\u001b[49m\u001b[43m)\u001b[49m\n\u001b[0;32m     11\u001b[0m s1\n",
      "File \u001b[1;32m~\\AppData\\Local\\Programs\\Python\\Python311\\Lib\\site-packages\\pandas\\core\\series.py:584\u001b[0m, in \u001b[0;36mSeries.__init__\u001b[1;34m(self, data, index, dtype, name, copy, fastpath)\u001b[0m\n\u001b[0;32m    582\u001b[0m         data \u001b[38;5;241m=\u001b[39m data\u001b[38;5;241m.\u001b[39mcopy()\n\u001b[0;32m    583\u001b[0m \u001b[38;5;28;01melse\u001b[39;00m:\n\u001b[1;32m--> 584\u001b[0m     data \u001b[38;5;241m=\u001b[39m \u001b[43msanitize_array\u001b[49m\u001b[43m(\u001b[49m\u001b[43mdata\u001b[49m\u001b[43m,\u001b[49m\u001b[43m \u001b[49m\u001b[43mindex\u001b[49m\u001b[43m,\u001b[49m\u001b[43m \u001b[49m\u001b[43mdtype\u001b[49m\u001b[43m,\u001b[49m\u001b[43m \u001b[49m\u001b[43mcopy\u001b[49m\u001b[43m)\u001b[49m\n\u001b[0;32m    586\u001b[0m     manager \u001b[38;5;241m=\u001b[39m _get_option(\u001b[38;5;124m\"\u001b[39m\u001b[38;5;124mmode.data_manager\u001b[39m\u001b[38;5;124m\"\u001b[39m, silent\u001b[38;5;241m=\u001b[39m\u001b[38;5;28;01mTrue\u001b[39;00m)\n\u001b[0;32m    587\u001b[0m     \u001b[38;5;28;01mif\u001b[39;00m manager \u001b[38;5;241m==\u001b[39m \u001b[38;5;124m\"\u001b[39m\u001b[38;5;124mblock\u001b[39m\u001b[38;5;124m\"\u001b[39m:\n",
      "File \u001b[1;32m~\\AppData\\Local\\Programs\\Python\\Python311\\Lib\\site-packages\\pandas\\core\\construction.py:656\u001b[0m, in \u001b[0;36msanitize_array\u001b[1;34m(data, index, dtype, copy, allow_2d)\u001b[0m\n\u001b[0;32m    653\u001b[0m             subarr \u001b[38;5;241m=\u001b[39m cast(np\u001b[38;5;241m.\u001b[39mndarray, subarr)\n\u001b[0;32m    654\u001b[0m             subarr \u001b[38;5;241m=\u001b[39m maybe_infer_to_datetimelike(subarr)\n\u001b[1;32m--> 656\u001b[0m subarr \u001b[38;5;241m=\u001b[39m \u001b[43m_sanitize_ndim\u001b[49m\u001b[43m(\u001b[49m\u001b[43msubarr\u001b[49m\u001b[43m,\u001b[49m\u001b[43m \u001b[49m\u001b[43mdata\u001b[49m\u001b[43m,\u001b[49m\u001b[43m \u001b[49m\u001b[43mdtype\u001b[49m\u001b[43m,\u001b[49m\u001b[43m \u001b[49m\u001b[43mindex\u001b[49m\u001b[43m,\u001b[49m\u001b[43m \u001b[49m\u001b[43mallow_2d\u001b[49m\u001b[38;5;241;43m=\u001b[39;49m\u001b[43mallow_2d\u001b[49m\u001b[43m)\u001b[49m\n\u001b[0;32m    658\u001b[0m \u001b[38;5;28;01mif\u001b[39;00m \u001b[38;5;28misinstance\u001b[39m(subarr, np\u001b[38;5;241m.\u001b[39mndarray):\n\u001b[0;32m    659\u001b[0m     \u001b[38;5;66;03m# at this point we should have dtype be None or subarr.dtype == dtype\u001b[39;00m\n\u001b[0;32m    660\u001b[0m     dtype \u001b[38;5;241m=\u001b[39m cast(np\u001b[38;5;241m.\u001b[39mdtype, dtype)\n",
      "File \u001b[1;32m~\\AppData\\Local\\Programs\\Python\\Python311\\Lib\\site-packages\\pandas\\core\\construction.py:715\u001b[0m, in \u001b[0;36m_sanitize_ndim\u001b[1;34m(result, data, dtype, index, allow_2d)\u001b[0m\n\u001b[0;32m    713\u001b[0m     \u001b[38;5;28;01mif\u001b[39;00m allow_2d:\n\u001b[0;32m    714\u001b[0m         \u001b[38;5;28;01mreturn\u001b[39;00m result\n\u001b[1;32m--> 715\u001b[0m     \u001b[38;5;28;01mraise\u001b[39;00m \u001b[38;5;167;01mValueError\u001b[39;00m(\n\u001b[0;32m    716\u001b[0m         \u001b[38;5;124mf\u001b[39m\u001b[38;5;124m\"\u001b[39m\u001b[38;5;124mData must be 1-dimensional, got ndarray of shape \u001b[39m\u001b[38;5;132;01m{\u001b[39;00mdata\u001b[38;5;241m.\u001b[39mshape\u001b[38;5;132;01m}\u001b[39;00m\u001b[38;5;124m instead\u001b[39m\u001b[38;5;124m\"\u001b[39m\n\u001b[0;32m    717\u001b[0m     )\n\u001b[0;32m    718\u001b[0m \u001b[38;5;28;01mif\u001b[39;00m is_object_dtype(dtype) \u001b[38;5;129;01mand\u001b[39;00m \u001b[38;5;28misinstance\u001b[39m(dtype, ExtensionDtype):\n\u001b[0;32m    719\u001b[0m     \u001b[38;5;66;03m# i.e. NumpyEADtype(\"O\")\u001b[39;00m\n\u001b[0;32m    721\u001b[0m     result \u001b[38;5;241m=\u001b[39m com\u001b[38;5;241m.\u001b[39masarray_tuplesafe(data, dtype\u001b[38;5;241m=\u001b[39mnp\u001b[38;5;241m.\u001b[39mdtype(\u001b[38;5;124m\"\u001b[39m\u001b[38;5;124mobject\u001b[39m\u001b[38;5;124m\"\u001b[39m))\n",
      "\u001b[1;31mValueError\u001b[0m: Data must be 1-dimensional, got ndarray of shape (4, 3) instead"
     ]
    }
   ],
   "source": [
    "# converting 2D arry in a series\n",
    "\n",
    "import pandas as pd\n",
    "import numpy as np\n",
    "\n",
    "\n",
    "arr = np.random.randint(3,15,(4,3))\n",
    "print(arr)\n",
    "\n",
    "s1 = pd.Series(arr)\n",
    "s1"
   ]
  },
  {
   "cell_type": "code",
   "execution_count": 60,
   "id": "9e2c3e78-1bda-41ec-ac59-783d603aafe7",
   "metadata": {},
   "outputs": [
    {
     "data": {
      "text/plain": [
       "apple     34\n",
       "orange    45\n",
       "banana    12\n",
       "dtype: int64"
      ]
     },
     "execution_count": 60,
     "metadata": {},
     "output_type": "execute_result"
    }
   ],
   "source": [
    "d1 = {\"apple\":34, \"orange\":45, \"banana\":12}\n",
    "\n",
    "# when we convert a dictionary as a series the keys will appear as row name\n",
    "\n",
    "s2 = pd.Series(d1)\n",
    "s2"
   ]
  },
  {
   "cell_type": "code",
   "execution_count": 61,
   "id": "77e7cb21-5ede-4e8d-9a45-1c67549247f2",
   "metadata": {},
   "outputs": [
    {
     "data": {
      "text/plain": [
       "a    5\n",
       "b    2\n",
       "c    9\n",
       "d    3\n",
       "e    1\n",
       "dtype: int64"
      ]
     },
     "execution_count": 61,
     "metadata": {},
     "output_type": "execute_result"
    }
   ],
   "source": [
    "l1 = [5,2,9,3,1]\n",
    "\n",
    "s1 = pd.Series(l1, index = (\"a\",\"b\", \"c\",\"d\", \"e\")) # changing the labels of the rows\n",
    "s1"
   ]
  },
  {
   "cell_type": "code",
   "execution_count": 62,
   "id": "91437100-e12e-468f-9f9a-51c629f37c1d",
   "metadata": {},
   "outputs": [
    {
     "data": {
      "text/plain": [
       "np.int64(9)"
      ]
     },
     "execution_count": 62,
     "metadata": {},
     "output_type": "execute_result"
    }
   ],
   "source": [
    "s1[\"c\"]"
   ]
  },
  {
   "cell_type": "code",
   "execution_count": 63,
   "id": "cad3f003-441b-411f-9345-1002cc39cc7d",
   "metadata": {},
   "outputs": [
    {
     "ename": "KeyError",
     "evalue": "'key of type tuple not found and not a MultiIndex'",
     "output_type": "error",
     "traceback": [
      "\u001b[1;31m---------------------------------------------------------------------------\u001b[0m",
      "\u001b[1;31mKeyError\u001b[0m                                  Traceback (most recent call last)",
      "Cell \u001b[1;32mIn[63], line 1\u001b[0m\n\u001b[1;32m----> 1\u001b[0m \u001b[43ms1\u001b[49m\u001b[43m[\u001b[49m\u001b[38;5;124;43m\"\u001b[39;49m\u001b[38;5;124;43ma\u001b[39;49m\u001b[38;5;124;43m\"\u001b[39;49m\u001b[43m,\u001b[49m\u001b[43m \u001b[49m\u001b[38;5;124;43m\"\u001b[39;49m\u001b[38;5;124;43mc\u001b[39;49m\u001b[38;5;124;43m\"\u001b[39;49m\u001b[43m,\u001b[49m\u001b[43m \u001b[49m\u001b[38;5;124;43m\"\u001b[39;49m\u001b[38;5;124;43me\u001b[39;49m\u001b[38;5;124;43m\"\u001b[39;49m\u001b[43m]\u001b[49m\n",
      "File \u001b[1;32m~\\AppData\\Local\\Programs\\Python\\Python311\\Lib\\site-packages\\pandas\\core\\series.py:1162\u001b[0m, in \u001b[0;36mSeries.__getitem__\u001b[1;34m(self, key)\u001b[0m\n\u001b[0;32m   1159\u001b[0m     key \u001b[38;5;241m=\u001b[39m np\u001b[38;5;241m.\u001b[39masarray(key, dtype\u001b[38;5;241m=\u001b[39m\u001b[38;5;28mbool\u001b[39m)\n\u001b[0;32m   1160\u001b[0m     \u001b[38;5;28;01mreturn\u001b[39;00m \u001b[38;5;28mself\u001b[39m\u001b[38;5;241m.\u001b[39m_get_rows_with_mask(key)\n\u001b[1;32m-> 1162\u001b[0m \u001b[38;5;28;01mreturn\u001b[39;00m \u001b[38;5;28;43mself\u001b[39;49m\u001b[38;5;241;43m.\u001b[39;49m\u001b[43m_get_with\u001b[49m\u001b[43m(\u001b[49m\u001b[43mkey\u001b[49m\u001b[43m)\u001b[49m\n",
      "File \u001b[1;32m~\\AppData\\Local\\Programs\\Python\\Python311\\Lib\\site-packages\\pandas\\core\\series.py:1172\u001b[0m, in \u001b[0;36mSeries._get_with\u001b[1;34m(self, key)\u001b[0m\n\u001b[0;32m   1167\u001b[0m     \u001b[38;5;28;01mraise\u001b[39;00m \u001b[38;5;167;01mTypeError\u001b[39;00m(\n\u001b[0;32m   1168\u001b[0m         \u001b[38;5;124m\"\u001b[39m\u001b[38;5;124mIndexing a Series with DataFrame is not \u001b[39m\u001b[38;5;124m\"\u001b[39m\n\u001b[0;32m   1169\u001b[0m         \u001b[38;5;124m\"\u001b[39m\u001b[38;5;124msupported, use the appropriate DataFrame column\u001b[39m\u001b[38;5;124m\"\u001b[39m\n\u001b[0;32m   1170\u001b[0m     )\n\u001b[0;32m   1171\u001b[0m \u001b[38;5;28;01melif\u001b[39;00m \u001b[38;5;28misinstance\u001b[39m(key, \u001b[38;5;28mtuple\u001b[39m):\n\u001b[1;32m-> 1172\u001b[0m     \u001b[38;5;28;01mreturn\u001b[39;00m \u001b[38;5;28;43mself\u001b[39;49m\u001b[38;5;241;43m.\u001b[39;49m\u001b[43m_get_values_tuple\u001b[49m\u001b[43m(\u001b[49m\u001b[43mkey\u001b[49m\u001b[43m)\u001b[49m\n\u001b[0;32m   1174\u001b[0m \u001b[38;5;28;01melif\u001b[39;00m \u001b[38;5;129;01mnot\u001b[39;00m is_list_like(key):\n\u001b[0;32m   1175\u001b[0m     \u001b[38;5;66;03m# e.g. scalars that aren't recognized by lib.is_scalar, GH#32684\u001b[39;00m\n\u001b[0;32m   1176\u001b[0m     \u001b[38;5;28;01mreturn\u001b[39;00m \u001b[38;5;28mself\u001b[39m\u001b[38;5;241m.\u001b[39mloc[key]\n",
      "File \u001b[1;32m~\\AppData\\Local\\Programs\\Python\\Python311\\Lib\\site-packages\\pandas\\core\\series.py:1216\u001b[0m, in \u001b[0;36mSeries._get_values_tuple\u001b[1;34m(self, key)\u001b[0m\n\u001b[0;32m   1213\u001b[0m     \u001b[38;5;28;01mreturn\u001b[39;00m result\n\u001b[0;32m   1215\u001b[0m \u001b[38;5;28;01mif\u001b[39;00m \u001b[38;5;129;01mnot\u001b[39;00m \u001b[38;5;28misinstance\u001b[39m(\u001b[38;5;28mself\u001b[39m\u001b[38;5;241m.\u001b[39mindex, MultiIndex):\n\u001b[1;32m-> 1216\u001b[0m     \u001b[38;5;28;01mraise\u001b[39;00m \u001b[38;5;167;01mKeyError\u001b[39;00m(\u001b[38;5;124m\"\u001b[39m\u001b[38;5;124mkey of type tuple not found and not a MultiIndex\u001b[39m\u001b[38;5;124m\"\u001b[39m)\n\u001b[0;32m   1218\u001b[0m \u001b[38;5;66;03m# If key is contained, would have returned by now\u001b[39;00m\n\u001b[0;32m   1219\u001b[0m indexer, new_index \u001b[38;5;241m=\u001b[39m \u001b[38;5;28mself\u001b[39m\u001b[38;5;241m.\u001b[39mindex\u001b[38;5;241m.\u001b[39mget_loc_level(key)\n",
      "\u001b[1;31mKeyError\u001b[0m: 'key of type tuple not found and not a MultiIndex'"
     ]
    }
   ],
   "source": [
    "s1[\"a\", \"c\", \"e\"]"
   ]
  },
  {
   "cell_type": "code",
   "execution_count": 64,
   "id": "d4c1f596-7b8e-4187-a112-f037835e22c6",
   "metadata": {},
   "outputs": [
    {
     "data": {
      "text/plain": [
       "a        5\n",
       "b        2\n",
       "c        9\n",
       "d    hello\n",
       "e        1\n",
       "f      4.5\n",
       "dtype: object"
      ]
     },
     "execution_count": 64,
     "metadata": {},
     "output_type": "execute_result"
    }
   ],
   "source": [
    "l1 = [5,2,9,\"hello\",1, 4.5]\n",
    "\n",
    "s1 = pd.Series(l1, index = (\"a\",\"b\", \"c\",\"d\", \"e\", \"f\")) # changing the labels of the rows\n",
    "s1"
   ]
  },
  {
   "cell_type": "code",
   "execution_count": 2,
   "id": "ba7dd72c-405e-40c6-8ed9-be47144afdd6",
   "metadata": {},
   "outputs": [
    {
     "data": {
      "text/html": [
       "<div>\n",
       "<style scoped>\n",
       "    .dataframe tbody tr th:only-of-type {\n",
       "        vertical-align: middle;\n",
       "    }\n",
       "\n",
       "    .dataframe tbody tr th {\n",
       "        vertical-align: top;\n",
       "    }\n",
       "\n",
       "    .dataframe thead th {\n",
       "        text-align: right;\n",
       "    }\n",
       "</style>\n",
       "<table border=\"1\" class=\"dataframe\">\n",
       "  <thead>\n",
       "    <tr style=\"text-align: right;\">\n",
       "      <th></th>\n",
       "      <th>Jobs</th>\n",
       "      <th>City</th>\n",
       "      <th>Salary</th>\n",
       "    </tr>\n",
       "  </thead>\n",
       "  <tbody>\n",
       "    <tr>\n",
       "      <th>0</th>\n",
       "      <td>backend developer</td>\n",
       "      <td>Ney York</td>\n",
       "      <td>40000</td>\n",
       "    </tr>\n",
       "    <tr>\n",
       "      <th>1</th>\n",
       "      <td>AI engineer</td>\n",
       "      <td>San francisco</td>\n",
       "      <td>50000</td>\n",
       "    </tr>\n",
       "    <tr>\n",
       "      <th>2</th>\n",
       "      <td>data analyst</td>\n",
       "      <td>washington dc</td>\n",
       "      <td>30000</td>\n",
       "    </tr>\n",
       "  </tbody>\n",
       "</table>\n",
       "</div>"
      ],
      "text/plain": [
       "                Jobs           City  Salary\n",
       "0  backend developer       Ney York   40000\n",
       "1        AI engineer  San francisco   50000\n",
       "2       data analyst  washington dc   30000"
      ]
     },
     "execution_count": 2,
     "metadata": {},
     "output_type": "execute_result"
    }
   ],
   "source": [
    "# dataframes -- are rows and columns table format \n",
    "# dataframes -- twodimensional, size mutable, hetrogeneous tabular datastructure\n",
    "import pandas as pd\n",
    "d2 = {\n",
    "    \"Jobs\" : [\"backend developer\", \"AI engineer\", \"data analyst\"],\n",
    "    \"City\" : [\"Ney York\", \"San francisco\", \"washington dc\"],\n",
    "    \"Salary\" : [40000,50000,30000]\n",
    "}\n",
    "\n",
    "df = pd.DataFrame(d2)\n",
    "df"
   ]
  },
  {
   "cell_type": "code",
   "execution_count": 4,
   "id": "c1ec3776-8733-4762-8037-f12f8810bfee",
   "metadata": {},
   "outputs": [
    {
     "data": {
      "text/plain": [
       "Jobs        AI engineer\n",
       "City      San francisco\n",
       "Salary            50000\n",
       "Name: 1, dtype: object"
      ]
     },
     "execution_count": 4,
     "metadata": {},
     "output_type": "execute_result"
    }
   ],
   "source": [
    "df.loc[1] # fetching row name based data fetch"
   ]
  },
  {
   "cell_type": "code",
   "execution_count": 5,
   "id": "bb4b47ae-4317-42e3-aadb-6a91286481a7",
   "metadata": {},
   "outputs": [
    {
     "data": {
      "text/plain": [
       "Jobs       data analyst\n",
       "City      washington dc\n",
       "Salary            30000\n",
       "Name: 2, dtype: object"
      ]
     },
     "execution_count": 5,
     "metadata": {},
     "output_type": "execute_result"
    }
   ],
   "source": [
    "df.iloc[2] #this works based on index"
   ]
  },
  {
   "cell_type": "code",
   "execution_count": 6,
   "id": "a2e7b6ed-c2ac-4e8e-9fbc-9bfb67db74f3",
   "metadata": {},
   "outputs": [
    {
     "data": {
      "text/html": [
       "<div>\n",
       "<style scoped>\n",
       "    .dataframe tbody tr th:only-of-type {\n",
       "        vertical-align: middle;\n",
       "    }\n",
       "\n",
       "    .dataframe tbody tr th {\n",
       "        vertical-align: top;\n",
       "    }\n",
       "\n",
       "    .dataframe thead th {\n",
       "        text-align: right;\n",
       "    }\n",
       "</style>\n",
       "<table border=\"1\" class=\"dataframe\">\n",
       "  <thead>\n",
       "    <tr style=\"text-align: right;\">\n",
       "      <th></th>\n",
       "      <th>Jobs</th>\n",
       "      <th>City</th>\n",
       "      <th>Salary</th>\n",
       "    </tr>\n",
       "  </thead>\n",
       "  <tbody>\n",
       "    <tr>\n",
       "      <th>0</th>\n",
       "      <td>backend developer</td>\n",
       "      <td>Ney York</td>\n",
       "      <td>40000</td>\n",
       "    </tr>\n",
       "    <tr>\n",
       "      <th>1</th>\n",
       "      <td>AI engineer</td>\n",
       "      <td>San francisco</td>\n",
       "      <td>50000</td>\n",
       "    </tr>\n",
       "  </tbody>\n",
       "</table>\n",
       "</div>"
      ],
      "text/plain": [
       "                Jobs           City  Salary\n",
       "0  backend developer       Ney York   40000\n",
       "1        AI engineer  San francisco   50000"
      ]
     },
     "execution_count": 6,
     "metadata": {},
     "output_type": "execute_result"
    }
   ],
   "source": [
    "# slicing the rows\n",
    "df.loc[:1]"
   ]
  },
  {
   "cell_type": "code",
   "execution_count": 8,
   "id": "b3cd5aeb-d3db-4c7b-aab3-309f5a44b1f0",
   "metadata": {},
   "outputs": [
    {
     "data": {
      "text/plain": [
       "0    backend developer\n",
       "1          AI engineer\n",
       "Name: Jobs, dtype: object"
      ]
     },
     "execution_count": 8,
     "metadata": {},
     "output_type": "execute_result"
    }
   ],
   "source": [
    "df.loc[:1][\"Jobs\"]"
   ]
  },
  {
   "cell_type": "code",
   "execution_count": 9,
   "id": "c167e1dc-b689-4d11-b891-7544e2d1f175",
   "metadata": {},
   "outputs": [
    {
     "name": "stdout",
     "output_type": "stream",
     "text": [
      "                Jobs           City  Salary\n",
      "0  backend developer       Ney York   40000\n",
      "1        AI engineer  San francisco   50000\n",
      "2       data analyst  washington dc   30000\n"
     ]
    },
    {
     "name": "stderr",
     "output_type": "stream",
     "text": [
      "C:\\Users\\pugal\\AppData\\Local\\Temp\\ipykernel_25340\\4144206421.py:2: FutureWarning: Series.__getitem__ treating keys as positions is deprecated. In a future version, integer keys will always be treated as labels (consistent with DataFrame behavior). To access a value by position, use `ser.iloc[pos]`\n",
      "  df.loc[1][2] # fetching the specific data from the dataframe\n"
     ]
    },
    {
     "data": {
      "text/plain": [
       "np.int64(50000)"
      ]
     },
     "execution_count": 9,
     "metadata": {},
     "output_type": "execute_result"
    }
   ],
   "source": [
    "print(df)\n",
    "df.loc[1][2] # fetching the specific data from the dataframe"
   ]
  },
  {
   "cell_type": "code",
   "execution_count": 10,
   "id": "ab5ac15c-8c1c-4b0a-aec3-eb180c13df7e",
   "metadata": {},
   "outputs": [
    {
     "data": {
      "text/plain": [
       "0         Ney York\n",
       "1    San francisco\n",
       "2    washington dc\n",
       "Name: City, dtype: object"
      ]
     },
     "execution_count": 10,
     "metadata": {},
     "output_type": "execute_result"
    }
   ],
   "source": [
    "df[\"City\"]  # fethcing the column "
   ]
  },
  {
   "cell_type": "code",
   "execution_count": 11,
   "id": "a1f57c58-5c48-4823-9e32-7e92d2e9654b",
   "metadata": {},
   "outputs": [
    {
     "data": {
      "text/plain": [
       "'washington dc'"
      ]
     },
     "execution_count": 11,
     "metadata": {},
     "output_type": "execute_result"
    }
   ],
   "source": [
    "df[\"City\"][2] # retriving the specific data from coloumn"
   ]
  },
  {
   "cell_type": "code",
   "execution_count": 12,
   "id": "315a3a69-b863-4797-8231-b7187a4b5c38",
   "metadata": {},
   "outputs": [
    {
     "data": {
      "text/html": [
       "<div>\n",
       "<style scoped>\n",
       "    .dataframe tbody tr th:only-of-type {\n",
       "        vertical-align: middle;\n",
       "    }\n",
       "\n",
       "    .dataframe tbody tr th {\n",
       "        vertical-align: top;\n",
       "    }\n",
       "\n",
       "    .dataframe thead th {\n",
       "        text-align: right;\n",
       "    }\n",
       "</style>\n",
       "<table border=\"1\" class=\"dataframe\">\n",
       "  <thead>\n",
       "    <tr style=\"text-align: right;\">\n",
       "      <th></th>\n",
       "      <th>Jobs</th>\n",
       "      <th>City</th>\n",
       "      <th>Salary</th>\n",
       "    </tr>\n",
       "  </thead>\n",
       "  <tbody>\n",
       "    <tr>\n",
       "      <th>record1</th>\n",
       "      <td>backend developer</td>\n",
       "      <td>Ney York</td>\n",
       "      <td>40000</td>\n",
       "    </tr>\n",
       "    <tr>\n",
       "      <th>record2</th>\n",
       "      <td>AI engineer</td>\n",
       "      <td>San francisco</td>\n",
       "      <td>50000</td>\n",
       "    </tr>\n",
       "    <tr>\n",
       "      <th>record3</th>\n",
       "      <td>data analyst</td>\n",
       "      <td>washington dc</td>\n",
       "      <td>30000</td>\n",
       "    </tr>\n",
       "  </tbody>\n",
       "</table>\n",
       "</div>"
      ],
      "text/plain": [
       "                      Jobs           City  Salary\n",
       "record1  backend developer       Ney York   40000\n",
       "record2        AI engineer  San francisco   50000\n",
       "record3       data analyst  washington dc   30000"
      ]
     },
     "execution_count": 12,
     "metadata": {},
     "output_type": "execute_result"
    }
   ],
   "source": [
    "d2 = {\n",
    "    \"Jobs\" : [\"backend developer\", \"AI engineer\", \"data analyst\"],\n",
    "    \"City\" : [\"Ney York\", \"San francisco\", \"washington dc\"],\n",
    "    \"Salary\" : [40000,50000,30000]\n",
    "}\n",
    "\n",
    "df = pd.DataFrame(d2, index = (\"record1\", \"record2\", \"record3\")) # instead of going with default index\n",
    "                                                                # we define out own index for df\n",
    "df"
   ]
  },
  {
   "cell_type": "code",
   "execution_count": 13,
   "id": "d42b598f-9b8d-48bd-b26f-cebee7992c9f",
   "metadata": {},
   "outputs": [
    {
     "data": {
      "text/plain": [
       "Jobs        AI engineer\n",
       "City      San francisco\n",
       "Salary            50000\n",
       "Name: record2, dtype: object"
      ]
     },
     "execution_count": 13,
     "metadata": {},
     "output_type": "execute_result"
    }
   ],
   "source": [
    "# fetching the based on index name\n",
    "df.loc[\"record2\"]"
   ]
  },
  {
   "cell_type": "code",
   "execution_count": 14,
   "id": "7f628d16-07ed-4fec-9afc-9ed80d6a4e51",
   "metadata": {},
   "outputs": [
    {
     "ename": "KeyError",
     "evalue": "1",
     "output_type": "error",
     "traceback": [
      "\u001b[1;31m---------------------------------------------------------------------------\u001b[0m",
      "\u001b[1;31mKeyError\u001b[0m                                  Traceback (most recent call last)",
      "File \u001b[1;32m~\\AppData\\Local\\Programs\\Python\\Python311\\Lib\\site-packages\\pandas\\core\\indexes\\base.py:3812\u001b[0m, in \u001b[0;36mIndex.get_loc\u001b[1;34m(self, key)\u001b[0m\n\u001b[0;32m   3811\u001b[0m \u001b[38;5;28;01mtry\u001b[39;00m:\n\u001b[1;32m-> 3812\u001b[0m     \u001b[38;5;28;01mreturn\u001b[39;00m \u001b[38;5;28;43mself\u001b[39;49m\u001b[38;5;241;43m.\u001b[39;49m\u001b[43m_engine\u001b[49m\u001b[38;5;241;43m.\u001b[39;49m\u001b[43mget_loc\u001b[49m\u001b[43m(\u001b[49m\u001b[43mcasted_key\u001b[49m\u001b[43m)\u001b[49m\n\u001b[0;32m   3813\u001b[0m \u001b[38;5;28;01mexcept\u001b[39;00m \u001b[38;5;167;01mKeyError\u001b[39;00m \u001b[38;5;28;01mas\u001b[39;00m err:\n",
      "File \u001b[1;32mpandas/_libs/index.pyx:167\u001b[0m, in \u001b[0;36mpandas._libs.index.IndexEngine.get_loc\u001b[1;34m()\u001b[0m\n",
      "File \u001b[1;32mpandas/_libs/index.pyx:196\u001b[0m, in \u001b[0;36mpandas._libs.index.IndexEngine.get_loc\u001b[1;34m()\u001b[0m\n",
      "File \u001b[1;32mpandas/_libs/hashtable_class_helper.pxi:7088\u001b[0m, in \u001b[0;36mpandas._libs.hashtable.PyObjectHashTable.get_item\u001b[1;34m()\u001b[0m\n",
      "File \u001b[1;32mpandas/_libs/hashtable_class_helper.pxi:7096\u001b[0m, in \u001b[0;36mpandas._libs.hashtable.PyObjectHashTable.get_item\u001b[1;34m()\u001b[0m\n",
      "\u001b[1;31mKeyError\u001b[0m: 1",
      "\nThe above exception was the direct cause of the following exception:\n",
      "\u001b[1;31mKeyError\u001b[0m                                  Traceback (most recent call last)",
      "Cell \u001b[1;32mIn[14], line 1\u001b[0m\n\u001b[1;32m----> 1\u001b[0m \u001b[43mdf\u001b[49m\u001b[38;5;241;43m.\u001b[39;49m\u001b[43mloc\u001b[49m\u001b[43m[\u001b[49m\u001b[38;5;241;43m1\u001b[39;49m\u001b[43m]\u001b[49m\n",
      "File \u001b[1;32m~\\AppData\\Local\\Programs\\Python\\Python311\\Lib\\site-packages\\pandas\\core\\indexing.py:1191\u001b[0m, in \u001b[0;36m_LocationIndexer.__getitem__\u001b[1;34m(self, key)\u001b[0m\n\u001b[0;32m   1189\u001b[0m maybe_callable \u001b[38;5;241m=\u001b[39m com\u001b[38;5;241m.\u001b[39mapply_if_callable(key, \u001b[38;5;28mself\u001b[39m\u001b[38;5;241m.\u001b[39mobj)\n\u001b[0;32m   1190\u001b[0m maybe_callable \u001b[38;5;241m=\u001b[39m \u001b[38;5;28mself\u001b[39m\u001b[38;5;241m.\u001b[39m_check_deprecated_callable_usage(key, maybe_callable)\n\u001b[1;32m-> 1191\u001b[0m \u001b[38;5;28;01mreturn\u001b[39;00m \u001b[38;5;28;43mself\u001b[39;49m\u001b[38;5;241;43m.\u001b[39;49m\u001b[43m_getitem_axis\u001b[49m\u001b[43m(\u001b[49m\u001b[43mmaybe_callable\u001b[49m\u001b[43m,\u001b[49m\u001b[43m \u001b[49m\u001b[43maxis\u001b[49m\u001b[38;5;241;43m=\u001b[39;49m\u001b[43maxis\u001b[49m\u001b[43m)\u001b[49m\n",
      "File \u001b[1;32m~\\AppData\\Local\\Programs\\Python\\Python311\\Lib\\site-packages\\pandas\\core\\indexing.py:1431\u001b[0m, in \u001b[0;36m_LocIndexer._getitem_axis\u001b[1;34m(self, key, axis)\u001b[0m\n\u001b[0;32m   1429\u001b[0m \u001b[38;5;66;03m# fall thru to straight lookup\u001b[39;00m\n\u001b[0;32m   1430\u001b[0m \u001b[38;5;28mself\u001b[39m\u001b[38;5;241m.\u001b[39m_validate_key(key, axis)\n\u001b[1;32m-> 1431\u001b[0m \u001b[38;5;28;01mreturn\u001b[39;00m \u001b[38;5;28;43mself\u001b[39;49m\u001b[38;5;241;43m.\u001b[39;49m\u001b[43m_get_label\u001b[49m\u001b[43m(\u001b[49m\u001b[43mkey\u001b[49m\u001b[43m,\u001b[49m\u001b[43m \u001b[49m\u001b[43maxis\u001b[49m\u001b[38;5;241;43m=\u001b[39;49m\u001b[43maxis\u001b[49m\u001b[43m)\u001b[49m\n",
      "File \u001b[1;32m~\\AppData\\Local\\Programs\\Python\\Python311\\Lib\\site-packages\\pandas\\core\\indexing.py:1381\u001b[0m, in \u001b[0;36m_LocIndexer._get_label\u001b[1;34m(self, label, axis)\u001b[0m\n\u001b[0;32m   1379\u001b[0m \u001b[38;5;28;01mdef\u001b[39;00m \u001b[38;5;21m_get_label\u001b[39m(\u001b[38;5;28mself\u001b[39m, label, axis: AxisInt):\n\u001b[0;32m   1380\u001b[0m     \u001b[38;5;66;03m# GH#5567 this will fail if the label is not present in the axis.\u001b[39;00m\n\u001b[1;32m-> 1381\u001b[0m     \u001b[38;5;28;01mreturn\u001b[39;00m \u001b[38;5;28;43mself\u001b[39;49m\u001b[38;5;241;43m.\u001b[39;49m\u001b[43mobj\u001b[49m\u001b[38;5;241;43m.\u001b[39;49m\u001b[43mxs\u001b[49m\u001b[43m(\u001b[49m\u001b[43mlabel\u001b[49m\u001b[43m,\u001b[49m\u001b[43m \u001b[49m\u001b[43maxis\u001b[49m\u001b[38;5;241;43m=\u001b[39;49m\u001b[43maxis\u001b[49m\u001b[43m)\u001b[49m\n",
      "File \u001b[1;32m~\\AppData\\Local\\Programs\\Python\\Python311\\Lib\\site-packages\\pandas\\core\\generic.py:4320\u001b[0m, in \u001b[0;36mNDFrame.xs\u001b[1;34m(self, key, axis, level, drop_level)\u001b[0m\n\u001b[0;32m   4318\u001b[0m             new_index \u001b[38;5;241m=\u001b[39m index[loc]\n\u001b[0;32m   4319\u001b[0m \u001b[38;5;28;01melse\u001b[39;00m:\n\u001b[1;32m-> 4320\u001b[0m     loc \u001b[38;5;241m=\u001b[39m \u001b[43mindex\u001b[49m\u001b[38;5;241;43m.\u001b[39;49m\u001b[43mget_loc\u001b[49m\u001b[43m(\u001b[49m\u001b[43mkey\u001b[49m\u001b[43m)\u001b[49m\n\u001b[0;32m   4322\u001b[0m     \u001b[38;5;28;01mif\u001b[39;00m \u001b[38;5;28misinstance\u001b[39m(loc, np\u001b[38;5;241m.\u001b[39mndarray):\n\u001b[0;32m   4323\u001b[0m         \u001b[38;5;28;01mif\u001b[39;00m loc\u001b[38;5;241m.\u001b[39mdtype \u001b[38;5;241m==\u001b[39m np\u001b[38;5;241m.\u001b[39mbool_:\n",
      "File \u001b[1;32m~\\AppData\\Local\\Programs\\Python\\Python311\\Lib\\site-packages\\pandas\\core\\indexes\\base.py:3819\u001b[0m, in \u001b[0;36mIndex.get_loc\u001b[1;34m(self, key)\u001b[0m\n\u001b[0;32m   3814\u001b[0m     \u001b[38;5;28;01mif\u001b[39;00m \u001b[38;5;28misinstance\u001b[39m(casted_key, \u001b[38;5;28mslice\u001b[39m) \u001b[38;5;129;01mor\u001b[39;00m (\n\u001b[0;32m   3815\u001b[0m         \u001b[38;5;28misinstance\u001b[39m(casted_key, abc\u001b[38;5;241m.\u001b[39mIterable)\n\u001b[0;32m   3816\u001b[0m         \u001b[38;5;129;01mand\u001b[39;00m \u001b[38;5;28many\u001b[39m(\u001b[38;5;28misinstance\u001b[39m(x, \u001b[38;5;28mslice\u001b[39m) \u001b[38;5;28;01mfor\u001b[39;00m x \u001b[38;5;129;01min\u001b[39;00m casted_key)\n\u001b[0;32m   3817\u001b[0m     ):\n\u001b[0;32m   3818\u001b[0m         \u001b[38;5;28;01mraise\u001b[39;00m InvalidIndexError(key)\n\u001b[1;32m-> 3819\u001b[0m     \u001b[38;5;28;01mraise\u001b[39;00m \u001b[38;5;167;01mKeyError\u001b[39;00m(key) \u001b[38;5;28;01mfrom\u001b[39;00m \u001b[38;5;21;01merr\u001b[39;00m\n\u001b[0;32m   3820\u001b[0m \u001b[38;5;28;01mexcept\u001b[39;00m \u001b[38;5;167;01mTypeError\u001b[39;00m:\n\u001b[0;32m   3821\u001b[0m     \u001b[38;5;66;03m# If we have a listlike key, _check_indexing_error will raise\u001b[39;00m\n\u001b[0;32m   3822\u001b[0m     \u001b[38;5;66;03m#  InvalidIndexError. Otherwise we fall through and re-raise\u001b[39;00m\n\u001b[0;32m   3823\u001b[0m     \u001b[38;5;66;03m#  the TypeError.\u001b[39;00m\n\u001b[0;32m   3824\u001b[0m     \u001b[38;5;28mself\u001b[39m\u001b[38;5;241m.\u001b[39m_check_indexing_error(key)\n",
      "\u001b[1;31mKeyError\u001b[0m: 1"
     ]
    }
   ],
   "source": [
    "df.loc[1]\n"
   ]
  },
  {
   "cell_type": "code",
   "execution_count": 15,
   "id": "eed4c9e2-7151-4723-90cc-999d8655c291",
   "metadata": {},
   "outputs": [
    {
     "data": {
      "text/plain": [
       "Jobs       data analyst\n",
       "City      washington dc\n",
       "Salary            30000\n",
       "Name: record3, dtype: object"
      ]
     },
     "execution_count": 15,
     "metadata": {},
     "output_type": "execute_result"
    }
   ],
   "source": [
    "df.iloc[2] # retriving the data based on index count"
   ]
  },
  {
   "cell_type": "code",
   "execution_count": 16,
   "id": "862c08f8-7ce2-4328-a2b2-fbd59d790536",
   "metadata": {},
   "outputs": [
    {
     "ename": "TypeError",
     "evalue": "Cannot index by location index with a non-integer key",
     "output_type": "error",
     "traceback": [
      "\u001b[1;31m---------------------------------------------------------------------------\u001b[0m",
      "\u001b[1;31mTypeError\u001b[0m                                 Traceback (most recent call last)",
      "Cell \u001b[1;32mIn[16], line 1\u001b[0m\n\u001b[1;32m----> 1\u001b[0m \u001b[43mdf\u001b[49m\u001b[38;5;241;43m.\u001b[39;49m\u001b[43miloc\u001b[49m\u001b[43m[\u001b[49m\u001b[38;5;124;43m\"\u001b[39;49m\u001b[38;5;124;43mrecord1\u001b[39;49m\u001b[38;5;124;43m\"\u001b[39;49m\u001b[43m]\u001b[49m \n",
      "File \u001b[1;32m~\\AppData\\Local\\Programs\\Python\\Python311\\Lib\\site-packages\\pandas\\core\\indexing.py:1191\u001b[0m, in \u001b[0;36m_LocationIndexer.__getitem__\u001b[1;34m(self, key)\u001b[0m\n\u001b[0;32m   1189\u001b[0m maybe_callable \u001b[38;5;241m=\u001b[39m com\u001b[38;5;241m.\u001b[39mapply_if_callable(key, \u001b[38;5;28mself\u001b[39m\u001b[38;5;241m.\u001b[39mobj)\n\u001b[0;32m   1190\u001b[0m maybe_callable \u001b[38;5;241m=\u001b[39m \u001b[38;5;28mself\u001b[39m\u001b[38;5;241m.\u001b[39m_check_deprecated_callable_usage(key, maybe_callable)\n\u001b[1;32m-> 1191\u001b[0m \u001b[38;5;28;01mreturn\u001b[39;00m \u001b[38;5;28;43mself\u001b[39;49m\u001b[38;5;241;43m.\u001b[39;49m\u001b[43m_getitem_axis\u001b[49m\u001b[43m(\u001b[49m\u001b[43mmaybe_callable\u001b[49m\u001b[43m,\u001b[49m\u001b[43m \u001b[49m\u001b[43maxis\u001b[49m\u001b[38;5;241;43m=\u001b[39;49m\u001b[43maxis\u001b[49m\u001b[43m)\u001b[49m\n",
      "File \u001b[1;32m~\\AppData\\Local\\Programs\\Python\\Python311\\Lib\\site-packages\\pandas\\core\\indexing.py:1749\u001b[0m, in \u001b[0;36m_iLocIndexer._getitem_axis\u001b[1;34m(self, key, axis)\u001b[0m\n\u001b[0;32m   1747\u001b[0m key \u001b[38;5;241m=\u001b[39m item_from_zerodim(key)\n\u001b[0;32m   1748\u001b[0m \u001b[38;5;28;01mif\u001b[39;00m \u001b[38;5;129;01mnot\u001b[39;00m is_integer(key):\n\u001b[1;32m-> 1749\u001b[0m     \u001b[38;5;28;01mraise\u001b[39;00m \u001b[38;5;167;01mTypeError\u001b[39;00m(\u001b[38;5;124m\"\u001b[39m\u001b[38;5;124mCannot index by location index with a non-integer key\u001b[39m\u001b[38;5;124m\"\u001b[39m)\n\u001b[0;32m   1751\u001b[0m \u001b[38;5;66;03m# validate the location\u001b[39;00m\n\u001b[0;32m   1752\u001b[0m \u001b[38;5;28mself\u001b[39m\u001b[38;5;241m.\u001b[39m_validate_integer(key, axis)\n",
      "\u001b[1;31mTypeError\u001b[0m: Cannot index by location index with a non-integer key"
     ]
    }
   ],
   "source": [
    "df.iloc[\"record1\"] "
   ]
  },
  {
   "cell_type": "code",
   "execution_count": 17,
   "id": "7c2b257a-952d-458b-96b3-d147e7229100",
   "metadata": {},
   "outputs": [
    {
     "data": {
      "text/html": [
       "<div>\n",
       "<style scoped>\n",
       "    .dataframe tbody tr th:only-of-type {\n",
       "        vertical-align: middle;\n",
       "    }\n",
       "\n",
       "    .dataframe tbody tr th {\n",
       "        vertical-align: top;\n",
       "    }\n",
       "\n",
       "    .dataframe thead th {\n",
       "        text-align: right;\n",
       "    }\n",
       "</style>\n",
       "<table border=\"1\" class=\"dataframe\">\n",
       "  <thead>\n",
       "    <tr style=\"text-align: right;\">\n",
       "      <th></th>\n",
       "      <th>name</th>\n",
       "      <th>salary</th>\n",
       "      <th>exp</th>\n",
       "      <th>city</th>\n",
       "      <th>age</th>\n",
       "      <th>Gender</th>\n",
       "    </tr>\n",
       "  </thead>\n",
       "  <tbody>\n",
       "    <tr>\n",
       "      <th>0</th>\n",
       "      <td>john</td>\n",
       "      <td>3000.0</td>\n",
       "      <td>4.0</td>\n",
       "      <td>losvegas</td>\n",
       "      <td>30</td>\n",
       "      <td>Male</td>\n",
       "    </tr>\n",
       "    <tr>\n",
       "      <th>1</th>\n",
       "      <td>doe</td>\n",
       "      <td>4000.0</td>\n",
       "      <td>5.0</td>\n",
       "      <td>dc</td>\n",
       "      <td>25</td>\n",
       "      <td>Female</td>\n",
       "    </tr>\n",
       "    <tr>\n",
       "      <th>2</th>\n",
       "      <td>robert</td>\n",
       "      <td>8000.0</td>\n",
       "      <td>6.0</td>\n",
       "      <td>paris</td>\n",
       "      <td>27</td>\n",
       "      <td>Male</td>\n",
       "    </tr>\n",
       "    <tr>\n",
       "      <th>3</th>\n",
       "      <td>chris</td>\n",
       "      <td>9000.0</td>\n",
       "      <td>7.0</td>\n",
       "      <td>newyork</td>\n",
       "      <td>24</td>\n",
       "      <td>Female</td>\n",
       "    </tr>\n",
       "    <tr>\n",
       "      <th>4</th>\n",
       "      <td>NaN</td>\n",
       "      <td>3000.0</td>\n",
       "      <td>NaN</td>\n",
       "      <td>losvegas</td>\n",
       "      <td>35</td>\n",
       "      <td>Male</td>\n",
       "    </tr>\n",
       "    <tr>\n",
       "      <th>5</th>\n",
       "      <td>john</td>\n",
       "      <td>3000.0</td>\n",
       "      <td>4.0</td>\n",
       "      <td>losvegas</td>\n",
       "      <td>33</td>\n",
       "      <td>Female</td>\n",
       "    </tr>\n",
       "    <tr>\n",
       "      <th>6</th>\n",
       "      <td>evans</td>\n",
       "      <td>NaN</td>\n",
       "      <td>4.0</td>\n",
       "      <td>losvegas</td>\n",
       "      <td>31</td>\n",
       "      <td>Male</td>\n",
       "    </tr>\n",
       "    <tr>\n",
       "      <th>7</th>\n",
       "      <td>tom</td>\n",
       "      <td>3000.0</td>\n",
       "      <td>4.0</td>\n",
       "      <td>NaN</td>\n",
       "      <td>37</td>\n",
       "      <td>Female</td>\n",
       "    </tr>\n",
       "  </tbody>\n",
       "</table>\n",
       "</div>"
      ],
      "text/plain": [
       "     name  salary  exp      city  age  Gender\n",
       "0    john  3000.0  4.0  losvegas   30    Male\n",
       "1     doe  4000.0  5.0        dc   25  Female\n",
       "2  robert  8000.0  6.0     paris   27    Male\n",
       "3   chris  9000.0  7.0   newyork   24  Female\n",
       "4     NaN  3000.0  NaN  losvegas   35    Male\n",
       "5    john  3000.0  4.0  losvegas   33  Female\n",
       "6   evans     NaN  4.0  losvegas   31    Male\n",
       "7     tom  3000.0  4.0       NaN   37  Female"
      ]
     },
     "execution_count": 17,
     "metadata": {},
     "output_type": "execute_result"
    }
   ],
   "source": [
    "# reading the files using pandas\n",
    "\n",
    "#csv file\n",
    "\n",
    "df = pd.read_csv(\"employee.csv\")\n",
    "df"
   ]
  },
  {
   "cell_type": "code",
   "execution_count": 18,
   "id": "92a483bc-2059-43ee-b711-adb239813668",
   "metadata": {},
   "outputs": [
    {
     "data": {
      "text/html": [
       "<div>\n",
       "<style scoped>\n",
       "    .dataframe tbody tr th:only-of-type {\n",
       "        vertical-align: middle;\n",
       "    }\n",
       "\n",
       "    .dataframe tbody tr th {\n",
       "        vertical-align: top;\n",
       "    }\n",
       "\n",
       "    .dataframe thead th {\n",
       "        text-align: right;\n",
       "    }\n",
       "</style>\n",
       "<table border=\"1\" class=\"dataframe\">\n",
       "  <thead>\n",
       "    <tr style=\"text-align: right;\">\n",
       "      <th></th>\n",
       "      <th>name</th>\n",
       "      <th>salary</th>\n",
       "      <th>exp</th>\n",
       "      <th>city</th>\n",
       "      <th>age</th>\n",
       "      <th>Gender</th>\n",
       "    </tr>\n",
       "  </thead>\n",
       "  <tbody>\n",
       "    <tr>\n",
       "      <th>0</th>\n",
       "      <td>john</td>\n",
       "      <td>3000.0</td>\n",
       "      <td>4.0</td>\n",
       "      <td>losvegas</td>\n",
       "      <td>30</td>\n",
       "      <td>Male</td>\n",
       "    </tr>\n",
       "    <tr>\n",
       "      <th>1</th>\n",
       "      <td>doe</td>\n",
       "      <td>4000.0</td>\n",
       "      <td>5.0</td>\n",
       "      <td>dc</td>\n",
       "      <td>25</td>\n",
       "      <td>Female</td>\n",
       "    </tr>\n",
       "    <tr>\n",
       "      <th>2</th>\n",
       "      <td>robert</td>\n",
       "      <td>8000.0</td>\n",
       "      <td>6.0</td>\n",
       "      <td>paris</td>\n",
       "      <td>27</td>\n",
       "      <td>Male</td>\n",
       "    </tr>\n",
       "    <tr>\n",
       "      <th>3</th>\n",
       "      <td>chris</td>\n",
       "      <td>9000.0</td>\n",
       "      <td>7.0</td>\n",
       "      <td>newyork</td>\n",
       "      <td>24</td>\n",
       "      <td>Female</td>\n",
       "    </tr>\n",
       "    <tr>\n",
       "      <th>4</th>\n",
       "      <td>None</td>\n",
       "      <td>3000.0</td>\n",
       "      <td>NaN</td>\n",
       "      <td>losvegas</td>\n",
       "      <td>35</td>\n",
       "      <td>Male</td>\n",
       "    </tr>\n",
       "    <tr>\n",
       "      <th>5</th>\n",
       "      <td>john</td>\n",
       "      <td>3000.0</td>\n",
       "      <td>4.0</td>\n",
       "      <td>losvegas</td>\n",
       "      <td>33</td>\n",
       "      <td>Female</td>\n",
       "    </tr>\n",
       "    <tr>\n",
       "      <th>6</th>\n",
       "      <td>evans</td>\n",
       "      <td>NaN</td>\n",
       "      <td>4.0</td>\n",
       "      <td>losvegas</td>\n",
       "      <td>31</td>\n",
       "      <td>Male</td>\n",
       "    </tr>\n",
       "    <tr>\n",
       "      <th>7</th>\n",
       "      <td>tom</td>\n",
       "      <td>3000.0</td>\n",
       "      <td>4.0</td>\n",
       "      <td>None</td>\n",
       "      <td>37</td>\n",
       "      <td>Female</td>\n",
       "    </tr>\n",
       "  </tbody>\n",
       "</table>\n",
       "</div>"
      ],
      "text/plain": [
       "     name  salary  exp      city  age  Gender\n",
       "0    john  3000.0  4.0  losvegas   30    Male\n",
       "1     doe  4000.0  5.0        dc   25  Female\n",
       "2  robert  8000.0  6.0     paris   27    Male\n",
       "3   chris  9000.0  7.0   newyork   24  Female\n",
       "4    None  3000.0  NaN  losvegas   35    Male\n",
       "5    john  3000.0  4.0  losvegas   33  Female\n",
       "6   evans     NaN  4.0  losvegas   31    Male\n",
       "7     tom  3000.0  4.0      None   37  Female"
      ]
     },
     "execution_count": 18,
     "metadata": {},
     "output_type": "execute_result"
    }
   ],
   "source": [
    "# reading the json file\n",
    "df = pd.read_json(\"employee.json\")\n",
    "df"
   ]
  },
  {
   "cell_type": "code",
   "execution_count": 31,
   "id": "03643bab-6934-4814-9344-e021578dfa37",
   "metadata": {},
   "outputs": [
    {
     "name": "stdout",
     "output_type": "stream",
     "text": [
      "Collecting xlrd\n",
      "  Downloading xlrd-2.0.2-py2.py3-none-any.whl (96 kB)\n",
      "                                              0.0/96.6 kB ? eta -:--:--\n",
      "     --------                                 20.5/96.6 kB ? eta -:--:--\n",
      "     ----------------                       41.0/96.6 kB 960.0 kB/s eta 0:00:01\n",
      "     ----------------------------           71.7/96.6 kB 787.7 kB/s eta 0:00:01\n",
      "     -------------------------------------- 96.6/96.6 kB 690.5 kB/s eta 0:00:00\n",
      "Installing collected packages: xlrd\n",
      "Successfully installed xlrd-2.0.2\n"
     ]
    },
    {
     "name": "stderr",
     "output_type": "stream",
     "text": [
      "\n",
      "[notice] A new release of pip is available: 23.1.2 -> 25.1.1\n",
      "[notice] To update, run: python.exe -m pip install --upgrade pip\n"
     ]
    }
   ],
   "source": [
    "# to enable python to read any excel file we use xlrd -library\n",
    "!pip install xlrd"
   ]
  },
  {
   "cell_type": "code",
   "execution_count": 20,
   "id": "31b88114-a73f-4267-b9c4-bf66d3593e60",
   "metadata": {},
   "outputs": [
    {
     "data": {
      "text/html": [
       "<div>\n",
       "<style scoped>\n",
       "    .dataframe tbody tr th:only-of-type {\n",
       "        vertical-align: middle;\n",
       "    }\n",
       "\n",
       "    .dataframe tbody tr th {\n",
       "        vertical-align: top;\n",
       "    }\n",
       "\n",
       "    .dataframe thead th {\n",
       "        text-align: right;\n",
       "    }\n",
       "</style>\n",
       "<table border=\"1\" class=\"dataframe\">\n",
       "  <thead>\n",
       "    <tr style=\"text-align: right;\">\n",
       "      <th></th>\n",
       "      <th>0</th>\n",
       "      <th>First Name</th>\n",
       "      <th>Last Name</th>\n",
       "      <th>Gender</th>\n",
       "      <th>Country</th>\n",
       "      <th>Age</th>\n",
       "      <th>Date</th>\n",
       "      <th>Id</th>\n",
       "    </tr>\n",
       "  </thead>\n",
       "  <tbody>\n",
       "    <tr>\n",
       "      <th>0</th>\n",
       "      <td>1</td>\n",
       "      <td>Dulce</td>\n",
       "      <td>Abril</td>\n",
       "      <td>Female</td>\n",
       "      <td>United States</td>\n",
       "      <td>32</td>\n",
       "      <td>15/10/2017</td>\n",
       "      <td>1562</td>\n",
       "    </tr>\n",
       "    <tr>\n",
       "      <th>1</th>\n",
       "      <td>2</td>\n",
       "      <td>Mara</td>\n",
       "      <td>Hashimoto</td>\n",
       "      <td>Female</td>\n",
       "      <td>Great Britain</td>\n",
       "      <td>25</td>\n",
       "      <td>16/08/2016</td>\n",
       "      <td>1582</td>\n",
       "    </tr>\n",
       "    <tr>\n",
       "      <th>2</th>\n",
       "      <td>3</td>\n",
       "      <td>Philip</td>\n",
       "      <td>Gent</td>\n",
       "      <td>Male</td>\n",
       "      <td>France</td>\n",
       "      <td>36</td>\n",
       "      <td>21/05/2015</td>\n",
       "      <td>2587</td>\n",
       "    </tr>\n",
       "    <tr>\n",
       "      <th>3</th>\n",
       "      <td>4</td>\n",
       "      <td>Kathleen</td>\n",
       "      <td>Hanner</td>\n",
       "      <td>Female</td>\n",
       "      <td>United States</td>\n",
       "      <td>25</td>\n",
       "      <td>15/10/2017</td>\n",
       "      <td>3549</td>\n",
       "    </tr>\n",
       "    <tr>\n",
       "      <th>4</th>\n",
       "      <td>5</td>\n",
       "      <td>Nereida</td>\n",
       "      <td>Magwood</td>\n",
       "      <td>Female</td>\n",
       "      <td>United States</td>\n",
       "      <td>58</td>\n",
       "      <td>16/08/2016</td>\n",
       "      <td>2468</td>\n",
       "    </tr>\n",
       "    <tr>\n",
       "      <th>5</th>\n",
       "      <td>6</td>\n",
       "      <td>Gaston</td>\n",
       "      <td>Brumm</td>\n",
       "      <td>Male</td>\n",
       "      <td>United States</td>\n",
       "      <td>24</td>\n",
       "      <td>21/05/2015</td>\n",
       "      <td>2554</td>\n",
       "    </tr>\n",
       "    <tr>\n",
       "      <th>6</th>\n",
       "      <td>7</td>\n",
       "      <td>Etta</td>\n",
       "      <td>Hurn</td>\n",
       "      <td>Female</td>\n",
       "      <td>Great Britain</td>\n",
       "      <td>56</td>\n",
       "      <td>15/10/2017</td>\n",
       "      <td>3598</td>\n",
       "    </tr>\n",
       "    <tr>\n",
       "      <th>7</th>\n",
       "      <td>8</td>\n",
       "      <td>Earlean</td>\n",
       "      <td>Melgar</td>\n",
       "      <td>Female</td>\n",
       "      <td>United States</td>\n",
       "      <td>27</td>\n",
       "      <td>16/08/2016</td>\n",
       "      <td>2456</td>\n",
       "    </tr>\n",
       "    <tr>\n",
       "      <th>8</th>\n",
       "      <td>9</td>\n",
       "      <td>Vincenza</td>\n",
       "      <td>Weiland</td>\n",
       "      <td>Female</td>\n",
       "      <td>United States</td>\n",
       "      <td>40</td>\n",
       "      <td>21/05/2015</td>\n",
       "      <td>6548</td>\n",
       "    </tr>\n",
       "    <tr>\n",
       "      <th>9</th>\n",
       "      <td>10</td>\n",
       "      <td>Fallon</td>\n",
       "      <td>Winward</td>\n",
       "      <td>Female</td>\n",
       "      <td>Great Britain</td>\n",
       "      <td>28</td>\n",
       "      <td>16/08/2016</td>\n",
       "      <td>5486</td>\n",
       "    </tr>\n",
       "    <tr>\n",
       "      <th>10</th>\n",
       "      <td>11</td>\n",
       "      <td>Arcelia</td>\n",
       "      <td>Bouska</td>\n",
       "      <td>Female</td>\n",
       "      <td>Great Britain</td>\n",
       "      <td>39</td>\n",
       "      <td>21/05/2015</td>\n",
       "      <td>1258</td>\n",
       "    </tr>\n",
       "    <tr>\n",
       "      <th>11</th>\n",
       "      <td>12</td>\n",
       "      <td>Franklyn</td>\n",
       "      <td>Unknow</td>\n",
       "      <td>Male</td>\n",
       "      <td>France</td>\n",
       "      <td>38</td>\n",
       "      <td>15/10/2017</td>\n",
       "      <td>2579</td>\n",
       "    </tr>\n",
       "    <tr>\n",
       "      <th>12</th>\n",
       "      <td>13</td>\n",
       "      <td>Sherron</td>\n",
       "      <td>Ascencio</td>\n",
       "      <td>Female</td>\n",
       "      <td>Great Britain</td>\n",
       "      <td>32</td>\n",
       "      <td>16/08/2016</td>\n",
       "      <td>3256</td>\n",
       "    </tr>\n",
       "    <tr>\n",
       "      <th>13</th>\n",
       "      <td>14</td>\n",
       "      <td>Marcel</td>\n",
       "      <td>Zabriskie</td>\n",
       "      <td>Male</td>\n",
       "      <td>Great Britain</td>\n",
       "      <td>26</td>\n",
       "      <td>21/05/2015</td>\n",
       "      <td>2587</td>\n",
       "    </tr>\n",
       "    <tr>\n",
       "      <th>14</th>\n",
       "      <td>15</td>\n",
       "      <td>Kina</td>\n",
       "      <td>Hazelton</td>\n",
       "      <td>Female</td>\n",
       "      <td>Great Britain</td>\n",
       "      <td>31</td>\n",
       "      <td>16/08/2016</td>\n",
       "      <td>3259</td>\n",
       "    </tr>\n",
       "    <tr>\n",
       "      <th>15</th>\n",
       "      <td>16</td>\n",
       "      <td>Shavonne</td>\n",
       "      <td>Pia</td>\n",
       "      <td>Female</td>\n",
       "      <td>France</td>\n",
       "      <td>24</td>\n",
       "      <td>21/05/2015</td>\n",
       "      <td>1546</td>\n",
       "    </tr>\n",
       "    <tr>\n",
       "      <th>16</th>\n",
       "      <td>17</td>\n",
       "      <td>Shavon</td>\n",
       "      <td>Benito</td>\n",
       "      <td>Female</td>\n",
       "      <td>France</td>\n",
       "      <td>39</td>\n",
       "      <td>15/10/2017</td>\n",
       "      <td>3579</td>\n",
       "    </tr>\n",
       "    <tr>\n",
       "      <th>17</th>\n",
       "      <td>18</td>\n",
       "      <td>Lauralee</td>\n",
       "      <td>Perrine</td>\n",
       "      <td>Female</td>\n",
       "      <td>Great Britain</td>\n",
       "      <td>28</td>\n",
       "      <td>16/08/2016</td>\n",
       "      <td>6597</td>\n",
       "    </tr>\n",
       "    <tr>\n",
       "      <th>18</th>\n",
       "      <td>19</td>\n",
       "      <td>Loreta</td>\n",
       "      <td>Curren</td>\n",
       "      <td>Female</td>\n",
       "      <td>France</td>\n",
       "      <td>26</td>\n",
       "      <td>21/05/2015</td>\n",
       "      <td>9654</td>\n",
       "    </tr>\n",
       "    <tr>\n",
       "      <th>19</th>\n",
       "      <td>20</td>\n",
       "      <td>Teresa</td>\n",
       "      <td>Strawn</td>\n",
       "      <td>Female</td>\n",
       "      <td>France</td>\n",
       "      <td>46</td>\n",
       "      <td>21/05/2015</td>\n",
       "      <td>3569</td>\n",
       "    </tr>\n",
       "    <tr>\n",
       "      <th>20</th>\n",
       "      <td>21</td>\n",
       "      <td>Belinda</td>\n",
       "      <td>Partain</td>\n",
       "      <td>Female</td>\n",
       "      <td>United States</td>\n",
       "      <td>37</td>\n",
       "      <td>15/10/2017</td>\n",
       "      <td>2564</td>\n",
       "    </tr>\n",
       "    <tr>\n",
       "      <th>21</th>\n",
       "      <td>22</td>\n",
       "      <td>Holly</td>\n",
       "      <td>Eudy</td>\n",
       "      <td>Female</td>\n",
       "      <td>United States</td>\n",
       "      <td>52</td>\n",
       "      <td>16/08/2016</td>\n",
       "      <td>8561</td>\n",
       "    </tr>\n",
       "    <tr>\n",
       "      <th>22</th>\n",
       "      <td>23</td>\n",
       "      <td>Many</td>\n",
       "      <td>Cuccia</td>\n",
       "      <td>Female</td>\n",
       "      <td>Great Britain</td>\n",
       "      <td>46</td>\n",
       "      <td>21/05/2015</td>\n",
       "      <td>5489</td>\n",
       "    </tr>\n",
       "    <tr>\n",
       "      <th>23</th>\n",
       "      <td>24</td>\n",
       "      <td>Libbie</td>\n",
       "      <td>Dalby</td>\n",
       "      <td>Female</td>\n",
       "      <td>France</td>\n",
       "      <td>42</td>\n",
       "      <td>21/05/2015</td>\n",
       "      <td>5489</td>\n",
       "    </tr>\n",
       "    <tr>\n",
       "      <th>24</th>\n",
       "      <td>25</td>\n",
       "      <td>Lester</td>\n",
       "      <td>Prothro</td>\n",
       "      <td>Male</td>\n",
       "      <td>France</td>\n",
       "      <td>21</td>\n",
       "      <td>15/10/2017</td>\n",
       "      <td>6574</td>\n",
       "    </tr>\n",
       "    <tr>\n",
       "      <th>25</th>\n",
       "      <td>26</td>\n",
       "      <td>Marvel</td>\n",
       "      <td>Hail</td>\n",
       "      <td>Female</td>\n",
       "      <td>Great Britain</td>\n",
       "      <td>28</td>\n",
       "      <td>16/08/2016</td>\n",
       "      <td>5555</td>\n",
       "    </tr>\n",
       "    <tr>\n",
       "      <th>26</th>\n",
       "      <td>27</td>\n",
       "      <td>Angelyn</td>\n",
       "      <td>Vong</td>\n",
       "      <td>Female</td>\n",
       "      <td>United States</td>\n",
       "      <td>29</td>\n",
       "      <td>21/05/2015</td>\n",
       "      <td>6125</td>\n",
       "    </tr>\n",
       "    <tr>\n",
       "      <th>27</th>\n",
       "      <td>28</td>\n",
       "      <td>Francesca</td>\n",
       "      <td>Beaudreau</td>\n",
       "      <td>Female</td>\n",
       "      <td>France</td>\n",
       "      <td>23</td>\n",
       "      <td>15/10/2017</td>\n",
       "      <td>5412</td>\n",
       "    </tr>\n",
       "    <tr>\n",
       "      <th>28</th>\n",
       "      <td>29</td>\n",
       "      <td>Garth</td>\n",
       "      <td>Gangi</td>\n",
       "      <td>Male</td>\n",
       "      <td>United States</td>\n",
       "      <td>41</td>\n",
       "      <td>16/08/2016</td>\n",
       "      <td>3256</td>\n",
       "    </tr>\n",
       "    <tr>\n",
       "      <th>29</th>\n",
       "      <td>30</td>\n",
       "      <td>Carla</td>\n",
       "      <td>Trumbull</td>\n",
       "      <td>Female</td>\n",
       "      <td>Great Britain</td>\n",
       "      <td>28</td>\n",
       "      <td>21/05/2015</td>\n",
       "      <td>3264</td>\n",
       "    </tr>\n",
       "    <tr>\n",
       "      <th>30</th>\n",
       "      <td>31</td>\n",
       "      <td>Veta</td>\n",
       "      <td>Muntz</td>\n",
       "      <td>Female</td>\n",
       "      <td>Great Britain</td>\n",
       "      <td>37</td>\n",
       "      <td>15/10/2017</td>\n",
       "      <td>4569</td>\n",
       "    </tr>\n",
       "    <tr>\n",
       "      <th>31</th>\n",
       "      <td>32</td>\n",
       "      <td>Stasia</td>\n",
       "      <td>Becker</td>\n",
       "      <td>Female</td>\n",
       "      <td>Great Britain</td>\n",
       "      <td>34</td>\n",
       "      <td>16/08/2016</td>\n",
       "      <td>7521</td>\n",
       "    </tr>\n",
       "    <tr>\n",
       "      <th>32</th>\n",
       "      <td>33</td>\n",
       "      <td>Jona</td>\n",
       "      <td>Grindle</td>\n",
       "      <td>Female</td>\n",
       "      <td>Great Britain</td>\n",
       "      <td>26</td>\n",
       "      <td>21/05/2015</td>\n",
       "      <td>6458</td>\n",
       "    </tr>\n",
       "    <tr>\n",
       "      <th>33</th>\n",
       "      <td>34</td>\n",
       "      <td>Judie</td>\n",
       "      <td>Claywell</td>\n",
       "      <td>Female</td>\n",
       "      <td>France</td>\n",
       "      <td>35</td>\n",
       "      <td>16/08/2016</td>\n",
       "      <td>7569</td>\n",
       "    </tr>\n",
       "    <tr>\n",
       "      <th>34</th>\n",
       "      <td>35</td>\n",
       "      <td>Dewitt</td>\n",
       "      <td>Borger</td>\n",
       "      <td>Male</td>\n",
       "      <td>United States</td>\n",
       "      <td>36</td>\n",
       "      <td>21/05/2015</td>\n",
       "      <td>8514</td>\n",
       "    </tr>\n",
       "    <tr>\n",
       "      <th>35</th>\n",
       "      <td>36</td>\n",
       "      <td>Nena</td>\n",
       "      <td>Hacker</td>\n",
       "      <td>Female</td>\n",
       "      <td>United States</td>\n",
       "      <td>29</td>\n",
       "      <td>15/10/2017</td>\n",
       "      <td>8563</td>\n",
       "    </tr>\n",
       "    <tr>\n",
       "      <th>36</th>\n",
       "      <td>37</td>\n",
       "      <td>Kelsie</td>\n",
       "      <td>Wachtel</td>\n",
       "      <td>Female</td>\n",
       "      <td>France</td>\n",
       "      <td>27</td>\n",
       "      <td>16/08/2016</td>\n",
       "      <td>8642</td>\n",
       "    </tr>\n",
       "    <tr>\n",
       "      <th>37</th>\n",
       "      <td>38</td>\n",
       "      <td>Sau</td>\n",
       "      <td>Pfau</td>\n",
       "      <td>Female</td>\n",
       "      <td>United States</td>\n",
       "      <td>25</td>\n",
       "      <td>21/05/2015</td>\n",
       "      <td>9536</td>\n",
       "    </tr>\n",
       "    <tr>\n",
       "      <th>38</th>\n",
       "      <td>39</td>\n",
       "      <td>Shanice</td>\n",
       "      <td>Mccrystal</td>\n",
       "      <td>Female</td>\n",
       "      <td>United States</td>\n",
       "      <td>36</td>\n",
       "      <td>21/05/2015</td>\n",
       "      <td>2567</td>\n",
       "    </tr>\n",
       "    <tr>\n",
       "      <th>39</th>\n",
       "      <td>40</td>\n",
       "      <td>Chase</td>\n",
       "      <td>Karner</td>\n",
       "      <td>Male</td>\n",
       "      <td>United States</td>\n",
       "      <td>37</td>\n",
       "      <td>15/10/2017</td>\n",
       "      <td>2154</td>\n",
       "    </tr>\n",
       "    <tr>\n",
       "      <th>40</th>\n",
       "      <td>41</td>\n",
       "      <td>Tommie</td>\n",
       "      <td>Underdahl</td>\n",
       "      <td>Male</td>\n",
       "      <td>United States</td>\n",
       "      <td>26</td>\n",
       "      <td>16/08/2016</td>\n",
       "      <td>3265</td>\n",
       "    </tr>\n",
       "    <tr>\n",
       "      <th>41</th>\n",
       "      <td>42</td>\n",
       "      <td>Dorcas</td>\n",
       "      <td>Darity</td>\n",
       "      <td>Female</td>\n",
       "      <td>United States</td>\n",
       "      <td>37</td>\n",
       "      <td>21/05/2015</td>\n",
       "      <td>8765</td>\n",
       "    </tr>\n",
       "    <tr>\n",
       "      <th>42</th>\n",
       "      <td>43</td>\n",
       "      <td>Angel</td>\n",
       "      <td>Sanor</td>\n",
       "      <td>Male</td>\n",
       "      <td>France</td>\n",
       "      <td>24</td>\n",
       "      <td>15/10/2017</td>\n",
       "      <td>3259</td>\n",
       "    </tr>\n",
       "    <tr>\n",
       "      <th>43</th>\n",
       "      <td>44</td>\n",
       "      <td>Willodean</td>\n",
       "      <td>Harn</td>\n",
       "      <td>Female</td>\n",
       "      <td>United States</td>\n",
       "      <td>39</td>\n",
       "      <td>16/08/2016</td>\n",
       "      <td>3567</td>\n",
       "    </tr>\n",
       "    <tr>\n",
       "      <th>44</th>\n",
       "      <td>45</td>\n",
       "      <td>Weston</td>\n",
       "      <td>Martina</td>\n",
       "      <td>Male</td>\n",
       "      <td>United States</td>\n",
       "      <td>26</td>\n",
       "      <td>21/05/2015</td>\n",
       "      <td>6540</td>\n",
       "    </tr>\n",
       "    <tr>\n",
       "      <th>45</th>\n",
       "      <td>46</td>\n",
       "      <td>Roma</td>\n",
       "      <td>Lafollette</td>\n",
       "      <td>Female</td>\n",
       "      <td>United States</td>\n",
       "      <td>34</td>\n",
       "      <td>15/10/2017</td>\n",
       "      <td>2654</td>\n",
       "    </tr>\n",
       "    <tr>\n",
       "      <th>46</th>\n",
       "      <td>47</td>\n",
       "      <td>Felisa</td>\n",
       "      <td>Cail</td>\n",
       "      <td>Female</td>\n",
       "      <td>United States</td>\n",
       "      <td>28</td>\n",
       "      <td>16/08/2016</td>\n",
       "      <td>6525</td>\n",
       "    </tr>\n",
       "    <tr>\n",
       "      <th>47</th>\n",
       "      <td>48</td>\n",
       "      <td>Demetria</td>\n",
       "      <td>Abbey</td>\n",
       "      <td>Female</td>\n",
       "      <td>United States</td>\n",
       "      <td>32</td>\n",
       "      <td>21/05/2015</td>\n",
       "      <td>3265</td>\n",
       "    </tr>\n",
       "    <tr>\n",
       "      <th>48</th>\n",
       "      <td>49</td>\n",
       "      <td>Jeromy</td>\n",
       "      <td>Danz</td>\n",
       "      <td>Male</td>\n",
       "      <td>United States</td>\n",
       "      <td>39</td>\n",
       "      <td>15/10/2017</td>\n",
       "      <td>3265</td>\n",
       "    </tr>\n",
       "    <tr>\n",
       "      <th>49</th>\n",
       "      <td>50</td>\n",
       "      <td>Rasheeda</td>\n",
       "      <td>Alkire</td>\n",
       "      <td>Female</td>\n",
       "      <td>United States</td>\n",
       "      <td>29</td>\n",
       "      <td>16/08/2016</td>\n",
       "      <td>6125</td>\n",
       "    </tr>\n",
       "  </tbody>\n",
       "</table>\n",
       "</div>"
      ],
      "text/plain": [
       "     0 First Name   Last Name  Gender        Country  Age        Date    Id\n",
       "0    1      Dulce       Abril  Female  United States   32  15/10/2017  1562\n",
       "1    2       Mara   Hashimoto  Female  Great Britain   25  16/08/2016  1582\n",
       "2    3     Philip        Gent    Male         France   36  21/05/2015  2587\n",
       "3    4   Kathleen      Hanner  Female  United States   25  15/10/2017  3549\n",
       "4    5    Nereida     Magwood  Female  United States   58  16/08/2016  2468\n",
       "5    6     Gaston       Brumm    Male  United States   24  21/05/2015  2554\n",
       "6    7       Etta        Hurn  Female  Great Britain   56  15/10/2017  3598\n",
       "7    8    Earlean      Melgar  Female  United States   27  16/08/2016  2456\n",
       "8    9   Vincenza     Weiland  Female  United States   40  21/05/2015  6548\n",
       "9   10     Fallon     Winward  Female  Great Britain   28  16/08/2016  5486\n",
       "10  11    Arcelia      Bouska  Female  Great Britain   39  21/05/2015  1258\n",
       "11  12   Franklyn      Unknow    Male         France   38  15/10/2017  2579\n",
       "12  13    Sherron    Ascencio  Female  Great Britain   32  16/08/2016  3256\n",
       "13  14     Marcel   Zabriskie    Male  Great Britain   26  21/05/2015  2587\n",
       "14  15       Kina    Hazelton  Female  Great Britain   31  16/08/2016  3259\n",
       "15  16   Shavonne         Pia  Female         France   24  21/05/2015  1546\n",
       "16  17     Shavon      Benito  Female         France   39  15/10/2017  3579\n",
       "17  18   Lauralee     Perrine  Female  Great Britain   28  16/08/2016  6597\n",
       "18  19     Loreta      Curren  Female         France   26  21/05/2015  9654\n",
       "19  20     Teresa      Strawn  Female         France   46  21/05/2015  3569\n",
       "20  21    Belinda     Partain  Female  United States   37  15/10/2017  2564\n",
       "21  22      Holly        Eudy  Female  United States   52  16/08/2016  8561\n",
       "22  23       Many      Cuccia  Female  Great Britain   46  21/05/2015  5489\n",
       "23  24     Libbie       Dalby  Female         France   42  21/05/2015  5489\n",
       "24  25     Lester     Prothro    Male         France   21  15/10/2017  6574\n",
       "25  26     Marvel        Hail  Female  Great Britain   28  16/08/2016  5555\n",
       "26  27    Angelyn        Vong  Female  United States   29  21/05/2015  6125\n",
       "27  28  Francesca   Beaudreau  Female         France   23  15/10/2017  5412\n",
       "28  29      Garth       Gangi    Male  United States   41  16/08/2016  3256\n",
       "29  30      Carla    Trumbull  Female  Great Britain   28  21/05/2015  3264\n",
       "30  31       Veta       Muntz  Female  Great Britain   37  15/10/2017  4569\n",
       "31  32     Stasia      Becker  Female  Great Britain   34  16/08/2016  7521\n",
       "32  33       Jona     Grindle  Female  Great Britain   26  21/05/2015  6458\n",
       "33  34      Judie    Claywell  Female         France   35  16/08/2016  7569\n",
       "34  35     Dewitt      Borger    Male  United States   36  21/05/2015  8514\n",
       "35  36       Nena      Hacker  Female  United States   29  15/10/2017  8563\n",
       "36  37     Kelsie     Wachtel  Female         France   27  16/08/2016  8642\n",
       "37  38        Sau        Pfau  Female  United States   25  21/05/2015  9536\n",
       "38  39    Shanice   Mccrystal  Female  United States   36  21/05/2015  2567\n",
       "39  40      Chase      Karner    Male  United States   37  15/10/2017  2154\n",
       "40  41     Tommie   Underdahl    Male  United States   26  16/08/2016  3265\n",
       "41  42     Dorcas      Darity  Female  United States   37  21/05/2015  8765\n",
       "42  43      Angel       Sanor    Male         France   24  15/10/2017  3259\n",
       "43  44  Willodean        Harn  Female  United States   39  16/08/2016  3567\n",
       "44  45     Weston     Martina    Male  United States   26  21/05/2015  6540\n",
       "45  46       Roma  Lafollette  Female  United States   34  15/10/2017  2654\n",
       "46  47     Felisa        Cail  Female  United States   28  16/08/2016  6525\n",
       "47  48   Demetria       Abbey  Female  United States   32  21/05/2015  3265\n",
       "48  49     Jeromy        Danz    Male  United States   39  15/10/2017  3265\n",
       "49  50   Rasheeda      Alkire  Female  United States   29  16/08/2016  6125"
      ]
     },
     "execution_count": 20,
     "metadata": {},
     "output_type": "execute_result"
    }
   ],
   "source": [
    "# reading the excel file\n",
    "import pandas as pd\n",
    "df = pd.read_excel(\"file_example_XLS_50.xlsx\")\n",
    "df"
   ]
  },
  {
   "cell_type": "code",
   "execution_count": 21,
   "id": "4e622c76-dc15-43e7-bb22-9bcfda709283",
   "metadata": {},
   "outputs": [
    {
     "data": {
      "text/html": [
       "<div>\n",
       "<style scoped>\n",
       "    .dataframe tbody tr th:only-of-type {\n",
       "        vertical-align: middle;\n",
       "    }\n",
       "\n",
       "    .dataframe tbody tr th {\n",
       "        vertical-align: top;\n",
       "    }\n",
       "\n",
       "    .dataframe thead th {\n",
       "        text-align: right;\n",
       "    }\n",
       "</style>\n",
       "<table border=\"1\" class=\"dataframe\">\n",
       "  <thead>\n",
       "    <tr style=\"text-align: right;\">\n",
       "      <th></th>\n",
       "      <th>0</th>\n",
       "      <th>First Name</th>\n",
       "      <th>Last Name</th>\n",
       "      <th>Gender</th>\n",
       "      <th>Country</th>\n",
       "      <th>Age</th>\n",
       "      <th>Date</th>\n",
       "      <th>Id</th>\n",
       "    </tr>\n",
       "  </thead>\n",
       "  <tbody>\n",
       "    <tr>\n",
       "      <th>0</th>\n",
       "      <td>1</td>\n",
       "      <td>Dulce</td>\n",
       "      <td>Abril</td>\n",
       "      <td>Female</td>\n",
       "      <td>United States</td>\n",
       "      <td>32</td>\n",
       "      <td>15/10/2017</td>\n",
       "      <td>1562</td>\n",
       "    </tr>\n",
       "    <tr>\n",
       "      <th>1</th>\n",
       "      <td>2</td>\n",
       "      <td>Mara</td>\n",
       "      <td>Hashimoto</td>\n",
       "      <td>Female</td>\n",
       "      <td>Great Britain</td>\n",
       "      <td>25</td>\n",
       "      <td>16/08/2016</td>\n",
       "      <td>1582</td>\n",
       "    </tr>\n",
       "    <tr>\n",
       "      <th>2</th>\n",
       "      <td>3</td>\n",
       "      <td>Philip</td>\n",
       "      <td>Gent</td>\n",
       "      <td>Male</td>\n",
       "      <td>France</td>\n",
       "      <td>36</td>\n",
       "      <td>21/05/2015</td>\n",
       "      <td>2587</td>\n",
       "    </tr>\n",
       "    <tr>\n",
       "      <th>3</th>\n",
       "      <td>4</td>\n",
       "      <td>Kathleen</td>\n",
       "      <td>Hanner</td>\n",
       "      <td>Female</td>\n",
       "      <td>United States</td>\n",
       "      <td>25</td>\n",
       "      <td>15/10/2017</td>\n",
       "      <td>3549</td>\n",
       "    </tr>\n",
       "    <tr>\n",
       "      <th>4</th>\n",
       "      <td>5</td>\n",
       "      <td>Nereida</td>\n",
       "      <td>Magwood</td>\n",
       "      <td>Female</td>\n",
       "      <td>United States</td>\n",
       "      <td>58</td>\n",
       "      <td>16/08/2016</td>\n",
       "      <td>2468</td>\n",
       "    </tr>\n",
       "  </tbody>\n",
       "</table>\n",
       "</div>"
      ],
      "text/plain": [
       "   0 First Name  Last Name  Gender        Country  Age        Date    Id\n",
       "0  1      Dulce      Abril  Female  United States   32  15/10/2017  1562\n",
       "1  2       Mara  Hashimoto  Female  Great Britain   25  16/08/2016  1582\n",
       "2  3     Philip       Gent    Male         France   36  21/05/2015  2587\n",
       "3  4   Kathleen     Hanner  Female  United States   25  15/10/2017  3549\n",
       "4  5    Nereida    Magwood  Female  United States   58  16/08/2016  2468"
      ]
     },
     "execution_count": 21,
     "metadata": {},
     "output_type": "execute_result"
    }
   ],
   "source": [
    "df.head()  # head() without args will return first 5 records of the dataframe"
   ]
  },
  {
   "cell_type": "code",
   "execution_count": 22,
   "id": "dba3663a-877d-44a8-b41c-0ad1a5ffa5ab",
   "metadata": {},
   "outputs": [
    {
     "data": {
      "text/html": [
       "<div>\n",
       "<style scoped>\n",
       "    .dataframe tbody tr th:only-of-type {\n",
       "        vertical-align: middle;\n",
       "    }\n",
       "\n",
       "    .dataframe tbody tr th {\n",
       "        vertical-align: top;\n",
       "    }\n",
       "\n",
       "    .dataframe thead th {\n",
       "        text-align: right;\n",
       "    }\n",
       "</style>\n",
       "<table border=\"1\" class=\"dataframe\">\n",
       "  <thead>\n",
       "    <tr style=\"text-align: right;\">\n",
       "      <th></th>\n",
       "      <th>0</th>\n",
       "      <th>First Name</th>\n",
       "      <th>Last Name</th>\n",
       "      <th>Gender</th>\n",
       "      <th>Country</th>\n",
       "      <th>Age</th>\n",
       "      <th>Date</th>\n",
       "      <th>Id</th>\n",
       "    </tr>\n",
       "  </thead>\n",
       "  <tbody>\n",
       "    <tr>\n",
       "      <th>0</th>\n",
       "      <td>1</td>\n",
       "      <td>Dulce</td>\n",
       "      <td>Abril</td>\n",
       "      <td>Female</td>\n",
       "      <td>United States</td>\n",
       "      <td>32</td>\n",
       "      <td>15/10/2017</td>\n",
       "      <td>1562</td>\n",
       "    </tr>\n",
       "    <tr>\n",
       "      <th>1</th>\n",
       "      <td>2</td>\n",
       "      <td>Mara</td>\n",
       "      <td>Hashimoto</td>\n",
       "      <td>Female</td>\n",
       "      <td>Great Britain</td>\n",
       "      <td>25</td>\n",
       "      <td>16/08/2016</td>\n",
       "      <td>1582</td>\n",
       "    </tr>\n",
       "    <tr>\n",
       "      <th>2</th>\n",
       "      <td>3</td>\n",
       "      <td>Philip</td>\n",
       "      <td>Gent</td>\n",
       "      <td>Male</td>\n",
       "      <td>France</td>\n",
       "      <td>36</td>\n",
       "      <td>21/05/2015</td>\n",
       "      <td>2587</td>\n",
       "    </tr>\n",
       "    <tr>\n",
       "      <th>3</th>\n",
       "      <td>4</td>\n",
       "      <td>Kathleen</td>\n",
       "      <td>Hanner</td>\n",
       "      <td>Female</td>\n",
       "      <td>United States</td>\n",
       "      <td>25</td>\n",
       "      <td>15/10/2017</td>\n",
       "      <td>3549</td>\n",
       "    </tr>\n",
       "    <tr>\n",
       "      <th>4</th>\n",
       "      <td>5</td>\n",
       "      <td>Nereida</td>\n",
       "      <td>Magwood</td>\n",
       "      <td>Female</td>\n",
       "      <td>United States</td>\n",
       "      <td>58</td>\n",
       "      <td>16/08/2016</td>\n",
       "      <td>2468</td>\n",
       "    </tr>\n",
       "    <tr>\n",
       "      <th>5</th>\n",
       "      <td>6</td>\n",
       "      <td>Gaston</td>\n",
       "      <td>Brumm</td>\n",
       "      <td>Male</td>\n",
       "      <td>United States</td>\n",
       "      <td>24</td>\n",
       "      <td>21/05/2015</td>\n",
       "      <td>2554</td>\n",
       "    </tr>\n",
       "    <tr>\n",
       "      <th>6</th>\n",
       "      <td>7</td>\n",
       "      <td>Etta</td>\n",
       "      <td>Hurn</td>\n",
       "      <td>Female</td>\n",
       "      <td>Great Britain</td>\n",
       "      <td>56</td>\n",
       "      <td>15/10/2017</td>\n",
       "      <td>3598</td>\n",
       "    </tr>\n",
       "    <tr>\n",
       "      <th>7</th>\n",
       "      <td>8</td>\n",
       "      <td>Earlean</td>\n",
       "      <td>Melgar</td>\n",
       "      <td>Female</td>\n",
       "      <td>United States</td>\n",
       "      <td>27</td>\n",
       "      <td>16/08/2016</td>\n",
       "      <td>2456</td>\n",
       "    </tr>\n",
       "  </tbody>\n",
       "</table>\n",
       "</div>"
      ],
      "text/plain": [
       "   0 First Name  Last Name  Gender        Country  Age        Date    Id\n",
       "0  1      Dulce      Abril  Female  United States   32  15/10/2017  1562\n",
       "1  2       Mara  Hashimoto  Female  Great Britain   25  16/08/2016  1582\n",
       "2  3     Philip       Gent    Male         France   36  21/05/2015  2587\n",
       "3  4   Kathleen     Hanner  Female  United States   25  15/10/2017  3549\n",
       "4  5    Nereida    Magwood  Female  United States   58  16/08/2016  2468\n",
       "5  6     Gaston      Brumm    Male  United States   24  21/05/2015  2554\n",
       "6  7       Etta       Hurn  Female  Great Britain   56  15/10/2017  3598\n",
       "7  8    Earlean     Melgar  Female  United States   27  16/08/2016  2456"
      ]
     },
     "execution_count": 22,
     "metadata": {},
     "output_type": "execute_result"
    }
   ],
   "source": [
    "df.head(8) # fetch first specific number of records"
   ]
  },
  {
   "cell_type": "code",
   "execution_count": 23,
   "id": "328f4b55-9372-43d2-b6e8-b67f7dbddb0d",
   "metadata": {},
   "outputs": [
    {
     "data": {
      "text/html": [
       "<div>\n",
       "<style scoped>\n",
       "    .dataframe tbody tr th:only-of-type {\n",
       "        vertical-align: middle;\n",
       "    }\n",
       "\n",
       "    .dataframe tbody tr th {\n",
       "        vertical-align: top;\n",
       "    }\n",
       "\n",
       "    .dataframe thead th {\n",
       "        text-align: right;\n",
       "    }\n",
       "</style>\n",
       "<table border=\"1\" class=\"dataframe\">\n",
       "  <thead>\n",
       "    <tr style=\"text-align: right;\">\n",
       "      <th></th>\n",
       "      <th>0</th>\n",
       "      <th>First Name</th>\n",
       "      <th>Last Name</th>\n",
       "      <th>Gender</th>\n",
       "      <th>Country</th>\n",
       "      <th>Age</th>\n",
       "      <th>Date</th>\n",
       "      <th>Id</th>\n",
       "    </tr>\n",
       "  </thead>\n",
       "  <tbody>\n",
       "    <tr>\n",
       "      <th>47</th>\n",
       "      <td>48</td>\n",
       "      <td>Demetria</td>\n",
       "      <td>Abbey</td>\n",
       "      <td>Female</td>\n",
       "      <td>United States</td>\n",
       "      <td>32</td>\n",
       "      <td>21/05/2015</td>\n",
       "      <td>3265</td>\n",
       "    </tr>\n",
       "    <tr>\n",
       "      <th>48</th>\n",
       "      <td>49</td>\n",
       "      <td>Jeromy</td>\n",
       "      <td>Danz</td>\n",
       "      <td>Male</td>\n",
       "      <td>United States</td>\n",
       "      <td>39</td>\n",
       "      <td>15/10/2017</td>\n",
       "      <td>3265</td>\n",
       "    </tr>\n",
       "    <tr>\n",
       "      <th>49</th>\n",
       "      <td>50</td>\n",
       "      <td>Rasheeda</td>\n",
       "      <td>Alkire</td>\n",
       "      <td>Female</td>\n",
       "      <td>United States</td>\n",
       "      <td>29</td>\n",
       "      <td>16/08/2016</td>\n",
       "      <td>6125</td>\n",
       "    </tr>\n",
       "  </tbody>\n",
       "</table>\n",
       "</div>"
      ],
      "text/plain": [
       "     0 First Name Last Name  Gender        Country  Age        Date    Id\n",
       "47  48   Demetria     Abbey  Female  United States   32  21/05/2015  3265\n",
       "48  49     Jeromy      Danz    Male  United States   39  15/10/2017  3265\n",
       "49  50   Rasheeda    Alkire  Female  United States   29  16/08/2016  6125"
      ]
     },
     "execution_count": 23,
     "metadata": {},
     "output_type": "execute_result"
    }
   ],
   "source": [
    "df.tail(3) # returns last 3 records from the df"
   ]
  },
  {
   "cell_type": "code",
   "execution_count": 24,
   "id": "be675def-e80f-40fb-b70e-b04d3629d7cc",
   "metadata": {},
   "outputs": [
    {
     "data": {
      "text/plain": [
       "(50, 8)"
      ]
     },
     "execution_count": 24,
     "metadata": {},
     "output_type": "execute_result"
    }
   ],
   "source": [
    "df.shape"
   ]
  },
  {
   "cell_type": "code",
   "execution_count": 25,
   "id": "4dc7cc86-7942-413f-9ed0-8ab20c3e686c",
   "metadata": {},
   "outputs": [
    {
     "data": {
      "text/plain": [
       "Index([0, 'First Name', 'Last Name', 'Gender', 'Country', 'Age', 'Date', 'Id'], dtype='object')"
      ]
     },
     "execution_count": 25,
     "metadata": {},
     "output_type": "execute_result"
    }
   ],
   "source": [
    "df.columns"
   ]
  },
  {
   "cell_type": "code",
   "execution_count": 26,
   "id": "a99fc661-36a2-441a-946f-94de6810511f",
   "metadata": {},
   "outputs": [
    {
     "data": {
      "text/html": [
       "<div>\n",
       "<style scoped>\n",
       "    .dataframe tbody tr th:only-of-type {\n",
       "        vertical-align: middle;\n",
       "    }\n",
       "\n",
       "    .dataframe tbody tr th {\n",
       "        vertical-align: top;\n",
       "    }\n",
       "\n",
       "    .dataframe thead th {\n",
       "        text-align: right;\n",
       "    }\n",
       "</style>\n",
       "<table border=\"1\" class=\"dataframe\">\n",
       "  <thead>\n",
       "    <tr style=\"text-align: right;\">\n",
       "      <th></th>\n",
       "      <th>name</th>\n",
       "      <th>salary</th>\n",
       "      <th>exp</th>\n",
       "      <th>city</th>\n",
       "      <th>age</th>\n",
       "      <th>Gender</th>\n",
       "    </tr>\n",
       "  </thead>\n",
       "  <tbody>\n",
       "    <tr>\n",
       "      <th>0</th>\n",
       "      <td>john</td>\n",
       "      <td>3000.0</td>\n",
       "      <td>4.0</td>\n",
       "      <td>losvegas</td>\n",
       "      <td>30</td>\n",
       "      <td>Male</td>\n",
       "    </tr>\n",
       "    <tr>\n",
       "      <th>1</th>\n",
       "      <td>doe</td>\n",
       "      <td>4000.0</td>\n",
       "      <td>5.0</td>\n",
       "      <td>dc</td>\n",
       "      <td>25</td>\n",
       "      <td>Female</td>\n",
       "    </tr>\n",
       "    <tr>\n",
       "      <th>2</th>\n",
       "      <td>robert</td>\n",
       "      <td>8000.0</td>\n",
       "      <td>6.0</td>\n",
       "      <td>paris</td>\n",
       "      <td>27</td>\n",
       "      <td>Male</td>\n",
       "    </tr>\n",
       "    <tr>\n",
       "      <th>3</th>\n",
       "      <td>chris</td>\n",
       "      <td>9000.0</td>\n",
       "      <td>7.0</td>\n",
       "      <td>newyork</td>\n",
       "      <td>24</td>\n",
       "      <td>Female</td>\n",
       "    </tr>\n",
       "    <tr>\n",
       "      <th>4</th>\n",
       "      <td>NaN</td>\n",
       "      <td>3000.0</td>\n",
       "      <td>NaN</td>\n",
       "      <td>losvegas</td>\n",
       "      <td>35</td>\n",
       "      <td>Male</td>\n",
       "    </tr>\n",
       "    <tr>\n",
       "      <th>5</th>\n",
       "      <td>john</td>\n",
       "      <td>3000.0</td>\n",
       "      <td>4.0</td>\n",
       "      <td>losvegas</td>\n",
       "      <td>33</td>\n",
       "      <td>Female</td>\n",
       "    </tr>\n",
       "    <tr>\n",
       "      <th>6</th>\n",
       "      <td>evans</td>\n",
       "      <td>NaN</td>\n",
       "      <td>4.0</td>\n",
       "      <td>losvegas</td>\n",
       "      <td>31</td>\n",
       "      <td>Male</td>\n",
       "    </tr>\n",
       "    <tr>\n",
       "      <th>7</th>\n",
       "      <td>tom</td>\n",
       "      <td>3000.0</td>\n",
       "      <td>4.0</td>\n",
       "      <td>NaN</td>\n",
       "      <td>37</td>\n",
       "      <td>Female</td>\n",
       "    </tr>\n",
       "  </tbody>\n",
       "</table>\n",
       "</div>"
      ],
      "text/plain": [
       "     name  salary  exp      city  age  Gender\n",
       "0    john  3000.0  4.0  losvegas   30    Male\n",
       "1     doe  4000.0  5.0        dc   25  Female\n",
       "2  robert  8000.0  6.0     paris   27    Male\n",
       "3   chris  9000.0  7.0   newyork   24  Female\n",
       "4     NaN  3000.0  NaN  losvegas   35    Male\n",
       "5    john  3000.0  4.0  losvegas   33  Female\n",
       "6   evans     NaN  4.0  losvegas   31    Male\n",
       "7     tom  3000.0  4.0       NaN   37  Female"
      ]
     },
     "execution_count": 26,
     "metadata": {},
     "output_type": "execute_result"
    }
   ],
   "source": [
    "# handling the datas in a dataframe\n",
    "import pandas as pd\n",
    "df = pd.read_csv(\"employee.csv\")\n",
    "df"
   ]
  },
  {
   "cell_type": "code",
   "execution_count": 27,
   "id": "17f19206-9e39-46c8-998e-7c3ba7783e43",
   "metadata": {},
   "outputs": [
    {
     "data": {
      "text/html": [
       "<div>\n",
       "<style scoped>\n",
       "    .dataframe tbody tr th:only-of-type {\n",
       "        vertical-align: middle;\n",
       "    }\n",
       "\n",
       "    .dataframe tbody tr th {\n",
       "        vertical-align: top;\n",
       "    }\n",
       "\n",
       "    .dataframe thead th {\n",
       "        text-align: right;\n",
       "    }\n",
       "</style>\n",
       "<table border=\"1\" class=\"dataframe\">\n",
       "  <thead>\n",
       "    <tr style=\"text-align: right;\">\n",
       "      <th></th>\n",
       "      <th>name</th>\n",
       "      <th>salary</th>\n",
       "      <th>exp</th>\n",
       "      <th>city</th>\n",
       "      <th>age</th>\n",
       "      <th>Gender</th>\n",
       "    </tr>\n",
       "  </thead>\n",
       "  <tbody>\n",
       "    <tr>\n",
       "      <th>0</th>\n",
       "      <td>john</td>\n",
       "      <td>3000.0</td>\n",
       "      <td>4.0</td>\n",
       "      <td>losvegas</td>\n",
       "      <td>30</td>\n",
       "      <td>Male</td>\n",
       "    </tr>\n",
       "    <tr>\n",
       "      <th>1</th>\n",
       "      <td>doe</td>\n",
       "      <td>4000.0</td>\n",
       "      <td>5.0</td>\n",
       "      <td>dc</td>\n",
       "      <td>25</td>\n",
       "      <td>Female</td>\n",
       "    </tr>\n",
       "    <tr>\n",
       "      <th>2</th>\n",
       "      <td>robert</td>\n",
       "      <td>8000.0</td>\n",
       "      <td>6.0</td>\n",
       "      <td>paris</td>\n",
       "      <td>27</td>\n",
       "      <td>Male</td>\n",
       "    </tr>\n",
       "    <tr>\n",
       "      <th>3</th>\n",
       "      <td>chris</td>\n",
       "      <td>9000.0</td>\n",
       "      <td>7.0</td>\n",
       "      <td>newyork</td>\n",
       "      <td>24</td>\n",
       "      <td>Female</td>\n",
       "    </tr>\n",
       "    <tr>\n",
       "      <th>5</th>\n",
       "      <td>john</td>\n",
       "      <td>3000.0</td>\n",
       "      <td>4.0</td>\n",
       "      <td>losvegas</td>\n",
       "      <td>33</td>\n",
       "      <td>Female</td>\n",
       "    </tr>\n",
       "  </tbody>\n",
       "</table>\n",
       "</div>"
      ],
      "text/plain": [
       "     name  salary  exp      city  age  Gender\n",
       "0    john  3000.0  4.0  losvegas   30    Male\n",
       "1     doe  4000.0  5.0        dc   25  Female\n",
       "2  robert  8000.0  6.0     paris   27    Male\n",
       "3   chris  9000.0  7.0   newyork   24  Female\n",
       "5    john  3000.0  4.0  losvegas   33  Female"
      ]
     },
     "execution_count": 27,
     "metadata": {},
     "output_type": "execute_result"
    }
   ],
   "source": [
    "# to remove the null record rows we use dropna() -- immutable\n",
    "\n",
    "df1 = df.dropna() \n",
    "df1"
   ]
  },
  {
   "cell_type": "code",
   "execution_count": 28,
   "id": "f9a8b30b-8a68-435a-b84c-e29951c70370",
   "metadata": {},
   "outputs": [
    {
     "data": {
      "text/html": [
       "<div>\n",
       "<style scoped>\n",
       "    .dataframe tbody tr th:only-of-type {\n",
       "        vertical-align: middle;\n",
       "    }\n",
       "\n",
       "    .dataframe tbody tr th {\n",
       "        vertical-align: top;\n",
       "    }\n",
       "\n",
       "    .dataframe thead th {\n",
       "        text-align: right;\n",
       "    }\n",
       "</style>\n",
       "<table border=\"1\" class=\"dataframe\">\n",
       "  <thead>\n",
       "    <tr style=\"text-align: right;\">\n",
       "      <th></th>\n",
       "      <th>name</th>\n",
       "      <th>salary</th>\n",
       "      <th>exp</th>\n",
       "      <th>city</th>\n",
       "      <th>age</th>\n",
       "      <th>Gender</th>\n",
       "    </tr>\n",
       "  </thead>\n",
       "  <tbody>\n",
       "    <tr>\n",
       "      <th>0</th>\n",
       "      <td>john</td>\n",
       "      <td>3000.0</td>\n",
       "      <td>4.0</td>\n",
       "      <td>losvegas</td>\n",
       "      <td>30</td>\n",
       "      <td>Male</td>\n",
       "    </tr>\n",
       "    <tr>\n",
       "      <th>1</th>\n",
       "      <td>doe</td>\n",
       "      <td>4000.0</td>\n",
       "      <td>5.0</td>\n",
       "      <td>dc</td>\n",
       "      <td>25</td>\n",
       "      <td>Female</td>\n",
       "    </tr>\n",
       "    <tr>\n",
       "      <th>2</th>\n",
       "      <td>robert</td>\n",
       "      <td>8000.0</td>\n",
       "      <td>6.0</td>\n",
       "      <td>paris</td>\n",
       "      <td>27</td>\n",
       "      <td>Male</td>\n",
       "    </tr>\n",
       "    <tr>\n",
       "      <th>3</th>\n",
       "      <td>chris</td>\n",
       "      <td>9000.0</td>\n",
       "      <td>7.0</td>\n",
       "      <td>newyork</td>\n",
       "      <td>24</td>\n",
       "      <td>Female</td>\n",
       "    </tr>\n",
       "    <tr>\n",
       "      <th>5</th>\n",
       "      <td>john</td>\n",
       "      <td>3000.0</td>\n",
       "      <td>4.0</td>\n",
       "      <td>losvegas</td>\n",
       "      <td>33</td>\n",
       "      <td>Female</td>\n",
       "    </tr>\n",
       "  </tbody>\n",
       "</table>\n",
       "</div>"
      ],
      "text/plain": [
       "     name  salary  exp      city  age  Gender\n",
       "0    john  3000.0  4.0  losvegas   30    Male\n",
       "1     doe  4000.0  5.0        dc   25  Female\n",
       "2  robert  8000.0  6.0     paris   27    Male\n",
       "3   chris  9000.0  7.0   newyork   24  Female\n",
       "5    john  3000.0  4.0  losvegas   33  Female"
      ]
     },
     "execution_count": 28,
     "metadata": {},
     "output_type": "execute_result"
    }
   ],
   "source": [
    "df = pd.read_csv(\"employee.csv\")\n",
    "df.dropna(inplace = True)  # changing the current dataframe itself  -- mutable\n",
    "df"
   ]
  },
  {
   "cell_type": "code",
   "execution_count": 29,
   "id": "215ad036-2b58-4c48-9284-3662b3a20d4b",
   "metadata": {},
   "outputs": [
    {
     "name": "stderr",
     "output_type": "stream",
     "text": [
      "C:\\Users\\pugal\\AppData\\Local\\Temp\\ipykernel_25340\\1831355485.py:4: FutureWarning: Setting an item of incompatible dtype is deprecated and will raise an error in a future version of pandas. Value 'python' has dtype incompatible with float64, please explicitly cast to a compatible dtype first.\n",
      "  df.fillna(\"python\",inplace = True)\n"
     ]
    },
    {
     "data": {
      "text/html": [
       "<div>\n",
       "<style scoped>\n",
       "    .dataframe tbody tr th:only-of-type {\n",
       "        vertical-align: middle;\n",
       "    }\n",
       "\n",
       "    .dataframe tbody tr th {\n",
       "        vertical-align: top;\n",
       "    }\n",
       "\n",
       "    .dataframe thead th {\n",
       "        text-align: right;\n",
       "    }\n",
       "</style>\n",
       "<table border=\"1\" class=\"dataframe\">\n",
       "  <thead>\n",
       "    <tr style=\"text-align: right;\">\n",
       "      <th></th>\n",
       "      <th>name</th>\n",
       "      <th>salary</th>\n",
       "      <th>exp</th>\n",
       "      <th>city</th>\n",
       "      <th>age</th>\n",
       "      <th>Gender</th>\n",
       "    </tr>\n",
       "  </thead>\n",
       "  <tbody>\n",
       "    <tr>\n",
       "      <th>0</th>\n",
       "      <td>john</td>\n",
       "      <td>3000.0</td>\n",
       "      <td>4.0</td>\n",
       "      <td>losvegas</td>\n",
       "      <td>30</td>\n",
       "      <td>Male</td>\n",
       "    </tr>\n",
       "    <tr>\n",
       "      <th>1</th>\n",
       "      <td>doe</td>\n",
       "      <td>4000.0</td>\n",
       "      <td>5.0</td>\n",
       "      <td>dc</td>\n",
       "      <td>25</td>\n",
       "      <td>Female</td>\n",
       "    </tr>\n",
       "    <tr>\n",
       "      <th>2</th>\n",
       "      <td>robert</td>\n",
       "      <td>8000.0</td>\n",
       "      <td>6.0</td>\n",
       "      <td>paris</td>\n",
       "      <td>27</td>\n",
       "      <td>Male</td>\n",
       "    </tr>\n",
       "    <tr>\n",
       "      <th>3</th>\n",
       "      <td>chris</td>\n",
       "      <td>9000.0</td>\n",
       "      <td>7.0</td>\n",
       "      <td>newyork</td>\n",
       "      <td>24</td>\n",
       "      <td>Female</td>\n",
       "    </tr>\n",
       "    <tr>\n",
       "      <th>4</th>\n",
       "      <td>python</td>\n",
       "      <td>3000.0</td>\n",
       "      <td>python</td>\n",
       "      <td>losvegas</td>\n",
       "      <td>35</td>\n",
       "      <td>Male</td>\n",
       "    </tr>\n",
       "    <tr>\n",
       "      <th>5</th>\n",
       "      <td>john</td>\n",
       "      <td>3000.0</td>\n",
       "      <td>4.0</td>\n",
       "      <td>losvegas</td>\n",
       "      <td>33</td>\n",
       "      <td>Female</td>\n",
       "    </tr>\n",
       "    <tr>\n",
       "      <th>6</th>\n",
       "      <td>evans</td>\n",
       "      <td>python</td>\n",
       "      <td>4.0</td>\n",
       "      <td>losvegas</td>\n",
       "      <td>31</td>\n",
       "      <td>Male</td>\n",
       "    </tr>\n",
       "    <tr>\n",
       "      <th>7</th>\n",
       "      <td>tom</td>\n",
       "      <td>3000.0</td>\n",
       "      <td>4.0</td>\n",
       "      <td>python</td>\n",
       "      <td>37</td>\n",
       "      <td>Female</td>\n",
       "    </tr>\n",
       "  </tbody>\n",
       "</table>\n",
       "</div>"
      ],
      "text/plain": [
       "     name  salary     exp      city  age  Gender\n",
       "0    john  3000.0     4.0  losvegas   30    Male\n",
       "1     doe  4000.0     5.0        dc   25  Female\n",
       "2  robert  8000.0     6.0     paris   27    Male\n",
       "3   chris  9000.0     7.0   newyork   24  Female\n",
       "4  python  3000.0  python  losvegas   35    Male\n",
       "5    john  3000.0     4.0  losvegas   33  Female\n",
       "6   evans  python     4.0  losvegas   31    Male\n",
       "7     tom  3000.0     4.0    python   37  Female"
      ]
     },
     "execution_count": 29,
     "metadata": {},
     "output_type": "execute_result"
    }
   ],
   "source": [
    "# using fillna(\"replace value\")  replacing the null records from all over the dataframe\n",
    "\n",
    "df = pd.read_csv(\"employee.csv\")\n",
    "df.fillna(\"python\",inplace = True)\n",
    "df"
   ]
  },
  {
   "cell_type": "code",
   "execution_count": 30,
   "id": "27a9e081-c695-4ee9-b06a-0dbaf8c1af21",
   "metadata": {},
   "outputs": [
    {
     "name": "stderr",
     "output_type": "stream",
     "text": [
      "C:\\Users\\pugal\\AppData\\Local\\Temp\\ipykernel_25340\\2808676864.py:4: FutureWarning: A value is trying to be set on a copy of a DataFrame or Series through chained assignment using an inplace method.\n",
      "The behavior will change in pandas 3.0. This inplace method will never work because the intermediate object on which we are setting values always behaves as a copy.\n",
      "\n",
      "For example, when doing 'df[col].method(value, inplace=True)', try using 'df.method({col: value}, inplace=True)' or df[col] = df[col].method(value) instead, to perform the operation inplace on the original object.\n",
      "\n",
      "\n",
      "  df[\"name\"].fillna(\"python\",inplace = True)\n"
     ]
    },
    {
     "data": {
      "text/html": [
       "<div>\n",
       "<style scoped>\n",
       "    .dataframe tbody tr th:only-of-type {\n",
       "        vertical-align: middle;\n",
       "    }\n",
       "\n",
       "    .dataframe tbody tr th {\n",
       "        vertical-align: top;\n",
       "    }\n",
       "\n",
       "    .dataframe thead th {\n",
       "        text-align: right;\n",
       "    }\n",
       "</style>\n",
       "<table border=\"1\" class=\"dataframe\">\n",
       "  <thead>\n",
       "    <tr style=\"text-align: right;\">\n",
       "      <th></th>\n",
       "      <th>name</th>\n",
       "      <th>salary</th>\n",
       "      <th>exp</th>\n",
       "      <th>city</th>\n",
       "      <th>age</th>\n",
       "      <th>Gender</th>\n",
       "    </tr>\n",
       "  </thead>\n",
       "  <tbody>\n",
       "    <tr>\n",
       "      <th>0</th>\n",
       "      <td>john</td>\n",
       "      <td>3000.0</td>\n",
       "      <td>4.0</td>\n",
       "      <td>losvegas</td>\n",
       "      <td>30</td>\n",
       "      <td>Male</td>\n",
       "    </tr>\n",
       "    <tr>\n",
       "      <th>1</th>\n",
       "      <td>doe</td>\n",
       "      <td>4000.0</td>\n",
       "      <td>5.0</td>\n",
       "      <td>dc</td>\n",
       "      <td>25</td>\n",
       "      <td>Female</td>\n",
       "    </tr>\n",
       "    <tr>\n",
       "      <th>2</th>\n",
       "      <td>robert</td>\n",
       "      <td>8000.0</td>\n",
       "      <td>6.0</td>\n",
       "      <td>paris</td>\n",
       "      <td>27</td>\n",
       "      <td>Male</td>\n",
       "    </tr>\n",
       "    <tr>\n",
       "      <th>3</th>\n",
       "      <td>chris</td>\n",
       "      <td>9000.0</td>\n",
       "      <td>7.0</td>\n",
       "      <td>newyork</td>\n",
       "      <td>24</td>\n",
       "      <td>Female</td>\n",
       "    </tr>\n",
       "    <tr>\n",
       "      <th>4</th>\n",
       "      <td>python</td>\n",
       "      <td>3000.0</td>\n",
       "      <td>NaN</td>\n",
       "      <td>losvegas</td>\n",
       "      <td>35</td>\n",
       "      <td>Male</td>\n",
       "    </tr>\n",
       "    <tr>\n",
       "      <th>5</th>\n",
       "      <td>john</td>\n",
       "      <td>3000.0</td>\n",
       "      <td>4.0</td>\n",
       "      <td>losvegas</td>\n",
       "      <td>33</td>\n",
       "      <td>Female</td>\n",
       "    </tr>\n",
       "    <tr>\n",
       "      <th>6</th>\n",
       "      <td>evans</td>\n",
       "      <td>NaN</td>\n",
       "      <td>4.0</td>\n",
       "      <td>losvegas</td>\n",
       "      <td>31</td>\n",
       "      <td>Male</td>\n",
       "    </tr>\n",
       "    <tr>\n",
       "      <th>7</th>\n",
       "      <td>tom</td>\n",
       "      <td>3000.0</td>\n",
       "      <td>4.0</td>\n",
       "      <td>NaN</td>\n",
       "      <td>37</td>\n",
       "      <td>Female</td>\n",
       "    </tr>\n",
       "  </tbody>\n",
       "</table>\n",
       "</div>"
      ],
      "text/plain": [
       "     name  salary  exp      city  age  Gender\n",
       "0    john  3000.0  4.0  losvegas   30    Male\n",
       "1     doe  4000.0  5.0        dc   25  Female\n",
       "2  robert  8000.0  6.0     paris   27    Male\n",
       "3   chris  9000.0  7.0   newyork   24  Female\n",
       "4  python  3000.0  NaN  losvegas   35    Male\n",
       "5    john  3000.0  4.0  losvegas   33  Female\n",
       "6   evans     NaN  4.0  losvegas   31    Male\n",
       "7     tom  3000.0  4.0       NaN   37  Female"
      ]
     },
     "execution_count": 30,
     "metadata": {},
     "output_type": "execute_result"
    }
   ],
   "source": [
    "# replace the null values on specific cols\n",
    "\n",
    "df = pd.read_csv(\"employee.csv\")\n",
    "df[\"name\"].fillna(\"python\",inplace = True)\n",
    "df"
   ]
  },
  {
   "cell_type": "code",
   "execution_count": 31,
   "id": "7e048813-9861-4124-84a4-b4ec75ba84cf",
   "metadata": {},
   "outputs": [
    {
     "data": {
      "text/html": [
       "<div>\n",
       "<style scoped>\n",
       "    .dataframe tbody tr th:only-of-type {\n",
       "        vertical-align: middle;\n",
       "    }\n",
       "\n",
       "    .dataframe tbody tr th {\n",
       "        vertical-align: top;\n",
       "    }\n",
       "\n",
       "    .dataframe thead th {\n",
       "        text-align: right;\n",
       "    }\n",
       "</style>\n",
       "<table border=\"1\" class=\"dataframe\">\n",
       "  <thead>\n",
       "    <tr style=\"text-align: right;\">\n",
       "      <th></th>\n",
       "      <th>name</th>\n",
       "      <th>salary</th>\n",
       "      <th>exp</th>\n",
       "      <th>city</th>\n",
       "      <th>age</th>\n",
       "      <th>Gender</th>\n",
       "    </tr>\n",
       "  </thead>\n",
       "  <tbody>\n",
       "    <tr>\n",
       "      <th>0</th>\n",
       "      <td>john</td>\n",
       "      <td>3000.0</td>\n",
       "      <td>4.0</td>\n",
       "      <td>losvegas</td>\n",
       "      <td>30</td>\n",
       "      <td>Male</td>\n",
       "    </tr>\n",
       "    <tr>\n",
       "      <th>1</th>\n",
       "      <td>doe</td>\n",
       "      <td>4000.0</td>\n",
       "      <td>5.0</td>\n",
       "      <td>dc</td>\n",
       "      <td>25</td>\n",
       "      <td>Female</td>\n",
       "    </tr>\n",
       "    <tr>\n",
       "      <th>2</th>\n",
       "      <td>robert</td>\n",
       "      <td>8000.0</td>\n",
       "      <td>6.0</td>\n",
       "      <td>paris</td>\n",
       "      <td>27</td>\n",
       "      <td>Male</td>\n",
       "    </tr>\n",
       "    <tr>\n",
       "      <th>3</th>\n",
       "      <td>chris</td>\n",
       "      <td>9000.0</td>\n",
       "      <td>7.0</td>\n",
       "      <td>newyork</td>\n",
       "      <td>24</td>\n",
       "      <td>Female</td>\n",
       "    </tr>\n",
       "    <tr>\n",
       "      <th>5</th>\n",
       "      <td>john</td>\n",
       "      <td>3000.0</td>\n",
       "      <td>4.0</td>\n",
       "      <td>losvegas</td>\n",
       "      <td>33</td>\n",
       "      <td>Female</td>\n",
       "    </tr>\n",
       "    <tr>\n",
       "      <th>6</th>\n",
       "      <td>evans</td>\n",
       "      <td>NaN</td>\n",
       "      <td>4.0</td>\n",
       "      <td>losvegas</td>\n",
       "      <td>31</td>\n",
       "      <td>Male</td>\n",
       "    </tr>\n",
       "    <tr>\n",
       "      <th>7</th>\n",
       "      <td>tom</td>\n",
       "      <td>3000.0</td>\n",
       "      <td>4.0</td>\n",
       "      <td>NaN</td>\n",
       "      <td>37</td>\n",
       "      <td>Female</td>\n",
       "    </tr>\n",
       "  </tbody>\n",
       "</table>\n",
       "</div>"
      ],
      "text/plain": [
       "     name  salary  exp      city  age  Gender\n",
       "0    john  3000.0  4.0  losvegas   30    Male\n",
       "1     doe  4000.0  5.0        dc   25  Female\n",
       "2  robert  8000.0  6.0     paris   27    Male\n",
       "3   chris  9000.0  7.0   newyork   24  Female\n",
       "5    john  3000.0  4.0  losvegas   33  Female\n",
       "6   evans     NaN  4.0  losvegas   31    Male\n",
       "7     tom  3000.0  4.0       NaN   37  Female"
      ]
     },
     "execution_count": 31,
     "metadata": {},
     "output_type": "execute_result"
    }
   ],
   "source": [
    "df = pd.read_csv(\"employee.csv\")\n",
    "df.dropna(subset = \"exp\", inplace = True)\n",
    "df"
   ]
  },
  {
   "cell_type": "code",
   "execution_count": 32,
   "id": "83f7a8de-63de-4f9d-a753-1f12ba7e80c9",
   "metadata": {},
   "outputs": [
    {
     "name": "stdout",
     "output_type": "stream",
     "text": [
      "     name  salary  exp      city  age  Gender\n",
      "0    john  3000.0  4.0  losvegas   30    Male\n",
      "1     doe  4000.0  5.0        dc   25  Female\n",
      "2  robert  8000.0  6.0     paris   27    Male\n",
      "3   chris  9000.0  7.0   newyork   24  Female\n",
      "4     NaN  3000.0  NaN  losvegas   35    Male\n",
      "5    john  3000.0  4.0  losvegas   33  Female\n",
      "6   evans     NaN  4.0  losvegas   31    Male\n",
      "7     tom  3000.0  4.0       NaN   37  Female\n"
     ]
    },
    {
     "data": {
      "text/html": [
       "<div>\n",
       "<style scoped>\n",
       "    .dataframe tbody tr th:only-of-type {\n",
       "        vertical-align: middle;\n",
       "    }\n",
       "\n",
       "    .dataframe tbody tr th {\n",
       "        vertical-align: top;\n",
       "    }\n",
       "\n",
       "    .dataframe thead th {\n",
       "        text-align: right;\n",
       "    }\n",
       "</style>\n",
       "<table border=\"1\" class=\"dataframe\">\n",
       "  <thead>\n",
       "    <tr style=\"text-align: right;\">\n",
       "      <th></th>\n",
       "      <th>name</th>\n",
       "      <th>salary</th>\n",
       "      <th>exp</th>\n",
       "      <th>city</th>\n",
       "      <th>age</th>\n",
       "      <th>Gender</th>\n",
       "    </tr>\n",
       "  </thead>\n",
       "  <tbody>\n",
       "    <tr>\n",
       "      <th>0</th>\n",
       "      <td>john</td>\n",
       "      <td>3000.0</td>\n",
       "      <td>4.0</td>\n",
       "      <td>losvegas</td>\n",
       "      <td>30</td>\n",
       "      <td>Male</td>\n",
       "    </tr>\n",
       "    <tr>\n",
       "      <th>1</th>\n",
       "      <td>doe</td>\n",
       "      <td>4000.0</td>\n",
       "      <td>5.0</td>\n",
       "      <td>dc</td>\n",
       "      <td>25</td>\n",
       "      <td>Female</td>\n",
       "    </tr>\n",
       "    <tr>\n",
       "      <th>2</th>\n",
       "      <td>robert</td>\n",
       "      <td>8000.0</td>\n",
       "      <td>6.0</td>\n",
       "      <td>paris</td>\n",
       "      <td>27</td>\n",
       "      <td>Male</td>\n",
       "    </tr>\n",
       "    <tr>\n",
       "      <th>3</th>\n",
       "      <td>chris</td>\n",
       "      <td>9000.0</td>\n",
       "      <td>7.0</td>\n",
       "      <td>newyork</td>\n",
       "      <td>24</td>\n",
       "      <td>Female</td>\n",
       "    </tr>\n",
       "    <tr>\n",
       "      <th>4</th>\n",
       "      <td>NaN</td>\n",
       "      <td>3000.0</td>\n",
       "      <td>NaN</td>\n",
       "      <td>losvegas</td>\n",
       "      <td>35</td>\n",
       "      <td>Male</td>\n",
       "    </tr>\n",
       "    <tr>\n",
       "      <th>5</th>\n",
       "      <td>john</td>\n",
       "      <td>3000.0</td>\n",
       "      <td>4.0</td>\n",
       "      <td>losvegas</td>\n",
       "      <td>33</td>\n",
       "      <td>Female</td>\n",
       "    </tr>\n",
       "    <tr>\n",
       "      <th>6</th>\n",
       "      <td>evans</td>\n",
       "      <td>NaN</td>\n",
       "      <td>4.0</td>\n",
       "      <td>losvegas</td>\n",
       "      <td>31</td>\n",
       "      <td>Male</td>\n",
       "    </tr>\n",
       "    <tr>\n",
       "      <th>7</th>\n",
       "      <td>tom</td>\n",
       "      <td>3000.0</td>\n",
       "      <td>4.0</td>\n",
       "      <td>NaN</td>\n",
       "      <td>37</td>\n",
       "      <td>Female</td>\n",
       "    </tr>\n",
       "  </tbody>\n",
       "</table>\n",
       "</div>"
      ],
      "text/plain": [
       "     name  salary  exp      city  age  Gender\n",
       "0    john  3000.0  4.0  losvegas   30    Male\n",
       "1     doe  4000.0  5.0        dc   25  Female\n",
       "2  robert  8000.0  6.0     paris   27    Male\n",
       "3   chris  9000.0  7.0   newyork   24  Female\n",
       "4     NaN  3000.0  NaN  losvegas   35    Male\n",
       "5    john  3000.0  4.0  losvegas   33  Female\n",
       "6   evans     NaN  4.0  losvegas   31    Male\n",
       "7     tom  3000.0  4.0       NaN   37  Female"
      ]
     },
     "execution_count": 32,
     "metadata": {},
     "output_type": "execute_result"
    }
   ],
   "source": [
    "import pandas as pd\n",
    "df = pd.read_csv(\"employee.csv\")\n",
    "print(df)\n",
    "df.drop_duplicates(inplace=True)\n",
    "df"
   ]
  },
  {
   "cell_type": "code",
   "execution_count": 33,
   "id": "4a64a4fb-e313-4b06-ad4b-ab684f8b1ea0",
   "metadata": {},
   "outputs": [
    {
     "name": "stdout",
     "output_type": "stream",
     "text": [
      "<class 'pandas.core.frame.DataFrame'>\n",
      "RangeIndex: 8 entries, 0 to 7\n",
      "Data columns (total 6 columns):\n",
      " #   Column  Non-Null Count  Dtype  \n",
      "---  ------  --------------  -----  \n",
      " 0   name    7 non-null      object \n",
      " 1   salary  7 non-null      float64\n",
      " 2   exp     7 non-null      float64\n",
      " 3   city    7 non-null      object \n",
      " 4   age     8 non-null      int64  \n",
      " 5   Gender  8 non-null      object \n",
      "dtypes: float64(2), int64(1), object(3)\n",
      "memory usage: 516.0+ bytes\n"
     ]
    }
   ],
   "source": [
    "import pandas as pd\n",
    "df = pd.read_csv(\"employee.csv\")\n",
    "df.info() # will return the number of rows and cols and types of the columns\n"
   ]
  },
  {
   "cell_type": "code",
   "execution_count": 34,
   "id": "8717536c-1e48-4ae7-ba4f-edc2b103b8f2",
   "metadata": {},
   "outputs": [
    {
     "data": {
      "text/html": [
       "<div>\n",
       "<style scoped>\n",
       "    .dataframe tbody tr th:only-of-type {\n",
       "        vertical-align: middle;\n",
       "    }\n",
       "\n",
       "    .dataframe tbody tr th {\n",
       "        vertical-align: top;\n",
       "    }\n",
       "\n",
       "    .dataframe thead th {\n",
       "        text-align: right;\n",
       "    }\n",
       "</style>\n",
       "<table border=\"1\" class=\"dataframe\">\n",
       "  <thead>\n",
       "    <tr style=\"text-align: right;\">\n",
       "      <th></th>\n",
       "      <th>salary</th>\n",
       "      <th>exp</th>\n",
       "      <th>age</th>\n",
       "    </tr>\n",
       "  </thead>\n",
       "  <tbody>\n",
       "    <tr>\n",
       "      <th>count</th>\n",
       "      <td>7.000000</td>\n",
       "      <td>7.000000</td>\n",
       "      <td>8.000000</td>\n",
       "    </tr>\n",
       "    <tr>\n",
       "      <th>mean</th>\n",
       "      <td>4714.285714</td>\n",
       "      <td>4.857143</td>\n",
       "      <td>30.250000</td>\n",
       "    </tr>\n",
       "    <tr>\n",
       "      <th>std</th>\n",
       "      <td>2627.691364</td>\n",
       "      <td>1.214986</td>\n",
       "      <td>4.682795</td>\n",
       "    </tr>\n",
       "    <tr>\n",
       "      <th>min</th>\n",
       "      <td>3000.000000</td>\n",
       "      <td>4.000000</td>\n",
       "      <td>24.000000</td>\n",
       "    </tr>\n",
       "    <tr>\n",
       "      <th>25%</th>\n",
       "      <td>3000.000000</td>\n",
       "      <td>4.000000</td>\n",
       "      <td>26.500000</td>\n",
       "    </tr>\n",
       "    <tr>\n",
       "      <th>50%</th>\n",
       "      <td>3000.000000</td>\n",
       "      <td>4.000000</td>\n",
       "      <td>30.500000</td>\n",
       "    </tr>\n",
       "    <tr>\n",
       "      <th>75%</th>\n",
       "      <td>6000.000000</td>\n",
       "      <td>5.500000</td>\n",
       "      <td>33.500000</td>\n",
       "    </tr>\n",
       "    <tr>\n",
       "      <th>max</th>\n",
       "      <td>9000.000000</td>\n",
       "      <td>7.000000</td>\n",
       "      <td>37.000000</td>\n",
       "    </tr>\n",
       "  </tbody>\n",
       "</table>\n",
       "</div>"
      ],
      "text/plain": [
       "            salary       exp        age\n",
       "count     7.000000  7.000000   8.000000\n",
       "mean   4714.285714  4.857143  30.250000\n",
       "std    2627.691364  1.214986   4.682795\n",
       "min    3000.000000  4.000000  24.000000\n",
       "25%    3000.000000  4.000000  26.500000\n",
       "50%    3000.000000  4.000000  30.500000\n",
       "75%    6000.000000  5.500000  33.500000\n",
       "max    9000.000000  7.000000  37.000000"
      ]
     },
     "execution_count": 34,
     "metadata": {},
     "output_type": "execute_result"
    }
   ],
   "source": [
    "df = pd.read_csv(\"employee.csv\")\n",
    "\n",
    "df.describe()  # will return the central tendency of your dataframe will work on integers cols only\n"
   ]
  },
  {
   "cell_type": "code",
   "execution_count": 36,
   "id": "c5ca8bbc-3921-44d2-ace1-7aace6628484",
   "metadata": {},
   "outputs": [
    {
     "name": "stderr",
     "output_type": "stream",
     "text": [
      "C:\\Users\\pugal\\AppData\\Local\\Temp\\ipykernel_25340\\1245489101.py:5: FutureWarning: A value is trying to be set on a copy of a DataFrame or Series through chained assignment using an inplace method.\n",
      "The behavior will change in pandas 3.0. This inplace method will never work because the intermediate object on which we are setting values always behaves as a copy.\n",
      "\n",
      "For example, when doing 'df[col].method(value, inplace=True)', try using 'df.method({col: value}, inplace=True)' or df[col] = df[col].method(value) instead, to perform the operation inplace on the original object.\n",
      "\n",
      "\n",
      "  df[\"salary\"].fillna(df[\"salary\"].mean(), inplace = True)\n"
     ]
    },
    {
     "data": {
      "text/html": [
       "<div>\n",
       "<style scoped>\n",
       "    .dataframe tbody tr th:only-of-type {\n",
       "        vertical-align: middle;\n",
       "    }\n",
       "\n",
       "    .dataframe tbody tr th {\n",
       "        vertical-align: top;\n",
       "    }\n",
       "\n",
       "    .dataframe thead th {\n",
       "        text-align: right;\n",
       "    }\n",
       "</style>\n",
       "<table border=\"1\" class=\"dataframe\">\n",
       "  <thead>\n",
       "    <tr style=\"text-align: right;\">\n",
       "      <th></th>\n",
       "      <th>name</th>\n",
       "      <th>salary</th>\n",
       "      <th>exp</th>\n",
       "      <th>city</th>\n",
       "      <th>age</th>\n",
       "      <th>Gender</th>\n",
       "    </tr>\n",
       "  </thead>\n",
       "  <tbody>\n",
       "    <tr>\n",
       "      <th>0</th>\n",
       "      <td>john</td>\n",
       "      <td>3000.000000</td>\n",
       "      <td>4.0</td>\n",
       "      <td>losvegas</td>\n",
       "      <td>30</td>\n",
       "      <td>Male</td>\n",
       "    </tr>\n",
       "    <tr>\n",
       "      <th>1</th>\n",
       "      <td>doe</td>\n",
       "      <td>4000.000000</td>\n",
       "      <td>5.0</td>\n",
       "      <td>dc</td>\n",
       "      <td>25</td>\n",
       "      <td>Female</td>\n",
       "    </tr>\n",
       "    <tr>\n",
       "      <th>2</th>\n",
       "      <td>robert</td>\n",
       "      <td>8000.000000</td>\n",
       "      <td>6.0</td>\n",
       "      <td>paris</td>\n",
       "      <td>27</td>\n",
       "      <td>Male</td>\n",
       "    </tr>\n",
       "    <tr>\n",
       "      <th>3</th>\n",
       "      <td>chris</td>\n",
       "      <td>9000.000000</td>\n",
       "      <td>7.0</td>\n",
       "      <td>newyork</td>\n",
       "      <td>24</td>\n",
       "      <td>Female</td>\n",
       "    </tr>\n",
       "    <tr>\n",
       "      <th>4</th>\n",
       "      <td>NaN</td>\n",
       "      <td>3000.000000</td>\n",
       "      <td>NaN</td>\n",
       "      <td>losvegas</td>\n",
       "      <td>35</td>\n",
       "      <td>Male</td>\n",
       "    </tr>\n",
       "    <tr>\n",
       "      <th>5</th>\n",
       "      <td>john</td>\n",
       "      <td>3000.000000</td>\n",
       "      <td>4.0</td>\n",
       "      <td>losvegas</td>\n",
       "      <td>33</td>\n",
       "      <td>Female</td>\n",
       "    </tr>\n",
       "    <tr>\n",
       "      <th>6</th>\n",
       "      <td>evans</td>\n",
       "      <td>4714.285714</td>\n",
       "      <td>4.0</td>\n",
       "      <td>losvegas</td>\n",
       "      <td>31</td>\n",
       "      <td>Male</td>\n",
       "    </tr>\n",
       "    <tr>\n",
       "      <th>7</th>\n",
       "      <td>tom</td>\n",
       "      <td>3000.000000</td>\n",
       "      <td>4.0</td>\n",
       "      <td>NaN</td>\n",
       "      <td>37</td>\n",
       "      <td>Female</td>\n",
       "    </tr>\n",
       "  </tbody>\n",
       "</table>\n",
       "</div>"
      ],
      "text/plain": [
       "     name       salary  exp      city  age  Gender\n",
       "0    john  3000.000000  4.0  losvegas   30    Male\n",
       "1     doe  4000.000000  5.0        dc   25  Female\n",
       "2  robert  8000.000000  6.0     paris   27    Male\n",
       "3   chris  9000.000000  7.0   newyork   24  Female\n",
       "4     NaN  3000.000000  NaN  losvegas   35    Male\n",
       "5    john  3000.000000  4.0  losvegas   33  Female\n",
       "6   evans  4714.285714  4.0  losvegas   31    Male\n",
       "7     tom  3000.000000  4.0       NaN   37  Female"
      ]
     },
     "execution_count": 36,
     "metadata": {},
     "output_type": "execute_result"
    }
   ],
   "source": [
    "# replacing the mean value for null\n",
    "\n",
    "df = pd.read_csv(\"employee.csv\")\n",
    "\n",
    "df[\"salary\"].fillna(df[\"salary\"].mean(), inplace = True)#median(), mode()\n",
    "df"
   ]
  },
  {
   "cell_type": "code",
   "execution_count": 40,
   "id": "48f6b680-d4b1-47ff-bb90-38171b58febe",
   "metadata": {},
   "outputs": [
    {
     "name": "stderr",
     "output_type": "stream",
     "text": [
      "C:\\Users\\pugal\\AppData\\Local\\Temp\\ipykernel_25340\\3491198176.py:6: FutureWarning: A value is trying to be set on a copy of a DataFrame or Series through chained assignment using an inplace method.\n",
      "The behavior will change in pandas 3.0. This inplace method will never work because the intermediate object on which we are setting values always behaves as a copy.\n",
      "\n",
      "For example, when doing 'df[col].method(value, inplace=True)', try using 'df.method({col: value}, inplace=True)' or df[col] = df[col].method(value) instead, to perform the operation inplace on the original object.\n",
      "\n",
      "\n",
      "  df[\"exp\"].fillna(mode_value, inplace = True)#median(), mode()\n"
     ]
    },
    {
     "data": {
      "text/html": [
       "<div>\n",
       "<style scoped>\n",
       "    .dataframe tbody tr th:only-of-type {\n",
       "        vertical-align: middle;\n",
       "    }\n",
       "\n",
       "    .dataframe tbody tr th {\n",
       "        vertical-align: top;\n",
       "    }\n",
       "\n",
       "    .dataframe thead th {\n",
       "        text-align: right;\n",
       "    }\n",
       "</style>\n",
       "<table border=\"1\" class=\"dataframe\">\n",
       "  <thead>\n",
       "    <tr style=\"text-align: right;\">\n",
       "      <th></th>\n",
       "      <th>name</th>\n",
       "      <th>salary</th>\n",
       "      <th>exp</th>\n",
       "      <th>city</th>\n",
       "      <th>age</th>\n",
       "      <th>Gender</th>\n",
       "    </tr>\n",
       "  </thead>\n",
       "  <tbody>\n",
       "    <tr>\n",
       "      <th>0</th>\n",
       "      <td>john</td>\n",
       "      <td>3000.0</td>\n",
       "      <td>4.0</td>\n",
       "      <td>losvegas</td>\n",
       "      <td>30</td>\n",
       "      <td>Male</td>\n",
       "    </tr>\n",
       "    <tr>\n",
       "      <th>1</th>\n",
       "      <td>doe</td>\n",
       "      <td>4000.0</td>\n",
       "      <td>5.0</td>\n",
       "      <td>dc</td>\n",
       "      <td>25</td>\n",
       "      <td>Female</td>\n",
       "    </tr>\n",
       "    <tr>\n",
       "      <th>2</th>\n",
       "      <td>robert</td>\n",
       "      <td>8000.0</td>\n",
       "      <td>6.0</td>\n",
       "      <td>paris</td>\n",
       "      <td>27</td>\n",
       "      <td>Male</td>\n",
       "    </tr>\n",
       "    <tr>\n",
       "      <th>3</th>\n",
       "      <td>chris</td>\n",
       "      <td>9000.0</td>\n",
       "      <td>7.0</td>\n",
       "      <td>newyork</td>\n",
       "      <td>24</td>\n",
       "      <td>Female</td>\n",
       "    </tr>\n",
       "    <tr>\n",
       "      <th>4</th>\n",
       "      <td>NaN</td>\n",
       "      <td>3000.0</td>\n",
       "      <td>4.0</td>\n",
       "      <td>losvegas</td>\n",
       "      <td>35</td>\n",
       "      <td>Male</td>\n",
       "    </tr>\n",
       "    <tr>\n",
       "      <th>5</th>\n",
       "      <td>john</td>\n",
       "      <td>3000.0</td>\n",
       "      <td>4.0</td>\n",
       "      <td>losvegas</td>\n",
       "      <td>33</td>\n",
       "      <td>Female</td>\n",
       "    </tr>\n",
       "    <tr>\n",
       "      <th>6</th>\n",
       "      <td>evans</td>\n",
       "      <td>NaN</td>\n",
       "      <td>4.0</td>\n",
       "      <td>losvegas</td>\n",
       "      <td>31</td>\n",
       "      <td>Male</td>\n",
       "    </tr>\n",
       "    <tr>\n",
       "      <th>7</th>\n",
       "      <td>tom</td>\n",
       "      <td>3000.0</td>\n",
       "      <td>4.0</td>\n",
       "      <td>NaN</td>\n",
       "      <td>37</td>\n",
       "      <td>Female</td>\n",
       "    </tr>\n",
       "  </tbody>\n",
       "</table>\n",
       "</div>"
      ],
      "text/plain": [
       "     name  salary  exp      city  age  Gender\n",
       "0    john  3000.0  4.0  losvegas   30    Male\n",
       "1     doe  4000.0  5.0        dc   25  Female\n",
       "2  robert  8000.0  6.0     paris   27    Male\n",
       "3   chris  9000.0  7.0   newyork   24  Female\n",
       "4     NaN  3000.0  4.0  losvegas   35    Male\n",
       "5    john  3000.0  4.0  losvegas   33  Female\n",
       "6   evans     NaN  4.0  losvegas   31    Male\n",
       "7     tom  3000.0  4.0       NaN   37  Female"
      ]
     },
     "execution_count": 40,
     "metadata": {},
     "output_type": "execute_result"
    }
   ],
   "source": [
    "# replacing the mean value for null\n",
    "\n",
    "df = pd.read_csv(\"employee.csv\")\n",
    "mode_value = df[\"exp\"].median()\n",
    "\n",
    "df[\"exp\"].fillna(mode_value, inplace = True)#median(), mode()\n",
    "df"
   ]
  },
  {
   "cell_type": "code",
   "execution_count": 43,
   "id": "bd400c07-2101-41df-a368-7c23cab32f19",
   "metadata": {},
   "outputs": [
    {
     "name": "stdout",
     "output_type": "stream",
     "text": [
      "0    False\n",
      "1    False\n",
      "2     True\n",
      "3     True\n",
      "4    False\n",
      "5    False\n",
      "6    False\n",
      "7    False\n",
      "Name: salary, dtype: bool\n"
     ]
    }
   ],
   "source": [
    "df = pd.read_csv(\"employee.csv\")\n",
    "\n",
    "print(df[\"salary\"]>4000)  # boolean masking"
   ]
  },
  {
   "cell_type": "code",
   "execution_count": 44,
   "id": "dcfc1a7d-ba3c-492e-a2f3-e1eda758b856",
   "metadata": {},
   "outputs": [
    {
     "name": "stdout",
     "output_type": "stream",
     "text": [
      "     name  salary  exp     city  age  Gender\n",
      "2  robert  8000.0  6.0    paris   27    Male\n",
      "3   chris  9000.0  7.0  newyork   24  Female\n"
     ]
    }
   ],
   "source": [
    "df = pd.read_csv(\"employee.csv\")\n",
    "\n",
    "print(df[df[\"salary\"]>4000])  # applying the boolean masking"
   ]
  },
  {
   "cell_type": "code",
   "execution_count": 46,
   "id": "a4212868-17b5-4ba1-80bd-7c2e8c82188d",
   "metadata": {},
   "outputs": [
    {
     "data": {
      "text/html": [
       "<div>\n",
       "<style scoped>\n",
       "    .dataframe tbody tr th:only-of-type {\n",
       "        vertical-align: middle;\n",
       "    }\n",
       "\n",
       "    .dataframe tbody tr th {\n",
       "        vertical-align: top;\n",
       "    }\n",
       "\n",
       "    .dataframe thead th {\n",
       "        text-align: right;\n",
       "    }\n",
       "</style>\n",
       "<table border=\"1\" class=\"dataframe\">\n",
       "  <thead>\n",
       "    <tr style=\"text-align: right;\">\n",
       "      <th></th>\n",
       "      <th>name</th>\n",
       "      <th>salary</th>\n",
       "      <th>exp</th>\n",
       "      <th>city</th>\n",
       "      <th>age</th>\n",
       "      <th>Gender</th>\n",
       "      <th>hike</th>\n",
       "    </tr>\n",
       "  </thead>\n",
       "  <tbody>\n",
       "    <tr>\n",
       "      <th>0</th>\n",
       "      <td>john</td>\n",
       "      <td>3000.0</td>\n",
       "      <td>4.0</td>\n",
       "      <td>losvegas</td>\n",
       "      <td>30</td>\n",
       "      <td>Male</td>\n",
       "      <td>5000.0</td>\n",
       "    </tr>\n",
       "    <tr>\n",
       "      <th>1</th>\n",
       "      <td>doe</td>\n",
       "      <td>4000.0</td>\n",
       "      <td>5.0</td>\n",
       "      <td>dc</td>\n",
       "      <td>25</td>\n",
       "      <td>Female</td>\n",
       "      <td>6000.0</td>\n",
       "    </tr>\n",
       "    <tr>\n",
       "      <th>2</th>\n",
       "      <td>robert</td>\n",
       "      <td>8000.0</td>\n",
       "      <td>6.0</td>\n",
       "      <td>paris</td>\n",
       "      <td>27</td>\n",
       "      <td>Male</td>\n",
       "      <td>10000.0</td>\n",
       "    </tr>\n",
       "    <tr>\n",
       "      <th>3</th>\n",
       "      <td>chris</td>\n",
       "      <td>9000.0</td>\n",
       "      <td>7.0</td>\n",
       "      <td>newyork</td>\n",
       "      <td>24</td>\n",
       "      <td>Female</td>\n",
       "      <td>11000.0</td>\n",
       "    </tr>\n",
       "    <tr>\n",
       "      <th>4</th>\n",
       "      <td>NaN</td>\n",
       "      <td>3000.0</td>\n",
       "      <td>NaN</td>\n",
       "      <td>losvegas</td>\n",
       "      <td>35</td>\n",
       "      <td>Male</td>\n",
       "      <td>5000.0</td>\n",
       "    </tr>\n",
       "    <tr>\n",
       "      <th>5</th>\n",
       "      <td>john</td>\n",
       "      <td>3000.0</td>\n",
       "      <td>4.0</td>\n",
       "      <td>losvegas</td>\n",
       "      <td>33</td>\n",
       "      <td>Female</td>\n",
       "      <td>5000.0</td>\n",
       "    </tr>\n",
       "    <tr>\n",
       "      <th>6</th>\n",
       "      <td>evans</td>\n",
       "      <td>NaN</td>\n",
       "      <td>4.0</td>\n",
       "      <td>losvegas</td>\n",
       "      <td>31</td>\n",
       "      <td>Male</td>\n",
       "      <td>NaN</td>\n",
       "    </tr>\n",
       "    <tr>\n",
       "      <th>7</th>\n",
       "      <td>tom</td>\n",
       "      <td>3000.0</td>\n",
       "      <td>4.0</td>\n",
       "      <td>NaN</td>\n",
       "      <td>37</td>\n",
       "      <td>Female</td>\n",
       "      <td>5000.0</td>\n",
       "    </tr>\n",
       "  </tbody>\n",
       "</table>\n",
       "</div>"
      ],
      "text/plain": [
       "     name  salary  exp      city  age  Gender     hike\n",
       "0    john  3000.0  4.0  losvegas   30    Male   5000.0\n",
       "1     doe  4000.0  5.0        dc   25  Female   6000.0\n",
       "2  robert  8000.0  6.0     paris   27    Male  10000.0\n",
       "3   chris  9000.0  7.0   newyork   24  Female  11000.0\n",
       "4     NaN  3000.0  NaN  losvegas   35    Male   5000.0\n",
       "5    john  3000.0  4.0  losvegas   33  Female   5000.0\n",
       "6   evans     NaN  4.0  losvegas   31    Male      NaN\n",
       "7     tom  3000.0  4.0       NaN   37  Female   5000.0"
      ]
     },
     "execution_count": 46,
     "metadata": {},
     "output_type": "execute_result"
    }
   ],
   "source": [
    "df[\"hike\"] = df[\"salary\"]+2000  # creating a new col\n",
    "df"
   ]
  },
  {
   "cell_type": "code",
   "execution_count": 47,
   "id": "43f5fc67-e5b4-4326-9b31-710c1fef19c1",
   "metadata": {},
   "outputs": [
    {
     "data": {
      "text/html": [
       "<div>\n",
       "<style scoped>\n",
       "    .dataframe tbody tr th:only-of-type {\n",
       "        vertical-align: middle;\n",
       "    }\n",
       "\n",
       "    .dataframe tbody tr th {\n",
       "        vertical-align: top;\n",
       "    }\n",
       "\n",
       "    .dataframe thead th {\n",
       "        text-align: right;\n",
       "    }\n",
       "</style>\n",
       "<table border=\"1\" class=\"dataframe\">\n",
       "  <thead>\n",
       "    <tr style=\"text-align: right;\">\n",
       "      <th></th>\n",
       "      <th>name</th>\n",
       "      <th>salary</th>\n",
       "      <th>exp</th>\n",
       "      <th>city</th>\n",
       "      <th>age</th>\n",
       "      <th>Gender</th>\n",
       "    </tr>\n",
       "  </thead>\n",
       "  <tbody>\n",
       "    <tr>\n",
       "      <th>0</th>\n",
       "      <td>john</td>\n",
       "      <td>3000.0</td>\n",
       "      <td>4.0</td>\n",
       "      <td>losvegas</td>\n",
       "      <td>30</td>\n",
       "      <td>Male</td>\n",
       "    </tr>\n",
       "    <tr>\n",
       "      <th>1</th>\n",
       "      <td>doe</td>\n",
       "      <td>4000.0</td>\n",
       "      <td>5.0</td>\n",
       "      <td>dc</td>\n",
       "      <td>25</td>\n",
       "      <td>Female</td>\n",
       "    </tr>\n",
       "    <tr>\n",
       "      <th>2</th>\n",
       "      <td>robert</td>\n",
       "      <td>8000.0</td>\n",
       "      <td>6.0</td>\n",
       "      <td>paris</td>\n",
       "      <td>27</td>\n",
       "      <td>Male</td>\n",
       "    </tr>\n",
       "    <tr>\n",
       "      <th>3</th>\n",
       "      <td>chris</td>\n",
       "      <td>9000.0</td>\n",
       "      <td>7.0</td>\n",
       "      <td>newyork</td>\n",
       "      <td>24</td>\n",
       "      <td>Female</td>\n",
       "    </tr>\n",
       "    <tr>\n",
       "      <th>4</th>\n",
       "      <td>NaN</td>\n",
       "      <td>3000.0</td>\n",
       "      <td>NaN</td>\n",
       "      <td>losvegas</td>\n",
       "      <td>35</td>\n",
       "      <td>Male</td>\n",
       "    </tr>\n",
       "    <tr>\n",
       "      <th>5</th>\n",
       "      <td>john</td>\n",
       "      <td>3000.0</td>\n",
       "      <td>4.0</td>\n",
       "      <td>losvegas</td>\n",
       "      <td>33</td>\n",
       "      <td>Female</td>\n",
       "    </tr>\n",
       "    <tr>\n",
       "      <th>6</th>\n",
       "      <td>evans</td>\n",
       "      <td>NaN</td>\n",
       "      <td>4.0</td>\n",
       "      <td>losvegas</td>\n",
       "      <td>31</td>\n",
       "      <td>Male</td>\n",
       "    </tr>\n",
       "    <tr>\n",
       "      <th>7</th>\n",
       "      <td>tom</td>\n",
       "      <td>3000.0</td>\n",
       "      <td>4.0</td>\n",
       "      <td>NaN</td>\n",
       "      <td>37</td>\n",
       "      <td>Female</td>\n",
       "    </tr>\n",
       "  </tbody>\n",
       "</table>\n",
       "</div>"
      ],
      "text/plain": [
       "     name  salary  exp      city  age  Gender\n",
       "0    john  3000.0  4.0  losvegas   30    Male\n",
       "1     doe  4000.0  5.0        dc   25  Female\n",
       "2  robert  8000.0  6.0     paris   27    Male\n",
       "3   chris  9000.0  7.0   newyork   24  Female\n",
       "4     NaN  3000.0  NaN  losvegas   35    Male\n",
       "5    john  3000.0  4.0  losvegas   33  Female\n",
       "6   evans     NaN  4.0  losvegas   31    Male\n",
       "7     tom  3000.0  4.0       NaN   37  Female"
      ]
     },
     "execution_count": 47,
     "metadata": {},
     "output_type": "execute_result"
    }
   ],
   "source": [
    "df.drop(columns= \"hike\", inplace=True)\n",
    "df"
   ]
  },
  {
   "cell_type": "code",
   "execution_count": 48,
   "id": "09db6217-0ec2-4b40-8a1c-64f365feed81",
   "metadata": {},
   "outputs": [
    {
     "name": "stdout",
     "output_type": "stream",
     "text": [
      "     name  salary  exp    city  age Gender\n",
      "2  robert  8000.0  6.0   paris   27   Male\n"
     ]
    }
   ],
   "source": [
    "df = pd.read_csv(\"employee.csv\")\n",
    "\n",
    "print(df[(df[\"salary\"]>4000) & (df[\"exp\"]<7)])  # multiple conditions"
   ]
  },
  {
   "cell_type": "code",
   "execution_count": 50,
   "id": "5fc93c14-00f3-4773-802a-f99e6aebd5d9",
   "metadata": {},
   "outputs": [
    {
     "name": "stdout",
     "output_type": "stream",
     "text": [
      "     name  salary  exp      city  age  Gender\n",
      "0    john  3000.0  4.0  losvegas   30    Male\n",
      "1     doe  4000.0  5.0        dc   25  Female\n",
      "2  robert  8000.0  6.0     paris   27    Male\n",
      "3   chris  9000.0  7.0   newyork   24  Female\n",
      "5    john  3000.0  4.0  losvegas   33  Female\n",
      "6   evans     NaN  4.0  losvegas   31    Male\n",
      "7     tom  3000.0  4.0       NaN   37  Female\n"
     ]
    }
   ],
   "source": [
    "df = pd.read_csv(\"employee.csv\")\n",
    "\n",
    "print(df[(df[\"salary\"]>4000) | (df[\"exp\"]<7)])  # multiple conditions"
   ]
  },
  {
   "cell_type": "code",
   "execution_count": 51,
   "id": "4cf9e316-ac46-4723-9c9c-5546730935ab",
   "metadata": {},
   "outputs": [
    {
     "data": {
      "text/html": [
       "<div>\n",
       "<style scoped>\n",
       "    .dataframe tbody tr th:only-of-type {\n",
       "        vertical-align: middle;\n",
       "    }\n",
       "\n",
       "    .dataframe tbody tr th {\n",
       "        vertical-align: top;\n",
       "    }\n",
       "\n",
       "    .dataframe thead th {\n",
       "        text-align: right;\n",
       "    }\n",
       "</style>\n",
       "<table border=\"1\" class=\"dataframe\">\n",
       "  <thead>\n",
       "    <tr style=\"text-align: right;\">\n",
       "      <th></th>\n",
       "      <th>name</th>\n",
       "      <th>salary</th>\n",
       "      <th>exp</th>\n",
       "      <th>city</th>\n",
       "      <th>age</th>\n",
       "      <th>Gender</th>\n",
       "    </tr>\n",
       "  </thead>\n",
       "  <tbody>\n",
       "    <tr>\n",
       "      <th>0</th>\n",
       "      <td>john</td>\n",
       "      <td>3000.0</td>\n",
       "      <td>4.0</td>\n",
       "      <td>losvegas</td>\n",
       "      <td>30</td>\n",
       "      <td>Male</td>\n",
       "    </tr>\n",
       "    <tr>\n",
       "      <th>1</th>\n",
       "      <td>doe</td>\n",
       "      <td>4000.0</td>\n",
       "      <td>5.0</td>\n",
       "      <td>dc</td>\n",
       "      <td>25</td>\n",
       "      <td>Female</td>\n",
       "    </tr>\n",
       "    <tr>\n",
       "      <th>2</th>\n",
       "      <td>robert</td>\n",
       "      <td>8000.0</td>\n",
       "      <td>6.0</td>\n",
       "      <td>paris</td>\n",
       "      <td>27</td>\n",
       "      <td>Male</td>\n",
       "    </tr>\n",
       "    <tr>\n",
       "      <th>3</th>\n",
       "      <td>chris</td>\n",
       "      <td>9000.0</td>\n",
       "      <td>7.0</td>\n",
       "      <td>newyork</td>\n",
       "      <td>24</td>\n",
       "      <td>Female</td>\n",
       "    </tr>\n",
       "    <tr>\n",
       "      <th>4</th>\n",
       "      <td>NaN</td>\n",
       "      <td>3000.0</td>\n",
       "      <td>NaN</td>\n",
       "      <td>losvegas</td>\n",
       "      <td>35</td>\n",
       "      <td>Male</td>\n",
       "    </tr>\n",
       "  </tbody>\n",
       "</table>\n",
       "</div>"
      ],
      "text/plain": [
       "     name  salary  exp      city  age  Gender\n",
       "0    john  3000.0  4.0  losvegas   30    Male\n",
       "1     doe  4000.0  5.0        dc   25  Female\n",
       "2  robert  8000.0  6.0     paris   27    Male\n",
       "3   chris  9000.0  7.0   newyork   24  Female\n",
       "4     NaN  3000.0  NaN  losvegas   35    Male"
      ]
     },
     "execution_count": 51,
     "metadata": {},
     "output_type": "execute_result"
    }
   ],
   "source": [
    "df = pd.read_csv(\"employee.csv\")\n",
    "\n",
    "df.loc[:4] # multiple conditions    # Access first row by label"
   ]
  },
  {
   "cell_type": "code",
   "execution_count": 52,
   "id": "23335aec-6008-412b-b7c8-3035be6ec1d1",
   "metadata": {},
   "outputs": [
    {
     "data": {
      "text/html": [
       "<div>\n",
       "<style scoped>\n",
       "    .dataframe tbody tr th:only-of-type {\n",
       "        vertical-align: middle;\n",
       "    }\n",
       "\n",
       "    .dataframe tbody tr th {\n",
       "        vertical-align: top;\n",
       "    }\n",
       "\n",
       "    .dataframe thead th {\n",
       "        text-align: right;\n",
       "    }\n",
       "</style>\n",
       "<table border=\"1\" class=\"dataframe\">\n",
       "  <thead>\n",
       "    <tr style=\"text-align: right;\">\n",
       "      <th></th>\n",
       "      <th>name</th>\n",
       "      <th>city</th>\n",
       "    </tr>\n",
       "  </thead>\n",
       "  <tbody>\n",
       "    <tr>\n",
       "      <th>0</th>\n",
       "      <td>john</td>\n",
       "      <td>losvegas</td>\n",
       "    </tr>\n",
       "    <tr>\n",
       "      <th>1</th>\n",
       "      <td>doe</td>\n",
       "      <td>dc</td>\n",
       "    </tr>\n",
       "    <tr>\n",
       "      <th>2</th>\n",
       "      <td>robert</td>\n",
       "      <td>paris</td>\n",
       "    </tr>\n",
       "    <tr>\n",
       "      <th>3</th>\n",
       "      <td>chris</td>\n",
       "      <td>newyork</td>\n",
       "    </tr>\n",
       "    <tr>\n",
       "      <th>4</th>\n",
       "      <td>NaN</td>\n",
       "      <td>losvegas</td>\n",
       "    </tr>\n",
       "  </tbody>\n",
       "</table>\n",
       "</div>"
      ],
      "text/plain": [
       "     name      city\n",
       "0    john  losvegas\n",
       "1     doe        dc\n",
       "2  robert     paris\n",
       "3   chris   newyork\n",
       "4     NaN  losvegas"
      ]
     },
     "execution_count": 52,
     "metadata": {},
     "output_type": "execute_result"
    }
   ],
   "source": [
    "df = pd.read_csv(\"employee.csv\")\n",
    "\n",
    "df.loc[:4, (\"name\", \"city\")]"
   ]
  },
  {
   "cell_type": "code",
   "execution_count": 53,
   "id": "df04c43f-b04f-443c-81e6-a335cda39cab",
   "metadata": {},
   "outputs": [
    {
     "data": {
      "text/html": [
       "<div>\n",
       "<style scoped>\n",
       "    .dataframe tbody tr th:only-of-type {\n",
       "        vertical-align: middle;\n",
       "    }\n",
       "\n",
       "    .dataframe tbody tr th {\n",
       "        vertical-align: top;\n",
       "    }\n",
       "\n",
       "    .dataframe thead th {\n",
       "        text-align: right;\n",
       "    }\n",
       "</style>\n",
       "<table border=\"1\" class=\"dataframe\">\n",
       "  <thead>\n",
       "    <tr style=\"text-align: right;\">\n",
       "      <th></th>\n",
       "      <th>name</th>\n",
       "      <th>salary</th>\n",
       "      <th>exp</th>\n",
       "      <th>city</th>\n",
       "      <th>age</th>\n",
       "      <th>Gender</th>\n",
       "    </tr>\n",
       "  </thead>\n",
       "  <tbody>\n",
       "    <tr>\n",
       "      <th>0</th>\n",
       "      <td>john</td>\n",
       "      <td>3000.0</td>\n",
       "      <td>4.0</td>\n",
       "      <td>unnamed city</td>\n",
       "      <td>30</td>\n",
       "      <td>Male</td>\n",
       "    </tr>\n",
       "    <tr>\n",
       "      <th>1</th>\n",
       "      <td>doe</td>\n",
       "      <td>4000.0</td>\n",
       "      <td>5.0</td>\n",
       "      <td>unnamed city</td>\n",
       "      <td>25</td>\n",
       "      <td>Female</td>\n",
       "    </tr>\n",
       "    <tr>\n",
       "      <th>2</th>\n",
       "      <td>robert</td>\n",
       "      <td>8000.0</td>\n",
       "      <td>6.0</td>\n",
       "      <td>unnamed city</td>\n",
       "      <td>27</td>\n",
       "      <td>Male</td>\n",
       "    </tr>\n",
       "    <tr>\n",
       "      <th>3</th>\n",
       "      <td>chris</td>\n",
       "      <td>9000.0</td>\n",
       "      <td>7.0</td>\n",
       "      <td>newyork</td>\n",
       "      <td>24</td>\n",
       "      <td>Female</td>\n",
       "    </tr>\n",
       "    <tr>\n",
       "      <th>4</th>\n",
       "      <td>NaN</td>\n",
       "      <td>3000.0</td>\n",
       "      <td>NaN</td>\n",
       "      <td>losvegas</td>\n",
       "      <td>35</td>\n",
       "      <td>Male</td>\n",
       "    </tr>\n",
       "    <tr>\n",
       "      <th>5</th>\n",
       "      <td>john</td>\n",
       "      <td>3000.0</td>\n",
       "      <td>4.0</td>\n",
       "      <td>losvegas</td>\n",
       "      <td>33</td>\n",
       "      <td>Female</td>\n",
       "    </tr>\n",
       "    <tr>\n",
       "      <th>6</th>\n",
       "      <td>evans</td>\n",
       "      <td>NaN</td>\n",
       "      <td>4.0</td>\n",
       "      <td>losvegas</td>\n",
       "      <td>31</td>\n",
       "      <td>Male</td>\n",
       "    </tr>\n",
       "    <tr>\n",
       "      <th>7</th>\n",
       "      <td>tom</td>\n",
       "      <td>3000.0</td>\n",
       "      <td>4.0</td>\n",
       "      <td>NaN</td>\n",
       "      <td>37</td>\n",
       "      <td>Female</td>\n",
       "    </tr>\n",
       "  </tbody>\n",
       "</table>\n",
       "</div>"
      ],
      "text/plain": [
       "     name  salary  exp          city  age  Gender\n",
       "0    john  3000.0  4.0  unnamed city   30    Male\n",
       "1     doe  4000.0  5.0  unnamed city   25  Female\n",
       "2  robert  8000.0  6.0  unnamed city   27    Male\n",
       "3   chris  9000.0  7.0       newyork   24  Female\n",
       "4     NaN  3000.0  NaN      losvegas   35    Male\n",
       "5    john  3000.0  4.0      losvegas   33  Female\n",
       "6   evans     NaN  4.0      losvegas   31    Male\n",
       "7     tom  3000.0  4.0           NaN   37  Female"
      ]
     },
     "execution_count": 53,
     "metadata": {},
     "output_type": "execute_result"
    }
   ],
   "source": [
    "df = pd.read_csv(\"employee.csv\")\n",
    "\n",
    "df.loc[:2, \"city\"] = \"unnamed city\"\n",
    "df"
   ]
  },
  {
   "cell_type": "code",
   "execution_count": 54,
   "id": "d06732c1-9e67-4f3e-8cb5-9d398123738f",
   "metadata": {},
   "outputs": [
    {
     "data": {
      "text/html": [
       "<div>\n",
       "<style scoped>\n",
       "    .dataframe tbody tr th:only-of-type {\n",
       "        vertical-align: middle;\n",
       "    }\n",
       "\n",
       "    .dataframe tbody tr th {\n",
       "        vertical-align: top;\n",
       "    }\n",
       "\n",
       "    .dataframe thead th {\n",
       "        text-align: right;\n",
       "    }\n",
       "</style>\n",
       "<table border=\"1\" class=\"dataframe\">\n",
       "  <thead>\n",
       "    <tr style=\"text-align: right;\">\n",
       "      <th></th>\n",
       "      <th>name</th>\n",
       "      <th>exp</th>\n",
       "    </tr>\n",
       "  </thead>\n",
       "  <tbody>\n",
       "    <tr>\n",
       "      <th>0</th>\n",
       "      <td>john</td>\n",
       "      <td>4.0</td>\n",
       "    </tr>\n",
       "    <tr>\n",
       "      <th>1</th>\n",
       "      <td>doe</td>\n",
       "      <td>5.0</td>\n",
       "    </tr>\n",
       "    <tr>\n",
       "      <th>2</th>\n",
       "      <td>robert</td>\n",
       "      <td>6.0</td>\n",
       "    </tr>\n",
       "    <tr>\n",
       "      <th>3</th>\n",
       "      <td>chris</td>\n",
       "      <td>7.0</td>\n",
       "    </tr>\n",
       "    <tr>\n",
       "      <th>4</th>\n",
       "      <td>NaN</td>\n",
       "      <td>NaN</td>\n",
       "    </tr>\n",
       "    <tr>\n",
       "      <th>5</th>\n",
       "      <td>john</td>\n",
       "      <td>4.0</td>\n",
       "    </tr>\n",
       "    <tr>\n",
       "      <th>6</th>\n",
       "      <td>evans</td>\n",
       "      <td>4.0</td>\n",
       "    </tr>\n",
       "    <tr>\n",
       "      <th>7</th>\n",
       "      <td>tom</td>\n",
       "      <td>4.0</td>\n",
       "    </tr>\n",
       "  </tbody>\n",
       "</table>\n",
       "</div>"
      ],
      "text/plain": [
       "     name  exp\n",
       "0    john  4.0\n",
       "1     doe  5.0\n",
       "2  robert  6.0\n",
       "3   chris  7.0\n",
       "4     NaN  NaN\n",
       "5    john  4.0\n",
       "6   evans  4.0\n",
       "7     tom  4.0"
      ]
     },
     "execution_count": 54,
     "metadata": {},
     "output_type": "execute_result"
    }
   ],
   "source": [
    "df[[\"name\", \"exp\"]]"
   ]
  },
  {
   "cell_type": "code",
   "execution_count": 55,
   "id": "22988930-5d08-48d2-8700-b174766683d1",
   "metadata": {},
   "outputs": [
    {
     "data": {
      "text/plain": [
       "0      john\n",
       "1       doe\n",
       "2    robert\n",
       "3     chris\n",
       "4       NaN\n",
       "5      john\n",
       "6     evans\n",
       "7       tom\n",
       "Name: name, dtype: object"
      ]
     },
     "execution_count": 55,
     "metadata": {},
     "output_type": "execute_result"
    }
   ],
   "source": [
    "df[\"name\"]"
   ]
  },
  {
   "cell_type": "code",
   "execution_count": 57,
   "id": "51fbde3e-3399-4142-8898-3e3f2ae6ceb9",
   "metadata": {},
   "outputs": [
    {
     "data": {
      "text/html": [
       "<div>\n",
       "<style scoped>\n",
       "    .dataframe tbody tr th:only-of-type {\n",
       "        vertical-align: middle;\n",
       "    }\n",
       "\n",
       "    .dataframe tbody tr th {\n",
       "        vertical-align: top;\n",
       "    }\n",
       "\n",
       "    .dataframe thead th {\n",
       "        text-align: right;\n",
       "    }\n",
       "</style>\n",
       "<table border=\"1\" class=\"dataframe\">\n",
       "  <thead>\n",
       "    <tr style=\"text-align: right;\">\n",
       "      <th></th>\n",
       "      <th>name</th>\n",
       "      <th>salary</th>\n",
       "      <th>exp</th>\n",
       "      <th>city</th>\n",
       "      <th>age</th>\n",
       "      <th>Gender</th>\n",
       "      <th>percent</th>\n",
       "    </tr>\n",
       "  </thead>\n",
       "  <tbody>\n",
       "    <tr>\n",
       "      <th>0</th>\n",
       "      <td>john</td>\n",
       "      <td>3000.0</td>\n",
       "      <td>4.0</td>\n",
       "      <td>losvegas</td>\n",
       "      <td>30</td>\n",
       "      <td>Male</td>\n",
       "      <td>30.0</td>\n",
       "    </tr>\n",
       "    <tr>\n",
       "      <th>1</th>\n",
       "      <td>doe</td>\n",
       "      <td>4000.0</td>\n",
       "      <td>5.0</td>\n",
       "      <td>dc</td>\n",
       "      <td>25</td>\n",
       "      <td>Female</td>\n",
       "      <td>40.0</td>\n",
       "    </tr>\n",
       "    <tr>\n",
       "      <th>2</th>\n",
       "      <td>robert</td>\n",
       "      <td>8000.0</td>\n",
       "      <td>6.0</td>\n",
       "      <td>paris</td>\n",
       "      <td>27</td>\n",
       "      <td>Male</td>\n",
       "      <td>80.0</td>\n",
       "    </tr>\n",
       "    <tr>\n",
       "      <th>3</th>\n",
       "      <td>chris</td>\n",
       "      <td>9000.0</td>\n",
       "      <td>7.0</td>\n",
       "      <td>newyork</td>\n",
       "      <td>24</td>\n",
       "      <td>Female</td>\n",
       "      <td>90.0</td>\n",
       "    </tr>\n",
       "    <tr>\n",
       "      <th>4</th>\n",
       "      <td>NaN</td>\n",
       "      <td>3000.0</td>\n",
       "      <td>NaN</td>\n",
       "      <td>losvegas</td>\n",
       "      <td>35</td>\n",
       "      <td>Male</td>\n",
       "      <td>30.0</td>\n",
       "    </tr>\n",
       "    <tr>\n",
       "      <th>5</th>\n",
       "      <td>john</td>\n",
       "      <td>3000.0</td>\n",
       "      <td>4.0</td>\n",
       "      <td>losvegas</td>\n",
       "      <td>33</td>\n",
       "      <td>Female</td>\n",
       "      <td>30.0</td>\n",
       "    </tr>\n",
       "    <tr>\n",
       "      <th>6</th>\n",
       "      <td>evans</td>\n",
       "      <td>NaN</td>\n",
       "      <td>4.0</td>\n",
       "      <td>losvegas</td>\n",
       "      <td>31</td>\n",
       "      <td>Male</td>\n",
       "      <td>NaN</td>\n",
       "    </tr>\n",
       "    <tr>\n",
       "      <th>7</th>\n",
       "      <td>tom</td>\n",
       "      <td>3000.0</td>\n",
       "      <td>4.0</td>\n",
       "      <td>NaN</td>\n",
       "      <td>37</td>\n",
       "      <td>Female</td>\n",
       "      <td>30.0</td>\n",
       "    </tr>\n",
       "  </tbody>\n",
       "</table>\n",
       "</div>"
      ],
      "text/plain": [
       "     name  salary  exp      city  age  Gender  percent\n",
       "0    john  3000.0  4.0  losvegas   30    Male     30.0\n",
       "1     doe  4000.0  5.0        dc   25  Female     40.0\n",
       "2  robert  8000.0  6.0     paris   27    Male     80.0\n",
       "3   chris  9000.0  7.0   newyork   24  Female     90.0\n",
       "4     NaN  3000.0  NaN  losvegas   35    Male     30.0\n",
       "5    john  3000.0  4.0  losvegas   33  Female     30.0\n",
       "6   evans     NaN  4.0  losvegas   31    Male      NaN\n",
       "7     tom  3000.0  4.0       NaN   37  Female     30.0"
      ]
     },
     "execution_count": 57,
     "metadata": {},
     "output_type": "execute_result"
    }
   ],
   "source": [
    "def percent(val):\n",
    "    result = (val/10000)*100\n",
    "    return result\n",
    "\n",
    "\n",
    "df = pd.read_csv(\"employee.csv\")\n",
    "\n",
    "df[\"percent\"] = df[\"salary\"].apply(percent)\n",
    "df"
   ]
  },
  {
   "cell_type": "code",
   "execution_count": 58,
   "id": "dc2036be-a716-4e8f-9530-ab75eeb50875",
   "metadata": {},
   "outputs": [
    {
     "data": {
      "text/html": [
       "<div>\n",
       "<style scoped>\n",
       "    .dataframe tbody tr th:only-of-type {\n",
       "        vertical-align: middle;\n",
       "    }\n",
       "\n",
       "    .dataframe tbody tr th {\n",
       "        vertical-align: top;\n",
       "    }\n",
       "\n",
       "    .dataframe thead th {\n",
       "        text-align: right;\n",
       "    }\n",
       "</style>\n",
       "<table border=\"1\" class=\"dataframe\">\n",
       "  <thead>\n",
       "    <tr style=\"text-align: right;\">\n",
       "      <th></th>\n",
       "      <th>name</th>\n",
       "      <th>salary</th>\n",
       "      <th>exp</th>\n",
       "      <th>city</th>\n",
       "      <th>age</th>\n",
       "      <th>Gender</th>\n",
       "    </tr>\n",
       "  </thead>\n",
       "  <tbody>\n",
       "    <tr>\n",
       "      <th>2</th>\n",
       "      <td>robert</td>\n",
       "      <td>8000.0</td>\n",
       "      <td>6.0</td>\n",
       "      <td>paris</td>\n",
       "      <td>27</td>\n",
       "      <td>Male</td>\n",
       "    </tr>\n",
       "    <tr>\n",
       "      <th>3</th>\n",
       "      <td>chris</td>\n",
       "      <td>9000.0</td>\n",
       "      <td>7.0</td>\n",
       "      <td>newyork</td>\n",
       "      <td>24</td>\n",
       "      <td>Female</td>\n",
       "    </tr>\n",
       "    <tr>\n",
       "      <th>6</th>\n",
       "      <td>evans</td>\n",
       "      <td>NaN</td>\n",
       "      <td>4.0</td>\n",
       "      <td>losvegas</td>\n",
       "      <td>31</td>\n",
       "      <td>Male</td>\n",
       "    </tr>\n",
       "  </tbody>\n",
       "</table>\n",
       "</div>"
      ],
      "text/plain": [
       "     name  salary  exp      city  age  Gender\n",
       "2  robert  8000.0  6.0     paris   27    Male\n",
       "3   chris  9000.0  7.0   newyork   24  Female\n",
       "6   evans     NaN  4.0  losvegas   31    Male"
      ]
     },
     "execution_count": 58,
     "metadata": {},
     "output_type": "execute_result"
    }
   ],
   "source": [
    "df = pd.read_csv(\"employee.csv\")\n",
    "\n",
    "df[~(df[\"salary\"]<5000)]  # negate operator"
   ]
  },
  {
   "cell_type": "code",
   "execution_count": 59,
   "id": "03b59de8-a08b-4dd9-9bd5-94eb18bb51f4",
   "metadata": {},
   "outputs": [
    {
     "name": "stderr",
     "output_type": "stream",
     "text": [
      "C:\\Users\\pugal\\AppData\\Local\\Temp\\ipykernel_25340\\3293706.py:5: UserWarning: pandas only supports SQLAlchemy connectable (engine/connection) or database string URI or sqlite3 DBAPI2 connection. Other DBAPI2 objects are not tested. Please consider using SQLAlchemy.\n",
      "  df = pd.read_sql('SELECT * FROM empcopy', connection)\n"
     ]
    },
    {
     "data": {
      "text/html": [
       "<div>\n",
       "<style scoped>\n",
       "    .dataframe tbody tr th:only-of-type {\n",
       "        vertical-align: middle;\n",
       "    }\n",
       "\n",
       "    .dataframe tbody tr th {\n",
       "        vertical-align: top;\n",
       "    }\n",
       "\n",
       "    .dataframe thead th {\n",
       "        text-align: right;\n",
       "    }\n",
       "</style>\n",
       "<table border=\"1\" class=\"dataframe\">\n",
       "  <thead>\n",
       "    <tr style=\"text-align: right;\">\n",
       "      <th></th>\n",
       "      <th>job</th>\n",
       "      <th>dept</th>\n",
       "      <th>city</th>\n",
       "      <th>sal</th>\n",
       "      <th>address</th>\n",
       "      <th>incentive</th>\n",
       "    </tr>\n",
       "  </thead>\n",
       "  <tbody>\n",
       "    <tr>\n",
       "      <th>0</th>\n",
       "      <td>front end</td>\n",
       "      <td>IT</td>\n",
       "      <td>washingto dc</td>\n",
       "      <td>35000.0</td>\n",
       "      <td>sanfrancisco, us</td>\n",
       "      <td>NaN</td>\n",
       "    </tr>\n",
       "    <tr>\n",
       "      <th>1</th>\n",
       "      <td>backend end</td>\n",
       "      <td>IT</td>\n",
       "      <td>bleeker street dc</td>\n",
       "      <td>40000.0</td>\n",
       "      <td>los vegas, us</td>\n",
       "      <td>NaN</td>\n",
       "    </tr>\n",
       "    <tr>\n",
       "      <th>2</th>\n",
       "      <td>AI</td>\n",
       "      <td>IT</td>\n",
       "      <td>manhatton dc</td>\n",
       "      <td>50000.0</td>\n",
       "      <td>los angeles, us</td>\n",
       "      <td>NaN</td>\n",
       "    </tr>\n",
       "    <tr>\n",
       "      <th>3</th>\n",
       "      <td>ML developer</td>\n",
       "      <td>IT</td>\n",
       "      <td>san francisco</td>\n",
       "      <td>11000.0</td>\n",
       "      <td>str1 manhattan</td>\n",
       "      <td>NaN</td>\n",
       "    </tr>\n",
       "    <tr>\n",
       "      <th>4</th>\n",
       "      <td>data analyst</td>\n",
       "      <td>IT</td>\n",
       "      <td>los angeles</td>\n",
       "      <td>70000.0</td>\n",
       "      <td>str1 manhattan</td>\n",
       "      <td>NaN</td>\n",
       "    </tr>\n",
       "    <tr>\n",
       "      <th>5</th>\n",
       "      <td>AI engineer</td>\n",
       "      <td>IT</td>\n",
       "      <td>san francisco</td>\n",
       "      <td>90000.0</td>\n",
       "      <td>baker st</td>\n",
       "      <td>NaN</td>\n",
       "    </tr>\n",
       "    <tr>\n",
       "      <th>6</th>\n",
       "      <td>dev ops</td>\n",
       "      <td>IT</td>\n",
       "      <td>alaska</td>\n",
       "      <td>25000.0</td>\n",
       "      <td>chris st,11223</td>\n",
       "      <td>NaN</td>\n",
       "    </tr>\n",
       "    <tr>\n",
       "      <th>7</th>\n",
       "      <td>cloud engineer</td>\n",
       "      <td>IT</td>\n",
       "      <td>florida</td>\n",
       "      <td>35000.0</td>\n",
       "      <td>evans st,11223</td>\n",
       "      <td>NaN</td>\n",
       "    </tr>\n",
       "    <tr>\n",
       "      <th>8</th>\n",
       "      <td>ceo</td>\n",
       "      <td>admin</td>\n",
       "      <td>newyork</td>\n",
       "      <td>300000.0</td>\n",
       "      <td>manhattan st</td>\n",
       "      <td>NaN</td>\n",
       "    </tr>\n",
       "    <tr>\n",
       "      <th>9</th>\n",
       "      <td>AI engineer</td>\n",
       "      <td>IT</td>\n",
       "      <td>Embrun</td>\n",
       "      <td>11000.0</td>\n",
       "      <td>Boston Canada</td>\n",
       "      <td>NaN</td>\n",
       "    </tr>\n",
       "    <tr>\n",
       "      <th>10</th>\n",
       "      <td>IOT engineer</td>\n",
       "      <td>IT</td>\n",
       "      <td>united states</td>\n",
       "      <td>20000.0</td>\n",
       "      <td>new jersy</td>\n",
       "      <td>NaN</td>\n",
       "    </tr>\n",
       "    <tr>\n",
       "      <th>11</th>\n",
       "      <td>data maintainer</td>\n",
       "      <td>IT</td>\n",
       "      <td>paris england</td>\n",
       "      <td>9000.0</td>\n",
       "      <td>embrun canada</td>\n",
       "      <td>NaN</td>\n",
       "    </tr>\n",
       "    <tr>\n",
       "      <th>12</th>\n",
       "      <td>computer vision engineer</td>\n",
       "      <td>IT</td>\n",
       "      <td>united states</td>\n",
       "      <td>19000.0</td>\n",
       "      <td>texas</td>\n",
       "      <td>NaN</td>\n",
       "    </tr>\n",
       "    <tr>\n",
       "      <th>13</th>\n",
       "      <td>data arcitect</td>\n",
       "      <td>IT</td>\n",
       "      <td>florida</td>\n",
       "      <td>7000.0</td>\n",
       "      <td>embrun canada</td>\n",
       "      <td>NaN</td>\n",
       "    </tr>\n",
       "    <tr>\n",
       "      <th>14</th>\n",
       "      <td>image processor</td>\n",
       "      <td>IT</td>\n",
       "      <td>england</td>\n",
       "      <td>9200.0</td>\n",
       "      <td>london</td>\n",
       "      <td>NaN</td>\n",
       "    </tr>\n",
       "    <tr>\n",
       "      <th>15</th>\n",
       "      <td>reactjs developer</td>\n",
       "      <td>IT</td>\n",
       "      <td>russia</td>\n",
       "      <td>4000.0</td>\n",
       "      <td>beijing</td>\n",
       "      <td>NaN</td>\n",
       "    </tr>\n",
       "    <tr>\n",
       "      <th>16</th>\n",
       "      <td>query support</td>\n",
       "      <td>IT</td>\n",
       "      <td>north boston</td>\n",
       "      <td>18000.0</td>\n",
       "      <td>german</td>\n",
       "      <td>NaN</td>\n",
       "    </tr>\n",
       "    <tr>\n",
       "      <th>17</th>\n",
       "      <td>angularjs developer</td>\n",
       "      <td>IT</td>\n",
       "      <td>moscow</td>\n",
       "      <td>92000.0</td>\n",
       "      <td>moscow</td>\n",
       "      <td>NaN</td>\n",
       "    </tr>\n",
       "    <tr>\n",
       "      <th>18</th>\n",
       "      <td>ds algo</td>\n",
       "      <td>IT</td>\n",
       "      <td>hyderabad</td>\n",
       "      <td>20000.0</td>\n",
       "      <td>ranivista hbd</td>\n",
       "      <td>NaN</td>\n",
       "    </tr>\n",
       "    <tr>\n",
       "      <th>19</th>\n",
       "      <td>electronics</td>\n",
       "      <td>IT</td>\n",
       "      <td>kenya</td>\n",
       "      <td>1000.0</td>\n",
       "      <td>mumbai</td>\n",
       "      <td>NaN</td>\n",
       "    </tr>\n",
       "    <tr>\n",
       "      <th>20</th>\n",
       "      <td>c sharp developer</td>\n",
       "      <td>IT</td>\n",
       "      <td>russia</td>\n",
       "      <td>5000.0</td>\n",
       "      <td>calicut</td>\n",
       "      <td>NaN</td>\n",
       "    </tr>\n",
       "    <tr>\n",
       "      <th>21</th>\n",
       "      <td>data preprocessig</td>\n",
       "      <td>IT</td>\n",
       "      <td>india</td>\n",
       "      <td>2000.0</td>\n",
       "      <td>bengaluru</td>\n",
       "      <td>NaN</td>\n",
       "    </tr>\n",
       "    <tr>\n",
       "      <th>22</th>\n",
       "      <td>data creating</td>\n",
       "      <td>IT</td>\n",
       "      <td>india</td>\n",
       "      <td>3000.0</td>\n",
       "      <td>hyderabad</td>\n",
       "      <td>NaN</td>\n",
       "    </tr>\n",
       "    <tr>\n",
       "      <th>23</th>\n",
       "      <td>content creater</td>\n",
       "      <td>IT</td>\n",
       "      <td>cuiping</td>\n",
       "      <td>300.0</td>\n",
       "      <td>hello</td>\n",
       "      <td>NaN</td>\n",
       "    </tr>\n",
       "    <tr>\n",
       "      <th>24</th>\n",
       "      <td>mentor</td>\n",
       "      <td>IT</td>\n",
       "      <td>losvegas</td>\n",
       "      <td>400.0</td>\n",
       "      <td>united states</td>\n",
       "      <td>NaN</td>\n",
       "    </tr>\n",
       "    <tr>\n",
       "      <th>25</th>\n",
       "      <td>racer</td>\n",
       "      <td>IT</td>\n",
       "      <td>san francisco</td>\n",
       "      <td>14000.0</td>\n",
       "      <td>watson</td>\n",
       "      <td>NaN</td>\n",
       "    </tr>\n",
       "    <tr>\n",
       "      <th>26</th>\n",
       "      <td>firewalldeveloper</td>\n",
       "      <td>IT</td>\n",
       "      <td>switzerland</td>\n",
       "      <td>4000.0</td>\n",
       "      <td>venice</td>\n",
       "      <td>NaN</td>\n",
       "    </tr>\n",
       "    <tr>\n",
       "      <th>27</th>\n",
       "      <td>racer</td>\n",
       "      <td>IT</td>\n",
       "      <td>caribean</td>\n",
       "      <td>15000.0</td>\n",
       "      <td>sparrow</td>\n",
       "      <td>NaN</td>\n",
       "    </tr>\n",
       "    <tr>\n",
       "      <th>28</th>\n",
       "      <td>c ++ developer</td>\n",
       "      <td>IT</td>\n",
       "      <td>moscow</td>\n",
       "      <td>55000.0</td>\n",
       "      <td>ville</td>\n",
       "      <td>NaN</td>\n",
       "    </tr>\n",
       "    <tr>\n",
       "      <th>29</th>\n",
       "      <td>c ++ developer</td>\n",
       "      <td>IT</td>\n",
       "      <td>moscow</td>\n",
       "      <td>55000.0</td>\n",
       "      <td>ville</td>\n",
       "      <td>NaN</td>\n",
       "    </tr>\n",
       "    <tr>\n",
       "      <th>30</th>\n",
       "      <td>guide</td>\n",
       "      <td>IT</td>\n",
       "      <td>qin dynasty</td>\n",
       "      <td>55000.0</td>\n",
       "      <td>china wall</td>\n",
       "      <td>NaN</td>\n",
       "    </tr>\n",
       "    <tr>\n",
       "      <th>31</th>\n",
       "      <td>plummer</td>\n",
       "      <td>IT</td>\n",
       "      <td>caribean bay</td>\n",
       "      <td>15000.0</td>\n",
       "      <td>xyz street</td>\n",
       "      <td>NaN</td>\n",
       "    </tr>\n",
       "    <tr>\n",
       "      <th>32</th>\n",
       "      <td>translator</td>\n",
       "      <td>IT</td>\n",
       "      <td>france</td>\n",
       "      <td>55000.0</td>\n",
       "      <td>paris tower</td>\n",
       "      <td>NaN</td>\n",
       "    </tr>\n",
       "    <tr>\n",
       "      <th>33</th>\n",
       "      <td>space scientist</td>\n",
       "      <td>IT</td>\n",
       "      <td>new jersey</td>\n",
       "      <td>65000.0</td>\n",
       "      <td>los angeles tower</td>\n",
       "      <td>NaN</td>\n",
       "    </tr>\n",
       "    <tr>\n",
       "      <th>34</th>\n",
       "      <td>astrounat</td>\n",
       "      <td>IT</td>\n",
       "      <td>mars bay</td>\n",
       "      <td>150000.0</td>\n",
       "      <td>xyz street</td>\n",
       "      <td>NaN</td>\n",
       "    </tr>\n",
       "    <tr>\n",
       "      <th>35</th>\n",
       "      <td>receptionist</td>\n",
       "      <td>IT</td>\n",
       "      <td>venus bay</td>\n",
       "      <td>14000.0</td>\n",
       "      <td>abz street</td>\n",
       "      <td>NaN</td>\n",
       "    </tr>\n",
       "    <tr>\n",
       "      <th>36</th>\n",
       "      <td>receptionist</td>\n",
       "      <td>IT</td>\n",
       "      <td>venus bay</td>\n",
       "      <td>14000.0</td>\n",
       "      <td>abz street</td>\n",
       "      <td>NaN</td>\n",
       "    </tr>\n",
       "    <tr>\n",
       "      <th>37</th>\n",
       "      <td>docker expert</td>\n",
       "      <td>IT</td>\n",
       "      <td>paris</td>\n",
       "      <td>65000.0</td>\n",
       "      <td>WTC angeles tower</td>\n",
       "      <td>NaN</td>\n",
       "    </tr>\n",
       "    <tr>\n",
       "      <th>38</th>\n",
       "      <td>type writing</td>\n",
       "      <td>IT</td>\n",
       "      <td>lamburgh</td>\n",
       "      <td>5000.0</td>\n",
       "      <td>magic st</td>\n",
       "      <td>NaN</td>\n",
       "    </tr>\n",
       "    <tr>\n",
       "      <th>39</th>\n",
       "      <td>director</td>\n",
       "      <td>IT</td>\n",
       "      <td>hollywood</td>\n",
       "      <td>39000.0</td>\n",
       "      <td>oscar street</td>\n",
       "      <td>600.0</td>\n",
       "    </tr>\n",
       "    <tr>\n",
       "      <th>40</th>\n",
       "      <td>pilot</td>\n",
       "      <td>IT</td>\n",
       "      <td>Airport city</td>\n",
       "      <td>60000.0</td>\n",
       "      <td>aeroplane str</td>\n",
       "      <td>600.0</td>\n",
       "    </tr>\n",
       "    <tr>\n",
       "      <th>41</th>\n",
       "      <td>firwall developer</td>\n",
       "      <td>devops</td>\n",
       "      <td>newyork</td>\n",
       "      <td>50000.0</td>\n",
       "      <td>baker st newjersey</td>\n",
       "      <td>NaN</td>\n",
       "    </tr>\n",
       "    <tr>\n",
       "      <th>42</th>\n",
       "      <td>python tutor</td>\n",
       "      <td>edu</td>\n",
       "      <td>france</td>\n",
       "      <td>20000.0</td>\n",
       "      <td>paris,eiffel tower</td>\n",
       "      <td>600.0</td>\n",
       "    </tr>\n",
       "    <tr>\n",
       "      <th>43</th>\n",
       "      <td>gardner</td>\n",
       "      <td>Agri cultural</td>\n",
       "      <td>umbrella</td>\n",
       "      <td>4000.0</td>\n",
       "      <td>drawing street</td>\n",
       "      <td>NaN</td>\n",
       "    </tr>\n",
       "    <tr>\n",
       "      <th>44</th>\n",
       "      <td>lawn maintenance</td>\n",
       "      <td>Decoration</td>\n",
       "      <td>alaska</td>\n",
       "      <td>39000.0</td>\n",
       "      <td>slaugter street</td>\n",
       "      <td>NaN</td>\n",
       "    </tr>\n",
       "    <tr>\n",
       "      <th>45</th>\n",
       "      <td>data engineer</td>\n",
       "      <td>data processes</td>\n",
       "      <td>sony</td>\n",
       "      <td>5000.0</td>\n",
       "      <td>info street</td>\n",
       "      <td>900.0</td>\n",
       "    </tr>\n",
       "    <tr>\n",
       "      <th>46</th>\n",
       "      <td>musician</td>\n",
       "      <td>music</td>\n",
       "      <td>sony</td>\n",
       "      <td>5000.0</td>\n",
       "      <td>info street</td>\n",
       "      <td>900.0</td>\n",
       "    </tr>\n",
       "    <tr>\n",
       "      <th>47</th>\n",
       "      <td>photographer</td>\n",
       "      <td>art</td>\n",
       "      <td>san franscisco</td>\n",
       "      <td>9000.0</td>\n",
       "      <td>art street</td>\n",
       "      <td>1200.0</td>\n",
       "    </tr>\n",
       "    <tr>\n",
       "      <th>48</th>\n",
       "      <td>docker expert</td>\n",
       "      <td>cloud computing</td>\n",
       "      <td>ontorio</td>\n",
       "      <td>65000.0</td>\n",
       "      <td>WTC angeles tower, paris</td>\n",
       "      <td>370.0</td>\n",
       "    </tr>\n",
       "    <tr>\n",
       "      <th>49</th>\n",
       "      <td>driver</td>\n",
       "      <td>car</td>\n",
       "      <td>toronto</td>\n",
       "      <td>65000.0</td>\n",
       "      <td>WTC angeles tower, canada</td>\n",
       "      <td>370.0</td>\n",
       "    </tr>\n",
       "  </tbody>\n",
       "</table>\n",
       "</div>"
      ],
      "text/plain": [
       "                         job             dept               city       sal  \\\n",
       "0                  front end               IT       washingto dc   35000.0   \n",
       "1                backend end               IT  bleeker street dc   40000.0   \n",
       "2                         AI               IT       manhatton dc   50000.0   \n",
       "3               ML developer               IT      san francisco   11000.0   \n",
       "4               data analyst               IT        los angeles   70000.0   \n",
       "5                AI engineer               IT      san francisco   90000.0   \n",
       "6                    dev ops               IT             alaska   25000.0   \n",
       "7             cloud engineer               IT            florida   35000.0   \n",
       "8                        ceo            admin            newyork  300000.0   \n",
       "9                AI engineer               IT             Embrun   11000.0   \n",
       "10              IOT engineer               IT      united states   20000.0   \n",
       "11           data maintainer               IT      paris england    9000.0   \n",
       "12  computer vision engineer               IT      united states   19000.0   \n",
       "13             data arcitect               IT            florida    7000.0   \n",
       "14           image processor               IT            england    9200.0   \n",
       "15         reactjs developer               IT             russia    4000.0   \n",
       "16             query support               IT       north boston   18000.0   \n",
       "17       angularjs developer               IT             moscow   92000.0   \n",
       "18                   ds algo               IT          hyderabad   20000.0   \n",
       "19               electronics               IT              kenya    1000.0   \n",
       "20         c sharp developer               IT             russia    5000.0   \n",
       "21         data preprocessig               IT              india    2000.0   \n",
       "22             data creating               IT              india    3000.0   \n",
       "23           content creater               IT            cuiping     300.0   \n",
       "24                    mentor               IT           losvegas     400.0   \n",
       "25                     racer               IT      san francisco   14000.0   \n",
       "26         firewalldeveloper               IT        switzerland    4000.0   \n",
       "27                     racer               IT           caribean   15000.0   \n",
       "28            c ++ developer               IT             moscow   55000.0   \n",
       "29            c ++ developer               IT             moscow   55000.0   \n",
       "30                     guide               IT        qin dynasty   55000.0   \n",
       "31                   plummer               IT       caribean bay   15000.0   \n",
       "32                translator               IT             france   55000.0   \n",
       "33           space scientist               IT         new jersey   65000.0   \n",
       "34                 astrounat               IT           mars bay  150000.0   \n",
       "35              receptionist               IT          venus bay   14000.0   \n",
       "36              receptionist               IT          venus bay   14000.0   \n",
       "37             docker expert               IT              paris   65000.0   \n",
       "38              type writing               IT           lamburgh    5000.0   \n",
       "39                  director               IT          hollywood   39000.0   \n",
       "40                     pilot               IT       Airport city   60000.0   \n",
       "41         firwall developer           devops            newyork   50000.0   \n",
       "42              python tutor              edu             france   20000.0   \n",
       "43                   gardner    Agri cultural           umbrella    4000.0   \n",
       "44          lawn maintenance       Decoration             alaska   39000.0   \n",
       "45             data engineer   data processes               sony    5000.0   \n",
       "46                  musician            music               sony    5000.0   \n",
       "47              photographer              art     san franscisco    9000.0   \n",
       "48             docker expert  cloud computing            ontorio   65000.0   \n",
       "49                    driver              car            toronto   65000.0   \n",
       "\n",
       "                      address  incentive  \n",
       "0            sanfrancisco, us        NaN  \n",
       "1               los vegas, us        NaN  \n",
       "2             los angeles, us        NaN  \n",
       "3              str1 manhattan        NaN  \n",
       "4              str1 manhattan        NaN  \n",
       "5                    baker st        NaN  \n",
       "6              chris st,11223        NaN  \n",
       "7              evans st,11223        NaN  \n",
       "8                manhattan st        NaN  \n",
       "9               Boston Canada        NaN  \n",
       "10                  new jersy        NaN  \n",
       "11              embrun canada        NaN  \n",
       "12                      texas        NaN  \n",
       "13              embrun canada        NaN  \n",
       "14                     london        NaN  \n",
       "15                    beijing        NaN  \n",
       "16                     german        NaN  \n",
       "17                     moscow        NaN  \n",
       "18              ranivista hbd        NaN  \n",
       "19                     mumbai        NaN  \n",
       "20                    calicut        NaN  \n",
       "21                  bengaluru        NaN  \n",
       "22                  hyderabad        NaN  \n",
       "23                      hello        NaN  \n",
       "24              united states        NaN  \n",
       "25                     watson        NaN  \n",
       "26                     venice        NaN  \n",
       "27                    sparrow        NaN  \n",
       "28                      ville        NaN  \n",
       "29                      ville        NaN  \n",
       "30                 china wall        NaN  \n",
       "31                 xyz street        NaN  \n",
       "32                paris tower        NaN  \n",
       "33          los angeles tower        NaN  \n",
       "34                 xyz street        NaN  \n",
       "35                 abz street        NaN  \n",
       "36                 abz street        NaN  \n",
       "37          WTC angeles tower        NaN  \n",
       "38                   magic st        NaN  \n",
       "39               oscar street      600.0  \n",
       "40              aeroplane str      600.0  \n",
       "41         baker st newjersey        NaN  \n",
       "42         paris,eiffel tower      600.0  \n",
       "43             drawing street        NaN  \n",
       "44            slaugter street        NaN  \n",
       "45                info street      900.0  \n",
       "46                info street      900.0  \n",
       "47                 art street     1200.0  \n",
       "48   WTC angeles tower, paris      370.0  \n",
       "49  WTC angeles tower, canada      370.0  "
      ]
     },
     "execution_count": 59,
     "metadata": {},
     "output_type": "execute_result"
    }
   ],
   "source": [
    "import pandas as pd\n",
    "\n",
    "from mysql import connector\n",
    "connection = connector.connect(user = \"root\", password = \"12345\", host = \"localhost\", db = \"emp\")\n",
    "df = pd.read_sql('SELECT * FROM empcopy', connection)\n",
    "df\n"
   ]
  },
  {
   "cell_type": "code",
   "execution_count": 60,
   "id": "740b7a6f-036b-46c4-9587-a8944b435502",
   "metadata": {},
   "outputs": [],
   "source": [
    "df = pd.read_csv(\"employee.csv\")\n",
    "#df.mean()  # only if the each col is numeric it will work\n"
   ]
  },
  {
   "cell_type": "code",
   "execution_count": 61,
   "id": "2990dd50-d9da-4ba6-aef8-1d03b19c621b",
   "metadata": {},
   "outputs": [
    {
     "data": {
      "text/plain": [
       "exp          4.857143\n",
       "salary    4714.285714\n",
       "dtype: float64"
      ]
     },
     "execution_count": 61,
     "metadata": {},
     "output_type": "execute_result"
    }
   ],
   "source": [
    "df[[\"exp\", \"salary\"]].mean()"
   ]
  },
  {
   "cell_type": "code",
   "execution_count": 62,
   "id": "e7249344-3e41-4315-8be6-2b2d4d6093a4",
   "metadata": {},
   "outputs": [
    {
     "data": {
      "text/html": [
       "<div>\n",
       "<style scoped>\n",
       "    .dataframe tbody tr th:only-of-type {\n",
       "        vertical-align: middle;\n",
       "    }\n",
       "\n",
       "    .dataframe tbody tr th {\n",
       "        vertical-align: top;\n",
       "    }\n",
       "\n",
       "    .dataframe thead th {\n",
       "        text-align: right;\n",
       "    }\n",
       "</style>\n",
       "<table border=\"1\" class=\"dataframe\">\n",
       "  <thead>\n",
       "    <tr style=\"text-align: right;\">\n",
       "      <th></th>\n",
       "      <th>name</th>\n",
       "      <th>salary</th>\n",
       "      <th>exp</th>\n",
       "      <th>city</th>\n",
       "      <th>age</th>\n",
       "      <th>Gender</th>\n",
       "    </tr>\n",
       "  </thead>\n",
       "  <tbody>\n",
       "    <tr>\n",
       "      <th>0</th>\n",
       "      <td>john</td>\n",
       "      <td>3000.0</td>\n",
       "      <td>4.0</td>\n",
       "      <td>losvegas</td>\n",
       "      <td>30</td>\n",
       "      <td>Male</td>\n",
       "    </tr>\n",
       "    <tr>\n",
       "      <th>1</th>\n",
       "      <td>doe</td>\n",
       "      <td>4000.0</td>\n",
       "      <td>5.0</td>\n",
       "      <td>dc</td>\n",
       "      <td>25</td>\n",
       "      <td>Female</td>\n",
       "    </tr>\n",
       "    <tr>\n",
       "      <th>2</th>\n",
       "      <td>robert</td>\n",
       "      <td>8000.0</td>\n",
       "      <td>6.0</td>\n",
       "      <td>paris</td>\n",
       "      <td>27</td>\n",
       "      <td>Male</td>\n",
       "    </tr>\n",
       "    <tr>\n",
       "      <th>3</th>\n",
       "      <td>chris</td>\n",
       "      <td>9000.0</td>\n",
       "      <td>7.0</td>\n",
       "      <td>newyork</td>\n",
       "      <td>24</td>\n",
       "      <td>Female</td>\n",
       "    </tr>\n",
       "    <tr>\n",
       "      <th>4</th>\n",
       "      <td>NaN</td>\n",
       "      <td>3000.0</td>\n",
       "      <td>NaN</td>\n",
       "      <td>losvegas</td>\n",
       "      <td>35</td>\n",
       "      <td>Male</td>\n",
       "    </tr>\n",
       "    <tr>\n",
       "      <th>5</th>\n",
       "      <td>john</td>\n",
       "      <td>3000.0</td>\n",
       "      <td>4.0</td>\n",
       "      <td>losvegas</td>\n",
       "      <td>33</td>\n",
       "      <td>Female</td>\n",
       "    </tr>\n",
       "    <tr>\n",
       "      <th>6</th>\n",
       "      <td>evans</td>\n",
       "      <td>NaN</td>\n",
       "      <td>4.0</td>\n",
       "      <td>losvegas</td>\n",
       "      <td>31</td>\n",
       "      <td>Male</td>\n",
       "    </tr>\n",
       "    <tr>\n",
       "      <th>7</th>\n",
       "      <td>tom</td>\n",
       "      <td>3000.0</td>\n",
       "      <td>4.0</td>\n",
       "      <td>NaN</td>\n",
       "      <td>37</td>\n",
       "      <td>Female</td>\n",
       "    </tr>\n",
       "  </tbody>\n",
       "</table>\n",
       "</div>"
      ],
      "text/plain": [
       "     name  salary  exp      city  age  Gender\n",
       "0    john  3000.0  4.0  losvegas   30    Male\n",
       "1     doe  4000.0  5.0        dc   25  Female\n",
       "2  robert  8000.0  6.0     paris   27    Male\n",
       "3   chris  9000.0  7.0   newyork   24  Female\n",
       "4     NaN  3000.0  NaN  losvegas   35    Male\n",
       "5    john  3000.0  4.0  losvegas   33  Female\n",
       "6   evans     NaN  4.0  losvegas   31    Male\n",
       "7     tom  3000.0  4.0       NaN   37  Female"
      ]
     },
     "execution_count": 62,
     "metadata": {},
     "output_type": "execute_result"
    }
   ],
   "source": [
    "df"
   ]
  },
  {
   "cell_type": "code",
   "execution_count": 72,
   "id": "1fe5e44c-dd6d-489e-b03f-a173bf64e459",
   "metadata": {},
   "outputs": [
    {
     "data": {
      "text/html": [
       "<div>\n",
       "<style scoped>\n",
       "    .dataframe tbody tr th:only-of-type {\n",
       "        vertical-align: middle;\n",
       "    }\n",
       "\n",
       "    .dataframe tbody tr th {\n",
       "        vertical-align: top;\n",
       "    }\n",
       "\n",
       "    .dataframe thead th {\n",
       "        text-align: right;\n",
       "    }\n",
       "</style>\n",
       "<table border=\"1\" class=\"dataframe\">\n",
       "  <thead>\n",
       "    <tr style=\"text-align: right;\">\n",
       "      <th></th>\n",
       "      <th>name</th>\n",
       "      <th>salary</th>\n",
       "      <th>exp</th>\n",
       "      <th>age</th>\n",
       "      <th>Gender</th>\n",
       "    </tr>\n",
       "    <tr>\n",
       "      <th>city</th>\n",
       "      <th></th>\n",
       "      <th></th>\n",
       "      <th></th>\n",
       "      <th></th>\n",
       "      <th></th>\n",
       "    </tr>\n",
       "  </thead>\n",
       "  <tbody>\n",
       "    <tr>\n",
       "      <th>dc</th>\n",
       "      <td>doe</td>\n",
       "      <td>4000.0</td>\n",
       "      <td>5.0</td>\n",
       "      <td>25</td>\n",
       "      <td>Female</td>\n",
       "    </tr>\n",
       "    <tr>\n",
       "      <th>paris</th>\n",
       "      <td>robert</td>\n",
       "      <td>8000.0</td>\n",
       "      <td>6.0</td>\n",
       "      <td>27</td>\n",
       "      <td>Male</td>\n",
       "    </tr>\n",
       "    <tr>\n",
       "      <th>losvegas</th>\n",
       "      <td>johnjohnevans</td>\n",
       "      <td>9000.0</td>\n",
       "      <td>12.0</td>\n",
       "      <td>129</td>\n",
       "      <td>MaleMaleFemaleMale</td>\n",
       "    </tr>\n",
       "    <tr>\n",
       "      <th>newyork</th>\n",
       "      <td>chris</td>\n",
       "      <td>9000.0</td>\n",
       "      <td>7.0</td>\n",
       "      <td>24</td>\n",
       "      <td>Female</td>\n",
       "    </tr>\n",
       "  </tbody>\n",
       "</table>\n",
       "</div>"
      ],
      "text/plain": [
       "                   name  salary   exp  age              Gender\n",
       "city                                                          \n",
       " dc                 doe  4000.0   5.0   25              Female\n",
       " paris           robert  8000.0   6.0   27                Male\n",
       "losvegas  johnjohnevans  9000.0  12.0  129  MaleMaleFemaleMale\n",
       "newyork           chris  9000.0   7.0   24              Female"
      ]
     },
     "execution_count": 72,
     "metadata": {},
     "output_type": "execute_result"
    }
   ],
   "source": [
    "df.groupby('city').sum()  # Group data by column 'A' and sum\n"
   ]
  },
  {
   "cell_type": "code",
   "execution_count": 73,
   "id": "6a6ea8db-affa-4357-9696-1e693f72a377",
   "metadata": {},
   "outputs": [
    {
     "data": {
      "text/html": [
       "<div>\n",
       "<style scoped>\n",
       "    .dataframe tbody tr th:only-of-type {\n",
       "        vertical-align: middle;\n",
       "    }\n",
       "\n",
       "    .dataframe tbody tr th {\n",
       "        vertical-align: top;\n",
       "    }\n",
       "\n",
       "    .dataframe thead th {\n",
       "        text-align: right;\n",
       "    }\n",
       "</style>\n",
       "<table border=\"1\" class=\"dataframe\">\n",
       "  <thead>\n",
       "    <tr style=\"text-align: right;\">\n",
       "      <th></th>\n",
       "      <th>name</th>\n",
       "      <th>salary</th>\n",
       "      <th>exp</th>\n",
       "      <th>age</th>\n",
       "      <th>Gender</th>\n",
       "    </tr>\n",
       "    <tr>\n",
       "      <th>city</th>\n",
       "      <th></th>\n",
       "      <th></th>\n",
       "      <th></th>\n",
       "      <th></th>\n",
       "      <th></th>\n",
       "    </tr>\n",
       "  </thead>\n",
       "  <tbody>\n",
       "    <tr>\n",
       "      <th>dc</th>\n",
       "      <td>doe</td>\n",
       "      <td>4000.0</td>\n",
       "      <td>5.0</td>\n",
       "      <td>25</td>\n",
       "      <td>Female</td>\n",
       "    </tr>\n",
       "    <tr>\n",
       "      <th>paris</th>\n",
       "      <td>robert</td>\n",
       "      <td>8000.0</td>\n",
       "      <td>6.0</td>\n",
       "      <td>27</td>\n",
       "      <td>Male</td>\n",
       "    </tr>\n",
       "    <tr>\n",
       "      <th>losvegas</th>\n",
       "      <td>johnjohnevans</td>\n",
       "      <td>9000.0</td>\n",
       "      <td>12.0</td>\n",
       "      <td>129</td>\n",
       "      <td>MaleMaleFemaleMale</td>\n",
       "    </tr>\n",
       "    <tr>\n",
       "      <th>newyork</th>\n",
       "      <td>chris</td>\n",
       "      <td>9000.0</td>\n",
       "      <td>7.0</td>\n",
       "      <td>24</td>\n",
       "      <td>Female</td>\n",
       "    </tr>\n",
       "  </tbody>\n",
       "</table>\n",
       "</div>"
      ],
      "text/plain": [
       "                   name  salary   exp  age              Gender\n",
       "city                                                          \n",
       " dc                 doe  4000.0   5.0   25              Female\n",
       " paris           robert  8000.0   6.0   27                Male\n",
       "losvegas  johnjohnevans  9000.0  12.0  129  MaleMaleFemaleMale\n",
       "newyork           chris  9000.0   7.0   24              Female"
      ]
     },
     "execution_count": 73,
     "metadata": {},
     "output_type": "execute_result"
    }
   ],
   "source": [
    "df.groupby('city').sum()  # Group data by column 'A' and sum\n"
   ]
  },
  {
   "cell_type": "code",
   "execution_count": 74,
   "id": "335a9617-f04a-4746-af1b-c0f93678c81d",
   "metadata": {},
   "outputs": [
    {
     "data": {
      "text/html": [
       "<div>\n",
       "<style scoped>\n",
       "    .dataframe tbody tr th:only-of-type {\n",
       "        vertical-align: middle;\n",
       "    }\n",
       "\n",
       "    .dataframe tbody tr th {\n",
       "        vertical-align: top;\n",
       "    }\n",
       "\n",
       "    .dataframe thead th {\n",
       "        text-align: right;\n",
       "    }\n",
       "</style>\n",
       "<table border=\"1\" class=\"dataframe\">\n",
       "  <thead>\n",
       "    <tr style=\"text-align: right;\">\n",
       "      <th></th>\n",
       "      <th>salary</th>\n",
       "      <th>exp</th>\n",
       "      <th>age</th>\n",
       "    </tr>\n",
       "    <tr>\n",
       "      <th>city</th>\n",
       "      <th></th>\n",
       "      <th></th>\n",
       "      <th></th>\n",
       "    </tr>\n",
       "  </thead>\n",
       "  <tbody>\n",
       "    <tr>\n",
       "      <th>dc</th>\n",
       "      <td>4000.0</td>\n",
       "      <td>5.0</td>\n",
       "      <td>25</td>\n",
       "    </tr>\n",
       "    <tr>\n",
       "      <th>paris</th>\n",
       "      <td>8000.0</td>\n",
       "      <td>6.0</td>\n",
       "      <td>27</td>\n",
       "    </tr>\n",
       "    <tr>\n",
       "      <th>losvegas</th>\n",
       "      <td>9000.0</td>\n",
       "      <td>12.0</td>\n",
       "      <td>129</td>\n",
       "    </tr>\n",
       "    <tr>\n",
       "      <th>newyork</th>\n",
       "      <td>9000.0</td>\n",
       "      <td>7.0</td>\n",
       "      <td>24</td>\n",
       "    </tr>\n",
       "  </tbody>\n",
       "</table>\n",
       "</div>"
      ],
      "text/plain": [
       "          salary   exp  age\n",
       "city                       \n",
       " dc       4000.0   5.0   25\n",
       " paris    8000.0   6.0   27\n",
       "losvegas  9000.0  12.0  129\n",
       "newyork   9000.0   7.0   24"
      ]
     },
     "execution_count": 74,
     "metadata": {},
     "output_type": "execute_result"
    }
   ],
   "source": [
    "df.groupby('city').sum([\"exp\"])  # Group data by column 'A' and sum\n"
   ]
  },
  {
   "cell_type": "code",
   "execution_count": 1,
   "id": "b8dccbc0-a668-47d6-b338-d07f92a036bd",
   "metadata": {},
   "outputs": [
    {
     "name": "stdout",
     "output_type": "stream",
     "text": [
      "   A\n",
      "0  1\n",
      "1  2\n",
      "2  3\n",
      "   B\n",
      "0  4\n",
      "1  5\n",
      "2  6\n"
     ]
    },
    {
     "data": {
      "text/html": [
       "<div>\n",
       "<style scoped>\n",
       "    .dataframe tbody tr th:only-of-type {\n",
       "        vertical-align: middle;\n",
       "    }\n",
       "\n",
       "    .dataframe tbody tr th {\n",
       "        vertical-align: top;\n",
       "    }\n",
       "\n",
       "    .dataframe thead th {\n",
       "        text-align: right;\n",
       "    }\n",
       "</style>\n",
       "<table border=\"1\" class=\"dataframe\">\n",
       "  <thead>\n",
       "    <tr style=\"text-align: right;\">\n",
       "      <th></th>\n",
       "      <th>A</th>\n",
       "      <th>B</th>\n",
       "    </tr>\n",
       "  </thead>\n",
       "  <tbody>\n",
       "    <tr>\n",
       "      <th>0</th>\n",
       "      <td>1</td>\n",
       "      <td>4</td>\n",
       "    </tr>\n",
       "    <tr>\n",
       "      <th>1</th>\n",
       "      <td>2</td>\n",
       "      <td>5</td>\n",
       "    </tr>\n",
       "    <tr>\n",
       "      <th>2</th>\n",
       "      <td>3</td>\n",
       "      <td>6</td>\n",
       "    </tr>\n",
       "  </tbody>\n",
       "</table>\n",
       "</div>"
      ],
      "text/plain": [
       "   A  B\n",
       "0  1  4\n",
       "1  2  5\n",
       "2  3  6"
      ]
     },
     "execution_count": 1,
     "metadata": {},
     "output_type": "execute_result"
    }
   ],
   "source": [
    "import pandas as pd\n",
    "df1 = pd.DataFrame({'A': [1, 2, 3]})\n",
    "df2 = pd.DataFrame({'B': [4, 5, 6]})\n",
    "print(df1)\n",
    "print(df2)\n",
    "result = pd.concat([df1, df2], axis=1)  # row based adding\n",
    "result\n"
   ]
  },
  {
   "cell_type": "code",
   "execution_count": 2,
   "id": "5f0c3a12-2e84-4012-a013-574671f2585d",
   "metadata": {},
   "outputs": [
    {
     "name": "stdout",
     "output_type": "stream",
     "text": [
      "   A\n",
      "0  1\n",
      "1  2\n",
      "2  3\n",
      "   B\n",
      "0  4\n",
      "1  5\n",
      "2  6\n"
     ]
    },
    {
     "data": {
      "text/html": [
       "<div>\n",
       "<style scoped>\n",
       "    .dataframe tbody tr th:only-of-type {\n",
       "        vertical-align: middle;\n",
       "    }\n",
       "\n",
       "    .dataframe tbody tr th {\n",
       "        vertical-align: top;\n",
       "    }\n",
       "\n",
       "    .dataframe thead th {\n",
       "        text-align: right;\n",
       "    }\n",
       "</style>\n",
       "<table border=\"1\" class=\"dataframe\">\n",
       "  <thead>\n",
       "    <tr style=\"text-align: right;\">\n",
       "      <th></th>\n",
       "      <th>A</th>\n",
       "      <th>B</th>\n",
       "    </tr>\n",
       "  </thead>\n",
       "  <tbody>\n",
       "    <tr>\n",
       "      <th>0</th>\n",
       "      <td>1.0</td>\n",
       "      <td>NaN</td>\n",
       "    </tr>\n",
       "    <tr>\n",
       "      <th>1</th>\n",
       "      <td>2.0</td>\n",
       "      <td>NaN</td>\n",
       "    </tr>\n",
       "    <tr>\n",
       "      <th>2</th>\n",
       "      <td>3.0</td>\n",
       "      <td>NaN</td>\n",
       "    </tr>\n",
       "    <tr>\n",
       "      <th>0</th>\n",
       "      <td>NaN</td>\n",
       "      <td>4.0</td>\n",
       "    </tr>\n",
       "    <tr>\n",
       "      <th>1</th>\n",
       "      <td>NaN</td>\n",
       "      <td>5.0</td>\n",
       "    </tr>\n",
       "    <tr>\n",
       "      <th>2</th>\n",
       "      <td>NaN</td>\n",
       "      <td>6.0</td>\n",
       "    </tr>\n",
       "  </tbody>\n",
       "</table>\n",
       "</div>"
      ],
      "text/plain": [
       "     A    B\n",
       "0  1.0  NaN\n",
       "1  2.0  NaN\n",
       "2  3.0  NaN\n",
       "0  NaN  4.0\n",
       "1  NaN  5.0\n",
       "2  NaN  6.0"
      ]
     },
     "execution_count": 2,
     "metadata": {},
     "output_type": "execute_result"
    }
   ],
   "source": [
    "df1 = pd.DataFrame({'A': [1, 2, 3]})\n",
    "df2 = pd.DataFrame({'B': [4, 5, 6]})\n",
    "print(df1)\n",
    "print(df2)\n",
    "result = pd.concat([df1, df2], axis=0)  # column based adding\n",
    "result\n"
   ]
  },
  {
   "cell_type": "code",
   "execution_count": 3,
   "id": "eab745e0-4142-45f0-98fb-84a945d0d947",
   "metadata": {},
   "outputs": [
    {
     "name": "stdout",
     "output_type": "stream",
     "text": [
      "  key  value\n",
      "0   A      1\n",
      "1   B      2\n",
      "2   C      3\n",
      "  key  value\n",
      "0   A      4\n",
      "1   B      5\n",
      "2   D      6\n"
     ]
    },
    {
     "data": {
      "text/html": [
       "<div>\n",
       "<style scoped>\n",
       "    .dataframe tbody tr th:only-of-type {\n",
       "        vertical-align: middle;\n",
       "    }\n",
       "\n",
       "    .dataframe tbody tr th {\n",
       "        vertical-align: top;\n",
       "    }\n",
       "\n",
       "    .dataframe thead th {\n",
       "        text-align: right;\n",
       "    }\n",
       "</style>\n",
       "<table border=\"1\" class=\"dataframe\">\n",
       "  <thead>\n",
       "    <tr style=\"text-align: right;\">\n",
       "      <th></th>\n",
       "      <th>key</th>\n",
       "      <th>value_x</th>\n",
       "      <th>value_y</th>\n",
       "    </tr>\n",
       "  </thead>\n",
       "  <tbody>\n",
       "    <tr>\n",
       "      <th>0</th>\n",
       "      <td>A</td>\n",
       "      <td>1</td>\n",
       "      <td>4</td>\n",
       "    </tr>\n",
       "    <tr>\n",
       "      <th>1</th>\n",
       "      <td>B</td>\n",
       "      <td>2</td>\n",
       "      <td>5</td>\n",
       "    </tr>\n",
       "  </tbody>\n",
       "</table>\n",
       "</div>"
      ],
      "text/plain": [
       "  key  value_x  value_y\n",
       "0   A        1        4\n",
       "1   B        2        5"
      ]
     },
     "execution_count": 3,
     "metadata": {},
     "output_type": "execute_result"
    }
   ],
   "source": [
    "left = pd.DataFrame({'key': ['A', 'B', 'C'], 'value': [1, 2, 3]})\n",
    "right = pd.DataFrame({'key': ['A', 'B', 'D'], 'value': [4, 5, 6]})\n",
    "print(left)\n",
    "print(right)\n",
    "merged = pd.merge(left, right, on='key', how='inner')\n",
    "merged"
   ]
  },
  {
   "cell_type": "code",
   "execution_count": 4,
   "id": "8a0135e9-f980-4cd1-95f5-750ecae52fea",
   "metadata": {},
   "outputs": [
    {
     "name": "stdout",
     "output_type": "stream",
     "text": [
      "  key  value\n",
      "0   A      1\n",
      "1   B      2\n",
      "2   C      3\n",
      "  key  value\n",
      "0   A      4\n",
      "1   B      5\n",
      "2   D      6\n"
     ]
    },
    {
     "data": {
      "text/html": [
       "<div>\n",
       "<style scoped>\n",
       "    .dataframe tbody tr th:only-of-type {\n",
       "        vertical-align: middle;\n",
       "    }\n",
       "\n",
       "    .dataframe tbody tr th {\n",
       "        vertical-align: top;\n",
       "    }\n",
       "\n",
       "    .dataframe thead th {\n",
       "        text-align: right;\n",
       "    }\n",
       "</style>\n",
       "<table border=\"1\" class=\"dataframe\">\n",
       "  <thead>\n",
       "    <tr style=\"text-align: right;\">\n",
       "      <th></th>\n",
       "      <th>key</th>\n",
       "      <th>value_x</th>\n",
       "      <th>value_y</th>\n",
       "    </tr>\n",
       "  </thead>\n",
       "  <tbody>\n",
       "    <tr>\n",
       "      <th>0</th>\n",
       "      <td>A</td>\n",
       "      <td>1.0</td>\n",
       "      <td>4.0</td>\n",
       "    </tr>\n",
       "    <tr>\n",
       "      <th>1</th>\n",
       "      <td>B</td>\n",
       "      <td>2.0</td>\n",
       "      <td>5.0</td>\n",
       "    </tr>\n",
       "    <tr>\n",
       "      <th>2</th>\n",
       "      <td>C</td>\n",
       "      <td>3.0</td>\n",
       "      <td>NaN</td>\n",
       "    </tr>\n",
       "    <tr>\n",
       "      <th>3</th>\n",
       "      <td>D</td>\n",
       "      <td>NaN</td>\n",
       "      <td>6.0</td>\n",
       "    </tr>\n",
       "  </tbody>\n",
       "</table>\n",
       "</div>"
      ],
      "text/plain": [
       "  key  value_x  value_y\n",
       "0   A      1.0      4.0\n",
       "1   B      2.0      5.0\n",
       "2   C      3.0      NaN\n",
       "3   D      NaN      6.0"
      ]
     },
     "execution_count": 4,
     "metadata": {},
     "output_type": "execute_result"
    }
   ],
   "source": [
    "left = pd.DataFrame({'key': ['A', 'B', 'C'], 'value': [1, 2, 3]})\n",
    "right = pd.DataFrame({'key': ['A', 'B', 'D'], 'value': [4, 5, 6]})\n",
    "print(left)\n",
    "print(right)\n",
    "merged = pd.merge(left, right, on='key', how='outer')\n",
    "merged"
   ]
  },
  {
   "cell_type": "code",
   "execution_count": 5,
   "id": "55019799-9a15-48af-b3a4-f8f2cc21ab42",
   "metadata": {},
   "outputs": [
    {
     "name": "stdout",
     "output_type": "stream",
     "text": [
      "  key  value\n",
      "0   A      1\n",
      "1   B      2\n",
      "2   C      3\n",
      "  key  value\n",
      "0   A      4\n",
      "1   B      5\n",
      "2   D      6\n"
     ]
    },
    {
     "data": {
      "text/html": [
       "<div>\n",
       "<style scoped>\n",
       "    .dataframe tbody tr th:only-of-type {\n",
       "        vertical-align: middle;\n",
       "    }\n",
       "\n",
       "    .dataframe tbody tr th {\n",
       "        vertical-align: top;\n",
       "    }\n",
       "\n",
       "    .dataframe thead th {\n",
       "        text-align: right;\n",
       "    }\n",
       "</style>\n",
       "<table border=\"1\" class=\"dataframe\">\n",
       "  <thead>\n",
       "    <tr style=\"text-align: right;\">\n",
       "      <th></th>\n",
       "      <th>key</th>\n",
       "      <th>value_x</th>\n",
       "      <th>value_y</th>\n",
       "    </tr>\n",
       "  </thead>\n",
       "  <tbody>\n",
       "    <tr>\n",
       "      <th>0</th>\n",
       "      <td>A</td>\n",
       "      <td>1</td>\n",
       "      <td>4.0</td>\n",
       "    </tr>\n",
       "    <tr>\n",
       "      <th>1</th>\n",
       "      <td>B</td>\n",
       "      <td>2</td>\n",
       "      <td>5.0</td>\n",
       "    </tr>\n",
       "    <tr>\n",
       "      <th>2</th>\n",
       "      <td>C</td>\n",
       "      <td>3</td>\n",
       "      <td>NaN</td>\n",
       "    </tr>\n",
       "  </tbody>\n",
       "</table>\n",
       "</div>"
      ],
      "text/plain": [
       "  key  value_x  value_y\n",
       "0   A        1      4.0\n",
       "1   B        2      5.0\n",
       "2   C        3      NaN"
      ]
     },
     "execution_count": 5,
     "metadata": {},
     "output_type": "execute_result"
    }
   ],
   "source": [
    "left = pd.DataFrame({'key': ['A', 'B', 'C'], 'value': [1, 2, 3]})\n",
    "right = pd.DataFrame({'key': ['A', 'B', 'D'], 'value': [4, 5, 6]})\n",
    "print(left)\n",
    "print(right)\n",
    "merged = pd.merge(left, right, on='key', how='left')\n",
    "merged"
   ]
  },
  {
   "cell_type": "code",
   "execution_count": 6,
   "id": "dfc5997d-b0b5-4688-acd6-0666de3ea51f",
   "metadata": {},
   "outputs": [
    {
     "name": "stdout",
     "output_type": "stream",
     "text": [
      "  key  value\n",
      "0   A      1\n",
      "1   B      2\n",
      "2   C      3\n",
      "  key  value\n",
      "0   A      4\n",
      "1   B      5\n",
      "2   D      6\n"
     ]
    },
    {
     "data": {
      "text/html": [
       "<div>\n",
       "<style scoped>\n",
       "    .dataframe tbody tr th:only-of-type {\n",
       "        vertical-align: middle;\n",
       "    }\n",
       "\n",
       "    .dataframe tbody tr th {\n",
       "        vertical-align: top;\n",
       "    }\n",
       "\n",
       "    .dataframe thead th {\n",
       "        text-align: right;\n",
       "    }\n",
       "</style>\n",
       "<table border=\"1\" class=\"dataframe\">\n",
       "  <thead>\n",
       "    <tr style=\"text-align: right;\">\n",
       "      <th></th>\n",
       "      <th>key</th>\n",
       "      <th>value_x</th>\n",
       "      <th>value_y</th>\n",
       "    </tr>\n",
       "  </thead>\n",
       "  <tbody>\n",
       "    <tr>\n",
       "      <th>0</th>\n",
       "      <td>A</td>\n",
       "      <td>1.0</td>\n",
       "      <td>4</td>\n",
       "    </tr>\n",
       "    <tr>\n",
       "      <th>1</th>\n",
       "      <td>B</td>\n",
       "      <td>2.0</td>\n",
       "      <td>5</td>\n",
       "    </tr>\n",
       "    <tr>\n",
       "      <th>2</th>\n",
       "      <td>D</td>\n",
       "      <td>NaN</td>\n",
       "      <td>6</td>\n",
       "    </tr>\n",
       "  </tbody>\n",
       "</table>\n",
       "</div>"
      ],
      "text/plain": [
       "  key  value_x  value_y\n",
       "0   A      1.0        4\n",
       "1   B      2.0        5\n",
       "2   D      NaN        6"
      ]
     },
     "execution_count": 6,
     "metadata": {},
     "output_type": "execute_result"
    }
   ],
   "source": [
    "left = pd.DataFrame({'key': ['A', 'B', 'C'], 'value': [1, 2, 3]})\n",
    "right = pd.DataFrame({'key': ['A', 'B', 'D'], 'value': [4, 5, 6]})\n",
    "print(left)\n",
    "print(right)\n",
    "merged = pd.merge(left, right, on='key', how='right')\n",
    "merged"
   ]
  },
  {
   "cell_type": "code",
   "execution_count": 7,
   "id": "2815701b-3fb3-4c2c-8b3d-43226f74d8e0",
   "metadata": {},
   "outputs": [
    {
     "data": {
      "text/html": [
       "<div>\n",
       "<style scoped>\n",
       "    .dataframe tbody tr th:only-of-type {\n",
       "        vertical-align: middle;\n",
       "    }\n",
       "\n",
       "    .dataframe tbody tr th {\n",
       "        vertical-align: top;\n",
       "    }\n",
       "\n",
       "    .dataframe thead th {\n",
       "        text-align: right;\n",
       "    }\n",
       "</style>\n",
       "<table border=\"1\" class=\"dataframe\">\n",
       "  <thead>\n",
       "    <tr style=\"text-align: right;\">\n",
       "      <th></th>\n",
       "      <th>name</th>\n",
       "      <th>salary</th>\n",
       "      <th>exp</th>\n",
       "      <th>city</th>\n",
       "      <th>age</th>\n",
       "      <th>Gender</th>\n",
       "      <th>Date</th>\n",
       "    </tr>\n",
       "  </thead>\n",
       "  <tbody>\n",
       "    <tr>\n",
       "      <th>0</th>\n",
       "      <td>john</td>\n",
       "      <td>3000.0</td>\n",
       "      <td>4.0</td>\n",
       "      <td>losvegas</td>\n",
       "      <td>30</td>\n",
       "      <td>Male</td>\n",
       "      <td>2024/08/12</td>\n",
       "    </tr>\n",
       "    <tr>\n",
       "      <th>1</th>\n",
       "      <td>doe</td>\n",
       "      <td>4000.0</td>\n",
       "      <td>5.0</td>\n",
       "      <td>dc</td>\n",
       "      <td>25</td>\n",
       "      <td>Female</td>\n",
       "      <td>2024/08/12</td>\n",
       "    </tr>\n",
       "    <tr>\n",
       "      <th>2</th>\n",
       "      <td>robert</td>\n",
       "      <td>8000.0</td>\n",
       "      <td>6.0</td>\n",
       "      <td>paris</td>\n",
       "      <td>27</td>\n",
       "      <td>Male</td>\n",
       "      <td>2024/08/12</td>\n",
       "    </tr>\n",
       "    <tr>\n",
       "      <th>3</th>\n",
       "      <td>chris</td>\n",
       "      <td>9000.0</td>\n",
       "      <td>7.0</td>\n",
       "      <td>newyork</td>\n",
       "      <td>24</td>\n",
       "      <td>Female</td>\n",
       "      <td>2024/08/12</td>\n",
       "    </tr>\n",
       "    <tr>\n",
       "      <th>4</th>\n",
       "      <td>NaN</td>\n",
       "      <td>3000.0</td>\n",
       "      <td>NaN</td>\n",
       "      <td>losvegas</td>\n",
       "      <td>35</td>\n",
       "      <td>Male</td>\n",
       "      <td>2024/08/12</td>\n",
       "    </tr>\n",
       "    <tr>\n",
       "      <th>5</th>\n",
       "      <td>john</td>\n",
       "      <td>3000.0</td>\n",
       "      <td>4.0</td>\n",
       "      <td>losvegas</td>\n",
       "      <td>33</td>\n",
       "      <td>Female</td>\n",
       "      <td>2024/08/12</td>\n",
       "    </tr>\n",
       "    <tr>\n",
       "      <th>6</th>\n",
       "      <td>evans</td>\n",
       "      <td>NaN</td>\n",
       "      <td>4.0</td>\n",
       "      <td>losvegas</td>\n",
       "      <td>31</td>\n",
       "      <td>Male</td>\n",
       "      <td>2024/08/12</td>\n",
       "    </tr>\n",
       "    <tr>\n",
       "      <th>7</th>\n",
       "      <td>tom</td>\n",
       "      <td>3000.0</td>\n",
       "      <td>4.0</td>\n",
       "      <td>NaN</td>\n",
       "      <td>37</td>\n",
       "      <td>Female</td>\n",
       "      <td>2024/08/12</td>\n",
       "    </tr>\n",
       "  </tbody>\n",
       "</table>\n",
       "</div>"
      ],
      "text/plain": [
       "     name  salary  exp      city  age  Gender        Date\n",
       "0    john  3000.0  4.0  losvegas   30    Male  2024/08/12\n",
       "1     doe  4000.0  5.0        dc   25  Female  2024/08/12\n",
       "2  robert  8000.0  6.0     paris   27    Male  2024/08/12\n",
       "3   chris  9000.0  7.0   newyork   24  Female  2024/08/12\n",
       "4     NaN  3000.0  NaN  losvegas   35    Male  2024/08/12\n",
       "5    john  3000.0  4.0  losvegas   33  Female  2024/08/12\n",
       "6   evans     NaN  4.0  losvegas   31    Male  2024/08/12\n",
       "7     tom  3000.0  4.0       NaN   37  Female  2024/08/12"
      ]
     },
     "execution_count": 7,
     "metadata": {},
     "output_type": "execute_result"
    }
   ],
   "source": [
    "df = pd.read_csv('employee.csv')\n",
    "df[\"Date\"] = \"2024/08/12\"\n",
    "df"
   ]
  },
  {
   "cell_type": "code",
   "execution_count": 8,
   "id": "aa4f641b-b2e7-431b-a61e-25057b155c15",
   "metadata": {},
   "outputs": [
    {
     "data": {
      "text/html": [
       "<div>\n",
       "<style scoped>\n",
       "    .dataframe tbody tr th:only-of-type {\n",
       "        vertical-align: middle;\n",
       "    }\n",
       "\n",
       "    .dataframe tbody tr th {\n",
       "        vertical-align: top;\n",
       "    }\n",
       "\n",
       "    .dataframe thead th {\n",
       "        text-align: right;\n",
       "    }\n",
       "</style>\n",
       "<table border=\"1\" class=\"dataframe\">\n",
       "  <thead>\n",
       "    <tr style=\"text-align: right;\">\n",
       "      <th></th>\n",
       "      <th>name</th>\n",
       "      <th>salary</th>\n",
       "      <th>exp</th>\n",
       "      <th>city</th>\n",
       "      <th>age</th>\n",
       "      <th>Gender</th>\n",
       "      <th>Date</th>\n",
       "    </tr>\n",
       "  </thead>\n",
       "  <tbody>\n",
       "    <tr>\n",
       "      <th>0</th>\n",
       "      <td>john</td>\n",
       "      <td>3000.0</td>\n",
       "      <td>4.0</td>\n",
       "      <td>losvegas</td>\n",
       "      <td>30</td>\n",
       "      <td>Male</td>\n",
       "      <td>2024-08-12</td>\n",
       "    </tr>\n",
       "    <tr>\n",
       "      <th>1</th>\n",
       "      <td>doe</td>\n",
       "      <td>4000.0</td>\n",
       "      <td>5.0</td>\n",
       "      <td>dc</td>\n",
       "      <td>25</td>\n",
       "      <td>Female</td>\n",
       "      <td>2024-08-12</td>\n",
       "    </tr>\n",
       "    <tr>\n",
       "      <th>2</th>\n",
       "      <td>robert</td>\n",
       "      <td>8000.0</td>\n",
       "      <td>6.0</td>\n",
       "      <td>paris</td>\n",
       "      <td>27</td>\n",
       "      <td>Male</td>\n",
       "      <td>2024-08-12</td>\n",
       "    </tr>\n",
       "    <tr>\n",
       "      <th>3</th>\n",
       "      <td>chris</td>\n",
       "      <td>9000.0</td>\n",
       "      <td>7.0</td>\n",
       "      <td>newyork</td>\n",
       "      <td>24</td>\n",
       "      <td>Female</td>\n",
       "      <td>2024-08-12</td>\n",
       "    </tr>\n",
       "    <tr>\n",
       "      <th>4</th>\n",
       "      <td>NaN</td>\n",
       "      <td>3000.0</td>\n",
       "      <td>NaN</td>\n",
       "      <td>losvegas</td>\n",
       "      <td>35</td>\n",
       "      <td>Male</td>\n",
       "      <td>2024-08-12</td>\n",
       "    </tr>\n",
       "    <tr>\n",
       "      <th>5</th>\n",
       "      <td>john</td>\n",
       "      <td>3000.0</td>\n",
       "      <td>4.0</td>\n",
       "      <td>losvegas</td>\n",
       "      <td>33</td>\n",
       "      <td>Female</td>\n",
       "      <td>2024-08-12</td>\n",
       "    </tr>\n",
       "    <tr>\n",
       "      <th>6</th>\n",
       "      <td>evans</td>\n",
       "      <td>NaN</td>\n",
       "      <td>4.0</td>\n",
       "      <td>losvegas</td>\n",
       "      <td>31</td>\n",
       "      <td>Male</td>\n",
       "      <td>2024-08-12</td>\n",
       "    </tr>\n",
       "    <tr>\n",
       "      <th>7</th>\n",
       "      <td>tom</td>\n",
       "      <td>3000.0</td>\n",
       "      <td>4.0</td>\n",
       "      <td>NaN</td>\n",
       "      <td>37</td>\n",
       "      <td>Female</td>\n",
       "      <td>2024-08-12</td>\n",
       "    </tr>\n",
       "  </tbody>\n",
       "</table>\n",
       "</div>"
      ],
      "text/plain": [
       "     name  salary  exp      city  age  Gender       Date\n",
       "0    john  3000.0  4.0  losvegas   30    Male 2024-08-12\n",
       "1     doe  4000.0  5.0        dc   25  Female 2024-08-12\n",
       "2  robert  8000.0  6.0     paris   27    Male 2024-08-12\n",
       "3   chris  9000.0  7.0   newyork   24  Female 2024-08-12\n",
       "4     NaN  3000.0  NaN  losvegas   35    Male 2024-08-12\n",
       "5    john  3000.0  4.0  losvegas   33  Female 2024-08-12\n",
       "6   evans     NaN  4.0  losvegas   31    Male 2024-08-12\n",
       "7     tom  3000.0  4.0       NaN   37  Female 2024-08-12"
      ]
     },
     "execution_count": 8,
     "metadata": {},
     "output_type": "execute_result"
    }
   ],
   "source": [
    "df['Date'] = pd.to_datetime(df['Date'])\n",
    "\n",
    "df\n"
   ]
  },
  {
   "cell_type": "code",
   "execution_count": 9,
   "id": "3a4beca5-27a7-40d3-a470-feb3458f0e0c",
   "metadata": {},
   "outputs": [
    {
     "data": {
      "text/html": [
       "<div>\n",
       "<style scoped>\n",
       "    .dataframe tbody tr th:only-of-type {\n",
       "        vertical-align: middle;\n",
       "    }\n",
       "\n",
       "    .dataframe tbody tr th {\n",
       "        vertical-align: top;\n",
       "    }\n",
       "\n",
       "    .dataframe thead th {\n",
       "        text-align: right;\n",
       "    }\n",
       "</style>\n",
       "<table border=\"1\" class=\"dataframe\">\n",
       "  <thead>\n",
       "    <tr style=\"text-align: right;\">\n",
       "      <th></th>\n",
       "      <th>name</th>\n",
       "      <th>salary</th>\n",
       "      <th>exp</th>\n",
       "      <th>city</th>\n",
       "      <th>age</th>\n",
       "      <th>Gender</th>\n",
       "      <th>Date</th>\n",
       "      <th>Date+1</th>\n",
       "    </tr>\n",
       "  </thead>\n",
       "  <tbody>\n",
       "    <tr>\n",
       "      <th>0</th>\n",
       "      <td>john</td>\n",
       "      <td>3000.0</td>\n",
       "      <td>4.0</td>\n",
       "      <td>losvegas</td>\n",
       "      <td>30</td>\n",
       "      <td>Male</td>\n",
       "      <td>2024-08-12</td>\n",
       "      <td>2024-08-17</td>\n",
       "    </tr>\n",
       "    <tr>\n",
       "      <th>1</th>\n",
       "      <td>doe</td>\n",
       "      <td>4000.0</td>\n",
       "      <td>5.0</td>\n",
       "      <td>dc</td>\n",
       "      <td>25</td>\n",
       "      <td>Female</td>\n",
       "      <td>2024-08-12</td>\n",
       "      <td>2024-08-17</td>\n",
       "    </tr>\n",
       "    <tr>\n",
       "      <th>2</th>\n",
       "      <td>robert</td>\n",
       "      <td>8000.0</td>\n",
       "      <td>6.0</td>\n",
       "      <td>paris</td>\n",
       "      <td>27</td>\n",
       "      <td>Male</td>\n",
       "      <td>2024-08-12</td>\n",
       "      <td>2024-08-17</td>\n",
       "    </tr>\n",
       "    <tr>\n",
       "      <th>3</th>\n",
       "      <td>chris</td>\n",
       "      <td>9000.0</td>\n",
       "      <td>7.0</td>\n",
       "      <td>newyork</td>\n",
       "      <td>24</td>\n",
       "      <td>Female</td>\n",
       "      <td>2024-08-12</td>\n",
       "      <td>2024-08-17</td>\n",
       "    </tr>\n",
       "    <tr>\n",
       "      <th>4</th>\n",
       "      <td>NaN</td>\n",
       "      <td>3000.0</td>\n",
       "      <td>NaN</td>\n",
       "      <td>losvegas</td>\n",
       "      <td>35</td>\n",
       "      <td>Male</td>\n",
       "      <td>2024-08-12</td>\n",
       "      <td>2024-08-17</td>\n",
       "    </tr>\n",
       "    <tr>\n",
       "      <th>5</th>\n",
       "      <td>john</td>\n",
       "      <td>3000.0</td>\n",
       "      <td>4.0</td>\n",
       "      <td>losvegas</td>\n",
       "      <td>33</td>\n",
       "      <td>Female</td>\n",
       "      <td>2024-08-12</td>\n",
       "      <td>2024-08-17</td>\n",
       "    </tr>\n",
       "    <tr>\n",
       "      <th>6</th>\n",
       "      <td>evans</td>\n",
       "      <td>NaN</td>\n",
       "      <td>4.0</td>\n",
       "      <td>losvegas</td>\n",
       "      <td>31</td>\n",
       "      <td>Male</td>\n",
       "      <td>2024-08-12</td>\n",
       "      <td>2024-08-17</td>\n",
       "    </tr>\n",
       "    <tr>\n",
       "      <th>7</th>\n",
       "      <td>tom</td>\n",
       "      <td>3000.0</td>\n",
       "      <td>4.0</td>\n",
       "      <td>NaN</td>\n",
       "      <td>37</td>\n",
       "      <td>Female</td>\n",
       "      <td>2024-08-12</td>\n",
       "      <td>2024-08-17</td>\n",
       "    </tr>\n",
       "  </tbody>\n",
       "</table>\n",
       "</div>"
      ],
      "text/plain": [
       "     name  salary  exp      city  age  Gender       Date     Date+1\n",
       "0    john  3000.0  4.0  losvegas   30    Male 2024-08-12 2024-08-17\n",
       "1     doe  4000.0  5.0        dc   25  Female 2024-08-12 2024-08-17\n",
       "2  robert  8000.0  6.0     paris   27    Male 2024-08-12 2024-08-17\n",
       "3   chris  9000.0  7.0   newyork   24  Female 2024-08-12 2024-08-17\n",
       "4     NaN  3000.0  NaN  losvegas   35    Male 2024-08-12 2024-08-17\n",
       "5    john  3000.0  4.0  losvegas   33  Female 2024-08-12 2024-08-17\n",
       "6   evans     NaN  4.0  losvegas   31    Male 2024-08-12 2024-08-17\n",
       "7     tom  3000.0  4.0       NaN   37  Female 2024-08-12 2024-08-17"
      ]
     },
     "execution_count": 9,
     "metadata": {},
     "output_type": "execute_result"
    }
   ],
   "source": [
    "df[\"Date+1\"] = df['Date'] + pd.Timedelta(days=5)  # Add 1 day to each date\n",
    "df"
   ]
  },
  {
   "cell_type": "code",
   "execution_count": 10,
   "id": "2e939164-66b8-4f6d-9ad2-de3667fa2590",
   "metadata": {},
   "outputs": [
    {
     "data": {
      "text/html": [
       "<div>\n",
       "<style scoped>\n",
       "    .dataframe tbody tr th:only-of-type {\n",
       "        vertical-align: middle;\n",
       "    }\n",
       "\n",
       "    .dataframe tbody tr th {\n",
       "        vertical-align: top;\n",
       "    }\n",
       "\n",
       "    .dataframe thead th {\n",
       "        text-align: right;\n",
       "    }\n",
       "</style>\n",
       "<table border=\"1\" class=\"dataframe\">\n",
       "  <thead>\n",
       "    <tr style=\"text-align: right;\">\n",
       "      <th></th>\n",
       "      <th>exp</th>\n",
       "      <th>salary</th>\n",
       "    </tr>\n",
       "  </thead>\n",
       "  <tbody>\n",
       "    <tr>\n",
       "      <th>exp</th>\n",
       "      <td>1.000000</td>\n",
       "      <td>0.975017</td>\n",
       "    </tr>\n",
       "    <tr>\n",
       "      <th>salary</th>\n",
       "      <td>0.975017</td>\n",
       "      <td>1.000000</td>\n",
       "    </tr>\n",
       "  </tbody>\n",
       "</table>\n",
       "</div>"
      ],
      "text/plain": [
       "             exp    salary\n",
       "exp     1.000000  0.975017\n",
       "salary  0.975017  1.000000"
      ]
     },
     "execution_count": 10,
     "metadata": {},
     "output_type": "execute_result"
    }
   ],
   "source": [
    "df = pd.read_csv(\"employee.csv\")\n",
    "df[[\"exp\", \"salary\"]].corr() ## Compute pairwise correlation of columns"
   ]
  },
  {
   "cell_type": "code",
   "execution_count": 11,
   "id": "43720f1a-3ff8-44d1-b0ee-d9a0315b9fa3",
   "metadata": {},
   "outputs": [
    {
     "data": {
      "text/html": [
       "<div>\n",
       "<style scoped>\n",
       "    .dataframe tbody tr th:only-of-type {\n",
       "        vertical-align: middle;\n",
       "    }\n",
       "\n",
       "    .dataframe tbody tr th {\n",
       "        vertical-align: top;\n",
       "    }\n",
       "\n",
       "    .dataframe thead th {\n",
       "        text-align: right;\n",
       "    }\n",
       "</style>\n",
       "<table border=\"1\" class=\"dataframe\">\n",
       "  <thead>\n",
       "    <tr style=\"text-align: right;\">\n",
       "      <th></th>\n",
       "      <th>name</th>\n",
       "      <th>salary</th>\n",
       "      <th>exp</th>\n",
       "      <th>city</th>\n",
       "      <th>age</th>\n",
       "      <th>Gender</th>\n",
       "    </tr>\n",
       "  </thead>\n",
       "  <tbody>\n",
       "    <tr>\n",
       "      <th>0</th>\n",
       "      <td>john</td>\n",
       "      <td>3000.0</td>\n",
       "      <td>4.0</td>\n",
       "      <td>losvegas</td>\n",
       "      <td>30</td>\n",
       "      <td>Male</td>\n",
       "    </tr>\n",
       "    <tr>\n",
       "      <th>1</th>\n",
       "      <td>doe</td>\n",
       "      <td>4000.0</td>\n",
       "      <td>5.0</td>\n",
       "      <td>dc</td>\n",
       "      <td>25</td>\n",
       "      <td>Female</td>\n",
       "    </tr>\n",
       "    <tr>\n",
       "      <th>2</th>\n",
       "      <td>robert</td>\n",
       "      <td>8000.0</td>\n",
       "      <td>6.0</td>\n",
       "      <td>paris</td>\n",
       "      <td>27</td>\n",
       "      <td>Male</td>\n",
       "    </tr>\n",
       "    <tr>\n",
       "      <th>3</th>\n",
       "      <td>chris</td>\n",
       "      <td>9000.0</td>\n",
       "      <td>7.0</td>\n",
       "      <td>newyork</td>\n",
       "      <td>24</td>\n",
       "      <td>Female</td>\n",
       "    </tr>\n",
       "    <tr>\n",
       "      <th>4</th>\n",
       "      <td>NaN</td>\n",
       "      <td>3000.0</td>\n",
       "      <td>NaN</td>\n",
       "      <td>losvegas</td>\n",
       "      <td>35</td>\n",
       "      <td>Male</td>\n",
       "    </tr>\n",
       "    <tr>\n",
       "      <th>5</th>\n",
       "      <td>john</td>\n",
       "      <td>3000.0</td>\n",
       "      <td>4.0</td>\n",
       "      <td>losvegas</td>\n",
       "      <td>33</td>\n",
       "      <td>Female</td>\n",
       "    </tr>\n",
       "    <tr>\n",
       "      <th>6</th>\n",
       "      <td>evans</td>\n",
       "      <td>NaN</td>\n",
       "      <td>4.0</td>\n",
       "      <td>losvegas</td>\n",
       "      <td>31</td>\n",
       "      <td>Male</td>\n",
       "    </tr>\n",
       "    <tr>\n",
       "      <th>7</th>\n",
       "      <td>tom</td>\n",
       "      <td>3000.0</td>\n",
       "      <td>4.0</td>\n",
       "      <td>NaN</td>\n",
       "      <td>37</td>\n",
       "      <td>Female</td>\n",
       "    </tr>\n",
       "  </tbody>\n",
       "</table>\n",
       "</div>"
      ],
      "text/plain": [
       "     name  salary  exp      city  age  Gender\n",
       "0    john  3000.0  4.0  losvegas   30    Male\n",
       "1     doe  4000.0  5.0        dc   25  Female\n",
       "2  robert  8000.0  6.0     paris   27    Male\n",
       "3   chris  9000.0  7.0   newyork   24  Female\n",
       "4     NaN  3000.0  NaN  losvegas   35    Male\n",
       "5    john  3000.0  4.0  losvegas   33  Female\n",
       "6   evans     NaN  4.0  losvegas   31    Male\n",
       "7     tom  3000.0  4.0       NaN   37  Female"
      ]
     },
     "execution_count": 11,
     "metadata": {},
     "output_type": "execute_result"
    }
   ],
   "source": [
    "df"
   ]
  },
  {
   "cell_type": "code",
   "execution_count": 12,
   "id": "ded9d5fa-9dbc-4d53-bd0e-66e98abdaeac",
   "metadata": {
    "scrolled": true
   },
   "outputs": [
    {
     "data": {
      "text/html": [
       "<div>\n",
       "<style scoped>\n",
       "    .dataframe tbody tr th:only-of-type {\n",
       "        vertical-align: middle;\n",
       "    }\n",
       "\n",
       "    .dataframe tbody tr th {\n",
       "        vertical-align: top;\n",
       "    }\n",
       "\n",
       "    .dataframe thead th {\n",
       "        text-align: right;\n",
       "    }\n",
       "</style>\n",
       "<table border=\"1\" class=\"dataframe\">\n",
       "  <thead>\n",
       "    <tr style=\"text-align: right;\">\n",
       "      <th></th>\n",
       "      <th>salary</th>\n",
       "      <th>exp</th>\n",
       "      <th>city</th>\n",
       "      <th>age</th>\n",
       "      <th>Gender</th>\n",
       "    </tr>\n",
       "    <tr>\n",
       "      <th>name</th>\n",
       "      <th></th>\n",
       "      <th></th>\n",
       "      <th></th>\n",
       "      <th></th>\n",
       "      <th></th>\n",
       "    </tr>\n",
       "  </thead>\n",
       "  <tbody>\n",
       "    <tr>\n",
       "      <th>john</th>\n",
       "      <td>3000.0</td>\n",
       "      <td>4.0</td>\n",
       "      <td>losvegas</td>\n",
       "      <td>30</td>\n",
       "      <td>Male</td>\n",
       "    </tr>\n",
       "    <tr>\n",
       "      <th>doe</th>\n",
       "      <td>4000.0</td>\n",
       "      <td>5.0</td>\n",
       "      <td>dc</td>\n",
       "      <td>25</td>\n",
       "      <td>Female</td>\n",
       "    </tr>\n",
       "    <tr>\n",
       "      <th>robert</th>\n",
       "      <td>8000.0</td>\n",
       "      <td>6.0</td>\n",
       "      <td>paris</td>\n",
       "      <td>27</td>\n",
       "      <td>Male</td>\n",
       "    </tr>\n",
       "    <tr>\n",
       "      <th>chris</th>\n",
       "      <td>9000.0</td>\n",
       "      <td>7.0</td>\n",
       "      <td>newyork</td>\n",
       "      <td>24</td>\n",
       "      <td>Female</td>\n",
       "    </tr>\n",
       "    <tr>\n",
       "      <th>NaN</th>\n",
       "      <td>3000.0</td>\n",
       "      <td>NaN</td>\n",
       "      <td>losvegas</td>\n",
       "      <td>35</td>\n",
       "      <td>Male</td>\n",
       "    </tr>\n",
       "    <tr>\n",
       "      <th>john</th>\n",
       "      <td>3000.0</td>\n",
       "      <td>4.0</td>\n",
       "      <td>losvegas</td>\n",
       "      <td>33</td>\n",
       "      <td>Female</td>\n",
       "    </tr>\n",
       "    <tr>\n",
       "      <th>evans</th>\n",
       "      <td>NaN</td>\n",
       "      <td>4.0</td>\n",
       "      <td>losvegas</td>\n",
       "      <td>31</td>\n",
       "      <td>Male</td>\n",
       "    </tr>\n",
       "    <tr>\n",
       "      <th>tom</th>\n",
       "      <td>3000.0</td>\n",
       "      <td>4.0</td>\n",
       "      <td>NaN</td>\n",
       "      <td>37</td>\n",
       "      <td>Female</td>\n",
       "    </tr>\n",
       "  </tbody>\n",
       "</table>\n",
       "</div>"
      ],
      "text/plain": [
       "        salary  exp      city  age  Gender\n",
       "name                                      \n",
       "john    3000.0  4.0  losvegas   30    Male\n",
       "doe     4000.0  5.0        dc   25  Female\n",
       "robert  8000.0  6.0     paris   27    Male\n",
       "chris   9000.0  7.0   newyork   24  Female\n",
       "NaN     3000.0  NaN  losvegas   35    Male\n",
       "john    3000.0  4.0  losvegas   33  Female\n",
       "evans      NaN  4.0  losvegas   31    Male\n",
       "tom     3000.0  4.0       NaN   37  Female"
      ]
     },
     "execution_count": 12,
     "metadata": {},
     "output_type": "execute_result"
    }
   ],
   "source": [
    "#df.pivot_table(values='value', index='category', columns='date', aggfunc='sum')\n",
    "df.set_index('name', inplace=True)  # Set column A as the index\n",
    "df"
   ]
  },
  {
   "cell_type": "code",
   "execution_count": 13,
   "id": "8d2f1a1a-490e-418b-b3ce-8b4641effe2f",
   "metadata": {},
   "outputs": [
    {
     "data": {
      "text/html": [
       "<div>\n",
       "<style scoped>\n",
       "    .dataframe tbody tr th:only-of-type {\n",
       "        vertical-align: middle;\n",
       "    }\n",
       "\n",
       "    .dataframe tbody tr th {\n",
       "        vertical-align: top;\n",
       "    }\n",
       "\n",
       "    .dataframe thead th {\n",
       "        text-align: right;\n",
       "    }\n",
       "</style>\n",
       "<table border=\"1\" class=\"dataframe\">\n",
       "  <thead>\n",
       "    <tr style=\"text-align: right;\">\n",
       "      <th></th>\n",
       "      <th></th>\n",
       "      <th>salary</th>\n",
       "      <th>exp</th>\n",
       "      <th>age</th>\n",
       "      <th>Gender</th>\n",
       "    </tr>\n",
       "    <tr>\n",
       "      <th>name</th>\n",
       "      <th>city</th>\n",
       "      <th></th>\n",
       "      <th></th>\n",
       "      <th></th>\n",
       "      <th></th>\n",
       "    </tr>\n",
       "  </thead>\n",
       "  <tbody>\n",
       "    <tr>\n",
       "      <th>john</th>\n",
       "      <th>losvegas</th>\n",
       "      <td>3000.0</td>\n",
       "      <td>4.0</td>\n",
       "      <td>30</td>\n",
       "      <td>Male</td>\n",
       "    </tr>\n",
       "    <tr>\n",
       "      <th>doe</th>\n",
       "      <th>dc</th>\n",
       "      <td>4000.0</td>\n",
       "      <td>5.0</td>\n",
       "      <td>25</td>\n",
       "      <td>Female</td>\n",
       "    </tr>\n",
       "    <tr>\n",
       "      <th>robert</th>\n",
       "      <th>paris</th>\n",
       "      <td>8000.0</td>\n",
       "      <td>6.0</td>\n",
       "      <td>27</td>\n",
       "      <td>Male</td>\n",
       "    </tr>\n",
       "    <tr>\n",
       "      <th>chris</th>\n",
       "      <th>newyork</th>\n",
       "      <td>9000.0</td>\n",
       "      <td>7.0</td>\n",
       "      <td>24</td>\n",
       "      <td>Female</td>\n",
       "    </tr>\n",
       "    <tr>\n",
       "      <th>NaN</th>\n",
       "      <th>losvegas</th>\n",
       "      <td>3000.0</td>\n",
       "      <td>NaN</td>\n",
       "      <td>35</td>\n",
       "      <td>Male</td>\n",
       "    </tr>\n",
       "    <tr>\n",
       "      <th>john</th>\n",
       "      <th>losvegas</th>\n",
       "      <td>3000.0</td>\n",
       "      <td>4.0</td>\n",
       "      <td>33</td>\n",
       "      <td>Female</td>\n",
       "    </tr>\n",
       "    <tr>\n",
       "      <th>evans</th>\n",
       "      <th>losvegas</th>\n",
       "      <td>NaN</td>\n",
       "      <td>4.0</td>\n",
       "      <td>31</td>\n",
       "      <td>Male</td>\n",
       "    </tr>\n",
       "    <tr>\n",
       "      <th>tom</th>\n",
       "      <th>NaN</th>\n",
       "      <td>3000.0</td>\n",
       "      <td>4.0</td>\n",
       "      <td>37</td>\n",
       "      <td>Female</td>\n",
       "    </tr>\n",
       "  </tbody>\n",
       "</table>\n",
       "</div>"
      ],
      "text/plain": [
       "                 salary  exp  age  Gender\n",
       "name   city                              \n",
       "john   losvegas  3000.0  4.0   30    Male\n",
       "doe     dc       4000.0  5.0   25  Female\n",
       "robert  paris    8000.0  6.0   27    Male\n",
       "chris  newyork   9000.0  7.0   24  Female\n",
       "NaN    losvegas  3000.0  NaN   35    Male\n",
       "john   losvegas  3000.0  4.0   33  Female\n",
       "evans  losvegas     NaN  4.0   31    Male\n",
       "tom    NaN       3000.0  4.0   37  Female"
      ]
     },
     "execution_count": 13,
     "metadata": {},
     "output_type": "execute_result"
    }
   ],
   "source": [
    "\n",
    "df = pd.read_csv(\"employee.csv\")\n",
    "df = df.set_index(['name', 'city'])  # Set multiple columns as index\n",
    "df"
   ]
  },
  {
   "cell_type": "code",
   "execution_count": 14,
   "id": "93eccbfa-0594-4ebc-8736-99595c277ab0",
   "metadata": {},
   "outputs": [
    {
     "data": {
      "text/html": [
       "<div>\n",
       "<style scoped>\n",
       "    .dataframe tbody tr th:only-of-type {\n",
       "        vertical-align: middle;\n",
       "    }\n",
       "\n",
       "    .dataframe tbody tr th {\n",
       "        vertical-align: top;\n",
       "    }\n",
       "\n",
       "    .dataframe thead th {\n",
       "        text-align: right;\n",
       "    }\n",
       "</style>\n",
       "<table border=\"1\" class=\"dataframe\">\n",
       "  <thead>\n",
       "    <tr style=\"text-align: right;\">\n",
       "      <th></th>\n",
       "      <th>name</th>\n",
       "      <th>city</th>\n",
       "      <th>salary</th>\n",
       "      <th>exp</th>\n",
       "      <th>age</th>\n",
       "      <th>Gender</th>\n",
       "    </tr>\n",
       "  </thead>\n",
       "  <tbody>\n",
       "    <tr>\n",
       "      <th>0</th>\n",
       "      <td>john</td>\n",
       "      <td>losvegas</td>\n",
       "      <td>3000.0</td>\n",
       "      <td>4.0</td>\n",
       "      <td>30</td>\n",
       "      <td>Male</td>\n",
       "    </tr>\n",
       "    <tr>\n",
       "      <th>1</th>\n",
       "      <td>doe</td>\n",
       "      <td>dc</td>\n",
       "      <td>4000.0</td>\n",
       "      <td>5.0</td>\n",
       "      <td>25</td>\n",
       "      <td>Female</td>\n",
       "    </tr>\n",
       "    <tr>\n",
       "      <th>2</th>\n",
       "      <td>robert</td>\n",
       "      <td>paris</td>\n",
       "      <td>8000.0</td>\n",
       "      <td>6.0</td>\n",
       "      <td>27</td>\n",
       "      <td>Male</td>\n",
       "    </tr>\n",
       "    <tr>\n",
       "      <th>3</th>\n",
       "      <td>chris</td>\n",
       "      <td>newyork</td>\n",
       "      <td>9000.0</td>\n",
       "      <td>7.0</td>\n",
       "      <td>24</td>\n",
       "      <td>Female</td>\n",
       "    </tr>\n",
       "    <tr>\n",
       "      <th>4</th>\n",
       "      <td>NaN</td>\n",
       "      <td>losvegas</td>\n",
       "      <td>3000.0</td>\n",
       "      <td>NaN</td>\n",
       "      <td>35</td>\n",
       "      <td>Male</td>\n",
       "    </tr>\n",
       "    <tr>\n",
       "      <th>5</th>\n",
       "      <td>john</td>\n",
       "      <td>losvegas</td>\n",
       "      <td>3000.0</td>\n",
       "      <td>4.0</td>\n",
       "      <td>33</td>\n",
       "      <td>Female</td>\n",
       "    </tr>\n",
       "    <tr>\n",
       "      <th>6</th>\n",
       "      <td>evans</td>\n",
       "      <td>losvegas</td>\n",
       "      <td>NaN</td>\n",
       "      <td>4.0</td>\n",
       "      <td>31</td>\n",
       "      <td>Male</td>\n",
       "    </tr>\n",
       "    <tr>\n",
       "      <th>7</th>\n",
       "      <td>tom</td>\n",
       "      <td>NaN</td>\n",
       "      <td>3000.0</td>\n",
       "      <td>4.0</td>\n",
       "      <td>37</td>\n",
       "      <td>Female</td>\n",
       "    </tr>\n",
       "  </tbody>\n",
       "</table>\n",
       "</div>"
      ],
      "text/plain": [
       "     name      city  salary  exp  age  Gender\n",
       "0    john  losvegas  3000.0  4.0   30    Male\n",
       "1     doe        dc  4000.0  5.0   25  Female\n",
       "2  robert     paris  8000.0  6.0   27    Male\n",
       "3   chris   newyork  9000.0  7.0   24  Female\n",
       "4     NaN  losvegas  3000.0  NaN   35    Male\n",
       "5    john  losvegas  3000.0  4.0   33  Female\n",
       "6   evans  losvegas     NaN  4.0   31    Male\n",
       "7     tom       NaN  3000.0  4.0   37  Female"
      ]
     },
     "execution_count": 14,
     "metadata": {},
     "output_type": "execute_result"
    }
   ],
   "source": [
    "df.reset_index(inplace=True)  # Reset index to default integer index\n",
    "df"
   ]
  },
  {
   "cell_type": "code",
   "execution_count": 15,
   "id": "af0ebff3-e78c-40bd-98e8-7b7742d25254",
   "metadata": {},
   "outputs": [
    {
     "data": {
      "text/html": [
       "<div>\n",
       "<style scoped>\n",
       "    .dataframe tbody tr th:only-of-type {\n",
       "        vertical-align: middle;\n",
       "    }\n",
       "\n",
       "    .dataframe tbody tr th {\n",
       "        vertical-align: top;\n",
       "    }\n",
       "\n",
       "    .dataframe thead th {\n",
       "        text-align: right;\n",
       "    }\n",
       "</style>\n",
       "<table border=\"1\" class=\"dataframe\">\n",
       "  <thead>\n",
       "    <tr style=\"text-align: right;\">\n",
       "      <th></th>\n",
       "      <th>name</th>\n",
       "      <th>city</th>\n",
       "      <th>salary</th>\n",
       "      <th>exp</th>\n",
       "      <th>age</th>\n",
       "      <th>Gender</th>\n",
       "    </tr>\n",
       "  </thead>\n",
       "  <tbody>\n",
       "    <tr>\n",
       "      <th>0</th>\n",
       "      <td>john</td>\n",
       "      <td>losvegas</td>\n",
       "      <td>3000.0</td>\n",
       "      <td>4.0</td>\n",
       "      <td>30</td>\n",
       "      <td>Male</td>\n",
       "    </tr>\n",
       "    <tr>\n",
       "      <th>1</th>\n",
       "      <td>doe</td>\n",
       "      <td>dc</td>\n",
       "      <td>4000.0</td>\n",
       "      <td>5.0</td>\n",
       "      <td>25</td>\n",
       "      <td>Female</td>\n",
       "    </tr>\n",
       "    <tr>\n",
       "      <th>5</th>\n",
       "      <td>john</td>\n",
       "      <td>losvegas</td>\n",
       "      <td>3000.0</td>\n",
       "      <td>4.0</td>\n",
       "      <td>33</td>\n",
       "      <td>Female</td>\n",
       "    </tr>\n",
       "    <tr>\n",
       "      <th>7</th>\n",
       "      <td>tom</td>\n",
       "      <td>NaN</td>\n",
       "      <td>3000.0</td>\n",
       "      <td>4.0</td>\n",
       "      <td>37</td>\n",
       "      <td>Female</td>\n",
       "    </tr>\n",
       "  </tbody>\n",
       "</table>\n",
       "</div>"
      ],
      "text/plain": [
       "   name      city  salary  exp  age  Gender\n",
       "0  john  losvegas  3000.0  4.0   30    Male\n",
       "1   doe        dc  4000.0  5.0   25  Female\n",
       "5  john  losvegas  3000.0  4.0   33  Female\n",
       "7   tom       NaN  3000.0  4.0   37  Female"
      ]
     },
     "execution_count": 15,
     "metadata": {},
     "output_type": "execute_result"
    }
   ],
   "source": [
    "df.query('exp > 1 & salary < 5000')  # Similar to SQL-like queries\n"
   ]
  },
  {
   "cell_type": "code",
   "execution_count": 16,
   "id": "2e3534c0-4d1f-4686-81e3-94fed263e0ff",
   "metadata": {},
   "outputs": [
    {
     "data": {
      "text/html": [
       "<div>\n",
       "<style scoped>\n",
       "    .dataframe tbody tr th:only-of-type {\n",
       "        vertical-align: middle;\n",
       "    }\n",
       "\n",
       "    .dataframe tbody tr th {\n",
       "        vertical-align: top;\n",
       "    }\n",
       "\n",
       "    .dataframe thead th {\n",
       "        text-align: right;\n",
       "    }\n",
       "</style>\n",
       "<table border=\"1\" class=\"dataframe\">\n",
       "  <thead>\n",
       "    <tr style=\"text-align: right;\">\n",
       "      <th></th>\n",
       "      <th>name</th>\n",
       "      <th>salary</th>\n",
       "      <th>exp</th>\n",
       "      <th>city</th>\n",
       "      <th>age</th>\n",
       "      <th>Gender</th>\n",
       "    </tr>\n",
       "  </thead>\n",
       "  <tbody>\n",
       "    <tr>\n",
       "      <th>0</th>\n",
       "      <td>john</td>\n",
       "      <td>3000.0</td>\n",
       "      <td>4.0</td>\n",
       "      <td>losvegas</td>\n",
       "      <td>30</td>\n",
       "      <td>Male</td>\n",
       "    </tr>\n",
       "    <tr>\n",
       "      <th>5</th>\n",
       "      <td>john</td>\n",
       "      <td>3000.0</td>\n",
       "      <td>4.0</td>\n",
       "      <td>losvegas</td>\n",
       "      <td>33</td>\n",
       "      <td>Female</td>\n",
       "    </tr>\n",
       "  </tbody>\n",
       "</table>\n",
       "</div>"
      ],
      "text/plain": [
       "   name  salary  exp      city  age  Gender\n",
       "0  john  3000.0  4.0  losvegas   30    Male\n",
       "5  john  3000.0  4.0  losvegas   33  Female"
      ]
     },
     "execution_count": 16,
     "metadata": {},
     "output_type": "execute_result"
    }
   ],
   "source": [
    "\n",
    "df = pd.read_csv(\"employee.csv\")\n",
    "df = df.dropna() # cannot do the following operations with nan values\n",
    "df[df['name'].str.contains('jo')]  # Filter rows where column 'A' contains 'abc'\n"
   ]
  },
  {
   "cell_type": "code",
   "execution_count": 91,
   "id": "bf145bbf-9f66-4659-a7e5-69751dab2c5a",
   "metadata": {},
   "outputs": [
    {
     "data": {
      "text/html": [
       "<div>\n",
       "<style scoped>\n",
       "    .dataframe tbody tr th:only-of-type {\n",
       "        vertical-align: middle;\n",
       "    }\n",
       "\n",
       "    .dataframe tbody tr th {\n",
       "        vertical-align: top;\n",
       "    }\n",
       "\n",
       "    .dataframe thead th {\n",
       "        text-align: right;\n",
       "    }\n",
       "</style>\n",
       "<table border=\"1\" class=\"dataframe\">\n",
       "  <thead>\n",
       "    <tr style=\"text-align: right;\">\n",
       "      <th></th>\n",
       "      <th></th>\n",
       "      <th>salary</th>\n",
       "      <th>exp</th>\n",
       "      <th>age</th>\n",
       "      <th>Gender</th>\n",
       "    </tr>\n",
       "    <tr>\n",
       "      <th>name</th>\n",
       "      <th>city</th>\n",
       "      <th></th>\n",
       "      <th></th>\n",
       "      <th></th>\n",
       "      <th></th>\n",
       "    </tr>\n",
       "  </thead>\n",
       "  <tbody>\n",
       "    <tr>\n",
       "      <th>chris</th>\n",
       "      <th>newyork</th>\n",
       "      <td>9000.0</td>\n",
       "      <td>7.0</td>\n",
       "      <td>24</td>\n",
       "      <td>Female</td>\n",
       "    </tr>\n",
       "    <tr>\n",
       "      <th>doe</th>\n",
       "      <th>dc</th>\n",
       "      <td>4000.0</td>\n",
       "      <td>5.0</td>\n",
       "      <td>25</td>\n",
       "      <td>Female</td>\n",
       "    </tr>\n",
       "    <tr>\n",
       "      <th>john</th>\n",
       "      <th>losvegas</th>\n",
       "      <td>6000.0</td>\n",
       "      <td>8.0</td>\n",
       "      <td>63</td>\n",
       "      <td>MaleFemale</td>\n",
       "    </tr>\n",
       "    <tr>\n",
       "      <th>robert</th>\n",
       "      <th>paris</th>\n",
       "      <td>8000.0</td>\n",
       "      <td>6.0</td>\n",
       "      <td>27</td>\n",
       "      <td>Male</td>\n",
       "    </tr>\n",
       "  </tbody>\n",
       "</table>\n",
       "</div>"
      ],
      "text/plain": [
       "                 salary  exp  age      Gender\n",
       "name   city                                  \n",
       "chris  newyork   9000.0  7.0   24      Female\n",
       "doe     dc       4000.0  5.0   25      Female\n",
       "john   losvegas  6000.0  8.0   63  MaleFemale\n",
       "robert  paris    8000.0  6.0   27        Male"
      ]
     },
     "execution_count": 91,
     "metadata": {},
     "output_type": "execute_result"
    }
   ],
   "source": [
    "df.groupby(['name', 'city']).sum()  # Group by columns A and B, and sum other columns\n"
   ]
  },
  {
   "cell_type": "code",
   "execution_count": 18,
   "id": "da055cda-67a7-4523-8d0f-cd2f6ac1d8b2",
   "metadata": {},
   "outputs": [
    {
     "name": "stdout",
     "output_type": "stream",
     "text": [
      "           city     month  temperature\n",
      "0  Jacksonville   January           13\n",
      "1  Jacksonville  February           23\n",
      "2  Jacksonville     March           38\n",
      "3  Jacksonville     April            5\n",
      "4  Jacksonville       May           34\n",
      "5        ElPaso   January           20\n",
      "6        ElPaso  February            6\n",
      "7        ElPaso     March           26\n",
      "8        ElPaso     April            2\n",
      "9        ElPaso       May           43\n"
     ]
    },
    {
     "data": {
      "text/html": [
       "<div>\n",
       "<style scoped>\n",
       "    .dataframe tbody tr th:only-of-type {\n",
       "        vertical-align: middle;\n",
       "    }\n",
       "\n",
       "    .dataframe tbody tr th {\n",
       "        vertical-align: top;\n",
       "    }\n",
       "\n",
       "    .dataframe thead th {\n",
       "        text-align: right;\n",
       "    }\n",
       "</style>\n",
       "<table border=\"1\" class=\"dataframe\">\n",
       "  <thead>\n",
       "    <tr style=\"text-align: right;\">\n",
       "      <th>city</th>\n",
       "      <th>month</th>\n",
       "      <th>ElPaso</th>\n",
       "      <th>Jacksonville</th>\n",
       "    </tr>\n",
       "  </thead>\n",
       "  <tbody>\n",
       "    <tr>\n",
       "      <th>0</th>\n",
       "      <td>April</td>\n",
       "      <td>2</td>\n",
       "      <td>5</td>\n",
       "    </tr>\n",
       "    <tr>\n",
       "      <th>1</th>\n",
       "      <td>February</td>\n",
       "      <td>6</td>\n",
       "      <td>23</td>\n",
       "    </tr>\n",
       "    <tr>\n",
       "      <th>2</th>\n",
       "      <td>January</td>\n",
       "      <td>20</td>\n",
       "      <td>13</td>\n",
       "    </tr>\n",
       "    <tr>\n",
       "      <th>3</th>\n",
       "      <td>March</td>\n",
       "      <td>26</td>\n",
       "      <td>38</td>\n",
       "    </tr>\n",
       "    <tr>\n",
       "      <th>4</th>\n",
       "      <td>May</td>\n",
       "      <td>43</td>\n",
       "      <td>34</td>\n",
       "    </tr>\n",
       "  </tbody>\n",
       "</table>\n",
       "</div>"
      ],
      "text/plain": [
       "city     month  ElPaso  Jacksonville\n",
       "0        April       2             5\n",
       "1     February       6            23\n",
       "2      January      20            13\n",
       "3        March      26            38\n",
       "4          May      43            34"
      ]
     },
     "execution_count": 18,
     "metadata": {},
     "output_type": "execute_result"
    }
   ],
   "source": [
    "import pandas as pd\n",
    "\n",
    "# Input DataFrame\n",
    "data = {\n",
    "    \"city\": [\n",
    "        \"Jacksonville\", \"Jacksonville\", \"Jacksonville\", \"Jacksonville\", \"Jacksonville\",\n",
    "        \"ElPaso\", \"ElPaso\", \"ElPaso\", \"ElPaso\", \"ElPaso\"\n",
    "    ],\n",
    "    \"month\": [\"January\", \"February\", \"March\", \"April\", \"May\", \n",
    "              \"January\", \"February\", \"March\", \"April\", \"May\"],\n",
    "    \"temperature\": [13, 23, 38, 5, 34, 20, 6, 26, 2, 43]\n",
    "}\n",
    "\n",
    "df = pd.DataFrame(data)\n",
    "\n",
    "print(df)\n",
    "# Pivot the data\n",
    "pivoted_df = df.pivot(index=\"month\", columns=\"city\", values=\"temperature\")\n",
    "\n",
    "# Reset the index if needed and sort the rows by month\n",
    "pivoted_df = pivoted_df.reset_index().sort_values(by=\"month\")\n",
    "\n",
    "# Display the result\n",
    "pivoted_df\n"
   ]
  },
  {
   "cell_type": "code",
   "execution_count": 24,
   "id": "7745d496-dc7b-4b9a-a49e-49b7aba15ce7",
   "metadata": {},
   "outputs": [
    {
     "name": "stdout",
     "output_type": "stream",
     "text": [
      "city     month  ElPaso  Jacksonville\n",
      "0        April       2             5\n",
      "1     February       6            23\n",
      "2      January      20            13\n",
      "3        March      26            38\n",
      "4          May      43            34\n"
     ]
    }
   ],
   "source": [
    "import pandas as pd\n",
    "\n",
    "def pivot_temperature_data(data):\n",
    "    \"\"\"\n",
    "    Pivot the data so that each row represents temperatures for a specific month,\n",
    "    and each city is a separate column.\n",
    "    \n",
    "    Args:\n",
    "        data (dict): Dictionary containing the city, month, and temperature information.\n",
    "    \n",
    "    Returns:\n",
    "        pd.DataFrame: A DataFrame with months as rows and cities as columns.\n",
    "    \"\"\"\n",
    "    # Convert the data into a DataFrame\n",
    "    df = pd.DataFrame(data)\n",
    "    \n",
    "    # Pivot the data\n",
    "    pivoted_df = df.pivot(index=\"month\", columns=\"city\", values=\"temperature\")\n",
    "    \n",
    "    # Reset the index and sort rows by month\n",
    "    pivoted_df = pivoted_df.reset_index().sort_values(by=\"month\")\n",
    "    \n",
    "    return pivoted_df\n",
    "\n",
    "# Input data\n",
    "data = {\n",
    "    \"city\": [\n",
    "        \"Jacksonville\", \"Jacksonville\", \"Jacksonville\", \"Jacksonville\", \"Jacksonville\",\n",
    "        \"ElPaso\", \"ElPaso\", \"ElPaso\", \"ElPaso\", \"ElPaso\"\n",
    "    ],\n",
    "    \"month\": [\"January\", \"February\", \"March\", \"April\", \"May\", \n",
    "              \"January\", \"February\", \"March\", \"April\", \"May\"],\n",
    "    \"temperature\": [13, 23, 38, 5, 34, 20, 6, 26, 2, 43]\n",
    "}\n",
    "\n",
    "# Call the function\n",
    "result = pivot_temperature_data(data)\n",
    "\n",
    "# Display the result\n",
    "print(result)\n"
   ]
  },
  {
   "cell_type": "code",
   "execution_count": null,
   "id": "10d8d8af-41d1-4a8e-993c-1b4fb1943955",
   "metadata": {},
   "outputs": [],
   "source": []
  }
 ],
 "metadata": {
  "kernelspec": {
   "display_name": "Python 3 (ipykernel)",
   "language": "python",
   "name": "python3"
  },
  "language_info": {
   "codemirror_mode": {
    "name": "ipython",
    "version": 3
   },
   "file_extension": ".py",
   "mimetype": "text/x-python",
   "name": "python",
   "nbconvert_exporter": "python",
   "pygments_lexer": "ipython3",
   "version": "3.11.4"
  }
 },
 "nbformat": 4,
 "nbformat_minor": 5
}
