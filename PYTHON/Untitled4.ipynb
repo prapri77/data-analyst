{
 "cells": [
  {
   "cell_type": "code",
   "execution_count": 2,
   "id": "15dd1a89-ae8a-454d-baab-797921ed921c",
   "metadata": {},
   "outputs": [
    {
     "name": "stdout",
     "output_type": "stream",
     "text": [
      "Large language models\n"
     ]
    }
   ],
   "source": [
    "# print(\"python\")\n",
    "print(\"Large language models\")"
   ]
  },
  {
   "cell_type": "code",
   "execution_count": 3,
   "id": "1889e71d-17a4-40a4-bd64-5d60e1e12268",
   "metadata": {},
   "outputs": [
    {
     "name": "stdout",
     "output_type": "stream",
     "text": [
      "9\n"
     ]
    }
   ],
   "source": [
    "# print is a built in function of python which returns the result in our output console\n",
    "print(4+5)"
   ]
  },
  {
   "cell_type": "code",
   "execution_count": 4,
   "id": "270e71d9-4361-4f94-9eaa-3e75886f488b",
   "metadata": {},
   "outputs": [
    {
     "name": "stdout",
     "output_type": "stream",
     "text": [
      "10\n"
     ]
    }
   ],
   "source": [
    "print(8 +2) # adding the given two values"
   ]
  },
  {
   "cell_type": "code",
   "execution_count": 5,
   "id": "165d4226-7125-443f-99bd-fe64e8cb7d71",
   "metadata": {},
   "outputs": [
    {
     "name": "stdout",
     "output_type": "stream",
     "text": [
      "90\n"
     ]
    }
   ],
   "source": [
    "apple = 90\n",
    "print(apple)"
   ]
  },
  {
   "cell_type": "code",
   "execution_count": 6,
   "id": "c4f4108d-a433-4e79-9b15-01c7d0f69db3",
   "metadata": {},
   "outputs": [
    {
     "ename": "SyntaxError",
     "evalue": "invalid decimal literal (3766479601.py, line 1)",
     "output_type": "error",
     "traceback": [
      "\u001b[1;36m  Cell \u001b[1;32mIn[6], line 1\u001b[1;36m\u001b[0m\n\u001b[1;33m    2orange = 90\u001b[0m\n\u001b[1;37m    ^\u001b[0m\n\u001b[1;31mSyntaxError\u001b[0m\u001b[1;31m:\u001b[0m invalid decimal literal\n"
     ]
    }
   ],
   "source": [
    "2orange = 90"
   ]
  },
  {
   "cell_type": "code",
   "execution_count": 8,
   "id": "95b94e6f-8f9c-4904-8ab0-dea36bd1b38b",
   "metadata": {},
   "outputs": [
    {
     "name": "stdout",
     "output_type": "stream",
     "text": [
      "90\n"
     ]
    }
   ],
   "source": [
    "a2b = 90\n",
    "print(a2b)"
   ]
  },
  {
   "cell_type": "code",
   "execution_count": 9,
   "id": "d9842d45-c568-4235-a871-0f7bb71b7f49",
   "metadata": {},
   "outputs": [
    {
     "ename": "SyntaxError",
     "evalue": "invalid syntax. Maybe you meant '==' or ':=' instead of '='? (1125981234.py, line 1)",
     "output_type": "error",
     "traceback": [
      "\u001b[1;36m  Cell \u001b[1;32mIn[9], line 1\u001b[1;36m\u001b[0m\n\u001b[1;33m    @kiwi = 50\u001b[0m\n\u001b[1;37m     ^\u001b[0m\n\u001b[1;31mSyntaxError\u001b[0m\u001b[1;31m:\u001b[0m invalid syntax. Maybe you meant '==' or ':=' instead of '='?\n"
     ]
    }
   ],
   "source": [
    "@kiwi = 50"
   ]
  },
  {
   "cell_type": "code",
   "execution_count": 10,
   "id": "394e96d3-4668-4130-bada-ef0150891ea8",
   "metadata": {},
   "outputs": [
    {
     "ename": "SyntaxError",
     "evalue": "invalid syntax (1534349550.py, line 1)",
     "output_type": "error",
     "traceback": [
      "\u001b[1;36m  Cell \u001b[1;32mIn[10], line 1\u001b[1;36m\u001b[0m\n\u001b[1;33m    bana$na = 34\u001b[0m\n\u001b[1;37m        ^\u001b[0m\n\u001b[1;31mSyntaxError\u001b[0m\u001b[1;31m:\u001b[0m invalid syntax\n"
     ]
    }
   ],
   "source": [
    "bana$na = 34"
   ]
  },
  {
   "cell_type": "code",
   "execution_count": 11,
   "id": "a1f3c941-005e-4a48-8f41-e5f39f3064ce",
   "metadata": {},
   "outputs": [
    {
     "ename": "SyntaxError",
     "evalue": "invalid syntax (3065146816.py, line 1)",
     "output_type": "error",
     "traceback": [
      "\u001b[1;36m  Cell \u001b[1;32mIn[11], line 1\u001b[1;36m\u001b[0m\n\u001b[1;33m    else = 23\u001b[0m\n\u001b[1;37m    ^\u001b[0m\n\u001b[1;31mSyntaxError\u001b[0m\u001b[1;31m:\u001b[0m invalid syntax\n"
     ]
    }
   ],
   "source": [
    "else = 23"
   ]
  },
  {
   "cell_type": "code",
   "execution_count": 13,
   "id": "8423d9fc-e482-47f4-90e8-be63bee2517e",
   "metadata": {},
   "outputs": [],
   "source": [
    "Jack_Fruit = 12"
   ]
  },
  {
   "cell_type": "code",
   "execution_count": 15,
   "id": "4c625ff6-3e5c-4272-a813-443a268b0d60",
   "metadata": {},
   "outputs": [
    {
     "name": "stdout",
     "output_type": "stream",
     "text": [
      "12\n"
     ]
    }
   ],
   "source": [
    "print(Jack_Fruit)"
   ]
  },
  {
   "cell_type": "code",
   "execution_count": 16,
   "id": "fe9e3763-5d9e-4bad-9cee-eafbb26c884e",
   "metadata": {},
   "outputs": [
    {
     "ename": "NameError",
     "evalue": "name 'grapes' is not defined",
     "output_type": "error",
     "traceback": [
      "\u001b[1;31m---------------------------------------------------------------------------\u001b[0m",
      "\u001b[1;31mNameError\u001b[0m                                 Traceback (most recent call last)",
      "Cell \u001b[1;32mIn[16], line 2\u001b[0m\n\u001b[0;32m      1\u001b[0m Grapes \u001b[38;5;241m=\u001b[39m \u001b[38;5;241m34\u001b[39m\n\u001b[1;32m----> 2\u001b[0m \u001b[38;5;28mprint\u001b[39m(\u001b[43mgrapes\u001b[49m)\n",
      "\u001b[1;31mNameError\u001b[0m: name 'grapes' is not defined"
     ]
    }
   ],
   "source": [
    "Grapes = 34\n",
    "print(grapes)"
   ]
  },
  {
   "cell_type": "code",
   "execution_count": 17,
   "id": "6e167701-e37d-469f-8ad6-d56c3a6a7411",
   "metadata": {},
   "outputs": [
    {
     "name": "stdout",
     "output_type": "stream",
     "text": [
      "140705768007464\n",
      "140705768007464\n"
     ]
    }
   ],
   "source": [
    "# when we create a data type in python it will stored in one time\n",
    "\n",
    "a = 33\n",
    "b = 33\n",
    "print(id(a))\n",
    "print(id(b))"
   ]
  },
  {
   "cell_type": "code",
   "execution_count": 19,
   "id": "3d868eab-cb83-448e-98b9-5d92263ea891",
   "metadata": {},
   "outputs": [
    {
     "data": {
      "text/plain": [
       "5"
      ]
     },
     "execution_count": 19,
     "metadata": {},
     "output_type": "execute_result"
    }
   ],
   "source": [
    "a = 5\n",
    "a"
   ]
  },
  {
   "cell_type": "code",
   "execution_count": 20,
   "id": "e943178d-b80d-4479-98a8-db59c7960ef0",
   "metadata": {},
   "outputs": [
    {
     "data": {
      "text/plain": [
       "5"
      ]
     },
     "execution_count": 20,
     "metadata": {},
     "output_type": "execute_result"
    }
   ],
   "source": [
    "b = 0b101\n",
    "b"
   ]
  },
  {
   "cell_type": "code",
   "execution_count": 21,
   "id": "ecd759f1-b881-489a-b271-98b3b49ed590",
   "metadata": {},
   "outputs": [
    {
     "data": {
      "text/plain": [
       "5"
      ]
     },
     "execution_count": 21,
     "metadata": {},
     "output_type": "execute_result"
    }
   ],
   "source": [
    "c = 0o5\n",
    "c"
   ]
  },
  {
   "cell_type": "code",
   "execution_count": 22,
   "id": "b0d46f52-ec49-41a2-ab7b-d0d4580e8515",
   "metadata": {},
   "outputs": [
    {
     "data": {
      "text/plain": [
       "5"
      ]
     },
     "execution_count": 22,
     "metadata": {},
     "output_type": "execute_result"
    }
   ],
   "source": [
    "d = 0x5\n",
    "d"
   ]
  },
  {
   "cell_type": "code",
   "execution_count": 26,
   "id": "92677dca-9c8e-4ea9-8aa8-965f8f63d556",
   "metadata": {},
   "outputs": [
    {
     "ename": "SyntaxError",
     "evalue": "unterminated string literal (detected at line 1) (1216815767.py, line 1)",
     "output_type": "error",
     "traceback": [
      "\u001b[1;36m  Cell \u001b[1;32mIn[26], line 1\u001b[1;36m\u001b[0m\n\u001b[1;33m    a = 'python\u001b[0m\n\u001b[1;37m        ^\u001b[0m\n\u001b[1;31mSyntaxError\u001b[0m\u001b[1;31m:\u001b[0m unterminated string literal (detected at line 1)\n"
     ]
    }
   ],
   "source": [
    "a = 'python'\n",
    "b = \"56\"\n",
    "print(a)"
   ]
  },
  {
   "cell_type": "code",
   "execution_count": 24,
   "id": "287c6530-f0f1-42d2-8d50-cf54db7ee950",
   "metadata": {},
   "outputs": [
    {
     "data": {
      "text/plain": [
       "'56'"
      ]
     },
     "execution_count": 24,
     "metadata": {},
     "output_type": "execute_result"
    }
   ],
   "source": []
  },
  {
   "cell_type": "code",
   "execution_count": 25,
   "id": "74d80397-b1d8-4e24-9a13-65fed0bd3e72",
   "metadata": {},
   "outputs": [
    {
     "data": {
      "text/plain": [
       "' hello world '"
      ]
     },
     "execution_count": 25,
     "metadata": {},
     "output_type": "execute_result"
    }
   ],
   "source": [
    "c = \"\"\" hello world \"\"\"\n",
    "c"
   ]
  },
  {
   "cell_type": "code",
   "execution_count": 27,
   "id": "9c580842-7527-4c72-b997-88f3ba445f2f",
   "metadata": {},
   "outputs": [
    {
     "name": "stdout",
     "output_type": "stream",
     "text": [
      "\n",
      "the python is a\n",
      "high levle programming \n",
      "lanugage\n",
      "interpretted \n",
      "platform indepented\n",
      "\n"
     ]
    }
   ],
   "source": [
    "d = \"\"\"\n",
    "the python is a\n",
    "high levle programming \n",
    "lanugage\n",
    "interpretted \n",
    "platform indepented\n",
    "\"\"\"\n",
    "\n",
    "print(d)"
   ]
  },
  {
   "cell_type": "code",
   "execution_count": null,
   "id": "38812c64-5378-4d06-8f28-ba0edf94d53b",
   "metadata": {},
   "outputs": [],
   "source": []
  }
 ],
 "metadata": {
  "kernelspec": {
   "display_name": "Python 3 (ipykernel)",
   "language": "python",
   "name": "python3"
  },
  "language_info": {
   "codemirror_mode": {
    "name": "ipython",
    "version": 3
   },
   "file_extension": ".py",
   "mimetype": "text/x-python",
   "name": "python",
   "nbconvert_exporter": "python",
   "pygments_lexer": "ipython3",
   "version": "3.11.4"
  }
 },
 "nbformat": 4,
 "nbformat_minor": 5
}
