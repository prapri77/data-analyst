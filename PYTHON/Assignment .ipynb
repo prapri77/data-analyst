{
 "cells": [
  {
   "cell_type": "code",
   "execution_count": 1,
   "id": "bff89218-566c-469e-be4c-908286c3b8dd",
   "metadata": {},
   "outputs": [
    {
     "name": "stdout",
     "output_type": "stream",
     "text": [
      "0b10000\n",
      "0o20\n",
      "0x10\n",
      "16\n",
      "True\n",
      "16.0\n",
      "(16+0j)\n"
     ]
    }
   ],
   "source": [
    "a = 16 #integers to others\n",
    "print(bin(a))\n",
    "print(oct(a))\n",
    "print(hex(a))\n",
    "print(str(a))\n",
    "print(bool(a))\n",
    "print(float(a))\n",
    "print(complex(a))"
   ]
  },
  {
   "cell_type": "code",
   "execution_count": 4,
   "id": "2e1d3ca3-8216-4354-bed2-b57dbd0bb998",
   "metadata": {},
   "outputs": [
    {
     "name": "stdout",
     "output_type": "stream",
     "text": [
      "0o303240\n",
      "0x186a0\n",
      "100000\n",
      "True\n",
      "100000\n",
      "100000.0\n",
      "(100000+0j)\n"
     ]
    }
   ],
   "source": [
    "a = 100000    # binary to others\n",
    "print(oct(a))\n",
    "print(hex(a))\n",
    "print(str(a))\n",
    "print(bool(a))\n",
    "print(int(a))\n",
    "print(float(a))\n",
    "print(complex(a))"
   ]
  },
  {
   "cell_type": "code",
   "execution_count": 11,
   "id": "8f256cf7-ef08-48b0-8803-2054794b1dbc",
   "metadata": {},
   "outputs": [
    {
     "name": "stdout",
     "output_type": "stream",
     "text": [
      "0b1110\n",
      "0xe\n",
      "14\n",
      "True\n",
      "14\n",
      "14.0\n",
      "(14+0j)\n"
     ]
    }
   ],
   "source": [
    "b = 0o303240 #octal to others\n",
    "print(bin(a))\n",
    "print(hex(a))\n",
    "print(str(a))\n",
    "print(bool(a))\n",
    "print(int(a))\n",
    "print(float(a))\n",
    "print(complex(a))"
   ]
  },
  {
   "cell_type": "code",
   "execution_count": 15,
   "id": "5cb1f102-9590-4e1e-b0fa-c01008db4b93",
   "metadata": {},
   "outputs": [
    {
     "name": "stdout",
     "output_type": "stream",
     "text": [
      "0b11000011010100000\n",
      "0o303240\n",
      "100000\n",
      "100000\n",
      "True\n",
      "100000.0\n",
      "(100000+0j)\n"
     ]
    }
   ],
   "source": [
    "c = 0x186a0 # hexadecimal to others\n",
    "print(bin(c))\n",
    "print(oct(c))\n",
    "print(int(c))\n",
    "print(str(c))\n",
    "print(bool(c))\n",
    "print(float(c))\n",
    "print(complex(c))"
   ]
  },
  {
   "cell_type": "code",
   "execution_count": 16,
   "id": "806b9d3c-6cda-4d50-9926-f7f10923ffc1",
   "metadata": {},
   "outputs": [
    {
     "name": "stdout",
     "output_type": "stream",
     "text": [
      "0b11000011010100000\n",
      "0o303240\n",
      "100000\n",
      "100000\n",
      "True\n",
      "100000.0\n",
      "100000\n"
     ]
    }
   ],
   "source": [
    "d = 5+4j    #complex to others\n",
    "print(bin(c))\n",
    "print(oct(c))\n",
    "print(int(c))\n",
    "print(str(c))\n",
    "print(bool(c))\n",
    "print(float(c))\n",
    "print(int(c))"
   ]
  },
  {
   "cell_type": "code",
   "execution_count": 17,
   "id": "37a589f0-e6fe-4279-b772-02aa58962226",
   "metadata": {},
   "outputs": [
    {
     "name": "stdout",
     "output_type": "stream",
     "text": [
      "0b1\n",
      "0o1\n",
      "1\n",
      "True\n",
      "(1+0j)\n",
      "1.0\n",
      "1\n"
     ]
    }
   ],
   "source": [
    "c = True  #boolean to others\n",
    "print(bin(c))\n",
    "print(oct(c))\n",
    "print(int(c))\n",
    "print(str(c))\n",
    "print(complex(c))\n",
    "print(float(c))\n",
    "print(int(c))"
   ]
  },
  {
   "cell_type": "code",
   "execution_count": 18,
   "id": "5fe59e76-d9e2-4540-b587-bec01b91c2bd",
   "metadata": {},
   "outputs": [
    {
     "name": "stdout",
     "output_type": "stream",
     "text": [
      "0b0\n",
      "0o0\n",
      "0\n",
      "False\n",
      "0j\n",
      "0.0\n",
      "0\n"
     ]
    }
   ],
   "source": [
    "c = False         #boolean to others\n",
    "print(bin(c))\n",
    "print(oct(c))\n",
    "print(int(c))\n",
    "print(str(c))\n",
    "print(complex(c))\n",
    "print(float(c))\n",
    "print(int(c))"
   ]
  },
  {
   "cell_type": "code",
   "execution_count": 20,
   "id": "73d5cbb8-301a-430d-97d9-302297631a3d",
   "metadata": {},
   "outputs": [
    {
     "name": "stdout",
     "output_type": "stream",
     "text": [
      "0b0\n",
      "0o0\n",
      "False\n",
      "0j\n",
      "False\n",
      "0\n",
      "0x0\n"
     ]
    }
   ],
   "source": [
    "a = 98.56 #float to others\n",
    "print(bin(c))\n",
    "print(oct(c))\n",
    "print(str(c))\n",
    "print(complex(c))\n",
    "print(bool(c))\n",
    "print(int(c))\n",
    "print(hex(c))"
   ]
  },
  {
   "cell_type": "code",
   "execution_count": 24,
   "id": "bd21d662-166f-49d4-ac25-d2a68c585eb7",
   "metadata": {},
   "outputs": [
    {
     "name": "stdout",
     "output_type": "stream",
     "text": [
      "(89+0j)\n",
      "True\n",
      "89\n"
     ]
    }
   ],
   "source": [
    "d = '89' #string to others\n",
    "print(complex(d))\n",
    "print(bool(d))\n",
    "print(int(d))"
   ]
  },
  {
   "cell_type": "code",
   "execution_count": null,
   "id": "faeead1b-0357-46e2-938a-271f445afcd7",
   "metadata": {},
   "outputs": [],
   "source": []
  }
 ],
 "metadata": {
  "kernelspec": {
   "display_name": "Python 3 (ipykernel)",
   "language": "python",
   "name": "python3"
  },
  "language_info": {
   "codemirror_mode": {
    "name": "ipython",
    "version": 3
   },
   "file_extension": ".py",
   "mimetype": "text/x-python",
   "name": "python",
   "nbconvert_exporter": "python",
   "pygments_lexer": "ipython3",
   "version": "3.13.5"
  }
 },
 "nbformat": 4,
 "nbformat_minor": 5
}
